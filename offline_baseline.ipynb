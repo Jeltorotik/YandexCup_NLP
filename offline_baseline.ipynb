{
  "nbformat": 4,
  "nbformat_minor": 5,
  "metadata": {
    "accelerator": "GPU",
    "colab": {
      "name": "offline_baseline.ipynb",
      "provenance": [],
      "collapsed_sections": [
        "1Iis-3crv-zT"
      ]
    },
    "kernelspec": {
      "display_name": "Python 3",
      "language": "python",
      "name": "python3"
    },
    "language_info": {
      "codemirror_mode": {
        "name": "ipython",
        "version": 3
      },
      "file_extension": ".py",
      "mimetype": "text/x-python",
      "name": "python",
      "nbconvert_exporter": "python",
      "pygments_lexer": "ipython3",
      "version": "3.7.9"
    },
    "widgets": {
      "application/vnd.jupyter.widget-state+json": {
        "1cb4d479e9d94525b37bb20959cb746f": {
          "model_module": "@jupyter-widgets/controls",
          "model_name": "HBoxModel",
          "model_module_version": "1.5.0",
          "state": {
            "_view_name": "HBoxView",
            "_dom_classes": [],
            "_model_name": "HBoxModel",
            "_view_module": "@jupyter-widgets/controls",
            "_model_module_version": "1.5.0",
            "_view_count": null,
            "_view_module_version": "1.5.0",
            "box_style": "",
            "layout": "IPY_MODEL_08d526d2f14842adacf05d39527a4a27",
            "_model_module": "@jupyter-widgets/controls",
            "children": [
              "IPY_MODEL_df00e943aaee4330a92bf89bf36c0842",
              "IPY_MODEL_dc05ed514ed74cd7b98cbf03e93c2de4",
              "IPY_MODEL_e0ab100bc72342a29257b985cb8122c1"
            ]
          }
        },
        "08d526d2f14842adacf05d39527a4a27": {
          "model_module": "@jupyter-widgets/base",
          "model_name": "LayoutModel",
          "model_module_version": "1.2.0",
          "state": {
            "_view_name": "LayoutView",
            "grid_template_rows": null,
            "right": null,
            "justify_content": null,
            "_view_module": "@jupyter-widgets/base",
            "overflow": null,
            "_model_module_version": "1.2.0",
            "_view_count": null,
            "flex_flow": null,
            "width": null,
            "min_width": null,
            "border": null,
            "align_items": null,
            "bottom": null,
            "_model_module": "@jupyter-widgets/base",
            "top": null,
            "grid_column": null,
            "overflow_y": null,
            "overflow_x": null,
            "grid_auto_flow": null,
            "grid_area": null,
            "grid_template_columns": null,
            "flex": null,
            "_model_name": "LayoutModel",
            "justify_items": null,
            "grid_row": null,
            "max_height": null,
            "align_content": null,
            "visibility": null,
            "align_self": null,
            "height": null,
            "min_height": null,
            "padding": null,
            "grid_auto_rows": null,
            "grid_gap": null,
            "max_width": null,
            "order": null,
            "_view_module_version": "1.2.0",
            "grid_template_areas": null,
            "object_position": null,
            "object_fit": null,
            "grid_auto_columns": null,
            "margin": null,
            "display": null,
            "left": null
          }
        },
        "df00e943aaee4330a92bf89bf36c0842": {
          "model_module": "@jupyter-widgets/controls",
          "model_name": "HTMLModel",
          "model_module_version": "1.5.0",
          "state": {
            "_view_name": "HTMLView",
            "style": "IPY_MODEL_b02fcaf97f7d416a99deead955c69cf0",
            "_dom_classes": [],
            "description": "",
            "_model_name": "HTMLModel",
            "placeholder": "​",
            "_view_module": "@jupyter-widgets/controls",
            "_model_module_version": "1.5.0",
            "value": "100%",
            "_view_count": null,
            "_view_module_version": "1.5.0",
            "description_tooltip": null,
            "_model_module": "@jupyter-widgets/controls",
            "layout": "IPY_MODEL_900adbc8fe624b3d80b6a48fac4b1e0b"
          }
        },
        "dc05ed514ed74cd7b98cbf03e93c2de4": {
          "model_module": "@jupyter-widgets/controls",
          "model_name": "FloatProgressModel",
          "model_module_version": "1.5.0",
          "state": {
            "_view_name": "ProgressView",
            "style": "IPY_MODEL_732274273fda4c70b834e191f9104b04",
            "_dom_classes": [],
            "description": "",
            "_model_name": "FloatProgressModel",
            "bar_style": "success",
            "max": 25,
            "_view_module": "@jupyter-widgets/controls",
            "_model_module_version": "1.5.0",
            "value": 25,
            "_view_count": null,
            "_view_module_version": "1.5.0",
            "orientation": "horizontal",
            "min": 0,
            "description_tooltip": null,
            "_model_module": "@jupyter-widgets/controls",
            "layout": "IPY_MODEL_8e3c6155e91a4be2803102929f4014d1"
          }
        },
        "e0ab100bc72342a29257b985cb8122c1": {
          "model_module": "@jupyter-widgets/controls",
          "model_name": "HTMLModel",
          "model_module_version": "1.5.0",
          "state": {
            "_view_name": "HTMLView",
            "style": "IPY_MODEL_da70c51f61b54d4191802d96e9beeba1",
            "_dom_classes": [],
            "description": "",
            "_model_name": "HTMLModel",
            "placeholder": "​",
            "_view_module": "@jupyter-widgets/controls",
            "_model_module_version": "1.5.0",
            "value": " 25/25 [00:13&lt;00:00,  1.46it/s]",
            "_view_count": null,
            "_view_module_version": "1.5.0",
            "description_tooltip": null,
            "_model_module": "@jupyter-widgets/controls",
            "layout": "IPY_MODEL_8ab380a0466c4ee88c98fc481c88af11"
          }
        },
        "b02fcaf97f7d416a99deead955c69cf0": {
          "model_module": "@jupyter-widgets/controls",
          "model_name": "DescriptionStyleModel",
          "model_module_version": "1.5.0",
          "state": {
            "_view_name": "StyleView",
            "_model_name": "DescriptionStyleModel",
            "description_width": "",
            "_view_module": "@jupyter-widgets/base",
            "_model_module_version": "1.5.0",
            "_view_count": null,
            "_view_module_version": "1.2.0",
            "_model_module": "@jupyter-widgets/controls"
          }
        },
        "900adbc8fe624b3d80b6a48fac4b1e0b": {
          "model_module": "@jupyter-widgets/base",
          "model_name": "LayoutModel",
          "model_module_version": "1.2.0",
          "state": {
            "_view_name": "LayoutView",
            "grid_template_rows": null,
            "right": null,
            "justify_content": null,
            "_view_module": "@jupyter-widgets/base",
            "overflow": null,
            "_model_module_version": "1.2.0",
            "_view_count": null,
            "flex_flow": null,
            "width": null,
            "min_width": null,
            "border": null,
            "align_items": null,
            "bottom": null,
            "_model_module": "@jupyter-widgets/base",
            "top": null,
            "grid_column": null,
            "overflow_y": null,
            "overflow_x": null,
            "grid_auto_flow": null,
            "grid_area": null,
            "grid_template_columns": null,
            "flex": null,
            "_model_name": "LayoutModel",
            "justify_items": null,
            "grid_row": null,
            "max_height": null,
            "align_content": null,
            "visibility": null,
            "align_self": null,
            "height": null,
            "min_height": null,
            "padding": null,
            "grid_auto_rows": null,
            "grid_gap": null,
            "max_width": null,
            "order": null,
            "_view_module_version": "1.2.0",
            "grid_template_areas": null,
            "object_position": null,
            "object_fit": null,
            "grid_auto_columns": null,
            "margin": null,
            "display": null,
            "left": null
          }
        },
        "732274273fda4c70b834e191f9104b04": {
          "model_module": "@jupyter-widgets/controls",
          "model_name": "ProgressStyleModel",
          "model_module_version": "1.5.0",
          "state": {
            "_view_name": "StyleView",
            "_model_name": "ProgressStyleModel",
            "description_width": "",
            "_view_module": "@jupyter-widgets/base",
            "_model_module_version": "1.5.0",
            "_view_count": null,
            "_view_module_version": "1.2.0",
            "bar_color": null,
            "_model_module": "@jupyter-widgets/controls"
          }
        },
        "8e3c6155e91a4be2803102929f4014d1": {
          "model_module": "@jupyter-widgets/base",
          "model_name": "LayoutModel",
          "model_module_version": "1.2.0",
          "state": {
            "_view_name": "LayoutView",
            "grid_template_rows": null,
            "right": null,
            "justify_content": null,
            "_view_module": "@jupyter-widgets/base",
            "overflow": null,
            "_model_module_version": "1.2.0",
            "_view_count": null,
            "flex_flow": null,
            "width": null,
            "min_width": null,
            "border": null,
            "align_items": null,
            "bottom": null,
            "_model_module": "@jupyter-widgets/base",
            "top": null,
            "grid_column": null,
            "overflow_y": null,
            "overflow_x": null,
            "grid_auto_flow": null,
            "grid_area": null,
            "grid_template_columns": null,
            "flex": null,
            "_model_name": "LayoutModel",
            "justify_items": null,
            "grid_row": null,
            "max_height": null,
            "align_content": null,
            "visibility": null,
            "align_self": null,
            "height": null,
            "min_height": null,
            "padding": null,
            "grid_auto_rows": null,
            "grid_gap": null,
            "max_width": null,
            "order": null,
            "_view_module_version": "1.2.0",
            "grid_template_areas": null,
            "object_position": null,
            "object_fit": null,
            "grid_auto_columns": null,
            "margin": null,
            "display": null,
            "left": null
          }
        },
        "da70c51f61b54d4191802d96e9beeba1": {
          "model_module": "@jupyter-widgets/controls",
          "model_name": "DescriptionStyleModel",
          "model_module_version": "1.5.0",
          "state": {
            "_view_name": "StyleView",
            "_model_name": "DescriptionStyleModel",
            "description_width": "",
            "_view_module": "@jupyter-widgets/base",
            "_model_module_version": "1.5.0",
            "_view_count": null,
            "_view_module_version": "1.2.0",
            "_model_module": "@jupyter-widgets/controls"
          }
        },
        "8ab380a0466c4ee88c98fc481c88af11": {
          "model_module": "@jupyter-widgets/base",
          "model_name": "LayoutModel",
          "model_module_version": "1.2.0",
          "state": {
            "_view_name": "LayoutView",
            "grid_template_rows": null,
            "right": null,
            "justify_content": null,
            "_view_module": "@jupyter-widgets/base",
            "overflow": null,
            "_model_module_version": "1.2.0",
            "_view_count": null,
            "flex_flow": null,
            "width": null,
            "min_width": null,
            "border": null,
            "align_items": null,
            "bottom": null,
            "_model_module": "@jupyter-widgets/base",
            "top": null,
            "grid_column": null,
            "overflow_y": null,
            "overflow_x": null,
            "grid_auto_flow": null,
            "grid_area": null,
            "grid_template_columns": null,
            "flex": null,
            "_model_name": "LayoutModel",
            "justify_items": null,
            "grid_row": null,
            "max_height": null,
            "align_content": null,
            "visibility": null,
            "align_self": null,
            "height": null,
            "min_height": null,
            "padding": null,
            "grid_auto_rows": null,
            "grid_gap": null,
            "max_width": null,
            "order": null,
            "_view_module_version": "1.2.0",
            "grid_template_areas": null,
            "object_position": null,
            "object_fit": null,
            "grid_auto_columns": null,
            "margin": null,
            "display": null,
            "left": null
          }
        },
        "df93cbcb22fd44b8a424854951bce953": {
          "model_module": "@jupyter-widgets/controls",
          "model_name": "HBoxModel",
          "model_module_version": "1.5.0",
          "state": {
            "_view_name": "HBoxView",
            "_dom_classes": [],
            "_model_name": "HBoxModel",
            "_view_module": "@jupyter-widgets/controls",
            "_model_module_version": "1.5.0",
            "_view_count": null,
            "_view_module_version": "1.5.0",
            "box_style": "",
            "layout": "IPY_MODEL_cf35f45ea35a43d7902cfb5cd505c19c",
            "_model_module": "@jupyter-widgets/controls",
            "children": [
              "IPY_MODEL_278b8ade188846b5b159b001ef80efd7",
              "IPY_MODEL_4c99f67e38a949618b16b22adf921275",
              "IPY_MODEL_109fc8454040460f8adf0bdf7aa402b9"
            ]
          }
        },
        "cf35f45ea35a43d7902cfb5cd505c19c": {
          "model_module": "@jupyter-widgets/base",
          "model_name": "LayoutModel",
          "model_module_version": "1.2.0",
          "state": {
            "_view_name": "LayoutView",
            "grid_template_rows": null,
            "right": null,
            "justify_content": null,
            "_view_module": "@jupyter-widgets/base",
            "overflow": null,
            "_model_module_version": "1.2.0",
            "_view_count": null,
            "flex_flow": null,
            "width": null,
            "min_width": null,
            "border": null,
            "align_items": null,
            "bottom": null,
            "_model_module": "@jupyter-widgets/base",
            "top": null,
            "grid_column": null,
            "overflow_y": null,
            "overflow_x": null,
            "grid_auto_flow": null,
            "grid_area": null,
            "grid_template_columns": null,
            "flex": null,
            "_model_name": "LayoutModel",
            "justify_items": null,
            "grid_row": null,
            "max_height": null,
            "align_content": null,
            "visibility": null,
            "align_self": null,
            "height": null,
            "min_height": null,
            "padding": null,
            "grid_auto_rows": null,
            "grid_gap": null,
            "max_width": null,
            "order": null,
            "_view_module_version": "1.2.0",
            "grid_template_areas": null,
            "object_position": null,
            "object_fit": null,
            "grid_auto_columns": null,
            "margin": null,
            "display": null,
            "left": null
          }
        },
        "278b8ade188846b5b159b001ef80efd7": {
          "model_module": "@jupyter-widgets/controls",
          "model_name": "HTMLModel",
          "model_module_version": "1.5.0",
          "state": {
            "_view_name": "HTMLView",
            "style": "IPY_MODEL_f02067014b7b40a79fa39c2f0b64e823",
            "_dom_classes": [],
            "description": "",
            "_model_name": "HTMLModel",
            "placeholder": "​",
            "_view_module": "@jupyter-widgets/controls",
            "_model_module_version": "1.5.0",
            "value": "100%",
            "_view_count": null,
            "_view_module_version": "1.5.0",
            "description_tooltip": null,
            "_model_module": "@jupyter-widgets/controls",
            "layout": "IPY_MODEL_f20d44a70d81494d95bf3d0a0e255f34"
          }
        },
        "4c99f67e38a949618b16b22adf921275": {
          "model_module": "@jupyter-widgets/controls",
          "model_name": "FloatProgressModel",
          "model_module_version": "1.5.0",
          "state": {
            "_view_name": "ProgressView",
            "style": "IPY_MODEL_fcbf6cb4feda44faaf25d3fcee12e4e0",
            "_dom_classes": [],
            "description": "",
            "_model_name": "FloatProgressModel",
            "bar_style": "success",
            "max": 1627,
            "_view_module": "@jupyter-widgets/controls",
            "_model_module_version": "1.5.0",
            "value": 1627,
            "_view_count": null,
            "_view_module_version": "1.5.0",
            "orientation": "horizontal",
            "min": 0,
            "description_tooltip": null,
            "_model_module": "@jupyter-widgets/controls",
            "layout": "IPY_MODEL_6e74d438035647f99896ece549f9eef4"
          }
        },
        "109fc8454040460f8adf0bdf7aa402b9": {
          "model_module": "@jupyter-widgets/controls",
          "model_name": "HTMLModel",
          "model_module_version": "1.5.0",
          "state": {
            "_view_name": "HTMLView",
            "style": "IPY_MODEL_8f6792c5de9a4c1db061bad55be6b5d4",
            "_dom_classes": [],
            "description": "",
            "_model_name": "HTMLModel",
            "placeholder": "​",
            "_view_module": "@jupyter-widgets/controls",
            "_model_module_version": "1.5.0",
            "value": " 1627/1627.0 [01:14&lt;00:00, 23.19it/s]",
            "_view_count": null,
            "_view_module_version": "1.5.0",
            "description_tooltip": null,
            "_model_module": "@jupyter-widgets/controls",
            "layout": "IPY_MODEL_ab7475a9cbd84996aceda98d491c7733"
          }
        },
        "f02067014b7b40a79fa39c2f0b64e823": {
          "model_module": "@jupyter-widgets/controls",
          "model_name": "DescriptionStyleModel",
          "model_module_version": "1.5.0",
          "state": {
            "_view_name": "StyleView",
            "_model_name": "DescriptionStyleModel",
            "description_width": "",
            "_view_module": "@jupyter-widgets/base",
            "_model_module_version": "1.5.0",
            "_view_count": null,
            "_view_module_version": "1.2.0",
            "_model_module": "@jupyter-widgets/controls"
          }
        },
        "f20d44a70d81494d95bf3d0a0e255f34": {
          "model_module": "@jupyter-widgets/base",
          "model_name": "LayoutModel",
          "model_module_version": "1.2.0",
          "state": {
            "_view_name": "LayoutView",
            "grid_template_rows": null,
            "right": null,
            "justify_content": null,
            "_view_module": "@jupyter-widgets/base",
            "overflow": null,
            "_model_module_version": "1.2.0",
            "_view_count": null,
            "flex_flow": null,
            "width": null,
            "min_width": null,
            "border": null,
            "align_items": null,
            "bottom": null,
            "_model_module": "@jupyter-widgets/base",
            "top": null,
            "grid_column": null,
            "overflow_y": null,
            "overflow_x": null,
            "grid_auto_flow": null,
            "grid_area": null,
            "grid_template_columns": null,
            "flex": null,
            "_model_name": "LayoutModel",
            "justify_items": null,
            "grid_row": null,
            "max_height": null,
            "align_content": null,
            "visibility": null,
            "align_self": null,
            "height": null,
            "min_height": null,
            "padding": null,
            "grid_auto_rows": null,
            "grid_gap": null,
            "max_width": null,
            "order": null,
            "_view_module_version": "1.2.0",
            "grid_template_areas": null,
            "object_position": null,
            "object_fit": null,
            "grid_auto_columns": null,
            "margin": null,
            "display": null,
            "left": null
          }
        },
        "fcbf6cb4feda44faaf25d3fcee12e4e0": {
          "model_module": "@jupyter-widgets/controls",
          "model_name": "ProgressStyleModel",
          "model_module_version": "1.5.0",
          "state": {
            "_view_name": "StyleView",
            "_model_name": "ProgressStyleModel",
            "description_width": "",
            "_view_module": "@jupyter-widgets/base",
            "_model_module_version": "1.5.0",
            "_view_count": null,
            "_view_module_version": "1.2.0",
            "bar_color": null,
            "_model_module": "@jupyter-widgets/controls"
          }
        },
        "6e74d438035647f99896ece549f9eef4": {
          "model_module": "@jupyter-widgets/base",
          "model_name": "LayoutModel",
          "model_module_version": "1.2.0",
          "state": {
            "_view_name": "LayoutView",
            "grid_template_rows": null,
            "right": null,
            "justify_content": null,
            "_view_module": "@jupyter-widgets/base",
            "overflow": null,
            "_model_module_version": "1.2.0",
            "_view_count": null,
            "flex_flow": null,
            "width": null,
            "min_width": null,
            "border": null,
            "align_items": null,
            "bottom": null,
            "_model_module": "@jupyter-widgets/base",
            "top": null,
            "grid_column": null,
            "overflow_y": null,
            "overflow_x": null,
            "grid_auto_flow": null,
            "grid_area": null,
            "grid_template_columns": null,
            "flex": null,
            "_model_name": "LayoutModel",
            "justify_items": null,
            "grid_row": null,
            "max_height": null,
            "align_content": null,
            "visibility": null,
            "align_self": null,
            "height": null,
            "min_height": null,
            "padding": null,
            "grid_auto_rows": null,
            "grid_gap": null,
            "max_width": null,
            "order": null,
            "_view_module_version": "1.2.0",
            "grid_template_areas": null,
            "object_position": null,
            "object_fit": null,
            "grid_auto_columns": null,
            "margin": null,
            "display": null,
            "left": null
          }
        },
        "8f6792c5de9a4c1db061bad55be6b5d4": {
          "model_module": "@jupyter-widgets/controls",
          "model_name": "DescriptionStyleModel",
          "model_module_version": "1.5.0",
          "state": {
            "_view_name": "StyleView",
            "_model_name": "DescriptionStyleModel",
            "description_width": "",
            "_view_module": "@jupyter-widgets/base",
            "_model_module_version": "1.5.0",
            "_view_count": null,
            "_view_module_version": "1.2.0",
            "_model_module": "@jupyter-widgets/controls"
          }
        },
        "ab7475a9cbd84996aceda98d491c7733": {
          "model_module": "@jupyter-widgets/base",
          "model_name": "LayoutModel",
          "model_module_version": "1.2.0",
          "state": {
            "_view_name": "LayoutView",
            "grid_template_rows": null,
            "right": null,
            "justify_content": null,
            "_view_module": "@jupyter-widgets/base",
            "overflow": null,
            "_model_module_version": "1.2.0",
            "_view_count": null,
            "flex_flow": null,
            "width": null,
            "min_width": null,
            "border": null,
            "align_items": null,
            "bottom": null,
            "_model_module": "@jupyter-widgets/base",
            "top": null,
            "grid_column": null,
            "overflow_y": null,
            "overflow_x": null,
            "grid_auto_flow": null,
            "grid_area": null,
            "grid_template_columns": null,
            "flex": null,
            "_model_name": "LayoutModel",
            "justify_items": null,
            "grid_row": null,
            "max_height": null,
            "align_content": null,
            "visibility": null,
            "align_self": null,
            "height": null,
            "min_height": null,
            "padding": null,
            "grid_auto_rows": null,
            "grid_gap": null,
            "max_width": null,
            "order": null,
            "_view_module_version": "1.2.0",
            "grid_template_areas": null,
            "object_position": null,
            "object_fit": null,
            "grid_auto_columns": null,
            "margin": null,
            "display": null,
            "left": null
          }
        },
        "45a663dab0d544b68fa2c0156b8dd2a6": {
          "model_module": "@jupyter-widgets/controls",
          "model_name": "HBoxModel",
          "model_module_version": "1.5.0",
          "state": {
            "_view_name": "HBoxView",
            "_dom_classes": [],
            "_model_name": "HBoxModel",
            "_view_module": "@jupyter-widgets/controls",
            "_model_module_version": "1.5.0",
            "_view_count": null,
            "_view_module_version": "1.5.0",
            "box_style": "",
            "layout": "IPY_MODEL_b1f2f6ecf13c4942bfa6ef6909f94099",
            "_model_module": "@jupyter-widgets/controls",
            "children": [
              "IPY_MODEL_ad33fbadae5243a99b7611e342fbaacf",
              "IPY_MODEL_45cc60b3b4f6484c922d666532cc124a",
              "IPY_MODEL_af62676cdacb467d8030432a27c1b2a7"
            ]
          }
        },
        "b1f2f6ecf13c4942bfa6ef6909f94099": {
          "model_module": "@jupyter-widgets/base",
          "model_name": "LayoutModel",
          "model_module_version": "1.2.0",
          "state": {
            "_view_name": "LayoutView",
            "grid_template_rows": null,
            "right": null,
            "justify_content": null,
            "_view_module": "@jupyter-widgets/base",
            "overflow": null,
            "_model_module_version": "1.2.0",
            "_view_count": null,
            "flex_flow": null,
            "width": null,
            "min_width": null,
            "border": null,
            "align_items": null,
            "bottom": null,
            "_model_module": "@jupyter-widgets/base",
            "top": null,
            "grid_column": null,
            "overflow_y": null,
            "overflow_x": null,
            "grid_auto_flow": null,
            "grid_area": null,
            "grid_template_columns": null,
            "flex": null,
            "_model_name": "LayoutModel",
            "justify_items": null,
            "grid_row": null,
            "max_height": null,
            "align_content": null,
            "visibility": null,
            "align_self": null,
            "height": null,
            "min_height": null,
            "padding": null,
            "grid_auto_rows": null,
            "grid_gap": null,
            "max_width": null,
            "order": null,
            "_view_module_version": "1.2.0",
            "grid_template_areas": null,
            "object_position": null,
            "object_fit": null,
            "grid_auto_columns": null,
            "margin": null,
            "display": null,
            "left": null
          }
        },
        "ad33fbadae5243a99b7611e342fbaacf": {
          "model_module": "@jupyter-widgets/controls",
          "model_name": "HTMLModel",
          "model_module_version": "1.5.0",
          "state": {
            "_view_name": "HTMLView",
            "style": "IPY_MODEL_fa35c44c73a3420fa8a699af5efb09c6",
            "_dom_classes": [],
            "description": "",
            "_model_name": "HTMLModel",
            "placeholder": "​",
            "_view_module": "@jupyter-widgets/controls",
            "_model_module_version": "1.5.0",
            "value": "100%",
            "_view_count": null,
            "_view_module_version": "1.5.0",
            "description_tooltip": null,
            "_model_module": "@jupyter-widgets/controls",
            "layout": "IPY_MODEL_499d6178a42c4c6484719f9fc74c8588"
          }
        },
        "45cc60b3b4f6484c922d666532cc124a": {
          "model_module": "@jupyter-widgets/controls",
          "model_name": "FloatProgressModel",
          "model_module_version": "1.5.0",
          "state": {
            "_view_name": "ProgressView",
            "style": "IPY_MODEL_28ea27167600428a97094f0843f5737e",
            "_dom_classes": [],
            "description": "",
            "_model_name": "FloatProgressModel",
            "bar_style": "success",
            "max": 50,
            "_view_module": "@jupyter-widgets/controls",
            "_model_module_version": "1.5.0",
            "value": 50,
            "_view_count": null,
            "_view_module_version": "1.5.0",
            "orientation": "horizontal",
            "min": 0,
            "description_tooltip": null,
            "_model_module": "@jupyter-widgets/controls",
            "layout": "IPY_MODEL_24e36b3be7f042f2acd1019408a01dbb"
          }
        },
        "af62676cdacb467d8030432a27c1b2a7": {
          "model_module": "@jupyter-widgets/controls",
          "model_name": "HTMLModel",
          "model_module_version": "1.5.0",
          "state": {
            "_view_name": "HTMLView",
            "style": "IPY_MODEL_41c7520a66b24fc78855fbe9cab258be",
            "_dom_classes": [],
            "description": "",
            "_model_name": "HTMLModel",
            "placeholder": "​",
            "_view_module": "@jupyter-widgets/controls",
            "_model_module_version": "1.5.0",
            "value": " 50/50 [01:40&lt;00:00,  3.13s/it]",
            "_view_count": null,
            "_view_module_version": "1.5.0",
            "description_tooltip": null,
            "_model_module": "@jupyter-widgets/controls",
            "layout": "IPY_MODEL_756753de09b949ca836f201f65478ae7"
          }
        },
        "fa35c44c73a3420fa8a699af5efb09c6": {
          "model_module": "@jupyter-widgets/controls",
          "model_name": "DescriptionStyleModel",
          "model_module_version": "1.5.0",
          "state": {
            "_view_name": "StyleView",
            "_model_name": "DescriptionStyleModel",
            "description_width": "",
            "_view_module": "@jupyter-widgets/base",
            "_model_module_version": "1.5.0",
            "_view_count": null,
            "_view_module_version": "1.2.0",
            "_model_module": "@jupyter-widgets/controls"
          }
        },
        "499d6178a42c4c6484719f9fc74c8588": {
          "model_module": "@jupyter-widgets/base",
          "model_name": "LayoutModel",
          "model_module_version": "1.2.0",
          "state": {
            "_view_name": "LayoutView",
            "grid_template_rows": null,
            "right": null,
            "justify_content": null,
            "_view_module": "@jupyter-widgets/base",
            "overflow": null,
            "_model_module_version": "1.2.0",
            "_view_count": null,
            "flex_flow": null,
            "width": null,
            "min_width": null,
            "border": null,
            "align_items": null,
            "bottom": null,
            "_model_module": "@jupyter-widgets/base",
            "top": null,
            "grid_column": null,
            "overflow_y": null,
            "overflow_x": null,
            "grid_auto_flow": null,
            "grid_area": null,
            "grid_template_columns": null,
            "flex": null,
            "_model_name": "LayoutModel",
            "justify_items": null,
            "grid_row": null,
            "max_height": null,
            "align_content": null,
            "visibility": null,
            "align_self": null,
            "height": null,
            "min_height": null,
            "padding": null,
            "grid_auto_rows": null,
            "grid_gap": null,
            "max_width": null,
            "order": null,
            "_view_module_version": "1.2.0",
            "grid_template_areas": null,
            "object_position": null,
            "object_fit": null,
            "grid_auto_columns": null,
            "margin": null,
            "display": null,
            "left": null
          }
        },
        "28ea27167600428a97094f0843f5737e": {
          "model_module": "@jupyter-widgets/controls",
          "model_name": "ProgressStyleModel",
          "model_module_version": "1.5.0",
          "state": {
            "_view_name": "StyleView",
            "_model_name": "ProgressStyleModel",
            "description_width": "",
            "_view_module": "@jupyter-widgets/base",
            "_model_module_version": "1.5.0",
            "_view_count": null,
            "_view_module_version": "1.2.0",
            "bar_color": null,
            "_model_module": "@jupyter-widgets/controls"
          }
        },
        "24e36b3be7f042f2acd1019408a01dbb": {
          "model_module": "@jupyter-widgets/base",
          "model_name": "LayoutModel",
          "model_module_version": "1.2.0",
          "state": {
            "_view_name": "LayoutView",
            "grid_template_rows": null,
            "right": null,
            "justify_content": null,
            "_view_module": "@jupyter-widgets/base",
            "overflow": null,
            "_model_module_version": "1.2.0",
            "_view_count": null,
            "flex_flow": null,
            "width": null,
            "min_width": null,
            "border": null,
            "align_items": null,
            "bottom": null,
            "_model_module": "@jupyter-widgets/base",
            "top": null,
            "grid_column": null,
            "overflow_y": null,
            "overflow_x": null,
            "grid_auto_flow": null,
            "grid_area": null,
            "grid_template_columns": null,
            "flex": null,
            "_model_name": "LayoutModel",
            "justify_items": null,
            "grid_row": null,
            "max_height": null,
            "align_content": null,
            "visibility": null,
            "align_self": null,
            "height": null,
            "min_height": null,
            "padding": null,
            "grid_auto_rows": null,
            "grid_gap": null,
            "max_width": null,
            "order": null,
            "_view_module_version": "1.2.0",
            "grid_template_areas": null,
            "object_position": null,
            "object_fit": null,
            "grid_auto_columns": null,
            "margin": null,
            "display": null,
            "left": null
          }
        },
        "41c7520a66b24fc78855fbe9cab258be": {
          "model_module": "@jupyter-widgets/controls",
          "model_name": "DescriptionStyleModel",
          "model_module_version": "1.5.0",
          "state": {
            "_view_name": "StyleView",
            "_model_name": "DescriptionStyleModel",
            "description_width": "",
            "_view_module": "@jupyter-widgets/base",
            "_model_module_version": "1.5.0",
            "_view_count": null,
            "_view_module_version": "1.2.0",
            "_model_module": "@jupyter-widgets/controls"
          }
        },
        "756753de09b949ca836f201f65478ae7": {
          "model_module": "@jupyter-widgets/base",
          "model_name": "LayoutModel",
          "model_module_version": "1.2.0",
          "state": {
            "_view_name": "LayoutView",
            "grid_template_rows": null,
            "right": null,
            "justify_content": null,
            "_view_module": "@jupyter-widgets/base",
            "overflow": null,
            "_model_module_version": "1.2.0",
            "_view_count": null,
            "flex_flow": null,
            "width": null,
            "min_width": null,
            "border": null,
            "align_items": null,
            "bottom": null,
            "_model_module": "@jupyter-widgets/base",
            "top": null,
            "grid_column": null,
            "overflow_y": null,
            "overflow_x": null,
            "grid_auto_flow": null,
            "grid_area": null,
            "grid_template_columns": null,
            "flex": null,
            "_model_name": "LayoutModel",
            "justify_items": null,
            "grid_row": null,
            "max_height": null,
            "align_content": null,
            "visibility": null,
            "align_self": null,
            "height": null,
            "min_height": null,
            "padding": null,
            "grid_auto_rows": null,
            "grid_gap": null,
            "max_width": null,
            "order": null,
            "_view_module_version": "1.2.0",
            "grid_template_areas": null,
            "object_position": null,
            "object_fit": null,
            "grid_auto_columns": null,
            "margin": null,
            "display": null,
            "left": null
          }
        },
        "8451110ed3344b83904f6c1ef33b0b0d": {
          "model_module": "@jupyter-widgets/controls",
          "model_name": "HBoxModel",
          "model_module_version": "1.5.0",
          "state": {
            "_view_name": "HBoxView",
            "_dom_classes": [],
            "_model_name": "HBoxModel",
            "_view_module": "@jupyter-widgets/controls",
            "_model_module_version": "1.5.0",
            "_view_count": null,
            "_view_module_version": "1.5.0",
            "box_style": "",
            "layout": "IPY_MODEL_26501541a7d343a7b01a6c4d8702aae3",
            "_model_module": "@jupyter-widgets/controls",
            "children": [
              "IPY_MODEL_94e4015ed1c4413693fc166a22fc9ac6",
              "IPY_MODEL_45ac07babef841cbb937f79d05f5c7c1",
              "IPY_MODEL_a418958f7ce342128964f2e57408825b"
            ]
          }
        },
        "26501541a7d343a7b01a6c4d8702aae3": {
          "model_module": "@jupyter-widgets/base",
          "model_name": "LayoutModel",
          "model_module_version": "1.2.0",
          "state": {
            "_view_name": "LayoutView",
            "grid_template_rows": null,
            "right": null,
            "justify_content": null,
            "_view_module": "@jupyter-widgets/base",
            "overflow": null,
            "_model_module_version": "1.2.0",
            "_view_count": null,
            "flex_flow": null,
            "width": null,
            "min_width": null,
            "border": null,
            "align_items": null,
            "bottom": null,
            "_model_module": "@jupyter-widgets/base",
            "top": null,
            "grid_column": null,
            "overflow_y": null,
            "overflow_x": null,
            "grid_auto_flow": null,
            "grid_area": null,
            "grid_template_columns": null,
            "flex": null,
            "_model_name": "LayoutModel",
            "justify_items": null,
            "grid_row": null,
            "max_height": null,
            "align_content": null,
            "visibility": null,
            "align_self": null,
            "height": null,
            "min_height": null,
            "padding": null,
            "grid_auto_rows": null,
            "grid_gap": null,
            "max_width": null,
            "order": null,
            "_view_module_version": "1.2.0",
            "grid_template_areas": null,
            "object_position": null,
            "object_fit": null,
            "grid_auto_columns": null,
            "margin": null,
            "display": null,
            "left": null
          }
        },
        "94e4015ed1c4413693fc166a22fc9ac6": {
          "model_module": "@jupyter-widgets/controls",
          "model_name": "HTMLModel",
          "model_module_version": "1.5.0",
          "state": {
            "_view_name": "HTMLView",
            "style": "IPY_MODEL_ad0c4d51e8e846f0bd145af5e6db45b2",
            "_dom_classes": [],
            "description": "",
            "_model_name": "HTMLModel",
            "placeholder": "​",
            "_view_module": "@jupyter-widgets/controls",
            "_model_module_version": "1.5.0",
            "value": "100%",
            "_view_count": null,
            "_view_module_version": "1.5.0",
            "description_tooltip": null,
            "_model_module": "@jupyter-widgets/controls",
            "layout": "IPY_MODEL_4e15b7c783984e83ac05ab44e1834bd2"
          }
        },
        "45ac07babef841cbb937f79d05f5c7c1": {
          "model_module": "@jupyter-widgets/controls",
          "model_name": "FloatProgressModel",
          "model_module_version": "1.5.0",
          "state": {
            "_view_name": "ProgressView",
            "style": "IPY_MODEL_f8f4d3d921bd4a22aaf49c4d84d5e8d1",
            "_dom_classes": [],
            "description": "",
            "_model_name": "FloatProgressModel",
            "bar_style": "success",
            "max": 2500,
            "_view_module": "@jupyter-widgets/controls",
            "_model_module_version": "1.5.0",
            "value": 2500,
            "_view_count": null,
            "_view_module_version": "1.5.0",
            "orientation": "horizontal",
            "min": 0,
            "description_tooltip": null,
            "_model_module": "@jupyter-widgets/controls",
            "layout": "IPY_MODEL_33ec3501f83f4b1fb6881096ccfe763b"
          }
        },
        "a418958f7ce342128964f2e57408825b": {
          "model_module": "@jupyter-widgets/controls",
          "model_name": "HTMLModel",
          "model_module_version": "1.5.0",
          "state": {
            "_view_name": "HTMLView",
            "style": "IPY_MODEL_d030401df76547eb994a8d065d0e9d71",
            "_dom_classes": [],
            "description": "",
            "_model_name": "HTMLModel",
            "placeholder": "​",
            "_view_module": "@jupyter-widgets/controls",
            "_model_module_version": "1.5.0",
            "value": " 2500/2500 [58:02&lt;00:00,  1.48s/it]",
            "_view_count": null,
            "_view_module_version": "1.5.0",
            "description_tooltip": null,
            "_model_module": "@jupyter-widgets/controls",
            "layout": "IPY_MODEL_3fb117265cc74a36868eb80b0c708566"
          }
        },
        "ad0c4d51e8e846f0bd145af5e6db45b2": {
          "model_module": "@jupyter-widgets/controls",
          "model_name": "DescriptionStyleModel",
          "model_module_version": "1.5.0",
          "state": {
            "_view_name": "StyleView",
            "_model_name": "DescriptionStyleModel",
            "description_width": "",
            "_view_module": "@jupyter-widgets/base",
            "_model_module_version": "1.5.0",
            "_view_count": null,
            "_view_module_version": "1.2.0",
            "_model_module": "@jupyter-widgets/controls"
          }
        },
        "4e15b7c783984e83ac05ab44e1834bd2": {
          "model_module": "@jupyter-widgets/base",
          "model_name": "LayoutModel",
          "model_module_version": "1.2.0",
          "state": {
            "_view_name": "LayoutView",
            "grid_template_rows": null,
            "right": null,
            "justify_content": null,
            "_view_module": "@jupyter-widgets/base",
            "overflow": null,
            "_model_module_version": "1.2.0",
            "_view_count": null,
            "flex_flow": null,
            "width": null,
            "min_width": null,
            "border": null,
            "align_items": null,
            "bottom": null,
            "_model_module": "@jupyter-widgets/base",
            "top": null,
            "grid_column": null,
            "overflow_y": null,
            "overflow_x": null,
            "grid_auto_flow": null,
            "grid_area": null,
            "grid_template_columns": null,
            "flex": null,
            "_model_name": "LayoutModel",
            "justify_items": null,
            "grid_row": null,
            "max_height": null,
            "align_content": null,
            "visibility": null,
            "align_self": null,
            "height": null,
            "min_height": null,
            "padding": null,
            "grid_auto_rows": null,
            "grid_gap": null,
            "max_width": null,
            "order": null,
            "_view_module_version": "1.2.0",
            "grid_template_areas": null,
            "object_position": null,
            "object_fit": null,
            "grid_auto_columns": null,
            "margin": null,
            "display": null,
            "left": null
          }
        },
        "f8f4d3d921bd4a22aaf49c4d84d5e8d1": {
          "model_module": "@jupyter-widgets/controls",
          "model_name": "ProgressStyleModel",
          "model_module_version": "1.5.0",
          "state": {
            "_view_name": "StyleView",
            "_model_name": "ProgressStyleModel",
            "description_width": "",
            "_view_module": "@jupyter-widgets/base",
            "_model_module_version": "1.5.0",
            "_view_count": null,
            "_view_module_version": "1.2.0",
            "bar_color": null,
            "_model_module": "@jupyter-widgets/controls"
          }
        },
        "33ec3501f83f4b1fb6881096ccfe763b": {
          "model_module": "@jupyter-widgets/base",
          "model_name": "LayoutModel",
          "model_module_version": "1.2.0",
          "state": {
            "_view_name": "LayoutView",
            "grid_template_rows": null,
            "right": null,
            "justify_content": null,
            "_view_module": "@jupyter-widgets/base",
            "overflow": null,
            "_model_module_version": "1.2.0",
            "_view_count": null,
            "flex_flow": null,
            "width": null,
            "min_width": null,
            "border": null,
            "align_items": null,
            "bottom": null,
            "_model_module": "@jupyter-widgets/base",
            "top": null,
            "grid_column": null,
            "overflow_y": null,
            "overflow_x": null,
            "grid_auto_flow": null,
            "grid_area": null,
            "grid_template_columns": null,
            "flex": null,
            "_model_name": "LayoutModel",
            "justify_items": null,
            "grid_row": null,
            "max_height": null,
            "align_content": null,
            "visibility": null,
            "align_self": null,
            "height": null,
            "min_height": null,
            "padding": null,
            "grid_auto_rows": null,
            "grid_gap": null,
            "max_width": null,
            "order": null,
            "_view_module_version": "1.2.0",
            "grid_template_areas": null,
            "object_position": null,
            "object_fit": null,
            "grid_auto_columns": null,
            "margin": null,
            "display": null,
            "left": null
          }
        },
        "d030401df76547eb994a8d065d0e9d71": {
          "model_module": "@jupyter-widgets/controls",
          "model_name": "DescriptionStyleModel",
          "model_module_version": "1.5.0",
          "state": {
            "_view_name": "StyleView",
            "_model_name": "DescriptionStyleModel",
            "description_width": "",
            "_view_module": "@jupyter-widgets/base",
            "_model_module_version": "1.5.0",
            "_view_count": null,
            "_view_module_version": "1.2.0",
            "_model_module": "@jupyter-widgets/controls"
          }
        },
        "3fb117265cc74a36868eb80b0c708566": {
          "model_module": "@jupyter-widgets/base",
          "model_name": "LayoutModel",
          "model_module_version": "1.2.0",
          "state": {
            "_view_name": "LayoutView",
            "grid_template_rows": null,
            "right": null,
            "justify_content": null,
            "_view_module": "@jupyter-widgets/base",
            "overflow": null,
            "_model_module_version": "1.2.0",
            "_view_count": null,
            "flex_flow": null,
            "width": null,
            "min_width": null,
            "border": null,
            "align_items": null,
            "bottom": null,
            "_model_module": "@jupyter-widgets/base",
            "top": null,
            "grid_column": null,
            "overflow_y": null,
            "overflow_x": null,
            "grid_auto_flow": null,
            "grid_area": null,
            "grid_template_columns": null,
            "flex": null,
            "_model_name": "LayoutModel",
            "justify_items": null,
            "grid_row": null,
            "max_height": null,
            "align_content": null,
            "visibility": null,
            "align_self": null,
            "height": null,
            "min_height": null,
            "padding": null,
            "grid_auto_rows": null,
            "grid_gap": null,
            "max_width": null,
            "order": null,
            "_view_module_version": "1.2.0",
            "grid_template_areas": null,
            "object_position": null,
            "object_fit": null,
            "grid_auto_columns": null,
            "margin": null,
            "display": null,
            "left": null
          }
        },
        "4bbc1102089b4ca4ba9f98053920f71c": {
          "model_module": "@jupyter-widgets/controls",
          "model_name": "HBoxModel",
          "model_module_version": "1.5.0",
          "state": {
            "_view_name": "HBoxView",
            "_dom_classes": [],
            "_model_name": "HBoxModel",
            "_view_module": "@jupyter-widgets/controls",
            "_model_module_version": "1.5.0",
            "_view_count": null,
            "_view_module_version": "1.5.0",
            "box_style": "",
            "layout": "IPY_MODEL_02f20c2991a7487698a75827d5af5793",
            "_model_module": "@jupyter-widgets/controls",
            "children": [
              "IPY_MODEL_79c81e608fae4f228a6f0f5a8741e781",
              "IPY_MODEL_f8e1fc8aabb448bca71ff17630373f4e",
              "IPY_MODEL_a863365913e347c889dde0453477e3cd"
            ]
          }
        },
        "02f20c2991a7487698a75827d5af5793": {
          "model_module": "@jupyter-widgets/base",
          "model_name": "LayoutModel",
          "model_module_version": "1.2.0",
          "state": {
            "_view_name": "LayoutView",
            "grid_template_rows": null,
            "right": null,
            "justify_content": null,
            "_view_module": "@jupyter-widgets/base",
            "overflow": null,
            "_model_module_version": "1.2.0",
            "_view_count": null,
            "flex_flow": null,
            "width": null,
            "min_width": null,
            "border": null,
            "align_items": null,
            "bottom": null,
            "_model_module": "@jupyter-widgets/base",
            "top": null,
            "grid_column": null,
            "overflow_y": null,
            "overflow_x": null,
            "grid_auto_flow": null,
            "grid_area": null,
            "grid_template_columns": null,
            "flex": null,
            "_model_name": "LayoutModel",
            "justify_items": null,
            "grid_row": null,
            "max_height": null,
            "align_content": null,
            "visibility": null,
            "align_self": null,
            "height": null,
            "min_height": null,
            "padding": null,
            "grid_auto_rows": null,
            "grid_gap": null,
            "max_width": null,
            "order": null,
            "_view_module_version": "1.2.0",
            "grid_template_areas": null,
            "object_position": null,
            "object_fit": null,
            "grid_auto_columns": null,
            "margin": null,
            "display": null,
            "left": null
          }
        },
        "79c81e608fae4f228a6f0f5a8741e781": {
          "model_module": "@jupyter-widgets/controls",
          "model_name": "HTMLModel",
          "model_module_version": "1.5.0",
          "state": {
            "_view_name": "HTMLView",
            "style": "IPY_MODEL_e4fa5d4a844a4714bafbd0ad93b34d06",
            "_dom_classes": [],
            "description": "",
            "_model_name": "HTMLModel",
            "placeholder": "​",
            "_view_module": "@jupyter-widgets/controls",
            "_model_module_version": "1.5.0",
            "value": "100%",
            "_view_count": null,
            "_view_module_version": "1.5.0",
            "description_tooltip": null,
            "_model_module": "@jupyter-widgets/controls",
            "layout": "IPY_MODEL_d5a8ae5b83214a6abfd82c40a5a3cf1f"
          }
        },
        "f8e1fc8aabb448bca71ff17630373f4e": {
          "model_module": "@jupyter-widgets/controls",
          "model_name": "FloatProgressModel",
          "model_module_version": "1.5.0",
          "state": {
            "_view_name": "ProgressView",
            "style": "IPY_MODEL_c774b0e4c4f84dfbb865c9b44a333b08",
            "_dom_classes": [],
            "description": "",
            "_model_name": "FloatProgressModel",
            "bar_style": "success",
            "max": 2500,
            "_view_module": "@jupyter-widgets/controls",
            "_model_module_version": "1.5.0",
            "value": 2500,
            "_view_count": null,
            "_view_module_version": "1.5.0",
            "orientation": "horizontal",
            "min": 0,
            "description_tooltip": null,
            "_model_module": "@jupyter-widgets/controls",
            "layout": "IPY_MODEL_636d35815afc4bd6969a1cfedac2f3d3"
          }
        },
        "a863365913e347c889dde0453477e3cd": {
          "model_module": "@jupyter-widgets/controls",
          "model_name": "HTMLModel",
          "model_module_version": "1.5.0",
          "state": {
            "_view_name": "HTMLView",
            "style": "IPY_MODEL_a2924ad0ec5b497bbe3576134ee5ba28",
            "_dom_classes": [],
            "description": "",
            "_model_name": "HTMLModel",
            "placeholder": "​",
            "_view_module": "@jupyter-widgets/controls",
            "_model_module_version": "1.5.0",
            "value": " 2500/2500 [01:45&lt;00:00, 20.43it/s]",
            "_view_count": null,
            "_view_module_version": "1.5.0",
            "description_tooltip": null,
            "_model_module": "@jupyter-widgets/controls",
            "layout": "IPY_MODEL_cec2a43d64cb43d5be1216554ccc14de"
          }
        },
        "e4fa5d4a844a4714bafbd0ad93b34d06": {
          "model_module": "@jupyter-widgets/controls",
          "model_name": "DescriptionStyleModel",
          "model_module_version": "1.5.0",
          "state": {
            "_view_name": "StyleView",
            "_model_name": "DescriptionStyleModel",
            "description_width": "",
            "_view_module": "@jupyter-widgets/base",
            "_model_module_version": "1.5.0",
            "_view_count": null,
            "_view_module_version": "1.2.0",
            "_model_module": "@jupyter-widgets/controls"
          }
        },
        "d5a8ae5b83214a6abfd82c40a5a3cf1f": {
          "model_module": "@jupyter-widgets/base",
          "model_name": "LayoutModel",
          "model_module_version": "1.2.0",
          "state": {
            "_view_name": "LayoutView",
            "grid_template_rows": null,
            "right": null,
            "justify_content": null,
            "_view_module": "@jupyter-widgets/base",
            "overflow": null,
            "_model_module_version": "1.2.0",
            "_view_count": null,
            "flex_flow": null,
            "width": null,
            "min_width": null,
            "border": null,
            "align_items": null,
            "bottom": null,
            "_model_module": "@jupyter-widgets/base",
            "top": null,
            "grid_column": null,
            "overflow_y": null,
            "overflow_x": null,
            "grid_auto_flow": null,
            "grid_area": null,
            "grid_template_columns": null,
            "flex": null,
            "_model_name": "LayoutModel",
            "justify_items": null,
            "grid_row": null,
            "max_height": null,
            "align_content": null,
            "visibility": null,
            "align_self": null,
            "height": null,
            "min_height": null,
            "padding": null,
            "grid_auto_rows": null,
            "grid_gap": null,
            "max_width": null,
            "order": null,
            "_view_module_version": "1.2.0",
            "grid_template_areas": null,
            "object_position": null,
            "object_fit": null,
            "grid_auto_columns": null,
            "margin": null,
            "display": null,
            "left": null
          }
        },
        "c774b0e4c4f84dfbb865c9b44a333b08": {
          "model_module": "@jupyter-widgets/controls",
          "model_name": "ProgressStyleModel",
          "model_module_version": "1.5.0",
          "state": {
            "_view_name": "StyleView",
            "_model_name": "ProgressStyleModel",
            "description_width": "",
            "_view_module": "@jupyter-widgets/base",
            "_model_module_version": "1.5.0",
            "_view_count": null,
            "_view_module_version": "1.2.0",
            "bar_color": null,
            "_model_module": "@jupyter-widgets/controls"
          }
        },
        "636d35815afc4bd6969a1cfedac2f3d3": {
          "model_module": "@jupyter-widgets/base",
          "model_name": "LayoutModel",
          "model_module_version": "1.2.0",
          "state": {
            "_view_name": "LayoutView",
            "grid_template_rows": null,
            "right": null,
            "justify_content": null,
            "_view_module": "@jupyter-widgets/base",
            "overflow": null,
            "_model_module_version": "1.2.0",
            "_view_count": null,
            "flex_flow": null,
            "width": null,
            "min_width": null,
            "border": null,
            "align_items": null,
            "bottom": null,
            "_model_module": "@jupyter-widgets/base",
            "top": null,
            "grid_column": null,
            "overflow_y": null,
            "overflow_x": null,
            "grid_auto_flow": null,
            "grid_area": null,
            "grid_template_columns": null,
            "flex": null,
            "_model_name": "LayoutModel",
            "justify_items": null,
            "grid_row": null,
            "max_height": null,
            "align_content": null,
            "visibility": null,
            "align_self": null,
            "height": null,
            "min_height": null,
            "padding": null,
            "grid_auto_rows": null,
            "grid_gap": null,
            "max_width": null,
            "order": null,
            "_view_module_version": "1.2.0",
            "grid_template_areas": null,
            "object_position": null,
            "object_fit": null,
            "grid_auto_columns": null,
            "margin": null,
            "display": null,
            "left": null
          }
        },
        "a2924ad0ec5b497bbe3576134ee5ba28": {
          "model_module": "@jupyter-widgets/controls",
          "model_name": "DescriptionStyleModel",
          "model_module_version": "1.5.0",
          "state": {
            "_view_name": "StyleView",
            "_model_name": "DescriptionStyleModel",
            "description_width": "",
            "_view_module": "@jupyter-widgets/base",
            "_model_module_version": "1.5.0",
            "_view_count": null,
            "_view_module_version": "1.2.0",
            "_model_module": "@jupyter-widgets/controls"
          }
        },
        "cec2a43d64cb43d5be1216554ccc14de": {
          "model_module": "@jupyter-widgets/base",
          "model_name": "LayoutModel",
          "model_module_version": "1.2.0",
          "state": {
            "_view_name": "LayoutView",
            "grid_template_rows": null,
            "right": null,
            "justify_content": null,
            "_view_module": "@jupyter-widgets/base",
            "overflow": null,
            "_model_module_version": "1.2.0",
            "_view_count": null,
            "flex_flow": null,
            "width": null,
            "min_width": null,
            "border": null,
            "align_items": null,
            "bottom": null,
            "_model_module": "@jupyter-widgets/base",
            "top": null,
            "grid_column": null,
            "overflow_y": null,
            "overflow_x": null,
            "grid_auto_flow": null,
            "grid_area": null,
            "grid_template_columns": null,
            "flex": null,
            "_model_name": "LayoutModel",
            "justify_items": null,
            "grid_row": null,
            "max_height": null,
            "align_content": null,
            "visibility": null,
            "align_self": null,
            "height": null,
            "min_height": null,
            "padding": null,
            "grid_auto_rows": null,
            "grid_gap": null,
            "max_width": null,
            "order": null,
            "_view_module_version": "1.2.0",
            "grid_template_areas": null,
            "object_position": null,
            "object_fit": null,
            "grid_auto_columns": null,
            "margin": null,
            "display": null,
            "left": null
          }
        },
        "f84b51cfe28f4aefa4bcb407f0d67e7e": {
          "model_module": "@jupyter-widgets/controls",
          "model_name": "HBoxModel",
          "model_module_version": "1.5.0",
          "state": {
            "_view_name": "HBoxView",
            "_dom_classes": [],
            "_model_name": "HBoxModel",
            "_view_module": "@jupyter-widgets/controls",
            "_model_module_version": "1.5.0",
            "_view_count": null,
            "_view_module_version": "1.5.0",
            "box_style": "",
            "layout": "IPY_MODEL_f7bf172a02424f76a29e58b4a4459929",
            "_model_module": "@jupyter-widgets/controls",
            "children": [
              "IPY_MODEL_e1a718d34a7048b6a6b70f68882b8ceb",
              "IPY_MODEL_11273987ec494c3a8ad7e7d0017db767",
              "IPY_MODEL_9d7c73976b0f41d5a22ecfe8792c361c"
            ]
          }
        },
        "f7bf172a02424f76a29e58b4a4459929": {
          "model_module": "@jupyter-widgets/base",
          "model_name": "LayoutModel",
          "model_module_version": "1.2.0",
          "state": {
            "_view_name": "LayoutView",
            "grid_template_rows": null,
            "right": null,
            "justify_content": null,
            "_view_module": "@jupyter-widgets/base",
            "overflow": null,
            "_model_module_version": "1.2.0",
            "_view_count": null,
            "flex_flow": null,
            "width": null,
            "min_width": null,
            "border": null,
            "align_items": null,
            "bottom": null,
            "_model_module": "@jupyter-widgets/base",
            "top": null,
            "grid_column": null,
            "overflow_y": null,
            "overflow_x": null,
            "grid_auto_flow": null,
            "grid_area": null,
            "grid_template_columns": null,
            "flex": null,
            "_model_name": "LayoutModel",
            "justify_items": null,
            "grid_row": null,
            "max_height": null,
            "align_content": null,
            "visibility": null,
            "align_self": null,
            "height": null,
            "min_height": null,
            "padding": null,
            "grid_auto_rows": null,
            "grid_gap": null,
            "max_width": null,
            "order": null,
            "_view_module_version": "1.2.0",
            "grid_template_areas": null,
            "object_position": null,
            "object_fit": null,
            "grid_auto_columns": null,
            "margin": null,
            "display": null,
            "left": null
          }
        },
        "e1a718d34a7048b6a6b70f68882b8ceb": {
          "model_module": "@jupyter-widgets/controls",
          "model_name": "HTMLModel",
          "model_module_version": "1.5.0",
          "state": {
            "_view_name": "HTMLView",
            "style": "IPY_MODEL_6ed89a986bdd4e069e8c7e67d53e2a02",
            "_dom_classes": [],
            "description": "",
            "_model_name": "HTMLModel",
            "placeholder": "​",
            "_view_module": "@jupyter-widgets/controls",
            "_model_module_version": "1.5.0",
            "value": "100%",
            "_view_count": null,
            "_view_module_version": "1.5.0",
            "description_tooltip": null,
            "_model_module": "@jupyter-widgets/controls",
            "layout": "IPY_MODEL_fe8b6da60d3b45acbd4f7166823e6867"
          }
        },
        "11273987ec494c3a8ad7e7d0017db767": {
          "model_module": "@jupyter-widgets/controls",
          "model_name": "FloatProgressModel",
          "model_module_version": "1.5.0",
          "state": {
            "_view_name": "ProgressView",
            "style": "IPY_MODEL_c1a3137d7a124425ab4459b15a91a67a",
            "_dom_classes": [],
            "description": "",
            "_model_name": "FloatProgressModel",
            "bar_style": "success",
            "max": 2500,
            "_view_module": "@jupyter-widgets/controls",
            "_model_module_version": "1.5.0",
            "value": 2500,
            "_view_count": null,
            "_view_module_version": "1.5.0",
            "orientation": "horizontal",
            "min": 0,
            "description_tooltip": null,
            "_model_module": "@jupyter-widgets/controls",
            "layout": "IPY_MODEL_869fe78622054e1b9f2a9191aa70eb54"
          }
        },
        "9d7c73976b0f41d5a22ecfe8792c361c": {
          "model_module": "@jupyter-widgets/controls",
          "model_name": "HTMLModel",
          "model_module_version": "1.5.0",
          "state": {
            "_view_name": "HTMLView",
            "style": "IPY_MODEL_e867dfd1952d45dab9feade16f109ea9",
            "_dom_classes": [],
            "description": "",
            "_model_name": "HTMLModel",
            "placeholder": "​",
            "_view_module": "@jupyter-widgets/controls",
            "_model_module_version": "1.5.0",
            "value": " 2500/2500 [02:41&lt;00:00, 14.37it/s]",
            "_view_count": null,
            "_view_module_version": "1.5.0",
            "description_tooltip": null,
            "_model_module": "@jupyter-widgets/controls",
            "layout": "IPY_MODEL_8f32432dbe3c4a02aad5ad78b0ca39bd"
          }
        },
        "6ed89a986bdd4e069e8c7e67d53e2a02": {
          "model_module": "@jupyter-widgets/controls",
          "model_name": "DescriptionStyleModel",
          "model_module_version": "1.5.0",
          "state": {
            "_view_name": "StyleView",
            "_model_name": "DescriptionStyleModel",
            "description_width": "",
            "_view_module": "@jupyter-widgets/base",
            "_model_module_version": "1.5.0",
            "_view_count": null,
            "_view_module_version": "1.2.0",
            "_model_module": "@jupyter-widgets/controls"
          }
        },
        "fe8b6da60d3b45acbd4f7166823e6867": {
          "model_module": "@jupyter-widgets/base",
          "model_name": "LayoutModel",
          "model_module_version": "1.2.0",
          "state": {
            "_view_name": "LayoutView",
            "grid_template_rows": null,
            "right": null,
            "justify_content": null,
            "_view_module": "@jupyter-widgets/base",
            "overflow": null,
            "_model_module_version": "1.2.0",
            "_view_count": null,
            "flex_flow": null,
            "width": null,
            "min_width": null,
            "border": null,
            "align_items": null,
            "bottom": null,
            "_model_module": "@jupyter-widgets/base",
            "top": null,
            "grid_column": null,
            "overflow_y": null,
            "overflow_x": null,
            "grid_auto_flow": null,
            "grid_area": null,
            "grid_template_columns": null,
            "flex": null,
            "_model_name": "LayoutModel",
            "justify_items": null,
            "grid_row": null,
            "max_height": null,
            "align_content": null,
            "visibility": null,
            "align_self": null,
            "height": null,
            "min_height": null,
            "padding": null,
            "grid_auto_rows": null,
            "grid_gap": null,
            "max_width": null,
            "order": null,
            "_view_module_version": "1.2.0",
            "grid_template_areas": null,
            "object_position": null,
            "object_fit": null,
            "grid_auto_columns": null,
            "margin": null,
            "display": null,
            "left": null
          }
        },
        "c1a3137d7a124425ab4459b15a91a67a": {
          "model_module": "@jupyter-widgets/controls",
          "model_name": "ProgressStyleModel",
          "model_module_version": "1.5.0",
          "state": {
            "_view_name": "StyleView",
            "_model_name": "ProgressStyleModel",
            "description_width": "",
            "_view_module": "@jupyter-widgets/base",
            "_model_module_version": "1.5.0",
            "_view_count": null,
            "_view_module_version": "1.2.0",
            "bar_color": null,
            "_model_module": "@jupyter-widgets/controls"
          }
        },
        "869fe78622054e1b9f2a9191aa70eb54": {
          "model_module": "@jupyter-widgets/base",
          "model_name": "LayoutModel",
          "model_module_version": "1.2.0",
          "state": {
            "_view_name": "LayoutView",
            "grid_template_rows": null,
            "right": null,
            "justify_content": null,
            "_view_module": "@jupyter-widgets/base",
            "overflow": null,
            "_model_module_version": "1.2.0",
            "_view_count": null,
            "flex_flow": null,
            "width": null,
            "min_width": null,
            "border": null,
            "align_items": null,
            "bottom": null,
            "_model_module": "@jupyter-widgets/base",
            "top": null,
            "grid_column": null,
            "overflow_y": null,
            "overflow_x": null,
            "grid_auto_flow": null,
            "grid_area": null,
            "grid_template_columns": null,
            "flex": null,
            "_model_name": "LayoutModel",
            "justify_items": null,
            "grid_row": null,
            "max_height": null,
            "align_content": null,
            "visibility": null,
            "align_self": null,
            "height": null,
            "min_height": null,
            "padding": null,
            "grid_auto_rows": null,
            "grid_gap": null,
            "max_width": null,
            "order": null,
            "_view_module_version": "1.2.0",
            "grid_template_areas": null,
            "object_position": null,
            "object_fit": null,
            "grid_auto_columns": null,
            "margin": null,
            "display": null,
            "left": null
          }
        },
        "e867dfd1952d45dab9feade16f109ea9": {
          "model_module": "@jupyter-widgets/controls",
          "model_name": "DescriptionStyleModel",
          "model_module_version": "1.5.0",
          "state": {
            "_view_name": "StyleView",
            "_model_name": "DescriptionStyleModel",
            "description_width": "",
            "_view_module": "@jupyter-widgets/base",
            "_model_module_version": "1.5.0",
            "_view_count": null,
            "_view_module_version": "1.2.0",
            "_model_module": "@jupyter-widgets/controls"
          }
        },
        "8f32432dbe3c4a02aad5ad78b0ca39bd": {
          "model_module": "@jupyter-widgets/base",
          "model_name": "LayoutModel",
          "model_module_version": "1.2.0",
          "state": {
            "_view_name": "LayoutView",
            "grid_template_rows": null,
            "right": null,
            "justify_content": null,
            "_view_module": "@jupyter-widgets/base",
            "overflow": null,
            "_model_module_version": "1.2.0",
            "_view_count": null,
            "flex_flow": null,
            "width": null,
            "min_width": null,
            "border": null,
            "align_items": null,
            "bottom": null,
            "_model_module": "@jupyter-widgets/base",
            "top": null,
            "grid_column": null,
            "overflow_y": null,
            "overflow_x": null,
            "grid_auto_flow": null,
            "grid_area": null,
            "grid_template_columns": null,
            "flex": null,
            "_model_name": "LayoutModel",
            "justify_items": null,
            "grid_row": null,
            "max_height": null,
            "align_content": null,
            "visibility": null,
            "align_self": null,
            "height": null,
            "min_height": null,
            "padding": null,
            "grid_auto_rows": null,
            "grid_gap": null,
            "max_width": null,
            "order": null,
            "_view_module_version": "1.2.0",
            "grid_template_areas": null,
            "object_position": null,
            "object_fit": null,
            "grid_auto_columns": null,
            "margin": null,
            "display": null,
            "left": null
          }
        }
      }
    }
  },
  "cells": [
    {
      "cell_type": "code",
      "metadata": {
        "colab": {
          "base_uri": "https://localhost:8080/"
        },
        "id": "4PPoi8vIqg3N",
        "outputId": "8bb19cc6-c046-44ce-ffe0-6042c31eef94"
      },
      "source": [
        "from google.colab import drive\n",
        "drive.mount('/content/drive')\n",
        "\n",
        "DRIVE_PATH = \"/content/drive/MyDrive/YandexCup/\""
      ],
      "id": "4PPoi8vIqg3N",
      "execution_count": 1,
      "outputs": [
        {
          "output_type": "stream",
          "name": "stdout",
          "text": [
            "Mounted at /content/drive\n"
          ]
        }
      ]
    },
    {
      "cell_type": "markdown",
      "metadata": {
        "id": "j48XMiSVnQ5L"
      },
      "source": [
        "Загружаем скачанный классификатор токсичности:"
      ],
      "id": "j48XMiSVnQ5L"
    },
    {
      "cell_type": "code",
      "metadata": {
        "id": "trDj06qnJCnr",
        "colab": {
          "base_uri": "https://localhost:8080/"
        },
        "outputId": "e61a138b-ffe9-4a70-957b-7315e12cfe74"
      },
      "source": [
        "!pip install -q transformers\n",
        "!pip install -q natasha\n",
        "!pip install -q pymorphy2\n",
        "!pip install -q -U pymorphy2-dicts-ru\n",
        "!pip install -q hnswlib\n",
        "!pip install -q pymystem3\n",
        "!pip install -q pymorphy2\n",
        "!pip install -q -U pymorphy2-dicts-ru"
      ],
      "id": "trDj06qnJCnr",
      "execution_count": 2,
      "outputs": [
        {
          "output_type": "stream",
          "name": "stdout",
          "text": [
            "\u001b[K     |████████████████████████████████| 2.9 MB 15.9 MB/s \n",
            "\u001b[K     |████████████████████████████████| 56 kB 5.7 MB/s \n",
            "\u001b[K     |████████████████████████████████| 636 kB 65.4 MB/s \n",
            "\u001b[K     |████████████████████████████████| 3.3 MB 65.9 MB/s \n",
            "\u001b[K     |████████████████████████████████| 895 kB 79.0 MB/s \n",
            "\u001b[K     |████████████████████████████████| 34.4 MB 51 kB/s \n",
            "\u001b[K     |████████████████████████████████| 55 kB 5.0 MB/s \n",
            "\u001b[K     |████████████████████████████████| 41 kB 131 kB/s \n",
            "\u001b[K     |████████████████████████████████| 49 kB 7.4 MB/s \n",
            "\u001b[K     |████████████████████████████████| 8.2 MB 54.8 MB/s \n",
            "\u001b[?25h  Building wheel for intervaltree (setup.py) ... \u001b[?25l\u001b[?25hdone\n",
            "  Installing build dependencies ... \u001b[?25l\u001b[?25hdone\n",
            "  Getting requirements to build wheel ... \u001b[?25l\u001b[?25hdone\n",
            "    Preparing wheel metadata ... \u001b[?25l\u001b[?25hdone\n",
            "  Building wheel for hnswlib (PEP 517) ... \u001b[?25l\u001b[?25hdone\n"
          ]
        }
      ]
    },
    {
      "cell_type": "markdown",
      "metadata": {
        "id": "1RuRhakQwFHh"
      },
      "source": [
        "#Score"
      ],
      "id": "1RuRhakQwFHh"
    },
    {
      "cell_type": "code",
      "metadata": {
        "colab": {
          "base_uri": "https://localhost:8080/"
        },
        "id": "9jjjQyE2wl7L",
        "outputId": "3c721ae4-d35f-4871-e147-2532804a9517"
      },
      "source": [
        "!pip install https://github.com/kpu/kenlm/archive/master.zip\n",
        "!pip install -q kenlm"
      ],
      "id": "9jjjQyE2wl7L",
      "execution_count": 3,
      "outputs": [
        {
          "output_type": "stream",
          "name": "stdout",
          "text": [
            "Collecting https://github.com/kpu/kenlm/archive/master.zip\n",
            "  Downloading https://github.com/kpu/kenlm/archive/master.zip\n",
            "\u001b[K     / 540 kB 2.3 MB/s\n",
            "\u001b[?25hBuilding wheels for collected packages: kenlm\n",
            "  Building wheel for kenlm (setup.py) ... \u001b[?25l\u001b[?25hdone\n",
            "  Created wheel for kenlm: filename=kenlm-0.0.0-cp37-cp37m-linux_x86_64.whl size=2334340 sha256=6b9ffae22818997ebabaa7afe70519c83d760f692d7c4e80f3e5cc6017685737\n",
            "  Stored in directory: /tmp/pip-ephem-wheel-cache-hnh_vyql/wheels/3d/aa/02/7b4a2eab5d7a2a9391bd9680dbad6270808a147bc3b7047e4e\n",
            "Successfully built kenlm\n",
            "Installing collected packages: kenlm\n",
            "Successfully installed kenlm-0.0.0\n"
          ]
        }
      ]
    },
    {
      "cell_type": "code",
      "metadata": {
        "id": "V5SFllGhwHmz"
      },
      "source": [
        "import numpy as np\n",
        "\n",
        "import os\n",
        "from transformers import AutoTokenizer, AutoModelForSequenceClassification\n",
        "import torch\n",
        "from torch import softmax, sigmoid\n",
        "from tqdm.auto import tqdm\n",
        "import argparse\n",
        "from pymystem3 import Mystem\n",
        "import sys\n",
        "from collections import Counter\n",
        "from functools import partial\n",
        "import kenlm\n",
        "\n",
        "from transformers import AutoTokenizer, AutoModelForSequenceClassification\n",
        "\n",
        "tokenizer = AutoTokenizer.from_pretrained(\"/content/drive/MyDrive/YandexCup/trained_roberta\")\n",
        "\n",
        "model = AutoModelForSequenceClassification.from_pretrained(\"/content/drive/MyDrive/YandexCup/trained_roberta\").cuda()\n",
        "\n",
        "lm = kenlm.Model('/content/drive/MyDrive/YandexCup/lm.binary')\n",
        "\n",
        "\n",
        "\n",
        "TOXIC_CLASS=-1\n",
        "TOKENIZATION_TYPE='sentencepiece'\n",
        "\n",
        "\n",
        "ALLOWED_ALPHABET=list(map(chr, range(ord('а'), ord('я') + 1)))\n",
        "ALLOWED_ALPHABET.extend(map(chr, range(ord('a'), ord('z') + 1)))\n",
        "ALLOWED_ALPHABET.extend(list(map(str.upper, ALLOWED_ALPHABET)))\n",
        "ALLOWED_ALPHABET = set(ALLOWED_ALPHABET)\n",
        "\n",
        "\n",
        "def logits_to_toxic_probas(logits):\n",
        "    if logits.shape[-1] > 1:\n",
        "        activation = lambda x: softmax(x, -1)\n",
        "    else:\n",
        "        activation = sigmoid\n",
        "    return activation(logits)[:, TOXIC_CLASS].cpu().detach().numpy()\n",
        "\n",
        "\n",
        "def is_word_start(token):\n",
        "    if TOKENIZATION_TYPE == 'sentencepiece':\n",
        "        return token.startswith('▁')\n",
        "    if TOKENIZATION_TYPE == 'bert':\n",
        "        return not token.startswith('##')\n",
        "    raise ValueError(\"Unknown tokenization type\")\n",
        "\n",
        "\n",
        "def normalize(sentence, max_tokens_per_word=20):\n",
        "    def validate_char(c):\n",
        "        return c in ALLOWED_ALPHABET\n",
        "    \n",
        "    sentence = ''.join(map(lambda c: c if validate_char(c) else ' ', sentence.lower()))\n",
        "    ids = tokenizer(sentence)['input_ids']\n",
        "    tokens = tokenizer.convert_ids_to_tokens(ids)[1:-1]\n",
        "    \n",
        "    result = []\n",
        "    num_continuation_tokens = 0\n",
        "    for token in tokens:\n",
        "        if not is_word_start(token):\n",
        "            num_continuation_tokens += 1\n",
        "            if num_continuation_tokens < max_tokens_per_word:\n",
        "                result.append(token.lstrip('#▁'))\n",
        "        else:\n",
        "            num_continuation_tokens = 0\n",
        "            result.extend([' ', token.lstrip('▁#')])\n",
        "    \n",
        "    return ''.join(result).strip()\n",
        "\n",
        "\n",
        "def iterate_batches(data, batch_size=40):\n",
        "    batch = []\n",
        "    for x in data:\n",
        "        batch.append(x)\n",
        "        if len(batch) >= batch_size:\n",
        "            yield batch\n",
        "            batch = []\n",
        "    if len(batch) > 0:\n",
        "        yield batch\n",
        "\n",
        "\n",
        "def predict_toxicity_1(sentences, batch_size=5, threshold=0.5, return_scores=False, verbose=True, device='cuda'):\n",
        "    results = []\n",
        "    for batch in iterate_batches(sentences, batch_size):\n",
        "        normlized = [normalize(sent, max_tokens_per_word=5) for sent in batch]\n",
        "        tokenized = tokenizer(normlized, return_tensors='pt', padding=True, max_length=512, truncation=True)\n",
        "    \n",
        "        logits = model.to(device)(**{key: val.to(device) for key, val in tokenized.items()}).logits\n",
        "        preds = logits_to_toxic_probas(logits)\n",
        "        if not return_scores:\n",
        "            preds = preds >= threshold\n",
        "        results.extend(preds)\n",
        "    return results\n",
        "\n",
        "\n",
        "def get_w2v_indicies_1(a):\n",
        "    res = []\n",
        "    if isinstance(a, str):\n",
        "        a = a.split()\n",
        "    for w in a:\n",
        "        if w in embs_voc:\n",
        "            res.append((w, embs_voc[w]))\n",
        "        else:\n",
        "            if w.isalpha():\n",
        "                lemma = morph.parse(w)[0].normal_form\n",
        "                res.append((embs_voc.get(lemma), None))\n",
        "    return res\n",
        "\n",
        "\n",
        "def load_embeddings(path):\n",
        "    embs_file = np.load(path, allow_pickle=True)\n",
        "    embs_vectors = embs_file['vectors']\n",
        "    embs_voc = embs_file['voc'].item()\n",
        "\n",
        "    embs_voc_by_id = [None for i in range(len(embs_vectors))]\n",
        "    for word, idx in embs_voc.items():\n",
        "        if embs_voc_by_id[idx] is None:\n",
        "            embs_voc_by_id[idx] = word\n",
        "    return embs_vectors, embs_voc, embs_voc_by_id\n",
        "\n",
        "\n",
        "def calc_embs_1(words):\n",
        "    words = ' '.join(map(normalize, words))\n",
        "    inds = get_w2v_indicies_1(words)\n",
        "    return [(w, i if i is None else embs_vectors[i]) for w, i in inds]\n",
        "\n",
        "\n",
        "def calc_single_embedding_dist(a, b):\n",
        "    a_s, a_v = a  #слово, вектор\n",
        "    b_s, b_v = b  #слово, вектор\n",
        "    if a_s == b_s: #если слова равны\n",
        "        return 0.0\n",
        "    if a_v is None or b_v is None: #если одно из векторов нет - дать пизды \n",
        "        return 1.0\n",
        "    a = a_v\n",
        "    b = b_v\n",
        "    # inexact match is punished by 0.1\n",
        "    return 0.1 + 0.9 * (1 - a.dot(b) / np.linalg.norm(a) / np.linalg.norm(b)) / 2\n",
        "\n",
        "\n",
        "def greedy_match_embs(a, b, max_dist=99999, cache=None, a_ind=0, b_ind=0):\n",
        "    a_len = len(a) - a_ind #сколько слов мы еще не рассмотрели в а\n",
        "    b_len = len(b) - b_ind #сколько слов мы еще не рассмотрели в b\n",
        "    minlen = min(a_len, b_len) #минимальная длина строки\n",
        "    maxlen = max(a_len, b_len) #минимальная длина строки\n",
        "    if minlen == 0: \n",
        "        return np.minimum(maxlen, max_dist) \n",
        "    if maxlen - minlen >= max_dist: \n",
        "        return max_dist \n",
        "    \n",
        "    if cache is None:\n",
        "        cache = {}\n",
        "    \n",
        "    cache_key = (a_len, b_len)\n",
        "    if cache_key in cache:\n",
        "        return cache[cache_key]\n",
        "        \n",
        "    min_dist = max_dist\n",
        "    \n",
        "    first_dist = calc_single_embedding_dist(a[a_ind], b[b_ind])\n",
        "    if max_dist >= first_dist:\n",
        "        min_dist = np.minimum(min_dist, first_dist + greedy_match_embs(\n",
        "            a, b, max_dist, cache, a_ind + 1, b_ind + 1\n",
        "        ))\n",
        "    \n",
        "    if first_dist > 0 and max_dist >= 1:\n",
        "        min_dist = np.minimum(min_dist, 1 + greedy_match_embs(\n",
        "            a, b, max_dist, cache, a_ind + 1, b_ind\n",
        "        ))\n",
        "        min_dist = np.minimum(min_dist, 1 + greedy_match_embs(\n",
        "            a, b, max_dist, cache, a_ind, b_ind + 1\n",
        "        ))\n",
        "    \n",
        "    cache[cache_key] = min_dist\n",
        "    \n",
        "    return min_dist\n",
        "\n",
        "\n",
        "\n",
        "def calc_semantic_distance(a, b):\n",
        "    a_embs = calc_embs_1(a)\n",
        "    b_embs = calc_embs_1(b)\n",
        "    \n",
        "    clip_distance = 5  # this clips long computations\n",
        "    return np.exp(-(greedy_match_embs(a_embs, b_embs, max_dist=clip_distance) / (0.6 * np.log(1 + len(a)))) ** 2)\n",
        "\n",
        "\n",
        "def distance_score(original, fixed):\n",
        "    original = original.split()\n",
        "    fixed = fixed.split()\n",
        "    \n",
        "    return calc_semantic_distance(original, fixed)\n",
        "\n",
        "\n",
        "def compute_lmdiff(original, fixed):\n",
        "    original_lm_logproba = lm.score(original, bos=True, eos=True)\n",
        "    fixed_lm_logproba = lm.score(fixed, bos=True, eos=True)\n",
        "    \n",
        "    probability_fraction = 10**((fixed_lm_logproba - original_lm_logproba) / 25)\n",
        "    \n",
        "    return np.clip(probability_fraction, 0.0, 1.0)\n",
        "\n",
        "\n",
        "def compute_score(original_sentences, fixed_sentences, threshold=0.5, batch_size=5, show_res = False):\n",
        "    fixed_toxicities = predict_toxicity_1(fixed_sentences, threshold=threshold, batch_size=batch_size, return_scores=True)\n",
        "    scores = []\n",
        "    lmdiffs = []\n",
        "    emb_dists = []\n",
        "    for original_sentence, fixed_sentence, fixed_toxicity in tqdm(zip(\n",
        "        original_sentences, fixed_sentences, fixed_toxicities\n",
        "    ), miniters=250, disable= True):\n",
        "        original_sentence = normalize(original_sentence)\n",
        "        fixed_sentence = normalize(fixed_sentence)\n",
        "        \n",
        "        distance = distance_score(original_sentence, fixed_sentence)\n",
        "        lmdiff = compute_lmdiff(original_sentence, fixed_sentence)\n",
        "        \n",
        "        score = (1 - fixed_toxicity) * distance * lmdiff\n",
        "        \n",
        "        lmdiffs.append(lmdiff)\n",
        "        emb_dists.append(distance)\n",
        "        scores.append(score)\n",
        "        \n",
        "    if show_res:\n",
        "        print('average toxicity:', np.mean(fixed_toxicities), file=sys.stderr)\n",
        "        print('mean lmdiff:', np.mean(lmdiffs), file=sys.stderr)\n",
        "        print('mean distance_score:', np.mean(emb_dists), file=sys.stderr)\n",
        "    \n",
        "    return np.mean(scores)\n",
        "\n",
        "'''\n",
        "def parse_args():\n",
        "    parser = argparse.ArgumentParser()\n",
        "    parser.add_argument('original_texts', type=argparse.FileType('r'))\n",
        "    parser.add_argument('fixed_texts', type=argparse.FileType('r'))\n",
        "    parser.add_argument('--score', type=argparse.FileType('w'))\n",
        "    parser.add_argument('--model', required=True, type=str)\n",
        "    parser.add_argument('--embeddings', type=str, required=True)\n",
        "    parser.add_argument('--lm', type=str, required=True)\n",
        "    parser.add_argument('--device', type=str, choices=['cuda', 'cpu'], default='cpu')\n",
        "    \n",
        "    return parser.parse_args()\n",
        "'''\n",
        "\n",
        "def new_checker(original_texts, fixed_texts, device='cuda', show_res = False):\n",
        "    original_texts = list(map(str.strip, original_texts))\n",
        "    fixed_texts = list(map(str.strip, fixed_texts))\n",
        "    \n",
        "    assert len(original_texts) == len(fixed_texts)\n",
        "    \n",
        "    with torch.inference_mode(True):\n",
        "        return (100 * compute_score(original_texts, fixed_texts, show_res = show_res))"
      ],
      "id": "V5SFllGhwHmz",
      "execution_count": 4,
      "outputs": []
    },
    {
      "cell_type": "markdown",
      "metadata": {
        "id": "r4i76mZ6pFjC"
      },
      "source": [
        "#Solution:"
      ],
      "id": "r4i76mZ6pFjC"
    },
    {
      "cell_type": "code",
      "metadata": {
        "id": "I-t83-1unQ5T"
      },
      "source": [
        "from transformers import AutoTokenizer, AutoModelForSequenceClassification\n",
        "  \n",
        "tokenizer = AutoTokenizer.from_pretrained(DRIVE_PATH + \"trained_roberta\")\n",
        "\n",
        "model = AutoModelForSequenceClassification.from_pretrained(DRIVE_PATH + \"trained_roberta\").cuda()\n",
        "\n",
        "TOXIC_CLASS=-1\n",
        "TOKENIZATION_TYPE='sentencepiece'\n"
      ],
      "id": "I-t83-1unQ5T",
      "execution_count": 5,
      "outputs": []
    },
    {
      "cell_type": "markdown",
      "metadata": {
        "id": "d9kNHI42nQ5Y"
      },
      "source": [
        "Ниже функции для применения классификатора"
      ],
      "id": "d9kNHI42nQ5Y"
    },
    {
      "cell_type": "code",
      "metadata": {
        "id": "7WmnQL19nQ5Z"
      },
      "source": [
        "from torch import softmax, sigmoid\n",
        "import numpy as np\n",
        "\n",
        "\n",
        "import os\n",
        "from transformers import AutoTokenizer, AutoModelForSequenceClassification\n",
        "import torch\n",
        "from tqdm.auto import tqdm\n",
        "import argparse\n",
        "from pymystem3 import Mystem\n",
        "import sys\n",
        "from collections import Counter\n",
        "from functools import partial\n",
        "\n",
        "\n",
        "\n",
        "ALLOWED_ALPHABET=list(map(chr, range(ord('а'), ord('я') + 1)))\n",
        "ALLOWED_ALPHABET.extend(map(chr, range(ord('a'), ord('z') + 1)))\n",
        "ALLOWED_ALPHABET.extend(list(map(str.upper, ALLOWED_ALPHABET)))\n",
        "ALLOWED_ALPHABET = set(ALLOWED_ALPHABET)\n",
        "\n",
        "\n",
        "def logits_to_toxic_probas(logits):\n",
        "    if logits.shape[-1] > 1:\n",
        "        activation = lambda x: softmax(x, -1)\n",
        "    else:\n",
        "        activation = sigmoid\n",
        "    return activation(logits)[:, TOXIC_CLASS].cpu().detach().numpy()\n",
        "\n",
        "\n",
        "def is_word_start(token):\n",
        "    if TOKENIZATION_TYPE == 'sentencepiece':\n",
        "        return token.startswith('▁')\n",
        "    if TOKENIZATION_TYPE == 'bert':\n",
        "        return not token.startswith('##')\n",
        "    raise ValueError(\"Unknown tokenization type\")\n",
        "\n",
        "\n",
        "def normalize(sentence, max_tokens_per_word=20):\n",
        "    def validate_char(c):\n",
        "        return c in ALLOWED_ALPHABET\n",
        "    \n",
        "    sentence = ''.join(map(lambda c: c if validate_char(c) else ' ', sentence.lower()))\n",
        "    ids = tokenizer(sentence)['input_ids']\n",
        "    tokens = tokenizer.convert_ids_to_tokens(ids)[1:-1]\n",
        "    \n",
        "    result = []\n",
        "    num_continuation_tokens = 0\n",
        "    for token in tokens:\n",
        "        if not is_word_start(token):\n",
        "            num_continuation_tokens += 1\n",
        "            if num_continuation_tokens < max_tokens_per_word:\n",
        "                result.append(token.lstrip('#▁'))\n",
        "        else:\n",
        "            num_continuation_tokens = 0\n",
        "            result.extend([' ', token.lstrip('▁#')])\n",
        "    \n",
        "    return ''.join(result).strip()\n",
        "\n",
        "\n",
        "def iterate_batches(data, batch_size=40):\n",
        "    batch = []\n",
        "    for x in data:\n",
        "        batch.append(x)\n",
        "        if len(batch) >= batch_size:\n",
        "            yield batch\n",
        "            batch = []\n",
        "    if len(batch) > 0:\n",
        "        yield batch\n",
        "\n",
        "from tqdm.auto import tqdm\n",
        "def predict_toxicity(sentences, batch_size=5, threshold=0.5, return_scores=False, verbose=True, device='cuda', off_tqdm=False):\n",
        "    results = []\n",
        "    tqdm_fn = tqdm if verbose else lambda x, total: x\n",
        "    for batch in tqdm_fn(iterate_batches(sentences, batch_size), total=np.ceil(len(sentences) / batch_size),  disable=off_tqdm):\n",
        "        normlized = [normalize(sent, max_tokens_per_word=5) for sent in batch]\n",
        "        tokenized = tokenizer(normlized, return_tensors='pt', padding=True, max_length=512, truncation=True)\n",
        "        \n",
        "        model_input = {key: val.to(device) for key, val in tokenized.items()}\n",
        "        \n",
        "        logits = model.to(device)(**model_input).logits\n",
        "        \n",
        "        preds = logits_to_toxic_probas(logits)\n",
        "        \n",
        "        if not return_scores:\n",
        "            preds = preds >= threshold\n",
        "        results.extend(preds)\n",
        "    return results\n"
      ],
      "id": "7WmnQL19nQ5Z",
      "execution_count": 6,
      "outputs": []
    },
    {
      "cell_type": "code",
      "metadata": {
        "id": "H4FxufcaOTf8",
        "colab": {
          "base_uri": "https://localhost:8080/"
        },
        "outputId": "4cef086b-39c9-49d8-adcb-f79c2a1ef957"
      },
      "source": [
        "texts = []\n",
        "raw_texts = []\n",
        "with open(DRIVE_PATH + 'public_testset.txt', 'rt') as f:\n",
        "    for line in f:\n",
        "        raw_texts.append(line) \n",
        "        texts.append(normalize(line))"
      ],
      "id": "H4FxufcaOTf8",
      "execution_count": 7,
      "outputs": [
        {
          "output_type": "stream",
          "name": "stderr",
          "text": [
            "Token indices sequence length is longer than the specified maximum sequence length for this model (534 > 512). Running this sequence through the model will result in indexing errors\n"
          ]
        }
      ]
    },
    {
      "cell_type": "markdown",
      "metadata": {
        "id": "o-M9Ks4NnQ5e"
      },
      "source": [
        "Вычисляем токсичность отдельных слов"
      ],
      "id": "o-M9Ks4NnQ5e"
    },
    {
      "cell_type": "code",
      "metadata": {
        "colab": {
          "base_uri": "https://localhost:8080/",
          "height": 49,
          "referenced_widgets": [
            "1cb4d479e9d94525b37bb20959cb746f",
            "08d526d2f14842adacf05d39527a4a27",
            "df00e943aaee4330a92bf89bf36c0842",
            "dc05ed514ed74cd7b98cbf03e93c2de4",
            "e0ab100bc72342a29257b985cb8122c1",
            "b02fcaf97f7d416a99deead955c69cf0",
            "900adbc8fe624b3d80b6a48fac4b1e0b",
            "732274273fda4c70b834e191f9104b04",
            "8e3c6155e91a4be2803102929f4014d1",
            "da70c51f61b54d4191802d96e9beeba1",
            "8ab380a0466c4ee88c98fc481c88af11"
          ]
        },
        "id": "dUV4MFFuH9z0",
        "outputId": "607aec12-b362-46ee-bee3-97bd753ef283"
      },
      "source": [
        "line_toxicities = []\n",
        "line_mean_toxicities = []\n",
        "\n",
        "for line in tqdm(np.random.choice(raw_texts, 25)):\n",
        "    pred = predict_toxicity([line], return_scores=True, off_tqdm=True)\n",
        "    \n",
        "    line_words = normalize(line).split()\n",
        "    toxi = [predict_toxicity([word], return_scores=True, off_tqdm=True) for word in line_words]\n",
        "    \n",
        "    line_toxicities.append(pred[0])\n",
        "    line_mean_toxicities.append(np.mean(toxi))\n",
        "\n"
      ],
      "id": "dUV4MFFuH9z0",
      "execution_count": 8,
      "outputs": [
        {
          "output_type": "display_data",
          "data": {
            "application/vnd.jupyter.widget-view+json": {
              "model_id": "1cb4d479e9d94525b37bb20959cb746f",
              "version_minor": 0,
              "version_major": 2
            },
            "text/plain": [
              "  0%|          | 0/25 [00:00<?, ?it/s]"
            ]
          },
          "metadata": {}
        }
      ]
    },
    {
      "cell_type": "code",
      "metadata": {
        "colab": {
          "base_uri": "https://localhost:8080/"
        },
        "id": "PmP3tB70YW7K",
        "outputId": "e7997715-2973-48b7-bcc6-886bf0348c4c"
      },
      "source": [
        "print(f\"На ({len(line_toxicities)} комментах):\")\n",
        "print(np.mean(line_toxicities), f\"- средняя токсичность всего комментария\")\n",
        "print(np.mean(line_mean_toxicities), \"- cредняя токсичность каждого слова в комментарии\")"
      ],
      "id": "PmP3tB70YW7K",
      "execution_count": 9,
      "outputs": [
        {
          "output_type": "stream",
          "name": "stdout",
          "text": [
            "На (25 комментах):\n",
            "0.60001343 - средняя токсичность всего комментария\n",
            "0.17831248 - cредняя токсичность каждого слова в комментарии\n"
          ]
        }
      ]
    },
    {
      "cell_type": "code",
      "metadata": {
        "colab": {
          "base_uri": "https://localhost:8080/"
        },
        "id": "_l4JOb1Sfo0d",
        "outputId": "457fec80-b876-4364-e984-fdc590f96cd9"
      },
      "source": [
        "line = raw_texts[100]\n",
        "pred = predict_toxicity([line], return_scores=True, off_tqdm=True)\n",
        "\n",
        "line_words = normalize(line).split()\n",
        "toxi = [predict_toxicity([word], return_scores=True, off_tqdm=True) for word in line_words]\n",
        "\n",
        "print(line)\n",
        "print(pred)\n",
        "print(line_words)\n",
        "print(toxi)"
      ],
      "id": "_l4JOb1Sfo0d",
      "execution_count": 10,
      "outputs": [
        {
          "output_type": "stream",
          "name": "stdout",
          "text": [
            "Можно сказать проще - кукуха едет от старческого маразма.\n",
            "\n",
            "[0.8303647]\n",
            "['можно', 'сказать', 'проще', 'кукуха', 'едет', 'от', 'старческого', 'маразма']\n",
            "[[0.07630243], [0.2619401], [0.04409236], [0.56395835], [0.15138271], [0.0645212], [0.2058756], [0.63614625]]\n"
          ]
        }
      ]
    },
    {
      "cell_type": "markdown",
      "metadata": {
        "id": "7eBW4a9SnQ5g"
      },
      "source": [
        "Ниже читаем эмбеддинги слов и описываем функции их обработки"
      ],
      "id": "7eBW4a9SnQ5g"
    },
    {
      "cell_type": "code",
      "metadata": {
        "id": "_rGJ6ptQnQ5h",
        "colab": {
          "base_uri": "https://localhost:8080/"
        },
        "outputId": "37de565c-5a83-4661-d502-3276d837f19f"
      },
      "source": [
        "import gensim\n",
        "from pymystem3 import Mystem\n",
        "\n",
        "stemmer = Mystem()\n",
        "#lemmas = stemmer.lemmatize(\"Красивая мама красиво мыла раму\")"
      ],
      "id": "_rGJ6ptQnQ5h",
      "execution_count": 12,
      "outputs": [
        {
          "output_type": "stream",
          "name": "stderr",
          "text": [
            "Installing mystem to /root/.local/bin/mystem from http://download.cdn.yandex.net/mystem/mystem-3.1-linux-64bit.tar.gz\n"
          ]
        }
      ]
    },
    {
      "cell_type": "code",
      "metadata": {
        "id": "Sw6Cw6OrhQ_0"
      },
      "source": [
        "!pip install -q pymorphy2\n",
        "!pip install -q -U pymorphy2-dicts-ru\n",
        "\n",
        "from pymystem3 import Mystem\n",
        "from pymorphy2 import MorphAnalyzer\n",
        "import pymorphy2\n",
        "\n",
        "\n",
        "morph = pymorphy2.MorphAnalyzer(lang='ru')"
      ],
      "id": "Sw6Cw6OrhQ_0",
      "execution_count": 13,
      "outputs": []
    },
    {
      "cell_type": "code",
      "metadata": {
        "id": "eA4ZdcdtnQ5n"
      },
      "source": [
        "def save_comments(comments, name):\n",
        "    with open(DRIVE_PATH + f'submits/{name}.txt', 'wt') as f:\n",
        "        for text in comments:\n",
        "            print(text, file=f)\n",
        "        "
      ],
      "id": "eA4ZdcdtnQ5n",
      "execution_count": 14,
      "outputs": []
    },
    {
      "cell_type": "code",
      "metadata": {
        "id": "LAHXRXFAnQ5h"
      },
      "source": [
        "embs_file = np.load(DRIVE_PATH + 'embeddings_with_lemmas.npz', allow_pickle=True)\n",
        "embs_vectors = embs_file['vectors']\n",
        "embs_vectors_normed = embs_vectors / np.linalg.norm(embs_vectors, axis=1, keepdims=True)\n",
        "embs_voc = embs_file['voc'].item()\n",
        "\n",
        "embs_voc_by_id = [None for i in range(len(embs_vectors))]\n",
        "for word, idx in embs_voc.items():\n",
        "    if embs_voc_by_id[idx] is None:\n",
        "        embs_voc_by_id[idx] = word"
      ],
      "id": "LAHXRXFAnQ5h",
      "execution_count": 15,
      "outputs": []
    },
    {
      "cell_type": "code",
      "metadata": {
        "colab": {
          "base_uri": "https://localhost:8080/",
          "height": 49,
          "referenced_widgets": [
            "df93cbcb22fd44b8a424854951bce953",
            "cf35f45ea35a43d7902cfb5cd505c19c",
            "278b8ade188846b5b159b001ef80efd7",
            "4c99f67e38a949618b16b22adf921275",
            "109fc8454040460f8adf0bdf7aa402b9",
            "f02067014b7b40a79fa39c2f0b64e823",
            "f20d44a70d81494d95bf3d0a0e255f34",
            "fcbf6cb4feda44faaf25d3fcee12e4e0",
            "6e74d438035647f99896ece549f9eef4",
            "8f6792c5de9a4c1db061bad55be6b5d4",
            "ab7475a9cbd84996aceda98d491c7733"
          ]
        },
        "id": "eSk_dENb7N3g",
        "outputId": "914912c8-5dcd-4834-82d5-b699a8627cfe"
      },
      "source": [
        "words = set(embs_voc.keys())\n",
        "\n",
        "with torch.inference_mode():\n",
        "    word_toxicities = predict_toxicity(words, batch_size=100, return_scores=True)\n",
        "\n",
        "toxicity = dict(zip(words, word_toxicities))"
      ],
      "id": "eSk_dENb7N3g",
      "execution_count": 16,
      "outputs": [
        {
          "output_type": "display_data",
          "data": {
            "application/vnd.jupyter.widget-view+json": {
              "model_id": "df93cbcb22fd44b8a424854951bce953",
              "version_minor": 0,
              "version_major": 2
            },
            "text/plain": [
              "  0%|          | 0/1627.0 [00:00<?, ?it/s]"
            ]
          },
          "metadata": {}
        }
      ]
    },
    {
      "cell_type": "code",
      "metadata": {
        "colab": {
          "base_uri": "https://localhost:8080/"
        },
        "id": "tkdVwjmx4fFh",
        "outputId": "94f6b888-671a-43f2-a1c8-96212ea69c0e"
      },
      "source": [
        "sorted_toxicity = {k: v for k, v in sorted(toxicity.items(), key=lambda item: item[1], reverse = True)}\n",
        "for k, v in list(sorted_toxicity.items())[-100:]:\n",
        "    print(k ,v)"
      ],
      "id": "tkdVwjmx4fFh",
      "execution_count": 17,
      "outputs": [
        {
          "output_type": "stream",
          "name": "stdout",
          "text": [
            "mmo 0.009779437\n",
            "jpm 0.009775943\n",
            "cfd 0.009774271\n",
            "http 0.009772634\n",
            "print 0.009772043\n",
            "8.cf 0.009771859\n",
            "cf 0.009771859\n",
            "account 0.009770866\n",
            "sncf 0.0097690765\n",
            "appstore 0.009768219\n",
            "dcfta 0.009765147\n",
            "title 0.009763957\n",
            "call-center 0.009763764\n",
            "correction 0.009762546\n",
            "свеже 0.009760704\n",
            "documents 0.009758518\n",
            "sharepoint 0.009758454\n",
            "listed 0.009756879\n",
            "required 0.009756584\n",
            "recommended 0.009754723\n",
            "board 0.009749833\n",
            "дизайновый 0.009749578\n",
            "postscript 0.00974957\n",
            "preview 0.009746988\n",
            "pocketbook 0.009745045\n",
            "wcf 0.009744373\n",
            "openbox 0.009742492\n",
            "закладка 0.009741862\n",
            "types 0.009738403\n",
            "winkhaus 0.0097380495\n",
            "этoгo 0.009732593\n",
            "yam 0.00973132\n",
            "newsonline 0.009730524\n",
            "onliner.by 0.009730259\n",
            "mpls 0.009729734\n",
            "allview 0.009727797\n",
            "jcomments 0.009724544\n",
            "schedule 0.009723984\n",
            "callback 0.00972145\n",
            "support 0.009715264\n",
            "guestbook 0.009714621\n",
            "аю 0.009714375\n",
            "projector 0.009711683\n",
            "cfg 0.009709422\n",
            "order 0.009708761\n",
            "speedo 0.009708757\n",
            "н::спасибо 0.009708752\n",
            "registration 0.009704544\n",
            "provided 0.009703988\n",
            "details 0.009703582\n",
            "receive 0.009703357\n",
            "purchase 0.009702743\n",
            "projects 0.00969858\n",
            "teamviewer 0.009698222\n",
            "productcode 0.009695575\n",
            "selected 0.009694491\n",
            "review 0.009692124\n",
            "number 0.009684096\n",
            "mpc 0.0096781375\n",
            "titles 0.009676713\n",
            "registered 0.009675798\n",
            "cfm 0.009672098\n",
            "playbook 0.009671033\n",
            "book 0.009669683\n",
            "спасиботраница 0.009666473\n",
            "mps 0.009665829\n",
            "lifebook 0.009661553\n",
            "www.1 0.009659363\n",
            "www 0.009659363\n",
            "section 0.009659221\n",
            "спасибо 0.009658565\n",
            ".спасибо 0.009658565\n",
            ",спасибо 0.009658565\n",
            "netbook 0.009657247\n",
            "requirements 0.009657046\n",
            "спасибок 0.0096559515\n",
            "спасибо,просто 0.009655495\n",
            "keycollector 0.009655035\n",
            "checkpoint 0.00965198\n",
            "commander 0.009650882\n",
            "request 0.009645333\n",
            "apply 0.009644574\n",
            "cardboard 0.009643512\n",
            "designo 0.009641389\n",
            "project 0.0096392995\n",
            "спасибочки 0.009637056\n",
            "mpn 0.009637009\n",
            "available 0.009636373\n",
            "mpm 0.0096359\n",
            "reference 0.009635673\n",
            "mpg 0.009634174\n",
            "probook 0.009632288\n",
            "freeplay 0.00963115\n",
            "addresses 0.009629136\n",
            "тo 0.009625071\n",
            "address 0.009620617\n",
            "receiver 0.00961306\n",
            "select 0.0096113505\n",
            "powerdirector 0.00958519\n",
            "workbook 0.00958096\n"
          ]
        }
      ]
    },
    {
      "cell_type": "code",
      "metadata": {
        "id": "0Urk1iXpnQ5i"
      },
      "source": [
        "def get_w2v_indicies(a):\n",
        "    res = []\n",
        "    if isinstance(a, str):\n",
        "        a = a.split()\n",
        "    for w in a:\n",
        "        if w in embs_voc:\n",
        "            res.append(embs_voc[w])\n",
        "        else:\n",
        "            \n",
        "            lemma = morph.parse(w)[0].normal_form\n",
        "            res.append(embs_voc.get(lemma, None))\n",
        "    return res\n",
        "\n",
        "def calc_embs(words):\n",
        "    words = ' '.join(map(normalize, words))\n",
        "    inds = get_w2v_indicies(words)\n",
        "\n",
        "    return [None if i is None else embs_vectors[i] for i in inds]"
      ],
      "id": "0Urk1iXpnQ5i",
      "execution_count": 18,
      "outputs": []
    },
    {
      "cell_type": "markdown",
      "metadata": {
        "id": "M7Dw297MnQ5i"
      },
      "source": [
        "Сложим эмбеддинги нетоксичных слов в kd-дерево, чтобы можно было близко искать ближайших соседей"
      ],
      "id": "M7Dw297MnQ5i"
    },
    {
      "cell_type": "code",
      "metadata": {
        "colab": {
          "base_uri": "https://localhost:8080/"
        },
        "id": "i4uoTUubxIA2",
        "outputId": "f7ef827a-a5a4-44c1-90f7-5c56c7dcd09e"
      },
      "source": [
        "print(len(toxicity))"
      ],
      "id": "i4uoTUubxIA2",
      "execution_count": 19,
      "outputs": [
        {
          "output_type": "stream",
          "name": "stdout",
          "text": [
            "162690\n"
          ]
        }
      ]
    },
    {
      "cell_type": "code",
      "metadata": {
        "colab": {
          "base_uri": "https://localhost:8080/"
        },
        "id": "eK_b4NW_BKzS",
        "outputId": "52923cc6-5b77-48b4-c359-802da626483b"
      },
      "source": [
        "MAX_TOXICITY  = 1\n",
        "\n",
        "non_toxicity = {word : val for word, val in toxicity.items() if val <= MAX_TOXICITY}\n",
        "\n",
        "nontoxic_emb_inds = [ind for word, ind in embs_voc.items() if toxicity.get(word, 1.0) <= MAX_TOXICITY]\n",
        "embs_vectors_normed_nontoxic = embs_vectors_normed[nontoxic_emb_inds]\n",
        "\n",
        "print(len(non_toxicity))"
      ],
      "id": "eK_b4NW_BKzS",
      "execution_count": 20,
      "outputs": [
        {
          "output_type": "stream",
          "name": "stdout",
          "text": [
            "162690\n"
          ]
        }
      ]
    },
    {
      "cell_type": "code",
      "metadata": {
        "colab": {
          "base_uri": "https://localhost:8080/"
        },
        "id": "dXmqK--yrOaW",
        "outputId": "d4963bfd-43ef-4ba2-f831-4ef70979e282"
      },
      "source": [
        "#Super non toxic words \n",
        "\n",
        "MAX_TOXICITY  = 0.01\n",
        "\n",
        "super_non_toxic = {word : val for word, val in toxicity.items() if val <= MAX_TOXICITY}\n",
        "\n",
        "super_nontoxic_emb_inds = [ind for word, ind in embs_voc.items() if toxicity.get(word, 1.0) <= MAX_TOXICITY]\n",
        "super_embs_vectors_normed_nontoxic = embs_vectors_normed[super_nontoxic_emb_inds]\n",
        "\n",
        "print(len(super_non_toxic))\n",
        "print(super_non_toxic)\n",
        "print(len(super_embs_vectors_normed_nontoxic))"
      ],
      "id": "dXmqK--yrOaW",
      "execution_count": 21,
      "outputs": [
        {
          "output_type": "stream",
          "name": "stdout",
          "text": [
            "255\n",
            "{'presentation': 0.009924684, 'account': 0.009770866, 'project': 0.0096392995, 'ctc': 0.009895597, 'нo': 0.009832173, 'спасибок': 0.0096559515, 'editions': 0.009870539, 'спасибо': 0.009658565, 'review': 0.009692124, 'newsoboz': 0.009951103, 'apply': 0.009644574, 'commander': 0.009650882, '8.cf': 0.009771859, 'freesync': 0.009821691, 'printed': 0.009835238, 'j12': 0.009945445, 'mpg': 0.009634174, 'payment': 0.009956751, 'guestbook': 0.009714621, 'wellneo': 0.009960559, 'types': 0.009738403, 'mastercard': 0.009852908, 'yamamoto': 0.009983909, 'probook': 0.009632288, 'pocketbook': 0.009745045, '12mp': 0.009839244, 'promotions': 0.009941017, 'cfm': 0.009672098, 'carplay': 0.009969403, 'cabinet': 0.009781747, 'н::спасибо': 0.009708752, 'dcf': 0.009869729, 'тo': 0.009625071, 'caller': 0.00989115, 'monthly': 0.009936785, 'selectioн': 0.009977196, 'certificate': 0.009878223, 'recommended': 0.009754723, 'teamviewer': 0.009698222, 'openoffice': 0.009925006, '.mp': 0.009839244, 'added': 0.009984003, 'foundation': 0.009960771, 'j': 0.009945445, 'jcomments': 0.009724544, 'infotag': 0.009945946, 'ъ': 0.009991745, 'cardboard': 0.009643512, 'www.1': 0.009659363, 'excellent': 0.009990614, 'registration': 0.009704544, 'result': 0.009991114, 'direct': 0.009807623, 'ifo': 0.009806131, 'закладная': 0.00987654, 'title': 0.009763957, 'духе': 0.009820138, 'design': 0.009824204, 'edited': 0.009848285, 'закладный': 0.009939168, 'прoкoммeнтировaть': 0.009790429, 'mmoguider': 0.009821408, 'software': 0.009833235, '2-4mp': 0.009839244, 'number': 0.009684096, 'card': 0.009972742, 'дизайна': 0.009892657, 'following': 0.009905984, 'json': 0.009958467, 'call': 0.009879361, 'airplay': 0.009806201, 'ya': 0.009848912, '.спасибо': 0.009658565, 'mpn': 0.009637009, 'details': 0.009703582, 'schedule': 0.009723984, 'j-1': 0.009945445, 'dcfta': 0.009765147, 'located': 0.009920427, 'sharepoint': 0.009758454, 'infocom': 0.009834425, 'workbook': 0.00958096, 'спасибочки': 0.009637056, 'notepad': 0.00980464, 'evaluation': 0.009935569, 'mp2': 0.009839244, 'guide': 0.009811462, 'transportation': 0.00978761, 'vvv': 0.009896731, 'request': 0.009645333, 'management': 0.009850903, 'cvv': 0.009812449, 'support': 0.009715264, 'wcf': 0.009744373, 'интерес': 0.009950445, 'winkhaus': 0.0097380495, 'collection': 0.009980587, 'reserved': 0.009967582, 'advice': 0.009829767, 'www': 0.009659363, 'casein': 0.009815169, 'titles': 0.009676713, 'english': 0.0098932935, 'improve': 0.009962713, 'checkpoint': 0.00965198, 'rental': 0.009812759, 'marketwatch': 0.009843223, 'freeplay': 0.00963115, 'select': 0.0096113505, 'promo': 0.009874278, 'ideaphone': 0.009980343, 'rmc': 0.009887517, 'documents': 0.009758518, 'спасибо,что': 0.009965018, 'receiver': 0.00961306, 'замечательный': 0.009973716, 'аю': 0.009714375, 'cf': 0.009771859, 'этoгo': 0.009732593, 'newsonline': 0.009730524, 'ppf': 0.009996007, 'call-center': 0.009763764, 'board': 0.009749833, 'service': 0.009817944, 'mp4': 0.009839244, 'yam': 0.00973132, 'provided': 0.009703988, 'appstore': 0.009768219, 'selected': 0.009694491, 'infomarket': 0.009922599, 'promotion': 0.009836448, 'j1': 0.009945445, 'email': 0.009845104, 'polycom': 0.009978759, 'application': 0.009803455, 'ъc': 0.009933839, '4-8mp': 0.009839244, 'дизайн-проект': 0.009940755, 'edit': 0.00984908, 'http': 0.009772634, 'address': 0.009620617, 'designjet': 0.009809331, 'mpls': 0.009729734, 'required': 0.009756584, 'cfd': 0.009774271, 'book': 0.009669683, 'j3': 0.009945445, 'moneybookers': 0.00980016, 'received': 0.009896008, 'services': 0.009805724, 'supported': 0.0098092845, 'explay': 0.009895934, 'закладк': 0.00992526, 'onliner': 0.009938821, 'projector': 0.009711683, 'related': 0.009918881, 'onliner.by': 0.009730259, 'program': 0.009971893, 'netbook': 0.009657247, 'keycollector': 0.009655035, 'addresses': 0.009629136, '[email': 0.009845104, 'powerdirector': 0.00958519, 'requirements': 0.009657046, 'спасибо,просто': 0.009655495, 'easy': 0.009900264, 'openbox': 0.009742492, 'pmp': 0.009982812, 'jpm': 0.009775943, 'тoгo': 0.009811462, 'chaozhou': 0.0098348325, 'дизайный': 0.009849666, 'yanc': 0.009982591, 'section': 0.009659221, 'master': 0.009889166, 'workcentre': 0.009838232, 'продолжений': 0.009842385, 'suitable': 0.00996944, 'gamepad': 0.009961824, 'projects': 0.00969858, 'postscript': 0.00974957, 'playbook': 0.009671033, 'productcode': 0.009695575, 'закладка': 0.009741862, 'icf': 0.009957711, 'available': 0.009636373, 'recommend': 0.009804214, 'j7': 0.009945445, 'meddaily': 0.009959455, 'свеже': 0.009760704, 'mpc': 0.0096781375, 'спасиботраница': 0.009666473, '-дизайна': 0.009892657, '-дизайн': 0.009810781, 'designo': 0.009641389, 'sncf': 0.0097690765, 'cfg': 0.009709422, 'asbook': 0.0099136, 'mp3': 0.009839244, 'ctp': 0.00979208, 'mps': 0.009665829, 'listed': 0.009756879, 'nicoin': 0.009802595, 'registered': 0.009675798, 'spacecom': 0.009831026, 'speedo': 0.009708757, 'callback': 0.00972145, 'contact': 0.0098805325, 'заклад': 0.009926661, 'mp': 0.009839244, 'mpm': 0.0096359, 'last.fm': 0.009887466, 'rm': 0.009863166, 'textify': 0.009881068, 'united': 0.009875164, 'correction': 0.009762546, 'receive': 0.009703357, 'preview': 0.009746988, 'directx': 0.009995624, 'reference': 0.009635673, 'b-class': 0.009974619, 'этo': 0.009839858, 'purchase': 0.009702743, 'format': 0.0097941, 'masterforex': 0.009819005, 'supports': 0.009860797, 'j2': 0.009945445, 'print': 0.009772043, ',спасибо': 0.009658565, 'howo': 0.009838613, 'ppm': 0.00986535, 'information': 0.0099925855, '2mp': 0.009839244, 'order': 0.009708761, 'дизайновый': 0.009749578, 'holiday.by': 0.009982524, 'cardin': 0.009779644, 'replay': 0.009955068, 'limited': 0.00996143, 'practice': 0.00999235, 'text': 0.009994719, 'инспектирований': 0.009868681, 'product': 0.009963871, 'mmo': 0.009779437, 'directmailrobot': 0.009854196, 'sheet': 0.009822109, 'lifebook': 0.009661553, 'j5': 0.009945445, 'wep': 0.009964596, 'дизайн': 0.009810781, 'memory': 0.009969277, 'allview': 0.009727797, '[text': 0.009994719, 'airflow': 0.009890847, 'well': 0.00995505}\n",
            "255\n"
          ]
        }
      ]
    },
    {
      "cell_type": "markdown",
      "metadata": {
        "id": "afLzttcHnQ5k"
      },
      "source": [
        "Функция находит самое близкое нетоксичное слово по предпосчитанным эмбеддингам слов"
      ],
      "id": "afLzttcHnQ5k"
    },
    {
      "cell_type": "code",
      "metadata": {
        "colab": {
          "base_uri": "https://localhost:8080/"
        },
        "id": "9f4StVNyvHe3",
        "outputId": "7cf0690c-77b4-4b62-8e66-7e10c60f1154"
      },
      "source": [
        "embs_vectors_normed_nontoxic.shape"
      ],
      "id": "9f4StVNyvHe3",
      "execution_count": 22,
      "outputs": [
        {
          "output_type": "execute_result",
          "data": {
            "text/plain": [
              "(162690, 300)"
            ]
          },
          "metadata": {},
          "execution_count": 22
        }
      ]
    },
    {
      "cell_type": "code",
      "metadata": {
        "id": "OnoIZVNXup7k"
      },
      "source": [
        "import hnswlib\n",
        "import numpy as np\n",
        "import pickle\n",
        "\n",
        "\n",
        "num_elements, dim = super_embs_vectors_normed_nontoxic.shape\n",
        "\n",
        "# Generating sample data\n",
        "data = super_embs_vectors_normed_nontoxic\n",
        "ids = np.arange(num_elements)\n",
        "\n",
        "# Declaring index\n",
        "p = hnswlib.Index(space = 'cosine', dim = dim) # possible options are l2, cosine or ip\n",
        "\n",
        "# Initializing index - the maximum number of elements should be known beforehand\n",
        "p.init_index(max_elements = num_elements, ef_construction = 400, M = 16)\n",
        "\n",
        "# Element insertion (can be called several times):\n",
        "p.add_items(data, ids)"
      ],
      "id": "OnoIZVNXup7k",
      "execution_count": 23,
      "outputs": []
    },
    {
      "cell_type": "code",
      "metadata": {
        "id": "Plv2lT94punc"
      },
      "source": [
        "#A better one\n",
        "\n",
        "from functools import lru_cache\n",
        "\n",
        "@lru_cache()\n",
        "def find_closest_nontoxic(word, word_toxicity, allow_self=False):\n",
        "    #if toxicity.get(word, 1.0) <= threshold:\n",
        "    #    return word\n",
        "\n",
        "    #word_lemmatized = morph.parse(word)[0].normal_form\n",
        "    if word not in embs_voc:\n",
        "        \n",
        "            return word_toxicity, word\n",
        "        #else:\n",
        "           # word = word_lemmatized\n",
        "    \n",
        "\n",
        "    #threshold = min(toxicity.get(word, threshold), threshold)\n",
        "    \n",
        "    word_emb = calc_embs([word])\n",
        "    if word_emb is None or word_emb[0] is None:\n",
        "        return word_toxicity, word\n",
        "\n",
        "\n",
        "    query = p.knn_query(word_emb, k = 200)[0][0]\n",
        "\n",
        "\n",
        "    best_candidate = word\n",
        "    best_score = word_toxicity\n",
        "\n",
        "    \n",
        "\n",
        "    for i in query:\n",
        "        candidate = embs_voc_by_id[nontoxic_emb_inds[i]]\n",
        "        similarity = distance_score(word, candidate)\n",
        "        \n",
        "        if (1 - toxicity.get(candidate)) + (similarity) > best_score:\n",
        "            \n",
        "            best_score = (1 - toxicity.get(candidate)) + (similarity)\n",
        "            best_candidate = candidate \n",
        "            \n",
        "    return toxicity.get(candidate), best_candidate\n"
      ],
      "id": "Plv2lT94punc",
      "execution_count": 24,
      "outputs": []
    },
    {
      "cell_type": "markdown",
      "metadata": {
        "id": "ftLSLtKPnQ5l"
      },
      "source": [
        "Заменяем токсичные слова на ближайшие по эмбеддингам не-токсичные"
      ],
      "id": "ftLSLtKPnQ5l"
    },
    {
      "cell_type": "code",
      "metadata": {
        "colab": {
          "base_uri": "https://localhost:8080/"
        },
        "id": "h8PZTCsgkoyh",
        "outputId": "1e14b820-95f1-41b0-c15e-1a9185403951"
      },
      "source": [
        "def sort_by_toxicity(words):\n",
        "    toxicities = [toxicity.get(w) if w in toxicity else predict_toxicity([w], return_scores = True, off_tqdm=True) for w in words]\n",
        "  \n",
        "    result = [[toxicities[i], i, words[i]] for i in range(len(words))]\n",
        "    result.sort()\n",
        "    return result\n",
        "\n",
        "line = line = np.random.choice(raw_texts)\n",
        "pred = predict_toxicity([line], return_scores=True, off_tqdm=True)\n",
        "\n",
        "line_words = normalize(line).split()\n",
        "\n",
        "print(sort_by_toxicity(line_words))"
      ],
      "id": "h8PZTCsgkoyh",
      "execution_count": 36,
      "outputs": [
        {
          "output_type": "stream",
          "name": "stdout",
          "text": [
            "[[0.043341476, 28, 'бы'], [0.060944885, 3, 'и'], [0.060944885, 25, 'и'], [0.06476349, 9, 'совсем'], [0.0723432, 8, 'теперь'], [0.08023487, 29, 'его'], [0.0820568, 15, 'за'], [0.08566516, 12, 'на'], [[0.09416373], 31, 'поставили'], [0.10354781, 17, 'обычный'], [[0.10824207], 6, 'своих'], [0.109514385, 26, 'вся'], [0.112177566, 5, 'в'], [0.112177566, 21, 'в'], [0.112177566, 32, 'в'], [0.11270119, 11, 'похож'], [[0.11403449], 16, 'свободу'], [0.11746098, 0, 'не'], [0.11746098, 10, 'не'], [0.11746098, 30, 'не'], [0.12950279, 2, 'границ'], [0.13197665, 27, 'лишь'], [[0.15246761], 24, 'всех'], [0.18019177, 19, 'юнец'], [0.21770859, 33, 'угол'], [[0.23427545], 4, 'запретов'], [[0.24474515], 7, 'действиях'], [0.25768784, 1, 'знающий'], [[0.32118675], 13, 'пламенного'], [[0.34031448], 23, 'сливающий'], [[0.38162383], 14, 'борца'], [[0.6250084], 20, 'наложивший'], [0.6512371, 22, 'штанишки'], [[0.79953516], 18, 'нашкодивший']]\n"
          ]
        }
      ]
    },
    {
      "cell_type": "code",
      "metadata": {
        "colab": {
          "base_uri": "https://localhost:8080/"
        },
        "id": "ahpQ9ar23y5C",
        "outputId": "a3d1a50c-bfa5-4993-b414-69ea6028cc00"
      },
      "source": [
        "def sort_by_distance(words, word):\n",
        "    result = [[distance_score(word, words[i]), i, words[i]] for i in range(len(words))]\n",
        "    result.sort()\n",
        "    return result\n",
        "\n",
        "print(texts[0])\n",
        "sort_by_distance(texts[0].split(), \"смерть\")"
      ],
      "id": "ahpQ9ar23y5C",
      "execution_count": 69,
      "outputs": [
        {
          "output_type": "stream",
          "name": "stdout",
          "text": [
            "он скоро сдохнет и все вернется\n"
          ]
        },
        {
          "output_type": "execute_result",
          "data": {
            "text/plain": [
              "[[0.0030838375406632423, 2, 'сдохнет'],\n",
              " [0.0030838375406632423, 5, 'вернется'],\n",
              " [0.3301158710261462, 4, 'все'],\n",
              " [0.3321799644163471, 1, 'скоро'],\n",
              " [0.3524341842460087, 3, 'и'],\n",
              " [0.47781617663736303, 0, 'он']]"
            ]
          },
          "metadata": {},
          "execution_count": 69
        }
      ]
    },
    {
      "cell_type": "code",
      "metadata": {
        "colab": {
          "base_uri": "https://localhost:8080/"
        },
        "id": "ETqaDdobJMxs",
        "outputId": "e6c38465-5cd9-4f78-c929-2e070391dc88"
      },
      "source": [
        "new_checker([\"он скоро сдохнет и все вернется\"], [\"он скоро спасибо и все вернется\"], show_res = True)"
      ],
      "id": "ETqaDdobJMxs",
      "execution_count": 65,
      "outputs": [
        {
          "output_type": "stream",
          "name": "stderr",
          "text": [
            "average toxicity: 0.1253464\n",
            "mean lmdiff: 0.8645798602503751\n",
            "mean distance_score: 0.480183230614781\n"
          ]
        },
        {
          "output_type": "execute_result",
          "data": {
            "text/plain": [
              "36.311834329045126"
            ]
          },
          "metadata": {},
          "execution_count": 65
        }
      ]
    },
    {
      "cell_type": "code",
      "metadata": {
        "id": "uwfKHeX9nQ5l"
      },
      "source": [
        "def detox(line):\n",
        "    \n",
        "    words = normalize(line).split()\n",
        "    sorted_words = sort_by_toxicity(words) #[токсичность, индекс, слово]\n",
        "    \n",
        "    \n",
        "    #cur_toxicity = predict_toxicity([' '.join(words)], return_scores=True, off_tqdm=True)[0]\n",
        "  \n",
        "    while sorted_words:\n",
        "        toxic_toxicity, toxic_idx, toxic_word = sorted_words.pop()\n",
        "        if toxic_toxicity > 0.77:\n",
        "            fixed_word = \"Спасибо\"\n",
        "        else:\n",
        "            fixed_toxicity, fixed_word = find_closest_nontoxic(toxic_word, toxic_toxicity, allow_self = True)\n",
        "        words[toxic_idx] = fixed_word\n",
        "        #if fixed_word != toxic_word:\n",
        "        #    sorted_words.append([fixed_toxicity, toxic_idx, fixed_word])\n",
        "        #    sorted_words.sort()\n",
        "        \n",
        "        #cur_toxicity = predict_toxicity([' '.join(words)], return_scores=True, off_tqdm=True)[0]\n",
        "        \n",
        "\n",
        "    \n",
        "    return ' '.join(words)"
      ],
      "id": "uwfKHeX9nQ5l",
      "execution_count": 25,
      "outputs": []
    },
    {
      "cell_type": "code",
      "metadata": {
        "id": "aB9de4oX0-hu"
      },
      "source": [
        "#Super non toxic\n",
        "def find_most_similar(word):\n",
        "    emb_word = calc_embs([word])\n",
        "    max_similarity = 0\n",
        "    result = \"спасибо\"\n",
        "    for i in p.knn_query(emb_word, k = 5)[0][0]:\n",
        "        \n",
        "        other_word = embs_voc_by_id[super_nontoxic_emb_inds[i]]\n",
        "        \n",
        "        similarity = distance_score(word, other_word)\n",
        "        if similarity > max_similarity:\n",
        "            max_similarity = similarity\n",
        "            result = other_word\n",
        "        #print(other_word, similarity, toxicity.get(other_word))\n",
        "    return result\n",
        "\n",
        "\n",
        "def detox_dumb(line):\n",
        "    words = normalize(line).split()\n",
        "    sorted_words = sort_by_distance(words, \"спасибо\")#sort_by_toxicity(words)\n",
        "    score = new_checker([line], [' '.join(words)])\n",
        "    \n",
        "    while sorted_words[::-1]:\n",
        "        toxic_toxicity, toxic_idx, toxic_word = sorted_words.pop()\n",
        "        \n",
        "        #if toxic_word in embs_voc:\n",
        "        #    fixed_word = find_most_similar(toxic_word)\n",
        "        #else:\n",
        "        fixed_word = \"спасибо\"\n",
        "        \n",
        "        \n",
        "\n",
        "        words[toxic_idx] = fixed_word\n",
        "        new_score = new_checker([line], [' '.join(words)])\n",
        "\n",
        "        if new_score >= score:\n",
        "            score = new_score\n",
        "        else:\n",
        "            words[toxic_idx] = toxic_word\n",
        "            #break\n",
        "    \n",
        "    return ' '.join(words)\n",
        "\n",
        "#scores = np.array(compute_score2([line for i in range(len(detoxed_sentences))], detoxed_sentences))\n",
        "#        words = detoxed_sentences[np.argmax(scores)].split()"
      ],
      "id": "aB9de4oX0-hu",
      "execution_count": 72,
      "outputs": []
    },
    {
      "cell_type": "code",
      "metadata": {
        "id": "fNPmaQ32CJLP",
        "colab": {
          "base_uri": "https://localhost:8080/",
          "height": 116,
          "referenced_widgets": [
            "45a663dab0d544b68fa2c0156b8dd2a6",
            "b1f2f6ecf13c4942bfa6ef6909f94099",
            "ad33fbadae5243a99b7611e342fbaacf",
            "45cc60b3b4f6484c922d666532cc124a",
            "af62676cdacb467d8030432a27c1b2a7",
            "fa35c44c73a3420fa8a699af5efb09c6",
            "499d6178a42c4c6484719f9fc74c8588",
            "28ea27167600428a97094f0843f5737e",
            "24e36b3be7f042f2acd1019408a01dbb",
            "41c7520a66b24fc78855fbe9cab258be",
            "756753de09b949ca836f201f65478ae7"
          ]
        },
        "outputId": "982b97da-42dd-483d-8134-23db8d6b3e05"
      },
      "source": [
        "Original = []\n",
        "Detoxed = []\n",
        "for i in tqdm(range(0, len(texts), 50)):\n",
        "    line = texts[i]\n",
        "    detoxed = detox_dumb(line)\n",
        "\n",
        "    Original.append(line)\n",
        "    Detoxed.append(detoxed)\n",
        "\n",
        "\n",
        "new_checker(Original, Detoxed, show_res = True)"
      ],
      "id": "fNPmaQ32CJLP",
      "execution_count": 73,
      "outputs": [
        {
          "output_type": "display_data",
          "data": {
            "application/vnd.jupyter.widget-view+json": {
              "model_id": "45a663dab0d544b68fa2c0156b8dd2a6",
              "version_minor": 0,
              "version_major": 2
            },
            "text/plain": [
              "  0%|          | 0/50 [00:00<?, ?it/s]"
            ]
          },
          "metadata": {}
        },
        {
          "output_type": "stream",
          "name": "stderr",
          "text": [
            "average toxicity: 0.33889008\n",
            "mean lmdiff: 0.9461361997563867\n",
            "mean distance_score: 0.7246765191251217\n"
          ]
        },
        {
          "output_type": "execute_result",
          "data": {
            "text/plain": [
              "46.035975132307"
            ]
          },
          "metadata": {},
          "execution_count": 73
        }
      ]
    },
    {
      "cell_type": "code",
      "metadata": {
        "id": "bkSTy4lhnQ5m",
        "colab": {
          "base_uri": "https://localhost:8080/",
          "height": 116,
          "referenced_widgets": [
            "8451110ed3344b83904f6c1ef33b0b0d",
            "26501541a7d343a7b01a6c4d8702aae3",
            "94e4015ed1c4413693fc166a22fc9ac6",
            "45ac07babef841cbb937f79d05f5c7c1",
            "a418958f7ce342128964f2e57408825b",
            "ad0c4d51e8e846f0bd145af5e6db45b2",
            "4e15b7c783984e83ac05ab44e1834bd2",
            "f8f4d3d921bd4a22aaf49c4d84d5e8d1",
            "33ec3501f83f4b1fb6881096ccfe763b",
            "d030401df76547eb994a8d065d0e9d71",
            "3fb117265cc74a36868eb80b0c708566"
          ]
        },
        "outputId": "d1a303b3-81b9-479b-a861-8347f0ba2544"
      },
      "source": [
        "fixed_texts = list(map(detox_dumb, tqdm(texts)))\n",
        "\n",
        "save_comments(fixed_texts, \"closest_to_thanks\")\n",
        "\n",
        "new_checker(texts, fixed_texts, show_res = True)"
      ],
      "id": "bkSTy4lhnQ5m",
      "execution_count": 74,
      "outputs": [
        {
          "output_type": "display_data",
          "data": {
            "application/vnd.jupyter.widget-view+json": {
              "model_id": "8451110ed3344b83904f6c1ef33b0b0d",
              "version_minor": 0,
              "version_major": 2
            },
            "text/plain": [
              "  0%|          | 0/2500 [00:00<?, ?it/s]"
            ]
          },
          "metadata": {}
        },
        {
          "output_type": "stream",
          "name": "stderr",
          "text": [
            "average toxicity: 0.34476024\n",
            "mean lmdiff: 0.9481122214124138\n",
            "mean distance_score: 0.7274946147156974\n"
          ]
        },
        {
          "output_type": "execute_result",
          "data": {
            "text/plain": [
              "46.144001054329166"
            ]
          },
          "metadata": {},
          "execution_count": 74
        }
      ]
    },
    {
      "cell_type": "markdown",
      "metadata": {
        "id": "5RQLQX4LJVHn"
      },
      "source": [
        "#Сравнение решений:"
      ],
      "id": "5RQLQX4LJVHn"
    },
    {
      "cell_type": "code",
      "metadata": {
        "colab": {
          "base_uri": "https://localhost:8080/"
        },
        "id": "nis-msVOK7S2",
        "outputId": "b33f8c55-0f0c-45c2-d613-b07832d317c0"
      },
      "source": [
        "print(len(texts))\n",
        "print(len(kirill))\n",
        "print(len(valya))"
      ],
      "id": "nis-msVOK7S2",
      "execution_count": null,
      "outputs": [
        {
          "output_type": "stream",
          "name": "stdout",
          "text": [
            "2500\n",
            "2500\n",
            "2500\n"
          ]
        }
      ]
    },
    {
      "cell_type": "code",
      "metadata": {
        "colab": {
          "base_uri": "https://localhost:8080/",
          "height": 133,
          "referenced_widgets": [
            "4bbc1102089b4ca4ba9f98053920f71c",
            "02f20c2991a7487698a75827d5af5793",
            "79c81e608fae4f228a6f0f5a8741e781",
            "f8e1fc8aabb448bca71ff17630373f4e",
            "a863365913e347c889dde0453477e3cd",
            "e4fa5d4a844a4714bafbd0ad93b34d06",
            "d5a8ae5b83214a6abfd82c40a5a3cf1f",
            "c774b0e4c4f84dfbb865c9b44a333b08",
            "636d35815afc4bd6969a1cfedac2f3d3",
            "a2924ad0ec5b497bbe3576134ee5ba28",
            "cec2a43d64cb43d5be1216554ccc14de"
          ]
        },
        "id": "atV-N0w0JUcb",
        "outputId": "23d4af5c-a93c-4b20-bacb-5c0ab0dbc7e1"
      },
      "source": [
        "valya = []\n",
        "kirill = []\n",
        "count_valya = 0\n",
        "count_kirill = 0 \n",
        "\n",
        "with open(DRIVE_PATH + 'submits/bruteforce_hard_2_part.txt', 'rt') as f:\n",
        "    for line in f:\n",
        "        valya.append(line) \n",
        "\n",
        "with open(DRIVE_PATH + 'submits/full_thanks.txt', 'rt') as f:\n",
        "    for line in f:\n",
        "        kirill.append(line) \n",
        "\n",
        "super_result = []\n",
        "for i in tqdm(range(2500)):\n",
        "    kirill_score =  new_checker([texts[i]], [kirill[i]])\n",
        "    valya_score = new_checker([texts[i]], [valya[i]])\n",
        "    if valya_score > kirill_score:\n",
        "        count_valya += 1\n",
        "        super_result.append(valya[i])\n",
        "        #print(valya_score,kirill_score, \"Валя\")\n",
        "    else:\n",
        "        count_kirill += 1\n",
        "        super_result.append(kirill[i])\n",
        "        #print(valya_score, kirill_score, \"Кирилл\")\n",
        "\n",
        "    \n",
        "\n",
        "print(count_valya, count_kirill)\n",
        "new_checker(texts, super_result, show_res = True)"
      ],
      "id": "atV-N0w0JUcb",
      "execution_count": null,
      "outputs": [
        {
          "output_type": "display_data",
          "data": {
            "application/vnd.jupyter.widget-view+json": {
              "model_id": "4bbc1102089b4ca4ba9f98053920f71c",
              "version_minor": 0,
              "version_major": 2
            },
            "text/plain": [
              "  0%|          | 0/2500 [00:00<?, ?it/s]"
            ]
          },
          "metadata": {}
        },
        {
          "output_type": "stream",
          "name": "stdout",
          "text": [
            "686 1814\n"
          ]
        },
        {
          "output_type": "stream",
          "name": "stderr",
          "text": [
            "average toxicity: 0.31801412\n",
            "mean lmdiff: 0.9771276972705748\n",
            "mean distance_score: 0.755816421040236\n"
          ]
        },
        {
          "output_type": "execute_result",
          "data": {
            "text/plain": [
              "51.008772758835654"
            ]
          },
          "metadata": {},
          "execution_count": 39
        }
      ]
    },
    {
      "cell_type": "code",
      "metadata": {
        "colab": {
          "base_uri": "https://localhost:8080/",
          "height": 183,
          "referenced_widgets": [
            "f84b51cfe28f4aefa4bcb407f0d67e7e",
            "f7bf172a02424f76a29e58b4a4459929",
            "e1a718d34a7048b6a6b70f68882b8ceb",
            "11273987ec494c3a8ad7e7d0017db767",
            "9d7c73976b0f41d5a22ecfe8792c361c",
            "6ed89a986bdd4e069e8c7e67d53e2a02",
            "fe8b6da60d3b45acbd4f7166823e6867",
            "c1a3137d7a124425ab4459b15a91a67a",
            "869fe78622054e1b9f2a9191aa70eb54",
            "e867dfd1952d45dab9feade16f109ea9",
            "8f32432dbe3c4a02aad5ad78b0ca39bd"
          ]
        },
        "id": "pj3uPXRzL-qH",
        "outputId": "3b3cd17e-9cf2-47ed-88b2-f7ee32285540"
      },
      "source": [
        "ultimate_solution = []\n",
        "\n",
        "names = os.listdir(path=\"/content/drive/MyDrive/YandexCup/submits_pro\")\n",
        "if '.ipynb_checkpoints' in names:\n",
        "    names.remove('.ipynb_checkpoints')\n",
        "\n",
        "\n",
        "solutions = {name : [] for name in names}\n",
        "count = {name : 0 for name in names}\n",
        "#reading submits\n",
        "for name in names:\n",
        "    sol = []\n",
        "    with open(DRIVE_PATH + f'submits_pro/{name}', 'rt') as f:\n",
        "        for line in f:\n",
        "            if line.strip():\n",
        "                sol.append(normalize(line))\n",
        "\n",
        "    solutions[name] = sol[:]\n",
        "    print(name, len(sol))\n",
        "\n",
        "for i in tqdm(range(len(texts))):\n",
        "    scores = {name : 0 for name in names}\n",
        "    for name in names:\n",
        "        scores[name] = new_checker([texts[i]], [solutions[name][i]])\n",
        "\n",
        "    best_sol_name = max(scores, key=scores.get)\n",
        "    count[best_sol_name] += 1\n",
        "    ultimate_solution.append(solutions[best_sol_name][i])\n",
        "\n",
        "\n",
        "print(count)\n",
        "print(new_checker(texts, ultimate_solution, show_res = True))\n",
        "save_comments(ultimate_solution, \"mega\")"
      ],
      "id": "pj3uPXRzL-qH",
      "execution_count": 75,
      "outputs": [
        {
          "output_type": "stream",
          "name": "stdout",
          "text": [
            "mega.txt 2500\n",
            "super_2.txt 2500\n",
            "closest_to_thanks.txt 2500\n"
          ]
        },
        {
          "output_type": "display_data",
          "data": {
            "application/vnd.jupyter.widget-view+json": {
              "model_id": "f84b51cfe28f4aefa4bcb407f0d67e7e",
              "version_minor": 0,
              "version_major": 2
            },
            "text/plain": [
              "  0%|          | 0/2500 [00:00<?, ?it/s]"
            ]
          },
          "metadata": {}
        },
        {
          "output_type": "stream",
          "name": "stdout",
          "text": [
            "{'mega.txt': 1318, 'super_2.txt': 860, 'closest_to_thanks.txt': 322}\n",
            "53.2548640218932\n"
          ]
        },
        {
          "output_type": "stream",
          "name": "stderr",
          "text": [
            "average toxicity: 0.3053273\n",
            "mean lmdiff: 0.9732874209663734\n",
            "mean distance_score: 0.7775705304398256\n"
          ]
        }
      ]
    },
    {
      "cell_type": "code",
      "metadata": {
        "colab": {
          "base_uri": "https://localhost:8080/"
        },
        "id": "9AKrJAipivJI",
        "outputId": "2f489c90-7088-416b-dc73-8a483a981368"
      },
      "source": [
        "new_checker(texts, ultimate_solution, show_res = True)"
      ],
      "id": "9AKrJAipivJI",
      "execution_count": null,
      "outputs": [
        {
          "output_type": "stream",
          "name": "stderr",
          "text": [
            "average toxicity: 0.3240752\n",
            "mean lmdiff: 0.9753691064250383\n",
            "mean distance_score: 0.776402065763449\n"
          ]
        },
        {
          "output_type": "execute_result",
          "data": {
            "text/plain": [
              "51.65330798940025"
            ]
          },
          "metadata": {},
          "execution_count": 83
        }
      ]
    },
    {
      "cell_type": "code",
      "metadata": {
        "id": "cwUpNIWNR58l"
      },
      "source": [
        "o = Original[2]\n",
        "d = Detoxed[2]\n",
        "print(o, d)\n",
        "print(distance_score(o, d))"
      ],
      "id": "cwUpNIWNR58l",
      "execution_count": null,
      "outputs": []
    },
    {
      "cell_type": "code",
      "metadata": {
        "id": "d3ReNVfgxAzv"
      },
      "source": [
        "original_texts = []\n",
        "\n",
        "with open(DRIVE_PATH + 'public_testset.txt', 'rt') as f:\n",
        "    for line in f:\n",
        "        original_texts.append(normalize(line))\n",
        "\n",
        "text_for_eval = []\n",
        "with open(DRIVE_PATH + 'submits/sorted_fixed.txt', 'rt') as f:\n",
        "    for line in f:\n",
        "        text_for_eval.append(normalize(line))\n",
        "\n",
        "\n",
        "new_checker(original_texts, text_for_eval)"
      ],
      "id": "d3ReNVfgxAzv",
      "execution_count": null,
      "outputs": []
    },
    {
      "cell_type": "markdown",
      "metadata": {
        "id": "ZaeTPVTznQ5n"
      },
      "source": [
        "Скор, если никак не изменять комментарии:"
      ],
      "id": "ZaeTPVTznQ5n"
    },
    {
      "cell_type": "markdown",
      "metadata": {
        "id": "7wtXSZn0nQ5p"
      },
      "source": [
        "Сохраним данные для бейзлайна online-задачи"
      ],
      "id": "7wtXSZn0nQ5p"
    },
    {
      "cell_type": "markdown",
      "metadata": {
        "id": "1Iis-3crv-zT"
      },
      "source": [
        "##Для Online-решения"
      ],
      "id": "1Iis-3crv-zT"
    },
    {
      "cell_type": "code",
      "metadata": {
        "id": "R-OmT57snQ5p"
      },
      "source": [
        "!mkdir -p online_baseline"
      ],
      "id": "R-OmT57snQ5p",
      "execution_count": null,
      "outputs": []
    },
    {
      "cell_type": "code",
      "metadata": {
        "id": "FrI00hyYnQ5p"
      },
      "source": [
        "import pickle as pkl\n",
        "\n",
        "with open('./online_baseline/data.pkl', 'wb') as f:\n",
        "    pkl.dump(toxicity, f)\n",
        "    pkl.dump(nontoxic_emb_inds, f)"
      ],
      "id": "FrI00hyYnQ5p",
      "execution_count": null,
      "outputs": []
    }
  ]
}