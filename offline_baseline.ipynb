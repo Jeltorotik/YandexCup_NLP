{
  "nbformat": 4,
  "nbformat_minor": 5,
  "metadata": {
    "accelerator": "GPU",
    "colab": {
      "name": "offline_baseline.ipynb",
      "provenance": [],
      "collapsed_sections": [
        "1Iis-3crv-zT"
      ]
    },
    "kernelspec": {
      "display_name": "Python 3",
      "language": "python",
      "name": "python3"
    },
    "language_info": {
      "codemirror_mode": {
        "name": "ipython",
        "version": 3
      },
      "file_extension": ".py",
      "mimetype": "text/x-python",
      "name": "python",
      "nbconvert_exporter": "python",
      "pygments_lexer": "ipython3",
      "version": "3.7.9"
    },
    "widgets": {
      "application/vnd.jupyter.widget-state+json": {
        "a38dd805866d458b92ea42f02e89f889": {
          "model_module": "@jupyter-widgets/controls",
          "model_name": "HBoxModel",
          "model_module_version": "1.5.0",
          "state": {
            "_view_name": "HBoxView",
            "_dom_classes": [],
            "_model_name": "HBoxModel",
            "_view_module": "@jupyter-widgets/controls",
            "_model_module_version": "1.5.0",
            "_view_count": null,
            "_view_module_version": "1.5.0",
            "box_style": "",
            "layout": "IPY_MODEL_67ffeba951ef477baca5dcd9a3047d4f",
            "_model_module": "@jupyter-widgets/controls",
            "children": [
              "IPY_MODEL_829b5fb9293f43bb9c87606c0aad0cb0",
              "IPY_MODEL_70f4feb10f004e34874914bf71bc757d",
              "IPY_MODEL_8298b2055b8a4a0a9d483bb4029a8c25"
            ]
          }
        },
        "67ffeba951ef477baca5dcd9a3047d4f": {
          "model_module": "@jupyter-widgets/base",
          "model_name": "LayoutModel",
          "model_module_version": "1.2.0",
          "state": {
            "_view_name": "LayoutView",
            "grid_template_rows": null,
            "right": null,
            "justify_content": null,
            "_view_module": "@jupyter-widgets/base",
            "overflow": null,
            "_model_module_version": "1.2.0",
            "_view_count": null,
            "flex_flow": null,
            "width": null,
            "min_width": null,
            "border": null,
            "align_items": null,
            "bottom": null,
            "_model_module": "@jupyter-widgets/base",
            "top": null,
            "grid_column": null,
            "overflow_y": null,
            "overflow_x": null,
            "grid_auto_flow": null,
            "grid_area": null,
            "grid_template_columns": null,
            "flex": null,
            "_model_name": "LayoutModel",
            "justify_items": null,
            "grid_row": null,
            "max_height": null,
            "align_content": null,
            "visibility": null,
            "align_self": null,
            "height": null,
            "min_height": null,
            "padding": null,
            "grid_auto_rows": null,
            "grid_gap": null,
            "max_width": null,
            "order": null,
            "_view_module_version": "1.2.0",
            "grid_template_areas": null,
            "object_position": null,
            "object_fit": null,
            "grid_auto_columns": null,
            "margin": null,
            "display": null,
            "left": null
          }
        },
        "829b5fb9293f43bb9c87606c0aad0cb0": {
          "model_module": "@jupyter-widgets/controls",
          "model_name": "HTMLModel",
          "model_module_version": "1.5.0",
          "state": {
            "_view_name": "HTMLView",
            "style": "IPY_MODEL_90d688ccbb9743ccb167d9d2829338b8",
            "_dom_classes": [],
            "description": "",
            "_model_name": "HTMLModel",
            "placeholder": "​",
            "_view_module": "@jupyter-widgets/controls",
            "_model_module_version": "1.5.0",
            "value": "100%",
            "_view_count": null,
            "_view_module_version": "1.5.0",
            "description_tooltip": null,
            "_model_module": "@jupyter-widgets/controls",
            "layout": "IPY_MODEL_1e23b93511b242e6b1873842544997b2"
          }
        },
        "70f4feb10f004e34874914bf71bc757d": {
          "model_module": "@jupyter-widgets/controls",
          "model_name": "FloatProgressModel",
          "model_module_version": "1.5.0",
          "state": {
            "_view_name": "ProgressView",
            "style": "IPY_MODEL_31c8493bba694275ad008acaa357da7a",
            "_dom_classes": [],
            "description": "",
            "_model_name": "FloatProgressModel",
            "bar_style": "success",
            "max": 25,
            "_view_module": "@jupyter-widgets/controls",
            "_model_module_version": "1.5.0",
            "value": 25,
            "_view_count": null,
            "_view_module_version": "1.5.0",
            "orientation": "horizontal",
            "min": 0,
            "description_tooltip": null,
            "_model_module": "@jupyter-widgets/controls",
            "layout": "IPY_MODEL_f4e0ba3f78f54a41a1f3e94c246a0722"
          }
        },
        "8298b2055b8a4a0a9d483bb4029a8c25": {
          "model_module": "@jupyter-widgets/controls",
          "model_name": "HTMLModel",
          "model_module_version": "1.5.0",
          "state": {
            "_view_name": "HTMLView",
            "style": "IPY_MODEL_80e655a42d1c4bfb9d7feababb622928",
            "_dom_classes": [],
            "description": "",
            "_model_name": "HTMLModel",
            "placeholder": "​",
            "_view_module": "@jupyter-widgets/controls",
            "_model_module_version": "1.5.0",
            "value": " 25/25 [00:09&lt;00:00,  3.33it/s]",
            "_view_count": null,
            "_view_module_version": "1.5.0",
            "description_tooltip": null,
            "_model_module": "@jupyter-widgets/controls",
            "layout": "IPY_MODEL_0b7c2485c6ba48c9a8b44ac88f080c2e"
          }
        },
        "90d688ccbb9743ccb167d9d2829338b8": {
          "model_module": "@jupyter-widgets/controls",
          "model_name": "DescriptionStyleModel",
          "model_module_version": "1.5.0",
          "state": {
            "_view_name": "StyleView",
            "_model_name": "DescriptionStyleModel",
            "description_width": "",
            "_view_module": "@jupyter-widgets/base",
            "_model_module_version": "1.5.0",
            "_view_count": null,
            "_view_module_version": "1.2.0",
            "_model_module": "@jupyter-widgets/controls"
          }
        },
        "1e23b93511b242e6b1873842544997b2": {
          "model_module": "@jupyter-widgets/base",
          "model_name": "LayoutModel",
          "model_module_version": "1.2.0",
          "state": {
            "_view_name": "LayoutView",
            "grid_template_rows": null,
            "right": null,
            "justify_content": null,
            "_view_module": "@jupyter-widgets/base",
            "overflow": null,
            "_model_module_version": "1.2.0",
            "_view_count": null,
            "flex_flow": null,
            "width": null,
            "min_width": null,
            "border": null,
            "align_items": null,
            "bottom": null,
            "_model_module": "@jupyter-widgets/base",
            "top": null,
            "grid_column": null,
            "overflow_y": null,
            "overflow_x": null,
            "grid_auto_flow": null,
            "grid_area": null,
            "grid_template_columns": null,
            "flex": null,
            "_model_name": "LayoutModel",
            "justify_items": null,
            "grid_row": null,
            "max_height": null,
            "align_content": null,
            "visibility": null,
            "align_self": null,
            "height": null,
            "min_height": null,
            "padding": null,
            "grid_auto_rows": null,
            "grid_gap": null,
            "max_width": null,
            "order": null,
            "_view_module_version": "1.2.0",
            "grid_template_areas": null,
            "object_position": null,
            "object_fit": null,
            "grid_auto_columns": null,
            "margin": null,
            "display": null,
            "left": null
          }
        },
        "31c8493bba694275ad008acaa357da7a": {
          "model_module": "@jupyter-widgets/controls",
          "model_name": "ProgressStyleModel",
          "model_module_version": "1.5.0",
          "state": {
            "_view_name": "StyleView",
            "_model_name": "ProgressStyleModel",
            "description_width": "",
            "_view_module": "@jupyter-widgets/base",
            "_model_module_version": "1.5.0",
            "_view_count": null,
            "_view_module_version": "1.2.0",
            "bar_color": null,
            "_model_module": "@jupyter-widgets/controls"
          }
        },
        "f4e0ba3f78f54a41a1f3e94c246a0722": {
          "model_module": "@jupyter-widgets/base",
          "model_name": "LayoutModel",
          "model_module_version": "1.2.0",
          "state": {
            "_view_name": "LayoutView",
            "grid_template_rows": null,
            "right": null,
            "justify_content": null,
            "_view_module": "@jupyter-widgets/base",
            "overflow": null,
            "_model_module_version": "1.2.0",
            "_view_count": null,
            "flex_flow": null,
            "width": null,
            "min_width": null,
            "border": null,
            "align_items": null,
            "bottom": null,
            "_model_module": "@jupyter-widgets/base",
            "top": null,
            "grid_column": null,
            "overflow_y": null,
            "overflow_x": null,
            "grid_auto_flow": null,
            "grid_area": null,
            "grid_template_columns": null,
            "flex": null,
            "_model_name": "LayoutModel",
            "justify_items": null,
            "grid_row": null,
            "max_height": null,
            "align_content": null,
            "visibility": null,
            "align_self": null,
            "height": null,
            "min_height": null,
            "padding": null,
            "grid_auto_rows": null,
            "grid_gap": null,
            "max_width": null,
            "order": null,
            "_view_module_version": "1.2.0",
            "grid_template_areas": null,
            "object_position": null,
            "object_fit": null,
            "grid_auto_columns": null,
            "margin": null,
            "display": null,
            "left": null
          }
        },
        "80e655a42d1c4bfb9d7feababb622928": {
          "model_module": "@jupyter-widgets/controls",
          "model_name": "DescriptionStyleModel",
          "model_module_version": "1.5.0",
          "state": {
            "_view_name": "StyleView",
            "_model_name": "DescriptionStyleModel",
            "description_width": "",
            "_view_module": "@jupyter-widgets/base",
            "_model_module_version": "1.5.0",
            "_view_count": null,
            "_view_module_version": "1.2.0",
            "_model_module": "@jupyter-widgets/controls"
          }
        },
        "0b7c2485c6ba48c9a8b44ac88f080c2e": {
          "model_module": "@jupyter-widgets/base",
          "model_name": "LayoutModel",
          "model_module_version": "1.2.0",
          "state": {
            "_view_name": "LayoutView",
            "grid_template_rows": null,
            "right": null,
            "justify_content": null,
            "_view_module": "@jupyter-widgets/base",
            "overflow": null,
            "_model_module_version": "1.2.0",
            "_view_count": null,
            "flex_flow": null,
            "width": null,
            "min_width": null,
            "border": null,
            "align_items": null,
            "bottom": null,
            "_model_module": "@jupyter-widgets/base",
            "top": null,
            "grid_column": null,
            "overflow_y": null,
            "overflow_x": null,
            "grid_auto_flow": null,
            "grid_area": null,
            "grid_template_columns": null,
            "flex": null,
            "_model_name": "LayoutModel",
            "justify_items": null,
            "grid_row": null,
            "max_height": null,
            "align_content": null,
            "visibility": null,
            "align_self": null,
            "height": null,
            "min_height": null,
            "padding": null,
            "grid_auto_rows": null,
            "grid_gap": null,
            "max_width": null,
            "order": null,
            "_view_module_version": "1.2.0",
            "grid_template_areas": null,
            "object_position": null,
            "object_fit": null,
            "grid_auto_columns": null,
            "margin": null,
            "display": null,
            "left": null
          }
        },
        "561c028aa43c4320b41a1e4ccaa18b60": {
          "model_module": "@jupyter-widgets/controls",
          "model_name": "HBoxModel",
          "model_module_version": "1.5.0",
          "state": {
            "_view_name": "HBoxView",
            "_dom_classes": [],
            "_model_name": "HBoxModel",
            "_view_module": "@jupyter-widgets/controls",
            "_model_module_version": "1.5.0",
            "_view_count": null,
            "_view_module_version": "1.5.0",
            "box_style": "",
            "layout": "IPY_MODEL_4a65a50538f74594883621e3fdffdd2f",
            "_model_module": "@jupyter-widgets/controls",
            "children": [
              "IPY_MODEL_21240d4f538d4535a4069e30b73933ac",
              "IPY_MODEL_7948ba08c1374b98b06dd3f052c11818",
              "IPY_MODEL_40e481b5fad84509a1e9eb8af5898655"
            ]
          }
        },
        "4a65a50538f74594883621e3fdffdd2f": {
          "model_module": "@jupyter-widgets/base",
          "model_name": "LayoutModel",
          "model_module_version": "1.2.0",
          "state": {
            "_view_name": "LayoutView",
            "grid_template_rows": null,
            "right": null,
            "justify_content": null,
            "_view_module": "@jupyter-widgets/base",
            "overflow": null,
            "_model_module_version": "1.2.0",
            "_view_count": null,
            "flex_flow": null,
            "width": null,
            "min_width": null,
            "border": null,
            "align_items": null,
            "bottom": null,
            "_model_module": "@jupyter-widgets/base",
            "top": null,
            "grid_column": null,
            "overflow_y": null,
            "overflow_x": null,
            "grid_auto_flow": null,
            "grid_area": null,
            "grid_template_columns": null,
            "flex": null,
            "_model_name": "LayoutModel",
            "justify_items": null,
            "grid_row": null,
            "max_height": null,
            "align_content": null,
            "visibility": null,
            "align_self": null,
            "height": null,
            "min_height": null,
            "padding": null,
            "grid_auto_rows": null,
            "grid_gap": null,
            "max_width": null,
            "order": null,
            "_view_module_version": "1.2.0",
            "grid_template_areas": null,
            "object_position": null,
            "object_fit": null,
            "grid_auto_columns": null,
            "margin": null,
            "display": null,
            "left": null
          }
        },
        "21240d4f538d4535a4069e30b73933ac": {
          "model_module": "@jupyter-widgets/controls",
          "model_name": "HTMLModel",
          "model_module_version": "1.5.0",
          "state": {
            "_view_name": "HTMLView",
            "style": "IPY_MODEL_db2f52a98825421ca1dceb714b8f2998",
            "_dom_classes": [],
            "description": "",
            "_model_name": "HTMLModel",
            "placeholder": "​",
            "_view_module": "@jupyter-widgets/controls",
            "_model_module_version": "1.5.0",
            "value": "100%",
            "_view_count": null,
            "_view_module_version": "1.5.0",
            "description_tooltip": null,
            "_model_module": "@jupyter-widgets/controls",
            "layout": "IPY_MODEL_151fb4bc3ead4fa8977994463d31e4cc"
          }
        },
        "7948ba08c1374b98b06dd3f052c11818": {
          "model_module": "@jupyter-widgets/controls",
          "model_name": "FloatProgressModel",
          "model_module_version": "1.5.0",
          "state": {
            "_view_name": "ProgressView",
            "style": "IPY_MODEL_b899d78636d4470d84f24f2aa3f72b52",
            "_dom_classes": [],
            "description": "",
            "_model_name": "FloatProgressModel",
            "bar_style": "success",
            "max": 1627,
            "_view_module": "@jupyter-widgets/controls",
            "_model_module_version": "1.5.0",
            "value": 1627,
            "_view_count": null,
            "_view_module_version": "1.5.0",
            "orientation": "horizontal",
            "min": 0,
            "description_tooltip": null,
            "_model_module": "@jupyter-widgets/controls",
            "layout": "IPY_MODEL_2669094721b34a7587292a15ae273b14"
          }
        },
        "40e481b5fad84509a1e9eb8af5898655": {
          "model_module": "@jupyter-widgets/controls",
          "model_name": "HTMLModel",
          "model_module_version": "1.5.0",
          "state": {
            "_view_name": "HTMLView",
            "style": "IPY_MODEL_565669adf5404d56bd0efeebd4817457",
            "_dom_classes": [],
            "description": "",
            "_model_name": "HTMLModel",
            "placeholder": "​",
            "_view_module": "@jupyter-widgets/controls",
            "_model_module_version": "1.5.0",
            "value": " 1627/1627.0 [01:13&lt;00:00, 22.22it/s]",
            "_view_count": null,
            "_view_module_version": "1.5.0",
            "description_tooltip": null,
            "_model_module": "@jupyter-widgets/controls",
            "layout": "IPY_MODEL_f16eea96b2784cddbe0a038606947abc"
          }
        },
        "db2f52a98825421ca1dceb714b8f2998": {
          "model_module": "@jupyter-widgets/controls",
          "model_name": "DescriptionStyleModel",
          "model_module_version": "1.5.0",
          "state": {
            "_view_name": "StyleView",
            "_model_name": "DescriptionStyleModel",
            "description_width": "",
            "_view_module": "@jupyter-widgets/base",
            "_model_module_version": "1.5.0",
            "_view_count": null,
            "_view_module_version": "1.2.0",
            "_model_module": "@jupyter-widgets/controls"
          }
        },
        "151fb4bc3ead4fa8977994463d31e4cc": {
          "model_module": "@jupyter-widgets/base",
          "model_name": "LayoutModel",
          "model_module_version": "1.2.0",
          "state": {
            "_view_name": "LayoutView",
            "grid_template_rows": null,
            "right": null,
            "justify_content": null,
            "_view_module": "@jupyter-widgets/base",
            "overflow": null,
            "_model_module_version": "1.2.0",
            "_view_count": null,
            "flex_flow": null,
            "width": null,
            "min_width": null,
            "border": null,
            "align_items": null,
            "bottom": null,
            "_model_module": "@jupyter-widgets/base",
            "top": null,
            "grid_column": null,
            "overflow_y": null,
            "overflow_x": null,
            "grid_auto_flow": null,
            "grid_area": null,
            "grid_template_columns": null,
            "flex": null,
            "_model_name": "LayoutModel",
            "justify_items": null,
            "grid_row": null,
            "max_height": null,
            "align_content": null,
            "visibility": null,
            "align_self": null,
            "height": null,
            "min_height": null,
            "padding": null,
            "grid_auto_rows": null,
            "grid_gap": null,
            "max_width": null,
            "order": null,
            "_view_module_version": "1.2.0",
            "grid_template_areas": null,
            "object_position": null,
            "object_fit": null,
            "grid_auto_columns": null,
            "margin": null,
            "display": null,
            "left": null
          }
        },
        "b899d78636d4470d84f24f2aa3f72b52": {
          "model_module": "@jupyter-widgets/controls",
          "model_name": "ProgressStyleModel",
          "model_module_version": "1.5.0",
          "state": {
            "_view_name": "StyleView",
            "_model_name": "ProgressStyleModel",
            "description_width": "",
            "_view_module": "@jupyter-widgets/base",
            "_model_module_version": "1.5.0",
            "_view_count": null,
            "_view_module_version": "1.2.0",
            "bar_color": null,
            "_model_module": "@jupyter-widgets/controls"
          }
        },
        "2669094721b34a7587292a15ae273b14": {
          "model_module": "@jupyter-widgets/base",
          "model_name": "LayoutModel",
          "model_module_version": "1.2.0",
          "state": {
            "_view_name": "LayoutView",
            "grid_template_rows": null,
            "right": null,
            "justify_content": null,
            "_view_module": "@jupyter-widgets/base",
            "overflow": null,
            "_model_module_version": "1.2.0",
            "_view_count": null,
            "flex_flow": null,
            "width": null,
            "min_width": null,
            "border": null,
            "align_items": null,
            "bottom": null,
            "_model_module": "@jupyter-widgets/base",
            "top": null,
            "grid_column": null,
            "overflow_y": null,
            "overflow_x": null,
            "grid_auto_flow": null,
            "grid_area": null,
            "grid_template_columns": null,
            "flex": null,
            "_model_name": "LayoutModel",
            "justify_items": null,
            "grid_row": null,
            "max_height": null,
            "align_content": null,
            "visibility": null,
            "align_self": null,
            "height": null,
            "min_height": null,
            "padding": null,
            "grid_auto_rows": null,
            "grid_gap": null,
            "max_width": null,
            "order": null,
            "_view_module_version": "1.2.0",
            "grid_template_areas": null,
            "object_position": null,
            "object_fit": null,
            "grid_auto_columns": null,
            "margin": null,
            "display": null,
            "left": null
          }
        },
        "565669adf5404d56bd0efeebd4817457": {
          "model_module": "@jupyter-widgets/controls",
          "model_name": "DescriptionStyleModel",
          "model_module_version": "1.5.0",
          "state": {
            "_view_name": "StyleView",
            "_model_name": "DescriptionStyleModel",
            "description_width": "",
            "_view_module": "@jupyter-widgets/base",
            "_model_module_version": "1.5.0",
            "_view_count": null,
            "_view_module_version": "1.2.0",
            "_model_module": "@jupyter-widgets/controls"
          }
        },
        "f16eea96b2784cddbe0a038606947abc": {
          "model_module": "@jupyter-widgets/base",
          "model_name": "LayoutModel",
          "model_module_version": "1.2.0",
          "state": {
            "_view_name": "LayoutView",
            "grid_template_rows": null,
            "right": null,
            "justify_content": null,
            "_view_module": "@jupyter-widgets/base",
            "overflow": null,
            "_model_module_version": "1.2.0",
            "_view_count": null,
            "flex_flow": null,
            "width": null,
            "min_width": null,
            "border": null,
            "align_items": null,
            "bottom": null,
            "_model_module": "@jupyter-widgets/base",
            "top": null,
            "grid_column": null,
            "overflow_y": null,
            "overflow_x": null,
            "grid_auto_flow": null,
            "grid_area": null,
            "grid_template_columns": null,
            "flex": null,
            "_model_name": "LayoutModel",
            "justify_items": null,
            "grid_row": null,
            "max_height": null,
            "align_content": null,
            "visibility": null,
            "align_self": null,
            "height": null,
            "min_height": null,
            "padding": null,
            "grid_auto_rows": null,
            "grid_gap": null,
            "max_width": null,
            "order": null,
            "_view_module_version": "1.2.0",
            "grid_template_areas": null,
            "object_position": null,
            "object_fit": null,
            "grid_auto_columns": null,
            "margin": null,
            "display": null,
            "left": null
          }
        },
        "124559b3aa98468784cb897bd9529c10": {
          "model_module": "@jupyter-widgets/controls",
          "model_name": "HBoxModel",
          "model_module_version": "1.5.0",
          "state": {
            "_view_name": "HBoxView",
            "_dom_classes": [],
            "_model_name": "HBoxModel",
            "_view_module": "@jupyter-widgets/controls",
            "_model_module_version": "1.5.0",
            "_view_count": null,
            "_view_module_version": "1.5.0",
            "box_style": "",
            "layout": "IPY_MODEL_f6dd0b51291f44e68a8bf5e2913ee0c1",
            "_model_module": "@jupyter-widgets/controls",
            "children": [
              "IPY_MODEL_db6c1778a23d4b199dc5b42825452fcb",
              "IPY_MODEL_28ced47848784cc191053edb6409664e",
              "IPY_MODEL_2b4c110400264cc589e8354fd395bd94"
            ]
          }
        },
        "f6dd0b51291f44e68a8bf5e2913ee0c1": {
          "model_module": "@jupyter-widgets/base",
          "model_name": "LayoutModel",
          "model_module_version": "1.2.0",
          "state": {
            "_view_name": "LayoutView",
            "grid_template_rows": null,
            "right": null,
            "justify_content": null,
            "_view_module": "@jupyter-widgets/base",
            "overflow": null,
            "_model_module_version": "1.2.0",
            "_view_count": null,
            "flex_flow": null,
            "width": null,
            "min_width": null,
            "border": null,
            "align_items": null,
            "bottom": null,
            "_model_module": "@jupyter-widgets/base",
            "top": null,
            "grid_column": null,
            "overflow_y": null,
            "overflow_x": null,
            "grid_auto_flow": null,
            "grid_area": null,
            "grid_template_columns": null,
            "flex": null,
            "_model_name": "LayoutModel",
            "justify_items": null,
            "grid_row": null,
            "max_height": null,
            "align_content": null,
            "visibility": null,
            "align_self": null,
            "height": null,
            "min_height": null,
            "padding": null,
            "grid_auto_rows": null,
            "grid_gap": null,
            "max_width": null,
            "order": null,
            "_view_module_version": "1.2.0",
            "grid_template_areas": null,
            "object_position": null,
            "object_fit": null,
            "grid_auto_columns": null,
            "margin": null,
            "display": null,
            "left": null
          }
        },
        "db6c1778a23d4b199dc5b42825452fcb": {
          "model_module": "@jupyter-widgets/controls",
          "model_name": "HTMLModel",
          "model_module_version": "1.5.0",
          "state": {
            "_view_name": "HTMLView",
            "style": "IPY_MODEL_d11716d2d4ce4c6991b37f6ac787c40f",
            "_dom_classes": [],
            "description": "",
            "_model_name": "HTMLModel",
            "placeholder": "​",
            "_view_module": "@jupyter-widgets/controls",
            "_model_module_version": "1.5.0",
            "value": " 30%",
            "_view_count": null,
            "_view_module_version": "1.5.0",
            "description_tooltip": null,
            "_model_module": "@jupyter-widgets/controls",
            "layout": "IPY_MODEL_b7fa6745f7a746419ace7db508652109"
          }
        },
        "28ced47848784cc191053edb6409664e": {
          "model_module": "@jupyter-widgets/controls",
          "model_name": "FloatProgressModel",
          "model_module_version": "1.5.0",
          "state": {
            "_view_name": "ProgressView",
            "style": "IPY_MODEL_584218be85be4292950796992c2db67a",
            "_dom_classes": [],
            "description": "",
            "_model_name": "FloatProgressModel",
            "bar_style": "danger",
            "max": 50,
            "_view_module": "@jupyter-widgets/controls",
            "_model_module_version": "1.5.0",
            "value": 15,
            "_view_count": null,
            "_view_module_version": "1.5.0",
            "orientation": "horizontal",
            "min": 0,
            "description_tooltip": null,
            "_model_module": "@jupyter-widgets/controls",
            "layout": "IPY_MODEL_84746b3ff33a40bba654031f9f9a9a5b"
          }
        },
        "2b4c110400264cc589e8354fd395bd94": {
          "model_module": "@jupyter-widgets/controls",
          "model_name": "HTMLModel",
          "model_module_version": "1.5.0",
          "state": {
            "_view_name": "HTMLView",
            "style": "IPY_MODEL_a65318b52c8e411aa3fa26016aa85376",
            "_dom_classes": [],
            "description": "",
            "_model_name": "HTMLModel",
            "placeholder": "​",
            "_view_module": "@jupyter-widgets/controls",
            "_model_module_version": "1.5.0",
            "value": " 15/50 [00:20&lt;00:30,  1.15it/s]",
            "_view_count": null,
            "_view_module_version": "1.5.0",
            "description_tooltip": null,
            "_model_module": "@jupyter-widgets/controls",
            "layout": "IPY_MODEL_d1430d7dbe2446dc920b42ba7ca9821c"
          }
        },
        "d11716d2d4ce4c6991b37f6ac787c40f": {
          "model_module": "@jupyter-widgets/controls",
          "model_name": "DescriptionStyleModel",
          "model_module_version": "1.5.0",
          "state": {
            "_view_name": "StyleView",
            "_model_name": "DescriptionStyleModel",
            "description_width": "",
            "_view_module": "@jupyter-widgets/base",
            "_model_module_version": "1.5.0",
            "_view_count": null,
            "_view_module_version": "1.2.0",
            "_model_module": "@jupyter-widgets/controls"
          }
        },
        "b7fa6745f7a746419ace7db508652109": {
          "model_module": "@jupyter-widgets/base",
          "model_name": "LayoutModel",
          "model_module_version": "1.2.0",
          "state": {
            "_view_name": "LayoutView",
            "grid_template_rows": null,
            "right": null,
            "justify_content": null,
            "_view_module": "@jupyter-widgets/base",
            "overflow": null,
            "_model_module_version": "1.2.0",
            "_view_count": null,
            "flex_flow": null,
            "width": null,
            "min_width": null,
            "border": null,
            "align_items": null,
            "bottom": null,
            "_model_module": "@jupyter-widgets/base",
            "top": null,
            "grid_column": null,
            "overflow_y": null,
            "overflow_x": null,
            "grid_auto_flow": null,
            "grid_area": null,
            "grid_template_columns": null,
            "flex": null,
            "_model_name": "LayoutModel",
            "justify_items": null,
            "grid_row": null,
            "max_height": null,
            "align_content": null,
            "visibility": null,
            "align_self": null,
            "height": null,
            "min_height": null,
            "padding": null,
            "grid_auto_rows": null,
            "grid_gap": null,
            "max_width": null,
            "order": null,
            "_view_module_version": "1.2.0",
            "grid_template_areas": null,
            "object_position": null,
            "object_fit": null,
            "grid_auto_columns": null,
            "margin": null,
            "display": null,
            "left": null
          }
        },
        "584218be85be4292950796992c2db67a": {
          "model_module": "@jupyter-widgets/controls",
          "model_name": "ProgressStyleModel",
          "model_module_version": "1.5.0",
          "state": {
            "_view_name": "StyleView",
            "_model_name": "ProgressStyleModel",
            "description_width": "",
            "_view_module": "@jupyter-widgets/base",
            "_model_module_version": "1.5.0",
            "_view_count": null,
            "_view_module_version": "1.2.0",
            "bar_color": null,
            "_model_module": "@jupyter-widgets/controls"
          }
        },
        "84746b3ff33a40bba654031f9f9a9a5b": {
          "model_module": "@jupyter-widgets/base",
          "model_name": "LayoutModel",
          "model_module_version": "1.2.0",
          "state": {
            "_view_name": "LayoutView",
            "grid_template_rows": null,
            "right": null,
            "justify_content": null,
            "_view_module": "@jupyter-widgets/base",
            "overflow": null,
            "_model_module_version": "1.2.0",
            "_view_count": null,
            "flex_flow": null,
            "width": null,
            "min_width": null,
            "border": null,
            "align_items": null,
            "bottom": null,
            "_model_module": "@jupyter-widgets/base",
            "top": null,
            "grid_column": null,
            "overflow_y": null,
            "overflow_x": null,
            "grid_auto_flow": null,
            "grid_area": null,
            "grid_template_columns": null,
            "flex": null,
            "_model_name": "LayoutModel",
            "justify_items": null,
            "grid_row": null,
            "max_height": null,
            "align_content": null,
            "visibility": null,
            "align_self": null,
            "height": null,
            "min_height": null,
            "padding": null,
            "grid_auto_rows": null,
            "grid_gap": null,
            "max_width": null,
            "order": null,
            "_view_module_version": "1.2.0",
            "grid_template_areas": null,
            "object_position": null,
            "object_fit": null,
            "grid_auto_columns": null,
            "margin": null,
            "display": null,
            "left": null
          }
        },
        "a65318b52c8e411aa3fa26016aa85376": {
          "model_module": "@jupyter-widgets/controls",
          "model_name": "DescriptionStyleModel",
          "model_module_version": "1.5.0",
          "state": {
            "_view_name": "StyleView",
            "_model_name": "DescriptionStyleModel",
            "description_width": "",
            "_view_module": "@jupyter-widgets/base",
            "_model_module_version": "1.5.0",
            "_view_count": null,
            "_view_module_version": "1.2.0",
            "_model_module": "@jupyter-widgets/controls"
          }
        },
        "d1430d7dbe2446dc920b42ba7ca9821c": {
          "model_module": "@jupyter-widgets/base",
          "model_name": "LayoutModel",
          "model_module_version": "1.2.0",
          "state": {
            "_view_name": "LayoutView",
            "grid_template_rows": null,
            "right": null,
            "justify_content": null,
            "_view_module": "@jupyter-widgets/base",
            "overflow": null,
            "_model_module_version": "1.2.0",
            "_view_count": null,
            "flex_flow": null,
            "width": null,
            "min_width": null,
            "border": null,
            "align_items": null,
            "bottom": null,
            "_model_module": "@jupyter-widgets/base",
            "top": null,
            "grid_column": null,
            "overflow_y": null,
            "overflow_x": null,
            "grid_auto_flow": null,
            "grid_area": null,
            "grid_template_columns": null,
            "flex": null,
            "_model_name": "LayoutModel",
            "justify_items": null,
            "grid_row": null,
            "max_height": null,
            "align_content": null,
            "visibility": null,
            "align_self": null,
            "height": null,
            "min_height": null,
            "padding": null,
            "grid_auto_rows": null,
            "grid_gap": null,
            "max_width": null,
            "order": null,
            "_view_module_version": "1.2.0",
            "grid_template_areas": null,
            "object_position": null,
            "object_fit": null,
            "grid_auto_columns": null,
            "margin": null,
            "display": null,
            "left": null
          }
        },
        "4bbc1102089b4ca4ba9f98053920f71c": {
          "model_module": "@jupyter-widgets/controls",
          "model_name": "HBoxModel",
          "model_module_version": "1.5.0",
          "state": {
            "_view_name": "HBoxView",
            "_dom_classes": [],
            "_model_name": "HBoxModel",
            "_view_module": "@jupyter-widgets/controls",
            "_model_module_version": "1.5.0",
            "_view_count": null,
            "_view_module_version": "1.5.0",
            "box_style": "",
            "layout": "IPY_MODEL_02f20c2991a7487698a75827d5af5793",
            "_model_module": "@jupyter-widgets/controls",
            "children": [
              "IPY_MODEL_79c81e608fae4f228a6f0f5a8741e781",
              "IPY_MODEL_f8e1fc8aabb448bca71ff17630373f4e",
              "IPY_MODEL_a863365913e347c889dde0453477e3cd"
            ]
          }
        },
        "02f20c2991a7487698a75827d5af5793": {
          "model_module": "@jupyter-widgets/base",
          "model_name": "LayoutModel",
          "model_module_version": "1.2.0",
          "state": {
            "_view_name": "LayoutView",
            "grid_template_rows": null,
            "right": null,
            "justify_content": null,
            "_view_module": "@jupyter-widgets/base",
            "overflow": null,
            "_model_module_version": "1.2.0",
            "_view_count": null,
            "flex_flow": null,
            "width": null,
            "min_width": null,
            "border": null,
            "align_items": null,
            "bottom": null,
            "_model_module": "@jupyter-widgets/base",
            "top": null,
            "grid_column": null,
            "overflow_y": null,
            "overflow_x": null,
            "grid_auto_flow": null,
            "grid_area": null,
            "grid_template_columns": null,
            "flex": null,
            "_model_name": "LayoutModel",
            "justify_items": null,
            "grid_row": null,
            "max_height": null,
            "align_content": null,
            "visibility": null,
            "align_self": null,
            "height": null,
            "min_height": null,
            "padding": null,
            "grid_auto_rows": null,
            "grid_gap": null,
            "max_width": null,
            "order": null,
            "_view_module_version": "1.2.0",
            "grid_template_areas": null,
            "object_position": null,
            "object_fit": null,
            "grid_auto_columns": null,
            "margin": null,
            "display": null,
            "left": null
          }
        },
        "79c81e608fae4f228a6f0f5a8741e781": {
          "model_module": "@jupyter-widgets/controls",
          "model_name": "HTMLModel",
          "model_module_version": "1.5.0",
          "state": {
            "_view_name": "HTMLView",
            "style": "IPY_MODEL_e4fa5d4a844a4714bafbd0ad93b34d06",
            "_dom_classes": [],
            "description": "",
            "_model_name": "HTMLModel",
            "placeholder": "​",
            "_view_module": "@jupyter-widgets/controls",
            "_model_module_version": "1.5.0",
            "value": "100%",
            "_view_count": null,
            "_view_module_version": "1.5.0",
            "description_tooltip": null,
            "_model_module": "@jupyter-widgets/controls",
            "layout": "IPY_MODEL_d5a8ae5b83214a6abfd82c40a5a3cf1f"
          }
        },
        "f8e1fc8aabb448bca71ff17630373f4e": {
          "model_module": "@jupyter-widgets/controls",
          "model_name": "FloatProgressModel",
          "model_module_version": "1.5.0",
          "state": {
            "_view_name": "ProgressView",
            "style": "IPY_MODEL_c774b0e4c4f84dfbb865c9b44a333b08",
            "_dom_classes": [],
            "description": "",
            "_model_name": "FloatProgressModel",
            "bar_style": "success",
            "max": 2500,
            "_view_module": "@jupyter-widgets/controls",
            "_model_module_version": "1.5.0",
            "value": 2500,
            "_view_count": null,
            "_view_module_version": "1.5.0",
            "orientation": "horizontal",
            "min": 0,
            "description_tooltip": null,
            "_model_module": "@jupyter-widgets/controls",
            "layout": "IPY_MODEL_636d35815afc4bd6969a1cfedac2f3d3"
          }
        },
        "a863365913e347c889dde0453477e3cd": {
          "model_module": "@jupyter-widgets/controls",
          "model_name": "HTMLModel",
          "model_module_version": "1.5.0",
          "state": {
            "_view_name": "HTMLView",
            "style": "IPY_MODEL_a2924ad0ec5b497bbe3576134ee5ba28",
            "_dom_classes": [],
            "description": "",
            "_model_name": "HTMLModel",
            "placeholder": "​",
            "_view_module": "@jupyter-widgets/controls",
            "_model_module_version": "1.5.0",
            "value": " 2500/2500 [01:45&lt;00:00, 20.43it/s]",
            "_view_count": null,
            "_view_module_version": "1.5.0",
            "description_tooltip": null,
            "_model_module": "@jupyter-widgets/controls",
            "layout": "IPY_MODEL_cec2a43d64cb43d5be1216554ccc14de"
          }
        },
        "e4fa5d4a844a4714bafbd0ad93b34d06": {
          "model_module": "@jupyter-widgets/controls",
          "model_name": "DescriptionStyleModel",
          "model_module_version": "1.5.0",
          "state": {
            "_view_name": "StyleView",
            "_model_name": "DescriptionStyleModel",
            "description_width": "",
            "_view_module": "@jupyter-widgets/base",
            "_model_module_version": "1.5.0",
            "_view_count": null,
            "_view_module_version": "1.2.0",
            "_model_module": "@jupyter-widgets/controls"
          }
        },
        "d5a8ae5b83214a6abfd82c40a5a3cf1f": {
          "model_module": "@jupyter-widgets/base",
          "model_name": "LayoutModel",
          "model_module_version": "1.2.0",
          "state": {
            "_view_name": "LayoutView",
            "grid_template_rows": null,
            "right": null,
            "justify_content": null,
            "_view_module": "@jupyter-widgets/base",
            "overflow": null,
            "_model_module_version": "1.2.0",
            "_view_count": null,
            "flex_flow": null,
            "width": null,
            "min_width": null,
            "border": null,
            "align_items": null,
            "bottom": null,
            "_model_module": "@jupyter-widgets/base",
            "top": null,
            "grid_column": null,
            "overflow_y": null,
            "overflow_x": null,
            "grid_auto_flow": null,
            "grid_area": null,
            "grid_template_columns": null,
            "flex": null,
            "_model_name": "LayoutModel",
            "justify_items": null,
            "grid_row": null,
            "max_height": null,
            "align_content": null,
            "visibility": null,
            "align_self": null,
            "height": null,
            "min_height": null,
            "padding": null,
            "grid_auto_rows": null,
            "grid_gap": null,
            "max_width": null,
            "order": null,
            "_view_module_version": "1.2.0",
            "grid_template_areas": null,
            "object_position": null,
            "object_fit": null,
            "grid_auto_columns": null,
            "margin": null,
            "display": null,
            "left": null
          }
        },
        "c774b0e4c4f84dfbb865c9b44a333b08": {
          "model_module": "@jupyter-widgets/controls",
          "model_name": "ProgressStyleModel",
          "model_module_version": "1.5.0",
          "state": {
            "_view_name": "StyleView",
            "_model_name": "ProgressStyleModel",
            "description_width": "",
            "_view_module": "@jupyter-widgets/base",
            "_model_module_version": "1.5.0",
            "_view_count": null,
            "_view_module_version": "1.2.0",
            "bar_color": null,
            "_model_module": "@jupyter-widgets/controls"
          }
        },
        "636d35815afc4bd6969a1cfedac2f3d3": {
          "model_module": "@jupyter-widgets/base",
          "model_name": "LayoutModel",
          "model_module_version": "1.2.0",
          "state": {
            "_view_name": "LayoutView",
            "grid_template_rows": null,
            "right": null,
            "justify_content": null,
            "_view_module": "@jupyter-widgets/base",
            "overflow": null,
            "_model_module_version": "1.2.0",
            "_view_count": null,
            "flex_flow": null,
            "width": null,
            "min_width": null,
            "border": null,
            "align_items": null,
            "bottom": null,
            "_model_module": "@jupyter-widgets/base",
            "top": null,
            "grid_column": null,
            "overflow_y": null,
            "overflow_x": null,
            "grid_auto_flow": null,
            "grid_area": null,
            "grid_template_columns": null,
            "flex": null,
            "_model_name": "LayoutModel",
            "justify_items": null,
            "grid_row": null,
            "max_height": null,
            "align_content": null,
            "visibility": null,
            "align_self": null,
            "height": null,
            "min_height": null,
            "padding": null,
            "grid_auto_rows": null,
            "grid_gap": null,
            "max_width": null,
            "order": null,
            "_view_module_version": "1.2.0",
            "grid_template_areas": null,
            "object_position": null,
            "object_fit": null,
            "grid_auto_columns": null,
            "margin": null,
            "display": null,
            "left": null
          }
        },
        "a2924ad0ec5b497bbe3576134ee5ba28": {
          "model_module": "@jupyter-widgets/controls",
          "model_name": "DescriptionStyleModel",
          "model_module_version": "1.5.0",
          "state": {
            "_view_name": "StyleView",
            "_model_name": "DescriptionStyleModel",
            "description_width": "",
            "_view_module": "@jupyter-widgets/base",
            "_model_module_version": "1.5.0",
            "_view_count": null,
            "_view_module_version": "1.2.0",
            "_model_module": "@jupyter-widgets/controls"
          }
        },
        "cec2a43d64cb43d5be1216554ccc14de": {
          "model_module": "@jupyter-widgets/base",
          "model_name": "LayoutModel",
          "model_module_version": "1.2.0",
          "state": {
            "_view_name": "LayoutView",
            "grid_template_rows": null,
            "right": null,
            "justify_content": null,
            "_view_module": "@jupyter-widgets/base",
            "overflow": null,
            "_model_module_version": "1.2.0",
            "_view_count": null,
            "flex_flow": null,
            "width": null,
            "min_width": null,
            "border": null,
            "align_items": null,
            "bottom": null,
            "_model_module": "@jupyter-widgets/base",
            "top": null,
            "grid_column": null,
            "overflow_y": null,
            "overflow_x": null,
            "grid_auto_flow": null,
            "grid_area": null,
            "grid_template_columns": null,
            "flex": null,
            "_model_name": "LayoutModel",
            "justify_items": null,
            "grid_row": null,
            "max_height": null,
            "align_content": null,
            "visibility": null,
            "align_self": null,
            "height": null,
            "min_height": null,
            "padding": null,
            "grid_auto_rows": null,
            "grid_gap": null,
            "max_width": null,
            "order": null,
            "_view_module_version": "1.2.0",
            "grid_template_areas": null,
            "object_position": null,
            "object_fit": null,
            "grid_auto_columns": null,
            "margin": null,
            "display": null,
            "left": null
          }
        },
        "85bfd997a71b49cca266229678449f77": {
          "model_module": "@jupyter-widgets/controls",
          "model_name": "HBoxModel",
          "model_module_version": "1.5.0",
          "state": {
            "_view_name": "HBoxView",
            "_dom_classes": [],
            "_model_name": "HBoxModel",
            "_view_module": "@jupyter-widgets/controls",
            "_model_module_version": "1.5.0",
            "_view_count": null,
            "_view_module_version": "1.5.0",
            "box_style": "",
            "layout": "IPY_MODEL_659eca075d8949179af34b8b468b5e78",
            "_model_module": "@jupyter-widgets/controls",
            "children": [
              "IPY_MODEL_54cf78b92d9f44d4a37e381f80b3796c",
              "IPY_MODEL_362990f31cf04d618aab493221bfc9f7",
              "IPY_MODEL_d1648e7ec0884fbf96f61b6d2480099a"
            ]
          }
        },
        "659eca075d8949179af34b8b468b5e78": {
          "model_module": "@jupyter-widgets/base",
          "model_name": "LayoutModel",
          "model_module_version": "1.2.0",
          "state": {
            "_view_name": "LayoutView",
            "grid_template_rows": null,
            "right": null,
            "justify_content": null,
            "_view_module": "@jupyter-widgets/base",
            "overflow": null,
            "_model_module_version": "1.2.0",
            "_view_count": null,
            "flex_flow": null,
            "width": null,
            "min_width": null,
            "border": null,
            "align_items": null,
            "bottom": null,
            "_model_module": "@jupyter-widgets/base",
            "top": null,
            "grid_column": null,
            "overflow_y": null,
            "overflow_x": null,
            "grid_auto_flow": null,
            "grid_area": null,
            "grid_template_columns": null,
            "flex": null,
            "_model_name": "LayoutModel",
            "justify_items": null,
            "grid_row": null,
            "max_height": null,
            "align_content": null,
            "visibility": null,
            "align_self": null,
            "height": null,
            "min_height": null,
            "padding": null,
            "grid_auto_rows": null,
            "grid_gap": null,
            "max_width": null,
            "order": null,
            "_view_module_version": "1.2.0",
            "grid_template_areas": null,
            "object_position": null,
            "object_fit": null,
            "grid_auto_columns": null,
            "margin": null,
            "display": null,
            "left": null
          }
        },
        "54cf78b92d9f44d4a37e381f80b3796c": {
          "model_module": "@jupyter-widgets/controls",
          "model_name": "HTMLModel",
          "model_module_version": "1.5.0",
          "state": {
            "_view_name": "HTMLView",
            "style": "IPY_MODEL_7700a81a92404e6c9c4a5362a4490d89",
            "_dom_classes": [],
            "description": "",
            "_model_name": "HTMLModel",
            "placeholder": "​",
            "_view_module": "@jupyter-widgets/controls",
            "_model_module_version": "1.5.0",
            "value": "100%",
            "_view_count": null,
            "_view_module_version": "1.5.0",
            "description_tooltip": null,
            "_model_module": "@jupyter-widgets/controls",
            "layout": "IPY_MODEL_1d0068a8b41541ce8ccc0ac731341fa5"
          }
        },
        "362990f31cf04d618aab493221bfc9f7": {
          "model_module": "@jupyter-widgets/controls",
          "model_name": "FloatProgressModel",
          "model_module_version": "1.5.0",
          "state": {
            "_view_name": "ProgressView",
            "style": "IPY_MODEL_8aa950d673854502a2bf9e69ee37cee2",
            "_dom_classes": [],
            "description": "",
            "_model_name": "FloatProgressModel",
            "bar_style": "success",
            "max": 2500,
            "_view_module": "@jupyter-widgets/controls",
            "_model_module_version": "1.5.0",
            "value": 2500,
            "_view_count": null,
            "_view_module_version": "1.5.0",
            "orientation": "horizontal",
            "min": 0,
            "description_tooltip": null,
            "_model_module": "@jupyter-widgets/controls",
            "layout": "IPY_MODEL_bb03ecade6b84169bb0d5a3a7e5e9497"
          }
        },
        "d1648e7ec0884fbf96f61b6d2480099a": {
          "model_module": "@jupyter-widgets/controls",
          "model_name": "HTMLModel",
          "model_module_version": "1.5.0",
          "state": {
            "_view_name": "HTMLView",
            "style": "IPY_MODEL_80e174e803564f5b8bfbac6909d1e94e",
            "_dom_classes": [],
            "description": "",
            "_model_name": "HTMLModel",
            "placeholder": "​",
            "_view_module": "@jupyter-widgets/controls",
            "_model_module_version": "1.5.0",
            "value": " 2500/2500 [02:38&lt;00:00, 14.66it/s]",
            "_view_count": null,
            "_view_module_version": "1.5.0",
            "description_tooltip": null,
            "_model_module": "@jupyter-widgets/controls",
            "layout": "IPY_MODEL_8412162f60fb4d24acb59a31f330eda3"
          }
        },
        "7700a81a92404e6c9c4a5362a4490d89": {
          "model_module": "@jupyter-widgets/controls",
          "model_name": "DescriptionStyleModel",
          "model_module_version": "1.5.0",
          "state": {
            "_view_name": "StyleView",
            "_model_name": "DescriptionStyleModel",
            "description_width": "",
            "_view_module": "@jupyter-widgets/base",
            "_model_module_version": "1.5.0",
            "_view_count": null,
            "_view_module_version": "1.2.0",
            "_model_module": "@jupyter-widgets/controls"
          }
        },
        "1d0068a8b41541ce8ccc0ac731341fa5": {
          "model_module": "@jupyter-widgets/base",
          "model_name": "LayoutModel",
          "model_module_version": "1.2.0",
          "state": {
            "_view_name": "LayoutView",
            "grid_template_rows": null,
            "right": null,
            "justify_content": null,
            "_view_module": "@jupyter-widgets/base",
            "overflow": null,
            "_model_module_version": "1.2.0",
            "_view_count": null,
            "flex_flow": null,
            "width": null,
            "min_width": null,
            "border": null,
            "align_items": null,
            "bottom": null,
            "_model_module": "@jupyter-widgets/base",
            "top": null,
            "grid_column": null,
            "overflow_y": null,
            "overflow_x": null,
            "grid_auto_flow": null,
            "grid_area": null,
            "grid_template_columns": null,
            "flex": null,
            "_model_name": "LayoutModel",
            "justify_items": null,
            "grid_row": null,
            "max_height": null,
            "align_content": null,
            "visibility": null,
            "align_self": null,
            "height": null,
            "min_height": null,
            "padding": null,
            "grid_auto_rows": null,
            "grid_gap": null,
            "max_width": null,
            "order": null,
            "_view_module_version": "1.2.0",
            "grid_template_areas": null,
            "object_position": null,
            "object_fit": null,
            "grid_auto_columns": null,
            "margin": null,
            "display": null,
            "left": null
          }
        },
        "8aa950d673854502a2bf9e69ee37cee2": {
          "model_module": "@jupyter-widgets/controls",
          "model_name": "ProgressStyleModel",
          "model_module_version": "1.5.0",
          "state": {
            "_view_name": "StyleView",
            "_model_name": "ProgressStyleModel",
            "description_width": "",
            "_view_module": "@jupyter-widgets/base",
            "_model_module_version": "1.5.0",
            "_view_count": null,
            "_view_module_version": "1.2.0",
            "bar_color": null,
            "_model_module": "@jupyter-widgets/controls"
          }
        },
        "bb03ecade6b84169bb0d5a3a7e5e9497": {
          "model_module": "@jupyter-widgets/base",
          "model_name": "LayoutModel",
          "model_module_version": "1.2.0",
          "state": {
            "_view_name": "LayoutView",
            "grid_template_rows": null,
            "right": null,
            "justify_content": null,
            "_view_module": "@jupyter-widgets/base",
            "overflow": null,
            "_model_module_version": "1.2.0",
            "_view_count": null,
            "flex_flow": null,
            "width": null,
            "min_width": null,
            "border": null,
            "align_items": null,
            "bottom": null,
            "_model_module": "@jupyter-widgets/base",
            "top": null,
            "grid_column": null,
            "overflow_y": null,
            "overflow_x": null,
            "grid_auto_flow": null,
            "grid_area": null,
            "grid_template_columns": null,
            "flex": null,
            "_model_name": "LayoutModel",
            "justify_items": null,
            "grid_row": null,
            "max_height": null,
            "align_content": null,
            "visibility": null,
            "align_self": null,
            "height": null,
            "min_height": null,
            "padding": null,
            "grid_auto_rows": null,
            "grid_gap": null,
            "max_width": null,
            "order": null,
            "_view_module_version": "1.2.0",
            "grid_template_areas": null,
            "object_position": null,
            "object_fit": null,
            "grid_auto_columns": null,
            "margin": null,
            "display": null,
            "left": null
          }
        },
        "80e174e803564f5b8bfbac6909d1e94e": {
          "model_module": "@jupyter-widgets/controls",
          "model_name": "DescriptionStyleModel",
          "model_module_version": "1.5.0",
          "state": {
            "_view_name": "StyleView",
            "_model_name": "DescriptionStyleModel",
            "description_width": "",
            "_view_module": "@jupyter-widgets/base",
            "_model_module_version": "1.5.0",
            "_view_count": null,
            "_view_module_version": "1.2.0",
            "_model_module": "@jupyter-widgets/controls"
          }
        },
        "8412162f60fb4d24acb59a31f330eda3": {
          "model_module": "@jupyter-widgets/base",
          "model_name": "LayoutModel",
          "model_module_version": "1.2.0",
          "state": {
            "_view_name": "LayoutView",
            "grid_template_rows": null,
            "right": null,
            "justify_content": null,
            "_view_module": "@jupyter-widgets/base",
            "overflow": null,
            "_model_module_version": "1.2.0",
            "_view_count": null,
            "flex_flow": null,
            "width": null,
            "min_width": null,
            "border": null,
            "align_items": null,
            "bottom": null,
            "_model_module": "@jupyter-widgets/base",
            "top": null,
            "grid_column": null,
            "overflow_y": null,
            "overflow_x": null,
            "grid_auto_flow": null,
            "grid_area": null,
            "grid_template_columns": null,
            "flex": null,
            "_model_name": "LayoutModel",
            "justify_items": null,
            "grid_row": null,
            "max_height": null,
            "align_content": null,
            "visibility": null,
            "align_self": null,
            "height": null,
            "min_height": null,
            "padding": null,
            "grid_auto_rows": null,
            "grid_gap": null,
            "max_width": null,
            "order": null,
            "_view_module_version": "1.2.0",
            "grid_template_areas": null,
            "object_position": null,
            "object_fit": null,
            "grid_auto_columns": null,
            "margin": null,
            "display": null,
            "left": null
          }
        }
      }
    }
  },
  "cells": [
    {
      "cell_type": "code",
      "metadata": {
        "colab": {
          "base_uri": "https://localhost:8080/"
        },
        "id": "4PPoi8vIqg3N",
        "outputId": "d5187c02-2906-419a-b051-a04054e4217b"
      },
      "source": [
        "from google.colab import drive\n",
        "drive.mount('/content/drive')\n",
        "\n",
        "DRIVE_PATH = \"/content/drive/MyDrive/YandexCup/\""
      ],
      "id": "4PPoi8vIqg3N",
      "execution_count": null,
      "outputs": [
        {
          "output_type": "stream",
          "name": "stdout",
          "text": [
            "Mounted at /content/drive\n"
          ]
        }
      ]
    },
    {
      "cell_type": "markdown",
      "metadata": {
        "id": "j48XMiSVnQ5L"
      },
      "source": [
        "Загружаем скачанный классификатор токсичности:"
      ],
      "id": "j48XMiSVnQ5L"
    },
    {
      "cell_type": "code",
      "metadata": {
        "id": "trDj06qnJCnr",
        "colab": {
          "base_uri": "https://localhost:8080/"
        },
        "outputId": "876ac0ed-88f2-4c96-cebd-6578fa96e9db"
      },
      "source": [
        "!pip install -q transformers\n",
        "!pip install -q natasha\n",
        "!pip install -q pymorphy2\n",
        "!pip install -q -U pymorphy2-dicts-ru\n",
        "!pip install -q hnswlib\n",
        "!pip install -q pymystem3\n",
        "!pip install -q pymorphy2\n",
        "!pip install -q -U pymorphy2-dicts-ru"
      ],
      "id": "trDj06qnJCnr",
      "execution_count": null,
      "outputs": [
        {
          "output_type": "stream",
          "name": "stdout",
          "text": [
            "\u001b[K     |████████████████████████████████| 2.9 MB 13.1 MB/s \n",
            "\u001b[K     |████████████████████████████████| 3.3 MB 58.6 MB/s \n",
            "\u001b[K     |████████████████████████████████| 636 kB 46.1 MB/s \n",
            "\u001b[K     |████████████████████████████████| 895 kB 66.9 MB/s \n",
            "\u001b[K     |████████████████████████████████| 56 kB 6.5 MB/s \n",
            "\u001b[K     |████████████████████████████████| 34.4 MB 51 kB/s \n",
            "\u001b[K     |████████████████████████████████| 55 kB 5.1 MB/s \n",
            "\u001b[K     |████████████████████████████████| 49 kB 8.0 MB/s \n",
            "\u001b[K     |████████████████████████████████| 41 kB 161 kB/s \n",
            "\u001b[K     |████████████████████████████████| 8.2 MB 26.8 MB/s \n",
            "\u001b[?25h  Building wheel for intervaltree (setup.py) ... \u001b[?25l\u001b[?25hdone\n",
            "  Installing build dependencies ... \u001b[?25l\u001b[?25hdone\n",
            "  Getting requirements to build wheel ... \u001b[?25l\u001b[?25hdone\n",
            "    Preparing wheel metadata ... \u001b[?25l\u001b[?25hdone\n",
            "  Building wheel for hnswlib (PEP 517) ... \u001b[?25l\u001b[?25hdone\n"
          ]
        }
      ]
    },
    {
      "cell_type": "markdown",
      "metadata": {
        "id": "1RuRhakQwFHh"
      },
      "source": [
        "#Score"
      ],
      "id": "1RuRhakQwFHh"
    },
    {
      "cell_type": "code",
      "metadata": {
        "colab": {
          "base_uri": "https://localhost:8080/"
        },
        "id": "9jjjQyE2wl7L",
        "outputId": "85a6040a-ef79-4664-ef56-c76b8e3aa15d"
      },
      "source": [
        "!pip install https://github.com/kpu/kenlm/archive/master.zip\n",
        "!pip install -q kenlm"
      ],
      "id": "9jjjQyE2wl7L",
      "execution_count": null,
      "outputs": [
        {
          "output_type": "stream",
          "name": "stdout",
          "text": [
            "Collecting https://github.com/kpu/kenlm/archive/master.zip\n",
            "  Downloading https://github.com/kpu/kenlm/archive/master.zip\n",
            "\u001b[K     \\ 540 kB 2.3 MB/s\n",
            "\u001b[?25hBuilding wheels for collected packages: kenlm\n",
            "  Building wheel for kenlm (setup.py) ... \u001b[?25l\u001b[?25hdone\n",
            "  Created wheel for kenlm: filename=kenlm-0.0.0-cp37-cp37m-linux_x86_64.whl size=2334462 sha256=149d3e4d857afcafaeea9e8dd66db0ef16b0f994cdc031811170d70a1bd1b585\n",
            "  Stored in directory: /tmp/pip-ephem-wheel-cache-f668np5k/wheels/3d/aa/02/7b4a2eab5d7a2a9391bd9680dbad6270808a147bc3b7047e4e\n",
            "Successfully built kenlm\n",
            "Installing collected packages: kenlm\n",
            "Successfully installed kenlm-0.0.0\n"
          ]
        }
      ]
    },
    {
      "cell_type": "code",
      "metadata": {
        "id": "V5SFllGhwHmz"
      },
      "source": [
        "import numpy as np\n",
        "\n",
        "import os\n",
        "from transformers import AutoTokenizer, AutoModelForSequenceClassification\n",
        "import torch\n",
        "from torch import softmax, sigmoid\n",
        "from tqdm.auto import tqdm\n",
        "import argparse\n",
        "from pymystem3 import Mystem\n",
        "import sys\n",
        "from collections import Counter\n",
        "from functools import partial\n",
        "import kenlm\n",
        "\n",
        "from transformers import AutoTokenizer, AutoModelForSequenceClassification\n",
        "\n",
        "tokenizer = AutoTokenizer.from_pretrained(\"/content/drive/MyDrive/YandexCup/trained_roberta\")\n",
        "\n",
        "model = AutoModelForSequenceClassification.from_pretrained(\"/content/drive/MyDrive/YandexCup/trained_roberta\").cuda()\n",
        "\n",
        "lm = kenlm.Model('/content/drive/MyDrive/YandexCup/lm.binary')\n",
        "\n",
        "\n",
        "\n",
        "TOXIC_CLASS=-1\n",
        "TOKENIZATION_TYPE='sentencepiece'\n",
        "\n",
        "\n",
        "ALLOWED_ALPHABET=list(map(chr, range(ord('а'), ord('я') + 1)))\n",
        "ALLOWED_ALPHABET.extend(map(chr, range(ord('a'), ord('z') + 1)))\n",
        "ALLOWED_ALPHABET.extend(list(map(str.upper, ALLOWED_ALPHABET)))\n",
        "ALLOWED_ALPHABET = set(ALLOWED_ALPHABET)\n",
        "\n",
        "\n",
        "def logits_to_toxic_probas(logits):\n",
        "    if logits.shape[-1] > 1:\n",
        "        activation = lambda x: softmax(x, -1)\n",
        "    else:\n",
        "        activation = sigmoid\n",
        "    return activation(logits)[:, TOXIC_CLASS].cpu().detach().numpy()\n",
        "\n",
        "\n",
        "def is_word_start(token):\n",
        "    if TOKENIZATION_TYPE == 'sentencepiece':\n",
        "        return token.startswith('▁')\n",
        "    if TOKENIZATION_TYPE == 'bert':\n",
        "        return not token.startswith('##')\n",
        "    raise ValueError(\"Unknown tokenization type\")\n",
        "\n",
        "\n",
        "def normalize(sentence, max_tokens_per_word=20):\n",
        "    def validate_char(c):\n",
        "        return c in ALLOWED_ALPHABET\n",
        "    \n",
        "    sentence = ''.join(map(lambda c: c if validate_char(c) else ' ', sentence.lower()))\n",
        "    ids = tokenizer(sentence)['input_ids']\n",
        "    tokens = tokenizer.convert_ids_to_tokens(ids)[1:-1]\n",
        "    \n",
        "    result = []\n",
        "    num_continuation_tokens = 0\n",
        "    for token in tokens:\n",
        "        if not is_word_start(token):\n",
        "            num_continuation_tokens += 1\n",
        "            if num_continuation_tokens < max_tokens_per_word:\n",
        "                result.append(token.lstrip('#▁'))\n",
        "        else:\n",
        "            num_continuation_tokens = 0\n",
        "            result.extend([' ', token.lstrip('▁#')])\n",
        "    \n",
        "    return ''.join(result).strip()\n",
        "\n",
        "\n",
        "def iterate_batches(data, batch_size=40):\n",
        "    batch = []\n",
        "    for x in data:\n",
        "        batch.append(x)\n",
        "        if len(batch) >= batch_size:\n",
        "            yield batch\n",
        "            batch = []\n",
        "    if len(batch) > 0:\n",
        "        yield batch\n",
        "\n",
        "\n",
        "def predict_toxicity_1(sentences, batch_size=5, threshold=0.5, return_scores=False, verbose=True, device='cuda'):\n",
        "    results = []\n",
        "    for batch in iterate_batches(sentences, batch_size):\n",
        "        normlized = [normalize(sent, max_tokens_per_word=5) for sent in batch]\n",
        "        tokenized = tokenizer(normlized, return_tensors='pt', padding=True, max_length=512, truncation=True)\n",
        "    \n",
        "        logits = model.to(device)(**{key: val.to(device) for key, val in tokenized.items()}).logits\n",
        "        preds = logits_to_toxic_probas(logits)\n",
        "        if not return_scores:\n",
        "            preds = preds >= threshold\n",
        "        results.extend(preds)\n",
        "    return results\n",
        "\n",
        "\n",
        "def get_w2v_indicies_1(a):\n",
        "    res = []\n",
        "    if isinstance(a, str):\n",
        "        a = a.split()\n",
        "    for w in a:\n",
        "        if w in embs_voc:\n",
        "            res.append((w, embs_voc[w]))\n",
        "        else:\n",
        "            if w.isalpha():\n",
        "                lemma = morph.parse(w)[0].normal_form\n",
        "                res.append((embs_voc.get(lemma), None))\n",
        "    return res\n",
        "\n",
        "\n",
        "def load_embeddings(path):\n",
        "    embs_file = np.load(path, allow_pickle=True)\n",
        "    embs_vectors = embs_file['vectors']\n",
        "    embs_voc = embs_file['voc'].item()\n",
        "\n",
        "    embs_voc_by_id = [None for i in range(len(embs_vectors))]\n",
        "    for word, idx in embs_voc.items():\n",
        "        if embs_voc_by_id[idx] is None:\n",
        "            embs_voc_by_id[idx] = word\n",
        "    return embs_vectors, embs_voc, embs_voc_by_id\n",
        "\n",
        "\n",
        "def calc_embs_1(words):\n",
        "    words = ' '.join(map(normalize, words))\n",
        "    inds = get_w2v_indicies_1(words)\n",
        "    return [(w, i if i is None else embs_vectors[i]) for w, i in inds]\n",
        "\n",
        "\n",
        "def calc_single_embedding_dist(a, b):\n",
        "    a_s, a_v = a  #слово, вектор\n",
        "    b_s, b_v = b  #слово, вектор\n",
        "    if a_s == b_s: #если слова равны\n",
        "        return 0.0\n",
        "    if a_v is None or b_v is None: #если одно из векторов нет - дать пизды \n",
        "        return 1.0\n",
        "    a = a_v\n",
        "    b = b_v\n",
        "    # inexact match is punished by 0.1\n",
        "    return 0.1 + 0.9 * (1 - a.dot(b) / np.linalg.norm(a) / np.linalg.norm(b)) / 2\n",
        "\n",
        "\n",
        "def greedy_match_embs(a, b, max_dist=99999, cache=None, a_ind=0, b_ind=0):\n",
        "    a_len = len(a) - a_ind #сколько слов мы еще не рассмотрели в а\n",
        "    b_len = len(b) - b_ind #сколько слов мы еще не рассмотрели в b\n",
        "    minlen = min(a_len, b_len) #минимальная длина строки\n",
        "    maxlen = max(a_len, b_len) #минимальная длина строки\n",
        "    if minlen == 0: \n",
        "        return np.minimum(maxlen, max_dist) \n",
        "    if maxlen - minlen >= max_dist: \n",
        "        return max_dist \n",
        "    \n",
        "    if cache is None:\n",
        "        cache = {}\n",
        "    \n",
        "    cache_key = (a_len, b_len)\n",
        "    if cache_key in cache:\n",
        "        return cache[cache_key]\n",
        "        \n",
        "    min_dist = max_dist\n",
        "    \n",
        "    first_dist = calc_single_embedding_dist(a[a_ind], b[b_ind])\n",
        "    if max_dist >= first_dist:\n",
        "        min_dist = np.minimum(min_dist, first_dist + greedy_match_embs(\n",
        "            a, b, max_dist, cache, a_ind + 1, b_ind + 1\n",
        "        ))\n",
        "    \n",
        "    if first_dist > 0 and max_dist >= 1:\n",
        "        min_dist = np.minimum(min_dist, 1 + greedy_match_embs(\n",
        "            a, b, max_dist, cache, a_ind + 1, b_ind\n",
        "        ))\n",
        "        min_dist = np.minimum(min_dist, 1 + greedy_match_embs(\n",
        "            a, b, max_dist, cache, a_ind, b_ind + 1\n",
        "        ))\n",
        "    \n",
        "    cache[cache_key] = min_dist\n",
        "    \n",
        "    return min_dist\n",
        "\n",
        "\n",
        "\n",
        "def calc_semantic_distance(a, b):\n",
        "    a_embs = calc_embs_1(a)\n",
        "    b_embs = calc_embs_1(b)\n",
        "    \n",
        "    clip_distance = 5  # this clips long computations\n",
        "    return np.exp(-(greedy_match_embs(a_embs, b_embs, max_dist=clip_distance) / (0.6 * np.log(1 + len(a)))) ** 2)\n",
        "\n",
        "\n",
        "def distance_score(original, fixed):\n",
        "    original = original.split()\n",
        "    fixed = fixed.split()\n",
        "    \n",
        "    return calc_semantic_distance(original, fixed)\n",
        "\n",
        "\n",
        "def compute_lmdiff(original, fixed):\n",
        "    original_lm_logproba = lm.score(original, bos=True, eos=True)\n",
        "    fixed_lm_logproba = lm.score(fixed, bos=True, eos=True)\n",
        "    \n",
        "    probability_fraction = 10**((fixed_lm_logproba - original_lm_logproba) / 25)\n",
        "    \n",
        "    return np.clip(probability_fraction, 0.0, 1.0)\n",
        "\n",
        "\n",
        "def compute_score(original_sentences, fixed_sentences, threshold=0.5, batch_size=5, show_res = False):\n",
        "    fixed_toxicities = predict_toxicity_1(fixed_sentences, threshold=threshold, batch_size=batch_size, return_scores=True)\n",
        "    scores = []\n",
        "    lmdiffs = []\n",
        "    emb_dists = []\n",
        "    for original_sentence, fixed_sentence, fixed_toxicity in tqdm(zip(\n",
        "        original_sentences, fixed_sentences, fixed_toxicities\n",
        "    ), miniters=250, disable= True):\n",
        "        original_sentence = normalize(original_sentence)\n",
        "        fixed_sentence = normalize(fixed_sentence)\n",
        "        \n",
        "        distance = distance_score(original_sentence, fixed_sentence)\n",
        "        lmdiff = compute_lmdiff(original_sentence, fixed_sentence)\n",
        "        \n",
        "        score = (1 - fixed_toxicity) * distance * lmdiff\n",
        "        \n",
        "        lmdiffs.append(lmdiff)\n",
        "        emb_dists.append(distance)\n",
        "        scores.append(score)\n",
        "        \n",
        "    if show_res:\n",
        "        print('average toxicity:', np.mean(fixed_toxicities), file=sys.stderr)\n",
        "        print('mean lmdiff:', np.mean(lmdiffs), file=sys.stderr)\n",
        "        print('mean distance_score:', np.mean(emb_dists), file=sys.stderr)\n",
        "    \n",
        "    return np.mean(scores)\n",
        "\n",
        "'''\n",
        "def parse_args():\n",
        "    parser = argparse.ArgumentParser()\n",
        "    parser.add_argument('original_texts', type=argparse.FileType('r'))\n",
        "    parser.add_argument('fixed_texts', type=argparse.FileType('r'))\n",
        "    parser.add_argument('--score', type=argparse.FileType('w'))\n",
        "    parser.add_argument('--model', required=True, type=str)\n",
        "    parser.add_argument('--embeddings', type=str, required=True)\n",
        "    parser.add_argument('--lm', type=str, required=True)\n",
        "    parser.add_argument('--device', type=str, choices=['cuda', 'cpu'], default='cpu')\n",
        "    \n",
        "    return parser.parse_args()\n",
        "'''\n",
        "\n",
        "def new_checker(original_texts, fixed_texts, device='cuda', show_res = False):\n",
        "    original_texts = list(map(str.strip, original_texts))\n",
        "    fixed_texts = list(map(str.strip, fixed_texts))\n",
        "    \n",
        "    assert len(original_texts) == len(fixed_texts)\n",
        "    \n",
        "    with torch.inference_mode(True):\n",
        "        return (100 * compute_score(original_texts, fixed_texts, show_res = show_res))"
      ],
      "id": "V5SFllGhwHmz",
      "execution_count": null,
      "outputs": []
    },
    {
      "cell_type": "markdown",
      "metadata": {
        "id": "r4i76mZ6pFjC"
      },
      "source": [
        "#Solution:"
      ],
      "id": "r4i76mZ6pFjC"
    },
    {
      "cell_type": "code",
      "metadata": {
        "id": "I-t83-1unQ5T"
      },
      "source": [
        "from transformers import AutoTokenizer, AutoModelForSequenceClassification\n",
        "  \n",
        "tokenizer = AutoTokenizer.from_pretrained(DRIVE_PATH + \"trained_roberta\")\n",
        "\n",
        "model = AutoModelForSequenceClassification.from_pretrained(DRIVE_PATH + \"trained_roberta\").cuda()\n",
        "\n",
        "TOXIC_CLASS=-1\n",
        "TOKENIZATION_TYPE='sentencepiece'\n"
      ],
      "id": "I-t83-1unQ5T",
      "execution_count": null,
      "outputs": []
    },
    {
      "cell_type": "markdown",
      "metadata": {
        "id": "d9kNHI42nQ5Y"
      },
      "source": [
        "Ниже функции для применения классификатора"
      ],
      "id": "d9kNHI42nQ5Y"
    },
    {
      "cell_type": "code",
      "metadata": {
        "id": "7WmnQL19nQ5Z"
      },
      "source": [
        "from torch import softmax, sigmoid\n",
        "import numpy as np\n",
        "\n",
        "\n",
        "import os\n",
        "from transformers import AutoTokenizer, AutoModelForSequenceClassification\n",
        "import torch\n",
        "from tqdm.auto import tqdm\n",
        "import argparse\n",
        "from pymystem3 import Mystem\n",
        "import sys\n",
        "from collections import Counter\n",
        "from functools import partial\n",
        "\n",
        "\n",
        "\n",
        "ALLOWED_ALPHABET=list(map(chr, range(ord('а'), ord('я') + 1)))\n",
        "ALLOWED_ALPHABET.extend(map(chr, range(ord('a'), ord('z') + 1)))\n",
        "ALLOWED_ALPHABET.extend(list(map(str.upper, ALLOWED_ALPHABET)))\n",
        "ALLOWED_ALPHABET = set(ALLOWED_ALPHABET)\n",
        "\n",
        "\n",
        "def logits_to_toxic_probas(logits):\n",
        "    if logits.shape[-1] > 1:\n",
        "        activation = lambda x: softmax(x, -1)\n",
        "    else:\n",
        "        activation = sigmoid\n",
        "    return activation(logits)[:, TOXIC_CLASS].cpu().detach().numpy()\n",
        "\n",
        "\n",
        "def is_word_start(token):\n",
        "    if TOKENIZATION_TYPE == 'sentencepiece':\n",
        "        return token.startswith('▁')\n",
        "    if TOKENIZATION_TYPE == 'bert':\n",
        "        return not token.startswith('##')\n",
        "    raise ValueError(\"Unknown tokenization type\")\n",
        "\n",
        "\n",
        "def normalize(sentence, max_tokens_per_word=20):\n",
        "    def validate_char(c):\n",
        "        return c in ALLOWED_ALPHABET\n",
        "    \n",
        "    sentence = ''.join(map(lambda c: c if validate_char(c) else ' ', sentence.lower()))\n",
        "    ids = tokenizer(sentence)['input_ids']\n",
        "    tokens = tokenizer.convert_ids_to_tokens(ids)[1:-1]\n",
        "    \n",
        "    result = []\n",
        "    num_continuation_tokens = 0\n",
        "    for token in tokens:\n",
        "        if not is_word_start(token):\n",
        "            num_continuation_tokens += 1\n",
        "            if num_continuation_tokens < max_tokens_per_word:\n",
        "                result.append(token.lstrip('#▁'))\n",
        "        else:\n",
        "            num_continuation_tokens = 0\n",
        "            result.extend([' ', token.lstrip('▁#')])\n",
        "    \n",
        "    return ''.join(result).strip()\n",
        "\n",
        "\n",
        "def iterate_batches(data, batch_size=40):\n",
        "    batch = []\n",
        "    for x in data:\n",
        "        batch.append(x)\n",
        "        if len(batch) >= batch_size:\n",
        "            yield batch\n",
        "            batch = []\n",
        "    if len(batch) > 0:\n",
        "        yield batch\n",
        "\n",
        "from tqdm.auto import tqdm\n",
        "def predict_toxicity(sentences, batch_size=5, threshold=0.5, return_scores=False, verbose=True, device='cuda', off_tqdm=False):\n",
        "    results = []\n",
        "    tqdm_fn = tqdm if verbose else lambda x, total: x\n",
        "    for batch in tqdm_fn(iterate_batches(sentences, batch_size), total=np.ceil(len(sentences) / batch_size),  disable=off_tqdm):\n",
        "        normlized = [normalize(sent, max_tokens_per_word=5) for sent in batch]\n",
        "        tokenized = tokenizer(normlized, return_tensors='pt', padding=True, max_length=512, truncation=True)\n",
        "        \n",
        "        model_input = {key: val.to(device) for key, val in tokenized.items()}\n",
        "        \n",
        "        logits = model.to(device)(**model_input).logits\n",
        "        \n",
        "        preds = logits_to_toxic_probas(logits)\n",
        "        \n",
        "        if not return_scores:\n",
        "            preds = preds >= threshold\n",
        "        results.extend(preds)\n",
        "    return results\n"
      ],
      "id": "7WmnQL19nQ5Z",
      "execution_count": null,
      "outputs": []
    },
    {
      "cell_type": "code",
      "metadata": {
        "id": "H4FxufcaOTf8",
        "colab": {
          "base_uri": "https://localhost:8080/"
        },
        "outputId": "2dae539c-e3be-48cb-bcde-338038c1f65a"
      },
      "source": [
        "texts = []\n",
        "raw_texts = []\n",
        "with open(DRIVE_PATH + 'public_testset.txt', 'rt') as f:\n",
        "    for line in f:\n",
        "        raw_texts.append(line) \n",
        "        texts.append(normalize(line))"
      ],
      "id": "H4FxufcaOTf8",
      "execution_count": null,
      "outputs": [
        {
          "output_type": "stream",
          "name": "stderr",
          "text": [
            "Token indices sequence length is longer than the specified maximum sequence length for this model (534 > 512). Running this sequence through the model will result in indexing errors\n"
          ]
        }
      ]
    },
    {
      "cell_type": "markdown",
      "metadata": {
        "id": "o-M9Ks4NnQ5e"
      },
      "source": [
        "Вычисляем токсичность отдельных слов"
      ],
      "id": "o-M9Ks4NnQ5e"
    },
    {
      "cell_type": "code",
      "metadata": {
        "colab": {
          "base_uri": "https://localhost:8080/",
          "height": 49,
          "referenced_widgets": [
            "a38dd805866d458b92ea42f02e89f889",
            "67ffeba951ef477baca5dcd9a3047d4f",
            "829b5fb9293f43bb9c87606c0aad0cb0",
            "70f4feb10f004e34874914bf71bc757d",
            "8298b2055b8a4a0a9d483bb4029a8c25",
            "90d688ccbb9743ccb167d9d2829338b8",
            "1e23b93511b242e6b1873842544997b2",
            "31c8493bba694275ad008acaa357da7a",
            "f4e0ba3f78f54a41a1f3e94c246a0722",
            "80e655a42d1c4bfb9d7feababb622928",
            "0b7c2485c6ba48c9a8b44ac88f080c2e"
          ]
        },
        "id": "dUV4MFFuH9z0",
        "outputId": "ecd6f9e0-4510-4633-f90b-270099faa508"
      },
      "source": [
        "line_toxicities = []\n",
        "line_mean_toxicities = []\n",
        "\n",
        "for line in tqdm(np.random.choice(raw_texts, 25)):\n",
        "    pred = predict_toxicity([line], return_scores=True, off_tqdm=True)\n",
        "    \n",
        "    line_words = normalize(line).split()\n",
        "    toxi = [predict_toxicity([word], return_scores=True, off_tqdm=True) for word in line_words]\n",
        "    \n",
        "    line_toxicities.append(pred[0])\n",
        "    line_mean_toxicities.append(np.mean(toxi))\n",
        "\n"
      ],
      "id": "dUV4MFFuH9z0",
      "execution_count": null,
      "outputs": [
        {
          "output_type": "display_data",
          "data": {
            "application/vnd.jupyter.widget-view+json": {
              "model_id": "a38dd805866d458b92ea42f02e89f889",
              "version_minor": 0,
              "version_major": 2
            },
            "text/plain": [
              "  0%|          | 0/25 [00:00<?, ?it/s]"
            ]
          },
          "metadata": {}
        }
      ]
    },
    {
      "cell_type": "code",
      "metadata": {
        "colab": {
          "base_uri": "https://localhost:8080/"
        },
        "id": "PmP3tB70YW7K",
        "outputId": "c4577f41-33d3-49d3-e3ac-fdd0175eb578"
      },
      "source": [
        "print(f\"На ({len(line_toxicities)} комментах):\")\n",
        "print(np.mean(line_toxicities), f\"- средняя токсичность всего комментария\")\n",
        "print(np.mean(line_mean_toxicities), \"- cредняя токсичность каждого слова в комментарии\")"
      ],
      "id": "PmP3tB70YW7K",
      "execution_count": null,
      "outputs": [
        {
          "output_type": "stream",
          "name": "stdout",
          "text": [
            "На (25 комментах):\n",
            "0.61000323 - средняя токсичность всего комментария\n",
            "0.17952412 - cредняя токсичность каждого слова в комментарии\n"
          ]
        }
      ]
    },
    {
      "cell_type": "code",
      "metadata": {
        "colab": {
          "base_uri": "https://localhost:8080/"
        },
        "id": "_l4JOb1Sfo0d",
        "outputId": "9a1eed4e-71bc-4cda-e3a8-75c0413c6734"
      },
      "source": [
        "line = raw_texts[100]\n",
        "pred = predict_toxicity([line], return_scores=True, off_tqdm=True)\n",
        "\n",
        "line_words = normalize(line).split()\n",
        "toxi = [predict_toxicity([word], return_scores=True, off_tqdm=True) for word in line_words]\n",
        "\n",
        "print(line)\n",
        "print(pred)\n",
        "print(line_words)\n",
        "print(toxi)"
      ],
      "id": "_l4JOb1Sfo0d",
      "execution_count": null,
      "outputs": [
        {
          "output_type": "stream",
          "name": "stdout",
          "text": [
            "Можно сказать проще - кукуха едет от старческого маразма.\n",
            "\n",
            "[0.8303647]\n",
            "['можно', 'сказать', 'проще', 'кукуха', 'едет', 'от', 'старческого', 'маразма']\n",
            "[[0.07630243], [0.2619401], [0.04409236], [0.56395835], [0.15138271], [0.0645212], [0.2058756], [0.63614625]]\n"
          ]
        }
      ]
    },
    {
      "cell_type": "code",
      "metadata": {
        "colab": {
          "base_uri": "https://localhost:8080/"
        },
        "id": "h8PZTCsgkoyh",
        "outputId": "4d742728-6ee3-49db-b833-ba90c838a804"
      },
      "source": [
        "def sort_by_toxicity(words):\n",
        "    toxicities = predict_toxicity(words, return_scores = True, off_tqdm=True)\n",
        "    #[токсичность, индекс, слово]\n",
        "    result = [[toxicities[i], i, words[i]] for i in range(len(words))]\n",
        "    result.sort()\n",
        "    return result\n",
        "\n",
        "line = line = np.random.choice(raw_texts)\n",
        "pred = predict_toxicity([line], return_scores=True, off_tqdm=True)\n",
        "\n",
        "line_words = normalize(line).split()\n",
        "\n",
        "print(sort_by_toxicity(line_words))"
      ],
      "id": "h8PZTCsgkoyh",
      "execution_count": null,
      "outputs": [
        {
          "output_type": "stream",
          "name": "stdout",
          "text": [
            "[[0.037139818, 15, 'у'], [0.04471565, 4, 'правильно'], [0.04769726, 5, 'два'], [0.047831487, 14, 'почему'], [0.049277287, 20, 'именно'], [0.056970093, 12, 'он'], [0.060944892, 8, 'и'], [0.060944907, 17, 'и'], [0.064153634, 11, 'ли'], [0.06441116, 19, 'расположенность'], [0.068932876, 21, 'к'], [0.07786541, 13, 'сам'], [0.08234026, 16, 'него'], [0.09730994, 3, 'р'], [0.117461026, 1, 'не'], [0.117461026, 9, 'не'], [0.13700692, 6, 'сапога'], [0.14858796, 18, 'ксении'], [0.28175718, 0, 'а'], [0.34283602, 2, 'режис'], [0.47838122, 7, 'пара'], [0.5907442, 10, 'маньяк'], [0.5997525, 22, 'маньякам']]\n"
          ]
        }
      ]
    },
    {
      "cell_type": "markdown",
      "metadata": {
        "id": "7eBW4a9SnQ5g"
      },
      "source": [
        "Ниже читаем эмбеддинги слов и описываем функции их обработки"
      ],
      "id": "7eBW4a9SnQ5g"
    },
    {
      "cell_type": "code",
      "metadata": {
        "id": "_rGJ6ptQnQ5h",
        "colab": {
          "base_uri": "https://localhost:8080/"
        },
        "outputId": "abd4603e-aa6f-4f58-e290-39df520e95d9"
      },
      "source": [
        "import gensim\n",
        "from pymystem3 import Mystem\n",
        "\n",
        "stemmer = Mystem()\n",
        "#lemmas = stemmer.lemmatize(\"Красивая мама красиво мыла раму\")"
      ],
      "id": "_rGJ6ptQnQ5h",
      "execution_count": null,
      "outputs": [
        {
          "output_type": "stream",
          "name": "stderr",
          "text": [
            "Installing mystem to /root/.local/bin/mystem from http://download.cdn.yandex.net/mystem/mystem-3.1-linux-64bit.tar.gz\n"
          ]
        }
      ]
    },
    {
      "cell_type": "code",
      "metadata": {
        "id": "Sw6Cw6OrhQ_0"
      },
      "source": [
        "!pip install -q pymorphy2\n",
        "!pip install -q -U pymorphy2-dicts-ru\n",
        "\n",
        "from pymystem3 import Mystem\n",
        "from pymorphy2 import MorphAnalyzer\n",
        "import pymorphy2\n",
        "\n",
        "\n",
        "morph = pymorphy2.MorphAnalyzer(lang='ru')"
      ],
      "id": "Sw6Cw6OrhQ_0",
      "execution_count": null,
      "outputs": []
    },
    {
      "cell_type": "code",
      "metadata": {
        "id": "LAHXRXFAnQ5h"
      },
      "source": [
        "embs_file = np.load(DRIVE_PATH + 'embeddings_with_lemmas.npz', allow_pickle=True)\n",
        "embs_vectors = embs_file['vectors']\n",
        "embs_vectors_normed = embs_vectors / np.linalg.norm(embs_vectors, axis=1, keepdims=True)\n",
        "embs_voc = embs_file['voc'].item()\n",
        "\n",
        "embs_voc_by_id = [None for i in range(len(embs_vectors))]\n",
        "for word, idx in embs_voc.items():\n",
        "    if embs_voc_by_id[idx] is None:\n",
        "        embs_voc_by_id[idx] = word"
      ],
      "id": "LAHXRXFAnQ5h",
      "execution_count": null,
      "outputs": []
    },
    {
      "cell_type": "code",
      "metadata": {
        "colab": {
          "base_uri": "https://localhost:8080/",
          "height": 49,
          "referenced_widgets": [
            "561c028aa43c4320b41a1e4ccaa18b60",
            "4a65a50538f74594883621e3fdffdd2f",
            "21240d4f538d4535a4069e30b73933ac",
            "7948ba08c1374b98b06dd3f052c11818",
            "40e481b5fad84509a1e9eb8af5898655",
            "db2f52a98825421ca1dceb714b8f2998",
            "151fb4bc3ead4fa8977994463d31e4cc",
            "b899d78636d4470d84f24f2aa3f72b52",
            "2669094721b34a7587292a15ae273b14",
            "565669adf5404d56bd0efeebd4817457",
            "f16eea96b2784cddbe0a038606947abc"
          ]
        },
        "id": "eSk_dENb7N3g",
        "outputId": "2820cd80-5b72-4442-f681-0ddfc2a21365"
      },
      "source": [
        "words = set(embs_voc.keys())\n",
        "\n",
        "with torch.inference_mode():\n",
        "    word_toxicities = predict_toxicity(words, batch_size=100, return_scores=True)\n",
        "\n",
        "toxicity = dict(zip(words, word_toxicities))"
      ],
      "id": "eSk_dENb7N3g",
      "execution_count": null,
      "outputs": [
        {
          "output_type": "display_data",
          "data": {
            "application/vnd.jupyter.widget-view+json": {
              "model_id": "561c028aa43c4320b41a1e4ccaa18b60",
              "version_minor": 0,
              "version_major": 2
            },
            "text/plain": [
              "  0%|          | 0/1627.0 [00:00<?, ?it/s]"
            ]
          },
          "metadata": {}
        }
      ]
    },
    {
      "cell_type": "code",
      "metadata": {
        "colab": {
          "base_uri": "https://localhost:8080/"
        },
        "id": "tkdVwjmx4fFh",
        "outputId": "7838d115-bbb3-4cf2-cc47-273bc255e12e"
      },
      "source": [
        "sorted_toxicity = {k: v for k, v in sorted(toxicity.items(), key=lambda item: item[1], reverse = True)}\n",
        "for k, v in list(sorted_toxicity.items())[-100:]:\n",
        "    print(k ,v)"
      ],
      "id": "tkdVwjmx4fFh",
      "execution_count": null,
      "outputs": [
        {
          "output_type": "stream",
          "name": "stdout",
          "text": [
            "mmo 0.009779437\n",
            "jpm 0.009775943\n",
            "cfd 0.009774271\n",
            "http 0.009772634\n",
            "print 0.009772043\n",
            "cf 0.009771859\n",
            "8.cf 0.009771859\n",
            "account 0.009770866\n",
            "sncf 0.0097690765\n",
            "appstore 0.009768219\n",
            "dcfta 0.009765147\n",
            "title 0.009763957\n",
            "call-center 0.009763764\n",
            "correction 0.009762546\n",
            "свеже 0.009760704\n",
            "documents 0.009758518\n",
            "sharepoint 0.009758454\n",
            "listed 0.009756879\n",
            "required 0.009756584\n",
            "recommended 0.009754723\n",
            "board 0.009749833\n",
            "дизайновый 0.009749578\n",
            "postscript 0.00974957\n",
            "preview 0.009746988\n",
            "pocketbook 0.009745045\n",
            "wcf 0.009744373\n",
            "openbox 0.009742492\n",
            "закладка 0.009741862\n",
            "types 0.009738403\n",
            "winkhaus 0.0097380495\n",
            "этoгo 0.009732593\n",
            "yam 0.00973132\n",
            "newsonline 0.009730524\n",
            "onliner.by 0.009730259\n",
            "mpls 0.009729734\n",
            "allview 0.009727797\n",
            "jcomments 0.009724544\n",
            "schedule 0.009723984\n",
            "callback 0.00972145\n",
            "support 0.009715264\n",
            "guestbook 0.009714621\n",
            "аю 0.009714375\n",
            "projector 0.009711683\n",
            "cfg 0.009709422\n",
            "order 0.009708761\n",
            "speedo 0.009708757\n",
            "н::спасибо 0.009708752\n",
            "registration 0.009704544\n",
            "provided 0.009703988\n",
            "details 0.009703582\n",
            "receive 0.009703357\n",
            "purchase 0.009702743\n",
            "projects 0.00969858\n",
            "teamviewer 0.009698222\n",
            "productcode 0.009695575\n",
            "selected 0.009694491\n",
            "review 0.009692124\n",
            "number 0.009684096\n",
            "mpc 0.0096781375\n",
            "titles 0.009676713\n",
            "registered 0.009675798\n",
            "cfm 0.009672098\n",
            "playbook 0.009671033\n",
            "book 0.009669683\n",
            "спасиботраница 0.009666473\n",
            "mps 0.009665829\n",
            "lifebook 0.009661553\n",
            "www.1 0.009659363\n",
            "www 0.009659363\n",
            "section 0.009659221\n",
            "спасибо 0.009658565\n",
            ",спасибо 0.009658565\n",
            ".спасибо 0.009658565\n",
            "netbook 0.009657247\n",
            "requirements 0.009657046\n",
            "спасибок 0.0096559515\n",
            "спасибо,просто 0.009655495\n",
            "keycollector 0.009655035\n",
            "checkpoint 0.00965198\n",
            "commander 0.009650882\n",
            "request 0.009645333\n",
            "apply 0.009644574\n",
            "cardboard 0.009643512\n",
            "designo 0.009641389\n",
            "project 0.0096392995\n",
            "спасибочки 0.009637056\n",
            "mpn 0.009637009\n",
            "available 0.009636373\n",
            "mpm 0.0096359\n",
            "reference 0.009635673\n",
            "mpg 0.009634174\n",
            "probook 0.009632288\n",
            "freeplay 0.00963115\n",
            "addresses 0.009629136\n",
            "тo 0.009625071\n",
            "address 0.009620617\n",
            "receiver 0.00961306\n",
            "select 0.0096113505\n",
            "powerdirector 0.009585186\n",
            "workbook 0.00958096\n"
          ]
        }
      ]
    },
    {
      "cell_type": "code",
      "metadata": {
        "id": "0Urk1iXpnQ5i"
      },
      "source": [
        "def get_w2v_indicies(a):\n",
        "    res = []\n",
        "    if isinstance(a, str):\n",
        "        a = a.split()\n",
        "    for w in a:\n",
        "        if w in embs_voc:\n",
        "            res.append(embs_voc[w])\n",
        "        else:\n",
        "            \n",
        "            lemma = morph.parse(w)[0].normal_form\n",
        "            res.append(embs_voc.get(lemma, None))\n",
        "    return res\n",
        "\n",
        "def calc_embs(words):\n",
        "    words = ' '.join(map(normalize, words))\n",
        "    inds = get_w2v_indicies(words)\n",
        "\n",
        "    return [None if i is None else embs_vectors[i] for i in inds]"
      ],
      "id": "0Urk1iXpnQ5i",
      "execution_count": null,
      "outputs": []
    },
    {
      "cell_type": "markdown",
      "metadata": {
        "id": "M7Dw297MnQ5i"
      },
      "source": [
        "Сложим эмбеддинги нетоксичных слов в kd-дерево, чтобы можно было близко искать ближайших соседей"
      ],
      "id": "M7Dw297MnQ5i"
    },
    {
      "cell_type": "code",
      "metadata": {
        "colab": {
          "base_uri": "https://localhost:8080/"
        },
        "id": "i4uoTUubxIA2",
        "outputId": "827366dd-4ecb-4a75-a435-fe70d764888c"
      },
      "source": [
        "print(len(toxicity))"
      ],
      "id": "i4uoTUubxIA2",
      "execution_count": null,
      "outputs": [
        {
          "output_type": "stream",
          "name": "stdout",
          "text": [
            "162690\n"
          ]
        }
      ]
    },
    {
      "cell_type": "code",
      "metadata": {
        "colab": {
          "base_uri": "https://localhost:8080/"
        },
        "id": "eK_b4NW_BKzS",
        "outputId": "fec2ae5a-f903-4f1c-dbe5-84c2d87199be"
      },
      "source": [
        "MAX_TOXICITY  = 1\n",
        "\n",
        "non_toxicity = {word : val for word, val in toxicity.items() if val <= MAX_TOXICITY}\n",
        "\n",
        "nontoxic_emb_inds = [ind for word, ind in embs_voc.items() if toxicity.get(word, 1.0) <= MAX_TOXICITY]\n",
        "embs_vectors_normed_nontoxic = embs_vectors_normed[nontoxic_emb_inds]\n",
        "\n",
        "print(len(non_toxicity))"
      ],
      "id": "eK_b4NW_BKzS",
      "execution_count": null,
      "outputs": [
        {
          "output_type": "stream",
          "name": "stdout",
          "text": [
            "162690\n"
          ]
        }
      ]
    },
    {
      "cell_type": "code",
      "metadata": {
        "colab": {
          "base_uri": "https://localhost:8080/"
        },
        "id": "dXmqK--yrOaW",
        "outputId": "ac704752-fdce-4602-be0a-ac9e04a2f835"
      },
      "source": [
        "#Super non toxic words \n",
        "\n",
        "MAX_TOXICITY  = 0.01\n",
        "\n",
        "super_non_toxic = {word : val for word, val in toxicity.items() if val <= MAX_TOXICITY}\n",
        "\n",
        "super_nontoxic_emb_inds = [ind for word, ind in embs_voc.items() if toxicity.get(word, 1.0) <= MAX_TOXICITY]\n",
        "super_embs_vectors_normed_nontoxic = embs_vectors_normed[super_nontoxic_emb_inds]\n",
        "\n",
        "print(len(super_non_toxic))\n",
        "print(super_non_toxic)\n",
        "print(len(super_embs_vectors_normed_nontoxic))"
      ],
      "id": "dXmqK--yrOaW",
      "execution_count": null,
      "outputs": [
        {
          "output_type": "stream",
          "name": "stdout",
          "text": [
            "255\n",
            "{'number': 0.009684096, 'edit': 0.00984908, 'asbook': 0.0099136, 'required': 0.009756584, 'select': 0.0096113505, 'print': 0.009772043, 'json': 0.009958467, 'services': 0.009805724, 'mp2': 0.009839244, 'guide': 0.009811462, 'product': 0.009963871, 'mmo': 0.009779437, 'directx': 0.009995624, 'sharepoint': 0.009758454, 'cfg': 0.009709422, 'explay': 0.009895934, 'address': 0.009620617, 'commander': 0.009650882, 'projects': 0.00969858, 'тoгo': 0.009811462, 'mps': 0.009665829, 'j3': 0.009945445, 'card': 0.009972742, 'available': 0.009636373, 'payment': 0.009956751, 'supported': 0.0098092845, 'receiver': 0.00961306, 'j2': 0.009945445, 'postscript': 0.00974957, 'carplay': 0.009969403, 'well': 0.00995505, 'titles': 0.009676713, 'memory': 0.009969277, 'дизайный': 0.009849666, 'types': 0.009738403, 'keycollector': 0.009655035, 'callback': 0.00972145, 'mp4': 0.009839244, 'прoкoммeнтировaть': 0.009790429, 'promotions': 0.009941017, 'support': 0.009715264, 'j': 0.009945445, 'collection': 0.009980587, 'management': 0.009850903, 'directmailrobot': 0.009854196, 'этo': 0.009839858, '-дизайна': 0.009892657, 'н::спасибо': 0.009708752, 'teamviewer': 0.009698222, 'cvv': 0.009812449, '[email': 0.009845104, 'following': 0.009905988, 'selected': 0.009694491, 'инспектирований': 0.009868681, 'http': 0.009772634, 'easy': 0.009900264, 'rmc': 0.009887517, 'schedule': 0.009723984, 'chaozhou': 0.0098348325, 'registered': 0.009675798, 'замечательный': 0.009973716, 'vvv': 0.009896731, 'monthly': 0.009936785, 'application': 0.009803455, 'spacecom': 0.009831026, 'details': 0.009703582, 'mpc': 0.0096781375, 'project': 0.0096392995, 'закладка': 0.009741862, 'airplay': 0.009806201, 'transportation': 0.00978761, 'section': 0.009659221, 'закладк': 0.00992526, 'caller': 0.00989115, 'workbook': 0.00958096, 'jcomments': 0.009724544, 'gamepad': 0.009961824, 'probook': 0.009632288, 'result': 0.009991114, 'infomarket': 0.009922599, 'printed': 0.009835238, 'book': 0.009669683, 'added': 0.009984003, 'mpn': 0.009637009, 'cabinet': 0.009781747, 'review': 0.009692124, 'howo': 0.009838613, 'title': 0.009763957, 'rm': 0.009863166, 'ppm': 0.00986535, 'ppf': 0.009996007, 'request': 0.009645333, 'recommended': 0.009754723, 'yamamoto': 0.009983909, 'закладная': 0.00987654, 'cardin': 0.009779644, 'mastercard': 0.009852908, 'recommend': 0.009804214, 'foundation': 0.009960771, 'master': 0.009889166, 'спасибо': 0.009658565, 'icf': 0.009957711, 'addresses': 0.009629136, 'allview': 0.009727797, 'email': 0.009845104, 'suitable': 0.00996944, 'openbox': 0.009742492, 'freeplay': 0.00963115, 'yanc': 0.009982591, 'speedo': 0.009708757, '.mp': 0.009839244, 'mmoguider': 0.009821408, 'playbook': 0.009671033, 'designo': 0.009641389, 'sncf': 0.0097690765, 'ъc': 0.009933839, 'software': 0.009833235, 'cfd': 0.009774271, 'excellent': 0.009990614, 'rental': 0.009812759, 'polycom': 0.009978759, 'masterforex': 0.009819001, 'winkhaus': 0.0097380495, 'j12': 0.009945445, 'registration': 0.009704544, 'закладный': 0.009939168, 'j5': 0.009945445, 'wcf': 0.009744373, 'ya': 0.009848912, 'cf': 0.009771859, 'j-1': 0.009945445, 'information': 0.0099925855, '12mp': 0.009839244, 'contact': 0.0098805325, 'direct': 0.009807623, 'promotion': 0.009836448, 'pmp': 0.009982812, 'english': 0.0098932935, 'infotag': 0.009945946, 'спасибо,просто': 0.009655495, 'infocom': 0.009834425, 'pocketbook': 0.009745045, 'powerdirector': 0.009585186, 'cfm': 0.009672098, 'sheet': 0.009822109, 'дизайн-проект': 0.009940755, 'service': 0.009817944, 'openoffice': 0.009925006, 'practice': 0.00999235, 'board': 0.009749833, ',спасибо': 0.009658565, 'text': 0.009994719, 'jpm': 0.009775943, '4-8mp': 0.009839244, 'wellneo': 0.009960559, 'listed': 0.009756879, 'appstore': 0.009768219, 'интерес': 0.009950445, 'духе': 0.009820138, 'certificate': 0.009878223, 'program': 0.009971898, 'lifebook': 0.009661553, '2mp': 0.009839244, 'netbook': 0.009657247, 'onliner.by': 0.009730259, 'reserved': 0.009967582, 'account': 0.009770866, 'receive': 0.009703357, 'спасиботраница': 0.009666473, 'documents': 0.009758518, 'purchase': 0.009702743, '[text': 0.009994719, 'editions': 0.009870539, 'replay': 0.009955068, 'provided': 0.009703988, 'reference': 0.009635673, 'cardboard': 0.009643512, 'freesync': 0.009821691, 'design': 0.009824204, 'received': 0.009896008, 'edited': 0.009848285, 'ifo': 0.009806131, '2-4mp': 0.009839244, 'casein': 0.009815169, 'notepad': 0.00980464, 'b-class': 0.009974619, 'mpg': 0.009634174, 'designjet': 0.009809331, 'projector': 0.009711683, 'продолжений': 0.009842385, 'этoгo': 0.009732593, '-дизайн': 0.009810781, 'нo': 0.009832173, 'www.1': 0.009659363, 'call-center': 0.009763764, 'selectioн': 0.009977196, 'related': 0.009918881, 'заклад': 0.009926661, 'format': 0.0097941, 'аю': 0.009714375, 'newsoboz': 0.009951103, 'dcfta': 0.009765147, 'дизайновый': 0.009749578, 'productcode': 0.009695575, 'спасибочки': 0.009637056, 'holiday.by': 0.009982524, 'last.fm': 0.009887472, 'mp3': 0.009839244, 'workcentre': 0.009838232, 'yam': 0.00973132, 'свеже': 0.009760704, 'ctp': 0.00979208, 'moneybookers': 0.009800165, 'correction': 0.009762546, 'ъ': 0.009991745, 'wep': 0.009964596, 'спасибок': 0.0096559515, 'located': 0.009920427, 'requirements': 0.009657046, 'checkpoint': 0.00965198, 'дизайна': 0.009892657, 'promo': 0.009874278, 'nicoin': 0.009802595, 'спасибо,что': 0.009965018, 'marketwatch': 0.009843223, 'order': 0.009708761, 'meddaily': 0.009959455, 'apply': 0.009644574, 'www': 0.009659363, 'supports': 0.009860797, 'ctc': 0.009895597, 'j1': 0.009945445, 'onliner': 0.009938821, 'mp': 0.009839244, 'guestbook': 0.009714621, 'improve': 0.009962713, 'limited': 0.00996143, 'dcf': 0.009869729, 'newsonline': 0.009730524, 'united': 0.009875164, 'call': 0.009879361, 'evaluation': 0.009935569, 'дизайн': 0.009810781, 'тo': 0.009625071, 'advice': 0.009829767, 'airflow': 0.009890847, 'mpls': 0.009729734, 'presentation': 0.009924684, 'mpm': 0.0096359, 'textify': 0.009881068, 'j7': 0.009945445, 'ideaphone': 0.009980343, '.спасибо': 0.009658565, 'preview': 0.009746988, '8.cf': 0.009771859}\n",
            "255\n"
          ]
        }
      ]
    },
    {
      "cell_type": "markdown",
      "metadata": {
        "id": "afLzttcHnQ5k"
      },
      "source": [
        "Функция находит самое близкое нетоксичное слово по предпосчитанным эмбеддингам слов"
      ],
      "id": "afLzttcHnQ5k"
    },
    {
      "cell_type": "code",
      "metadata": {
        "colab": {
          "base_uri": "https://localhost:8080/"
        },
        "id": "EgOdjgmQg-dP",
        "outputId": "ac9a5739-1001-401c-944f-b0eacdc186d6"
      },
      "source": [
        "print(*texts[:10], sep =\"\\n\")"
      ],
      "id": "EgOdjgmQg-dP",
      "execution_count": null,
      "outputs": [
        {
          "output_type": "stream",
          "name": "stdout",
          "text": [
            "он скоро сдохнет и все вернется\n",
            "а т у т а на заголо вок стать и р е а к ц и я тако в а рви т е вс ю сис тему и бан ки и по ли ти ку т ре б у й и т е же род н ы е наличны е н а карман вывод и т е весь бе с и нал же а по ли ти ка та ко ва мас ки це ль од на уни что жи ть наш р о д п р о с н и с ь род м о ййй же\n",
            "пожалеть алису нет никакого желания не по божески да но простить е надо чтоб ей так жилось как простым мамкам одиночкам\n",
            "наука в стране дураков не нужна\n",
            "валерьянки выпей а то лопнешь от злости\n",
            "а тебя не смутил яд на гульфике возможно он попал на трусы лешеньки прямиком с губ машеньки\n",
            "бараньи отзывы а должны быть волчьи с волками жить по волчьи выть либо всем скопом вертать социализм в россию тогда будем на себя работать\n",
            "с такими как все вы страшно что когда то родилась такая гадина сколько горя в семьях расстрелянных да это было давно и все равно очень страшно что на свет приходят такие нелюди и пока мы будем хоть как то оправдывать такое они эти нелюди будут появляться как вам произошедшее в казани тоже не было выхода люди не будьте равнодушными вы тут устроили перепалку словесную а у людей было горе здесь достаточно вечная память погибшим\n",
            "автор предлагает по шариковски все поделить я считаю что ввпутин просто разбрасывается деньгами выделяя вам на материнский капитал и на помощь малоимущим а ленивым завистливым тварям все мало\n",
            "в ираке не джавелины стреляли а тоу\n"
          ]
        }
      ]
    },
    {
      "cell_type": "code",
      "metadata": {
        "colab": {
          "base_uri": "https://localhost:8080/"
        },
        "id": "9f4StVNyvHe3",
        "outputId": "8805a828-0c36-4ea6-feaa-117a67369a5a"
      },
      "source": [
        "embs_vectors_normed_nontoxic.shape"
      ],
      "id": "9f4StVNyvHe3",
      "execution_count": null,
      "outputs": [
        {
          "output_type": "execute_result",
          "data": {
            "text/plain": [
              "(162690, 300)"
            ]
          },
          "metadata": {},
          "execution_count": 22
        }
      ]
    },
    {
      "cell_type": "code",
      "metadata": {
        "id": "OnoIZVNXup7k"
      },
      "source": [
        "import hnswlib\n",
        "import numpy as np\n",
        "import pickle\n",
        "\n",
        "\n",
        "num_elements, dim = super_embs_vectors_normed_nontoxic.shape\n",
        "\n",
        "# Generating sample data\n",
        "data = super_embs_vectors_normed_nontoxic\n",
        "ids = np.arange(num_elements)\n",
        "\n",
        "# Declaring index\n",
        "p = hnswlib.Index(space = 'cosine', dim = dim) # possible options are l2, cosine or ip\n",
        "\n",
        "# Initializing index - the maximum number of elements should be known beforehand\n",
        "p.init_index(max_elements = num_elements, ef_construction = 400, M = 16)\n",
        "\n",
        "# Element insertion (can be called several times):\n",
        "p.add_items(data, ids)"
      ],
      "id": "OnoIZVNXup7k",
      "execution_count": null,
      "outputs": []
    },
    {
      "cell_type": "code",
      "metadata": {
        "id": "Plv2lT94punc"
      },
      "source": [
        "#A better one\n",
        "\n",
        "from functools import lru_cache\n",
        "\n",
        "@lru_cache()\n",
        "def find_closest_nontoxic(word, word_toxicity, allow_self=False):\n",
        "    #if toxicity.get(word, 1.0) <= threshold:\n",
        "    #    return word\n",
        "\n",
        "    #word_lemmatized = morph.parse(word)[0].normal_form\n",
        "    if word not in embs_voc:\n",
        "        \n",
        "            return word_toxicity, word\n",
        "        #else:\n",
        "           # word = word_lemmatized\n",
        "    \n",
        "\n",
        "    #threshold = min(toxicity.get(word, threshold), threshold)\n",
        "    \n",
        "    word_emb = calc_embs([word])\n",
        "    if word_emb is None or word_emb[0] is None:\n",
        "        return word_toxicity, word\n",
        "\n",
        "\n",
        "    query = p.knn_query(word_emb, k = 200)[0][0]\n",
        "\n",
        "\n",
        "    best_candidate = word\n",
        "    best_score = word_toxicity\n",
        "\n",
        "    \n",
        "\n",
        "    for i in query:\n",
        "        candidate = embs_voc_by_id[nontoxic_emb_inds[i]]\n",
        "        similarity = distance_score(word, candidate)\n",
        "        \n",
        "        if (1 - toxicity.get(candidate)) + (similarity) > best_score:\n",
        "            \n",
        "            best_score = (1 - toxicity.get(candidate)) + (similarity)\n",
        "            best_candidate = candidate \n",
        "            \n",
        "    return toxicity.get(candidate), best_candidate\n"
      ],
      "id": "Plv2lT94punc",
      "execution_count": null,
      "outputs": []
    },
    {
      "cell_type": "markdown",
      "metadata": {
        "id": "ftLSLtKPnQ5l"
      },
      "source": [
        "Заменяем токсичные слова на ближайшие по эмбеддингам не-токсичные"
      ],
      "id": "ftLSLtKPnQ5l"
    },
    {
      "cell_type": "code",
      "metadata": {
        "id": "uwfKHeX9nQ5l"
      },
      "source": [
        "def detox(line):\n",
        "    \n",
        "    words = normalize(line).split()\n",
        "    sorted_words = sort_by_toxicity(words) #[токсичность, индекс, слово]\n",
        "    \n",
        "    \n",
        "    #cur_toxicity = predict_toxicity([' '.join(words)], return_scores=True, off_tqdm=True)[0]\n",
        "  \n",
        "    while sorted_words:\n",
        "        toxic_toxicity, toxic_idx, toxic_word = sorted_words.pop()\n",
        "        if toxic_toxicity > 0.77:\n",
        "            fixed_word = \"Спасибо\"\n",
        "        else:\n",
        "            fixed_toxicity, fixed_word = find_closest_nontoxic(toxic_word, toxic_toxicity, allow_self = True)\n",
        "        words[toxic_idx] = fixed_word\n",
        "        #if fixed_word != toxic_word:\n",
        "        #    sorted_words.append([fixed_toxicity, toxic_idx, fixed_word])\n",
        "        #    sorted_words.sort()\n",
        "        \n",
        "        #cur_toxicity = predict_toxicity([' '.join(words)], return_scores=True, off_tqdm=True)[0]\n",
        "        \n",
        "\n",
        "    \n",
        "    return ' '.join(words)"
      ],
      "id": "uwfKHeX9nQ5l",
      "execution_count": null,
      "outputs": []
    },
    {
      "cell_type": "code",
      "metadata": {
        "id": "aB9de4oX0-hu"
      },
      "source": [
        "#Super non toxic\n",
        "def find_most_similar(word):\n",
        "    emb_word = calc_embs([word])\n",
        "    max_similarity = 0\n",
        "    result = \"спасибо\"\n",
        "    for i in p.knn_query(emb_word, k = 5)[0][0]:\n",
        "        \n",
        "        other_word = embs_voc_by_id[super_nontoxic_emb_inds[i]]\n",
        "        \n",
        "        similarity = distance_score(word, other_word)\n",
        "        if similarity > max_similarity:\n",
        "            max_similarity = similarity\n",
        "            result = other_word\n",
        "        #print(other_word, similarity, toxicity.get(other_word))\n",
        "    return result\n",
        "\n",
        "\n",
        "def detox_dumb(line):\n",
        "    words = normalize(line).split()\n",
        "    sorted_words = sort_by_toxicity(words)\n",
        "    score = new_checker([line], [' '.join(words)])\n",
        "    \n",
        "    while sorted_words:\n",
        "        toxic_toxicity, toxic_idx, toxic_word = sorted_words.pop()\n",
        "        \n",
        "        #if toxic_word in embs_voc:\n",
        "        #    fixed_word = find_most_similar(toxic_word)\n",
        "        #else:\n",
        "        fixed_word = \"спасибо\"\n",
        "        \n",
        "        \n",
        "\n",
        "        words[toxic_idx] = fixed_word\n",
        "        new_score = new_checker([line], [' '.join(words)])\n",
        "\n",
        "        if new_score >= score:\n",
        "            score = new_score\n",
        "        else:\n",
        "            words[toxic_idx] = toxic_word\n",
        "            #break\n",
        "    \n",
        "    return ' '.join(words)"
      ],
      "id": "aB9de4oX0-hu",
      "execution_count": null,
      "outputs": []
    },
    {
      "cell_type": "code",
      "metadata": {
        "colab": {
          "base_uri": "https://localhost:8080/",
          "height": 35
        },
        "id": "gI8Xeh6jNZJ1",
        "outputId": "de4ecc2a-597d-4f09-c0cd-b12eeba8d2d1"
      },
      "source": [
        "np.random.choice(list(super_non_toxic.keys()))"
      ],
      "id": "gI8Xeh6jNZJ1",
      "execution_count": null,
      "outputs": [
        {
          "output_type": "execute_result",
          "data": {
            "application/vnd.google.colaboratory.intrinsic+json": {
              "type": "string"
            },
            "text/plain": [
              "'cfg'"
            ]
          },
          "metadata": {},
          "execution_count": 27
        }
      ]
    },
    {
      "cell_type": "code",
      "metadata": {
        "colab": {
          "base_uri": "https://localhost:8080/",
          "height": 52
        },
        "id": "N15jBhp-ajog",
        "outputId": "242bab9c-86af-4d4f-b45b-272e3dc2c8b5"
      },
      "source": [
        "detox_dumb(texts[2])"
      ],
      "id": "N15jBhp-ajog",
      "execution_count": null,
      "outputs": [
        {
          "output_type": "execute_result",
          "data": {
            "application/vnd.google.colaboratory.intrinsic+json": {
              "type": "string"
            },
            "text/plain": [
              "'пожалеть алису нет никакого желания не по божески да но спасибо е надо спасибо ей так жилось как простым мамкам одиночкам'"
            ]
          },
          "metadata": {},
          "execution_count": 28
        }
      ]
    },
    {
      "cell_type": "code",
      "metadata": {
        "id": "fNPmaQ32CJLP",
        "colab": {
          "base_uri": "https://localhost:8080/",
          "height": 436,
          "referenced_widgets": [
            "124559b3aa98468784cb897bd9529c10",
            "f6dd0b51291f44e68a8bf5e2913ee0c1",
            "db6c1778a23d4b199dc5b42825452fcb",
            "28ced47848784cc191053edb6409664e",
            "2b4c110400264cc589e8354fd395bd94",
            "d11716d2d4ce4c6991b37f6ac787c40f",
            "b7fa6745f7a746419ace7db508652109",
            "584218be85be4292950796992c2db67a",
            "84746b3ff33a40bba654031f9f9a9a5b",
            "a65318b52c8e411aa3fa26016aa85376",
            "d1430d7dbe2446dc920b42ba7ca9821c"
          ]
        },
        "outputId": "4e00eb0c-ab72-4fae-b03c-7b444ce0a51b"
      },
      "source": [
        "Original = []\n",
        "Detoxed = []\n",
        "for i in tqdm(range(0, len(texts), 50)):\n",
        "    line = texts[i]\n",
        "    detoxed = detox_dumb(line)\n",
        "\n",
        "    Original.append(line)\n",
        "    Detoxed.append(detoxed)\n",
        "\n",
        "\n",
        "new_checker(Original, Detoxed, show_res = True)"
      ],
      "id": "fNPmaQ32CJLP",
      "execution_count": null,
      "outputs": [
        {
          "output_type": "display_data",
          "data": {
            "application/vnd.jupyter.widget-view+json": {
              "model_id": "124559b3aa98468784cb897bd9529c10",
              "version_minor": 0,
              "version_major": 2
            },
            "text/plain": [
              "  0%|          | 0/50 [00:00<?, ?it/s]"
            ]
          },
          "metadata": {}
        },
        {
          "output_type": "error",
          "ename": "KeyboardInterrupt",
          "evalue": "ignored",
          "traceback": [
            "\u001b[0;31m---------------------------------------------------------------------------\u001b[0m",
            "\u001b[0;31mKeyboardInterrupt\u001b[0m                         Traceback (most recent call last)",
            "\u001b[0;32m<ipython-input-29-81b1238efaef>\u001b[0m in \u001b[0;36m<module>\u001b[0;34m()\u001b[0m\n\u001b[1;32m      3\u001b[0m \u001b[0;32mfor\u001b[0m \u001b[0mi\u001b[0m \u001b[0;32min\u001b[0m \u001b[0mtqdm\u001b[0m\u001b[0;34m(\u001b[0m\u001b[0mrange\u001b[0m\u001b[0;34m(\u001b[0m\u001b[0;36m0\u001b[0m\u001b[0;34m,\u001b[0m \u001b[0mlen\u001b[0m\u001b[0;34m(\u001b[0m\u001b[0mtexts\u001b[0m\u001b[0;34m)\u001b[0m\u001b[0;34m,\u001b[0m \u001b[0;36m50\u001b[0m\u001b[0;34m)\u001b[0m\u001b[0;34m)\u001b[0m\u001b[0;34m:\u001b[0m\u001b[0;34m\u001b[0m\u001b[0;34m\u001b[0m\u001b[0m\n\u001b[1;32m      4\u001b[0m     \u001b[0mline\u001b[0m \u001b[0;34m=\u001b[0m \u001b[0mtexts\u001b[0m\u001b[0;34m[\u001b[0m\u001b[0mi\u001b[0m\u001b[0;34m]\u001b[0m\u001b[0;34m\u001b[0m\u001b[0;34m\u001b[0m\u001b[0m\n\u001b[0;32m----> 5\u001b[0;31m     \u001b[0mdetoxed\u001b[0m \u001b[0;34m=\u001b[0m \u001b[0mdetox_dumb\u001b[0m\u001b[0;34m(\u001b[0m\u001b[0mline\u001b[0m\u001b[0;34m)\u001b[0m\u001b[0;34m\u001b[0m\u001b[0;34m\u001b[0m\u001b[0m\n\u001b[0m\u001b[1;32m      6\u001b[0m \u001b[0;34m\u001b[0m\u001b[0m\n\u001b[1;32m      7\u001b[0m     \u001b[0mOriginal\u001b[0m\u001b[0;34m.\u001b[0m\u001b[0mappend\u001b[0m\u001b[0;34m(\u001b[0m\u001b[0mline\u001b[0m\u001b[0;34m)\u001b[0m\u001b[0;34m\u001b[0m\u001b[0;34m\u001b[0m\u001b[0m\n",
            "\u001b[0;32m<ipython-input-26-288dc058a1a7>\u001b[0m in \u001b[0;36mdetox_dumb\u001b[0;34m(line)\u001b[0m\n\u001b[1;32m     32\u001b[0m \u001b[0;34m\u001b[0m\u001b[0m\n\u001b[1;32m     33\u001b[0m         \u001b[0mwords\u001b[0m\u001b[0;34m[\u001b[0m\u001b[0mtoxic_idx\u001b[0m\u001b[0;34m]\u001b[0m \u001b[0;34m=\u001b[0m \u001b[0mfixed_word\u001b[0m\u001b[0;34m\u001b[0m\u001b[0;34m\u001b[0m\u001b[0m\n\u001b[0;32m---> 34\u001b[0;31m         \u001b[0mnew_score\u001b[0m \u001b[0;34m=\u001b[0m \u001b[0mnew_checker\u001b[0m\u001b[0;34m(\u001b[0m\u001b[0;34m[\u001b[0m\u001b[0mline\u001b[0m\u001b[0;34m]\u001b[0m\u001b[0;34m,\u001b[0m \u001b[0;34m[\u001b[0m\u001b[0;34m' '\u001b[0m\u001b[0;34m.\u001b[0m\u001b[0mjoin\u001b[0m\u001b[0;34m(\u001b[0m\u001b[0mwords\u001b[0m\u001b[0;34m)\u001b[0m\u001b[0;34m]\u001b[0m\u001b[0;34m)\u001b[0m\u001b[0;34m\u001b[0m\u001b[0;34m\u001b[0m\u001b[0m\n\u001b[0m\u001b[1;32m     35\u001b[0m \u001b[0;34m\u001b[0m\u001b[0m\n\u001b[1;32m     36\u001b[0m         \u001b[0;32mif\u001b[0m \u001b[0mnew_score\u001b[0m \u001b[0;34m>=\u001b[0m \u001b[0mscore\u001b[0m\u001b[0;34m:\u001b[0m\u001b[0;34m\u001b[0m\u001b[0;34m\u001b[0m\u001b[0m\n",
            "\u001b[0;32m<ipython-input-4-56f93e6ea300>\u001b[0m in \u001b[0;36mnew_checker\u001b[0;34m(original_texts, fixed_texts, device, show_res)\u001b[0m\n\u001b[1;32m    252\u001b[0m \u001b[0;34m\u001b[0m\u001b[0m\n\u001b[1;32m    253\u001b[0m     \u001b[0;32mwith\u001b[0m \u001b[0mtorch\u001b[0m\u001b[0;34m.\u001b[0m\u001b[0minference_mode\u001b[0m\u001b[0;34m(\u001b[0m\u001b[0;32mTrue\u001b[0m\u001b[0;34m)\u001b[0m\u001b[0;34m:\u001b[0m\u001b[0;34m\u001b[0m\u001b[0;34m\u001b[0m\u001b[0m\n\u001b[0;32m--> 254\u001b[0;31m         \u001b[0;32mreturn\u001b[0m \u001b[0;34m(\u001b[0m\u001b[0;36m100\u001b[0m \u001b[0;34m*\u001b[0m \u001b[0mcompute_score\u001b[0m\u001b[0;34m(\u001b[0m\u001b[0moriginal_texts\u001b[0m\u001b[0;34m,\u001b[0m \u001b[0mfixed_texts\u001b[0m\u001b[0;34m,\u001b[0m \u001b[0mshow_res\u001b[0m \u001b[0;34m=\u001b[0m \u001b[0mshow_res\u001b[0m\u001b[0;34m)\u001b[0m\u001b[0;34m)\u001b[0m\u001b[0;34m\u001b[0m\u001b[0;34m\u001b[0m\u001b[0m\n\u001b[0m",
            "\u001b[0;32m<ipython-input-4-56f93e6ea300>\u001b[0m in \u001b[0;36mcompute_score\u001b[0;34m(original_sentences, fixed_sentences, threshold, batch_size, show_res)\u001b[0m\n\u001b[1;32m    215\u001b[0m         \u001b[0mfixed_sentence\u001b[0m \u001b[0;34m=\u001b[0m \u001b[0mnormalize\u001b[0m\u001b[0;34m(\u001b[0m\u001b[0mfixed_sentence\u001b[0m\u001b[0;34m)\u001b[0m\u001b[0;34m\u001b[0m\u001b[0;34m\u001b[0m\u001b[0m\n\u001b[1;32m    216\u001b[0m \u001b[0;34m\u001b[0m\u001b[0m\n\u001b[0;32m--> 217\u001b[0;31m         \u001b[0mdistance\u001b[0m \u001b[0;34m=\u001b[0m \u001b[0mdistance_score\u001b[0m\u001b[0;34m(\u001b[0m\u001b[0moriginal_sentence\u001b[0m\u001b[0;34m,\u001b[0m \u001b[0mfixed_sentence\u001b[0m\u001b[0;34m)\u001b[0m\u001b[0;34m\u001b[0m\u001b[0;34m\u001b[0m\u001b[0m\n\u001b[0m\u001b[1;32m    218\u001b[0m         \u001b[0mlmdiff\u001b[0m \u001b[0;34m=\u001b[0m \u001b[0mcompute_lmdiff\u001b[0m\u001b[0;34m(\u001b[0m\u001b[0moriginal_sentence\u001b[0m\u001b[0;34m,\u001b[0m \u001b[0mfixed_sentence\u001b[0m\u001b[0;34m)\u001b[0m\u001b[0;34m\u001b[0m\u001b[0;34m\u001b[0m\u001b[0m\n\u001b[1;32m    219\u001b[0m \u001b[0;34m\u001b[0m\u001b[0m\n",
            "\u001b[0;32m<ipython-input-4-56f93e6ea300>\u001b[0m in \u001b[0;36mdistance_score\u001b[0;34m(original, fixed)\u001b[0m\n\u001b[1;32m    192\u001b[0m     \u001b[0mfixed\u001b[0m \u001b[0;34m=\u001b[0m \u001b[0mfixed\u001b[0m\u001b[0;34m.\u001b[0m\u001b[0msplit\u001b[0m\u001b[0;34m(\u001b[0m\u001b[0;34m)\u001b[0m\u001b[0;34m\u001b[0m\u001b[0;34m\u001b[0m\u001b[0m\n\u001b[1;32m    193\u001b[0m \u001b[0;34m\u001b[0m\u001b[0m\n\u001b[0;32m--> 194\u001b[0;31m     \u001b[0;32mreturn\u001b[0m \u001b[0mcalc_semantic_distance\u001b[0m\u001b[0;34m(\u001b[0m\u001b[0moriginal\u001b[0m\u001b[0;34m,\u001b[0m \u001b[0mfixed\u001b[0m\u001b[0;34m)\u001b[0m\u001b[0;34m\u001b[0m\u001b[0;34m\u001b[0m\u001b[0m\n\u001b[0m\u001b[1;32m    195\u001b[0m \u001b[0;34m\u001b[0m\u001b[0m\n\u001b[1;32m    196\u001b[0m \u001b[0;34m\u001b[0m\u001b[0m\n",
            "\u001b[0;32m<ipython-input-4-56f93e6ea300>\u001b[0m in \u001b[0;36mcalc_semantic_distance\u001b[0;34m(a, b)\u001b[0m\n\u001b[1;32m    185\u001b[0m \u001b[0;34m\u001b[0m\u001b[0m\n\u001b[1;32m    186\u001b[0m     \u001b[0mclip_distance\u001b[0m \u001b[0;34m=\u001b[0m \u001b[0;36m5\u001b[0m  \u001b[0;31m# this clips long computations\u001b[0m\u001b[0;34m\u001b[0m\u001b[0;34m\u001b[0m\u001b[0m\n\u001b[0;32m--> 187\u001b[0;31m     \u001b[0;32mreturn\u001b[0m \u001b[0mnp\u001b[0m\u001b[0;34m.\u001b[0m\u001b[0mexp\u001b[0m\u001b[0;34m(\u001b[0m\u001b[0;34m-\u001b[0m\u001b[0;34m(\u001b[0m\u001b[0mgreedy_match_embs\u001b[0m\u001b[0;34m(\u001b[0m\u001b[0ma_embs\u001b[0m\u001b[0;34m,\u001b[0m \u001b[0mb_embs\u001b[0m\u001b[0;34m,\u001b[0m \u001b[0mmax_dist\u001b[0m\u001b[0;34m=\u001b[0m\u001b[0mclip_distance\u001b[0m\u001b[0;34m)\u001b[0m \u001b[0;34m/\u001b[0m \u001b[0;34m(\u001b[0m\u001b[0;36m0.6\u001b[0m \u001b[0;34m*\u001b[0m \u001b[0mnp\u001b[0m\u001b[0;34m.\u001b[0m\u001b[0mlog\u001b[0m\u001b[0;34m(\u001b[0m\u001b[0;36m1\u001b[0m \u001b[0;34m+\u001b[0m \u001b[0mlen\u001b[0m\u001b[0;34m(\u001b[0m\u001b[0ma\u001b[0m\u001b[0;34m)\u001b[0m\u001b[0;34m)\u001b[0m\u001b[0;34m)\u001b[0m\u001b[0;34m)\u001b[0m \u001b[0;34m**\u001b[0m \u001b[0;36m2\u001b[0m\u001b[0;34m)\u001b[0m\u001b[0;34m\u001b[0m\u001b[0;34m\u001b[0m\u001b[0m\n\u001b[0m\u001b[1;32m    188\u001b[0m \u001b[0;34m\u001b[0m\u001b[0m\n\u001b[1;32m    189\u001b[0m \u001b[0;34m\u001b[0m\u001b[0m\n",
            "\u001b[0;32m<ipython-input-4-56f93e6ea300>\u001b[0m in \u001b[0;36mgreedy_match_embs\u001b[0;34m(a, b, max_dist, cache, a_ind, b_ind)\u001b[0m\n\u001b[1;32m    163\u001b[0m     \u001b[0;32mif\u001b[0m \u001b[0mmax_dist\u001b[0m \u001b[0;34m>=\u001b[0m \u001b[0mfirst_dist\u001b[0m\u001b[0;34m:\u001b[0m\u001b[0;34m\u001b[0m\u001b[0;34m\u001b[0m\u001b[0m\n\u001b[1;32m    164\u001b[0m         min_dist = np.minimum(min_dist, first_dist + greedy_match_embs(\n\u001b[0;32m--> 165\u001b[0;31m             \u001b[0ma\u001b[0m\u001b[0;34m,\u001b[0m \u001b[0mb\u001b[0m\u001b[0;34m,\u001b[0m \u001b[0mmax_dist\u001b[0m\u001b[0;34m,\u001b[0m \u001b[0mcache\u001b[0m\u001b[0;34m,\u001b[0m \u001b[0ma_ind\u001b[0m \u001b[0;34m+\u001b[0m \u001b[0;36m1\u001b[0m\u001b[0;34m,\u001b[0m \u001b[0mb_ind\u001b[0m \u001b[0;34m+\u001b[0m \u001b[0;36m1\u001b[0m\u001b[0;34m\u001b[0m\u001b[0;34m\u001b[0m\u001b[0m\n\u001b[0m\u001b[1;32m    166\u001b[0m         ))\n\u001b[1;32m    167\u001b[0m \u001b[0;34m\u001b[0m\u001b[0m\n",
            "\u001b[0;32m<ipython-input-4-56f93e6ea300>\u001b[0m in \u001b[0;36mgreedy_match_embs\u001b[0;34m(a, b, max_dist, cache, a_ind, b_ind)\u001b[0m\n\u001b[1;32m    163\u001b[0m     \u001b[0;32mif\u001b[0m \u001b[0mmax_dist\u001b[0m \u001b[0;34m>=\u001b[0m \u001b[0mfirst_dist\u001b[0m\u001b[0;34m:\u001b[0m\u001b[0;34m\u001b[0m\u001b[0;34m\u001b[0m\u001b[0m\n\u001b[1;32m    164\u001b[0m         min_dist = np.minimum(min_dist, first_dist + greedy_match_embs(\n\u001b[0;32m--> 165\u001b[0;31m             \u001b[0ma\u001b[0m\u001b[0;34m,\u001b[0m \u001b[0mb\u001b[0m\u001b[0;34m,\u001b[0m \u001b[0mmax_dist\u001b[0m\u001b[0;34m,\u001b[0m \u001b[0mcache\u001b[0m\u001b[0;34m,\u001b[0m \u001b[0ma_ind\u001b[0m \u001b[0;34m+\u001b[0m \u001b[0;36m1\u001b[0m\u001b[0;34m,\u001b[0m \u001b[0mb_ind\u001b[0m \u001b[0;34m+\u001b[0m \u001b[0;36m1\u001b[0m\u001b[0;34m\u001b[0m\u001b[0;34m\u001b[0m\u001b[0m\n\u001b[0m\u001b[1;32m    166\u001b[0m         ))\n\u001b[1;32m    167\u001b[0m \u001b[0;34m\u001b[0m\u001b[0m\n",
            "\u001b[0;32m<ipython-input-4-56f93e6ea300>\u001b[0m in \u001b[0;36mgreedy_match_embs\u001b[0;34m(a, b, max_dist, cache, a_ind, b_ind)\u001b[0m\n\u001b[1;32m    163\u001b[0m     \u001b[0;32mif\u001b[0m \u001b[0mmax_dist\u001b[0m \u001b[0;34m>=\u001b[0m \u001b[0mfirst_dist\u001b[0m\u001b[0;34m:\u001b[0m\u001b[0;34m\u001b[0m\u001b[0;34m\u001b[0m\u001b[0m\n\u001b[1;32m    164\u001b[0m         min_dist = np.minimum(min_dist, first_dist + greedy_match_embs(\n\u001b[0;32m--> 165\u001b[0;31m             \u001b[0ma\u001b[0m\u001b[0;34m,\u001b[0m \u001b[0mb\u001b[0m\u001b[0;34m,\u001b[0m \u001b[0mmax_dist\u001b[0m\u001b[0;34m,\u001b[0m \u001b[0mcache\u001b[0m\u001b[0;34m,\u001b[0m \u001b[0ma_ind\u001b[0m \u001b[0;34m+\u001b[0m \u001b[0;36m1\u001b[0m\u001b[0;34m,\u001b[0m \u001b[0mb_ind\u001b[0m \u001b[0;34m+\u001b[0m \u001b[0;36m1\u001b[0m\u001b[0;34m\u001b[0m\u001b[0;34m\u001b[0m\u001b[0m\n\u001b[0m\u001b[1;32m    166\u001b[0m         ))\n\u001b[1;32m    167\u001b[0m \u001b[0;34m\u001b[0m\u001b[0m\n",
            "\u001b[0;32m<ipython-input-4-56f93e6ea300>\u001b[0m in \u001b[0;36mgreedy_match_embs\u001b[0;34m(a, b, max_dist, cache, a_ind, b_ind)\u001b[0m\n\u001b[1;32m    163\u001b[0m     \u001b[0;32mif\u001b[0m \u001b[0mmax_dist\u001b[0m \u001b[0;34m>=\u001b[0m \u001b[0mfirst_dist\u001b[0m\u001b[0;34m:\u001b[0m\u001b[0;34m\u001b[0m\u001b[0;34m\u001b[0m\u001b[0m\n\u001b[1;32m    164\u001b[0m         min_dist = np.minimum(min_dist, first_dist + greedy_match_embs(\n\u001b[0;32m--> 165\u001b[0;31m             \u001b[0ma\u001b[0m\u001b[0;34m,\u001b[0m \u001b[0mb\u001b[0m\u001b[0;34m,\u001b[0m \u001b[0mmax_dist\u001b[0m\u001b[0;34m,\u001b[0m \u001b[0mcache\u001b[0m\u001b[0;34m,\u001b[0m \u001b[0ma_ind\u001b[0m \u001b[0;34m+\u001b[0m \u001b[0;36m1\u001b[0m\u001b[0;34m,\u001b[0m \u001b[0mb_ind\u001b[0m \u001b[0;34m+\u001b[0m \u001b[0;36m1\u001b[0m\u001b[0;34m\u001b[0m\u001b[0;34m\u001b[0m\u001b[0m\n\u001b[0m\u001b[1;32m    166\u001b[0m         ))\n\u001b[1;32m    167\u001b[0m \u001b[0;34m\u001b[0m\u001b[0m\n",
            "\u001b[0;32m<ipython-input-4-56f93e6ea300>\u001b[0m in \u001b[0;36mgreedy_match_embs\u001b[0;34m(a, b, max_dist, cache, a_ind, b_ind)\u001b[0m\n\u001b[1;32m    163\u001b[0m     \u001b[0;32mif\u001b[0m \u001b[0mmax_dist\u001b[0m \u001b[0;34m>=\u001b[0m \u001b[0mfirst_dist\u001b[0m\u001b[0;34m:\u001b[0m\u001b[0;34m\u001b[0m\u001b[0;34m\u001b[0m\u001b[0m\n\u001b[1;32m    164\u001b[0m         min_dist = np.minimum(min_dist, first_dist + greedy_match_embs(\n\u001b[0;32m--> 165\u001b[0;31m             \u001b[0ma\u001b[0m\u001b[0;34m,\u001b[0m \u001b[0mb\u001b[0m\u001b[0;34m,\u001b[0m \u001b[0mmax_dist\u001b[0m\u001b[0;34m,\u001b[0m \u001b[0mcache\u001b[0m\u001b[0;34m,\u001b[0m \u001b[0ma_ind\u001b[0m \u001b[0;34m+\u001b[0m \u001b[0;36m1\u001b[0m\u001b[0;34m,\u001b[0m \u001b[0mb_ind\u001b[0m \u001b[0;34m+\u001b[0m \u001b[0;36m1\u001b[0m\u001b[0;34m\u001b[0m\u001b[0;34m\u001b[0m\u001b[0m\n\u001b[0m\u001b[1;32m    166\u001b[0m         ))\n\u001b[1;32m    167\u001b[0m \u001b[0;34m\u001b[0m\u001b[0m\n",
            "\u001b[0;32m<ipython-input-4-56f93e6ea300>\u001b[0m in \u001b[0;36mgreedy_match_embs\u001b[0;34m(a, b, max_dist, cache, a_ind, b_ind)\u001b[0m\n\u001b[1;32m    163\u001b[0m     \u001b[0;32mif\u001b[0m \u001b[0mmax_dist\u001b[0m \u001b[0;34m>=\u001b[0m \u001b[0mfirst_dist\u001b[0m\u001b[0;34m:\u001b[0m\u001b[0;34m\u001b[0m\u001b[0;34m\u001b[0m\u001b[0m\n\u001b[1;32m    164\u001b[0m         min_dist = np.minimum(min_dist, first_dist + greedy_match_embs(\n\u001b[0;32m--> 165\u001b[0;31m             \u001b[0ma\u001b[0m\u001b[0;34m,\u001b[0m \u001b[0mb\u001b[0m\u001b[0;34m,\u001b[0m \u001b[0mmax_dist\u001b[0m\u001b[0;34m,\u001b[0m \u001b[0mcache\u001b[0m\u001b[0;34m,\u001b[0m \u001b[0ma_ind\u001b[0m \u001b[0;34m+\u001b[0m \u001b[0;36m1\u001b[0m\u001b[0;34m,\u001b[0m \u001b[0mb_ind\u001b[0m \u001b[0;34m+\u001b[0m \u001b[0;36m1\u001b[0m\u001b[0;34m\u001b[0m\u001b[0;34m\u001b[0m\u001b[0m\n\u001b[0m\u001b[1;32m    166\u001b[0m         ))\n\u001b[1;32m    167\u001b[0m \u001b[0;34m\u001b[0m\u001b[0m\n",
            "\u001b[0;32m<ipython-input-4-56f93e6ea300>\u001b[0m in \u001b[0;36mgreedy_match_embs\u001b[0;34m(a, b, max_dist, cache, a_ind, b_ind)\u001b[0m\n\u001b[1;32m    163\u001b[0m     \u001b[0;32mif\u001b[0m \u001b[0mmax_dist\u001b[0m \u001b[0;34m>=\u001b[0m \u001b[0mfirst_dist\u001b[0m\u001b[0;34m:\u001b[0m\u001b[0;34m\u001b[0m\u001b[0;34m\u001b[0m\u001b[0m\n\u001b[1;32m    164\u001b[0m         min_dist = np.minimum(min_dist, first_dist + greedy_match_embs(\n\u001b[0;32m--> 165\u001b[0;31m             \u001b[0ma\u001b[0m\u001b[0;34m,\u001b[0m \u001b[0mb\u001b[0m\u001b[0;34m,\u001b[0m \u001b[0mmax_dist\u001b[0m\u001b[0;34m,\u001b[0m \u001b[0mcache\u001b[0m\u001b[0;34m,\u001b[0m \u001b[0ma_ind\u001b[0m \u001b[0;34m+\u001b[0m \u001b[0;36m1\u001b[0m\u001b[0;34m,\u001b[0m \u001b[0mb_ind\u001b[0m \u001b[0;34m+\u001b[0m \u001b[0;36m1\u001b[0m\u001b[0;34m\u001b[0m\u001b[0;34m\u001b[0m\u001b[0m\n\u001b[0m\u001b[1;32m    166\u001b[0m         ))\n\u001b[1;32m    167\u001b[0m \u001b[0;34m\u001b[0m\u001b[0m\n",
            "\u001b[0;32m<ipython-input-4-56f93e6ea300>\u001b[0m in \u001b[0;36mgreedy_match_embs\u001b[0;34m(a, b, max_dist, cache, a_ind, b_ind)\u001b[0m\n\u001b[1;32m    163\u001b[0m     \u001b[0;32mif\u001b[0m \u001b[0mmax_dist\u001b[0m \u001b[0;34m>=\u001b[0m \u001b[0mfirst_dist\u001b[0m\u001b[0;34m:\u001b[0m\u001b[0;34m\u001b[0m\u001b[0;34m\u001b[0m\u001b[0m\n\u001b[1;32m    164\u001b[0m         min_dist = np.minimum(min_dist, first_dist + greedy_match_embs(\n\u001b[0;32m--> 165\u001b[0;31m             \u001b[0ma\u001b[0m\u001b[0;34m,\u001b[0m \u001b[0mb\u001b[0m\u001b[0;34m,\u001b[0m \u001b[0mmax_dist\u001b[0m\u001b[0;34m,\u001b[0m \u001b[0mcache\u001b[0m\u001b[0;34m,\u001b[0m \u001b[0ma_ind\u001b[0m \u001b[0;34m+\u001b[0m \u001b[0;36m1\u001b[0m\u001b[0;34m,\u001b[0m \u001b[0mb_ind\u001b[0m \u001b[0;34m+\u001b[0m \u001b[0;36m1\u001b[0m\u001b[0;34m\u001b[0m\u001b[0;34m\u001b[0m\u001b[0m\n\u001b[0m\u001b[1;32m    166\u001b[0m         ))\n\u001b[1;32m    167\u001b[0m \u001b[0;34m\u001b[0m\u001b[0m\n",
            "\u001b[0;32m<ipython-input-4-56f93e6ea300>\u001b[0m in \u001b[0;36mgreedy_match_embs\u001b[0;34m(a, b, max_dist, cache, a_ind, b_ind)\u001b[0m\n\u001b[1;32m    163\u001b[0m     \u001b[0;32mif\u001b[0m \u001b[0mmax_dist\u001b[0m \u001b[0;34m>=\u001b[0m \u001b[0mfirst_dist\u001b[0m\u001b[0;34m:\u001b[0m\u001b[0;34m\u001b[0m\u001b[0;34m\u001b[0m\u001b[0m\n\u001b[1;32m    164\u001b[0m         min_dist = np.minimum(min_dist, first_dist + greedy_match_embs(\n\u001b[0;32m--> 165\u001b[0;31m             \u001b[0ma\u001b[0m\u001b[0;34m,\u001b[0m \u001b[0mb\u001b[0m\u001b[0;34m,\u001b[0m \u001b[0mmax_dist\u001b[0m\u001b[0;34m,\u001b[0m \u001b[0mcache\u001b[0m\u001b[0;34m,\u001b[0m \u001b[0ma_ind\u001b[0m \u001b[0;34m+\u001b[0m \u001b[0;36m1\u001b[0m\u001b[0;34m,\u001b[0m \u001b[0mb_ind\u001b[0m \u001b[0;34m+\u001b[0m \u001b[0;36m1\u001b[0m\u001b[0;34m\u001b[0m\u001b[0;34m\u001b[0m\u001b[0m\n\u001b[0m\u001b[1;32m    166\u001b[0m         ))\n\u001b[1;32m    167\u001b[0m \u001b[0;34m\u001b[0m\u001b[0m\n",
            "\u001b[0;32m<ipython-input-4-56f93e6ea300>\u001b[0m in \u001b[0;36mgreedy_match_embs\u001b[0;34m(a, b, max_dist, cache, a_ind, b_ind)\u001b[0m\n\u001b[1;32m    163\u001b[0m     \u001b[0;32mif\u001b[0m \u001b[0mmax_dist\u001b[0m \u001b[0;34m>=\u001b[0m \u001b[0mfirst_dist\u001b[0m\u001b[0;34m:\u001b[0m\u001b[0;34m\u001b[0m\u001b[0;34m\u001b[0m\u001b[0m\n\u001b[1;32m    164\u001b[0m         min_dist = np.minimum(min_dist, first_dist + greedy_match_embs(\n\u001b[0;32m--> 165\u001b[0;31m             \u001b[0ma\u001b[0m\u001b[0;34m,\u001b[0m \u001b[0mb\u001b[0m\u001b[0;34m,\u001b[0m \u001b[0mmax_dist\u001b[0m\u001b[0;34m,\u001b[0m \u001b[0mcache\u001b[0m\u001b[0;34m,\u001b[0m \u001b[0ma_ind\u001b[0m \u001b[0;34m+\u001b[0m \u001b[0;36m1\u001b[0m\u001b[0;34m,\u001b[0m \u001b[0mb_ind\u001b[0m \u001b[0;34m+\u001b[0m \u001b[0;36m1\u001b[0m\u001b[0;34m\u001b[0m\u001b[0;34m\u001b[0m\u001b[0m\n\u001b[0m\u001b[1;32m    166\u001b[0m         ))\n\u001b[1;32m    167\u001b[0m \u001b[0;34m\u001b[0m\u001b[0m\n",
            "\u001b[0;32m<ipython-input-4-56f93e6ea300>\u001b[0m in \u001b[0;36mgreedy_match_embs\u001b[0;34m(a, b, max_dist, cache, a_ind, b_ind)\u001b[0m\n\u001b[1;32m    163\u001b[0m     \u001b[0;32mif\u001b[0m \u001b[0mmax_dist\u001b[0m \u001b[0;34m>=\u001b[0m \u001b[0mfirst_dist\u001b[0m\u001b[0;34m:\u001b[0m\u001b[0;34m\u001b[0m\u001b[0;34m\u001b[0m\u001b[0m\n\u001b[1;32m    164\u001b[0m         min_dist = np.minimum(min_dist, first_dist + greedy_match_embs(\n\u001b[0;32m--> 165\u001b[0;31m             \u001b[0ma\u001b[0m\u001b[0;34m,\u001b[0m \u001b[0mb\u001b[0m\u001b[0;34m,\u001b[0m \u001b[0mmax_dist\u001b[0m\u001b[0;34m,\u001b[0m \u001b[0mcache\u001b[0m\u001b[0;34m,\u001b[0m \u001b[0ma_ind\u001b[0m \u001b[0;34m+\u001b[0m \u001b[0;36m1\u001b[0m\u001b[0;34m,\u001b[0m \u001b[0mb_ind\u001b[0m \u001b[0;34m+\u001b[0m \u001b[0;36m1\u001b[0m\u001b[0;34m\u001b[0m\u001b[0;34m\u001b[0m\u001b[0m\n\u001b[0m\u001b[1;32m    166\u001b[0m         ))\n\u001b[1;32m    167\u001b[0m \u001b[0;34m\u001b[0m\u001b[0m\n",
            "\u001b[0;32m<ipython-input-4-56f93e6ea300>\u001b[0m in \u001b[0;36mgreedy_match_embs\u001b[0;34m(a, b, max_dist, cache, a_ind, b_ind)\u001b[0m\n\u001b[1;32m    163\u001b[0m     \u001b[0;32mif\u001b[0m \u001b[0mmax_dist\u001b[0m \u001b[0;34m>=\u001b[0m \u001b[0mfirst_dist\u001b[0m\u001b[0;34m:\u001b[0m\u001b[0;34m\u001b[0m\u001b[0;34m\u001b[0m\u001b[0m\n\u001b[1;32m    164\u001b[0m         min_dist = np.minimum(min_dist, first_dist + greedy_match_embs(\n\u001b[0;32m--> 165\u001b[0;31m             \u001b[0ma\u001b[0m\u001b[0;34m,\u001b[0m \u001b[0mb\u001b[0m\u001b[0;34m,\u001b[0m \u001b[0mmax_dist\u001b[0m\u001b[0;34m,\u001b[0m \u001b[0mcache\u001b[0m\u001b[0;34m,\u001b[0m \u001b[0ma_ind\u001b[0m \u001b[0;34m+\u001b[0m \u001b[0;36m1\u001b[0m\u001b[0;34m,\u001b[0m \u001b[0mb_ind\u001b[0m \u001b[0;34m+\u001b[0m \u001b[0;36m1\u001b[0m\u001b[0;34m\u001b[0m\u001b[0;34m\u001b[0m\u001b[0m\n\u001b[0m\u001b[1;32m    166\u001b[0m         ))\n\u001b[1;32m    167\u001b[0m \u001b[0;34m\u001b[0m\u001b[0m\n",
            "\u001b[0;32m<ipython-input-4-56f93e6ea300>\u001b[0m in \u001b[0;36mgreedy_match_embs\u001b[0;34m(a, b, max_dist, cache, a_ind, b_ind)\u001b[0m\n\u001b[1;32m    163\u001b[0m     \u001b[0;32mif\u001b[0m \u001b[0mmax_dist\u001b[0m \u001b[0;34m>=\u001b[0m \u001b[0mfirst_dist\u001b[0m\u001b[0;34m:\u001b[0m\u001b[0;34m\u001b[0m\u001b[0;34m\u001b[0m\u001b[0m\n\u001b[1;32m    164\u001b[0m         min_dist = np.minimum(min_dist, first_dist + greedy_match_embs(\n\u001b[0;32m--> 165\u001b[0;31m             \u001b[0ma\u001b[0m\u001b[0;34m,\u001b[0m \u001b[0mb\u001b[0m\u001b[0;34m,\u001b[0m \u001b[0mmax_dist\u001b[0m\u001b[0;34m,\u001b[0m \u001b[0mcache\u001b[0m\u001b[0;34m,\u001b[0m \u001b[0ma_ind\u001b[0m \u001b[0;34m+\u001b[0m \u001b[0;36m1\u001b[0m\u001b[0;34m,\u001b[0m \u001b[0mb_ind\u001b[0m \u001b[0;34m+\u001b[0m \u001b[0;36m1\u001b[0m\u001b[0;34m\u001b[0m\u001b[0;34m\u001b[0m\u001b[0m\n\u001b[0m\u001b[1;32m    166\u001b[0m         ))\n\u001b[1;32m    167\u001b[0m \u001b[0;34m\u001b[0m\u001b[0m\n",
            "\u001b[0;32m<ipython-input-4-56f93e6ea300>\u001b[0m in \u001b[0;36mgreedy_match_embs\u001b[0;34m(a, b, max_dist, cache, a_ind, b_ind)\u001b[0m\n\u001b[1;32m    163\u001b[0m     \u001b[0;32mif\u001b[0m \u001b[0mmax_dist\u001b[0m \u001b[0;34m>=\u001b[0m \u001b[0mfirst_dist\u001b[0m\u001b[0;34m:\u001b[0m\u001b[0;34m\u001b[0m\u001b[0;34m\u001b[0m\u001b[0m\n\u001b[1;32m    164\u001b[0m         min_dist = np.minimum(min_dist, first_dist + greedy_match_embs(\n\u001b[0;32m--> 165\u001b[0;31m             \u001b[0ma\u001b[0m\u001b[0;34m,\u001b[0m \u001b[0mb\u001b[0m\u001b[0;34m,\u001b[0m \u001b[0mmax_dist\u001b[0m\u001b[0;34m,\u001b[0m \u001b[0mcache\u001b[0m\u001b[0;34m,\u001b[0m \u001b[0ma_ind\u001b[0m \u001b[0;34m+\u001b[0m \u001b[0;36m1\u001b[0m\u001b[0;34m,\u001b[0m \u001b[0mb_ind\u001b[0m \u001b[0;34m+\u001b[0m \u001b[0;36m1\u001b[0m\u001b[0;34m\u001b[0m\u001b[0;34m\u001b[0m\u001b[0m\n\u001b[0m\u001b[1;32m    166\u001b[0m         ))\n\u001b[1;32m    167\u001b[0m \u001b[0;34m\u001b[0m\u001b[0m\n",
            "\u001b[0;32m<ipython-input-4-56f93e6ea300>\u001b[0m in \u001b[0;36mgreedy_match_embs\u001b[0;34m(a, b, max_dist, cache, a_ind, b_ind)\u001b[0m\n\u001b[1;32m    163\u001b[0m     \u001b[0;32mif\u001b[0m \u001b[0mmax_dist\u001b[0m \u001b[0;34m>=\u001b[0m \u001b[0mfirst_dist\u001b[0m\u001b[0;34m:\u001b[0m\u001b[0;34m\u001b[0m\u001b[0;34m\u001b[0m\u001b[0m\n\u001b[1;32m    164\u001b[0m         min_dist = np.minimum(min_dist, first_dist + greedy_match_embs(\n\u001b[0;32m--> 165\u001b[0;31m             \u001b[0ma\u001b[0m\u001b[0;34m,\u001b[0m \u001b[0mb\u001b[0m\u001b[0;34m,\u001b[0m \u001b[0mmax_dist\u001b[0m\u001b[0;34m,\u001b[0m \u001b[0mcache\u001b[0m\u001b[0;34m,\u001b[0m \u001b[0ma_ind\u001b[0m \u001b[0;34m+\u001b[0m \u001b[0;36m1\u001b[0m\u001b[0;34m,\u001b[0m \u001b[0mb_ind\u001b[0m \u001b[0;34m+\u001b[0m \u001b[0;36m1\u001b[0m\u001b[0;34m\u001b[0m\u001b[0;34m\u001b[0m\u001b[0m\n\u001b[0m\u001b[1;32m    166\u001b[0m         ))\n\u001b[1;32m    167\u001b[0m \u001b[0;34m\u001b[0m\u001b[0m\n",
            "\u001b[0;32m<ipython-input-4-56f93e6ea300>\u001b[0m in \u001b[0;36mgreedy_match_embs\u001b[0;34m(a, b, max_dist, cache, a_ind, b_ind)\u001b[0m\n\u001b[1;32m    163\u001b[0m     \u001b[0;32mif\u001b[0m \u001b[0mmax_dist\u001b[0m \u001b[0;34m>=\u001b[0m \u001b[0mfirst_dist\u001b[0m\u001b[0;34m:\u001b[0m\u001b[0;34m\u001b[0m\u001b[0;34m\u001b[0m\u001b[0m\n\u001b[1;32m    164\u001b[0m         min_dist = np.minimum(min_dist, first_dist + greedy_match_embs(\n\u001b[0;32m--> 165\u001b[0;31m             \u001b[0ma\u001b[0m\u001b[0;34m,\u001b[0m \u001b[0mb\u001b[0m\u001b[0;34m,\u001b[0m \u001b[0mmax_dist\u001b[0m\u001b[0;34m,\u001b[0m \u001b[0mcache\u001b[0m\u001b[0;34m,\u001b[0m \u001b[0ma_ind\u001b[0m \u001b[0;34m+\u001b[0m \u001b[0;36m1\u001b[0m\u001b[0;34m,\u001b[0m \u001b[0mb_ind\u001b[0m \u001b[0;34m+\u001b[0m \u001b[0;36m1\u001b[0m\u001b[0;34m\u001b[0m\u001b[0;34m\u001b[0m\u001b[0m\n\u001b[0m\u001b[1;32m    166\u001b[0m         ))\n\u001b[1;32m    167\u001b[0m \u001b[0;34m\u001b[0m\u001b[0m\n",
            "\u001b[0;32m<ipython-input-4-56f93e6ea300>\u001b[0m in \u001b[0;36mgreedy_match_embs\u001b[0;34m(a, b, max_dist, cache, a_ind, b_ind)\u001b[0m\n\u001b[1;32m    163\u001b[0m     \u001b[0;32mif\u001b[0m \u001b[0mmax_dist\u001b[0m \u001b[0;34m>=\u001b[0m \u001b[0mfirst_dist\u001b[0m\u001b[0;34m:\u001b[0m\u001b[0;34m\u001b[0m\u001b[0;34m\u001b[0m\u001b[0m\n\u001b[1;32m    164\u001b[0m         min_dist = np.minimum(min_dist, first_dist + greedy_match_embs(\n\u001b[0;32m--> 165\u001b[0;31m             \u001b[0ma\u001b[0m\u001b[0;34m,\u001b[0m \u001b[0mb\u001b[0m\u001b[0;34m,\u001b[0m \u001b[0mmax_dist\u001b[0m\u001b[0;34m,\u001b[0m \u001b[0mcache\u001b[0m\u001b[0;34m,\u001b[0m \u001b[0ma_ind\u001b[0m \u001b[0;34m+\u001b[0m \u001b[0;36m1\u001b[0m\u001b[0;34m,\u001b[0m \u001b[0mb_ind\u001b[0m \u001b[0;34m+\u001b[0m \u001b[0;36m1\u001b[0m\u001b[0;34m\u001b[0m\u001b[0;34m\u001b[0m\u001b[0m\n\u001b[0m\u001b[1;32m    166\u001b[0m         ))\n\u001b[1;32m    167\u001b[0m \u001b[0;34m\u001b[0m\u001b[0m\n",
            "\u001b[0;32m<ipython-input-4-56f93e6ea300>\u001b[0m in \u001b[0;36mgreedy_match_embs\u001b[0;34m(a, b, max_dist, cache, a_ind, b_ind)\u001b[0m\n\u001b[1;32m    163\u001b[0m     \u001b[0;32mif\u001b[0m \u001b[0mmax_dist\u001b[0m \u001b[0;34m>=\u001b[0m \u001b[0mfirst_dist\u001b[0m\u001b[0;34m:\u001b[0m\u001b[0;34m\u001b[0m\u001b[0;34m\u001b[0m\u001b[0m\n\u001b[1;32m    164\u001b[0m         min_dist = np.minimum(min_dist, first_dist + greedy_match_embs(\n\u001b[0;32m--> 165\u001b[0;31m             \u001b[0ma\u001b[0m\u001b[0;34m,\u001b[0m \u001b[0mb\u001b[0m\u001b[0;34m,\u001b[0m \u001b[0mmax_dist\u001b[0m\u001b[0;34m,\u001b[0m \u001b[0mcache\u001b[0m\u001b[0;34m,\u001b[0m \u001b[0ma_ind\u001b[0m \u001b[0;34m+\u001b[0m \u001b[0;36m1\u001b[0m\u001b[0;34m,\u001b[0m \u001b[0mb_ind\u001b[0m \u001b[0;34m+\u001b[0m \u001b[0;36m1\u001b[0m\u001b[0;34m\u001b[0m\u001b[0;34m\u001b[0m\u001b[0m\n\u001b[0m\u001b[1;32m    166\u001b[0m         ))\n\u001b[1;32m    167\u001b[0m \u001b[0;34m\u001b[0m\u001b[0m\n",
            "\u001b[0;32m<ipython-input-4-56f93e6ea300>\u001b[0m in \u001b[0;36mgreedy_match_embs\u001b[0;34m(a, b, max_dist, cache, a_ind, b_ind)\u001b[0m\n\u001b[1;32m    163\u001b[0m     \u001b[0;32mif\u001b[0m \u001b[0mmax_dist\u001b[0m \u001b[0;34m>=\u001b[0m \u001b[0mfirst_dist\u001b[0m\u001b[0;34m:\u001b[0m\u001b[0;34m\u001b[0m\u001b[0;34m\u001b[0m\u001b[0m\n\u001b[1;32m    164\u001b[0m         min_dist = np.minimum(min_dist, first_dist + greedy_match_embs(\n\u001b[0;32m--> 165\u001b[0;31m             \u001b[0ma\u001b[0m\u001b[0;34m,\u001b[0m \u001b[0mb\u001b[0m\u001b[0;34m,\u001b[0m \u001b[0mmax_dist\u001b[0m\u001b[0;34m,\u001b[0m \u001b[0mcache\u001b[0m\u001b[0;34m,\u001b[0m \u001b[0ma_ind\u001b[0m \u001b[0;34m+\u001b[0m \u001b[0;36m1\u001b[0m\u001b[0;34m,\u001b[0m \u001b[0mb_ind\u001b[0m \u001b[0;34m+\u001b[0m \u001b[0;36m1\u001b[0m\u001b[0;34m\u001b[0m\u001b[0;34m\u001b[0m\u001b[0m\n\u001b[0m\u001b[1;32m    166\u001b[0m         ))\n\u001b[1;32m    167\u001b[0m \u001b[0;34m\u001b[0m\u001b[0m\n",
            "\u001b[0;32m<ipython-input-4-56f93e6ea300>\u001b[0m in \u001b[0;36mgreedy_match_embs\u001b[0;34m(a, b, max_dist, cache, a_ind, b_ind)\u001b[0m\n\u001b[1;32m    163\u001b[0m     \u001b[0;32mif\u001b[0m \u001b[0mmax_dist\u001b[0m \u001b[0;34m>=\u001b[0m \u001b[0mfirst_dist\u001b[0m\u001b[0;34m:\u001b[0m\u001b[0;34m\u001b[0m\u001b[0;34m\u001b[0m\u001b[0m\n\u001b[1;32m    164\u001b[0m         min_dist = np.minimum(min_dist, first_dist + greedy_match_embs(\n\u001b[0;32m--> 165\u001b[0;31m             \u001b[0ma\u001b[0m\u001b[0;34m,\u001b[0m \u001b[0mb\u001b[0m\u001b[0;34m,\u001b[0m \u001b[0mmax_dist\u001b[0m\u001b[0;34m,\u001b[0m \u001b[0mcache\u001b[0m\u001b[0;34m,\u001b[0m \u001b[0ma_ind\u001b[0m \u001b[0;34m+\u001b[0m \u001b[0;36m1\u001b[0m\u001b[0;34m,\u001b[0m \u001b[0mb_ind\u001b[0m \u001b[0;34m+\u001b[0m \u001b[0;36m1\u001b[0m\u001b[0;34m\u001b[0m\u001b[0;34m\u001b[0m\u001b[0m\n\u001b[0m\u001b[1;32m    166\u001b[0m         ))\n\u001b[1;32m    167\u001b[0m \u001b[0;34m\u001b[0m\u001b[0m\n",
            "\u001b[0;32m<ipython-input-4-56f93e6ea300>\u001b[0m in \u001b[0;36mgreedy_match_embs\u001b[0;34m(a, b, max_dist, cache, a_ind, b_ind)\u001b[0m\n\u001b[1;32m    163\u001b[0m     \u001b[0;32mif\u001b[0m \u001b[0mmax_dist\u001b[0m \u001b[0;34m>=\u001b[0m \u001b[0mfirst_dist\u001b[0m\u001b[0;34m:\u001b[0m\u001b[0;34m\u001b[0m\u001b[0;34m\u001b[0m\u001b[0m\n\u001b[1;32m    164\u001b[0m         min_dist = np.minimum(min_dist, first_dist + greedy_match_embs(\n\u001b[0;32m--> 165\u001b[0;31m             \u001b[0ma\u001b[0m\u001b[0;34m,\u001b[0m \u001b[0mb\u001b[0m\u001b[0;34m,\u001b[0m \u001b[0mmax_dist\u001b[0m\u001b[0;34m,\u001b[0m \u001b[0mcache\u001b[0m\u001b[0;34m,\u001b[0m \u001b[0ma_ind\u001b[0m \u001b[0;34m+\u001b[0m \u001b[0;36m1\u001b[0m\u001b[0;34m,\u001b[0m \u001b[0mb_ind\u001b[0m \u001b[0;34m+\u001b[0m \u001b[0;36m1\u001b[0m\u001b[0;34m\u001b[0m\u001b[0;34m\u001b[0m\u001b[0m\n\u001b[0m\u001b[1;32m    166\u001b[0m         ))\n\u001b[1;32m    167\u001b[0m \u001b[0;34m\u001b[0m\u001b[0m\n",
            "\u001b[0;32m<ipython-input-4-56f93e6ea300>\u001b[0m in \u001b[0;36mgreedy_match_embs\u001b[0;34m(a, b, max_dist, cache, a_ind, b_ind)\u001b[0m\n\u001b[1;32m    163\u001b[0m     \u001b[0;32mif\u001b[0m \u001b[0mmax_dist\u001b[0m \u001b[0;34m>=\u001b[0m \u001b[0mfirst_dist\u001b[0m\u001b[0;34m:\u001b[0m\u001b[0;34m\u001b[0m\u001b[0;34m\u001b[0m\u001b[0m\n\u001b[1;32m    164\u001b[0m         min_dist = np.minimum(min_dist, first_dist + greedy_match_embs(\n\u001b[0;32m--> 165\u001b[0;31m             \u001b[0ma\u001b[0m\u001b[0;34m,\u001b[0m \u001b[0mb\u001b[0m\u001b[0;34m,\u001b[0m \u001b[0mmax_dist\u001b[0m\u001b[0;34m,\u001b[0m \u001b[0mcache\u001b[0m\u001b[0;34m,\u001b[0m \u001b[0ma_ind\u001b[0m \u001b[0;34m+\u001b[0m \u001b[0;36m1\u001b[0m\u001b[0;34m,\u001b[0m \u001b[0mb_ind\u001b[0m \u001b[0;34m+\u001b[0m \u001b[0;36m1\u001b[0m\u001b[0;34m\u001b[0m\u001b[0;34m\u001b[0m\u001b[0m\n\u001b[0m\u001b[1;32m    166\u001b[0m         ))\n\u001b[1;32m    167\u001b[0m \u001b[0;34m\u001b[0m\u001b[0m\n",
            "\u001b[0;32m<ipython-input-4-56f93e6ea300>\u001b[0m in \u001b[0;36mgreedy_match_embs\u001b[0;34m(a, b, max_dist, cache, a_ind, b_ind)\u001b[0m\n\u001b[1;32m    163\u001b[0m     \u001b[0;32mif\u001b[0m \u001b[0mmax_dist\u001b[0m \u001b[0;34m>=\u001b[0m \u001b[0mfirst_dist\u001b[0m\u001b[0;34m:\u001b[0m\u001b[0;34m\u001b[0m\u001b[0;34m\u001b[0m\u001b[0m\n\u001b[1;32m    164\u001b[0m         min_dist = np.minimum(min_dist, first_dist + greedy_match_embs(\n\u001b[0;32m--> 165\u001b[0;31m             \u001b[0ma\u001b[0m\u001b[0;34m,\u001b[0m \u001b[0mb\u001b[0m\u001b[0;34m,\u001b[0m \u001b[0mmax_dist\u001b[0m\u001b[0;34m,\u001b[0m \u001b[0mcache\u001b[0m\u001b[0;34m,\u001b[0m \u001b[0ma_ind\u001b[0m \u001b[0;34m+\u001b[0m \u001b[0;36m1\u001b[0m\u001b[0;34m,\u001b[0m \u001b[0mb_ind\u001b[0m \u001b[0;34m+\u001b[0m \u001b[0;36m1\u001b[0m\u001b[0;34m\u001b[0m\u001b[0;34m\u001b[0m\u001b[0m\n\u001b[0m\u001b[1;32m    166\u001b[0m         ))\n\u001b[1;32m    167\u001b[0m \u001b[0;34m\u001b[0m\u001b[0m\n",
            "\u001b[0;32m<ipython-input-4-56f93e6ea300>\u001b[0m in \u001b[0;36mgreedy_match_embs\u001b[0;34m(a, b, max_dist, cache, a_ind, b_ind)\u001b[0m\n\u001b[1;32m    163\u001b[0m     \u001b[0;32mif\u001b[0m \u001b[0mmax_dist\u001b[0m \u001b[0;34m>=\u001b[0m \u001b[0mfirst_dist\u001b[0m\u001b[0;34m:\u001b[0m\u001b[0;34m\u001b[0m\u001b[0;34m\u001b[0m\u001b[0m\n\u001b[1;32m    164\u001b[0m         min_dist = np.minimum(min_dist, first_dist + greedy_match_embs(\n\u001b[0;32m--> 165\u001b[0;31m             \u001b[0ma\u001b[0m\u001b[0;34m,\u001b[0m \u001b[0mb\u001b[0m\u001b[0;34m,\u001b[0m \u001b[0mmax_dist\u001b[0m\u001b[0;34m,\u001b[0m \u001b[0mcache\u001b[0m\u001b[0;34m,\u001b[0m \u001b[0ma_ind\u001b[0m \u001b[0;34m+\u001b[0m \u001b[0;36m1\u001b[0m\u001b[0;34m,\u001b[0m \u001b[0mb_ind\u001b[0m \u001b[0;34m+\u001b[0m \u001b[0;36m1\u001b[0m\u001b[0;34m\u001b[0m\u001b[0;34m\u001b[0m\u001b[0m\n\u001b[0m\u001b[1;32m    166\u001b[0m         ))\n\u001b[1;32m    167\u001b[0m \u001b[0;34m\u001b[0m\u001b[0m\n",
            "\u001b[0;32m<ipython-input-4-56f93e6ea300>\u001b[0m in \u001b[0;36mgreedy_match_embs\u001b[0;34m(a, b, max_dist, cache, a_ind, b_ind)\u001b[0m\n\u001b[1;32m    163\u001b[0m     \u001b[0;32mif\u001b[0m \u001b[0mmax_dist\u001b[0m \u001b[0;34m>=\u001b[0m \u001b[0mfirst_dist\u001b[0m\u001b[0;34m:\u001b[0m\u001b[0;34m\u001b[0m\u001b[0;34m\u001b[0m\u001b[0m\n\u001b[1;32m    164\u001b[0m         min_dist = np.minimum(min_dist, first_dist + greedy_match_embs(\n\u001b[0;32m--> 165\u001b[0;31m             \u001b[0ma\u001b[0m\u001b[0;34m,\u001b[0m \u001b[0mb\u001b[0m\u001b[0;34m,\u001b[0m \u001b[0mmax_dist\u001b[0m\u001b[0;34m,\u001b[0m \u001b[0mcache\u001b[0m\u001b[0;34m,\u001b[0m \u001b[0ma_ind\u001b[0m \u001b[0;34m+\u001b[0m \u001b[0;36m1\u001b[0m\u001b[0;34m,\u001b[0m \u001b[0mb_ind\u001b[0m \u001b[0;34m+\u001b[0m \u001b[0;36m1\u001b[0m\u001b[0;34m\u001b[0m\u001b[0;34m\u001b[0m\u001b[0m\n\u001b[0m\u001b[1;32m    166\u001b[0m         ))\n\u001b[1;32m    167\u001b[0m \u001b[0;34m\u001b[0m\u001b[0m\n",
            "\u001b[0;32m<ipython-input-4-56f93e6ea300>\u001b[0m in \u001b[0;36mgreedy_match_embs\u001b[0;34m(a, b, max_dist, cache, a_ind, b_ind)\u001b[0m\n\u001b[1;32m    163\u001b[0m     \u001b[0;32mif\u001b[0m \u001b[0mmax_dist\u001b[0m \u001b[0;34m>=\u001b[0m \u001b[0mfirst_dist\u001b[0m\u001b[0;34m:\u001b[0m\u001b[0;34m\u001b[0m\u001b[0;34m\u001b[0m\u001b[0m\n\u001b[1;32m    164\u001b[0m         min_dist = np.minimum(min_dist, first_dist + greedy_match_embs(\n\u001b[0;32m--> 165\u001b[0;31m             \u001b[0ma\u001b[0m\u001b[0;34m,\u001b[0m \u001b[0mb\u001b[0m\u001b[0;34m,\u001b[0m \u001b[0mmax_dist\u001b[0m\u001b[0;34m,\u001b[0m \u001b[0mcache\u001b[0m\u001b[0;34m,\u001b[0m \u001b[0ma_ind\u001b[0m \u001b[0;34m+\u001b[0m \u001b[0;36m1\u001b[0m\u001b[0;34m,\u001b[0m \u001b[0mb_ind\u001b[0m \u001b[0;34m+\u001b[0m \u001b[0;36m1\u001b[0m\u001b[0;34m\u001b[0m\u001b[0;34m\u001b[0m\u001b[0m\n\u001b[0m\u001b[1;32m    166\u001b[0m         ))\n\u001b[1;32m    167\u001b[0m \u001b[0;34m\u001b[0m\u001b[0m\n",
            "\u001b[0;32m<ipython-input-4-56f93e6ea300>\u001b[0m in \u001b[0;36mgreedy_match_embs\u001b[0;34m(a, b, max_dist, cache, a_ind, b_ind)\u001b[0m\n\u001b[1;32m    163\u001b[0m     \u001b[0;32mif\u001b[0m \u001b[0mmax_dist\u001b[0m \u001b[0;34m>=\u001b[0m \u001b[0mfirst_dist\u001b[0m\u001b[0;34m:\u001b[0m\u001b[0;34m\u001b[0m\u001b[0;34m\u001b[0m\u001b[0m\n\u001b[1;32m    164\u001b[0m         min_dist = np.minimum(min_dist, first_dist + greedy_match_embs(\n\u001b[0;32m--> 165\u001b[0;31m             \u001b[0ma\u001b[0m\u001b[0;34m,\u001b[0m \u001b[0mb\u001b[0m\u001b[0;34m,\u001b[0m \u001b[0mmax_dist\u001b[0m\u001b[0;34m,\u001b[0m \u001b[0mcache\u001b[0m\u001b[0;34m,\u001b[0m \u001b[0ma_ind\u001b[0m \u001b[0;34m+\u001b[0m \u001b[0;36m1\u001b[0m\u001b[0;34m,\u001b[0m \u001b[0mb_ind\u001b[0m \u001b[0;34m+\u001b[0m \u001b[0;36m1\u001b[0m\u001b[0;34m\u001b[0m\u001b[0;34m\u001b[0m\u001b[0m\n\u001b[0m\u001b[1;32m    166\u001b[0m         ))\n\u001b[1;32m    167\u001b[0m \u001b[0;34m\u001b[0m\u001b[0m\n",
            "\u001b[0;32m<ipython-input-4-56f93e6ea300>\u001b[0m in \u001b[0;36mgreedy_match_embs\u001b[0;34m(a, b, max_dist, cache, a_ind, b_ind)\u001b[0m\n\u001b[1;32m    163\u001b[0m     \u001b[0;32mif\u001b[0m \u001b[0mmax_dist\u001b[0m \u001b[0;34m>=\u001b[0m \u001b[0mfirst_dist\u001b[0m\u001b[0;34m:\u001b[0m\u001b[0;34m\u001b[0m\u001b[0;34m\u001b[0m\u001b[0m\n\u001b[1;32m    164\u001b[0m         min_dist = np.minimum(min_dist, first_dist + greedy_match_embs(\n\u001b[0;32m--> 165\u001b[0;31m             \u001b[0ma\u001b[0m\u001b[0;34m,\u001b[0m \u001b[0mb\u001b[0m\u001b[0;34m,\u001b[0m \u001b[0mmax_dist\u001b[0m\u001b[0;34m,\u001b[0m \u001b[0mcache\u001b[0m\u001b[0;34m,\u001b[0m \u001b[0ma_ind\u001b[0m \u001b[0;34m+\u001b[0m \u001b[0;36m1\u001b[0m\u001b[0;34m,\u001b[0m \u001b[0mb_ind\u001b[0m \u001b[0;34m+\u001b[0m \u001b[0;36m1\u001b[0m\u001b[0;34m\u001b[0m\u001b[0;34m\u001b[0m\u001b[0m\n\u001b[0m\u001b[1;32m    166\u001b[0m         ))\n\u001b[1;32m    167\u001b[0m \u001b[0;34m\u001b[0m\u001b[0m\n",
            "\u001b[0;32m<ipython-input-4-56f93e6ea300>\u001b[0m in \u001b[0;36mgreedy_match_embs\u001b[0;34m(a, b, max_dist, cache, a_ind, b_ind)\u001b[0m\n\u001b[1;32m    163\u001b[0m     \u001b[0;32mif\u001b[0m \u001b[0mmax_dist\u001b[0m \u001b[0;34m>=\u001b[0m \u001b[0mfirst_dist\u001b[0m\u001b[0;34m:\u001b[0m\u001b[0;34m\u001b[0m\u001b[0;34m\u001b[0m\u001b[0m\n\u001b[1;32m    164\u001b[0m         min_dist = np.minimum(min_dist, first_dist + greedy_match_embs(\n\u001b[0;32m--> 165\u001b[0;31m             \u001b[0ma\u001b[0m\u001b[0;34m,\u001b[0m \u001b[0mb\u001b[0m\u001b[0;34m,\u001b[0m \u001b[0mmax_dist\u001b[0m\u001b[0;34m,\u001b[0m \u001b[0mcache\u001b[0m\u001b[0;34m,\u001b[0m \u001b[0ma_ind\u001b[0m \u001b[0;34m+\u001b[0m \u001b[0;36m1\u001b[0m\u001b[0;34m,\u001b[0m \u001b[0mb_ind\u001b[0m \u001b[0;34m+\u001b[0m \u001b[0;36m1\u001b[0m\u001b[0;34m\u001b[0m\u001b[0;34m\u001b[0m\u001b[0m\n\u001b[0m\u001b[1;32m    166\u001b[0m         ))\n\u001b[1;32m    167\u001b[0m \u001b[0;34m\u001b[0m\u001b[0m\n",
            "\u001b[0;32m<ipython-input-4-56f93e6ea300>\u001b[0m in \u001b[0;36mgreedy_match_embs\u001b[0;34m(a, b, max_dist, cache, a_ind, b_ind)\u001b[0m\n\u001b[1;32m    163\u001b[0m     \u001b[0;32mif\u001b[0m \u001b[0mmax_dist\u001b[0m \u001b[0;34m>=\u001b[0m \u001b[0mfirst_dist\u001b[0m\u001b[0;34m:\u001b[0m\u001b[0;34m\u001b[0m\u001b[0;34m\u001b[0m\u001b[0m\n\u001b[1;32m    164\u001b[0m         min_dist = np.minimum(min_dist, first_dist + greedy_match_embs(\n\u001b[0;32m--> 165\u001b[0;31m             \u001b[0ma\u001b[0m\u001b[0;34m,\u001b[0m \u001b[0mb\u001b[0m\u001b[0;34m,\u001b[0m \u001b[0mmax_dist\u001b[0m\u001b[0;34m,\u001b[0m \u001b[0mcache\u001b[0m\u001b[0;34m,\u001b[0m \u001b[0ma_ind\u001b[0m \u001b[0;34m+\u001b[0m \u001b[0;36m1\u001b[0m\u001b[0;34m,\u001b[0m \u001b[0mb_ind\u001b[0m \u001b[0;34m+\u001b[0m \u001b[0;36m1\u001b[0m\u001b[0;34m\u001b[0m\u001b[0;34m\u001b[0m\u001b[0m\n\u001b[0m\u001b[1;32m    166\u001b[0m         ))\n\u001b[1;32m    167\u001b[0m \u001b[0;34m\u001b[0m\u001b[0m\n",
            "\u001b[0;32m<ipython-input-4-56f93e6ea300>\u001b[0m in \u001b[0;36mgreedy_match_embs\u001b[0;34m(a, b, max_dist, cache, a_ind, b_ind)\u001b[0m\n\u001b[1;32m    163\u001b[0m     \u001b[0;32mif\u001b[0m \u001b[0mmax_dist\u001b[0m \u001b[0;34m>=\u001b[0m \u001b[0mfirst_dist\u001b[0m\u001b[0;34m:\u001b[0m\u001b[0;34m\u001b[0m\u001b[0;34m\u001b[0m\u001b[0m\n\u001b[1;32m    164\u001b[0m         min_dist = np.minimum(min_dist, first_dist + greedy_match_embs(\n\u001b[0;32m--> 165\u001b[0;31m             \u001b[0ma\u001b[0m\u001b[0;34m,\u001b[0m \u001b[0mb\u001b[0m\u001b[0;34m,\u001b[0m \u001b[0mmax_dist\u001b[0m\u001b[0;34m,\u001b[0m \u001b[0mcache\u001b[0m\u001b[0;34m,\u001b[0m \u001b[0ma_ind\u001b[0m \u001b[0;34m+\u001b[0m \u001b[0;36m1\u001b[0m\u001b[0;34m,\u001b[0m \u001b[0mb_ind\u001b[0m \u001b[0;34m+\u001b[0m \u001b[0;36m1\u001b[0m\u001b[0;34m\u001b[0m\u001b[0;34m\u001b[0m\u001b[0m\n\u001b[0m\u001b[1;32m    166\u001b[0m         ))\n\u001b[1;32m    167\u001b[0m \u001b[0;34m\u001b[0m\u001b[0m\n",
            "\u001b[0;32m<ipython-input-4-56f93e6ea300>\u001b[0m in \u001b[0;36mgreedy_match_embs\u001b[0;34m(a, b, max_dist, cache, a_ind, b_ind)\u001b[0m\n\u001b[1;32m    163\u001b[0m     \u001b[0;32mif\u001b[0m \u001b[0mmax_dist\u001b[0m \u001b[0;34m>=\u001b[0m \u001b[0mfirst_dist\u001b[0m\u001b[0;34m:\u001b[0m\u001b[0;34m\u001b[0m\u001b[0;34m\u001b[0m\u001b[0m\n\u001b[1;32m    164\u001b[0m         min_dist = np.minimum(min_dist, first_dist + greedy_match_embs(\n\u001b[0;32m--> 165\u001b[0;31m             \u001b[0ma\u001b[0m\u001b[0;34m,\u001b[0m \u001b[0mb\u001b[0m\u001b[0;34m,\u001b[0m \u001b[0mmax_dist\u001b[0m\u001b[0;34m,\u001b[0m \u001b[0mcache\u001b[0m\u001b[0;34m,\u001b[0m \u001b[0ma_ind\u001b[0m \u001b[0;34m+\u001b[0m \u001b[0;36m1\u001b[0m\u001b[0;34m,\u001b[0m \u001b[0mb_ind\u001b[0m \u001b[0;34m+\u001b[0m \u001b[0;36m1\u001b[0m\u001b[0;34m\u001b[0m\u001b[0;34m\u001b[0m\u001b[0m\n\u001b[0m\u001b[1;32m    166\u001b[0m         ))\n\u001b[1;32m    167\u001b[0m \u001b[0;34m\u001b[0m\u001b[0m\n",
            "\u001b[0;32m<ipython-input-4-56f93e6ea300>\u001b[0m in \u001b[0;36mgreedy_match_embs\u001b[0;34m(a, b, max_dist, cache, a_ind, b_ind)\u001b[0m\n\u001b[1;32m    163\u001b[0m     \u001b[0;32mif\u001b[0m \u001b[0mmax_dist\u001b[0m \u001b[0;34m>=\u001b[0m \u001b[0mfirst_dist\u001b[0m\u001b[0;34m:\u001b[0m\u001b[0;34m\u001b[0m\u001b[0;34m\u001b[0m\u001b[0m\n\u001b[1;32m    164\u001b[0m         min_dist = np.minimum(min_dist, first_dist + greedy_match_embs(\n\u001b[0;32m--> 165\u001b[0;31m             \u001b[0ma\u001b[0m\u001b[0;34m,\u001b[0m \u001b[0mb\u001b[0m\u001b[0;34m,\u001b[0m \u001b[0mmax_dist\u001b[0m\u001b[0;34m,\u001b[0m \u001b[0mcache\u001b[0m\u001b[0;34m,\u001b[0m \u001b[0ma_ind\u001b[0m \u001b[0;34m+\u001b[0m \u001b[0;36m1\u001b[0m\u001b[0;34m,\u001b[0m \u001b[0mb_ind\u001b[0m \u001b[0;34m+\u001b[0m \u001b[0;36m1\u001b[0m\u001b[0;34m\u001b[0m\u001b[0;34m\u001b[0m\u001b[0m\n\u001b[0m\u001b[1;32m    166\u001b[0m         ))\n\u001b[1;32m    167\u001b[0m \u001b[0;34m\u001b[0m\u001b[0m\n",
            "\u001b[0;32m<ipython-input-4-56f93e6ea300>\u001b[0m in \u001b[0;36mgreedy_match_embs\u001b[0;34m(a, b, max_dist, cache, a_ind, b_ind)\u001b[0m\n\u001b[1;32m    163\u001b[0m     \u001b[0;32mif\u001b[0m \u001b[0mmax_dist\u001b[0m \u001b[0;34m>=\u001b[0m \u001b[0mfirst_dist\u001b[0m\u001b[0;34m:\u001b[0m\u001b[0;34m\u001b[0m\u001b[0;34m\u001b[0m\u001b[0m\n\u001b[1;32m    164\u001b[0m         min_dist = np.minimum(min_dist, first_dist + greedy_match_embs(\n\u001b[0;32m--> 165\u001b[0;31m             \u001b[0ma\u001b[0m\u001b[0;34m,\u001b[0m \u001b[0mb\u001b[0m\u001b[0;34m,\u001b[0m \u001b[0mmax_dist\u001b[0m\u001b[0;34m,\u001b[0m \u001b[0mcache\u001b[0m\u001b[0;34m,\u001b[0m \u001b[0ma_ind\u001b[0m \u001b[0;34m+\u001b[0m \u001b[0;36m1\u001b[0m\u001b[0;34m,\u001b[0m \u001b[0mb_ind\u001b[0m \u001b[0;34m+\u001b[0m \u001b[0;36m1\u001b[0m\u001b[0;34m\u001b[0m\u001b[0;34m\u001b[0m\u001b[0m\n\u001b[0m\u001b[1;32m    166\u001b[0m         ))\n\u001b[1;32m    167\u001b[0m \u001b[0;34m\u001b[0m\u001b[0m\n",
            "\u001b[0;32m<ipython-input-4-56f93e6ea300>\u001b[0m in \u001b[0;36mgreedy_match_embs\u001b[0;34m(a, b, max_dist, cache, a_ind, b_ind)\u001b[0m\n\u001b[1;32m    163\u001b[0m     \u001b[0;32mif\u001b[0m \u001b[0mmax_dist\u001b[0m \u001b[0;34m>=\u001b[0m \u001b[0mfirst_dist\u001b[0m\u001b[0;34m:\u001b[0m\u001b[0;34m\u001b[0m\u001b[0;34m\u001b[0m\u001b[0m\n\u001b[1;32m    164\u001b[0m         min_dist = np.minimum(min_dist, first_dist + greedy_match_embs(\n\u001b[0;32m--> 165\u001b[0;31m             \u001b[0ma\u001b[0m\u001b[0;34m,\u001b[0m \u001b[0mb\u001b[0m\u001b[0;34m,\u001b[0m \u001b[0mmax_dist\u001b[0m\u001b[0;34m,\u001b[0m \u001b[0mcache\u001b[0m\u001b[0;34m,\u001b[0m \u001b[0ma_ind\u001b[0m \u001b[0;34m+\u001b[0m \u001b[0;36m1\u001b[0m\u001b[0;34m,\u001b[0m \u001b[0mb_ind\u001b[0m \u001b[0;34m+\u001b[0m \u001b[0;36m1\u001b[0m\u001b[0;34m\u001b[0m\u001b[0;34m\u001b[0m\u001b[0m\n\u001b[0m\u001b[1;32m    166\u001b[0m         ))\n\u001b[1;32m    167\u001b[0m \u001b[0;34m\u001b[0m\u001b[0m\n",
            "\u001b[0;32m<ipython-input-4-56f93e6ea300>\u001b[0m in \u001b[0;36mgreedy_match_embs\u001b[0;34m(a, b, max_dist, cache, a_ind, b_ind)\u001b[0m\n\u001b[1;32m    163\u001b[0m     \u001b[0;32mif\u001b[0m \u001b[0mmax_dist\u001b[0m \u001b[0;34m>=\u001b[0m \u001b[0mfirst_dist\u001b[0m\u001b[0;34m:\u001b[0m\u001b[0;34m\u001b[0m\u001b[0;34m\u001b[0m\u001b[0m\n\u001b[1;32m    164\u001b[0m         min_dist = np.minimum(min_dist, first_dist + greedy_match_embs(\n\u001b[0;32m--> 165\u001b[0;31m             \u001b[0ma\u001b[0m\u001b[0;34m,\u001b[0m \u001b[0mb\u001b[0m\u001b[0;34m,\u001b[0m \u001b[0mmax_dist\u001b[0m\u001b[0;34m,\u001b[0m \u001b[0mcache\u001b[0m\u001b[0;34m,\u001b[0m \u001b[0ma_ind\u001b[0m \u001b[0;34m+\u001b[0m \u001b[0;36m1\u001b[0m\u001b[0;34m,\u001b[0m \u001b[0mb_ind\u001b[0m \u001b[0;34m+\u001b[0m \u001b[0;36m1\u001b[0m\u001b[0;34m\u001b[0m\u001b[0;34m\u001b[0m\u001b[0m\n\u001b[0m\u001b[1;32m    166\u001b[0m         ))\n\u001b[1;32m    167\u001b[0m \u001b[0;34m\u001b[0m\u001b[0m\n",
            "\u001b[0;32m<ipython-input-4-56f93e6ea300>\u001b[0m in \u001b[0;36mgreedy_match_embs\u001b[0;34m(a, b, max_dist, cache, a_ind, b_ind)\u001b[0m\n\u001b[1;32m    163\u001b[0m     \u001b[0;32mif\u001b[0m \u001b[0mmax_dist\u001b[0m \u001b[0;34m>=\u001b[0m \u001b[0mfirst_dist\u001b[0m\u001b[0;34m:\u001b[0m\u001b[0;34m\u001b[0m\u001b[0;34m\u001b[0m\u001b[0m\n\u001b[1;32m    164\u001b[0m         min_dist = np.minimum(min_dist, first_dist + greedy_match_embs(\n\u001b[0;32m--> 165\u001b[0;31m             \u001b[0ma\u001b[0m\u001b[0;34m,\u001b[0m \u001b[0mb\u001b[0m\u001b[0;34m,\u001b[0m \u001b[0mmax_dist\u001b[0m\u001b[0;34m,\u001b[0m \u001b[0mcache\u001b[0m\u001b[0;34m,\u001b[0m \u001b[0ma_ind\u001b[0m \u001b[0;34m+\u001b[0m \u001b[0;36m1\u001b[0m\u001b[0;34m,\u001b[0m \u001b[0mb_ind\u001b[0m \u001b[0;34m+\u001b[0m \u001b[0;36m1\u001b[0m\u001b[0;34m\u001b[0m\u001b[0;34m\u001b[0m\u001b[0m\n\u001b[0m\u001b[1;32m    166\u001b[0m         ))\n\u001b[1;32m    167\u001b[0m \u001b[0;34m\u001b[0m\u001b[0m\n",
            "\u001b[0;32m<ipython-input-4-56f93e6ea300>\u001b[0m in \u001b[0;36mgreedy_match_embs\u001b[0;34m(a, b, max_dist, cache, a_ind, b_ind)\u001b[0m\n\u001b[1;32m    163\u001b[0m     \u001b[0;32mif\u001b[0m \u001b[0mmax_dist\u001b[0m \u001b[0;34m>=\u001b[0m \u001b[0mfirst_dist\u001b[0m\u001b[0;34m:\u001b[0m\u001b[0;34m\u001b[0m\u001b[0;34m\u001b[0m\u001b[0m\n\u001b[1;32m    164\u001b[0m         min_dist = np.minimum(min_dist, first_dist + greedy_match_embs(\n\u001b[0;32m--> 165\u001b[0;31m             \u001b[0ma\u001b[0m\u001b[0;34m,\u001b[0m \u001b[0mb\u001b[0m\u001b[0;34m,\u001b[0m \u001b[0mmax_dist\u001b[0m\u001b[0;34m,\u001b[0m \u001b[0mcache\u001b[0m\u001b[0;34m,\u001b[0m \u001b[0ma_ind\u001b[0m \u001b[0;34m+\u001b[0m \u001b[0;36m1\u001b[0m\u001b[0;34m,\u001b[0m \u001b[0mb_ind\u001b[0m \u001b[0;34m+\u001b[0m \u001b[0;36m1\u001b[0m\u001b[0;34m\u001b[0m\u001b[0;34m\u001b[0m\u001b[0m\n\u001b[0m\u001b[1;32m    166\u001b[0m         ))\n\u001b[1;32m    167\u001b[0m \u001b[0;34m\u001b[0m\u001b[0m\n",
            "\u001b[0;32m<ipython-input-4-56f93e6ea300>\u001b[0m in \u001b[0;36mgreedy_match_embs\u001b[0;34m(a, b, max_dist, cache, a_ind, b_ind)\u001b[0m\n\u001b[1;32m    163\u001b[0m     \u001b[0;32mif\u001b[0m \u001b[0mmax_dist\u001b[0m \u001b[0;34m>=\u001b[0m \u001b[0mfirst_dist\u001b[0m\u001b[0;34m:\u001b[0m\u001b[0;34m\u001b[0m\u001b[0;34m\u001b[0m\u001b[0m\n\u001b[1;32m    164\u001b[0m         min_dist = np.minimum(min_dist, first_dist + greedy_match_embs(\n\u001b[0;32m--> 165\u001b[0;31m             \u001b[0ma\u001b[0m\u001b[0;34m,\u001b[0m \u001b[0mb\u001b[0m\u001b[0;34m,\u001b[0m \u001b[0mmax_dist\u001b[0m\u001b[0;34m,\u001b[0m \u001b[0mcache\u001b[0m\u001b[0;34m,\u001b[0m \u001b[0ma_ind\u001b[0m \u001b[0;34m+\u001b[0m \u001b[0;36m1\u001b[0m\u001b[0;34m,\u001b[0m \u001b[0mb_ind\u001b[0m \u001b[0;34m+\u001b[0m \u001b[0;36m1\u001b[0m\u001b[0;34m\u001b[0m\u001b[0;34m\u001b[0m\u001b[0m\n\u001b[0m\u001b[1;32m    166\u001b[0m         ))\n\u001b[1;32m    167\u001b[0m \u001b[0;34m\u001b[0m\u001b[0m\n",
            "\u001b[0;32m<ipython-input-4-56f93e6ea300>\u001b[0m in \u001b[0;36mgreedy_match_embs\u001b[0;34m(a, b, max_dist, cache, a_ind, b_ind)\u001b[0m\n\u001b[1;32m    163\u001b[0m     \u001b[0;32mif\u001b[0m \u001b[0mmax_dist\u001b[0m \u001b[0;34m>=\u001b[0m \u001b[0mfirst_dist\u001b[0m\u001b[0;34m:\u001b[0m\u001b[0;34m\u001b[0m\u001b[0;34m\u001b[0m\u001b[0m\n\u001b[1;32m    164\u001b[0m         min_dist = np.minimum(min_dist, first_dist + greedy_match_embs(\n\u001b[0;32m--> 165\u001b[0;31m             \u001b[0ma\u001b[0m\u001b[0;34m,\u001b[0m \u001b[0mb\u001b[0m\u001b[0;34m,\u001b[0m \u001b[0mmax_dist\u001b[0m\u001b[0;34m,\u001b[0m \u001b[0mcache\u001b[0m\u001b[0;34m,\u001b[0m \u001b[0ma_ind\u001b[0m \u001b[0;34m+\u001b[0m \u001b[0;36m1\u001b[0m\u001b[0;34m,\u001b[0m \u001b[0mb_ind\u001b[0m \u001b[0;34m+\u001b[0m \u001b[0;36m1\u001b[0m\u001b[0;34m\u001b[0m\u001b[0;34m\u001b[0m\u001b[0m\n\u001b[0m\u001b[1;32m    166\u001b[0m         ))\n\u001b[1;32m    167\u001b[0m \u001b[0;34m\u001b[0m\u001b[0m\n",
            "\u001b[0;32m<ipython-input-4-56f93e6ea300>\u001b[0m in \u001b[0;36mgreedy_match_embs\u001b[0;34m(a, b, max_dist, cache, a_ind, b_ind)\u001b[0m\n\u001b[1;32m    163\u001b[0m     \u001b[0;32mif\u001b[0m \u001b[0mmax_dist\u001b[0m \u001b[0;34m>=\u001b[0m \u001b[0mfirst_dist\u001b[0m\u001b[0;34m:\u001b[0m\u001b[0;34m\u001b[0m\u001b[0;34m\u001b[0m\u001b[0m\n\u001b[1;32m    164\u001b[0m         min_dist = np.minimum(min_dist, first_dist + greedy_match_embs(\n\u001b[0;32m--> 165\u001b[0;31m             \u001b[0ma\u001b[0m\u001b[0;34m,\u001b[0m \u001b[0mb\u001b[0m\u001b[0;34m,\u001b[0m \u001b[0mmax_dist\u001b[0m\u001b[0;34m,\u001b[0m \u001b[0mcache\u001b[0m\u001b[0;34m,\u001b[0m \u001b[0ma_ind\u001b[0m \u001b[0;34m+\u001b[0m \u001b[0;36m1\u001b[0m\u001b[0;34m,\u001b[0m \u001b[0mb_ind\u001b[0m \u001b[0;34m+\u001b[0m \u001b[0;36m1\u001b[0m\u001b[0;34m\u001b[0m\u001b[0;34m\u001b[0m\u001b[0m\n\u001b[0m\u001b[1;32m    166\u001b[0m         ))\n\u001b[1;32m    167\u001b[0m \u001b[0;34m\u001b[0m\u001b[0m\n",
            "\u001b[0;32m<ipython-input-4-56f93e6ea300>\u001b[0m in \u001b[0;36mgreedy_match_embs\u001b[0;34m(a, b, max_dist, cache, a_ind, b_ind)\u001b[0m\n\u001b[1;32m    163\u001b[0m     \u001b[0;32mif\u001b[0m \u001b[0mmax_dist\u001b[0m \u001b[0;34m>=\u001b[0m \u001b[0mfirst_dist\u001b[0m\u001b[0;34m:\u001b[0m\u001b[0;34m\u001b[0m\u001b[0;34m\u001b[0m\u001b[0m\n\u001b[1;32m    164\u001b[0m         min_dist = np.minimum(min_dist, first_dist + greedy_match_embs(\n\u001b[0;32m--> 165\u001b[0;31m             \u001b[0ma\u001b[0m\u001b[0;34m,\u001b[0m \u001b[0mb\u001b[0m\u001b[0;34m,\u001b[0m \u001b[0mmax_dist\u001b[0m\u001b[0;34m,\u001b[0m \u001b[0mcache\u001b[0m\u001b[0;34m,\u001b[0m \u001b[0ma_ind\u001b[0m \u001b[0;34m+\u001b[0m \u001b[0;36m1\u001b[0m\u001b[0;34m,\u001b[0m \u001b[0mb_ind\u001b[0m \u001b[0;34m+\u001b[0m \u001b[0;36m1\u001b[0m\u001b[0;34m\u001b[0m\u001b[0;34m\u001b[0m\u001b[0m\n\u001b[0m\u001b[1;32m    166\u001b[0m         ))\n\u001b[1;32m    167\u001b[0m \u001b[0;34m\u001b[0m\u001b[0m\n",
            "\u001b[0;32m<ipython-input-4-56f93e6ea300>\u001b[0m in \u001b[0;36mgreedy_match_embs\u001b[0;34m(a, b, max_dist, cache, a_ind, b_ind)\u001b[0m\n\u001b[1;32m    163\u001b[0m     \u001b[0;32mif\u001b[0m \u001b[0mmax_dist\u001b[0m \u001b[0;34m>=\u001b[0m \u001b[0mfirst_dist\u001b[0m\u001b[0;34m:\u001b[0m\u001b[0;34m\u001b[0m\u001b[0;34m\u001b[0m\u001b[0m\n\u001b[1;32m    164\u001b[0m         min_dist = np.minimum(min_dist, first_dist + greedy_match_embs(\n\u001b[0;32m--> 165\u001b[0;31m             \u001b[0ma\u001b[0m\u001b[0;34m,\u001b[0m \u001b[0mb\u001b[0m\u001b[0;34m,\u001b[0m \u001b[0mmax_dist\u001b[0m\u001b[0;34m,\u001b[0m \u001b[0mcache\u001b[0m\u001b[0;34m,\u001b[0m \u001b[0ma_ind\u001b[0m \u001b[0;34m+\u001b[0m \u001b[0;36m1\u001b[0m\u001b[0;34m,\u001b[0m \u001b[0mb_ind\u001b[0m \u001b[0;34m+\u001b[0m \u001b[0;36m1\u001b[0m\u001b[0;34m\u001b[0m\u001b[0;34m\u001b[0m\u001b[0m\n\u001b[0m\u001b[1;32m    166\u001b[0m         ))\n\u001b[1;32m    167\u001b[0m \u001b[0;34m\u001b[0m\u001b[0m\n",
            "\u001b[0;32m<ipython-input-4-56f93e6ea300>\u001b[0m in \u001b[0;36mgreedy_match_embs\u001b[0;34m(a, b, max_dist, cache, a_ind, b_ind)\u001b[0m\n\u001b[1;32m    163\u001b[0m     \u001b[0;32mif\u001b[0m \u001b[0mmax_dist\u001b[0m \u001b[0;34m>=\u001b[0m \u001b[0mfirst_dist\u001b[0m\u001b[0;34m:\u001b[0m\u001b[0;34m\u001b[0m\u001b[0;34m\u001b[0m\u001b[0m\n\u001b[1;32m    164\u001b[0m         min_dist = np.minimum(min_dist, first_dist + greedy_match_embs(\n\u001b[0;32m--> 165\u001b[0;31m             \u001b[0ma\u001b[0m\u001b[0;34m,\u001b[0m \u001b[0mb\u001b[0m\u001b[0;34m,\u001b[0m \u001b[0mmax_dist\u001b[0m\u001b[0;34m,\u001b[0m \u001b[0mcache\u001b[0m\u001b[0;34m,\u001b[0m \u001b[0ma_ind\u001b[0m \u001b[0;34m+\u001b[0m \u001b[0;36m1\u001b[0m\u001b[0;34m,\u001b[0m \u001b[0mb_ind\u001b[0m \u001b[0;34m+\u001b[0m \u001b[0;36m1\u001b[0m\u001b[0;34m\u001b[0m\u001b[0;34m\u001b[0m\u001b[0m\n\u001b[0m\u001b[1;32m    166\u001b[0m         ))\n\u001b[1;32m    167\u001b[0m \u001b[0;34m\u001b[0m\u001b[0m\n",
            "\u001b[0;32m<ipython-input-4-56f93e6ea300>\u001b[0m in \u001b[0;36mgreedy_match_embs\u001b[0;34m(a, b, max_dist, cache, a_ind, b_ind)\u001b[0m\n\u001b[1;32m    163\u001b[0m     \u001b[0;32mif\u001b[0m \u001b[0mmax_dist\u001b[0m \u001b[0;34m>=\u001b[0m \u001b[0mfirst_dist\u001b[0m\u001b[0;34m:\u001b[0m\u001b[0;34m\u001b[0m\u001b[0;34m\u001b[0m\u001b[0m\n\u001b[1;32m    164\u001b[0m         min_dist = np.minimum(min_dist, first_dist + greedy_match_embs(\n\u001b[0;32m--> 165\u001b[0;31m             \u001b[0ma\u001b[0m\u001b[0;34m,\u001b[0m \u001b[0mb\u001b[0m\u001b[0;34m,\u001b[0m \u001b[0mmax_dist\u001b[0m\u001b[0;34m,\u001b[0m \u001b[0mcache\u001b[0m\u001b[0;34m,\u001b[0m \u001b[0ma_ind\u001b[0m \u001b[0;34m+\u001b[0m \u001b[0;36m1\u001b[0m\u001b[0;34m,\u001b[0m \u001b[0mb_ind\u001b[0m \u001b[0;34m+\u001b[0m \u001b[0;36m1\u001b[0m\u001b[0;34m\u001b[0m\u001b[0;34m\u001b[0m\u001b[0m\n\u001b[0m\u001b[1;32m    166\u001b[0m         ))\n\u001b[1;32m    167\u001b[0m \u001b[0;34m\u001b[0m\u001b[0m\n",
            "\u001b[0;32m<ipython-input-4-56f93e6ea300>\u001b[0m in \u001b[0;36mgreedy_match_embs\u001b[0;34m(a, b, max_dist, cache, a_ind, b_ind)\u001b[0m\n\u001b[1;32m    163\u001b[0m     \u001b[0;32mif\u001b[0m \u001b[0mmax_dist\u001b[0m \u001b[0;34m>=\u001b[0m \u001b[0mfirst_dist\u001b[0m\u001b[0;34m:\u001b[0m\u001b[0;34m\u001b[0m\u001b[0;34m\u001b[0m\u001b[0m\n\u001b[1;32m    164\u001b[0m         min_dist = np.minimum(min_dist, first_dist + greedy_match_embs(\n\u001b[0;32m--> 165\u001b[0;31m             \u001b[0ma\u001b[0m\u001b[0;34m,\u001b[0m \u001b[0mb\u001b[0m\u001b[0;34m,\u001b[0m \u001b[0mmax_dist\u001b[0m\u001b[0;34m,\u001b[0m \u001b[0mcache\u001b[0m\u001b[0;34m,\u001b[0m \u001b[0ma_ind\u001b[0m \u001b[0;34m+\u001b[0m \u001b[0;36m1\u001b[0m\u001b[0;34m,\u001b[0m \u001b[0mb_ind\u001b[0m \u001b[0;34m+\u001b[0m \u001b[0;36m1\u001b[0m\u001b[0;34m\u001b[0m\u001b[0;34m\u001b[0m\u001b[0m\n\u001b[0m\u001b[1;32m    166\u001b[0m         ))\n\u001b[1;32m    167\u001b[0m \u001b[0;34m\u001b[0m\u001b[0m\n",
            "\u001b[0;32m<ipython-input-4-56f93e6ea300>\u001b[0m in \u001b[0;36mgreedy_match_embs\u001b[0;34m(a, b, max_dist, cache, a_ind, b_ind)\u001b[0m\n\u001b[1;32m    163\u001b[0m     \u001b[0;32mif\u001b[0m \u001b[0mmax_dist\u001b[0m \u001b[0;34m>=\u001b[0m \u001b[0mfirst_dist\u001b[0m\u001b[0;34m:\u001b[0m\u001b[0;34m\u001b[0m\u001b[0;34m\u001b[0m\u001b[0m\n\u001b[1;32m    164\u001b[0m         min_dist = np.minimum(min_dist, first_dist + greedy_match_embs(\n\u001b[0;32m--> 165\u001b[0;31m             \u001b[0ma\u001b[0m\u001b[0;34m,\u001b[0m \u001b[0mb\u001b[0m\u001b[0;34m,\u001b[0m \u001b[0mmax_dist\u001b[0m\u001b[0;34m,\u001b[0m \u001b[0mcache\u001b[0m\u001b[0;34m,\u001b[0m \u001b[0ma_ind\u001b[0m \u001b[0;34m+\u001b[0m \u001b[0;36m1\u001b[0m\u001b[0;34m,\u001b[0m \u001b[0mb_ind\u001b[0m \u001b[0;34m+\u001b[0m \u001b[0;36m1\u001b[0m\u001b[0;34m\u001b[0m\u001b[0;34m\u001b[0m\u001b[0m\n\u001b[0m\u001b[1;32m    166\u001b[0m         ))\n\u001b[1;32m    167\u001b[0m \u001b[0;34m\u001b[0m\u001b[0m\n",
            "\u001b[0;32m<ipython-input-4-56f93e6ea300>\u001b[0m in \u001b[0;36mgreedy_match_embs\u001b[0;34m(a, b, max_dist, cache, a_ind, b_ind)\u001b[0m\n\u001b[1;32m    163\u001b[0m     \u001b[0;32mif\u001b[0m \u001b[0mmax_dist\u001b[0m \u001b[0;34m>=\u001b[0m \u001b[0mfirst_dist\u001b[0m\u001b[0;34m:\u001b[0m\u001b[0;34m\u001b[0m\u001b[0;34m\u001b[0m\u001b[0m\n\u001b[1;32m    164\u001b[0m         min_dist = np.minimum(min_dist, first_dist + greedy_match_embs(\n\u001b[0;32m--> 165\u001b[0;31m             \u001b[0ma\u001b[0m\u001b[0;34m,\u001b[0m \u001b[0mb\u001b[0m\u001b[0;34m,\u001b[0m \u001b[0mmax_dist\u001b[0m\u001b[0;34m,\u001b[0m \u001b[0mcache\u001b[0m\u001b[0;34m,\u001b[0m \u001b[0ma_ind\u001b[0m \u001b[0;34m+\u001b[0m \u001b[0;36m1\u001b[0m\u001b[0;34m,\u001b[0m \u001b[0mb_ind\u001b[0m \u001b[0;34m+\u001b[0m \u001b[0;36m1\u001b[0m\u001b[0;34m\u001b[0m\u001b[0;34m\u001b[0m\u001b[0m\n\u001b[0m\u001b[1;32m    166\u001b[0m         ))\n\u001b[1;32m    167\u001b[0m \u001b[0;34m\u001b[0m\u001b[0m\n",
            "\u001b[0;32m<ipython-input-4-56f93e6ea300>\u001b[0m in \u001b[0;36mgreedy_match_embs\u001b[0;34m(a, b, max_dist, cache, a_ind, b_ind)\u001b[0m\n\u001b[1;32m    163\u001b[0m     \u001b[0;32mif\u001b[0m \u001b[0mmax_dist\u001b[0m \u001b[0;34m>=\u001b[0m \u001b[0mfirst_dist\u001b[0m\u001b[0;34m:\u001b[0m\u001b[0;34m\u001b[0m\u001b[0;34m\u001b[0m\u001b[0m\n\u001b[1;32m    164\u001b[0m         min_dist = np.minimum(min_dist, first_dist + greedy_match_embs(\n\u001b[0;32m--> 165\u001b[0;31m             \u001b[0ma\u001b[0m\u001b[0;34m,\u001b[0m \u001b[0mb\u001b[0m\u001b[0;34m,\u001b[0m \u001b[0mmax_dist\u001b[0m\u001b[0;34m,\u001b[0m \u001b[0mcache\u001b[0m\u001b[0;34m,\u001b[0m \u001b[0ma_ind\u001b[0m \u001b[0;34m+\u001b[0m \u001b[0;36m1\u001b[0m\u001b[0;34m,\u001b[0m \u001b[0mb_ind\u001b[0m \u001b[0;34m+\u001b[0m \u001b[0;36m1\u001b[0m\u001b[0;34m\u001b[0m\u001b[0;34m\u001b[0m\u001b[0m\n\u001b[0m\u001b[1;32m    166\u001b[0m         ))\n\u001b[1;32m    167\u001b[0m \u001b[0;34m\u001b[0m\u001b[0m\n",
            "\u001b[0;32m<ipython-input-4-56f93e6ea300>\u001b[0m in \u001b[0;36mgreedy_match_embs\u001b[0;34m(a, b, max_dist, cache, a_ind, b_ind)\u001b[0m\n\u001b[1;32m    163\u001b[0m     \u001b[0;32mif\u001b[0m \u001b[0mmax_dist\u001b[0m \u001b[0;34m>=\u001b[0m \u001b[0mfirst_dist\u001b[0m\u001b[0;34m:\u001b[0m\u001b[0;34m\u001b[0m\u001b[0;34m\u001b[0m\u001b[0m\n\u001b[1;32m    164\u001b[0m         min_dist = np.minimum(min_dist, first_dist + greedy_match_embs(\n\u001b[0;32m--> 165\u001b[0;31m             \u001b[0ma\u001b[0m\u001b[0;34m,\u001b[0m \u001b[0mb\u001b[0m\u001b[0;34m,\u001b[0m \u001b[0mmax_dist\u001b[0m\u001b[0;34m,\u001b[0m \u001b[0mcache\u001b[0m\u001b[0;34m,\u001b[0m \u001b[0ma_ind\u001b[0m \u001b[0;34m+\u001b[0m \u001b[0;36m1\u001b[0m\u001b[0;34m,\u001b[0m \u001b[0mb_ind\u001b[0m \u001b[0;34m+\u001b[0m \u001b[0;36m1\u001b[0m\u001b[0;34m\u001b[0m\u001b[0;34m\u001b[0m\u001b[0m\n\u001b[0m\u001b[1;32m    166\u001b[0m         ))\n\u001b[1;32m    167\u001b[0m \u001b[0;34m\u001b[0m\u001b[0m\n",
            "\u001b[0;32m<ipython-input-4-56f93e6ea300>\u001b[0m in \u001b[0;36mgreedy_match_embs\u001b[0;34m(a, b, max_dist, cache, a_ind, b_ind)\u001b[0m\n\u001b[1;32m    163\u001b[0m     \u001b[0;32mif\u001b[0m \u001b[0mmax_dist\u001b[0m \u001b[0;34m>=\u001b[0m \u001b[0mfirst_dist\u001b[0m\u001b[0;34m:\u001b[0m\u001b[0;34m\u001b[0m\u001b[0;34m\u001b[0m\u001b[0m\n\u001b[1;32m    164\u001b[0m         min_dist = np.minimum(min_dist, first_dist + greedy_match_embs(\n\u001b[0;32m--> 165\u001b[0;31m             \u001b[0ma\u001b[0m\u001b[0;34m,\u001b[0m \u001b[0mb\u001b[0m\u001b[0;34m,\u001b[0m \u001b[0mmax_dist\u001b[0m\u001b[0;34m,\u001b[0m \u001b[0mcache\u001b[0m\u001b[0;34m,\u001b[0m \u001b[0ma_ind\u001b[0m \u001b[0;34m+\u001b[0m \u001b[0;36m1\u001b[0m\u001b[0;34m,\u001b[0m \u001b[0mb_ind\u001b[0m \u001b[0;34m+\u001b[0m \u001b[0;36m1\u001b[0m\u001b[0;34m\u001b[0m\u001b[0;34m\u001b[0m\u001b[0m\n\u001b[0m\u001b[1;32m    166\u001b[0m         ))\n\u001b[1;32m    167\u001b[0m \u001b[0;34m\u001b[0m\u001b[0m\n",
            "\u001b[0;32m<ipython-input-4-56f93e6ea300>\u001b[0m in \u001b[0;36mgreedy_match_embs\u001b[0;34m(a, b, max_dist, cache, a_ind, b_ind)\u001b[0m\n\u001b[1;32m    163\u001b[0m     \u001b[0;32mif\u001b[0m \u001b[0mmax_dist\u001b[0m \u001b[0;34m>=\u001b[0m \u001b[0mfirst_dist\u001b[0m\u001b[0;34m:\u001b[0m\u001b[0;34m\u001b[0m\u001b[0;34m\u001b[0m\u001b[0m\n\u001b[1;32m    164\u001b[0m         min_dist = np.minimum(min_dist, first_dist + greedy_match_embs(\n\u001b[0;32m--> 165\u001b[0;31m             \u001b[0ma\u001b[0m\u001b[0;34m,\u001b[0m \u001b[0mb\u001b[0m\u001b[0;34m,\u001b[0m \u001b[0mmax_dist\u001b[0m\u001b[0;34m,\u001b[0m \u001b[0mcache\u001b[0m\u001b[0;34m,\u001b[0m \u001b[0ma_ind\u001b[0m \u001b[0;34m+\u001b[0m \u001b[0;36m1\u001b[0m\u001b[0;34m,\u001b[0m \u001b[0mb_ind\u001b[0m \u001b[0;34m+\u001b[0m \u001b[0;36m1\u001b[0m\u001b[0;34m\u001b[0m\u001b[0;34m\u001b[0m\u001b[0m\n\u001b[0m\u001b[1;32m    166\u001b[0m         ))\n\u001b[1;32m    167\u001b[0m \u001b[0;34m\u001b[0m\u001b[0m\n",
            "\u001b[0;32m<ipython-input-4-56f93e6ea300>\u001b[0m in \u001b[0;36mgreedy_match_embs\u001b[0;34m(a, b, max_dist, cache, a_ind, b_ind)\u001b[0m\n\u001b[1;32m    163\u001b[0m     \u001b[0;32mif\u001b[0m \u001b[0mmax_dist\u001b[0m \u001b[0;34m>=\u001b[0m \u001b[0mfirst_dist\u001b[0m\u001b[0;34m:\u001b[0m\u001b[0;34m\u001b[0m\u001b[0;34m\u001b[0m\u001b[0m\n\u001b[1;32m    164\u001b[0m         min_dist = np.minimum(min_dist, first_dist + greedy_match_embs(\n\u001b[0;32m--> 165\u001b[0;31m             \u001b[0ma\u001b[0m\u001b[0;34m,\u001b[0m \u001b[0mb\u001b[0m\u001b[0;34m,\u001b[0m \u001b[0mmax_dist\u001b[0m\u001b[0;34m,\u001b[0m \u001b[0mcache\u001b[0m\u001b[0;34m,\u001b[0m \u001b[0ma_ind\u001b[0m \u001b[0;34m+\u001b[0m \u001b[0;36m1\u001b[0m\u001b[0;34m,\u001b[0m \u001b[0mb_ind\u001b[0m \u001b[0;34m+\u001b[0m \u001b[0;36m1\u001b[0m\u001b[0;34m\u001b[0m\u001b[0;34m\u001b[0m\u001b[0m\n\u001b[0m\u001b[1;32m    166\u001b[0m         ))\n\u001b[1;32m    167\u001b[0m \u001b[0;34m\u001b[0m\u001b[0m\n",
            "\u001b[0;32m<ipython-input-4-56f93e6ea300>\u001b[0m in \u001b[0;36mgreedy_match_embs\u001b[0;34m(a, b, max_dist, cache, a_ind, b_ind)\u001b[0m\n\u001b[1;32m    163\u001b[0m     \u001b[0;32mif\u001b[0m \u001b[0mmax_dist\u001b[0m \u001b[0;34m>=\u001b[0m \u001b[0mfirst_dist\u001b[0m\u001b[0;34m:\u001b[0m\u001b[0;34m\u001b[0m\u001b[0;34m\u001b[0m\u001b[0m\n\u001b[1;32m    164\u001b[0m         min_dist = np.minimum(min_dist, first_dist + greedy_match_embs(\n\u001b[0;32m--> 165\u001b[0;31m             \u001b[0ma\u001b[0m\u001b[0;34m,\u001b[0m \u001b[0mb\u001b[0m\u001b[0;34m,\u001b[0m \u001b[0mmax_dist\u001b[0m\u001b[0;34m,\u001b[0m \u001b[0mcache\u001b[0m\u001b[0;34m,\u001b[0m \u001b[0ma_ind\u001b[0m \u001b[0;34m+\u001b[0m \u001b[0;36m1\u001b[0m\u001b[0;34m,\u001b[0m \u001b[0mb_ind\u001b[0m \u001b[0;34m+\u001b[0m \u001b[0;36m1\u001b[0m\u001b[0;34m\u001b[0m\u001b[0;34m\u001b[0m\u001b[0m\n\u001b[0m\u001b[1;32m    166\u001b[0m         ))\n\u001b[1;32m    167\u001b[0m \u001b[0;34m\u001b[0m\u001b[0m\n",
            "\u001b[0;32m<ipython-input-4-56f93e6ea300>\u001b[0m in \u001b[0;36mgreedy_match_embs\u001b[0;34m(a, b, max_dist, cache, a_ind, b_ind)\u001b[0m\n\u001b[1;32m    163\u001b[0m     \u001b[0;32mif\u001b[0m \u001b[0mmax_dist\u001b[0m \u001b[0;34m>=\u001b[0m \u001b[0mfirst_dist\u001b[0m\u001b[0;34m:\u001b[0m\u001b[0;34m\u001b[0m\u001b[0;34m\u001b[0m\u001b[0m\n\u001b[1;32m    164\u001b[0m         min_dist = np.minimum(min_dist, first_dist + greedy_match_embs(\n\u001b[0;32m--> 165\u001b[0;31m             \u001b[0ma\u001b[0m\u001b[0;34m,\u001b[0m \u001b[0mb\u001b[0m\u001b[0;34m,\u001b[0m \u001b[0mmax_dist\u001b[0m\u001b[0;34m,\u001b[0m \u001b[0mcache\u001b[0m\u001b[0;34m,\u001b[0m \u001b[0ma_ind\u001b[0m \u001b[0;34m+\u001b[0m \u001b[0;36m1\u001b[0m\u001b[0;34m,\u001b[0m \u001b[0mb_ind\u001b[0m \u001b[0;34m+\u001b[0m \u001b[0;36m1\u001b[0m\u001b[0;34m\u001b[0m\u001b[0;34m\u001b[0m\u001b[0m\n\u001b[0m\u001b[1;32m    166\u001b[0m         ))\n\u001b[1;32m    167\u001b[0m \u001b[0;34m\u001b[0m\u001b[0m\n",
            "\u001b[0;32m<ipython-input-4-56f93e6ea300>\u001b[0m in \u001b[0;36mgreedy_match_embs\u001b[0;34m(a, b, max_dist, cache, a_ind, b_ind)\u001b[0m\n\u001b[1;32m    163\u001b[0m     \u001b[0;32mif\u001b[0m \u001b[0mmax_dist\u001b[0m \u001b[0;34m>=\u001b[0m \u001b[0mfirst_dist\u001b[0m\u001b[0;34m:\u001b[0m\u001b[0;34m\u001b[0m\u001b[0;34m\u001b[0m\u001b[0m\n\u001b[1;32m    164\u001b[0m         min_dist = np.minimum(min_dist, first_dist + greedy_match_embs(\n\u001b[0;32m--> 165\u001b[0;31m             \u001b[0ma\u001b[0m\u001b[0;34m,\u001b[0m \u001b[0mb\u001b[0m\u001b[0;34m,\u001b[0m \u001b[0mmax_dist\u001b[0m\u001b[0;34m,\u001b[0m \u001b[0mcache\u001b[0m\u001b[0;34m,\u001b[0m \u001b[0ma_ind\u001b[0m \u001b[0;34m+\u001b[0m \u001b[0;36m1\u001b[0m\u001b[0;34m,\u001b[0m \u001b[0mb_ind\u001b[0m \u001b[0;34m+\u001b[0m \u001b[0;36m1\u001b[0m\u001b[0;34m\u001b[0m\u001b[0;34m\u001b[0m\u001b[0m\n\u001b[0m\u001b[1;32m    166\u001b[0m         ))\n\u001b[1;32m    167\u001b[0m \u001b[0;34m\u001b[0m\u001b[0m\n",
            "\u001b[0;32m<ipython-input-4-56f93e6ea300>\u001b[0m in \u001b[0;36mgreedy_match_embs\u001b[0;34m(a, b, max_dist, cache, a_ind, b_ind)\u001b[0m\n\u001b[1;32m    163\u001b[0m     \u001b[0;32mif\u001b[0m \u001b[0mmax_dist\u001b[0m \u001b[0;34m>=\u001b[0m \u001b[0mfirst_dist\u001b[0m\u001b[0;34m:\u001b[0m\u001b[0;34m\u001b[0m\u001b[0;34m\u001b[0m\u001b[0m\n\u001b[1;32m    164\u001b[0m         min_dist = np.minimum(min_dist, first_dist + greedy_match_embs(\n\u001b[0;32m--> 165\u001b[0;31m             \u001b[0ma\u001b[0m\u001b[0;34m,\u001b[0m \u001b[0mb\u001b[0m\u001b[0;34m,\u001b[0m \u001b[0mmax_dist\u001b[0m\u001b[0;34m,\u001b[0m \u001b[0mcache\u001b[0m\u001b[0;34m,\u001b[0m \u001b[0ma_ind\u001b[0m \u001b[0;34m+\u001b[0m \u001b[0;36m1\u001b[0m\u001b[0;34m,\u001b[0m \u001b[0mb_ind\u001b[0m \u001b[0;34m+\u001b[0m \u001b[0;36m1\u001b[0m\u001b[0;34m\u001b[0m\u001b[0;34m\u001b[0m\u001b[0m\n\u001b[0m\u001b[1;32m    166\u001b[0m         ))\n\u001b[1;32m    167\u001b[0m \u001b[0;34m\u001b[0m\u001b[0m\n",
            "\u001b[0;32m<ipython-input-4-56f93e6ea300>\u001b[0m in \u001b[0;36mgreedy_match_embs\u001b[0;34m(a, b, max_dist, cache, a_ind, b_ind)\u001b[0m\n\u001b[1;32m    163\u001b[0m     \u001b[0;32mif\u001b[0m \u001b[0mmax_dist\u001b[0m \u001b[0;34m>=\u001b[0m \u001b[0mfirst_dist\u001b[0m\u001b[0;34m:\u001b[0m\u001b[0;34m\u001b[0m\u001b[0;34m\u001b[0m\u001b[0m\n\u001b[1;32m    164\u001b[0m         min_dist = np.minimum(min_dist, first_dist + greedy_match_embs(\n\u001b[0;32m--> 165\u001b[0;31m             \u001b[0ma\u001b[0m\u001b[0;34m,\u001b[0m \u001b[0mb\u001b[0m\u001b[0;34m,\u001b[0m \u001b[0mmax_dist\u001b[0m\u001b[0;34m,\u001b[0m \u001b[0mcache\u001b[0m\u001b[0;34m,\u001b[0m \u001b[0ma_ind\u001b[0m \u001b[0;34m+\u001b[0m \u001b[0;36m1\u001b[0m\u001b[0;34m,\u001b[0m \u001b[0mb_ind\u001b[0m \u001b[0;34m+\u001b[0m \u001b[0;36m1\u001b[0m\u001b[0;34m\u001b[0m\u001b[0;34m\u001b[0m\u001b[0m\n\u001b[0m\u001b[1;32m    166\u001b[0m         ))\n\u001b[1;32m    167\u001b[0m \u001b[0;34m\u001b[0m\u001b[0m\n",
            "\u001b[0;32m<ipython-input-4-56f93e6ea300>\u001b[0m in \u001b[0;36mgreedy_match_embs\u001b[0;34m(a, b, max_dist, cache, a_ind, b_ind)\u001b[0m\n\u001b[1;32m    163\u001b[0m     \u001b[0;32mif\u001b[0m \u001b[0mmax_dist\u001b[0m \u001b[0;34m>=\u001b[0m \u001b[0mfirst_dist\u001b[0m\u001b[0;34m:\u001b[0m\u001b[0;34m\u001b[0m\u001b[0;34m\u001b[0m\u001b[0m\n\u001b[1;32m    164\u001b[0m         min_dist = np.minimum(min_dist, first_dist + greedy_match_embs(\n\u001b[0;32m--> 165\u001b[0;31m             \u001b[0ma\u001b[0m\u001b[0;34m,\u001b[0m \u001b[0mb\u001b[0m\u001b[0;34m,\u001b[0m \u001b[0mmax_dist\u001b[0m\u001b[0;34m,\u001b[0m \u001b[0mcache\u001b[0m\u001b[0;34m,\u001b[0m \u001b[0ma_ind\u001b[0m \u001b[0;34m+\u001b[0m \u001b[0;36m1\u001b[0m\u001b[0;34m,\u001b[0m \u001b[0mb_ind\u001b[0m \u001b[0;34m+\u001b[0m \u001b[0;36m1\u001b[0m\u001b[0;34m\u001b[0m\u001b[0;34m\u001b[0m\u001b[0m\n\u001b[0m\u001b[1;32m    166\u001b[0m         ))\n\u001b[1;32m    167\u001b[0m \u001b[0;34m\u001b[0m\u001b[0m\n",
            "\u001b[0;32m<ipython-input-4-56f93e6ea300>\u001b[0m in \u001b[0;36mgreedy_match_embs\u001b[0;34m(a, b, max_dist, cache, a_ind, b_ind)\u001b[0m\n\u001b[1;32m    163\u001b[0m     \u001b[0;32mif\u001b[0m \u001b[0mmax_dist\u001b[0m \u001b[0;34m>=\u001b[0m \u001b[0mfirst_dist\u001b[0m\u001b[0;34m:\u001b[0m\u001b[0;34m\u001b[0m\u001b[0;34m\u001b[0m\u001b[0m\n\u001b[1;32m    164\u001b[0m         min_dist = np.minimum(min_dist, first_dist + greedy_match_embs(\n\u001b[0;32m--> 165\u001b[0;31m             \u001b[0ma\u001b[0m\u001b[0;34m,\u001b[0m \u001b[0mb\u001b[0m\u001b[0;34m,\u001b[0m \u001b[0mmax_dist\u001b[0m\u001b[0;34m,\u001b[0m \u001b[0mcache\u001b[0m\u001b[0;34m,\u001b[0m \u001b[0ma_ind\u001b[0m \u001b[0;34m+\u001b[0m \u001b[0;36m1\u001b[0m\u001b[0;34m,\u001b[0m \u001b[0mb_ind\u001b[0m \u001b[0;34m+\u001b[0m \u001b[0;36m1\u001b[0m\u001b[0;34m\u001b[0m\u001b[0;34m\u001b[0m\u001b[0m\n\u001b[0m\u001b[1;32m    166\u001b[0m         ))\n\u001b[1;32m    167\u001b[0m \u001b[0;34m\u001b[0m\u001b[0m\n",
            "\u001b[0;32m<ipython-input-4-56f93e6ea300>\u001b[0m in \u001b[0;36mgreedy_match_embs\u001b[0;34m(a, b, max_dist, cache, a_ind, b_ind)\u001b[0m\n\u001b[1;32m    163\u001b[0m     \u001b[0;32mif\u001b[0m \u001b[0mmax_dist\u001b[0m \u001b[0;34m>=\u001b[0m \u001b[0mfirst_dist\u001b[0m\u001b[0;34m:\u001b[0m\u001b[0;34m\u001b[0m\u001b[0;34m\u001b[0m\u001b[0m\n\u001b[1;32m    164\u001b[0m         min_dist = np.minimum(min_dist, first_dist + greedy_match_embs(\n\u001b[0;32m--> 165\u001b[0;31m             \u001b[0ma\u001b[0m\u001b[0;34m,\u001b[0m \u001b[0mb\u001b[0m\u001b[0;34m,\u001b[0m \u001b[0mmax_dist\u001b[0m\u001b[0;34m,\u001b[0m \u001b[0mcache\u001b[0m\u001b[0;34m,\u001b[0m \u001b[0ma_ind\u001b[0m \u001b[0;34m+\u001b[0m \u001b[0;36m1\u001b[0m\u001b[0;34m,\u001b[0m \u001b[0mb_ind\u001b[0m \u001b[0;34m+\u001b[0m \u001b[0;36m1\u001b[0m\u001b[0;34m\u001b[0m\u001b[0;34m\u001b[0m\u001b[0m\n\u001b[0m\u001b[1;32m    166\u001b[0m         ))\n\u001b[1;32m    167\u001b[0m \u001b[0;34m\u001b[0m\u001b[0m\n",
            "\u001b[0;32m<ipython-input-4-56f93e6ea300>\u001b[0m in \u001b[0;36mgreedy_match_embs\u001b[0;34m(a, b, max_dist, cache, a_ind, b_ind)\u001b[0m\n\u001b[1;32m    163\u001b[0m     \u001b[0;32mif\u001b[0m \u001b[0mmax_dist\u001b[0m \u001b[0;34m>=\u001b[0m \u001b[0mfirst_dist\u001b[0m\u001b[0;34m:\u001b[0m\u001b[0;34m\u001b[0m\u001b[0;34m\u001b[0m\u001b[0m\n\u001b[1;32m    164\u001b[0m         min_dist = np.minimum(min_dist, first_dist + greedy_match_embs(\n\u001b[0;32m--> 165\u001b[0;31m             \u001b[0ma\u001b[0m\u001b[0;34m,\u001b[0m \u001b[0mb\u001b[0m\u001b[0;34m,\u001b[0m \u001b[0mmax_dist\u001b[0m\u001b[0;34m,\u001b[0m \u001b[0mcache\u001b[0m\u001b[0;34m,\u001b[0m \u001b[0ma_ind\u001b[0m \u001b[0;34m+\u001b[0m \u001b[0;36m1\u001b[0m\u001b[0;34m,\u001b[0m \u001b[0mb_ind\u001b[0m \u001b[0;34m+\u001b[0m \u001b[0;36m1\u001b[0m\u001b[0;34m\u001b[0m\u001b[0;34m\u001b[0m\u001b[0m\n\u001b[0m\u001b[1;32m    166\u001b[0m         ))\n\u001b[1;32m    167\u001b[0m \u001b[0;34m\u001b[0m\u001b[0m\n",
            "\u001b[0;32m<ipython-input-4-56f93e6ea300>\u001b[0m in \u001b[0;36mgreedy_match_embs\u001b[0;34m(a, b, max_dist, cache, a_ind, b_ind)\u001b[0m\n\u001b[1;32m    163\u001b[0m     \u001b[0;32mif\u001b[0m \u001b[0mmax_dist\u001b[0m \u001b[0;34m>=\u001b[0m \u001b[0mfirst_dist\u001b[0m\u001b[0;34m:\u001b[0m\u001b[0;34m\u001b[0m\u001b[0;34m\u001b[0m\u001b[0m\n\u001b[1;32m    164\u001b[0m         min_dist = np.minimum(min_dist, first_dist + greedy_match_embs(\n\u001b[0;32m--> 165\u001b[0;31m             \u001b[0ma\u001b[0m\u001b[0;34m,\u001b[0m \u001b[0mb\u001b[0m\u001b[0;34m,\u001b[0m \u001b[0mmax_dist\u001b[0m\u001b[0;34m,\u001b[0m \u001b[0mcache\u001b[0m\u001b[0;34m,\u001b[0m \u001b[0ma_ind\u001b[0m \u001b[0;34m+\u001b[0m \u001b[0;36m1\u001b[0m\u001b[0;34m,\u001b[0m \u001b[0mb_ind\u001b[0m \u001b[0;34m+\u001b[0m \u001b[0;36m1\u001b[0m\u001b[0;34m\u001b[0m\u001b[0;34m\u001b[0m\u001b[0m\n\u001b[0m\u001b[1;32m    166\u001b[0m         ))\n\u001b[1;32m    167\u001b[0m \u001b[0;34m\u001b[0m\u001b[0m\n",
            "\u001b[0;32m<ipython-input-4-56f93e6ea300>\u001b[0m in \u001b[0;36mgreedy_match_embs\u001b[0;34m(a, b, max_dist, cache, a_ind, b_ind)\u001b[0m\n\u001b[1;32m    163\u001b[0m     \u001b[0;32mif\u001b[0m \u001b[0mmax_dist\u001b[0m \u001b[0;34m>=\u001b[0m \u001b[0mfirst_dist\u001b[0m\u001b[0;34m:\u001b[0m\u001b[0;34m\u001b[0m\u001b[0;34m\u001b[0m\u001b[0m\n\u001b[1;32m    164\u001b[0m         min_dist = np.minimum(min_dist, first_dist + greedy_match_embs(\n\u001b[0;32m--> 165\u001b[0;31m             \u001b[0ma\u001b[0m\u001b[0;34m,\u001b[0m \u001b[0mb\u001b[0m\u001b[0;34m,\u001b[0m \u001b[0mmax_dist\u001b[0m\u001b[0;34m,\u001b[0m \u001b[0mcache\u001b[0m\u001b[0;34m,\u001b[0m \u001b[0ma_ind\u001b[0m \u001b[0;34m+\u001b[0m \u001b[0;36m1\u001b[0m\u001b[0;34m,\u001b[0m \u001b[0mb_ind\u001b[0m \u001b[0;34m+\u001b[0m \u001b[0;36m1\u001b[0m\u001b[0;34m\u001b[0m\u001b[0;34m\u001b[0m\u001b[0m\n\u001b[0m\u001b[1;32m    166\u001b[0m         ))\n\u001b[1;32m    167\u001b[0m \u001b[0;34m\u001b[0m\u001b[0m\n",
            "\u001b[0;32m<ipython-input-4-56f93e6ea300>\u001b[0m in \u001b[0;36mgreedy_match_embs\u001b[0;34m(a, b, max_dist, cache, a_ind, b_ind)\u001b[0m\n\u001b[1;32m    163\u001b[0m     \u001b[0;32mif\u001b[0m \u001b[0mmax_dist\u001b[0m \u001b[0;34m>=\u001b[0m \u001b[0mfirst_dist\u001b[0m\u001b[0;34m:\u001b[0m\u001b[0;34m\u001b[0m\u001b[0;34m\u001b[0m\u001b[0m\n\u001b[1;32m    164\u001b[0m         min_dist = np.minimum(min_dist, first_dist + greedy_match_embs(\n\u001b[0;32m--> 165\u001b[0;31m             \u001b[0ma\u001b[0m\u001b[0;34m,\u001b[0m \u001b[0mb\u001b[0m\u001b[0;34m,\u001b[0m \u001b[0mmax_dist\u001b[0m\u001b[0;34m,\u001b[0m \u001b[0mcache\u001b[0m\u001b[0;34m,\u001b[0m \u001b[0ma_ind\u001b[0m \u001b[0;34m+\u001b[0m \u001b[0;36m1\u001b[0m\u001b[0;34m,\u001b[0m \u001b[0mb_ind\u001b[0m \u001b[0;34m+\u001b[0m \u001b[0;36m1\u001b[0m\u001b[0;34m\u001b[0m\u001b[0;34m\u001b[0m\u001b[0m\n\u001b[0m\u001b[1;32m    166\u001b[0m         ))\n\u001b[1;32m    167\u001b[0m \u001b[0;34m\u001b[0m\u001b[0m\n",
            "\u001b[0;32m<ipython-input-4-56f93e6ea300>\u001b[0m in \u001b[0;36mgreedy_match_embs\u001b[0;34m(a, b, max_dist, cache, a_ind, b_ind)\u001b[0m\n\u001b[1;32m    163\u001b[0m     \u001b[0;32mif\u001b[0m \u001b[0mmax_dist\u001b[0m \u001b[0;34m>=\u001b[0m \u001b[0mfirst_dist\u001b[0m\u001b[0;34m:\u001b[0m\u001b[0;34m\u001b[0m\u001b[0;34m\u001b[0m\u001b[0m\n\u001b[1;32m    164\u001b[0m         min_dist = np.minimum(min_dist, first_dist + greedy_match_embs(\n\u001b[0;32m--> 165\u001b[0;31m             \u001b[0ma\u001b[0m\u001b[0;34m,\u001b[0m \u001b[0mb\u001b[0m\u001b[0;34m,\u001b[0m \u001b[0mmax_dist\u001b[0m\u001b[0;34m,\u001b[0m \u001b[0mcache\u001b[0m\u001b[0;34m,\u001b[0m \u001b[0ma_ind\u001b[0m \u001b[0;34m+\u001b[0m \u001b[0;36m1\u001b[0m\u001b[0;34m,\u001b[0m \u001b[0mb_ind\u001b[0m \u001b[0;34m+\u001b[0m \u001b[0;36m1\u001b[0m\u001b[0;34m\u001b[0m\u001b[0;34m\u001b[0m\u001b[0m\n\u001b[0m\u001b[1;32m    166\u001b[0m         ))\n\u001b[1;32m    167\u001b[0m \u001b[0;34m\u001b[0m\u001b[0m\n",
            "\u001b[0;32m<ipython-input-4-56f93e6ea300>\u001b[0m in \u001b[0;36mgreedy_match_embs\u001b[0;34m(a, b, max_dist, cache, a_ind, b_ind)\u001b[0m\n\u001b[1;32m    163\u001b[0m     \u001b[0;32mif\u001b[0m \u001b[0mmax_dist\u001b[0m \u001b[0;34m>=\u001b[0m \u001b[0mfirst_dist\u001b[0m\u001b[0;34m:\u001b[0m\u001b[0;34m\u001b[0m\u001b[0;34m\u001b[0m\u001b[0m\n\u001b[1;32m    164\u001b[0m         min_dist = np.minimum(min_dist, first_dist + greedy_match_embs(\n\u001b[0;32m--> 165\u001b[0;31m             \u001b[0ma\u001b[0m\u001b[0;34m,\u001b[0m \u001b[0mb\u001b[0m\u001b[0;34m,\u001b[0m \u001b[0mmax_dist\u001b[0m\u001b[0;34m,\u001b[0m \u001b[0mcache\u001b[0m\u001b[0;34m,\u001b[0m \u001b[0ma_ind\u001b[0m \u001b[0;34m+\u001b[0m \u001b[0;36m1\u001b[0m\u001b[0;34m,\u001b[0m \u001b[0mb_ind\u001b[0m \u001b[0;34m+\u001b[0m \u001b[0;36m1\u001b[0m\u001b[0;34m\u001b[0m\u001b[0;34m\u001b[0m\u001b[0m\n\u001b[0m\u001b[1;32m    166\u001b[0m         ))\n\u001b[1;32m    167\u001b[0m \u001b[0;34m\u001b[0m\u001b[0m\n",
            "\u001b[0;32m<ipython-input-4-56f93e6ea300>\u001b[0m in \u001b[0;36mgreedy_match_embs\u001b[0;34m(a, b, max_dist, cache, a_ind, b_ind)\u001b[0m\n\u001b[1;32m    163\u001b[0m     \u001b[0;32mif\u001b[0m \u001b[0mmax_dist\u001b[0m \u001b[0;34m>=\u001b[0m \u001b[0mfirst_dist\u001b[0m\u001b[0;34m:\u001b[0m\u001b[0;34m\u001b[0m\u001b[0;34m\u001b[0m\u001b[0m\n\u001b[1;32m    164\u001b[0m         min_dist = np.minimum(min_dist, first_dist + greedy_match_embs(\n\u001b[0;32m--> 165\u001b[0;31m             \u001b[0ma\u001b[0m\u001b[0;34m,\u001b[0m \u001b[0mb\u001b[0m\u001b[0;34m,\u001b[0m \u001b[0mmax_dist\u001b[0m\u001b[0;34m,\u001b[0m \u001b[0mcache\u001b[0m\u001b[0;34m,\u001b[0m \u001b[0ma_ind\u001b[0m \u001b[0;34m+\u001b[0m \u001b[0;36m1\u001b[0m\u001b[0;34m,\u001b[0m \u001b[0mb_ind\u001b[0m \u001b[0;34m+\u001b[0m \u001b[0;36m1\u001b[0m\u001b[0;34m\u001b[0m\u001b[0;34m\u001b[0m\u001b[0m\n\u001b[0m\u001b[1;32m    166\u001b[0m         ))\n\u001b[1;32m    167\u001b[0m \u001b[0;34m\u001b[0m\u001b[0m\n",
            "\u001b[0;32m<ipython-input-4-56f93e6ea300>\u001b[0m in \u001b[0;36mgreedy_match_embs\u001b[0;34m(a, b, max_dist, cache, a_ind, b_ind)\u001b[0m\n\u001b[1;32m    163\u001b[0m     \u001b[0;32mif\u001b[0m \u001b[0mmax_dist\u001b[0m \u001b[0;34m>=\u001b[0m \u001b[0mfirst_dist\u001b[0m\u001b[0;34m:\u001b[0m\u001b[0;34m\u001b[0m\u001b[0;34m\u001b[0m\u001b[0m\n\u001b[1;32m    164\u001b[0m         min_dist = np.minimum(min_dist, first_dist + greedy_match_embs(\n\u001b[0;32m--> 165\u001b[0;31m             \u001b[0ma\u001b[0m\u001b[0;34m,\u001b[0m \u001b[0mb\u001b[0m\u001b[0;34m,\u001b[0m \u001b[0mmax_dist\u001b[0m\u001b[0;34m,\u001b[0m \u001b[0mcache\u001b[0m\u001b[0;34m,\u001b[0m \u001b[0ma_ind\u001b[0m \u001b[0;34m+\u001b[0m \u001b[0;36m1\u001b[0m\u001b[0;34m,\u001b[0m \u001b[0mb_ind\u001b[0m \u001b[0;34m+\u001b[0m \u001b[0;36m1\u001b[0m\u001b[0;34m\u001b[0m\u001b[0;34m\u001b[0m\u001b[0m\n\u001b[0m\u001b[1;32m    166\u001b[0m         ))\n\u001b[1;32m    167\u001b[0m \u001b[0;34m\u001b[0m\u001b[0m\n",
            "\u001b[0;32m<ipython-input-4-56f93e6ea300>\u001b[0m in \u001b[0;36mgreedy_match_embs\u001b[0;34m(a, b, max_dist, cache, a_ind, b_ind)\u001b[0m\n\u001b[1;32m    163\u001b[0m     \u001b[0;32mif\u001b[0m \u001b[0mmax_dist\u001b[0m \u001b[0;34m>=\u001b[0m \u001b[0mfirst_dist\u001b[0m\u001b[0;34m:\u001b[0m\u001b[0;34m\u001b[0m\u001b[0;34m\u001b[0m\u001b[0m\n\u001b[1;32m    164\u001b[0m         min_dist = np.minimum(min_dist, first_dist + greedy_match_embs(\n\u001b[0;32m--> 165\u001b[0;31m             \u001b[0ma\u001b[0m\u001b[0;34m,\u001b[0m \u001b[0mb\u001b[0m\u001b[0;34m,\u001b[0m \u001b[0mmax_dist\u001b[0m\u001b[0;34m,\u001b[0m \u001b[0mcache\u001b[0m\u001b[0;34m,\u001b[0m \u001b[0ma_ind\u001b[0m \u001b[0;34m+\u001b[0m \u001b[0;36m1\u001b[0m\u001b[0;34m,\u001b[0m \u001b[0mb_ind\u001b[0m \u001b[0;34m+\u001b[0m \u001b[0;36m1\u001b[0m\u001b[0;34m\u001b[0m\u001b[0;34m\u001b[0m\u001b[0m\n\u001b[0m\u001b[1;32m    166\u001b[0m         ))\n\u001b[1;32m    167\u001b[0m \u001b[0;34m\u001b[0m\u001b[0m\n",
            "\u001b[0;32m<ipython-input-4-56f93e6ea300>\u001b[0m in \u001b[0;36mgreedy_match_embs\u001b[0;34m(a, b, max_dist, cache, a_ind, b_ind)\u001b[0m\n\u001b[1;32m    163\u001b[0m     \u001b[0;32mif\u001b[0m \u001b[0mmax_dist\u001b[0m \u001b[0;34m>=\u001b[0m \u001b[0mfirst_dist\u001b[0m\u001b[0;34m:\u001b[0m\u001b[0;34m\u001b[0m\u001b[0;34m\u001b[0m\u001b[0m\n\u001b[1;32m    164\u001b[0m         min_dist = np.minimum(min_dist, first_dist + greedy_match_embs(\n\u001b[0;32m--> 165\u001b[0;31m             \u001b[0ma\u001b[0m\u001b[0;34m,\u001b[0m \u001b[0mb\u001b[0m\u001b[0;34m,\u001b[0m \u001b[0mmax_dist\u001b[0m\u001b[0;34m,\u001b[0m \u001b[0mcache\u001b[0m\u001b[0;34m,\u001b[0m \u001b[0ma_ind\u001b[0m \u001b[0;34m+\u001b[0m \u001b[0;36m1\u001b[0m\u001b[0;34m,\u001b[0m \u001b[0mb_ind\u001b[0m \u001b[0;34m+\u001b[0m \u001b[0;36m1\u001b[0m\u001b[0;34m\u001b[0m\u001b[0;34m\u001b[0m\u001b[0m\n\u001b[0m\u001b[1;32m    166\u001b[0m         ))\n\u001b[1;32m    167\u001b[0m \u001b[0;34m\u001b[0m\u001b[0m\n",
            "\u001b[0;32m<ipython-input-4-56f93e6ea300>\u001b[0m in \u001b[0;36mgreedy_match_embs\u001b[0;34m(a, b, max_dist, cache, a_ind, b_ind)\u001b[0m\n\u001b[1;32m    163\u001b[0m     \u001b[0;32mif\u001b[0m \u001b[0mmax_dist\u001b[0m \u001b[0;34m>=\u001b[0m \u001b[0mfirst_dist\u001b[0m\u001b[0;34m:\u001b[0m\u001b[0;34m\u001b[0m\u001b[0;34m\u001b[0m\u001b[0m\n\u001b[1;32m    164\u001b[0m         min_dist = np.minimum(min_dist, first_dist + greedy_match_embs(\n\u001b[0;32m--> 165\u001b[0;31m             \u001b[0ma\u001b[0m\u001b[0;34m,\u001b[0m \u001b[0mb\u001b[0m\u001b[0;34m,\u001b[0m \u001b[0mmax_dist\u001b[0m\u001b[0;34m,\u001b[0m \u001b[0mcache\u001b[0m\u001b[0;34m,\u001b[0m \u001b[0ma_ind\u001b[0m \u001b[0;34m+\u001b[0m \u001b[0;36m1\u001b[0m\u001b[0;34m,\u001b[0m \u001b[0mb_ind\u001b[0m \u001b[0;34m+\u001b[0m \u001b[0;36m1\u001b[0m\u001b[0;34m\u001b[0m\u001b[0;34m\u001b[0m\u001b[0m\n\u001b[0m\u001b[1;32m    166\u001b[0m         ))\n\u001b[1;32m    167\u001b[0m \u001b[0;34m\u001b[0m\u001b[0m\n",
            "\u001b[0;32m<ipython-input-4-56f93e6ea300>\u001b[0m in \u001b[0;36mgreedy_match_embs\u001b[0;34m(a, b, max_dist, cache, a_ind, b_ind)\u001b[0m\n\u001b[1;32m    163\u001b[0m     \u001b[0;32mif\u001b[0m \u001b[0mmax_dist\u001b[0m \u001b[0;34m>=\u001b[0m \u001b[0mfirst_dist\u001b[0m\u001b[0;34m:\u001b[0m\u001b[0;34m\u001b[0m\u001b[0;34m\u001b[0m\u001b[0m\n\u001b[1;32m    164\u001b[0m         min_dist = np.minimum(min_dist, first_dist + greedy_match_embs(\n\u001b[0;32m--> 165\u001b[0;31m             \u001b[0ma\u001b[0m\u001b[0;34m,\u001b[0m \u001b[0mb\u001b[0m\u001b[0;34m,\u001b[0m \u001b[0mmax_dist\u001b[0m\u001b[0;34m,\u001b[0m \u001b[0mcache\u001b[0m\u001b[0;34m,\u001b[0m \u001b[0ma_ind\u001b[0m \u001b[0;34m+\u001b[0m \u001b[0;36m1\u001b[0m\u001b[0;34m,\u001b[0m \u001b[0mb_ind\u001b[0m \u001b[0;34m+\u001b[0m \u001b[0;36m1\u001b[0m\u001b[0;34m\u001b[0m\u001b[0;34m\u001b[0m\u001b[0m\n\u001b[0m\u001b[1;32m    166\u001b[0m         ))\n\u001b[1;32m    167\u001b[0m \u001b[0;34m\u001b[0m\u001b[0m\n",
            "\u001b[0;32m<ipython-input-4-56f93e6ea300>\u001b[0m in \u001b[0;36mgreedy_match_embs\u001b[0;34m(a, b, max_dist, cache, a_ind, b_ind)\u001b[0m\n\u001b[1;32m    163\u001b[0m     \u001b[0;32mif\u001b[0m \u001b[0mmax_dist\u001b[0m \u001b[0;34m>=\u001b[0m \u001b[0mfirst_dist\u001b[0m\u001b[0;34m:\u001b[0m\u001b[0;34m\u001b[0m\u001b[0;34m\u001b[0m\u001b[0m\n\u001b[1;32m    164\u001b[0m         min_dist = np.minimum(min_dist, first_dist + greedy_match_embs(\n\u001b[0;32m--> 165\u001b[0;31m             \u001b[0ma\u001b[0m\u001b[0;34m,\u001b[0m \u001b[0mb\u001b[0m\u001b[0;34m,\u001b[0m \u001b[0mmax_dist\u001b[0m\u001b[0;34m,\u001b[0m \u001b[0mcache\u001b[0m\u001b[0;34m,\u001b[0m \u001b[0ma_ind\u001b[0m \u001b[0;34m+\u001b[0m \u001b[0;36m1\u001b[0m\u001b[0;34m,\u001b[0m \u001b[0mb_ind\u001b[0m \u001b[0;34m+\u001b[0m \u001b[0;36m1\u001b[0m\u001b[0;34m\u001b[0m\u001b[0;34m\u001b[0m\u001b[0m\n\u001b[0m\u001b[1;32m    166\u001b[0m         ))\n\u001b[1;32m    167\u001b[0m \u001b[0;34m\u001b[0m\u001b[0m\n",
            "\u001b[0;32m<ipython-input-4-56f93e6ea300>\u001b[0m in \u001b[0;36mgreedy_match_embs\u001b[0;34m(a, b, max_dist, cache, a_ind, b_ind)\u001b[0m\n\u001b[1;32m    168\u001b[0m     \u001b[0;32mif\u001b[0m \u001b[0mfirst_dist\u001b[0m \u001b[0;34m>\u001b[0m \u001b[0;36m0\u001b[0m \u001b[0;32mand\u001b[0m \u001b[0mmax_dist\u001b[0m \u001b[0;34m>=\u001b[0m \u001b[0;36m1\u001b[0m\u001b[0;34m:\u001b[0m\u001b[0;34m\u001b[0m\u001b[0;34m\u001b[0m\u001b[0m\n\u001b[1;32m    169\u001b[0m         min_dist = np.minimum(min_dist, 1 + greedy_match_embs(\n\u001b[0;32m--> 170\u001b[0;31m             \u001b[0ma\u001b[0m\u001b[0;34m,\u001b[0m \u001b[0mb\u001b[0m\u001b[0;34m,\u001b[0m \u001b[0mmax_dist\u001b[0m\u001b[0;34m,\u001b[0m \u001b[0mcache\u001b[0m\u001b[0;34m,\u001b[0m \u001b[0ma_ind\u001b[0m \u001b[0;34m+\u001b[0m \u001b[0;36m1\u001b[0m\u001b[0;34m,\u001b[0m \u001b[0mb_ind\u001b[0m\u001b[0;34m\u001b[0m\u001b[0;34m\u001b[0m\u001b[0m\n\u001b[0m\u001b[1;32m    171\u001b[0m         ))\n\u001b[1;32m    172\u001b[0m         min_dist = np.minimum(min_dist, 1 + greedy_match_embs(\n",
            "\u001b[0;32m<ipython-input-4-56f93e6ea300>\u001b[0m in \u001b[0;36mgreedy_match_embs\u001b[0;34m(a, b, max_dist, cache, a_ind, b_ind)\u001b[0m\n\u001b[1;32m    168\u001b[0m     \u001b[0;32mif\u001b[0m \u001b[0mfirst_dist\u001b[0m \u001b[0;34m>\u001b[0m \u001b[0;36m0\u001b[0m \u001b[0;32mand\u001b[0m \u001b[0mmax_dist\u001b[0m \u001b[0;34m>=\u001b[0m \u001b[0;36m1\u001b[0m\u001b[0;34m:\u001b[0m\u001b[0;34m\u001b[0m\u001b[0;34m\u001b[0m\u001b[0m\n\u001b[1;32m    169\u001b[0m         min_dist = np.minimum(min_dist, 1 + greedy_match_embs(\n\u001b[0;32m--> 170\u001b[0;31m             \u001b[0ma\u001b[0m\u001b[0;34m,\u001b[0m \u001b[0mb\u001b[0m\u001b[0;34m,\u001b[0m \u001b[0mmax_dist\u001b[0m\u001b[0;34m,\u001b[0m \u001b[0mcache\u001b[0m\u001b[0;34m,\u001b[0m \u001b[0ma_ind\u001b[0m \u001b[0;34m+\u001b[0m \u001b[0;36m1\u001b[0m\u001b[0;34m,\u001b[0m \u001b[0mb_ind\u001b[0m\u001b[0;34m\u001b[0m\u001b[0;34m\u001b[0m\u001b[0m\n\u001b[0m\u001b[1;32m    171\u001b[0m         ))\n\u001b[1;32m    172\u001b[0m         min_dist = np.minimum(min_dist, 1 + greedy_match_embs(\n",
            "\u001b[0;32m<ipython-input-4-56f93e6ea300>\u001b[0m in \u001b[0;36mgreedy_match_embs\u001b[0;34m(a, b, max_dist, cache, a_ind, b_ind)\u001b[0m\n\u001b[1;32m    160\u001b[0m     \u001b[0mmin_dist\u001b[0m \u001b[0;34m=\u001b[0m \u001b[0mmax_dist\u001b[0m\u001b[0;34m\u001b[0m\u001b[0;34m\u001b[0m\u001b[0m\n\u001b[1;32m    161\u001b[0m \u001b[0;34m\u001b[0m\u001b[0m\n\u001b[0;32m--> 162\u001b[0;31m     \u001b[0mfirst_dist\u001b[0m \u001b[0;34m=\u001b[0m \u001b[0mcalc_single_embedding_dist\u001b[0m\u001b[0;34m(\u001b[0m\u001b[0ma\u001b[0m\u001b[0;34m[\u001b[0m\u001b[0ma_ind\u001b[0m\u001b[0;34m]\u001b[0m\u001b[0;34m,\u001b[0m \u001b[0mb\u001b[0m\u001b[0;34m[\u001b[0m\u001b[0mb_ind\u001b[0m\u001b[0;34m]\u001b[0m\u001b[0;34m)\u001b[0m\u001b[0;34m\u001b[0m\u001b[0;34m\u001b[0m\u001b[0m\n\u001b[0m\u001b[1;32m    163\u001b[0m     \u001b[0;32mif\u001b[0m \u001b[0mmax_dist\u001b[0m \u001b[0;34m>=\u001b[0m \u001b[0mfirst_dist\u001b[0m\u001b[0;34m:\u001b[0m\u001b[0;34m\u001b[0m\u001b[0;34m\u001b[0m\u001b[0m\n\u001b[1;32m    164\u001b[0m         min_dist = np.minimum(min_dist, first_dist + greedy_match_embs(\n",
            "\u001b[0;32m<ipython-input-4-56f93e6ea300>\u001b[0m in \u001b[0;36mcalc_single_embedding_dist\u001b[0;34m(a, b)\u001b[0m\n\u001b[1;32m    138\u001b[0m     \u001b[0mb\u001b[0m \u001b[0;34m=\u001b[0m \u001b[0mb_v\u001b[0m\u001b[0;34m\u001b[0m\u001b[0;34m\u001b[0m\u001b[0m\n\u001b[1;32m    139\u001b[0m     \u001b[0;31m# inexact match is punished by 0.1\u001b[0m\u001b[0;34m\u001b[0m\u001b[0;34m\u001b[0m\u001b[0;34m\u001b[0m\u001b[0m\n\u001b[0;32m--> 140\u001b[0;31m     \u001b[0;32mreturn\u001b[0m \u001b[0;36m0.1\u001b[0m \u001b[0;34m+\u001b[0m \u001b[0;36m0.9\u001b[0m \u001b[0;34m*\u001b[0m \u001b[0;34m(\u001b[0m\u001b[0;36m1\u001b[0m \u001b[0;34m-\u001b[0m \u001b[0ma\u001b[0m\u001b[0;34m.\u001b[0m\u001b[0mdot\u001b[0m\u001b[0;34m(\u001b[0m\u001b[0mb\u001b[0m\u001b[0;34m)\u001b[0m \u001b[0;34m/\u001b[0m \u001b[0mnp\u001b[0m\u001b[0;34m.\u001b[0m\u001b[0mlinalg\u001b[0m\u001b[0;34m.\u001b[0m\u001b[0mnorm\u001b[0m\u001b[0;34m(\u001b[0m\u001b[0ma\u001b[0m\u001b[0;34m)\u001b[0m \u001b[0;34m/\u001b[0m \u001b[0mnp\u001b[0m\u001b[0;34m.\u001b[0m\u001b[0mlinalg\u001b[0m\u001b[0;34m.\u001b[0m\u001b[0mnorm\u001b[0m\u001b[0;34m(\u001b[0m\u001b[0mb\u001b[0m\u001b[0;34m)\u001b[0m\u001b[0;34m)\u001b[0m \u001b[0;34m/\u001b[0m \u001b[0;36m2\u001b[0m\u001b[0;34m\u001b[0m\u001b[0;34m\u001b[0m\u001b[0m\n\u001b[0m\u001b[1;32m    141\u001b[0m \u001b[0;34m\u001b[0m\u001b[0m\n\u001b[1;32m    142\u001b[0m \u001b[0;34m\u001b[0m\u001b[0m\n",
            "\u001b[0;32m<__array_function__ internals>\u001b[0m in \u001b[0;36mnorm\u001b[0;34m(*args, **kwargs)\u001b[0m\n",
            "\u001b[0;32m/usr/local/lib/python3.7/dist-packages/numpy/linalg/linalg.py\u001b[0m in \u001b[0;36mnorm\u001b[0;34m(x, ord, axis, keepdims)\u001b[0m\n\u001b[1;32m   2512\u001b[0m \u001b[0;34m\u001b[0m\u001b[0m\n\u001b[1;32m   2513\u001b[0m     \"\"\"\n\u001b[0;32m-> 2514\u001b[0;31m     \u001b[0mx\u001b[0m \u001b[0;34m=\u001b[0m \u001b[0masarray\u001b[0m\u001b[0;34m(\u001b[0m\u001b[0mx\u001b[0m\u001b[0;34m)\u001b[0m\u001b[0;34m\u001b[0m\u001b[0;34m\u001b[0m\u001b[0m\n\u001b[0m\u001b[1;32m   2515\u001b[0m \u001b[0;34m\u001b[0m\u001b[0m\n\u001b[1;32m   2516\u001b[0m     \u001b[0;32mif\u001b[0m \u001b[0;32mnot\u001b[0m \u001b[0missubclass\u001b[0m\u001b[0;34m(\u001b[0m\u001b[0mx\u001b[0m\u001b[0;34m.\u001b[0m\u001b[0mdtype\u001b[0m\u001b[0;34m.\u001b[0m\u001b[0mtype\u001b[0m\u001b[0;34m,\u001b[0m \u001b[0;34m(\u001b[0m\u001b[0minexact\u001b[0m\u001b[0;34m,\u001b[0m \u001b[0mobject_\u001b[0m\u001b[0;34m)\u001b[0m\u001b[0;34m)\u001b[0m\u001b[0;34m:\u001b[0m\u001b[0;34m\u001b[0m\u001b[0;34m\u001b[0m\u001b[0m\n",
            "\u001b[0;32m/usr/local/lib/python3.7/dist-packages/numpy/core/_asarray.py\u001b[0m in \u001b[0;36masarray\u001b[0;34m(a, dtype, order)\u001b[0m\n\u001b[1;32m     12\u001b[0m ]\n\u001b[1;32m     13\u001b[0m \u001b[0;34m\u001b[0m\u001b[0m\n\u001b[0;32m---> 14\u001b[0;31m \u001b[0;34m@\u001b[0m\u001b[0mset_module\u001b[0m\u001b[0;34m(\u001b[0m\u001b[0;34m'numpy'\u001b[0m\u001b[0;34m)\u001b[0m\u001b[0;34m\u001b[0m\u001b[0;34m\u001b[0m\u001b[0m\n\u001b[0m\u001b[1;32m     15\u001b[0m \u001b[0;32mdef\u001b[0m \u001b[0masarray\u001b[0m\u001b[0;34m(\u001b[0m\u001b[0ma\u001b[0m\u001b[0;34m,\u001b[0m \u001b[0mdtype\u001b[0m\u001b[0;34m=\u001b[0m\u001b[0;32mNone\u001b[0m\u001b[0;34m,\u001b[0m \u001b[0morder\u001b[0m\u001b[0;34m=\u001b[0m\u001b[0;32mNone\u001b[0m\u001b[0;34m)\u001b[0m\u001b[0;34m:\u001b[0m\u001b[0;34m\u001b[0m\u001b[0;34m\u001b[0m\u001b[0m\n\u001b[1;32m     16\u001b[0m     \"\"\"Convert the input to an array.\n",
            "\u001b[0;31mKeyboardInterrupt\u001b[0m: "
          ]
        }
      ]
    },
    {
      "cell_type": "markdown",
      "metadata": {
        "id": "5RQLQX4LJVHn"
      },
      "source": [
        "#Сравнение решений:"
      ],
      "id": "5RQLQX4LJVHn"
    },
    {
      "cell_type": "code",
      "metadata": {
        "colab": {
          "base_uri": "https://localhost:8080/"
        },
        "id": "nis-msVOK7S2",
        "outputId": "b33f8c55-0f0c-45c2-d613-b07832d317c0"
      },
      "source": [
        "print(len(texts))\n",
        "print(len(kirill))\n",
        "print(len(valya))"
      ],
      "id": "nis-msVOK7S2",
      "execution_count": null,
      "outputs": [
        {
          "output_type": "stream",
          "name": "stdout",
          "text": [
            "2500\n",
            "2500\n",
            "2500\n"
          ]
        }
      ]
    },
    {
      "cell_type": "code",
      "metadata": {
        "colab": {
          "base_uri": "https://localhost:8080/",
          "height": 133,
          "referenced_widgets": [
            "4bbc1102089b4ca4ba9f98053920f71c",
            "02f20c2991a7487698a75827d5af5793",
            "79c81e608fae4f228a6f0f5a8741e781",
            "f8e1fc8aabb448bca71ff17630373f4e",
            "a863365913e347c889dde0453477e3cd",
            "e4fa5d4a844a4714bafbd0ad93b34d06",
            "d5a8ae5b83214a6abfd82c40a5a3cf1f",
            "c774b0e4c4f84dfbb865c9b44a333b08",
            "636d35815afc4bd6969a1cfedac2f3d3",
            "a2924ad0ec5b497bbe3576134ee5ba28",
            "cec2a43d64cb43d5be1216554ccc14de"
          ]
        },
        "id": "atV-N0w0JUcb",
        "outputId": "23d4af5c-a93c-4b20-bacb-5c0ab0dbc7e1"
      },
      "source": [
        "valya = []\n",
        "kirill = []\n",
        "count_valya = 0\n",
        "count_kirill = 0 \n",
        "\n",
        "with open(DRIVE_PATH + 'submits/bruteforce_hard_2_part.txt', 'rt') as f:\n",
        "    for line in f:\n",
        "        valya.append(line) \n",
        "\n",
        "with open(DRIVE_PATH + 'submits/full_thanks.txt', 'rt') as f:\n",
        "    for line in f:\n",
        "        kirill.append(line) \n",
        "\n",
        "super_result = []\n",
        "for i in tqdm(range(2500)):\n",
        "    kirill_score =  new_checker([texts[i]], [kirill[i]])\n",
        "    valya_score = new_checker([texts[i]], [valya[i]])\n",
        "    if valya_score > kirill_score:\n",
        "        count_valya += 1\n",
        "        super_result.append(valya[i])\n",
        "        #print(valya_score,kirill_score, \"Валя\")\n",
        "    else:\n",
        "        count_kirill += 1\n",
        "        super_result.append(kirill[i])\n",
        "        #print(valya_score, kirill_score, \"Кирилл\")\n",
        "\n",
        "    \n",
        "\n",
        "print(count_valya, count_kirill)\n",
        "new_checker(texts, super_result, show_res = True)"
      ],
      "id": "atV-N0w0JUcb",
      "execution_count": null,
      "outputs": [
        {
          "output_type": "display_data",
          "data": {
            "application/vnd.jupyter.widget-view+json": {
              "model_id": "4bbc1102089b4ca4ba9f98053920f71c",
              "version_minor": 0,
              "version_major": 2
            },
            "text/plain": [
              "  0%|          | 0/2500 [00:00<?, ?it/s]"
            ]
          },
          "metadata": {}
        },
        {
          "output_type": "stream",
          "name": "stdout",
          "text": [
            "686 1814\n"
          ]
        },
        {
          "output_type": "stream",
          "name": "stderr",
          "text": [
            "average toxicity: 0.31801412\n",
            "mean lmdiff: 0.9771276972705748\n",
            "mean distance_score: 0.755816421040236\n"
          ]
        },
        {
          "output_type": "execute_result",
          "data": {
            "text/plain": [
              "51.008772758835654"
            ]
          },
          "metadata": {},
          "execution_count": 39
        }
      ]
    },
    {
      "cell_type": "code",
      "metadata": {
        "colab": {
          "base_uri": "https://localhost:8080/",
          "height": 133,
          "referenced_widgets": [
            "85bfd997a71b49cca266229678449f77",
            "659eca075d8949179af34b8b468b5e78",
            "54cf78b92d9f44d4a37e381f80b3796c",
            "362990f31cf04d618aab493221bfc9f7",
            "d1648e7ec0884fbf96f61b6d2480099a",
            "7700a81a92404e6c9c4a5362a4490d89",
            "1d0068a8b41541ce8ccc0ac731341fa5",
            "8aa950d673854502a2bf9e69ee37cee2",
            "bb03ecade6b84169bb0d5a3a7e5e9497",
            "80e174e803564f5b8bfbac6909d1e94e",
            "8412162f60fb4d24acb59a31f330eda3"
          ]
        },
        "id": "pj3uPXRzL-qH",
        "outputId": "4c59ca83-402b-4ece-8f23-449a0b3fe30b"
      },
      "source": [
        "ultimate_solution = []\n",
        "\n",
        "names = os.listdir(path=\"/content/drive/MyDrive/YandexCup/submits\")\n",
        "names.remove('.ipynb_checkpoints')\n",
        "solutions = {name : [] for name in names}\n",
        "count = {name : 0 for name in names}\n",
        "\n",
        "#reading submits\n",
        "for name in names:\n",
        "    sol = []\n",
        "    with open(DRIVE_PATH + f'submits/{name}', 'rt') as f:\n",
        "        for line in f:\n",
        "            sol.append(line)\n",
        "\n",
        "    solutions[name] = sol[:]\n",
        "\n",
        "for i in tqdm(range(len(texts))):\n",
        "    scores = {name : 0 for name in names}\n",
        "    for name in names:\n",
        "        scores[name] = new_checker([texts[i]], [solutions[name][i]])\n",
        "\n",
        "    best_sol_name = max(scores, key=scores.get)\n",
        "    count[best_sol_name] += 1\n",
        "    ultimate_solution.append(solutions[best_sol_name][i])\n",
        "\n",
        "\n",
        "print(count)\n",
        "new_checker(texts, ultimate_solution, show_res = True)"
      ],
      "id": "pj3uPXRzL-qH",
      "execution_count": 54,
      "outputs": [
        {
          "output_type": "display_data",
          "data": {
            "application/vnd.jupyter.widget-view+json": {
              "model_id": "85bfd997a71b49cca266229678449f77",
              "version_minor": 0,
              "version_major": 2
            },
            "text/plain": [
              "  0%|          | 0/2500 [00:00<?, ?it/s]"
            ]
          },
          "metadata": {}
        },
        {
          "output_type": "stream",
          "name": "stdout",
          "text": [
            "{'full_thanks.txt': 1799, 'bruteforce_hard_2_part.txt': 678, 'baseline_fixed.txt': 23}\n"
          ]
        },
        {
          "output_type": "stream",
          "name": "stderr",
          "text": [
            "average toxicity: 0.3179067\n",
            "mean lmdiff: 0.9768850084694263\n",
            "mean distance_score: 0.7562078477510983\n"
          ]
        },
        {
          "output_type": "execute_result",
          "data": {
            "text/plain": [
              "51.05801094280974"
            ]
          },
          "metadata": {},
          "execution_count": 54
        }
      ]
    },
    {
      "cell_type": "code",
      "metadata": {
        "colab": {
          "base_uri": "https://localhost:8080/"
        },
        "id": "wulgUxCJOJAr",
        "outputId": "4f07b068-f84e-44bc-f9cf-d0e659915da5"
      },
      "source": [
        "\n",
        "for j in range(len(names)):\n",
        "    print(solutions[j][125])  "
      ],
      "id": "wulgUxCJOJAr",
      "execution_count": 48,
      "outputs": [
        {
          "output_type": "stream",
          "name": "stdout",
          "text": [
            "о и у меня есть такие друзья жаль что редко видимся и прощаемся рыдаем всем желаю таких же\n",
            "\n",
            "о и у меня есть такие друзья жаль что редко видимся и прощаемся рыдаем всем желаю таких же\n",
            "\n",
            "о и у меня есть такие друзья жаль что редко видимся и прощаемся рыдаем всем желаю таких же\n",
            "\n",
            "о и у меня есть такие друзья жаль что редко видимся и прощаемся рыдаем всем желаю таких же\n",
            "\n",
            "о и у меня есть такие друзья жаль что редко видимся и прощаемся рыдаем всем желаю таких же\n",
            "\n",
            "о и у меня есть такие друзья жаль что редко видимся и прощаемся рыдаем всем желаю таких же\n",
            "\n",
            "о и у меня есть такие друзья жаль что редко видимся и прощаемся рыдаем всем желаю таких же\n",
            "\n",
            "о и у меня есть такие друзья спасибо что редко видимся и прощаемся рыдаем всем желаю таких же\n",
            "\n",
            "о и у меня есть такие друзья жаль что редко видимся и прощаемся рыдаем всем желаю таких же\n",
            "\n"
          ]
        }
      ]
    },
    {
      "cell_type": "code",
      "metadata": {
        "id": "cwUpNIWNR58l"
      },
      "source": [
        "o = Original[2]\n",
        "d = Detoxed[2]\n",
        "print(o, d)\n",
        "print(distance_score(o, d))"
      ],
      "id": "cwUpNIWNR58l",
      "execution_count": null,
      "outputs": []
    },
    {
      "cell_type": "code",
      "metadata": {
        "id": "bkSTy4lhnQ5m"
      },
      "source": [
        "fixed_texts = list(map(detox_dumb, tqdm(texts)))\n",
        "\n",
        "with open(DRIVE_PATH + 'submits/full_thanks.txt', 'wt') as f:\n",
        "    for text in fixed_texts:\n",
        "        print(text, file=f)\n",
        "\n",
        "new_checker(texts, fixed_texts, show_res = True)"
      ],
      "id": "bkSTy4lhnQ5m",
      "execution_count": null,
      "outputs": []
    },
    {
      "cell_type": "code",
      "metadata": {
        "id": "eA4ZdcdtnQ5n"
      },
      "source": [
        "with open(DRIVE_PATH + 'submits/non_toxic_very_smart.txt', 'wt') as f:\n",
        "    for text in fixed_texts:\n",
        "        print(text, file=f)"
      ],
      "id": "eA4ZdcdtnQ5n",
      "execution_count": null,
      "outputs": []
    },
    {
      "cell_type": "code",
      "metadata": {
        "id": "dzoU5lBQnZwz"
      },
      "source": [
        "valya = []\n",
        "count_valya = 0\n",
        "count_kirill = 0 \n",
        "\n",
        "with open(DRIVE_PATH + 'submits/bruteforce_hard_2_part.txt', 'rt') as f:\n",
        "    for line in f:\n",
        "        valya.append(line) \n"
      ],
      "id": "dzoU5lBQnZwz",
      "execution_count": null,
      "outputs": []
    },
    {
      "cell_type": "code",
      "metadata": {
        "id": "GhT41OqZoJT7"
      },
      "source": [
        "new_checker(texts[:len(detoxed)], detoxed, show_res = True)"
      ],
      "id": "GhT41OqZoJT7",
      "execution_count": null,
      "outputs": []
    },
    {
      "cell_type": "code",
      "metadata": {
        "id": "d3ReNVfgxAzv"
      },
      "source": [
        "original_texts = []\n",
        "\n",
        "with open(DRIVE_PATH + 'public_testset.txt', 'rt') as f:\n",
        "    for line in f:\n",
        "        original_texts.append(normalize(line))\n",
        "\n",
        "text_for_eval = []\n",
        "with open(DRIVE_PATH + 'submits/sorted_fixed.txt', 'rt') as f:\n",
        "    for line in f:\n",
        "        text_for_eval.append(normalize(line))\n",
        "\n",
        "\n",
        "new_checker(original_texts, text_for_eval)"
      ],
      "id": "d3ReNVfgxAzv",
      "execution_count": null,
      "outputs": []
    },
    {
      "cell_type": "markdown",
      "metadata": {
        "id": "ZaeTPVTznQ5n"
      },
      "source": [
        "Скор, если никак не изменять комментарии:"
      ],
      "id": "ZaeTPVTznQ5n"
    },
    {
      "cell_type": "code",
      "metadata": {
        "id": "zUECywWdnQ5n"
      },
      "source": [
        "!python3.7 score.py public_testset.short.txt public_testset.short.txt  --embeddings embeddings_with_lemmas.npz --lm lm.binary --model ./trained_roberta/ --device cuda --score -"
      ],
      "id": "zUECywWdnQ5n",
      "execution_count": null,
      "outputs": []
    },
    {
      "cell_type": "markdown",
      "metadata": {
        "id": "zllBqVOZnQ5o"
      },
      "source": [
        "Скор бейзлайна:"
      ],
      "id": "zllBqVOZnQ5o"
    },
    {
      "cell_type": "code",
      "metadata": {
        "id": "pQngkQdLnQ5o"
      },
      "source": [
        "!python3.7 score.py public_testset.short.txt baseline_fixed.txt  --embeddings embeddings_with_lemmas.npz --lm lm.binary --model ./trained_roberta/ --device cuda --score -"
      ],
      "id": "pQngkQdLnQ5o",
      "execution_count": null,
      "outputs": []
    },
    {
      "cell_type": "markdown",
      "metadata": {
        "id": "7wtXSZn0nQ5p"
      },
      "source": [
        "Сохраним данные для бейзлайна online-задачи"
      ],
      "id": "7wtXSZn0nQ5p"
    },
    {
      "cell_type": "markdown",
      "metadata": {
        "id": "1Iis-3crv-zT"
      },
      "source": [
        "##Для Online-решения"
      ],
      "id": "1Iis-3crv-zT"
    },
    {
      "cell_type": "code",
      "metadata": {
        "id": "R-OmT57snQ5p"
      },
      "source": [
        "!mkdir -p online_baseline"
      ],
      "id": "R-OmT57snQ5p",
      "execution_count": null,
      "outputs": []
    },
    {
      "cell_type": "code",
      "metadata": {
        "id": "FrI00hyYnQ5p"
      },
      "source": [
        "import pickle as pkl\n",
        "\n",
        "with open('./online_baseline/data.pkl', 'wb') as f:\n",
        "    pkl.dump(toxicity, f)\n",
        "    pkl.dump(nontoxic_emb_inds, f)"
      ],
      "id": "FrI00hyYnQ5p",
      "execution_count": null,
      "outputs": []
    }
  ]
}