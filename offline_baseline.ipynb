{
  "nbformat": 4,
  "nbformat_minor": 5,
  "metadata": {
    "accelerator": "GPU",
    "colab": {
      "name": "offline_baseline.ipynb",
      "provenance": [],
      "collapsed_sections": [
        "1Iis-3crv-zT"
      ]
    },
    "kernelspec": {
      "display_name": "Python 3",
      "language": "python",
      "name": "python3"
    },
    "language_info": {
      "codemirror_mode": {
        "name": "ipython",
        "version": 3
      },
      "file_extension": ".py",
      "mimetype": "text/x-python",
      "name": "python",
      "nbconvert_exporter": "python",
      "pygments_lexer": "ipython3",
      "version": "3.7.9"
    },
    "widgets": {
      "application/vnd.jupyter.widget-state+json": {
        "0f3d54f5e4014ee1afda07c3cb108212": {
          "model_module": "@jupyter-widgets/controls",
          "model_name": "HBoxModel",
          "model_module_version": "1.5.0",
          "state": {
            "_view_name": "HBoxView",
            "_dom_classes": [],
            "_model_name": "HBoxModel",
            "_view_module": "@jupyter-widgets/controls",
            "_model_module_version": "1.5.0",
            "_view_count": null,
            "_view_module_version": "1.5.0",
            "box_style": "",
            "layout": "IPY_MODEL_96586df867c449a7a6d47b4e8b1d4a39",
            "_model_module": "@jupyter-widgets/controls",
            "children": [
              "IPY_MODEL_9bd0aa1d911c47e485905250d121fba5",
              "IPY_MODEL_462acab8f0d849b0b861c81ccf640c1b",
              "IPY_MODEL_2389973b9a49461e9beadefb72b4b8ea"
            ]
          }
        },
        "96586df867c449a7a6d47b4e8b1d4a39": {
          "model_module": "@jupyter-widgets/base",
          "model_name": "LayoutModel",
          "model_module_version": "1.2.0",
          "state": {
            "_view_name": "LayoutView",
            "grid_template_rows": null,
            "right": null,
            "justify_content": null,
            "_view_module": "@jupyter-widgets/base",
            "overflow": null,
            "_model_module_version": "1.2.0",
            "_view_count": null,
            "flex_flow": null,
            "width": null,
            "min_width": null,
            "border": null,
            "align_items": null,
            "bottom": null,
            "_model_module": "@jupyter-widgets/base",
            "top": null,
            "grid_column": null,
            "overflow_y": null,
            "overflow_x": null,
            "grid_auto_flow": null,
            "grid_area": null,
            "grid_template_columns": null,
            "flex": null,
            "_model_name": "LayoutModel",
            "justify_items": null,
            "grid_row": null,
            "max_height": null,
            "align_content": null,
            "visibility": null,
            "align_self": null,
            "height": null,
            "min_height": null,
            "padding": null,
            "grid_auto_rows": null,
            "grid_gap": null,
            "max_width": null,
            "order": null,
            "_view_module_version": "1.2.0",
            "grid_template_areas": null,
            "object_position": null,
            "object_fit": null,
            "grid_auto_columns": null,
            "margin": null,
            "display": null,
            "left": null
          }
        },
        "9bd0aa1d911c47e485905250d121fba5": {
          "model_module": "@jupyter-widgets/controls",
          "model_name": "HTMLModel",
          "model_module_version": "1.5.0",
          "state": {
            "_view_name": "HTMLView",
            "style": "IPY_MODEL_eca2c3604a7b491189fcf252855ce48a",
            "_dom_classes": [],
            "description": "",
            "_model_name": "HTMLModel",
            "placeholder": "​",
            "_view_module": "@jupyter-widgets/controls",
            "_model_module_version": "1.5.0",
            "value": "100%",
            "_view_count": null,
            "_view_module_version": "1.5.0",
            "description_tooltip": null,
            "_model_module": "@jupyter-widgets/controls",
            "layout": "IPY_MODEL_1073e3a33698441bbf0701264fdb5b6a"
          }
        },
        "462acab8f0d849b0b861c81ccf640c1b": {
          "model_module": "@jupyter-widgets/controls",
          "model_name": "FloatProgressModel",
          "model_module_version": "1.5.0",
          "state": {
            "_view_name": "ProgressView",
            "style": "IPY_MODEL_d0142b708d67462ba89394dcfbb341a3",
            "_dom_classes": [],
            "description": "",
            "_model_name": "FloatProgressModel",
            "bar_style": "success",
            "max": 25,
            "_view_module": "@jupyter-widgets/controls",
            "_model_module_version": "1.5.0",
            "value": 25,
            "_view_count": null,
            "_view_module_version": "1.5.0",
            "orientation": "horizontal",
            "min": 0,
            "description_tooltip": null,
            "_model_module": "@jupyter-widgets/controls",
            "layout": "IPY_MODEL_8a3b07e1a0aa4df4a228473ed52dfc7b"
          }
        },
        "2389973b9a49461e9beadefb72b4b8ea": {
          "model_module": "@jupyter-widgets/controls",
          "model_name": "HTMLModel",
          "model_module_version": "1.5.0",
          "state": {
            "_view_name": "HTMLView",
            "style": "IPY_MODEL_75c9fc228d904c64b4d8afb5567d6e90",
            "_dom_classes": [],
            "description": "",
            "_model_name": "HTMLModel",
            "placeholder": "​",
            "_view_module": "@jupyter-widgets/controls",
            "_model_module_version": "1.5.0",
            "value": " 25/25 [00:09&lt;00:00,  3.55it/s]",
            "_view_count": null,
            "_view_module_version": "1.5.0",
            "description_tooltip": null,
            "_model_module": "@jupyter-widgets/controls",
            "layout": "IPY_MODEL_dd31527d4b4d4672a8790d55cbf444a4"
          }
        },
        "eca2c3604a7b491189fcf252855ce48a": {
          "model_module": "@jupyter-widgets/controls",
          "model_name": "DescriptionStyleModel",
          "model_module_version": "1.5.0",
          "state": {
            "_view_name": "StyleView",
            "_model_name": "DescriptionStyleModel",
            "description_width": "",
            "_view_module": "@jupyter-widgets/base",
            "_model_module_version": "1.5.0",
            "_view_count": null,
            "_view_module_version": "1.2.0",
            "_model_module": "@jupyter-widgets/controls"
          }
        },
        "1073e3a33698441bbf0701264fdb5b6a": {
          "model_module": "@jupyter-widgets/base",
          "model_name": "LayoutModel",
          "model_module_version": "1.2.0",
          "state": {
            "_view_name": "LayoutView",
            "grid_template_rows": null,
            "right": null,
            "justify_content": null,
            "_view_module": "@jupyter-widgets/base",
            "overflow": null,
            "_model_module_version": "1.2.0",
            "_view_count": null,
            "flex_flow": null,
            "width": null,
            "min_width": null,
            "border": null,
            "align_items": null,
            "bottom": null,
            "_model_module": "@jupyter-widgets/base",
            "top": null,
            "grid_column": null,
            "overflow_y": null,
            "overflow_x": null,
            "grid_auto_flow": null,
            "grid_area": null,
            "grid_template_columns": null,
            "flex": null,
            "_model_name": "LayoutModel",
            "justify_items": null,
            "grid_row": null,
            "max_height": null,
            "align_content": null,
            "visibility": null,
            "align_self": null,
            "height": null,
            "min_height": null,
            "padding": null,
            "grid_auto_rows": null,
            "grid_gap": null,
            "max_width": null,
            "order": null,
            "_view_module_version": "1.2.0",
            "grid_template_areas": null,
            "object_position": null,
            "object_fit": null,
            "grid_auto_columns": null,
            "margin": null,
            "display": null,
            "left": null
          }
        },
        "d0142b708d67462ba89394dcfbb341a3": {
          "model_module": "@jupyter-widgets/controls",
          "model_name": "ProgressStyleModel",
          "model_module_version": "1.5.0",
          "state": {
            "_view_name": "StyleView",
            "_model_name": "ProgressStyleModel",
            "description_width": "",
            "_view_module": "@jupyter-widgets/base",
            "_model_module_version": "1.5.0",
            "_view_count": null,
            "_view_module_version": "1.2.0",
            "bar_color": null,
            "_model_module": "@jupyter-widgets/controls"
          }
        },
        "8a3b07e1a0aa4df4a228473ed52dfc7b": {
          "model_module": "@jupyter-widgets/base",
          "model_name": "LayoutModel",
          "model_module_version": "1.2.0",
          "state": {
            "_view_name": "LayoutView",
            "grid_template_rows": null,
            "right": null,
            "justify_content": null,
            "_view_module": "@jupyter-widgets/base",
            "overflow": null,
            "_model_module_version": "1.2.0",
            "_view_count": null,
            "flex_flow": null,
            "width": null,
            "min_width": null,
            "border": null,
            "align_items": null,
            "bottom": null,
            "_model_module": "@jupyter-widgets/base",
            "top": null,
            "grid_column": null,
            "overflow_y": null,
            "overflow_x": null,
            "grid_auto_flow": null,
            "grid_area": null,
            "grid_template_columns": null,
            "flex": null,
            "_model_name": "LayoutModel",
            "justify_items": null,
            "grid_row": null,
            "max_height": null,
            "align_content": null,
            "visibility": null,
            "align_self": null,
            "height": null,
            "min_height": null,
            "padding": null,
            "grid_auto_rows": null,
            "grid_gap": null,
            "max_width": null,
            "order": null,
            "_view_module_version": "1.2.0",
            "grid_template_areas": null,
            "object_position": null,
            "object_fit": null,
            "grid_auto_columns": null,
            "margin": null,
            "display": null,
            "left": null
          }
        },
        "75c9fc228d904c64b4d8afb5567d6e90": {
          "model_module": "@jupyter-widgets/controls",
          "model_name": "DescriptionStyleModel",
          "model_module_version": "1.5.0",
          "state": {
            "_view_name": "StyleView",
            "_model_name": "DescriptionStyleModel",
            "description_width": "",
            "_view_module": "@jupyter-widgets/base",
            "_model_module_version": "1.5.0",
            "_view_count": null,
            "_view_module_version": "1.2.0",
            "_model_module": "@jupyter-widgets/controls"
          }
        },
        "dd31527d4b4d4672a8790d55cbf444a4": {
          "model_module": "@jupyter-widgets/base",
          "model_name": "LayoutModel",
          "model_module_version": "1.2.0",
          "state": {
            "_view_name": "LayoutView",
            "grid_template_rows": null,
            "right": null,
            "justify_content": null,
            "_view_module": "@jupyter-widgets/base",
            "overflow": null,
            "_model_module_version": "1.2.0",
            "_view_count": null,
            "flex_flow": null,
            "width": null,
            "min_width": null,
            "border": null,
            "align_items": null,
            "bottom": null,
            "_model_module": "@jupyter-widgets/base",
            "top": null,
            "grid_column": null,
            "overflow_y": null,
            "overflow_x": null,
            "grid_auto_flow": null,
            "grid_area": null,
            "grid_template_columns": null,
            "flex": null,
            "_model_name": "LayoutModel",
            "justify_items": null,
            "grid_row": null,
            "max_height": null,
            "align_content": null,
            "visibility": null,
            "align_self": null,
            "height": null,
            "min_height": null,
            "padding": null,
            "grid_auto_rows": null,
            "grid_gap": null,
            "max_width": null,
            "order": null,
            "_view_module_version": "1.2.0",
            "grid_template_areas": null,
            "object_position": null,
            "object_fit": null,
            "grid_auto_columns": null,
            "margin": null,
            "display": null,
            "left": null
          }
        },
        "4653b17a958c4e2aa045d531c662cce4": {
          "model_module": "@jupyter-widgets/controls",
          "model_name": "HBoxModel",
          "model_module_version": "1.5.0",
          "state": {
            "_view_name": "HBoxView",
            "_dom_classes": [],
            "_model_name": "HBoxModel",
            "_view_module": "@jupyter-widgets/controls",
            "_model_module_version": "1.5.0",
            "_view_count": null,
            "_view_module_version": "1.5.0",
            "box_style": "",
            "layout": "IPY_MODEL_2baec400242c44b18d62eff5e616da0e",
            "_model_module": "@jupyter-widgets/controls",
            "children": [
              "IPY_MODEL_b8711237e4fb4b76ac0cded50881ec27",
              "IPY_MODEL_c0cc292877ca499cb0fa3a9d6bf8d07f",
              "IPY_MODEL_ebf0aacab8ed4b789a6b4170f686c61e"
            ]
          }
        },
        "2baec400242c44b18d62eff5e616da0e": {
          "model_module": "@jupyter-widgets/base",
          "model_name": "LayoutModel",
          "model_module_version": "1.2.0",
          "state": {
            "_view_name": "LayoutView",
            "grid_template_rows": null,
            "right": null,
            "justify_content": null,
            "_view_module": "@jupyter-widgets/base",
            "overflow": null,
            "_model_module_version": "1.2.0",
            "_view_count": null,
            "flex_flow": null,
            "width": null,
            "min_width": null,
            "border": null,
            "align_items": null,
            "bottom": null,
            "_model_module": "@jupyter-widgets/base",
            "top": null,
            "grid_column": null,
            "overflow_y": null,
            "overflow_x": null,
            "grid_auto_flow": null,
            "grid_area": null,
            "grid_template_columns": null,
            "flex": null,
            "_model_name": "LayoutModel",
            "justify_items": null,
            "grid_row": null,
            "max_height": null,
            "align_content": null,
            "visibility": null,
            "align_self": null,
            "height": null,
            "min_height": null,
            "padding": null,
            "grid_auto_rows": null,
            "grid_gap": null,
            "max_width": null,
            "order": null,
            "_view_module_version": "1.2.0",
            "grid_template_areas": null,
            "object_position": null,
            "object_fit": null,
            "grid_auto_columns": null,
            "margin": null,
            "display": null,
            "left": null
          }
        },
        "b8711237e4fb4b76ac0cded50881ec27": {
          "model_module": "@jupyter-widgets/controls",
          "model_name": "HTMLModel",
          "model_module_version": "1.5.0",
          "state": {
            "_view_name": "HTMLView",
            "style": "IPY_MODEL_1bacdab175f44affadf0e2aa79cf7310",
            "_dom_classes": [],
            "description": "",
            "_model_name": "HTMLModel",
            "placeholder": "​",
            "_view_module": "@jupyter-widgets/controls",
            "_model_module_version": "1.5.0",
            "value": "100%",
            "_view_count": null,
            "_view_module_version": "1.5.0",
            "description_tooltip": null,
            "_model_module": "@jupyter-widgets/controls",
            "layout": "IPY_MODEL_0addb8866b564908b5d15f88328749e0"
          }
        },
        "c0cc292877ca499cb0fa3a9d6bf8d07f": {
          "model_module": "@jupyter-widgets/controls",
          "model_name": "FloatProgressModel",
          "model_module_version": "1.5.0",
          "state": {
            "_view_name": "ProgressView",
            "style": "IPY_MODEL_d9393691621e4731bf66abb06d7e00fe",
            "_dom_classes": [],
            "description": "",
            "_model_name": "FloatProgressModel",
            "bar_style": "success",
            "max": 1627,
            "_view_module": "@jupyter-widgets/controls",
            "_model_module_version": "1.5.0",
            "value": 1627,
            "_view_count": null,
            "_view_module_version": "1.5.0",
            "orientation": "horizontal",
            "min": 0,
            "description_tooltip": null,
            "_model_module": "@jupyter-widgets/controls",
            "layout": "IPY_MODEL_700166427f094845a2c8ad1ecbadf7b7"
          }
        },
        "ebf0aacab8ed4b789a6b4170f686c61e": {
          "model_module": "@jupyter-widgets/controls",
          "model_name": "HTMLModel",
          "model_module_version": "1.5.0",
          "state": {
            "_view_name": "HTMLView",
            "style": "IPY_MODEL_37406be64fc444289bec80ee5355cebe",
            "_dom_classes": [],
            "description": "",
            "_model_name": "HTMLModel",
            "placeholder": "​",
            "_view_module": "@jupyter-widgets/controls",
            "_model_module_version": "1.5.0",
            "value": " 1627/1627.0 [01:09&lt;00:00, 21.84it/s]",
            "_view_count": null,
            "_view_module_version": "1.5.0",
            "description_tooltip": null,
            "_model_module": "@jupyter-widgets/controls",
            "layout": "IPY_MODEL_9cd8ae0250e040bcba76a33687a40043"
          }
        },
        "1bacdab175f44affadf0e2aa79cf7310": {
          "model_module": "@jupyter-widgets/controls",
          "model_name": "DescriptionStyleModel",
          "model_module_version": "1.5.0",
          "state": {
            "_view_name": "StyleView",
            "_model_name": "DescriptionStyleModel",
            "description_width": "",
            "_view_module": "@jupyter-widgets/base",
            "_model_module_version": "1.5.0",
            "_view_count": null,
            "_view_module_version": "1.2.0",
            "_model_module": "@jupyter-widgets/controls"
          }
        },
        "0addb8866b564908b5d15f88328749e0": {
          "model_module": "@jupyter-widgets/base",
          "model_name": "LayoutModel",
          "model_module_version": "1.2.0",
          "state": {
            "_view_name": "LayoutView",
            "grid_template_rows": null,
            "right": null,
            "justify_content": null,
            "_view_module": "@jupyter-widgets/base",
            "overflow": null,
            "_model_module_version": "1.2.0",
            "_view_count": null,
            "flex_flow": null,
            "width": null,
            "min_width": null,
            "border": null,
            "align_items": null,
            "bottom": null,
            "_model_module": "@jupyter-widgets/base",
            "top": null,
            "grid_column": null,
            "overflow_y": null,
            "overflow_x": null,
            "grid_auto_flow": null,
            "grid_area": null,
            "grid_template_columns": null,
            "flex": null,
            "_model_name": "LayoutModel",
            "justify_items": null,
            "grid_row": null,
            "max_height": null,
            "align_content": null,
            "visibility": null,
            "align_self": null,
            "height": null,
            "min_height": null,
            "padding": null,
            "grid_auto_rows": null,
            "grid_gap": null,
            "max_width": null,
            "order": null,
            "_view_module_version": "1.2.0",
            "grid_template_areas": null,
            "object_position": null,
            "object_fit": null,
            "grid_auto_columns": null,
            "margin": null,
            "display": null,
            "left": null
          }
        },
        "d9393691621e4731bf66abb06d7e00fe": {
          "model_module": "@jupyter-widgets/controls",
          "model_name": "ProgressStyleModel",
          "model_module_version": "1.5.0",
          "state": {
            "_view_name": "StyleView",
            "_model_name": "ProgressStyleModel",
            "description_width": "",
            "_view_module": "@jupyter-widgets/base",
            "_model_module_version": "1.5.0",
            "_view_count": null,
            "_view_module_version": "1.2.0",
            "bar_color": null,
            "_model_module": "@jupyter-widgets/controls"
          }
        },
        "700166427f094845a2c8ad1ecbadf7b7": {
          "model_module": "@jupyter-widgets/base",
          "model_name": "LayoutModel",
          "model_module_version": "1.2.0",
          "state": {
            "_view_name": "LayoutView",
            "grid_template_rows": null,
            "right": null,
            "justify_content": null,
            "_view_module": "@jupyter-widgets/base",
            "overflow": null,
            "_model_module_version": "1.2.0",
            "_view_count": null,
            "flex_flow": null,
            "width": null,
            "min_width": null,
            "border": null,
            "align_items": null,
            "bottom": null,
            "_model_module": "@jupyter-widgets/base",
            "top": null,
            "grid_column": null,
            "overflow_y": null,
            "overflow_x": null,
            "grid_auto_flow": null,
            "grid_area": null,
            "grid_template_columns": null,
            "flex": null,
            "_model_name": "LayoutModel",
            "justify_items": null,
            "grid_row": null,
            "max_height": null,
            "align_content": null,
            "visibility": null,
            "align_self": null,
            "height": null,
            "min_height": null,
            "padding": null,
            "grid_auto_rows": null,
            "grid_gap": null,
            "max_width": null,
            "order": null,
            "_view_module_version": "1.2.0",
            "grid_template_areas": null,
            "object_position": null,
            "object_fit": null,
            "grid_auto_columns": null,
            "margin": null,
            "display": null,
            "left": null
          }
        },
        "37406be64fc444289bec80ee5355cebe": {
          "model_module": "@jupyter-widgets/controls",
          "model_name": "DescriptionStyleModel",
          "model_module_version": "1.5.0",
          "state": {
            "_view_name": "StyleView",
            "_model_name": "DescriptionStyleModel",
            "description_width": "",
            "_view_module": "@jupyter-widgets/base",
            "_model_module_version": "1.5.0",
            "_view_count": null,
            "_view_module_version": "1.2.0",
            "_model_module": "@jupyter-widgets/controls"
          }
        },
        "9cd8ae0250e040bcba76a33687a40043": {
          "model_module": "@jupyter-widgets/base",
          "model_name": "LayoutModel",
          "model_module_version": "1.2.0",
          "state": {
            "_view_name": "LayoutView",
            "grid_template_rows": null,
            "right": null,
            "justify_content": null,
            "_view_module": "@jupyter-widgets/base",
            "overflow": null,
            "_model_module_version": "1.2.0",
            "_view_count": null,
            "flex_flow": null,
            "width": null,
            "min_width": null,
            "border": null,
            "align_items": null,
            "bottom": null,
            "_model_module": "@jupyter-widgets/base",
            "top": null,
            "grid_column": null,
            "overflow_y": null,
            "overflow_x": null,
            "grid_auto_flow": null,
            "grid_area": null,
            "grid_template_columns": null,
            "flex": null,
            "_model_name": "LayoutModel",
            "justify_items": null,
            "grid_row": null,
            "max_height": null,
            "align_content": null,
            "visibility": null,
            "align_self": null,
            "height": null,
            "min_height": null,
            "padding": null,
            "grid_auto_rows": null,
            "grid_gap": null,
            "max_width": null,
            "order": null,
            "_view_module_version": "1.2.0",
            "grid_template_areas": null,
            "object_position": null,
            "object_fit": null,
            "grid_auto_columns": null,
            "margin": null,
            "display": null,
            "left": null
          }
        },
        "3709e151bdf84645b3265afec919e23f": {
          "model_module": "@jupyter-widgets/controls",
          "model_name": "HBoxModel",
          "model_module_version": "1.5.0",
          "state": {
            "_view_name": "HBoxView",
            "_dom_classes": [],
            "_model_name": "HBoxModel",
            "_view_module": "@jupyter-widgets/controls",
            "_model_module_version": "1.5.0",
            "_view_count": null,
            "_view_module_version": "1.5.0",
            "box_style": "",
            "layout": "IPY_MODEL_02262f0d41a2463e8cec276f0872288a",
            "_model_module": "@jupyter-widgets/controls",
            "children": [
              "IPY_MODEL_8d58dbf0839e48129af89826a2017816",
              "IPY_MODEL_e6004e6cecf34a26b708b2db91ee08d3",
              "IPY_MODEL_c8283775049744d08aeb9e19b0c38e7c"
            ]
          }
        },
        "02262f0d41a2463e8cec276f0872288a": {
          "model_module": "@jupyter-widgets/base",
          "model_name": "LayoutModel",
          "model_module_version": "1.2.0",
          "state": {
            "_view_name": "LayoutView",
            "grid_template_rows": null,
            "right": null,
            "justify_content": null,
            "_view_module": "@jupyter-widgets/base",
            "overflow": null,
            "_model_module_version": "1.2.0",
            "_view_count": null,
            "flex_flow": null,
            "width": null,
            "min_width": null,
            "border": null,
            "align_items": null,
            "bottom": null,
            "_model_module": "@jupyter-widgets/base",
            "top": null,
            "grid_column": null,
            "overflow_y": null,
            "overflow_x": null,
            "grid_auto_flow": null,
            "grid_area": null,
            "grid_template_columns": null,
            "flex": null,
            "_model_name": "LayoutModel",
            "justify_items": null,
            "grid_row": null,
            "max_height": null,
            "align_content": null,
            "visibility": null,
            "align_self": null,
            "height": null,
            "min_height": null,
            "padding": null,
            "grid_auto_rows": null,
            "grid_gap": null,
            "max_width": null,
            "order": null,
            "_view_module_version": "1.2.0",
            "grid_template_areas": null,
            "object_position": null,
            "object_fit": null,
            "grid_auto_columns": null,
            "margin": null,
            "display": null,
            "left": null
          }
        },
        "8d58dbf0839e48129af89826a2017816": {
          "model_module": "@jupyter-widgets/controls",
          "model_name": "HTMLModel",
          "model_module_version": "1.5.0",
          "state": {
            "_view_name": "HTMLView",
            "style": "IPY_MODEL_c3acc5df151a40c997d1a7e152b64957",
            "_dom_classes": [],
            "description": "",
            "_model_name": "HTMLModel",
            "placeholder": "​",
            "_view_module": "@jupyter-widgets/controls",
            "_model_module_version": "1.5.0",
            "value": "100%",
            "_view_count": null,
            "_view_module_version": "1.5.0",
            "description_tooltip": null,
            "_model_module": "@jupyter-widgets/controls",
            "layout": "IPY_MODEL_b3099f1d266643f79a83056c00d449ab"
          }
        },
        "e6004e6cecf34a26b708b2db91ee08d3": {
          "model_module": "@jupyter-widgets/controls",
          "model_name": "FloatProgressModel",
          "model_module_version": "1.5.0",
          "state": {
            "_view_name": "ProgressView",
            "style": "IPY_MODEL_26ec9507114242909fe2cca05cdc2591",
            "_dom_classes": [],
            "description": "",
            "_model_name": "FloatProgressModel",
            "bar_style": "success",
            "max": 221,
            "_view_module": "@jupyter-widgets/controls",
            "_model_module_version": "1.5.0",
            "value": 221,
            "_view_count": null,
            "_view_module_version": "1.5.0",
            "orientation": "horizontal",
            "min": 0,
            "description_tooltip": null,
            "_model_module": "@jupyter-widgets/controls",
            "layout": "IPY_MODEL_4c6405cf34624e09b69379572de795a2"
          }
        },
        "c8283775049744d08aeb9e19b0c38e7c": {
          "model_module": "@jupyter-widgets/controls",
          "model_name": "HTMLModel",
          "model_module_version": "1.5.0",
          "state": {
            "_view_name": "HTMLView",
            "style": "IPY_MODEL_4d476e4270684f70937d543181e535c6",
            "_dom_classes": [],
            "description": "",
            "_model_name": "HTMLModel",
            "placeholder": "​",
            "_view_module": "@jupyter-widgets/controls",
            "_model_module_version": "1.5.0",
            "value": " 221/221.0 [00:08&lt;00:00, 26.26it/s]",
            "_view_count": null,
            "_view_module_version": "1.5.0",
            "description_tooltip": null,
            "_model_module": "@jupyter-widgets/controls",
            "layout": "IPY_MODEL_44edd3ceacad47b5a59d6c236f34918e"
          }
        },
        "c3acc5df151a40c997d1a7e152b64957": {
          "model_module": "@jupyter-widgets/controls",
          "model_name": "DescriptionStyleModel",
          "model_module_version": "1.5.0",
          "state": {
            "_view_name": "StyleView",
            "_model_name": "DescriptionStyleModel",
            "description_width": "",
            "_view_module": "@jupyter-widgets/base",
            "_model_module_version": "1.5.0",
            "_view_count": null,
            "_view_module_version": "1.2.0",
            "_model_module": "@jupyter-widgets/controls"
          }
        },
        "b3099f1d266643f79a83056c00d449ab": {
          "model_module": "@jupyter-widgets/base",
          "model_name": "LayoutModel",
          "model_module_version": "1.2.0",
          "state": {
            "_view_name": "LayoutView",
            "grid_template_rows": null,
            "right": null,
            "justify_content": null,
            "_view_module": "@jupyter-widgets/base",
            "overflow": null,
            "_model_module_version": "1.2.0",
            "_view_count": null,
            "flex_flow": null,
            "width": null,
            "min_width": null,
            "border": null,
            "align_items": null,
            "bottom": null,
            "_model_module": "@jupyter-widgets/base",
            "top": null,
            "grid_column": null,
            "overflow_y": null,
            "overflow_x": null,
            "grid_auto_flow": null,
            "grid_area": null,
            "grid_template_columns": null,
            "flex": null,
            "_model_name": "LayoutModel",
            "justify_items": null,
            "grid_row": null,
            "max_height": null,
            "align_content": null,
            "visibility": null,
            "align_self": null,
            "height": null,
            "min_height": null,
            "padding": null,
            "grid_auto_rows": null,
            "grid_gap": null,
            "max_width": null,
            "order": null,
            "_view_module_version": "1.2.0",
            "grid_template_areas": null,
            "object_position": null,
            "object_fit": null,
            "grid_auto_columns": null,
            "margin": null,
            "display": null,
            "left": null
          }
        },
        "26ec9507114242909fe2cca05cdc2591": {
          "model_module": "@jupyter-widgets/controls",
          "model_name": "ProgressStyleModel",
          "model_module_version": "1.5.0",
          "state": {
            "_view_name": "StyleView",
            "_model_name": "ProgressStyleModel",
            "description_width": "",
            "_view_module": "@jupyter-widgets/base",
            "_model_module_version": "1.5.0",
            "_view_count": null,
            "_view_module_version": "1.2.0",
            "bar_color": null,
            "_model_module": "@jupyter-widgets/controls"
          }
        },
        "4c6405cf34624e09b69379572de795a2": {
          "model_module": "@jupyter-widgets/base",
          "model_name": "LayoutModel",
          "model_module_version": "1.2.0",
          "state": {
            "_view_name": "LayoutView",
            "grid_template_rows": null,
            "right": null,
            "justify_content": null,
            "_view_module": "@jupyter-widgets/base",
            "overflow": null,
            "_model_module_version": "1.2.0",
            "_view_count": null,
            "flex_flow": null,
            "width": null,
            "min_width": null,
            "border": null,
            "align_items": null,
            "bottom": null,
            "_model_module": "@jupyter-widgets/base",
            "top": null,
            "grid_column": null,
            "overflow_y": null,
            "overflow_x": null,
            "grid_auto_flow": null,
            "grid_area": null,
            "grid_template_columns": null,
            "flex": null,
            "_model_name": "LayoutModel",
            "justify_items": null,
            "grid_row": null,
            "max_height": null,
            "align_content": null,
            "visibility": null,
            "align_self": null,
            "height": null,
            "min_height": null,
            "padding": null,
            "grid_auto_rows": null,
            "grid_gap": null,
            "max_width": null,
            "order": null,
            "_view_module_version": "1.2.0",
            "grid_template_areas": null,
            "object_position": null,
            "object_fit": null,
            "grid_auto_columns": null,
            "margin": null,
            "display": null,
            "left": null
          }
        },
        "4d476e4270684f70937d543181e535c6": {
          "model_module": "@jupyter-widgets/controls",
          "model_name": "DescriptionStyleModel",
          "model_module_version": "1.5.0",
          "state": {
            "_view_name": "StyleView",
            "_model_name": "DescriptionStyleModel",
            "description_width": "",
            "_view_module": "@jupyter-widgets/base",
            "_model_module_version": "1.5.0",
            "_view_count": null,
            "_view_module_version": "1.2.0",
            "_model_module": "@jupyter-widgets/controls"
          }
        },
        "44edd3ceacad47b5a59d6c236f34918e": {
          "model_module": "@jupyter-widgets/base",
          "model_name": "LayoutModel",
          "model_module_version": "1.2.0",
          "state": {
            "_view_name": "LayoutView",
            "grid_template_rows": null,
            "right": null,
            "justify_content": null,
            "_view_module": "@jupyter-widgets/base",
            "overflow": null,
            "_model_module_version": "1.2.0",
            "_view_count": null,
            "flex_flow": null,
            "width": null,
            "min_width": null,
            "border": null,
            "align_items": null,
            "bottom": null,
            "_model_module": "@jupyter-widgets/base",
            "top": null,
            "grid_column": null,
            "overflow_y": null,
            "overflow_x": null,
            "grid_auto_flow": null,
            "grid_area": null,
            "grid_template_columns": null,
            "flex": null,
            "_model_name": "LayoutModel",
            "justify_items": null,
            "grid_row": null,
            "max_height": null,
            "align_content": null,
            "visibility": null,
            "align_self": null,
            "height": null,
            "min_height": null,
            "padding": null,
            "grid_auto_rows": null,
            "grid_gap": null,
            "max_width": null,
            "order": null,
            "_view_module_version": "1.2.0",
            "grid_template_areas": null,
            "object_position": null,
            "object_fit": null,
            "grid_auto_columns": null,
            "margin": null,
            "display": null,
            "left": null
          }
        },
        "c49371a0679644e2bbedccd0bd63a1fe": {
          "model_module": "@jupyter-widgets/controls",
          "model_name": "HBoxModel",
          "model_module_version": "1.5.0",
          "state": {
            "_view_name": "HBoxView",
            "_dom_classes": [],
            "_model_name": "HBoxModel",
            "_view_module": "@jupyter-widgets/controls",
            "_model_module_version": "1.5.0",
            "_view_count": null,
            "_view_module_version": "1.5.0",
            "box_style": "",
            "layout": "IPY_MODEL_eb4a0bd027744de4b8311a091c2231fd",
            "_model_module": "@jupyter-widgets/controls",
            "children": [
              "IPY_MODEL_2d08b3e4a8e645c1ba9d2df4518c53cb",
              "IPY_MODEL_9147c46b9bd44f158263b9eaef09f520",
              "IPY_MODEL_5cbef45f96ec4185a2f8230e427b33b9"
            ]
          }
        },
        "eb4a0bd027744de4b8311a091c2231fd": {
          "model_module": "@jupyter-widgets/base",
          "model_name": "LayoutModel",
          "model_module_version": "1.2.0",
          "state": {
            "_view_name": "LayoutView",
            "grid_template_rows": null,
            "right": null,
            "justify_content": null,
            "_view_module": "@jupyter-widgets/base",
            "overflow": null,
            "_model_module_version": "1.2.0",
            "_view_count": null,
            "flex_flow": null,
            "width": null,
            "min_width": null,
            "border": null,
            "align_items": null,
            "bottom": null,
            "_model_module": "@jupyter-widgets/base",
            "top": null,
            "grid_column": null,
            "overflow_y": null,
            "overflow_x": null,
            "grid_auto_flow": null,
            "grid_area": null,
            "grid_template_columns": null,
            "flex": null,
            "_model_name": "LayoutModel",
            "justify_items": null,
            "grid_row": null,
            "max_height": null,
            "align_content": null,
            "visibility": null,
            "align_self": null,
            "height": null,
            "min_height": null,
            "padding": null,
            "grid_auto_rows": null,
            "grid_gap": null,
            "max_width": null,
            "order": null,
            "_view_module_version": "1.2.0",
            "grid_template_areas": null,
            "object_position": null,
            "object_fit": null,
            "grid_auto_columns": null,
            "margin": null,
            "display": null,
            "left": null
          }
        },
        "2d08b3e4a8e645c1ba9d2df4518c53cb": {
          "model_module": "@jupyter-widgets/controls",
          "model_name": "HTMLModel",
          "model_module_version": "1.5.0",
          "state": {
            "_view_name": "HTMLView",
            "style": "IPY_MODEL_1eb74dd3e48240f88333190c012b70cd",
            "_dom_classes": [],
            "description": "",
            "_model_name": "HTMLModel",
            "placeholder": "​",
            "_view_module": "@jupyter-widgets/controls",
            "_model_module_version": "1.5.0",
            "value": "100%",
            "_view_count": null,
            "_view_module_version": "1.5.0",
            "description_tooltip": null,
            "_model_module": "@jupyter-widgets/controls",
            "layout": "IPY_MODEL_ac6fd26c34d34a5fba09127247c159d6"
          }
        },
        "9147c46b9bd44f158263b9eaef09f520": {
          "model_module": "@jupyter-widgets/controls",
          "model_name": "FloatProgressModel",
          "model_module_version": "1.5.0",
          "state": {
            "_view_name": "ProgressView",
            "style": "IPY_MODEL_0d37b112be6648e6ba7a0f614a01abce",
            "_dom_classes": [],
            "description": "",
            "_model_name": "FloatProgressModel",
            "bar_style": "success",
            "max": 170,
            "_view_module": "@jupyter-widgets/controls",
            "_model_module_version": "1.5.0",
            "value": 170,
            "_view_count": null,
            "_view_module_version": "1.5.0",
            "orientation": "horizontal",
            "min": 0,
            "description_tooltip": null,
            "_model_module": "@jupyter-widgets/controls",
            "layout": "IPY_MODEL_1ad057f251e04f9fb4a3a5c1a1e68623"
          }
        },
        "5cbef45f96ec4185a2f8230e427b33b9": {
          "model_module": "@jupyter-widgets/controls",
          "model_name": "HTMLModel",
          "model_module_version": "1.5.0",
          "state": {
            "_view_name": "HTMLView",
            "style": "IPY_MODEL_548e2277eb1d4a0eaa4742ab6dc99495",
            "_dom_classes": [],
            "description": "",
            "_model_name": "HTMLModel",
            "placeholder": "​",
            "_view_module": "@jupyter-widgets/controls",
            "_model_module_version": "1.5.0",
            "value": " 170/170.0 [00:06&lt;00:00, 26.32it/s]",
            "_view_count": null,
            "_view_module_version": "1.5.0",
            "description_tooltip": null,
            "_model_module": "@jupyter-widgets/controls",
            "layout": "IPY_MODEL_5f0d235fb53b4149b6b06afa62e85130"
          }
        },
        "1eb74dd3e48240f88333190c012b70cd": {
          "model_module": "@jupyter-widgets/controls",
          "model_name": "DescriptionStyleModel",
          "model_module_version": "1.5.0",
          "state": {
            "_view_name": "StyleView",
            "_model_name": "DescriptionStyleModel",
            "description_width": "",
            "_view_module": "@jupyter-widgets/base",
            "_model_module_version": "1.5.0",
            "_view_count": null,
            "_view_module_version": "1.2.0",
            "_model_module": "@jupyter-widgets/controls"
          }
        },
        "ac6fd26c34d34a5fba09127247c159d6": {
          "model_module": "@jupyter-widgets/base",
          "model_name": "LayoutModel",
          "model_module_version": "1.2.0",
          "state": {
            "_view_name": "LayoutView",
            "grid_template_rows": null,
            "right": null,
            "justify_content": null,
            "_view_module": "@jupyter-widgets/base",
            "overflow": null,
            "_model_module_version": "1.2.0",
            "_view_count": null,
            "flex_flow": null,
            "width": null,
            "min_width": null,
            "border": null,
            "align_items": null,
            "bottom": null,
            "_model_module": "@jupyter-widgets/base",
            "top": null,
            "grid_column": null,
            "overflow_y": null,
            "overflow_x": null,
            "grid_auto_flow": null,
            "grid_area": null,
            "grid_template_columns": null,
            "flex": null,
            "_model_name": "LayoutModel",
            "justify_items": null,
            "grid_row": null,
            "max_height": null,
            "align_content": null,
            "visibility": null,
            "align_self": null,
            "height": null,
            "min_height": null,
            "padding": null,
            "grid_auto_rows": null,
            "grid_gap": null,
            "max_width": null,
            "order": null,
            "_view_module_version": "1.2.0",
            "grid_template_areas": null,
            "object_position": null,
            "object_fit": null,
            "grid_auto_columns": null,
            "margin": null,
            "display": null,
            "left": null
          }
        },
        "0d37b112be6648e6ba7a0f614a01abce": {
          "model_module": "@jupyter-widgets/controls",
          "model_name": "ProgressStyleModel",
          "model_module_version": "1.5.0",
          "state": {
            "_view_name": "StyleView",
            "_model_name": "ProgressStyleModel",
            "description_width": "",
            "_view_module": "@jupyter-widgets/base",
            "_model_module_version": "1.5.0",
            "_view_count": null,
            "_view_module_version": "1.2.0",
            "bar_color": null,
            "_model_module": "@jupyter-widgets/controls"
          }
        },
        "1ad057f251e04f9fb4a3a5c1a1e68623": {
          "model_module": "@jupyter-widgets/base",
          "model_name": "LayoutModel",
          "model_module_version": "1.2.0",
          "state": {
            "_view_name": "LayoutView",
            "grid_template_rows": null,
            "right": null,
            "justify_content": null,
            "_view_module": "@jupyter-widgets/base",
            "overflow": null,
            "_model_module_version": "1.2.0",
            "_view_count": null,
            "flex_flow": null,
            "width": null,
            "min_width": null,
            "border": null,
            "align_items": null,
            "bottom": null,
            "_model_module": "@jupyter-widgets/base",
            "top": null,
            "grid_column": null,
            "overflow_y": null,
            "overflow_x": null,
            "grid_auto_flow": null,
            "grid_area": null,
            "grid_template_columns": null,
            "flex": null,
            "_model_name": "LayoutModel",
            "justify_items": null,
            "grid_row": null,
            "max_height": null,
            "align_content": null,
            "visibility": null,
            "align_self": null,
            "height": null,
            "min_height": null,
            "padding": null,
            "grid_auto_rows": null,
            "grid_gap": null,
            "max_width": null,
            "order": null,
            "_view_module_version": "1.2.0",
            "grid_template_areas": null,
            "object_position": null,
            "object_fit": null,
            "grid_auto_columns": null,
            "margin": null,
            "display": null,
            "left": null
          }
        },
        "548e2277eb1d4a0eaa4742ab6dc99495": {
          "model_module": "@jupyter-widgets/controls",
          "model_name": "DescriptionStyleModel",
          "model_module_version": "1.5.0",
          "state": {
            "_view_name": "StyleView",
            "_model_name": "DescriptionStyleModel",
            "description_width": "",
            "_view_module": "@jupyter-widgets/base",
            "_model_module_version": "1.5.0",
            "_view_count": null,
            "_view_module_version": "1.2.0",
            "_model_module": "@jupyter-widgets/controls"
          }
        },
        "5f0d235fb53b4149b6b06afa62e85130": {
          "model_module": "@jupyter-widgets/base",
          "model_name": "LayoutModel",
          "model_module_version": "1.2.0",
          "state": {
            "_view_name": "LayoutView",
            "grid_template_rows": null,
            "right": null,
            "justify_content": null,
            "_view_module": "@jupyter-widgets/base",
            "overflow": null,
            "_model_module_version": "1.2.0",
            "_view_count": null,
            "flex_flow": null,
            "width": null,
            "min_width": null,
            "border": null,
            "align_items": null,
            "bottom": null,
            "_model_module": "@jupyter-widgets/base",
            "top": null,
            "grid_column": null,
            "overflow_y": null,
            "overflow_x": null,
            "grid_auto_flow": null,
            "grid_area": null,
            "grid_template_columns": null,
            "flex": null,
            "_model_name": "LayoutModel",
            "justify_items": null,
            "grid_row": null,
            "max_height": null,
            "align_content": null,
            "visibility": null,
            "align_self": null,
            "height": null,
            "min_height": null,
            "padding": null,
            "grid_auto_rows": null,
            "grid_gap": null,
            "max_width": null,
            "order": null,
            "_view_module_version": "1.2.0",
            "grid_template_areas": null,
            "object_position": null,
            "object_fit": null,
            "grid_auto_columns": null,
            "margin": null,
            "display": null,
            "left": null
          }
        },
        "9fe10e9284904cf3ba33e5fc2ad1b953": {
          "model_module": "@jupyter-widgets/controls",
          "model_name": "HBoxModel",
          "model_module_version": "1.5.0",
          "state": {
            "_view_name": "HBoxView",
            "_dom_classes": [],
            "_model_name": "HBoxModel",
            "_view_module": "@jupyter-widgets/controls",
            "_model_module_version": "1.5.0",
            "_view_count": null,
            "_view_module_version": "1.5.0",
            "box_style": "",
            "layout": "IPY_MODEL_7a7fe9f792aa4897adf4762042439435",
            "_model_module": "@jupyter-widgets/controls",
            "children": [
              "IPY_MODEL_48b184ae164c4b2e89bd57bfe5e4ca02",
              "IPY_MODEL_f5c80f9815e5437ea8b5222b19014d2a",
              "IPY_MODEL_38d939bdb4c74f04879804aeab6c0ae7"
            ]
          }
        },
        "7a7fe9f792aa4897adf4762042439435": {
          "model_module": "@jupyter-widgets/base",
          "model_name": "LayoutModel",
          "model_module_version": "1.2.0",
          "state": {
            "_view_name": "LayoutView",
            "grid_template_rows": null,
            "right": null,
            "justify_content": null,
            "_view_module": "@jupyter-widgets/base",
            "overflow": null,
            "_model_module_version": "1.2.0",
            "_view_count": null,
            "flex_flow": null,
            "width": null,
            "min_width": null,
            "border": null,
            "align_items": null,
            "bottom": null,
            "_model_module": "@jupyter-widgets/base",
            "top": null,
            "grid_column": null,
            "overflow_y": null,
            "overflow_x": null,
            "grid_auto_flow": null,
            "grid_area": null,
            "grid_template_columns": null,
            "flex": null,
            "_model_name": "LayoutModel",
            "justify_items": null,
            "grid_row": null,
            "max_height": null,
            "align_content": null,
            "visibility": null,
            "align_self": null,
            "height": null,
            "min_height": null,
            "padding": null,
            "grid_auto_rows": null,
            "grid_gap": null,
            "max_width": null,
            "order": null,
            "_view_module_version": "1.2.0",
            "grid_template_areas": null,
            "object_position": null,
            "object_fit": null,
            "grid_auto_columns": null,
            "margin": null,
            "display": null,
            "left": null
          }
        },
        "48b184ae164c4b2e89bd57bfe5e4ca02": {
          "model_module": "@jupyter-widgets/controls",
          "model_name": "HTMLModel",
          "model_module_version": "1.5.0",
          "state": {
            "_view_name": "HTMLView",
            "style": "IPY_MODEL_6710de49252e447896904649326a5051",
            "_dom_classes": [],
            "description": "",
            "_model_name": "HTMLModel",
            "placeholder": "​",
            "_view_module": "@jupyter-widgets/controls",
            "_model_module_version": "1.5.0",
            "value": "100%",
            "_view_count": null,
            "_view_module_version": "1.5.0",
            "description_tooltip": null,
            "_model_module": "@jupyter-widgets/controls",
            "layout": "IPY_MODEL_9a5c108fd32e4c14b14fd79f7437fefa"
          }
        },
        "f5c80f9815e5437ea8b5222b19014d2a": {
          "model_module": "@jupyter-widgets/controls",
          "model_name": "FloatProgressModel",
          "model_module_version": "1.5.0",
          "state": {
            "_view_name": "ProgressView",
            "style": "IPY_MODEL_ca60e4d5cacd4e2e8cf6992a792240f3",
            "_dom_classes": [],
            "description": "",
            "_model_name": "FloatProgressModel",
            "bar_style": "success",
            "max": 248287,
            "_view_module": "@jupyter-widgets/controls",
            "_model_module_version": "1.5.0",
            "value": 248287,
            "_view_count": null,
            "_view_module_version": "1.5.0",
            "orientation": "horizontal",
            "min": 0,
            "description_tooltip": null,
            "_model_module": "@jupyter-widgets/controls",
            "layout": "IPY_MODEL_a416de20747b42f984379b7a36219e1b"
          }
        },
        "38d939bdb4c74f04879804aeab6c0ae7": {
          "model_module": "@jupyter-widgets/controls",
          "model_name": "HTMLModel",
          "model_module_version": "1.5.0",
          "state": {
            "_view_name": "HTMLView",
            "style": "IPY_MODEL_ce0a6bf575ae4f08ad44bc924000cc62",
            "_dom_classes": [],
            "description": "",
            "_model_name": "HTMLModel",
            "placeholder": "​",
            "_view_module": "@jupyter-widgets/controls",
            "_model_module_version": "1.5.0",
            "value": " 248287/248287 [00:49&lt;00:00, 5183.11it/s]",
            "_view_count": null,
            "_view_module_version": "1.5.0",
            "description_tooltip": null,
            "_model_module": "@jupyter-widgets/controls",
            "layout": "IPY_MODEL_fd3422dd65bc4c6cb607a31a8378e9b4"
          }
        },
        "6710de49252e447896904649326a5051": {
          "model_module": "@jupyter-widgets/controls",
          "model_name": "DescriptionStyleModel",
          "model_module_version": "1.5.0",
          "state": {
            "_view_name": "StyleView",
            "_model_name": "DescriptionStyleModel",
            "description_width": "",
            "_view_module": "@jupyter-widgets/base",
            "_model_module_version": "1.5.0",
            "_view_count": null,
            "_view_module_version": "1.2.0",
            "_model_module": "@jupyter-widgets/controls"
          }
        },
        "9a5c108fd32e4c14b14fd79f7437fefa": {
          "model_module": "@jupyter-widgets/base",
          "model_name": "LayoutModel",
          "model_module_version": "1.2.0",
          "state": {
            "_view_name": "LayoutView",
            "grid_template_rows": null,
            "right": null,
            "justify_content": null,
            "_view_module": "@jupyter-widgets/base",
            "overflow": null,
            "_model_module_version": "1.2.0",
            "_view_count": null,
            "flex_flow": null,
            "width": null,
            "min_width": null,
            "border": null,
            "align_items": null,
            "bottom": null,
            "_model_module": "@jupyter-widgets/base",
            "top": null,
            "grid_column": null,
            "overflow_y": null,
            "overflow_x": null,
            "grid_auto_flow": null,
            "grid_area": null,
            "grid_template_columns": null,
            "flex": null,
            "_model_name": "LayoutModel",
            "justify_items": null,
            "grid_row": null,
            "max_height": null,
            "align_content": null,
            "visibility": null,
            "align_self": null,
            "height": null,
            "min_height": null,
            "padding": null,
            "grid_auto_rows": null,
            "grid_gap": null,
            "max_width": null,
            "order": null,
            "_view_module_version": "1.2.0",
            "grid_template_areas": null,
            "object_position": null,
            "object_fit": null,
            "grid_auto_columns": null,
            "margin": null,
            "display": null,
            "left": null
          }
        },
        "ca60e4d5cacd4e2e8cf6992a792240f3": {
          "model_module": "@jupyter-widgets/controls",
          "model_name": "ProgressStyleModel",
          "model_module_version": "1.5.0",
          "state": {
            "_view_name": "StyleView",
            "_model_name": "ProgressStyleModel",
            "description_width": "",
            "_view_module": "@jupyter-widgets/base",
            "_model_module_version": "1.5.0",
            "_view_count": null,
            "_view_module_version": "1.2.0",
            "bar_color": null,
            "_model_module": "@jupyter-widgets/controls"
          }
        },
        "a416de20747b42f984379b7a36219e1b": {
          "model_module": "@jupyter-widgets/base",
          "model_name": "LayoutModel",
          "model_module_version": "1.2.0",
          "state": {
            "_view_name": "LayoutView",
            "grid_template_rows": null,
            "right": null,
            "justify_content": null,
            "_view_module": "@jupyter-widgets/base",
            "overflow": null,
            "_model_module_version": "1.2.0",
            "_view_count": null,
            "flex_flow": null,
            "width": null,
            "min_width": null,
            "border": null,
            "align_items": null,
            "bottom": null,
            "_model_module": "@jupyter-widgets/base",
            "top": null,
            "grid_column": null,
            "overflow_y": null,
            "overflow_x": null,
            "grid_auto_flow": null,
            "grid_area": null,
            "grid_template_columns": null,
            "flex": null,
            "_model_name": "LayoutModel",
            "justify_items": null,
            "grid_row": null,
            "max_height": null,
            "align_content": null,
            "visibility": null,
            "align_self": null,
            "height": null,
            "min_height": null,
            "padding": null,
            "grid_auto_rows": null,
            "grid_gap": null,
            "max_width": null,
            "order": null,
            "_view_module_version": "1.2.0",
            "grid_template_areas": null,
            "object_position": null,
            "object_fit": null,
            "grid_auto_columns": null,
            "margin": null,
            "display": null,
            "left": null
          }
        },
        "ce0a6bf575ae4f08ad44bc924000cc62": {
          "model_module": "@jupyter-widgets/controls",
          "model_name": "DescriptionStyleModel",
          "model_module_version": "1.5.0",
          "state": {
            "_view_name": "StyleView",
            "_model_name": "DescriptionStyleModel",
            "description_width": "",
            "_view_module": "@jupyter-widgets/base",
            "_model_module_version": "1.5.0",
            "_view_count": null,
            "_view_module_version": "1.2.0",
            "_model_module": "@jupyter-widgets/controls"
          }
        },
        "fd3422dd65bc4c6cb607a31a8378e9b4": {
          "model_module": "@jupyter-widgets/base",
          "model_name": "LayoutModel",
          "model_module_version": "1.2.0",
          "state": {
            "_view_name": "LayoutView",
            "grid_template_rows": null,
            "right": null,
            "justify_content": null,
            "_view_module": "@jupyter-widgets/base",
            "overflow": null,
            "_model_module_version": "1.2.0",
            "_view_count": null,
            "flex_flow": null,
            "width": null,
            "min_width": null,
            "border": null,
            "align_items": null,
            "bottom": null,
            "_model_module": "@jupyter-widgets/base",
            "top": null,
            "grid_column": null,
            "overflow_y": null,
            "overflow_x": null,
            "grid_auto_flow": null,
            "grid_area": null,
            "grid_template_columns": null,
            "flex": null,
            "_model_name": "LayoutModel",
            "justify_items": null,
            "grid_row": null,
            "max_height": null,
            "align_content": null,
            "visibility": null,
            "align_self": null,
            "height": null,
            "min_height": null,
            "padding": null,
            "grid_auto_rows": null,
            "grid_gap": null,
            "max_width": null,
            "order": null,
            "_view_module_version": "1.2.0",
            "grid_template_areas": null,
            "object_position": null,
            "object_fit": null,
            "grid_auto_columns": null,
            "margin": null,
            "display": null,
            "left": null
          }
        },
        "40b12ec26971441b8bc45a6f518a3bc5": {
          "model_module": "@jupyter-widgets/controls",
          "model_name": "HBoxModel",
          "model_module_version": "1.5.0",
          "state": {
            "_view_name": "HBoxView",
            "_dom_classes": [],
            "_model_name": "HBoxModel",
            "_view_module": "@jupyter-widgets/controls",
            "_model_module_version": "1.5.0",
            "_view_count": null,
            "_view_module_version": "1.5.0",
            "box_style": "",
            "layout": "IPY_MODEL_d207e850be2a4dad9aca5836e628b200",
            "_model_module": "@jupyter-widgets/controls",
            "children": [
              "IPY_MODEL_7f211f547ff74c1990ae41535bfe9368",
              "IPY_MODEL_f564af3dbb4f44338f010711fb4116d4",
              "IPY_MODEL_1fb563fc77a5462ea7ff07164156e1a8"
            ]
          }
        },
        "d207e850be2a4dad9aca5836e628b200": {
          "model_module": "@jupyter-widgets/base",
          "model_name": "LayoutModel",
          "model_module_version": "1.2.0",
          "state": {
            "_view_name": "LayoutView",
            "grid_template_rows": null,
            "right": null,
            "justify_content": null,
            "_view_module": "@jupyter-widgets/base",
            "overflow": null,
            "_model_module_version": "1.2.0",
            "_view_count": null,
            "flex_flow": null,
            "width": null,
            "min_width": null,
            "border": null,
            "align_items": null,
            "bottom": null,
            "_model_module": "@jupyter-widgets/base",
            "top": null,
            "grid_column": null,
            "overflow_y": null,
            "overflow_x": null,
            "grid_auto_flow": null,
            "grid_area": null,
            "grid_template_columns": null,
            "flex": null,
            "_model_name": "LayoutModel",
            "justify_items": null,
            "grid_row": null,
            "max_height": null,
            "align_content": null,
            "visibility": null,
            "align_self": null,
            "height": null,
            "min_height": null,
            "padding": null,
            "grid_auto_rows": null,
            "grid_gap": null,
            "max_width": null,
            "order": null,
            "_view_module_version": "1.2.0",
            "grid_template_areas": null,
            "object_position": null,
            "object_fit": null,
            "grid_auto_columns": null,
            "margin": null,
            "display": null,
            "left": null
          }
        },
        "7f211f547ff74c1990ae41535bfe9368": {
          "model_module": "@jupyter-widgets/controls",
          "model_name": "HTMLModel",
          "model_module_version": "1.5.0",
          "state": {
            "_view_name": "HTMLView",
            "style": "IPY_MODEL_43c86892a16d44c5ab2326fc2186c7d2",
            "_dom_classes": [],
            "description": "",
            "_model_name": "HTMLModel",
            "placeholder": "​",
            "_view_module": "@jupyter-widgets/controls",
            "_model_module_version": "1.5.0",
            "value": "100%",
            "_view_count": null,
            "_view_module_version": "1.5.0",
            "description_tooltip": null,
            "_model_module": "@jupyter-widgets/controls",
            "layout": "IPY_MODEL_da8aec6b1b8d48daa0405393d817a36c"
          }
        },
        "f564af3dbb4f44338f010711fb4116d4": {
          "model_module": "@jupyter-widgets/controls",
          "model_name": "FloatProgressModel",
          "model_module_version": "1.5.0",
          "state": {
            "_view_name": "ProgressView",
            "style": "IPY_MODEL_daa1168bf60b4f85878a01e0564177e1",
            "_dom_classes": [],
            "description": "",
            "_model_name": "FloatProgressModel",
            "bar_style": "success",
            "max": 50,
            "_view_module": "@jupyter-widgets/controls",
            "_model_module_version": "1.5.0",
            "value": 50,
            "_view_count": null,
            "_view_module_version": "1.5.0",
            "orientation": "horizontal",
            "min": 0,
            "description_tooltip": null,
            "_model_module": "@jupyter-widgets/controls",
            "layout": "IPY_MODEL_f6d4f7d241cc4cdc8058f7ff75de3a1e"
          }
        },
        "1fb563fc77a5462ea7ff07164156e1a8": {
          "model_module": "@jupyter-widgets/controls",
          "model_name": "HTMLModel",
          "model_module_version": "1.5.0",
          "state": {
            "_view_name": "HTMLView",
            "style": "IPY_MODEL_1d75300f4b514db9a1ce833276c031c4",
            "_dom_classes": [],
            "description": "",
            "_model_name": "HTMLModel",
            "placeholder": "​",
            "_view_module": "@jupyter-widgets/controls",
            "_model_module_version": "1.5.0",
            "value": " 50/50 [01:39&lt;00:00,  3.10s/it]",
            "_view_count": null,
            "_view_module_version": "1.5.0",
            "description_tooltip": null,
            "_model_module": "@jupyter-widgets/controls",
            "layout": "IPY_MODEL_0ea6dd7358804554bdffc15d7679de7c"
          }
        },
        "43c86892a16d44c5ab2326fc2186c7d2": {
          "model_module": "@jupyter-widgets/controls",
          "model_name": "DescriptionStyleModel",
          "model_module_version": "1.5.0",
          "state": {
            "_view_name": "StyleView",
            "_model_name": "DescriptionStyleModel",
            "description_width": "",
            "_view_module": "@jupyter-widgets/base",
            "_model_module_version": "1.5.0",
            "_view_count": null,
            "_view_module_version": "1.2.0",
            "_model_module": "@jupyter-widgets/controls"
          }
        },
        "da8aec6b1b8d48daa0405393d817a36c": {
          "model_module": "@jupyter-widgets/base",
          "model_name": "LayoutModel",
          "model_module_version": "1.2.0",
          "state": {
            "_view_name": "LayoutView",
            "grid_template_rows": null,
            "right": null,
            "justify_content": null,
            "_view_module": "@jupyter-widgets/base",
            "overflow": null,
            "_model_module_version": "1.2.0",
            "_view_count": null,
            "flex_flow": null,
            "width": null,
            "min_width": null,
            "border": null,
            "align_items": null,
            "bottom": null,
            "_model_module": "@jupyter-widgets/base",
            "top": null,
            "grid_column": null,
            "overflow_y": null,
            "overflow_x": null,
            "grid_auto_flow": null,
            "grid_area": null,
            "grid_template_columns": null,
            "flex": null,
            "_model_name": "LayoutModel",
            "justify_items": null,
            "grid_row": null,
            "max_height": null,
            "align_content": null,
            "visibility": null,
            "align_self": null,
            "height": null,
            "min_height": null,
            "padding": null,
            "grid_auto_rows": null,
            "grid_gap": null,
            "max_width": null,
            "order": null,
            "_view_module_version": "1.2.0",
            "grid_template_areas": null,
            "object_position": null,
            "object_fit": null,
            "grid_auto_columns": null,
            "margin": null,
            "display": null,
            "left": null
          }
        },
        "daa1168bf60b4f85878a01e0564177e1": {
          "model_module": "@jupyter-widgets/controls",
          "model_name": "ProgressStyleModel",
          "model_module_version": "1.5.0",
          "state": {
            "_view_name": "StyleView",
            "_model_name": "ProgressStyleModel",
            "description_width": "",
            "_view_module": "@jupyter-widgets/base",
            "_model_module_version": "1.5.0",
            "_view_count": null,
            "_view_module_version": "1.2.0",
            "bar_color": null,
            "_model_module": "@jupyter-widgets/controls"
          }
        },
        "f6d4f7d241cc4cdc8058f7ff75de3a1e": {
          "model_module": "@jupyter-widgets/base",
          "model_name": "LayoutModel",
          "model_module_version": "1.2.0",
          "state": {
            "_view_name": "LayoutView",
            "grid_template_rows": null,
            "right": null,
            "justify_content": null,
            "_view_module": "@jupyter-widgets/base",
            "overflow": null,
            "_model_module_version": "1.2.0",
            "_view_count": null,
            "flex_flow": null,
            "width": null,
            "min_width": null,
            "border": null,
            "align_items": null,
            "bottom": null,
            "_model_module": "@jupyter-widgets/base",
            "top": null,
            "grid_column": null,
            "overflow_y": null,
            "overflow_x": null,
            "grid_auto_flow": null,
            "grid_area": null,
            "grid_template_columns": null,
            "flex": null,
            "_model_name": "LayoutModel",
            "justify_items": null,
            "grid_row": null,
            "max_height": null,
            "align_content": null,
            "visibility": null,
            "align_self": null,
            "height": null,
            "min_height": null,
            "padding": null,
            "grid_auto_rows": null,
            "grid_gap": null,
            "max_width": null,
            "order": null,
            "_view_module_version": "1.2.0",
            "grid_template_areas": null,
            "object_position": null,
            "object_fit": null,
            "grid_auto_columns": null,
            "margin": null,
            "display": null,
            "left": null
          }
        },
        "1d75300f4b514db9a1ce833276c031c4": {
          "model_module": "@jupyter-widgets/controls",
          "model_name": "DescriptionStyleModel",
          "model_module_version": "1.5.0",
          "state": {
            "_view_name": "StyleView",
            "_model_name": "DescriptionStyleModel",
            "description_width": "",
            "_view_module": "@jupyter-widgets/base",
            "_model_module_version": "1.5.0",
            "_view_count": null,
            "_view_module_version": "1.2.0",
            "_model_module": "@jupyter-widgets/controls"
          }
        },
        "0ea6dd7358804554bdffc15d7679de7c": {
          "model_module": "@jupyter-widgets/base",
          "model_name": "LayoutModel",
          "model_module_version": "1.2.0",
          "state": {
            "_view_name": "LayoutView",
            "grid_template_rows": null,
            "right": null,
            "justify_content": null,
            "_view_module": "@jupyter-widgets/base",
            "overflow": null,
            "_model_module_version": "1.2.0",
            "_view_count": null,
            "flex_flow": null,
            "width": null,
            "min_width": null,
            "border": null,
            "align_items": null,
            "bottom": null,
            "_model_module": "@jupyter-widgets/base",
            "top": null,
            "grid_column": null,
            "overflow_y": null,
            "overflow_x": null,
            "grid_auto_flow": null,
            "grid_area": null,
            "grid_template_columns": null,
            "flex": null,
            "_model_name": "LayoutModel",
            "justify_items": null,
            "grid_row": null,
            "max_height": null,
            "align_content": null,
            "visibility": null,
            "align_self": null,
            "height": null,
            "min_height": null,
            "padding": null,
            "grid_auto_rows": null,
            "grid_gap": null,
            "max_width": null,
            "order": null,
            "_view_module_version": "1.2.0",
            "grid_template_areas": null,
            "object_position": null,
            "object_fit": null,
            "grid_auto_columns": null,
            "margin": null,
            "display": null,
            "left": null
          }
        },
        "d43bb16170f54c25b6c7e5c0422156d3": {
          "model_module": "@jupyter-widgets/controls",
          "model_name": "HBoxModel",
          "model_module_version": "1.5.0",
          "state": {
            "_view_name": "HBoxView",
            "_dom_classes": [],
            "_model_name": "HBoxModel",
            "_view_module": "@jupyter-widgets/controls",
            "_model_module_version": "1.5.0",
            "_view_count": null,
            "_view_module_version": "1.5.0",
            "box_style": "",
            "layout": "IPY_MODEL_587cafa0446241ebb576e13c2f77c187",
            "_model_module": "@jupyter-widgets/controls",
            "children": [
              "IPY_MODEL_98c001c7f1194e5da61fcd65d7490a0a",
              "IPY_MODEL_7a23149450784ed5b4db71e5d7a0d340",
              "IPY_MODEL_e28a311775734f7f91c0ddfe66ea7189"
            ]
          }
        },
        "587cafa0446241ebb576e13c2f77c187": {
          "model_module": "@jupyter-widgets/base",
          "model_name": "LayoutModel",
          "model_module_version": "1.2.0",
          "state": {
            "_view_name": "LayoutView",
            "grid_template_rows": null,
            "right": null,
            "justify_content": null,
            "_view_module": "@jupyter-widgets/base",
            "overflow": null,
            "_model_module_version": "1.2.0",
            "_view_count": null,
            "flex_flow": null,
            "width": null,
            "min_width": null,
            "border": null,
            "align_items": null,
            "bottom": null,
            "_model_module": "@jupyter-widgets/base",
            "top": null,
            "grid_column": null,
            "overflow_y": null,
            "overflow_x": null,
            "grid_auto_flow": null,
            "grid_area": null,
            "grid_template_columns": null,
            "flex": null,
            "_model_name": "LayoutModel",
            "justify_items": null,
            "grid_row": null,
            "max_height": null,
            "align_content": null,
            "visibility": null,
            "align_self": null,
            "height": null,
            "min_height": null,
            "padding": null,
            "grid_auto_rows": null,
            "grid_gap": null,
            "max_width": null,
            "order": null,
            "_view_module_version": "1.2.0",
            "grid_template_areas": null,
            "object_position": null,
            "object_fit": null,
            "grid_auto_columns": null,
            "margin": null,
            "display": null,
            "left": null
          }
        },
        "98c001c7f1194e5da61fcd65d7490a0a": {
          "model_module": "@jupyter-widgets/controls",
          "model_name": "HTMLModel",
          "model_module_version": "1.5.0",
          "state": {
            "_view_name": "HTMLView",
            "style": "IPY_MODEL_59a58c9df21543bebc26a70d8a4a91fb",
            "_dom_classes": [],
            "description": "",
            "_model_name": "HTMLModel",
            "placeholder": "​",
            "_view_module": "@jupyter-widgets/controls",
            "_model_module_version": "1.5.0",
            "value": "100%",
            "_view_count": null,
            "_view_module_version": "1.5.0",
            "description_tooltip": null,
            "_model_module": "@jupyter-widgets/controls",
            "layout": "IPY_MODEL_da59884d907141558feb7193aa4c3e60"
          }
        },
        "7a23149450784ed5b4db71e5d7a0d340": {
          "model_module": "@jupyter-widgets/controls",
          "model_name": "FloatProgressModel",
          "model_module_version": "1.5.0",
          "state": {
            "_view_name": "ProgressView",
            "style": "IPY_MODEL_b8f37f83a4e04c4c85ec64128a1c3f65",
            "_dom_classes": [],
            "description": "",
            "_model_name": "FloatProgressModel",
            "bar_style": "success",
            "max": 1,
            "_view_module": "@jupyter-widgets/controls",
            "_model_module_version": "1.5.0",
            "value": 1,
            "_view_count": null,
            "_view_module_version": "1.5.0",
            "orientation": "horizontal",
            "min": 0,
            "description_tooltip": null,
            "_model_module": "@jupyter-widgets/controls",
            "layout": "IPY_MODEL_099bd2319a574e74b9fd3dcd38093a0c"
          }
        },
        "e28a311775734f7f91c0ddfe66ea7189": {
          "model_module": "@jupyter-widgets/controls",
          "model_name": "HTMLModel",
          "model_module_version": "1.5.0",
          "state": {
            "_view_name": "HTMLView",
            "style": "IPY_MODEL_25965b69363b4a59884e20a623c86452",
            "_dom_classes": [],
            "description": "",
            "_model_name": "HTMLModel",
            "placeholder": "​",
            "_view_module": "@jupyter-widgets/controls",
            "_model_module_version": "1.5.0",
            "value": " 1/1.0 [00:00&lt;00:00, 15.58it/s]",
            "_view_count": null,
            "_view_module_version": "1.5.0",
            "description_tooltip": null,
            "_model_module": "@jupyter-widgets/controls",
            "layout": "IPY_MODEL_5de61361dd254a86ba68d91717647859"
          }
        },
        "59a58c9df21543bebc26a70d8a4a91fb": {
          "model_module": "@jupyter-widgets/controls",
          "model_name": "DescriptionStyleModel",
          "model_module_version": "1.5.0",
          "state": {
            "_view_name": "StyleView",
            "_model_name": "DescriptionStyleModel",
            "description_width": "",
            "_view_module": "@jupyter-widgets/base",
            "_model_module_version": "1.5.0",
            "_view_count": null,
            "_view_module_version": "1.2.0",
            "_model_module": "@jupyter-widgets/controls"
          }
        },
        "da59884d907141558feb7193aa4c3e60": {
          "model_module": "@jupyter-widgets/base",
          "model_name": "LayoutModel",
          "model_module_version": "1.2.0",
          "state": {
            "_view_name": "LayoutView",
            "grid_template_rows": null,
            "right": null,
            "justify_content": null,
            "_view_module": "@jupyter-widgets/base",
            "overflow": null,
            "_model_module_version": "1.2.0",
            "_view_count": null,
            "flex_flow": null,
            "width": null,
            "min_width": null,
            "border": null,
            "align_items": null,
            "bottom": null,
            "_model_module": "@jupyter-widgets/base",
            "top": null,
            "grid_column": null,
            "overflow_y": null,
            "overflow_x": null,
            "grid_auto_flow": null,
            "grid_area": null,
            "grid_template_columns": null,
            "flex": null,
            "_model_name": "LayoutModel",
            "justify_items": null,
            "grid_row": null,
            "max_height": null,
            "align_content": null,
            "visibility": null,
            "align_self": null,
            "height": null,
            "min_height": null,
            "padding": null,
            "grid_auto_rows": null,
            "grid_gap": null,
            "max_width": null,
            "order": null,
            "_view_module_version": "1.2.0",
            "grid_template_areas": null,
            "object_position": null,
            "object_fit": null,
            "grid_auto_columns": null,
            "margin": null,
            "display": null,
            "left": null
          }
        },
        "b8f37f83a4e04c4c85ec64128a1c3f65": {
          "model_module": "@jupyter-widgets/controls",
          "model_name": "ProgressStyleModel",
          "model_module_version": "1.5.0",
          "state": {
            "_view_name": "StyleView",
            "_model_name": "ProgressStyleModel",
            "description_width": "",
            "_view_module": "@jupyter-widgets/base",
            "_model_module_version": "1.5.0",
            "_view_count": null,
            "_view_module_version": "1.2.0",
            "bar_color": null,
            "_model_module": "@jupyter-widgets/controls"
          }
        },
        "099bd2319a574e74b9fd3dcd38093a0c": {
          "model_module": "@jupyter-widgets/base",
          "model_name": "LayoutModel",
          "model_module_version": "1.2.0",
          "state": {
            "_view_name": "LayoutView",
            "grid_template_rows": null,
            "right": null,
            "justify_content": null,
            "_view_module": "@jupyter-widgets/base",
            "overflow": null,
            "_model_module_version": "1.2.0",
            "_view_count": null,
            "flex_flow": null,
            "width": null,
            "min_width": null,
            "border": null,
            "align_items": null,
            "bottom": null,
            "_model_module": "@jupyter-widgets/base",
            "top": null,
            "grid_column": null,
            "overflow_y": null,
            "overflow_x": null,
            "grid_auto_flow": null,
            "grid_area": null,
            "grid_template_columns": null,
            "flex": null,
            "_model_name": "LayoutModel",
            "justify_items": null,
            "grid_row": null,
            "max_height": null,
            "align_content": null,
            "visibility": null,
            "align_self": null,
            "height": null,
            "min_height": null,
            "padding": null,
            "grid_auto_rows": null,
            "grid_gap": null,
            "max_width": null,
            "order": null,
            "_view_module_version": "1.2.0",
            "grid_template_areas": null,
            "object_position": null,
            "object_fit": null,
            "grid_auto_columns": null,
            "margin": null,
            "display": null,
            "left": null
          }
        },
        "25965b69363b4a59884e20a623c86452": {
          "model_module": "@jupyter-widgets/controls",
          "model_name": "DescriptionStyleModel",
          "model_module_version": "1.5.0",
          "state": {
            "_view_name": "StyleView",
            "_model_name": "DescriptionStyleModel",
            "description_width": "",
            "_view_module": "@jupyter-widgets/base",
            "_model_module_version": "1.5.0",
            "_view_count": null,
            "_view_module_version": "1.2.0",
            "_model_module": "@jupyter-widgets/controls"
          }
        },
        "5de61361dd254a86ba68d91717647859": {
          "model_module": "@jupyter-widgets/base",
          "model_name": "LayoutModel",
          "model_module_version": "1.2.0",
          "state": {
            "_view_name": "LayoutView",
            "grid_template_rows": null,
            "right": null,
            "justify_content": null,
            "_view_module": "@jupyter-widgets/base",
            "overflow": null,
            "_model_module_version": "1.2.0",
            "_view_count": null,
            "flex_flow": null,
            "width": null,
            "min_width": null,
            "border": null,
            "align_items": null,
            "bottom": null,
            "_model_module": "@jupyter-widgets/base",
            "top": null,
            "grid_column": null,
            "overflow_y": null,
            "overflow_x": null,
            "grid_auto_flow": null,
            "grid_area": null,
            "grid_template_columns": null,
            "flex": null,
            "_model_name": "LayoutModel",
            "justify_items": null,
            "grid_row": null,
            "max_height": null,
            "align_content": null,
            "visibility": null,
            "align_self": null,
            "height": null,
            "min_height": null,
            "padding": null,
            "grid_auto_rows": null,
            "grid_gap": null,
            "max_width": null,
            "order": null,
            "_view_module_version": "1.2.0",
            "grid_template_areas": null,
            "object_position": null,
            "object_fit": null,
            "grid_auto_columns": null,
            "margin": null,
            "display": null,
            "left": null
          }
        },
        "8451110ed3344b83904f6c1ef33b0b0d": {
          "model_module": "@jupyter-widgets/controls",
          "model_name": "HBoxModel",
          "model_module_version": "1.5.0",
          "state": {
            "_view_name": "HBoxView",
            "_dom_classes": [],
            "_model_name": "HBoxModel",
            "_view_module": "@jupyter-widgets/controls",
            "_model_module_version": "1.5.0",
            "_view_count": null,
            "_view_module_version": "1.5.0",
            "box_style": "",
            "layout": "IPY_MODEL_26501541a7d343a7b01a6c4d8702aae3",
            "_model_module": "@jupyter-widgets/controls",
            "children": [
              "IPY_MODEL_94e4015ed1c4413693fc166a22fc9ac6",
              "IPY_MODEL_45ac07babef841cbb937f79d05f5c7c1",
              "IPY_MODEL_a418958f7ce342128964f2e57408825b"
            ]
          }
        },
        "26501541a7d343a7b01a6c4d8702aae3": {
          "model_module": "@jupyter-widgets/base",
          "model_name": "LayoutModel",
          "model_module_version": "1.2.0",
          "state": {
            "_view_name": "LayoutView",
            "grid_template_rows": null,
            "right": null,
            "justify_content": null,
            "_view_module": "@jupyter-widgets/base",
            "overflow": null,
            "_model_module_version": "1.2.0",
            "_view_count": null,
            "flex_flow": null,
            "width": null,
            "min_width": null,
            "border": null,
            "align_items": null,
            "bottom": null,
            "_model_module": "@jupyter-widgets/base",
            "top": null,
            "grid_column": null,
            "overflow_y": null,
            "overflow_x": null,
            "grid_auto_flow": null,
            "grid_area": null,
            "grid_template_columns": null,
            "flex": null,
            "_model_name": "LayoutModel",
            "justify_items": null,
            "grid_row": null,
            "max_height": null,
            "align_content": null,
            "visibility": null,
            "align_self": null,
            "height": null,
            "min_height": null,
            "padding": null,
            "grid_auto_rows": null,
            "grid_gap": null,
            "max_width": null,
            "order": null,
            "_view_module_version": "1.2.0",
            "grid_template_areas": null,
            "object_position": null,
            "object_fit": null,
            "grid_auto_columns": null,
            "margin": null,
            "display": null,
            "left": null
          }
        },
        "94e4015ed1c4413693fc166a22fc9ac6": {
          "model_module": "@jupyter-widgets/controls",
          "model_name": "HTMLModel",
          "model_module_version": "1.5.0",
          "state": {
            "_view_name": "HTMLView",
            "style": "IPY_MODEL_ad0c4d51e8e846f0bd145af5e6db45b2",
            "_dom_classes": [],
            "description": "",
            "_model_name": "HTMLModel",
            "placeholder": "​",
            "_view_module": "@jupyter-widgets/controls",
            "_model_module_version": "1.5.0",
            "value": "100%",
            "_view_count": null,
            "_view_module_version": "1.5.0",
            "description_tooltip": null,
            "_model_module": "@jupyter-widgets/controls",
            "layout": "IPY_MODEL_4e15b7c783984e83ac05ab44e1834bd2"
          }
        },
        "45ac07babef841cbb937f79d05f5c7c1": {
          "model_module": "@jupyter-widgets/controls",
          "model_name": "FloatProgressModel",
          "model_module_version": "1.5.0",
          "state": {
            "_view_name": "ProgressView",
            "style": "IPY_MODEL_f8f4d3d921bd4a22aaf49c4d84d5e8d1",
            "_dom_classes": [],
            "description": "",
            "_model_name": "FloatProgressModel",
            "bar_style": "success",
            "max": 2500,
            "_view_module": "@jupyter-widgets/controls",
            "_model_module_version": "1.5.0",
            "value": 2500,
            "_view_count": null,
            "_view_module_version": "1.5.0",
            "orientation": "horizontal",
            "min": 0,
            "description_tooltip": null,
            "_model_module": "@jupyter-widgets/controls",
            "layout": "IPY_MODEL_33ec3501f83f4b1fb6881096ccfe763b"
          }
        },
        "a418958f7ce342128964f2e57408825b": {
          "model_module": "@jupyter-widgets/controls",
          "model_name": "HTMLModel",
          "model_module_version": "1.5.0",
          "state": {
            "_view_name": "HTMLView",
            "style": "IPY_MODEL_d030401df76547eb994a8d065d0e9d71",
            "_dom_classes": [],
            "description": "",
            "_model_name": "HTMLModel",
            "placeholder": "​",
            "_view_module": "@jupyter-widgets/controls",
            "_model_module_version": "1.5.0",
            "value": " 2500/2500 [58:02&lt;00:00,  1.48s/it]",
            "_view_count": null,
            "_view_module_version": "1.5.0",
            "description_tooltip": null,
            "_model_module": "@jupyter-widgets/controls",
            "layout": "IPY_MODEL_3fb117265cc74a36868eb80b0c708566"
          }
        },
        "ad0c4d51e8e846f0bd145af5e6db45b2": {
          "model_module": "@jupyter-widgets/controls",
          "model_name": "DescriptionStyleModel",
          "model_module_version": "1.5.0",
          "state": {
            "_view_name": "StyleView",
            "_model_name": "DescriptionStyleModel",
            "description_width": "",
            "_view_module": "@jupyter-widgets/base",
            "_model_module_version": "1.5.0",
            "_view_count": null,
            "_view_module_version": "1.2.0",
            "_model_module": "@jupyter-widgets/controls"
          }
        },
        "4e15b7c783984e83ac05ab44e1834bd2": {
          "model_module": "@jupyter-widgets/base",
          "model_name": "LayoutModel",
          "model_module_version": "1.2.0",
          "state": {
            "_view_name": "LayoutView",
            "grid_template_rows": null,
            "right": null,
            "justify_content": null,
            "_view_module": "@jupyter-widgets/base",
            "overflow": null,
            "_model_module_version": "1.2.0",
            "_view_count": null,
            "flex_flow": null,
            "width": null,
            "min_width": null,
            "border": null,
            "align_items": null,
            "bottom": null,
            "_model_module": "@jupyter-widgets/base",
            "top": null,
            "grid_column": null,
            "overflow_y": null,
            "overflow_x": null,
            "grid_auto_flow": null,
            "grid_area": null,
            "grid_template_columns": null,
            "flex": null,
            "_model_name": "LayoutModel",
            "justify_items": null,
            "grid_row": null,
            "max_height": null,
            "align_content": null,
            "visibility": null,
            "align_self": null,
            "height": null,
            "min_height": null,
            "padding": null,
            "grid_auto_rows": null,
            "grid_gap": null,
            "max_width": null,
            "order": null,
            "_view_module_version": "1.2.0",
            "grid_template_areas": null,
            "object_position": null,
            "object_fit": null,
            "grid_auto_columns": null,
            "margin": null,
            "display": null,
            "left": null
          }
        },
        "f8f4d3d921bd4a22aaf49c4d84d5e8d1": {
          "model_module": "@jupyter-widgets/controls",
          "model_name": "ProgressStyleModel",
          "model_module_version": "1.5.0",
          "state": {
            "_view_name": "StyleView",
            "_model_name": "ProgressStyleModel",
            "description_width": "",
            "_view_module": "@jupyter-widgets/base",
            "_model_module_version": "1.5.0",
            "_view_count": null,
            "_view_module_version": "1.2.0",
            "bar_color": null,
            "_model_module": "@jupyter-widgets/controls"
          }
        },
        "33ec3501f83f4b1fb6881096ccfe763b": {
          "model_module": "@jupyter-widgets/base",
          "model_name": "LayoutModel",
          "model_module_version": "1.2.0",
          "state": {
            "_view_name": "LayoutView",
            "grid_template_rows": null,
            "right": null,
            "justify_content": null,
            "_view_module": "@jupyter-widgets/base",
            "overflow": null,
            "_model_module_version": "1.2.0",
            "_view_count": null,
            "flex_flow": null,
            "width": null,
            "min_width": null,
            "border": null,
            "align_items": null,
            "bottom": null,
            "_model_module": "@jupyter-widgets/base",
            "top": null,
            "grid_column": null,
            "overflow_y": null,
            "overflow_x": null,
            "grid_auto_flow": null,
            "grid_area": null,
            "grid_template_columns": null,
            "flex": null,
            "_model_name": "LayoutModel",
            "justify_items": null,
            "grid_row": null,
            "max_height": null,
            "align_content": null,
            "visibility": null,
            "align_self": null,
            "height": null,
            "min_height": null,
            "padding": null,
            "grid_auto_rows": null,
            "grid_gap": null,
            "max_width": null,
            "order": null,
            "_view_module_version": "1.2.0",
            "grid_template_areas": null,
            "object_position": null,
            "object_fit": null,
            "grid_auto_columns": null,
            "margin": null,
            "display": null,
            "left": null
          }
        },
        "d030401df76547eb994a8d065d0e9d71": {
          "model_module": "@jupyter-widgets/controls",
          "model_name": "DescriptionStyleModel",
          "model_module_version": "1.5.0",
          "state": {
            "_view_name": "StyleView",
            "_model_name": "DescriptionStyleModel",
            "description_width": "",
            "_view_module": "@jupyter-widgets/base",
            "_model_module_version": "1.5.0",
            "_view_count": null,
            "_view_module_version": "1.2.0",
            "_model_module": "@jupyter-widgets/controls"
          }
        },
        "3fb117265cc74a36868eb80b0c708566": {
          "model_module": "@jupyter-widgets/base",
          "model_name": "LayoutModel",
          "model_module_version": "1.2.0",
          "state": {
            "_view_name": "LayoutView",
            "grid_template_rows": null,
            "right": null,
            "justify_content": null,
            "_view_module": "@jupyter-widgets/base",
            "overflow": null,
            "_model_module_version": "1.2.0",
            "_view_count": null,
            "flex_flow": null,
            "width": null,
            "min_width": null,
            "border": null,
            "align_items": null,
            "bottom": null,
            "_model_module": "@jupyter-widgets/base",
            "top": null,
            "grid_column": null,
            "overflow_y": null,
            "overflow_x": null,
            "grid_auto_flow": null,
            "grid_area": null,
            "grid_template_columns": null,
            "flex": null,
            "_model_name": "LayoutModel",
            "justify_items": null,
            "grid_row": null,
            "max_height": null,
            "align_content": null,
            "visibility": null,
            "align_self": null,
            "height": null,
            "min_height": null,
            "padding": null,
            "grid_auto_rows": null,
            "grid_gap": null,
            "max_width": null,
            "order": null,
            "_view_module_version": "1.2.0",
            "grid_template_areas": null,
            "object_position": null,
            "object_fit": null,
            "grid_auto_columns": null,
            "margin": null,
            "display": null,
            "left": null
          }
        },
        "4bbc1102089b4ca4ba9f98053920f71c": {
          "model_module": "@jupyter-widgets/controls",
          "model_name": "HBoxModel",
          "model_module_version": "1.5.0",
          "state": {
            "_view_name": "HBoxView",
            "_dom_classes": [],
            "_model_name": "HBoxModel",
            "_view_module": "@jupyter-widgets/controls",
            "_model_module_version": "1.5.0",
            "_view_count": null,
            "_view_module_version": "1.5.0",
            "box_style": "",
            "layout": "IPY_MODEL_02f20c2991a7487698a75827d5af5793",
            "_model_module": "@jupyter-widgets/controls",
            "children": [
              "IPY_MODEL_79c81e608fae4f228a6f0f5a8741e781",
              "IPY_MODEL_f8e1fc8aabb448bca71ff17630373f4e",
              "IPY_MODEL_a863365913e347c889dde0453477e3cd"
            ]
          }
        },
        "02f20c2991a7487698a75827d5af5793": {
          "model_module": "@jupyter-widgets/base",
          "model_name": "LayoutModel",
          "model_module_version": "1.2.0",
          "state": {
            "_view_name": "LayoutView",
            "grid_template_rows": null,
            "right": null,
            "justify_content": null,
            "_view_module": "@jupyter-widgets/base",
            "overflow": null,
            "_model_module_version": "1.2.0",
            "_view_count": null,
            "flex_flow": null,
            "width": null,
            "min_width": null,
            "border": null,
            "align_items": null,
            "bottom": null,
            "_model_module": "@jupyter-widgets/base",
            "top": null,
            "grid_column": null,
            "overflow_y": null,
            "overflow_x": null,
            "grid_auto_flow": null,
            "grid_area": null,
            "grid_template_columns": null,
            "flex": null,
            "_model_name": "LayoutModel",
            "justify_items": null,
            "grid_row": null,
            "max_height": null,
            "align_content": null,
            "visibility": null,
            "align_self": null,
            "height": null,
            "min_height": null,
            "padding": null,
            "grid_auto_rows": null,
            "grid_gap": null,
            "max_width": null,
            "order": null,
            "_view_module_version": "1.2.0",
            "grid_template_areas": null,
            "object_position": null,
            "object_fit": null,
            "grid_auto_columns": null,
            "margin": null,
            "display": null,
            "left": null
          }
        },
        "79c81e608fae4f228a6f0f5a8741e781": {
          "model_module": "@jupyter-widgets/controls",
          "model_name": "HTMLModel",
          "model_module_version": "1.5.0",
          "state": {
            "_view_name": "HTMLView",
            "style": "IPY_MODEL_e4fa5d4a844a4714bafbd0ad93b34d06",
            "_dom_classes": [],
            "description": "",
            "_model_name": "HTMLModel",
            "placeholder": "​",
            "_view_module": "@jupyter-widgets/controls",
            "_model_module_version": "1.5.0",
            "value": "100%",
            "_view_count": null,
            "_view_module_version": "1.5.0",
            "description_tooltip": null,
            "_model_module": "@jupyter-widgets/controls",
            "layout": "IPY_MODEL_d5a8ae5b83214a6abfd82c40a5a3cf1f"
          }
        },
        "f8e1fc8aabb448bca71ff17630373f4e": {
          "model_module": "@jupyter-widgets/controls",
          "model_name": "FloatProgressModel",
          "model_module_version": "1.5.0",
          "state": {
            "_view_name": "ProgressView",
            "style": "IPY_MODEL_c774b0e4c4f84dfbb865c9b44a333b08",
            "_dom_classes": [],
            "description": "",
            "_model_name": "FloatProgressModel",
            "bar_style": "success",
            "max": 2500,
            "_view_module": "@jupyter-widgets/controls",
            "_model_module_version": "1.5.0",
            "value": 2500,
            "_view_count": null,
            "_view_module_version": "1.5.0",
            "orientation": "horizontal",
            "min": 0,
            "description_tooltip": null,
            "_model_module": "@jupyter-widgets/controls",
            "layout": "IPY_MODEL_636d35815afc4bd6969a1cfedac2f3d3"
          }
        },
        "a863365913e347c889dde0453477e3cd": {
          "model_module": "@jupyter-widgets/controls",
          "model_name": "HTMLModel",
          "model_module_version": "1.5.0",
          "state": {
            "_view_name": "HTMLView",
            "style": "IPY_MODEL_a2924ad0ec5b497bbe3576134ee5ba28",
            "_dom_classes": [],
            "description": "",
            "_model_name": "HTMLModel",
            "placeholder": "​",
            "_view_module": "@jupyter-widgets/controls",
            "_model_module_version": "1.5.0",
            "value": " 2500/2500 [01:45&lt;00:00, 20.43it/s]",
            "_view_count": null,
            "_view_module_version": "1.5.0",
            "description_tooltip": null,
            "_model_module": "@jupyter-widgets/controls",
            "layout": "IPY_MODEL_cec2a43d64cb43d5be1216554ccc14de"
          }
        },
        "e4fa5d4a844a4714bafbd0ad93b34d06": {
          "model_module": "@jupyter-widgets/controls",
          "model_name": "DescriptionStyleModel",
          "model_module_version": "1.5.0",
          "state": {
            "_view_name": "StyleView",
            "_model_name": "DescriptionStyleModel",
            "description_width": "",
            "_view_module": "@jupyter-widgets/base",
            "_model_module_version": "1.5.0",
            "_view_count": null,
            "_view_module_version": "1.2.0",
            "_model_module": "@jupyter-widgets/controls"
          }
        },
        "d5a8ae5b83214a6abfd82c40a5a3cf1f": {
          "model_module": "@jupyter-widgets/base",
          "model_name": "LayoutModel",
          "model_module_version": "1.2.0",
          "state": {
            "_view_name": "LayoutView",
            "grid_template_rows": null,
            "right": null,
            "justify_content": null,
            "_view_module": "@jupyter-widgets/base",
            "overflow": null,
            "_model_module_version": "1.2.0",
            "_view_count": null,
            "flex_flow": null,
            "width": null,
            "min_width": null,
            "border": null,
            "align_items": null,
            "bottom": null,
            "_model_module": "@jupyter-widgets/base",
            "top": null,
            "grid_column": null,
            "overflow_y": null,
            "overflow_x": null,
            "grid_auto_flow": null,
            "grid_area": null,
            "grid_template_columns": null,
            "flex": null,
            "_model_name": "LayoutModel",
            "justify_items": null,
            "grid_row": null,
            "max_height": null,
            "align_content": null,
            "visibility": null,
            "align_self": null,
            "height": null,
            "min_height": null,
            "padding": null,
            "grid_auto_rows": null,
            "grid_gap": null,
            "max_width": null,
            "order": null,
            "_view_module_version": "1.2.0",
            "grid_template_areas": null,
            "object_position": null,
            "object_fit": null,
            "grid_auto_columns": null,
            "margin": null,
            "display": null,
            "left": null
          }
        },
        "c774b0e4c4f84dfbb865c9b44a333b08": {
          "model_module": "@jupyter-widgets/controls",
          "model_name": "ProgressStyleModel",
          "model_module_version": "1.5.0",
          "state": {
            "_view_name": "StyleView",
            "_model_name": "ProgressStyleModel",
            "description_width": "",
            "_view_module": "@jupyter-widgets/base",
            "_model_module_version": "1.5.0",
            "_view_count": null,
            "_view_module_version": "1.2.0",
            "bar_color": null,
            "_model_module": "@jupyter-widgets/controls"
          }
        },
        "636d35815afc4bd6969a1cfedac2f3d3": {
          "model_module": "@jupyter-widgets/base",
          "model_name": "LayoutModel",
          "model_module_version": "1.2.0",
          "state": {
            "_view_name": "LayoutView",
            "grid_template_rows": null,
            "right": null,
            "justify_content": null,
            "_view_module": "@jupyter-widgets/base",
            "overflow": null,
            "_model_module_version": "1.2.0",
            "_view_count": null,
            "flex_flow": null,
            "width": null,
            "min_width": null,
            "border": null,
            "align_items": null,
            "bottom": null,
            "_model_module": "@jupyter-widgets/base",
            "top": null,
            "grid_column": null,
            "overflow_y": null,
            "overflow_x": null,
            "grid_auto_flow": null,
            "grid_area": null,
            "grid_template_columns": null,
            "flex": null,
            "_model_name": "LayoutModel",
            "justify_items": null,
            "grid_row": null,
            "max_height": null,
            "align_content": null,
            "visibility": null,
            "align_self": null,
            "height": null,
            "min_height": null,
            "padding": null,
            "grid_auto_rows": null,
            "grid_gap": null,
            "max_width": null,
            "order": null,
            "_view_module_version": "1.2.0",
            "grid_template_areas": null,
            "object_position": null,
            "object_fit": null,
            "grid_auto_columns": null,
            "margin": null,
            "display": null,
            "left": null
          }
        },
        "a2924ad0ec5b497bbe3576134ee5ba28": {
          "model_module": "@jupyter-widgets/controls",
          "model_name": "DescriptionStyleModel",
          "model_module_version": "1.5.0",
          "state": {
            "_view_name": "StyleView",
            "_model_name": "DescriptionStyleModel",
            "description_width": "",
            "_view_module": "@jupyter-widgets/base",
            "_model_module_version": "1.5.0",
            "_view_count": null,
            "_view_module_version": "1.2.0",
            "_model_module": "@jupyter-widgets/controls"
          }
        },
        "cec2a43d64cb43d5be1216554ccc14de": {
          "model_module": "@jupyter-widgets/base",
          "model_name": "LayoutModel",
          "model_module_version": "1.2.0",
          "state": {
            "_view_name": "LayoutView",
            "grid_template_rows": null,
            "right": null,
            "justify_content": null,
            "_view_module": "@jupyter-widgets/base",
            "overflow": null,
            "_model_module_version": "1.2.0",
            "_view_count": null,
            "flex_flow": null,
            "width": null,
            "min_width": null,
            "border": null,
            "align_items": null,
            "bottom": null,
            "_model_module": "@jupyter-widgets/base",
            "top": null,
            "grid_column": null,
            "overflow_y": null,
            "overflow_x": null,
            "grid_auto_flow": null,
            "grid_area": null,
            "grid_template_columns": null,
            "flex": null,
            "_model_name": "LayoutModel",
            "justify_items": null,
            "grid_row": null,
            "max_height": null,
            "align_content": null,
            "visibility": null,
            "align_self": null,
            "height": null,
            "min_height": null,
            "padding": null,
            "grid_auto_rows": null,
            "grid_gap": null,
            "max_width": null,
            "order": null,
            "_view_module_version": "1.2.0",
            "grid_template_areas": null,
            "object_position": null,
            "object_fit": null,
            "grid_auto_columns": null,
            "margin": null,
            "display": null,
            "left": null
          }
        },
        "49f5a32bf2a4441e95bb36d8a06b44e6": {
          "model_module": "@jupyter-widgets/controls",
          "model_name": "HBoxModel",
          "model_module_version": "1.5.0",
          "state": {
            "_view_name": "HBoxView",
            "_dom_classes": [],
            "_model_name": "HBoxModel",
            "_view_module": "@jupyter-widgets/controls",
            "_model_module_version": "1.5.0",
            "_view_count": null,
            "_view_module_version": "1.5.0",
            "box_style": "",
            "layout": "IPY_MODEL_208bcdcfb2854063a411188d6cf1899a",
            "_model_module": "@jupyter-widgets/controls",
            "children": [
              "IPY_MODEL_42961d673f504c0f98f112434d73b6f7",
              "IPY_MODEL_092637e2e8cd479fbf68089660d0fb5e",
              "IPY_MODEL_b79629b029fc43409c6c0c456625b14c"
            ]
          }
        },
        "208bcdcfb2854063a411188d6cf1899a": {
          "model_module": "@jupyter-widgets/base",
          "model_name": "LayoutModel",
          "model_module_version": "1.2.0",
          "state": {
            "_view_name": "LayoutView",
            "grid_template_rows": null,
            "right": null,
            "justify_content": null,
            "_view_module": "@jupyter-widgets/base",
            "overflow": null,
            "_model_module_version": "1.2.0",
            "_view_count": null,
            "flex_flow": null,
            "width": null,
            "min_width": null,
            "border": null,
            "align_items": null,
            "bottom": null,
            "_model_module": "@jupyter-widgets/base",
            "top": null,
            "grid_column": null,
            "overflow_y": null,
            "overflow_x": null,
            "grid_auto_flow": null,
            "grid_area": null,
            "grid_template_columns": null,
            "flex": null,
            "_model_name": "LayoutModel",
            "justify_items": null,
            "grid_row": null,
            "max_height": null,
            "align_content": null,
            "visibility": null,
            "align_self": null,
            "height": null,
            "min_height": null,
            "padding": null,
            "grid_auto_rows": null,
            "grid_gap": null,
            "max_width": null,
            "order": null,
            "_view_module_version": "1.2.0",
            "grid_template_areas": null,
            "object_position": null,
            "object_fit": null,
            "grid_auto_columns": null,
            "margin": null,
            "display": null,
            "left": null
          }
        },
        "42961d673f504c0f98f112434d73b6f7": {
          "model_module": "@jupyter-widgets/controls",
          "model_name": "HTMLModel",
          "model_module_version": "1.5.0",
          "state": {
            "_view_name": "HTMLView",
            "style": "IPY_MODEL_025b54ce4d1045fb81c06e232ee8c542",
            "_dom_classes": [],
            "description": "",
            "_model_name": "HTMLModel",
            "placeholder": "​",
            "_view_module": "@jupyter-widgets/controls",
            "_model_module_version": "1.5.0",
            "value": "100%",
            "_view_count": null,
            "_view_module_version": "1.5.0",
            "description_tooltip": null,
            "_model_module": "@jupyter-widgets/controls",
            "layout": "IPY_MODEL_512956b532ad48c1ba38d70ee1c84d8c"
          }
        },
        "092637e2e8cd479fbf68089660d0fb5e": {
          "model_module": "@jupyter-widgets/controls",
          "model_name": "FloatProgressModel",
          "model_module_version": "1.5.0",
          "state": {
            "_view_name": "ProgressView",
            "style": "IPY_MODEL_2509adfabb3546fba2657f2bd89897a5",
            "_dom_classes": [],
            "description": "",
            "_model_name": "FloatProgressModel",
            "bar_style": "success",
            "max": 2500,
            "_view_module": "@jupyter-widgets/controls",
            "_model_module_version": "1.5.0",
            "value": 2500,
            "_view_count": null,
            "_view_module_version": "1.5.0",
            "orientation": "horizontal",
            "min": 0,
            "description_tooltip": null,
            "_model_module": "@jupyter-widgets/controls",
            "layout": "IPY_MODEL_64f0f14d19a7482db338d7d844357e43"
          }
        },
        "b79629b029fc43409c6c0c456625b14c": {
          "model_module": "@jupyter-widgets/controls",
          "model_name": "HTMLModel",
          "model_module_version": "1.5.0",
          "state": {
            "_view_name": "HTMLView",
            "style": "IPY_MODEL_426cc3f8b71d4423a47eb263b5417245",
            "_dom_classes": [],
            "description": "",
            "_model_name": "HTMLModel",
            "placeholder": "​",
            "_view_module": "@jupyter-widgets/controls",
            "_model_module_version": "1.5.0",
            "value": " 2500/2500 [01:41&lt;00:00, 23.12it/s]",
            "_view_count": null,
            "_view_module_version": "1.5.0",
            "description_tooltip": null,
            "_model_module": "@jupyter-widgets/controls",
            "layout": "IPY_MODEL_ebd4be8340814d11aa334609a7798cd4"
          }
        },
        "025b54ce4d1045fb81c06e232ee8c542": {
          "model_module": "@jupyter-widgets/controls",
          "model_name": "DescriptionStyleModel",
          "model_module_version": "1.5.0",
          "state": {
            "_view_name": "StyleView",
            "_model_name": "DescriptionStyleModel",
            "description_width": "",
            "_view_module": "@jupyter-widgets/base",
            "_model_module_version": "1.5.0",
            "_view_count": null,
            "_view_module_version": "1.2.0",
            "_model_module": "@jupyter-widgets/controls"
          }
        },
        "512956b532ad48c1ba38d70ee1c84d8c": {
          "model_module": "@jupyter-widgets/base",
          "model_name": "LayoutModel",
          "model_module_version": "1.2.0",
          "state": {
            "_view_name": "LayoutView",
            "grid_template_rows": null,
            "right": null,
            "justify_content": null,
            "_view_module": "@jupyter-widgets/base",
            "overflow": null,
            "_model_module_version": "1.2.0",
            "_view_count": null,
            "flex_flow": null,
            "width": null,
            "min_width": null,
            "border": null,
            "align_items": null,
            "bottom": null,
            "_model_module": "@jupyter-widgets/base",
            "top": null,
            "grid_column": null,
            "overflow_y": null,
            "overflow_x": null,
            "grid_auto_flow": null,
            "grid_area": null,
            "grid_template_columns": null,
            "flex": null,
            "_model_name": "LayoutModel",
            "justify_items": null,
            "grid_row": null,
            "max_height": null,
            "align_content": null,
            "visibility": null,
            "align_self": null,
            "height": null,
            "min_height": null,
            "padding": null,
            "grid_auto_rows": null,
            "grid_gap": null,
            "max_width": null,
            "order": null,
            "_view_module_version": "1.2.0",
            "grid_template_areas": null,
            "object_position": null,
            "object_fit": null,
            "grid_auto_columns": null,
            "margin": null,
            "display": null,
            "left": null
          }
        },
        "2509adfabb3546fba2657f2bd89897a5": {
          "model_module": "@jupyter-widgets/controls",
          "model_name": "ProgressStyleModel",
          "model_module_version": "1.5.0",
          "state": {
            "_view_name": "StyleView",
            "_model_name": "ProgressStyleModel",
            "description_width": "",
            "_view_module": "@jupyter-widgets/base",
            "_model_module_version": "1.5.0",
            "_view_count": null,
            "_view_module_version": "1.2.0",
            "bar_color": null,
            "_model_module": "@jupyter-widgets/controls"
          }
        },
        "64f0f14d19a7482db338d7d844357e43": {
          "model_module": "@jupyter-widgets/base",
          "model_name": "LayoutModel",
          "model_module_version": "1.2.0",
          "state": {
            "_view_name": "LayoutView",
            "grid_template_rows": null,
            "right": null,
            "justify_content": null,
            "_view_module": "@jupyter-widgets/base",
            "overflow": null,
            "_model_module_version": "1.2.0",
            "_view_count": null,
            "flex_flow": null,
            "width": null,
            "min_width": null,
            "border": null,
            "align_items": null,
            "bottom": null,
            "_model_module": "@jupyter-widgets/base",
            "top": null,
            "grid_column": null,
            "overflow_y": null,
            "overflow_x": null,
            "grid_auto_flow": null,
            "grid_area": null,
            "grid_template_columns": null,
            "flex": null,
            "_model_name": "LayoutModel",
            "justify_items": null,
            "grid_row": null,
            "max_height": null,
            "align_content": null,
            "visibility": null,
            "align_self": null,
            "height": null,
            "min_height": null,
            "padding": null,
            "grid_auto_rows": null,
            "grid_gap": null,
            "max_width": null,
            "order": null,
            "_view_module_version": "1.2.0",
            "grid_template_areas": null,
            "object_position": null,
            "object_fit": null,
            "grid_auto_columns": null,
            "margin": null,
            "display": null,
            "left": null
          }
        },
        "426cc3f8b71d4423a47eb263b5417245": {
          "model_module": "@jupyter-widgets/controls",
          "model_name": "DescriptionStyleModel",
          "model_module_version": "1.5.0",
          "state": {
            "_view_name": "StyleView",
            "_model_name": "DescriptionStyleModel",
            "description_width": "",
            "_view_module": "@jupyter-widgets/base",
            "_model_module_version": "1.5.0",
            "_view_count": null,
            "_view_module_version": "1.2.0",
            "_model_module": "@jupyter-widgets/controls"
          }
        },
        "ebd4be8340814d11aa334609a7798cd4": {
          "model_module": "@jupyter-widgets/base",
          "model_name": "LayoutModel",
          "model_module_version": "1.2.0",
          "state": {
            "_view_name": "LayoutView",
            "grid_template_rows": null,
            "right": null,
            "justify_content": null,
            "_view_module": "@jupyter-widgets/base",
            "overflow": null,
            "_model_module_version": "1.2.0",
            "_view_count": null,
            "flex_flow": null,
            "width": null,
            "min_width": null,
            "border": null,
            "align_items": null,
            "bottom": null,
            "_model_module": "@jupyter-widgets/base",
            "top": null,
            "grid_column": null,
            "overflow_y": null,
            "overflow_x": null,
            "grid_auto_flow": null,
            "grid_area": null,
            "grid_template_columns": null,
            "flex": null,
            "_model_name": "LayoutModel",
            "justify_items": null,
            "grid_row": null,
            "max_height": null,
            "align_content": null,
            "visibility": null,
            "align_self": null,
            "height": null,
            "min_height": null,
            "padding": null,
            "grid_auto_rows": null,
            "grid_gap": null,
            "max_width": null,
            "order": null,
            "_view_module_version": "1.2.0",
            "grid_template_areas": null,
            "object_position": null,
            "object_fit": null,
            "grid_auto_columns": null,
            "margin": null,
            "display": null,
            "left": null
          }
        },
        "d533587a5e4b4e72853ad6c8a9a41bf8": {
          "model_module": "@jupyter-widgets/controls",
          "model_name": "HBoxModel",
          "model_module_version": "1.5.0",
          "state": {
            "_view_name": "HBoxView",
            "_dom_classes": [],
            "_model_name": "HBoxModel",
            "_view_module": "@jupyter-widgets/controls",
            "_model_module_version": "1.5.0",
            "_view_count": null,
            "_view_module_version": "1.5.0",
            "box_style": "",
            "layout": "IPY_MODEL_dde30770e13c444c8bf5b6c3fd0032cc",
            "_model_module": "@jupyter-widgets/controls",
            "children": [
              "IPY_MODEL_aee5917dc705450dadfcf5e1ba17f2d3",
              "IPY_MODEL_a7ba8dffb9d04ac8b908b81d58a8579e",
              "IPY_MODEL_21a48102bd67403d95939ce80e44bd8e"
            ]
          }
        },
        "dde30770e13c444c8bf5b6c3fd0032cc": {
          "model_module": "@jupyter-widgets/base",
          "model_name": "LayoutModel",
          "model_module_version": "1.2.0",
          "state": {
            "_view_name": "LayoutView",
            "grid_template_rows": null,
            "right": null,
            "justify_content": null,
            "_view_module": "@jupyter-widgets/base",
            "overflow": null,
            "_model_module_version": "1.2.0",
            "_view_count": null,
            "flex_flow": null,
            "width": null,
            "min_width": null,
            "border": null,
            "align_items": null,
            "bottom": null,
            "_model_module": "@jupyter-widgets/base",
            "top": null,
            "grid_column": null,
            "overflow_y": null,
            "overflow_x": null,
            "grid_auto_flow": null,
            "grid_area": null,
            "grid_template_columns": null,
            "flex": null,
            "_model_name": "LayoutModel",
            "justify_items": null,
            "grid_row": null,
            "max_height": null,
            "align_content": null,
            "visibility": null,
            "align_self": null,
            "height": null,
            "min_height": null,
            "padding": null,
            "grid_auto_rows": null,
            "grid_gap": null,
            "max_width": null,
            "order": null,
            "_view_module_version": "1.2.0",
            "grid_template_areas": null,
            "object_position": null,
            "object_fit": null,
            "grid_auto_columns": null,
            "margin": null,
            "display": null,
            "left": null
          }
        },
        "aee5917dc705450dadfcf5e1ba17f2d3": {
          "model_module": "@jupyter-widgets/controls",
          "model_name": "HTMLModel",
          "model_module_version": "1.5.0",
          "state": {
            "_view_name": "HTMLView",
            "style": "IPY_MODEL_2f5dc777e4384568a24042783592415f",
            "_dom_classes": [],
            "description": "",
            "_model_name": "HTMLModel",
            "placeholder": "​",
            "_view_module": "@jupyter-widgets/controls",
            "_model_module_version": "1.5.0",
            "value": " 90%",
            "_view_count": null,
            "_view_module_version": "1.5.0",
            "description_tooltip": null,
            "_model_module": "@jupyter-widgets/controls",
            "layout": "IPY_MODEL_1543d591e8cd432282e632a642d022d6"
          }
        },
        "a7ba8dffb9d04ac8b908b81d58a8579e": {
          "model_module": "@jupyter-widgets/controls",
          "model_name": "FloatProgressModel",
          "model_module_version": "1.5.0",
          "state": {
            "_view_name": "ProgressView",
            "style": "IPY_MODEL_8d1d2fdb018a4afd90466ced612e2f9c",
            "_dom_classes": [],
            "description": "",
            "_model_name": "FloatProgressModel",
            "bar_style": "danger",
            "max": 162690,
            "_view_module": "@jupyter-widgets/controls",
            "_model_module_version": "1.5.0",
            "value": 146930,
            "_view_count": null,
            "_view_module_version": "1.5.0",
            "orientation": "horizontal",
            "min": 0,
            "description_tooltip": null,
            "_model_module": "@jupyter-widgets/controls",
            "layout": "IPY_MODEL_9cca727c15054629ae4aaa208b7c073f"
          }
        },
        "21a48102bd67403d95939ce80e44bd8e": {
          "model_module": "@jupyter-widgets/controls",
          "model_name": "HTMLModel",
          "model_module_version": "1.5.0",
          "state": {
            "_view_name": "HTMLView",
            "style": "IPY_MODEL_a0b821cbd9ce4a49b6f259827812476e",
            "_dom_classes": [],
            "description": "",
            "_model_name": "HTMLModel",
            "placeholder": "​",
            "_view_module": "@jupyter-widgets/controls",
            "_model_module_version": "1.5.0",
            "value": " 146930/162690 [24:03&lt;02:31, 104.31it/s]",
            "_view_count": null,
            "_view_module_version": "1.5.0",
            "description_tooltip": null,
            "_model_module": "@jupyter-widgets/controls",
            "layout": "IPY_MODEL_3d319cf0a2a94e01a9e3f98af61e0f80"
          }
        },
        "2f5dc777e4384568a24042783592415f": {
          "model_module": "@jupyter-widgets/controls",
          "model_name": "DescriptionStyleModel",
          "model_module_version": "1.5.0",
          "state": {
            "_view_name": "StyleView",
            "_model_name": "DescriptionStyleModel",
            "description_width": "",
            "_view_module": "@jupyter-widgets/base",
            "_model_module_version": "1.5.0",
            "_view_count": null,
            "_view_module_version": "1.2.0",
            "_model_module": "@jupyter-widgets/controls"
          }
        },
        "1543d591e8cd432282e632a642d022d6": {
          "model_module": "@jupyter-widgets/base",
          "model_name": "LayoutModel",
          "model_module_version": "1.2.0",
          "state": {
            "_view_name": "LayoutView",
            "grid_template_rows": null,
            "right": null,
            "justify_content": null,
            "_view_module": "@jupyter-widgets/base",
            "overflow": null,
            "_model_module_version": "1.2.0",
            "_view_count": null,
            "flex_flow": null,
            "width": null,
            "min_width": null,
            "border": null,
            "align_items": null,
            "bottom": null,
            "_model_module": "@jupyter-widgets/base",
            "top": null,
            "grid_column": null,
            "overflow_y": null,
            "overflow_x": null,
            "grid_auto_flow": null,
            "grid_area": null,
            "grid_template_columns": null,
            "flex": null,
            "_model_name": "LayoutModel",
            "justify_items": null,
            "grid_row": null,
            "max_height": null,
            "align_content": null,
            "visibility": null,
            "align_self": null,
            "height": null,
            "min_height": null,
            "padding": null,
            "grid_auto_rows": null,
            "grid_gap": null,
            "max_width": null,
            "order": null,
            "_view_module_version": "1.2.0",
            "grid_template_areas": null,
            "object_position": null,
            "object_fit": null,
            "grid_auto_columns": null,
            "margin": null,
            "display": null,
            "left": null
          }
        },
        "8d1d2fdb018a4afd90466ced612e2f9c": {
          "model_module": "@jupyter-widgets/controls",
          "model_name": "ProgressStyleModel",
          "model_module_version": "1.5.0",
          "state": {
            "_view_name": "StyleView",
            "_model_name": "ProgressStyleModel",
            "description_width": "",
            "_view_module": "@jupyter-widgets/base",
            "_model_module_version": "1.5.0",
            "_view_count": null,
            "_view_module_version": "1.2.0",
            "bar_color": null,
            "_model_module": "@jupyter-widgets/controls"
          }
        },
        "9cca727c15054629ae4aaa208b7c073f": {
          "model_module": "@jupyter-widgets/base",
          "model_name": "LayoutModel",
          "model_module_version": "1.2.0",
          "state": {
            "_view_name": "LayoutView",
            "grid_template_rows": null,
            "right": null,
            "justify_content": null,
            "_view_module": "@jupyter-widgets/base",
            "overflow": null,
            "_model_module_version": "1.2.0",
            "_view_count": null,
            "flex_flow": null,
            "width": null,
            "min_width": null,
            "border": null,
            "align_items": null,
            "bottom": null,
            "_model_module": "@jupyter-widgets/base",
            "top": null,
            "grid_column": null,
            "overflow_y": null,
            "overflow_x": null,
            "grid_auto_flow": null,
            "grid_area": null,
            "grid_template_columns": null,
            "flex": null,
            "_model_name": "LayoutModel",
            "justify_items": null,
            "grid_row": null,
            "max_height": null,
            "align_content": null,
            "visibility": null,
            "align_self": null,
            "height": null,
            "min_height": null,
            "padding": null,
            "grid_auto_rows": null,
            "grid_gap": null,
            "max_width": null,
            "order": null,
            "_view_module_version": "1.2.0",
            "grid_template_areas": null,
            "object_position": null,
            "object_fit": null,
            "grid_auto_columns": null,
            "margin": null,
            "display": null,
            "left": null
          }
        },
        "a0b821cbd9ce4a49b6f259827812476e": {
          "model_module": "@jupyter-widgets/controls",
          "model_name": "DescriptionStyleModel",
          "model_module_version": "1.5.0",
          "state": {
            "_view_name": "StyleView",
            "_model_name": "DescriptionStyleModel",
            "description_width": "",
            "_view_module": "@jupyter-widgets/base",
            "_model_module_version": "1.5.0",
            "_view_count": null,
            "_view_module_version": "1.2.0",
            "_model_module": "@jupyter-widgets/controls"
          }
        },
        "3d319cf0a2a94e01a9e3f98af61e0f80": {
          "model_module": "@jupyter-widgets/base",
          "model_name": "LayoutModel",
          "model_module_version": "1.2.0",
          "state": {
            "_view_name": "LayoutView",
            "grid_template_rows": null,
            "right": null,
            "justify_content": null,
            "_view_module": "@jupyter-widgets/base",
            "overflow": null,
            "_model_module_version": "1.2.0",
            "_view_count": null,
            "flex_flow": null,
            "width": null,
            "min_width": null,
            "border": null,
            "align_items": null,
            "bottom": null,
            "_model_module": "@jupyter-widgets/base",
            "top": null,
            "grid_column": null,
            "overflow_y": null,
            "overflow_x": null,
            "grid_auto_flow": null,
            "grid_area": null,
            "grid_template_columns": null,
            "flex": null,
            "_model_name": "LayoutModel",
            "justify_items": null,
            "grid_row": null,
            "max_height": null,
            "align_content": null,
            "visibility": null,
            "align_self": null,
            "height": null,
            "min_height": null,
            "padding": null,
            "grid_auto_rows": null,
            "grid_gap": null,
            "max_width": null,
            "order": null,
            "_view_module_version": "1.2.0",
            "grid_template_areas": null,
            "object_position": null,
            "object_fit": null,
            "grid_auto_columns": null,
            "margin": null,
            "display": null,
            "left": null
          }
        }
      }
    }
  },
  "cells": [
    {
      "cell_type": "code",
      "metadata": {
        "colab": {
          "base_uri": "https://localhost:8080/"
        },
        "id": "4PPoi8vIqg3N",
        "outputId": "9d39e751-2857-4e52-d969-47777fa546b4"
      },
      "source": [
        "from google.colab import drive\n",
        "drive.mount('/content/drive')\n",
        "\n",
        "DRIVE_PATH = \"/content/drive/MyDrive/YandexCup/\""
      ],
      "id": "4PPoi8vIqg3N",
      "execution_count": 7,
      "outputs": [
        {
          "output_type": "stream",
          "name": "stdout",
          "text": [
            "Drive already mounted at /content/drive; to attempt to forcibly remount, call drive.mount(\"/content/drive\", force_remount=True).\n"
          ]
        }
      ]
    },
    {
      "cell_type": "markdown",
      "metadata": {
        "id": "j48XMiSVnQ5L"
      },
      "source": [
        "Загружаем скачанный классификатор токсичности:"
      ],
      "id": "j48XMiSVnQ5L"
    },
    {
      "cell_type": "markdown",
      "metadata": {
        "id": "1RuRhakQwFHh"
      },
      "source": [
        "#Score"
      ],
      "id": "1RuRhakQwFHh"
    },
    {
      "cell_type": "code",
      "metadata": {
        "id": "4Dn955iigDqD"
      },
      "source": [
        "!pip install -q transformers\n",
        "!pip install -q natasha\n",
        "!pip install -q pymorphy2\n",
        "!pip install -q -U pymorphy2-dicts-ru\n",
        "!pip install -q hnswlib\n",
        "!pip install -q pymystem3\n",
        "!pip install -q pymorphy2\n",
        "!pip install -q -U pymorphy2-dicts-ru"
      ],
      "id": "4Dn955iigDqD",
      "execution_count": 8,
      "outputs": []
    },
    {
      "cell_type": "code",
      "metadata": {
        "colab": {
          "base_uri": "https://localhost:8080/"
        },
        "id": "QEJBYCTzgxCn",
        "outputId": "0f189e5e-661a-4fa2-ea86-6414010cbd01"
      },
      "source": [
        "!wget http://download.cdn.yandex.net/mystem/mystem-3.0-linux3.1-64bit.tar.gz\n",
        "!tar -xvf mystem-3.0-linux3.1-64bit.tar.gz\n",
        "!cp mystem /root/.local/bin/mystem"
      ],
      "id": "QEJBYCTzgxCn",
      "execution_count": 9,
      "outputs": [
        {
          "output_type": "stream",
          "name": "stdout",
          "text": [
            "--2021-10-14 15:55:23--  http://download.cdn.yandex.net/mystem/mystem-3.0-linux3.1-64bit.tar.gz\n",
            "Resolving download.cdn.yandex.net (download.cdn.yandex.net)... 5.45.205.241, 5.45.205.243, 5.45.205.245, ...\n",
            "Connecting to download.cdn.yandex.net (download.cdn.yandex.net)|5.45.205.241|:80... connected.\n",
            "HTTP request sent, awaiting response... 302 Found\n",
            "Location: http://cache-man01i.cdn.yandex.net/download.cdn.yandex.net/mystem/mystem-3.0-linux3.1-64bit.tar.gz [following]\n",
            "--2021-10-14 15:55:24--  http://cache-man01i.cdn.yandex.net/download.cdn.yandex.net/mystem/mystem-3.0-linux3.1-64bit.tar.gz\n",
            "Resolving cache-man01i.cdn.yandex.net (cache-man01i.cdn.yandex.net)... 5.45.205.221, 2a02:6b8::3:221\n",
            "Connecting to cache-man01i.cdn.yandex.net (cache-man01i.cdn.yandex.net)|5.45.205.221|:80... connected.\n",
            "HTTP request sent, awaiting response... 200 OK\n",
            "Length: 16457938 (16M) [application/octet-stream]\n",
            "Saving to: ‘mystem-3.0-linux3.1-64bit.tar.gz.2’\n",
            "\n",
            "mystem-3.0-linux3.1 100%[===================>]  15.70M  4.85MB/s    in 4.0s    \n",
            "\n",
            "2021-10-14 15:55:29 (3.93 MB/s) - ‘mystem-3.0-linux3.1-64bit.tar.gz.2’ saved [16457938/16457938]\n",
            "\n",
            "mystem\n",
            "cp: cannot create regular file '/root/.local/bin/mystem': Text file busy\n"
          ]
        }
      ]
    },
    {
      "cell_type": "code",
      "metadata": {
        "id": "_rGJ6ptQnQ5h",
        "colab": {
          "base_uri": "https://localhost:8080/"
        },
        "outputId": "cabc5f5b-5ed0-459c-e103-eae35d8b25b6"
      },
      "source": [
        "import gensim\n",
        "from pymystem3 import Mystem\n",
        "\n",
        "stemmer = Mystem()\n",
        "lemmas = stemmer.lemmatize(\"Красивая мама красиво мыла раму\")\n",
        "print(lemmas)"
      ],
      "id": "_rGJ6ptQnQ5h",
      "execution_count": 10,
      "outputs": [
        {
          "output_type": "stream",
          "name": "stdout",
          "text": [
            "['красивый', ' ', 'мама', ' ', 'красиво', ' ', 'мыть', ' ', 'рама', '\\n']\n"
          ]
        }
      ]
    },
    {
      "cell_type": "code",
      "metadata": {
        "colab": {
          "base_uri": "https://localhost:8080/"
        },
        "id": "9jjjQyE2wl7L",
        "outputId": "1c13d622-9ed5-440c-c62a-d5c88c82d42a"
      },
      "source": [
        "!pip install https://github.com/kpu/kenlm/archive/master.zip\n",
        "!pip install -q kenlm"
      ],
      "id": "9jjjQyE2wl7L",
      "execution_count": 11,
      "outputs": [
        {
          "output_type": "stream",
          "name": "stdout",
          "text": [
            "Collecting https://github.com/kpu/kenlm/archive/master.zip\n",
            "  Downloading https://github.com/kpu/kenlm/archive/master.zip (540 kB)\n",
            "\u001b[K     |████████████████████████████████| 540 kB 922 kB/s \n",
            "\u001b[?25hBuilding wheels for collected packages: kenlm\n",
            "  Building wheel for kenlm (setup.py) ... \u001b[?25l\u001b[?25hdone\n",
            "  Created wheel for kenlm: filename=kenlm-0.0.0-cp37-cp37m-linux_x86_64.whl size=2337417 sha256=bf4997c1223fe9493400dc09f4503133ca1dff9408513abda8da98729294a53b\n",
            "  Stored in directory: /tmp/pip-ephem-wheel-cache-oo9ugm59/wheels/3d/aa/02/7b4a2eab5d7a2a9391bd9680dbad6270808a147bc3b7047e4e\n",
            "Successfully built kenlm\n",
            "Installing collected packages: kenlm\n",
            "Successfully installed kenlm-0.0.0\n"
          ]
        }
      ]
    },
    {
      "cell_type": "code",
      "metadata": {
        "id": "V5SFllGhwHmz"
      },
      "source": [
        "import numpy as np\n",
        "\n",
        "import os\n",
        "from transformers import AutoTokenizer, AutoModelForSequenceClassification\n",
        "import torch\n",
        "from torch import softmax, sigmoid\n",
        "from tqdm.auto import tqdm\n",
        "import argparse\n",
        "from pymystem3 import Mystem\n",
        "import sys\n",
        "from collections import Counter\n",
        "from functools import partial\n",
        "import kenlm\n",
        "\n",
        "from transformers import AutoTokenizer, AutoModelForSequenceClassification\n",
        "\n",
        "tokenizer = AutoTokenizer.from_pretrained(\"/content/drive/MyDrive/YandexCup/trained_roberta\")\n",
        "\n",
        "model = AutoModelForSequenceClassification.from_pretrained(\"/content/drive/MyDrive/YandexCup/trained_roberta\").cuda()\n",
        "\n",
        "lm = kenlm.Model('/content/drive/MyDrive/YandexCup/lm.binary')\n",
        "\n",
        "\n",
        "\n",
        "TOXIC_CLASS=-1\n",
        "TOKENIZATION_TYPE='sentencepiece'\n",
        "\n",
        "\n",
        "ALLOWED_ALPHABET=list(map(chr, range(ord('а'), ord('я') + 1)))\n",
        "ALLOWED_ALPHABET.extend(map(chr, range(ord('a'), ord('z') + 1)))\n",
        "ALLOWED_ALPHABET.extend(list(map(str.upper, ALLOWED_ALPHABET)))\n",
        "ALLOWED_ALPHABET = set(ALLOWED_ALPHABET)\n",
        "\n",
        "\n",
        "def logits_to_toxic_probas(logits):\n",
        "    if logits.shape[-1] > 1:\n",
        "        activation = lambda x: softmax(x, -1)\n",
        "    else:\n",
        "        activation = sigmoid\n",
        "    return activation(logits)[:, TOXIC_CLASS].cpu().detach().numpy()\n",
        "\n",
        "\n",
        "def is_word_start(token):\n",
        "    if TOKENIZATION_TYPE == 'sentencepiece':\n",
        "        return token.startswith('▁')\n",
        "    if TOKENIZATION_TYPE == 'bert':\n",
        "        return not token.startswith('##')\n",
        "    raise ValueError(\"Unknown tokenization type\")\n",
        "\n",
        "\n",
        "def normalize(sentence, max_tokens_per_word=20):\n",
        "    def validate_char(c):\n",
        "        return c in ALLOWED_ALPHABET\n",
        "    \n",
        "    sentence = ''.join(map(lambda c: c if validate_char(c) else ' ', sentence.lower()))\n",
        "    ids = tokenizer(sentence)['input_ids']\n",
        "    tokens = tokenizer.convert_ids_to_tokens(ids)[1:-1]\n",
        "    \n",
        "    result = []\n",
        "    num_continuation_tokens = 0\n",
        "    for token in tokens:\n",
        "        if not is_word_start(token):\n",
        "            num_continuation_tokens += 1\n",
        "            if num_continuation_tokens < max_tokens_per_word:\n",
        "                result.append(token.lstrip('#▁'))\n",
        "        else:\n",
        "            num_continuation_tokens = 0\n",
        "            result.extend([' ', token.lstrip('▁#')])\n",
        "    \n",
        "    return ''.join(result).strip()\n",
        "\n",
        "\n",
        "def iterate_batches(data, batch_size=40):\n",
        "    batch = []\n",
        "    for x in data:\n",
        "        batch.append(x)\n",
        "        if len(batch) >= batch_size:\n",
        "            yield batch\n",
        "            batch = []\n",
        "    if len(batch) > 0:\n",
        "        yield batch\n",
        "\n",
        "\n",
        "def predict_toxicity_1(sentences, batch_size=5, threshold=0.5, return_scores=False, verbose=True, device='cuda'):\n",
        "    results = []\n",
        "    for batch in iterate_batches(sentences, batch_size):\n",
        "        normlized = [normalize(sent, max_tokens_per_word=5) for sent in batch]\n",
        "        tokenized = tokenizer(normlized, return_tensors='pt', padding=True, max_length=512, truncation=True)\n",
        "    \n",
        "        logits = model.to(device)(**{key: val.to(device) for key, val in tokenized.items()}).logits\n",
        "        preds = logits_to_toxic_probas(logits)\n",
        "        if not return_scores:\n",
        "            preds = preds >= threshold\n",
        "        results.extend(preds)\n",
        "    return results\n",
        "\n",
        "\n",
        "def get_w2v_indicies_1(a):\n",
        "    res = []\n",
        "    if isinstance(a, str):\n",
        "        a = a.split()\n",
        "    for w in a:\n",
        "        if w in embs_voc:\n",
        "            res.append((w, embs_voc[w]))\n",
        "        else:\n",
        "            if w.isalpha():\n",
        "                lemma = stemmer.lemmatize(w)[0]\n",
        "                res.append((embs_voc.get(lemma), None))\n",
        "    return res\n",
        "\n",
        "\n",
        "def load_embeddings(path):\n",
        "    embs_file = np.load(path, allow_pickle=True)\n",
        "    embs_vectors = embs_file['vectors']\n",
        "    embs_voc = embs_file['voc'].item()\n",
        "\n",
        "    embs_voc_by_id = [None for i in range(len(embs_vectors))]\n",
        "    for word, idx in embs_voc.items():\n",
        "        if embs_voc_by_id[idx] is None:\n",
        "            embs_voc_by_id[idx] = word\n",
        "    return embs_vectors, embs_voc, embs_voc_by_id\n",
        "\n",
        "\n",
        "def calc_embs_1(words):\n",
        "    words = ' '.join(map(normalize, words))\n",
        "    inds = get_w2v_indicies_1(words)\n",
        "    return [(w, i if i is None else embs_vectors[i]) for w, i in inds]\n",
        "\n",
        "\n",
        "def calc_single_embedding_dist(a, b):\n",
        "    a_s, a_v = a  #слово, вектор\n",
        "    b_s, b_v = b  #слово, вектор\n",
        "    if a_s == b_s: #если слова равны\n",
        "        return 0.0\n",
        "    if a_v is None or b_v is None: #если одно из векторов нет - дать пизды \n",
        "        return 1.0\n",
        "    a = a_v\n",
        "    b = b_v\n",
        "    # inexact match is punished by 0.1\n",
        "    return 0.1 + 0.9 * (1 - a.dot(b) / np.linalg.norm(a) / np.linalg.norm(b)) / 2\n",
        "\n",
        "\n",
        "def greedy_match_embs(a, b, max_dist=99999, cache=None, a_ind=0, b_ind=0):\n",
        "    a_len = len(a) - a_ind #сколько слов мы еще не рассмотрели в а\n",
        "    b_len = len(b) - b_ind #сколько слов мы еще не рассмотрели в b\n",
        "    minlen = min(a_len, b_len) #минимальная длина строки\n",
        "    maxlen = max(a_len, b_len) #минимальная длина строки\n",
        "    if minlen == 0: \n",
        "        return np.minimum(maxlen, max_dist) \n",
        "    if maxlen - minlen >= max_dist: \n",
        "        return max_dist \n",
        "    \n",
        "    if cache is None:\n",
        "        cache = {}\n",
        "    \n",
        "    cache_key = (a_len, b_len)\n",
        "    if cache_key in cache:\n",
        "        return cache[cache_key]\n",
        "        \n",
        "    min_dist = max_dist\n",
        "    \n",
        "    first_dist = calc_single_embedding_dist(a[a_ind], b[b_ind])\n",
        "    if max_dist >= first_dist:\n",
        "        min_dist = np.minimum(min_dist, first_dist + greedy_match_embs(\n",
        "            a, b, max_dist, cache, a_ind + 1, b_ind + 1\n",
        "        ))\n",
        "    \n",
        "    if first_dist > 0 and max_dist >= 1:\n",
        "        min_dist = np.minimum(min_dist, 1 + greedy_match_embs(\n",
        "            a, b, max_dist, cache, a_ind + 1, b_ind\n",
        "        ))\n",
        "        min_dist = np.minimum(min_dist, 1 + greedy_match_embs(\n",
        "            a, b, max_dist, cache, a_ind, b_ind + 1\n",
        "        ))\n",
        "    \n",
        "    cache[cache_key] = min_dist\n",
        "    \n",
        "    return min_dist\n",
        "\n",
        "\n",
        "\n",
        "def calc_semantic_distance(a, b):\n",
        "    a_embs = calc_embs_1(a)\n",
        "    b_embs = calc_embs_1(b)\n",
        "    \n",
        "    clip_distance = 5  # this clips long computations\n",
        "    return np.exp(-(greedy_match_embs(a_embs, b_embs, max_dist=clip_distance) / (0.6 * np.log(1 + len(a)))) ** 2)\n",
        "\n",
        "\n",
        "def distance_score(original, fixed):\n",
        "    original = original.split()\n",
        "    fixed = fixed.split()\n",
        "    \n",
        "    return calc_semantic_distance(original, fixed)\n",
        "\n",
        "\n",
        "def compute_lmdiff(original, fixed):\n",
        "    original_lm_logproba = lm.score(original, bos=True, eos=True)\n",
        "    fixed_lm_logproba = lm.score(fixed, bos=True, eos=True)\n",
        "    \n",
        "    probability_fraction = 10**((fixed_lm_logproba - original_lm_logproba) / 25)\n",
        "    \n",
        "    return np.clip(probability_fraction, 0.0, 1.0)\n",
        "\n",
        "\n",
        "def compute_score(original_sentences, fixed_sentences, threshold=0.5, batch_size=5, show_res = False, return_result = False):\n",
        "    fixed_toxicities = predict_toxicity_1(fixed_sentences, threshold=threshold, batch_size=batch_size, return_scores=True)\n",
        "    scores = []\n",
        "    lmdiffs = []\n",
        "    emb_dists = []\n",
        "    for original_sentence, fixed_sentence, fixed_toxicity in tqdm(zip(\n",
        "        original_sentences, fixed_sentences, fixed_toxicities\n",
        "    ), miniters=250, disable= True):\n",
        "        original_sentence = normalize(original_sentence)\n",
        "        fixed_sentence = normalize(fixed_sentence)\n",
        "        \n",
        "        distance = distance_score(original_sentence, fixed_sentence)\n",
        "        lmdiff = compute_lmdiff(original_sentence, fixed_sentence)\n",
        "        \n",
        "        score = (1 - fixed_toxicity) * distance * lmdiff\n",
        "        \n",
        "        lmdiffs.append(lmdiff)\n",
        "        emb_dists.append(distance)\n",
        "        scores.append(score)\n",
        "        \n",
        "    if show_res:\n",
        "        print('average toxicity:', np.mean(fixed_toxicities), file=sys.stderr)\n",
        "        print('mean lmdiff:', np.mean(lmdiffs), file=sys.stderr)\n",
        "        print('mean distance_score:', np.mean(emb_dists), file=sys.stderr)\n",
        "        print('score', np.mean(scores) * 100, file=sys.stderr)\n",
        "        \n",
        "    if return_result:\n",
        "        return {\"scores\" : scores, \n",
        "                \"toxicities\" : fixed_toxicities, \n",
        "                \"lmdiffs\" : lmdiffs,\n",
        "                \"distance_scores\" : emb_dists}\n",
        "    else:\n",
        "        return np.mean(scores)\n",
        "\n",
        "'''\n",
        "def parse_args():\n",
        "    parser = argparse.ArgumentParser()\n",
        "    parser.add_argument('original_texts', type=argparse.FileType('r'))\n",
        "    parser.add_argument('fixed_texts', type=argparse.FileType('r'))\n",
        "    parser.add_argument('--score', type=argparse.FileType('w'))\n",
        "    parser.add_argument('--model', required=True, type=str)\n",
        "    parser.add_argument('--embeddings', type=str, required=True)\n",
        "    parser.add_argument('--lm', type=str, required=True)\n",
        "    parser.add_argument('--device', type=str, choices=['cuda', 'cpu'], default='cpu')\n",
        "    \n",
        "    return parser.parse_args()\n",
        "'''\n",
        "\n",
        "def new_checker(original_texts, fixed_texts, device='cuda', show_res = False, return_result = False):\n",
        "    original_texts = list(map(str.strip, original_texts))\n",
        "    fixed_texts = list(map(str.strip, fixed_texts))\n",
        "    \n",
        "    assert len(original_texts) == len(fixed_texts)\n",
        "    \n",
        "    with torch.inference_mode(True):\n",
        "        if return_result:\n",
        "            return compute_score(original_texts, fixed_texts, show_res = show_res, return_result=return_result)\n",
        "        return (100 * compute_score(original_texts, fixed_texts, show_res = show_res))"
      ],
      "id": "V5SFllGhwHmz",
      "execution_count": 12,
      "outputs": []
    },
    {
      "cell_type": "markdown",
      "metadata": {
        "id": "r4i76mZ6pFjC"
      },
      "source": [
        "#Solution:"
      ],
      "id": "r4i76mZ6pFjC"
    },
    {
      "cell_type": "code",
      "metadata": {
        "id": "I-t83-1unQ5T"
      },
      "source": [
        "from transformers import AutoTokenizer, AutoModelForSequenceClassification\n",
        "  \n",
        "tokenizer = AutoTokenizer.from_pretrained(DRIVE_PATH + \"trained_roberta\")\n",
        "\n",
        "model = AutoModelForSequenceClassification.from_pretrained(DRIVE_PATH + \"trained_roberta\").cuda()\n",
        "\n",
        "TOXIC_CLASS=-1\n",
        "TOKENIZATION_TYPE='sentencepiece'\n"
      ],
      "id": "I-t83-1unQ5T",
      "execution_count": 13,
      "outputs": []
    },
    {
      "cell_type": "markdown",
      "metadata": {
        "id": "d9kNHI42nQ5Y"
      },
      "source": [
        "Ниже функции для применения классификатора"
      ],
      "id": "d9kNHI42nQ5Y"
    },
    {
      "cell_type": "code",
      "metadata": {
        "id": "7WmnQL19nQ5Z"
      },
      "source": [
        "from torch import softmax, sigmoid\n",
        "import numpy as np\n",
        "\n",
        "\n",
        "import os\n",
        "from transformers import AutoTokenizer, AutoModelForSequenceClassification\n",
        "import torch\n",
        "from tqdm.auto import tqdm\n",
        "import argparse\n",
        "from pymystem3 import Mystem\n",
        "import sys\n",
        "from collections import Counter\n",
        "from functools import partial\n",
        "\n",
        "\n",
        "\n",
        "ALLOWED_ALPHABET=list(map(chr, range(ord('а'), ord('я') + 1)))\n",
        "ALLOWED_ALPHABET.extend(map(chr, range(ord('a'), ord('z') + 1)))\n",
        "ALLOWED_ALPHABET.extend(list(map(str.upper, ALLOWED_ALPHABET)))\n",
        "ALLOWED_ALPHABET = set(ALLOWED_ALPHABET)\n",
        "\n",
        "\n",
        "def logits_to_toxic_probas(logits):\n",
        "    if logits.shape[-1] > 1:\n",
        "        activation = lambda x: softmax(x, -1)\n",
        "    else:\n",
        "        activation = sigmoid\n",
        "    return activation(logits)[:, TOXIC_CLASS].cpu().detach().numpy()\n",
        "\n",
        "\n",
        "def is_word_start(token):\n",
        "    if TOKENIZATION_TYPE == 'sentencepiece':\n",
        "        return token.startswith('▁')\n",
        "    if TOKENIZATION_TYPE == 'bert':\n",
        "        return not token.startswith('##')\n",
        "    raise ValueError(\"Unknown tokenization type\")\n",
        "\n",
        "\n",
        "def normalize(sentence, max_tokens_per_word=20):\n",
        "    def validate_char(c):\n",
        "        return c in ALLOWED_ALPHABET\n",
        "    \n",
        "    sentence = ''.join(map(lambda c: c if validate_char(c) else ' ', sentence.lower()))\n",
        "    ids = tokenizer(sentence)['input_ids']\n",
        "    tokens = tokenizer.convert_ids_to_tokens(ids)[1:-1]\n",
        "    \n",
        "    result = []\n",
        "    num_continuation_tokens = 0\n",
        "    for token in tokens:\n",
        "        if not is_word_start(token):\n",
        "            num_continuation_tokens += 1\n",
        "            if num_continuation_tokens < max_tokens_per_word:\n",
        "                result.append(token.lstrip('#▁'))\n",
        "        else:\n",
        "            num_continuation_tokens = 0\n",
        "            result.extend([' ', token.lstrip('▁#')])\n",
        "    \n",
        "    return ''.join(result).strip()\n",
        "\n",
        "\n",
        "def iterate_batches(data, batch_size=40):\n",
        "    batch = []\n",
        "    for x in data:\n",
        "        batch.append(x)\n",
        "        if len(batch) >= batch_size:\n",
        "            yield batch\n",
        "            batch = []\n",
        "    if len(batch) > 0:\n",
        "        yield batch\n",
        "\n",
        "from tqdm.auto import tqdm\n",
        "def predict_toxicity(sentences, batch_size=5, threshold=0.5, return_scores=False, verbose=True, device='cuda', off_tqdm=False):\n",
        "    results = []\n",
        "    tqdm_fn = tqdm if verbose else lambda x, total: x\n",
        "    for batch in tqdm_fn(iterate_batches(sentences, batch_size), total=np.ceil(len(sentences) / batch_size),  disable=off_tqdm):\n",
        "        normlized = [normalize(sent, max_tokens_per_word=5) for sent in batch]\n",
        "        tokenized = tokenizer(normlized, return_tensors='pt', padding=True, max_length=512, truncation=True)\n",
        "        \n",
        "        model_input = {key: val.to(device) for key, val in tokenized.items()}\n",
        "        \n",
        "        logits = model.to(device)(**model_input).logits\n",
        "        \n",
        "        preds = logits_to_toxic_probas(logits)\n",
        "        \n",
        "        if not return_scores:\n",
        "            preds = preds >= threshold\n",
        "        results.extend(preds)\n",
        "    return results\n"
      ],
      "id": "7WmnQL19nQ5Z",
      "execution_count": 14,
      "outputs": []
    },
    {
      "cell_type": "code",
      "metadata": {
        "id": "H4FxufcaOTf8",
        "colab": {
          "base_uri": "https://localhost:8080/"
        },
        "outputId": "39bafaac-bd97-4659-b939-5972e0264c71"
      },
      "source": [
        "texts = []\n",
        "raw_texts = []\n",
        "with open(DRIVE_PATH + 'public_testset.txt', 'rt') as f:\n",
        "    for line in f:\n",
        "        raw_texts.append(line) \n",
        "        texts.append(normalize(line))"
      ],
      "id": "H4FxufcaOTf8",
      "execution_count": 15,
      "outputs": [
        {
          "output_type": "stream",
          "name": "stderr",
          "text": [
            "Token indices sequence length is longer than the specified maximum sequence length for this model (534 > 512). Running this sequence through the model will result in indexing errors\n"
          ]
        }
      ]
    },
    {
      "cell_type": "markdown",
      "metadata": {
        "id": "o-M9Ks4NnQ5e"
      },
      "source": [
        "Вычисляем токсичность отдельных слов"
      ],
      "id": "o-M9Ks4NnQ5e"
    },
    {
      "cell_type": "code",
      "metadata": {
        "colab": {
          "base_uri": "https://localhost:8080/",
          "height": 49,
          "referenced_widgets": [
            "0f3d54f5e4014ee1afda07c3cb108212",
            "96586df867c449a7a6d47b4e8b1d4a39",
            "9bd0aa1d911c47e485905250d121fba5",
            "462acab8f0d849b0b861c81ccf640c1b",
            "2389973b9a49461e9beadefb72b4b8ea",
            "eca2c3604a7b491189fcf252855ce48a",
            "1073e3a33698441bbf0701264fdb5b6a",
            "d0142b708d67462ba89394dcfbb341a3",
            "8a3b07e1a0aa4df4a228473ed52dfc7b",
            "75c9fc228d904c64b4d8afb5567d6e90",
            "dd31527d4b4d4672a8790d55cbf444a4"
          ]
        },
        "id": "dUV4MFFuH9z0",
        "outputId": "f6fde11a-f2db-4bc7-e278-5d31b91d66e1"
      },
      "source": [
        "line_toxicities = []\n",
        "line_mean_toxicities = []\n",
        "\n",
        "for line in tqdm(np.random.choice(raw_texts, 25)):\n",
        "    pred = predict_toxicity([line], return_scores=True, off_tqdm=True)\n",
        "    \n",
        "    line_words = normalize(line).split()\n",
        "    toxi = [predict_toxicity([word], return_scores=True, off_tqdm=True) for word in line_words]\n",
        "    \n",
        "    line_toxicities.append(pred[0])\n",
        "    line_mean_toxicities.append(np.mean(toxi))\n",
        "\n"
      ],
      "id": "dUV4MFFuH9z0",
      "execution_count": 16,
      "outputs": [
        {
          "output_type": "display_data",
          "data": {
            "application/vnd.jupyter.widget-view+json": {
              "model_id": "0f3d54f5e4014ee1afda07c3cb108212",
              "version_minor": 0,
              "version_major": 2
            },
            "text/plain": [
              "  0%|          | 0/25 [00:00<?, ?it/s]"
            ]
          },
          "metadata": {}
        }
      ]
    },
    {
      "cell_type": "code",
      "metadata": {
        "colab": {
          "base_uri": "https://localhost:8080/"
        },
        "id": "PmP3tB70YW7K",
        "outputId": "7903cccf-5904-4281-ffbe-2f38cbedaf10"
      },
      "source": [
        "print(f\"На ({len(line_toxicities)} комментах):\")\n",
        "print(np.mean(line_toxicities), f\"- средняя токсичность всего комментария\")\n",
        "print(np.mean(line_mean_toxicities), \"- cредняя токсичность каждого слова в комментарии\")"
      ],
      "id": "PmP3tB70YW7K",
      "execution_count": 17,
      "outputs": [
        {
          "output_type": "stream",
          "name": "stdout",
          "text": [
            "На (25 комментах):\n",
            "0.73615175 - средняя токсичность всего комментария\n",
            "0.20213725 - cредняя токсичность каждого слова в комментарии\n"
          ]
        }
      ]
    },
    {
      "cell_type": "code",
      "metadata": {
        "colab": {
          "base_uri": "https://localhost:8080/"
        },
        "id": "_l4JOb1Sfo0d",
        "outputId": "2d7c8c10-eb02-481e-9099-970e6e33bed1"
      },
      "source": [
        "line = raw_texts[100]\n",
        "pred = predict_toxicity([line], return_scores=True, off_tqdm=True)\n",
        "\n",
        "line_words = normalize(line).split()\n",
        "toxi = [predict_toxicity([word], return_scores=True, off_tqdm=True) for word in line_words]\n",
        "\n",
        "print(line)\n",
        "print(pred)\n",
        "print(line_words)\n",
        "print(toxi)"
      ],
      "id": "_l4JOb1Sfo0d",
      "execution_count": 18,
      "outputs": [
        {
          "output_type": "stream",
          "name": "stdout",
          "text": [
            "Можно сказать проще - кукуха едет от старческого маразма.\n",
            "\n",
            "[0.8303647]\n",
            "['можно', 'сказать', 'проще', 'кукуха', 'едет', 'от', 'старческого', 'маразма']\n",
            "[[0.07630243], [0.2619401], [0.04409236], [0.56395835], [0.15138271], [0.0645212], [0.2058756], [0.63614625]]\n"
          ]
        }
      ]
    },
    {
      "cell_type": "markdown",
      "metadata": {
        "id": "7eBW4a9SnQ5g"
      },
      "source": [
        "Ниже читаем эмбеддинги слов и описываем функции их обработки"
      ],
      "id": "7eBW4a9SnQ5g"
    },
    {
      "cell_type": "code",
      "metadata": {
        "id": "Sw6Cw6OrhQ_0"
      },
      "source": [
        "!pip install -q pymorphy2\n",
        "!pip install -q -U pymorphy2-dicts-ru\n",
        "\n",
        "from pymystem3 import Mystem\n",
        "from pymorphy2 import MorphAnalyzer\n",
        "import pymorphy2\n",
        "\n",
        "\n",
        "morph = pymorphy2.MorphAnalyzer(lang='ru')"
      ],
      "id": "Sw6Cw6OrhQ_0",
      "execution_count": 19,
      "outputs": []
    },
    {
      "cell_type": "code",
      "metadata": {
        "id": "eA4ZdcdtnQ5n"
      },
      "source": [
        "def save_comments(comments, name):\n",
        "    with open(DRIVE_PATH + f'submits/{name}.txt', 'wt') as f:\n",
        "        for text in comments:\n",
        "            print(text, file=f)\n",
        "        "
      ],
      "id": "eA4ZdcdtnQ5n",
      "execution_count": 20,
      "outputs": []
    },
    {
      "cell_type": "code",
      "metadata": {
        "id": "LAHXRXFAnQ5h"
      },
      "source": [
        "embs_file = np.load(DRIVE_PATH + 'embeddings_with_lemmas.npz', allow_pickle=True)\n",
        "embs_vectors = embs_file['vectors']\n",
        "embs_vectors_normed = embs_vectors / np.linalg.norm(embs_vectors, axis=1, keepdims=True)\n",
        "embs_voc = embs_file['voc'].item()\n",
        "\n",
        "embs_voc_by_id = [None for i in range(len(embs_vectors))]\n",
        "for word, idx in embs_voc.items():\n",
        "    if embs_voc_by_id[idx] is None:\n",
        "        embs_voc_by_id[idx] = word"
      ],
      "id": "LAHXRXFAnQ5h",
      "execution_count": 21,
      "outputs": []
    },
    {
      "cell_type": "markdown",
      "metadata": {
        "id": "aZeHdlIBg_IM"
      },
      "source": [
        "#Улучшаем словарь toxicity"
      ],
      "id": "aZeHdlIBg_IM"
    },
    {
      "cell_type": "code",
      "metadata": {
        "id": "haeSdvvlnhLp"
      },
      "source": [
        "toxicity = dict()"
      ],
      "id": "haeSdvvlnhLp",
      "execution_count": 66,
      "outputs": []
    },
    {
      "cell_type": "code",
      "metadata": {
        "id": "DszbbeyujOxv"
      },
      "source": [
        "#словарь русских ругательств\n",
        "def improve_toxicity(data):\n",
        "\n",
        "    words = set()\n",
        "    for text in data:\n",
        "        words.update(text.split())\n",
        "    words = sorted(words)\n",
        "\n",
        "    with torch.inference_mode():\n",
        "        word_toxicities = predict_toxicity(words, batch_size=100, return_scores=True)\n",
        "\n",
        "    before = len(toxicity)\n",
        "    for word, tox in zip(words, word_toxicities):\n",
        "        toxicity[word] = tox\n",
        "    print(\"New words :\", len(toxicity) - before)\n",
        "    print(\"Cur len :\", len(toxicity))\n"
      ],
      "id": "DszbbeyujOxv",
      "execution_count": 63,
      "outputs": []
    },
    {
      "cell_type": "code",
      "metadata": {
        "colab": {
          "base_uri": "https://localhost:8080/",
          "height": 82,
          "referenced_widgets": [
            "4653b17a958c4e2aa045d531c662cce4",
            "2baec400242c44b18d62eff5e616da0e",
            "b8711237e4fb4b76ac0cded50881ec27",
            "c0cc292877ca499cb0fa3a9d6bf8d07f",
            "ebf0aacab8ed4b789a6b4170f686c61e",
            "1bacdab175f44affadf0e2aa79cf7310",
            "0addb8866b564908b5d15f88328749e0",
            "d9393691621e4731bf66abb06d7e00fe",
            "700166427f094845a2c8ad1ecbadf7b7",
            "37406be64fc444289bec80ee5355cebe",
            "9cd8ae0250e040bcba76a33687a40043"
          ]
        },
        "id": "GFSe872vnrBj",
        "outputId": "35132138-9743-4cc3-f0eb-549c945b4351"
      },
      "source": [
        "#1) Эмбеддинги\n",
        "data = embs_voc.keys()\n",
        "improve_toxicity(data)"
      ],
      "id": "GFSe872vnrBj",
      "execution_count": 67,
      "outputs": [
        {
          "output_type": "display_data",
          "data": {
            "application/vnd.jupyter.widget-view+json": {
              "model_id": "4653b17a958c4e2aa045d531c662cce4",
              "version_minor": 0,
              "version_major": 2
            },
            "text/plain": [
              "  0%|          | 0/1627.0 [00:00<?, ?it/s]"
            ]
          },
          "metadata": {}
        },
        {
          "output_type": "stream",
          "name": "stdout",
          "text": [
            "New words : 162674\n",
            "Cur len : 162674\n"
          ]
        }
      ]
    },
    {
      "cell_type": "code",
      "metadata": {
        "colab": {
          "base_uri": "https://localhost:8080/",
          "height": 82,
          "referenced_widgets": [
            "3709e151bdf84645b3265afec919e23f",
            "02262f0d41a2463e8cec276f0872288a",
            "8d58dbf0839e48129af89826a2017816",
            "e6004e6cecf34a26b708b2db91ee08d3",
            "c8283775049744d08aeb9e19b0c38e7c",
            "c3acc5df151a40c997d1a7e152b64957",
            "b3099f1d266643f79a83056c00d449ab",
            "26ec9507114242909fe2cca05cdc2591",
            "4c6405cf34624e09b69379572de795a2",
            "4d476e4270684f70937d543181e535c6",
            "44edd3ceacad47b5a59d6c236f34918e"
          ]
        },
        "id": "P4B3LPzMnR3-",
        "outputId": "ef55e0d8-8b92-4462-efff-9672d677beb0"
      },
      "source": [
        "#2) Комментарии\n",
        "data = texts\n",
        "improve_toxicity(data)"
      ],
      "id": "P4B3LPzMnR3-",
      "execution_count": 68,
      "outputs": [
        {
          "output_type": "display_data",
          "data": {
            "application/vnd.jupyter.widget-view+json": {
              "model_id": "3709e151bdf84645b3265afec919e23f",
              "version_minor": 0,
              "version_major": 2
            },
            "text/plain": [
              "  0%|          | 0/221.0 [00:00<?, ?it/s]"
            ]
          },
          "metadata": {}
        },
        {
          "output_type": "stream",
          "name": "stdout",
          "text": [
            "New words : 15015\n",
            "Cur len : 177689\n"
          ]
        }
      ]
    },
    {
      "cell_type": "code",
      "metadata": {
        "colab": {
          "base_uri": "https://localhost:8080/",
          "height": 82,
          "referenced_widgets": [
            "c49371a0679644e2bbedccd0bd63a1fe",
            "eb4a0bd027744de4b8311a091c2231fd",
            "2d08b3e4a8e645c1ba9d2df4518c53cb",
            "9147c46b9bd44f158263b9eaef09f520",
            "5cbef45f96ec4185a2f8230e427b33b9",
            "1eb74dd3e48240f88333190c012b70cd",
            "ac6fd26c34d34a5fba09127247c159d6",
            "0d37b112be6648e6ba7a0f614a01abce",
            "1ad057f251e04f9fb4a3a5c1a1e68623",
            "548e2277eb1d4a0eaa4742ab6dc99495",
            "5f0d235fb53b4149b6b06afa62e85130"
          ]
        },
        "id": "JalfCHkUmsGP",
        "outputId": "27eaa8de-e94b-4a81-ce4c-02285525deb0"
      },
      "source": [
        "#3) Словарь ругательств\n",
        "data = []\n",
        "with open(DRIVE_PATH + 'dicitionary/russkiy-mat.txt', 'rt') as f:\n",
        "    for line in f:\n",
        "        line = normalize(line)\n",
        "        if line:\n",
        "            data.append(line)\n",
        "\n",
        "improve_toxicity(data)"
      ],
      "id": "JalfCHkUmsGP",
      "execution_count": 69,
      "outputs": [
        {
          "output_type": "display_data",
          "data": {
            "application/vnd.jupyter.widget-view+json": {
              "model_id": "c49371a0679644e2bbedccd0bd63a1fe",
              "version_minor": 0,
              "version_major": 2
            },
            "text/plain": [
              "  0%|          | 0/170.0 [00:00<?, ?it/s]"
            ]
          },
          "metadata": {}
        },
        {
          "output_type": "stream",
          "name": "stdout",
          "text": [
            "New words : 9797\n",
            "Cur len : 187486\n"
          ]
        }
      ]
    },
    {
      "cell_type": "code",
      "metadata": {
        "colab": {
          "base_uri": "https://localhost:8080/",
          "height": 114,
          "referenced_widgets": [
            "9fe10e9284904cf3ba33e5fc2ad1b953",
            "7a7fe9f792aa4897adf4762042439435",
            "48b184ae164c4b2e89bd57bfe5e4ca02",
            "f5c80f9815e5437ea8b5222b19014d2a",
            "38d939bdb4c74f04879804aeab6c0ae7",
            "6710de49252e447896904649326a5051",
            "9a5c108fd32e4c14b14fd79f7437fefa",
            "ca60e4d5cacd4e2e8cf6992a792240f3",
            "a416de20747b42f984379b7a36219e1b",
            "ce0a6bf575ae4f08ad44bc924000cc62",
            "fd3422dd65bc4c6cb607a31a8378e9b4"
          ]
        },
        "id": "j6HOCvrJl2sE",
        "outputId": "a13be211-d6c4-4002-c18e-9c26f409b72a"
      },
      "source": [
        "#4) Комментарии из какого-то датасета\n",
        "import pandas as pd\n",
        "comments = pd.read_csv(DRIVE_PATH + \"dicitionary/final.csv\")\n",
        "\n",
        "data = []\n",
        "for line in tqdm(comments[\"text\"].tolist()):\n",
        "    line = normalize(line)\n",
        "    if line:\n",
        "        data.append(line)\n",
        "        \n",
        "improve_toxicity(data)"
      ],
      "id": "j6HOCvrJl2sE",
      "execution_count": 70,
      "outputs": [
        {
          "output_type": "display_data",
          "data": {
            "application/vnd.jupyter.widget-view+json": {
              "model_id": "9fe10e9284904cf3ba33e5fc2ad1b953",
              "version_minor": 0,
              "version_major": 2
            },
            "text/plain": [
              "  0%|          | 0/248287 [00:00<?, ?it/s]"
            ]
          },
          "metadata": {}
        },
        {
          "output_type": "display_data",
          "data": {
            "application/vnd.jupyter.widget-view+json": {
              "model_id": "804247ee42e3496189e3f370cb01bdc6",
              "version_minor": 0,
              "version_major": 2
            },
            "text/plain": [
              "  0%|          | 0/2358.0 [00:00<?, ?it/s]"
            ]
          },
          "metadata": {}
        },
        {
          "output_type": "stream",
          "name": "stdout",
          "text": [
            "New words : 181041\n",
            "Cur len : 368527\n"
          ]
        }
      ]
    },
    {
      "cell_type": "code",
      "metadata": {
        "id": "tkdVwjmx4fFh"
      },
      "source": [
        "sorted_toxicity = {k: v for k, v in sorted(toxicity.items(), key=lambda item: item[1], reverse = True)}\n",
        "for k, v in list(sorted_toxicity.items())[-100:]:\n",
        "    print(k ,v)"
      ],
      "id": "tkdVwjmx4fFh",
      "execution_count": null,
      "outputs": []
    },
    {
      "cell_type": "code",
      "metadata": {
        "id": "0Urk1iXpnQ5i"
      },
      "source": [
        "def get_w2v_indicies(a):\n",
        "    res = []\n",
        "    if isinstance(a, str):\n",
        "        a = a.split()\n",
        "    for w in a:\n",
        "        if w in embs_voc:\n",
        "            res.append(embs_voc[w])\n",
        "        else:\n",
        "            \n",
        "            lemma = stemmer.lemmatize(w)[0]#morph.parse(w)[0].normal_form\n",
        "            res.append(embs_voc.get(lemma, None))\n",
        "    return res\n",
        "\n",
        "def calc_embs(words):\n",
        "    words = ' '.join(map(normalize, words))\n",
        "    inds = get_w2v_indicies(words)\n",
        "\n",
        "    return [None if i is None else embs_vectors[i] for i in inds]"
      ],
      "id": "0Urk1iXpnQ5i",
      "execution_count": 24,
      "outputs": []
    },
    {
      "cell_type": "markdown",
      "metadata": {
        "id": "M7Dw297MnQ5i"
      },
      "source": [
        "Сложим эмбеддинги нетоксичных слов в kd-дерево, чтобы можно было близко искать ближайших соседей"
      ],
      "id": "M7Dw297MnQ5i"
    },
    {
      "cell_type": "code",
      "metadata": {
        "colab": {
          "base_uri": "https://localhost:8080/"
        },
        "id": "eK_b4NW_BKzS",
        "outputId": "22075da0-3fb7-4c19-f9cb-22cfd5369469"
      },
      "source": [
        "MAX_TOXICITY  = 1\n",
        "\n",
        "non_toxicity = {word : val for word, val in toxicity.items() if val <= MAX_TOXICITY}\n",
        "\n",
        "nontoxic_emb_inds = [ind for word, ind in embs_voc.items() if toxicity.get(word, 1.0) <= MAX_TOXICITY]\n",
        "embs_vectors_normed_nontoxic = embs_vectors_normed[nontoxic_emb_inds]\n",
        "\n",
        "print(len(non_toxicity))"
      ],
      "id": "eK_b4NW_BKzS",
      "execution_count": 26,
      "outputs": [
        {
          "output_type": "stream",
          "name": "stdout",
          "text": [
            "162690\n"
          ]
        }
      ]
    },
    {
      "cell_type": "code",
      "metadata": {
        "colab": {
          "base_uri": "https://localhost:8080/"
        },
        "id": "dXmqK--yrOaW",
        "outputId": "a730115e-d821-468b-fa13-df69c57477f5"
      },
      "source": [
        "#Super non toxic words \n",
        "\n",
        "MAX_TOXICITY  = 0.01\n",
        "\n",
        "super_non_toxic = {word : val for word, val in toxicity.items() if val <= MAX_TOXICITY}\n",
        "\n",
        "super_nontoxic_emb_inds = [ind for word, ind in embs_voc.items() if toxicity.get(word, 1.0) <= MAX_TOXICITY]\n",
        "super_embs_vectors_normed_nontoxic = embs_vectors_normed[super_nontoxic_emb_inds]\n",
        "\n",
        "print(len(super_non_toxic))\n",
        "print(super_non_toxic)\n",
        "print(len(super_embs_vectors_normed_nontoxic))"
      ],
      "id": "dXmqK--yrOaW",
      "execution_count": 27,
      "outputs": [
        {
          "output_type": "stream",
          "name": "stdout",
          "text": [
            "255\n",
            "{'howo': 0.009838613, 'section': 0.009659221, 'selected': 0.009694491, '2-4mp': 0.009839244, 'result': 0.009991114, 'mpm': 0.0096359, 'postscript': 0.00974957, 'дизайн-проект': 0.009940755, 'ctp': 0.00979208, 'workbook': 0.00958096, 'product': 0.009963871, 'j-1': 0.009945445, 'apply': 0.009644574, 'certificate': 0.009878223, 'cardin': 0.009779644, '[text': 0.009994719, 'mp3': 0.009839244, 'projector': 0.009711683, 'rental': 0.009812759, 'mps': 0.009665829, 'ideaphone': 0.009980343, '-дизайн': 0.009810781, 'airflow': 0.009890847, 'pocketbook': 0.009745045, 'purchase': 0.009702743, 'checkpoint': 0.00965198, 'b-class': 0.009974619, 'information': 0.0099925855, 'registered': 0.009675798, 'vvv': 0.009896731, 'callback': 0.00972145, 'j7': 0.009945445, 'documents': 0.009758518, 'dcfta': 0.009765147, 'promotion': 0.009836448, 'polycom': 0.009978759, 'jcomments': 0.009724541, 'projects': 0.00969858, 'casein': 0.009815169, 'allview': 0.009727797, 'lifebook': 0.009661553, 'easy': 0.009900264, 'chaozhou': 0.0098348325, 'freeplay': 0.00963115, 'playbook': 0.009671033, 'speedo': 0.009708757, 'cf': 0.009771859, 'addresses': 0.009629136, 'свеже': 0.009760704, 'required': 0.009756584, 'number': 0.009684096, 'masterforex': 0.009819001, 'practice': 0.00999235, 'infotag': 0.009945946, 'продолжений': 0.009842385, 'payment': 0.009956751, 'services': 0.009805724, 'духе': 0.009820138, 'workcentre': 0.009838232, 'rm': 0.009863166, 'well': 0.00995505, 'wellneo': 0.009960559, 'asbook': 0.0099136, 'software': 0.009833235, 'titles': 0.009676713, 'united': 0.009875164, 'yam': 0.00973132, '4-8mp': 0.009839244, 'cfg': 0.009709422, 'edit': 0.00984908, 'j1': 0.009945445, 'cvv': 0.009812449, 'wcf': 0.009744373, 'netbook': 0.009657247, 'call-center': 0.009763764, 'дизайный': 0.009849666, 'recommend': 0.009804214, 'sheet': 0.009822109, 'j': 0.009945445, 'закладный': 0.009939168, 'onliner.by': 0.009730259, 'english': 0.0098932935, 'infocom': 0.009834425, 'collection': 0.009980587, 'mpc': 0.0096781375, 'email': 0.009845104, 'preview': 0.009746988, 'recommended': 0.009754723, 'интерес': 0.009950445, 'reserved': 0.009967582, 'order': 0.009708761, 'support': 0.009715264, 'спасибок': 0.0096559515, 'j5': 0.009945445, 'foundation': 0.009960771, 'mp': 0.009839244, 'guestbook': 0.009714621, 'designo': 0.009641389, 'holiday.by': 0.009982524, '.mp': 0.009839244, 'дизайна': 0.009892657, 'mp2': 0.009839244, 'спасибо': 0.009658565, 'textify': 0.009881068, 'powerdirector': 0.00958519, 'winkhaus': 0.0097380495, 'marketwatch': 0.009843223, 'спасибо,просто': 0.009655495, 'provided': 0.009703988, 'replay': 0.009955068, 'related': 0.009918881, 'ctc': 0.009895597, 'presentation': 0.009924684, 'замечательный': 0.009973716, 'available': 0.009636373, 'supports': 0.009860797, 'спасибочки': 0.009637056, 'openoffice': 0.009925006, 'selectioн': 0.009977191, 'тoгo': 0.009811462, 'management': 0.009850903, 'ifo': 0.009806131, 'program': 0.009971898, 'suitable': 0.00996944, 'moneybookers': 0.009800165, 'edited': 0.009848285, 'rmc': 0.009887517, 'прoкoммeнтировaть': 0.009790429, 'printed': 0.009835238, 'title': 0.009763957, 'аю': 0.009714375, 'pmp': 0.009982812, 'limited': 0.00996143, 'http': 0.009772634, 'last.fm': 0.009887472, 'receive': 0.009703357, 'added': 0.009984003, 'located': 0.009920427, '.спасибо': 0.009658565, '-дизайна': 0.009892657, 'productcode': 0.009695575, 'этoгo': 0.009732593, 'select': 0.0096113505, 'newsonline': 0.009730524, 'тo': 0.009625071, 'account': 0.009770866, 'probook': 0.009632288, 'спасиботраница': 0.009666473, 'закладная': 0.00987654, 'receiver': 0.00961306, 'newsoboz': 0.009951103, 'mmo': 0.009779437, 'designjet': 0.009809331, 'www': 0.009659363, 'call': 0.009879361, 'gamepad': 0.009961824, 'appstore': 0.009768219, 'format': 0.0097941, 'directx': 0.009995624, 'дизайн': 0.009810781, 'commander': 0.009650882, 'заклад': 0.009926661, 'board': 0.009749833, 'spacecom': 0.009831026, 'infomarket': 0.009922599, 'mpg': 0.009634174, 'correction': 0.009762546, 'improve': 0.009962713, 'requirements': 0.009657046, 'cabinet': 0.009781747, 'contact': 0.0098805325, 'ppm': 0.00986535, 'sncf': 0.0097690765, 'evaluation': 0.009935569, 'mpls': 0.009729734, 'mp4': 0.009839244, '12mp': 0.009839244, 'yanc': 0.009982591, 'icf': 0.009957711, 'ppf': 0.009996007, 'cfm': 0.009672098, 'service': 0.009817944, ',спасибо': 0.009658565, 'mmoguider': 0.009821408, 'editions': 0.009870539, 'openbox': 0.009742492, 'explay': 0.009895934, 'mpn': 0.009637009, 'monthly': 0.009936785, 'спасибо,что': 0.009965018, 'н::спасибо': 0.009708752, 'book': 0.009669683, 'design': 0.009824204, 'yamamoto': 0.009983909, 'directmailrobot': 0.009854196, 'excellent': 0.009990614, 'ъc': 0.009933839, 'schedule': 0.009723984, 'caller': 0.00989115, 'direct': 0.009807623, 'types': 0.009738403, 'www.1': 0.009659363, 'received': 0.009896008, 'freesync': 0.009821691, '[email': 0.009845104, 'text': 0.009994719, 'application': 0.009803455, 'j3': 0.009945445, 'nicoin': 0.009802595, 'инспектирований': 0.009868681, 'нo': 0.009832173, 'meddaily': 0.009959455, 'details': 0.009703582, 'carplay': 0.009969403, 'этo': 0.009839858, 'keycollector': 0.00965503, '8.cf': 0.009771859, 'reference': 0.009635673, 'following': 0.009905984, 'дизайновый': 0.009749578, 'ъ': 0.009991745, 'dcf': 0.009869729, 'master': 0.009889166, 'onliner': 0.009938821, 'registration': 0.009704544, 'ya': 0.009848912, 'project': 0.0096392995, 'mastercard': 0.009852908, 'memory': 0.009969277, 'wep': 0.009964596, 'sharepoint': 0.009758454, 'guide': 0.009811462, 'request': 0.009645333, 'promo': 0.009874278, 'cfd': 0.009774271, 'notepad': 0.00980464, 'j2': 0.009945445, 'review': 0.009692124, 'listed': 0.009756879, 'j12': 0.009945445, 'promotions': 0.009941017, 'закладка': 0.009741862, 'card': 0.009972742, '2mp': 0.009839244, 'закладк': 0.00992526, 'address': 0.009620617, 'jpm': 0.009775943, 'cardboard': 0.009643512, 'teamviewer': 0.009698222, 'advice': 0.009829767, 'print': 0.009772043, 'transportation': 0.00978761, 'supported': 0.0098092845, 'json': 0.009958467, 'airplay': 0.009806201}\n",
            "255\n"
          ]
        }
      ]
    },
    {
      "cell_type": "markdown",
      "metadata": {
        "id": "afLzttcHnQ5k"
      },
      "source": [
        "Функция находит самое близкое нетоксичное слово по предпосчитанным эмбеддингам слов"
      ],
      "id": "afLzttcHnQ5k"
    },
    {
      "cell_type": "code",
      "metadata": {
        "colab": {
          "base_uri": "https://localhost:8080/"
        },
        "id": "9f4StVNyvHe3",
        "outputId": "75bc4114-32dd-4c4c-ae24-80c43d7d493e"
      },
      "source": [
        "embs_vectors_normed_nontoxic.shape"
      ],
      "id": "9f4StVNyvHe3",
      "execution_count": 28,
      "outputs": [
        {
          "output_type": "execute_result",
          "data": {
            "text/plain": [
              "(162690, 300)"
            ]
          },
          "metadata": {},
          "execution_count": 28
        }
      ]
    },
    {
      "cell_type": "code",
      "metadata": {
        "id": "OnoIZVNXup7k"
      },
      "source": [
        "import hnswlib\n",
        "import numpy as np\n",
        "import pickle\n",
        "\n",
        "\n",
        "num_elements, dim = super_embs_vectors_normed_nontoxic.shape\n",
        "\n",
        "# Generating sample data\n",
        "data = super_embs_vectors_normed_nontoxic\n",
        "ids = np.arange(num_elements)\n",
        "\n",
        "# Declaring index\n",
        "p = hnswlib.Index(space = 'cosine', dim = dim) # possible options are l2, cosine or ip\n",
        "\n",
        "# Initializing index - the maximum number of elements should be known beforehand\n",
        "p.init_index(max_elements = num_elements, ef_construction = 400, M = 16)\n",
        "\n",
        "# Element insertion (can be called several times):\n",
        "p.add_items(data, ids)"
      ],
      "id": "OnoIZVNXup7k",
      "execution_count": 29,
      "outputs": []
    },
    {
      "cell_type": "code",
      "metadata": {
        "id": "Plv2lT94punc"
      },
      "source": [
        "#A better one\n",
        "\n",
        "from functools import lru_cache\n",
        "\n",
        "@lru_cache()\n",
        "def find_closest_nontoxic(word, word_toxicity, allow_self=False):\n",
        "    #if toxicity.get(word, 1.0) <= threshold:\n",
        "    #    return word\n",
        "\n",
        "    #word_lemmatized = morph.parse(word)[0].normal_form\n",
        "    if word not in embs_voc:\n",
        "        \n",
        "            return word_toxicity, word\n",
        "        #else:\n",
        "           # word = word_lemmatized\n",
        "    \n",
        "\n",
        "    #threshold = min(toxicity.get(word, threshold), threshold)\n",
        "    \n",
        "    word_emb = calc_embs([word])\n",
        "    if word_emb is None or word_emb[0] is None:\n",
        "        return word_toxicity, word\n",
        "\n",
        "\n",
        "    query = p.knn_query(word_emb, k = 200)[0][0]\n",
        "\n",
        "\n",
        "    best_candidate = word\n",
        "    best_score = word_toxicity\n",
        "\n",
        "    \n",
        "\n",
        "    for i in query:\n",
        "        candidate = embs_voc_by_id[nontoxic_emb_inds[i]]\n",
        "        similarity = distance_score(word, candidate)\n",
        "        \n",
        "        if (1 - toxicity.get(candidate)) + (similarity) > best_score:\n",
        "            \n",
        "            best_score = (1 - toxicity.get(candidate)) + (similarity)\n",
        "            best_candidate = candidate \n",
        "            \n",
        "    return toxicity.get(candidate), best_candidate\n"
      ],
      "id": "Plv2lT94punc",
      "execution_count": 30,
      "outputs": []
    },
    {
      "cell_type": "markdown",
      "metadata": {
        "id": "ftLSLtKPnQ5l"
      },
      "source": [
        "Заменяем токсичные слова на ближайшие по эмбеддингам не-токсичные"
      ],
      "id": "ftLSLtKPnQ5l"
    },
    {
      "cell_type": "code",
      "metadata": {
        "colab": {
          "base_uri": "https://localhost:8080/"
        },
        "id": "h8PZTCsgkoyh",
        "outputId": "2edf3128-df1b-4a84-9045-e4a9a14ee114"
      },
      "source": [
        "def sort_by_toxicity(words):\n",
        "    toxicities = [toxicity.get(w) if w in toxicity else predict_toxicity([w], return_scores = True, off_tqdm=True) for w in words]\n",
        "  \n",
        "    result = [[toxicities[i], i, words[i]] for i in range(len(words))]\n",
        "    result.sort()\n",
        "    return result\n",
        "\n",
        "line = line = np.random.choice(raw_texts)\n",
        "pred = predict_toxicity([line], return_scores=True, off_tqdm=True)\n",
        "\n",
        "line_words = normalize(line).split()\n",
        "\n",
        "print(sort_by_toxicity(line_words))"
      ],
      "id": "h8PZTCsgkoyh",
      "execution_count": 31,
      "outputs": [
        {
          "output_type": "stream",
          "name": "stdout",
          "text": [
            "[[0.03607923, 0, 'да'], [0.037498195, 16, 'же'], [0.05111447, 1, 'это'], [0.058970306, 12, 'опять'], [[0.06933392], 10, 'эти'], [0.07904618, 5, 'давно'], [0.08566516, 14, 'на'], [0.112177566, 7, 'в'], [0.14424363, 15, 'те'], [0.14814769, 4, 'люди'], [0.15841357, 9, 'но'], [[0.20971347], 13, 'наступают'], [[0.3590889], 3, 'умные'], [0.3685782, 17, 'грабли'], [[0.5255045], 6, 'выкинули'], [[0.5718526], 11, 'недоросли'], [0.59206426, 8, 'унитаз'], [0.86097527, 2, 'говно']]\n"
          ]
        }
      ]
    },
    {
      "cell_type": "code",
      "metadata": {
        "colab": {
          "base_uri": "https://localhost:8080/"
        },
        "id": "ahpQ9ar23y5C",
        "outputId": "72b6c036-58e7-4ba8-95be-a04544269882"
      },
      "source": [
        "def sort_by_distance(words, word):\n",
        "    result = [[distance_score(word, words[i]), i, words[i]] for i in range(len(words))]\n",
        "    result.sort()\n",
        "    return result\n",
        "\n",
        "print(texts[0])\n",
        "sort_by_distance(texts[0].split(), \"смерть\")"
      ],
      "id": "ahpQ9ar23y5C",
      "execution_count": 32,
      "outputs": [
        {
          "output_type": "stream",
          "name": "stdout",
          "text": [
            "он скоро сдохнет и все вернется\n"
          ]
        },
        {
          "output_type": "execute_result",
          "data": {
            "text/plain": [
              "[[0.0030838375406632423, 2, 'сдохнет'],\n",
              " [0.0030838375406632423, 5, 'вернется'],\n",
              " [0.3301158710261462, 4, 'все'],\n",
              " [0.3321799419260301, 1, 'скоро'],\n",
              " [0.35243420745805787, 3, 'и'],\n",
              " [0.47781617663736303, 0, 'он']]"
            ]
          },
          "metadata": {},
          "execution_count": 32
        }
      ]
    },
    {
      "cell_type": "code",
      "metadata": {
        "id": "uwfKHeX9nQ5l"
      },
      "source": [
        "def detox(line):\n",
        "    \n",
        "    words = normalize(line).split()\n",
        "    sorted_words = sort_by_toxicity(words) #[токсичность, индекс, слово]\n",
        "    \n",
        "    \n",
        "    #cur_toxicity = predict_toxicity([' '.join(words)], return_scores=True, off_tqdm=True)[0]\n",
        "  \n",
        "    while sorted_words:\n",
        "        toxic_toxicity, toxic_idx, toxic_word = sorted_words.pop()\n",
        "        if toxic_toxicity > 0.77:\n",
        "            fixed_word = \"Спасибо\"\n",
        "        else:\n",
        "            fixed_toxicity, fixed_word = find_closest_nontoxic(toxic_word, toxic_toxicity, allow_self = True)\n",
        "        words[toxic_idx] = fixed_word\n",
        "        #if fixed_word != toxic_word:\n",
        "        #    sorted_words.append([fixed_toxicity, toxic_idx, fixed_word])\n",
        "        #    sorted_words.sort()\n",
        "        \n",
        "        #cur_toxicity = predict_toxicity([' '.join(words)], return_scores=True, off_tqdm=True)[0]\n",
        "        \n",
        "\n",
        "    \n",
        "    return ' '.join(words)"
      ],
      "id": "uwfKHeX9nQ5l",
      "execution_count": 33,
      "outputs": []
    },
    {
      "cell_type": "code",
      "metadata": {
        "id": "aB9de4oX0-hu"
      },
      "source": [
        "#Super non toxic\n",
        "def find_most_similar(word):\n",
        "    emb_word = calc_embs([word])\n",
        "    max_similarity = 0\n",
        "    result = \"спасибо\"\n",
        "    for i in p.knn_query(emb_word, k = 5)[0][0]:\n",
        "        \n",
        "        other_word = embs_voc_by_id[super_nontoxic_emb_inds[i]]\n",
        "        \n",
        "        similarity = distance_score(word, other_word)\n",
        "        if similarity > max_similarity:\n",
        "            max_similarity = similarity\n",
        "            result = other_word\n",
        "        #print(other_word, similarity, toxicity.get(other_word))\n",
        "    return result\n",
        "\n",
        "\n",
        "def detox_dumb(line):\n",
        "    words = normalize(line).split()\n",
        "    sorted_words = sort_by_distance(words, \"спасибо\")#sort_by_toxicity(words)\n",
        "    score = new_checker([line], [' '.join(words)])\n",
        "    \n",
        "    while sorted_words[::-1]:\n",
        "        toxic_toxicity, toxic_idx, toxic_word = sorted_words.pop()\n",
        "        \n",
        "        #if toxic_word in embs_voc:\n",
        "        #    fixed_word = find_most_similar(toxic_word)\n",
        "        #else:\n",
        "        fixed_word = \"спасибо\"\n",
        "        \n",
        "        \n",
        "\n",
        "        words[toxic_idx] = fixed_word\n",
        "        new_score = new_checker([line], [' '.join(words)])\n",
        "\n",
        "        if new_score >= score:\n",
        "            score = new_score\n",
        "        else:\n",
        "            words[toxic_idx] = toxic_word\n",
        "            #break\n",
        "    \n",
        "    return ' '.join(words)\n",
        "\n",
        "#scores = np.array(compute_score2([line for i in range(len(detoxed_sentences))], detoxed_sentences))\n",
        "#        words = detoxed_sentences[np.argmax(scores)].split()"
      ],
      "id": "aB9de4oX0-hu",
      "execution_count": 34,
      "outputs": []
    },
    {
      "cell_type": "code",
      "metadata": {
        "id": "fNPmaQ32CJLP",
        "colab": {
          "base_uri": "https://localhost:8080/",
          "height": 116,
          "referenced_widgets": [
            "40b12ec26971441b8bc45a6f518a3bc5",
            "d207e850be2a4dad9aca5836e628b200",
            "7f211f547ff74c1990ae41535bfe9368",
            "f564af3dbb4f44338f010711fb4116d4",
            "1fb563fc77a5462ea7ff07164156e1a8",
            "43c86892a16d44c5ab2326fc2186c7d2",
            "da8aec6b1b8d48daa0405393d817a36c",
            "daa1168bf60b4f85878a01e0564177e1",
            "f6d4f7d241cc4cdc8058f7ff75de3a1e",
            "1d75300f4b514db9a1ce833276c031c4",
            "0ea6dd7358804554bdffc15d7679de7c"
          ]
        },
        "outputId": "7363a392-92fb-4caa-eeab-fe14e9e7788e"
      },
      "source": [
        "Original = []\n",
        "Detoxed = []\n",
        "for i in tqdm(range(0, len(texts), 50)):\n",
        "    line = texts[i]\n",
        "    detoxed = detox_dumb(line)\n",
        "\n",
        "    Original.append(line)\n",
        "    Detoxed.append(detoxed)\n",
        "\n",
        "\n",
        "new_checker(Original, Detoxed, show_res = True)"
      ],
      "id": "fNPmaQ32CJLP",
      "execution_count": null,
      "outputs": [
        {
          "output_type": "display_data",
          "data": {
            "application/vnd.jupyter.widget-view+json": {
              "model_id": "40b12ec26971441b8bc45a6f518a3bc5",
              "version_minor": 0,
              "version_major": 2
            },
            "text/plain": [
              "  0%|          | 0/50 [00:00<?, ?it/s]"
            ]
          },
          "metadata": {}
        },
        {
          "output_type": "stream",
          "name": "stderr",
          "text": [
            "average toxicity: 0.33889008\n",
            "mean lmdiff: 0.9461361997563867\n",
            "mean distance_score: 0.7246765191251217\n"
          ]
        },
        {
          "output_type": "execute_result",
          "data": {
            "text/plain": [
              "46.035975132307"
            ]
          },
          "metadata": {},
          "execution_count": 32
        }
      ]
    },
    {
      "cell_type": "code",
      "metadata": {
        "colab": {
          "base_uri": "https://localhost:8080/",
          "height": 66,
          "referenced_widgets": [
            "d43bb16170f54c25b6c7e5c0422156d3",
            "587cafa0446241ebb576e13c2f77c187",
            "98c001c7f1194e5da61fcd65d7490a0a",
            "7a23149450784ed5b4db71e5d7a0d340",
            "e28a311775734f7f91c0ddfe66ea7189",
            "59a58c9df21543bebc26a70d8a4a91fb",
            "da59884d907141558feb7193aa4c3e60",
            "b8f37f83a4e04c4c85ec64128a1c3f65",
            "099bd2319a574e74b9fd3dcd38093a0c",
            "25965b69363b4a59884e20a623c86452",
            "5de61361dd254a86ba68d91717647859"
          ]
        },
        "id": "-3A2nhppJQ6X",
        "outputId": "09decf98-ec18-45c4-ff7b-d534a279f4a6"
      },
      "source": [
        "predict_toxicity([w], return_scores = True)"
      ],
      "id": "-3A2nhppJQ6X",
      "execution_count": null,
      "outputs": [
        {
          "output_type": "display_data",
          "data": {
            "application/vnd.jupyter.widget-view+json": {
              "model_id": "d43bb16170f54c25b6c7e5c0422156d3",
              "version_minor": 0,
              "version_major": 2
            },
            "text/plain": [
              "  0%|          | 0/1.0 [00:00<?, ?it/s]"
            ]
          },
          "metadata": {}
        },
        {
          "output_type": "execute_result",
          "data": {
            "text/plain": [
              "[0.24380866]"
            ]
          },
          "metadata": {},
          "execution_count": 143
        }
      ]
    },
    {
      "cell_type": "code",
      "metadata": {
        "id": "bkSTy4lhnQ5m",
        "colab": {
          "base_uri": "https://localhost:8080/",
          "height": 116,
          "referenced_widgets": [
            "8451110ed3344b83904f6c1ef33b0b0d",
            "26501541a7d343a7b01a6c4d8702aae3",
            "94e4015ed1c4413693fc166a22fc9ac6",
            "45ac07babef841cbb937f79d05f5c7c1",
            "a418958f7ce342128964f2e57408825b",
            "ad0c4d51e8e846f0bd145af5e6db45b2",
            "4e15b7c783984e83ac05ab44e1834bd2",
            "f8f4d3d921bd4a22aaf49c4d84d5e8d1",
            "33ec3501f83f4b1fb6881096ccfe763b",
            "d030401df76547eb994a8d065d0e9d71",
            "3fb117265cc74a36868eb80b0c708566"
          ]
        },
        "outputId": "d1a303b3-81b9-479b-a861-8347f0ba2544"
      },
      "source": [
        "fixed_texts = list(map(detox_dumb, tqdm(texts)))\n",
        "\n",
        "save_comments(fixed_texts, \"closest_to_thanks\")\n",
        "\n",
        "new_checker(texts, fixed_texts, show_res = True)"
      ],
      "id": "bkSTy4lhnQ5m",
      "execution_count": null,
      "outputs": [
        {
          "output_type": "display_data",
          "data": {
            "application/vnd.jupyter.widget-view+json": {
              "model_id": "8451110ed3344b83904f6c1ef33b0b0d",
              "version_minor": 0,
              "version_major": 2
            },
            "text/plain": [
              "  0%|          | 0/2500 [00:00<?, ?it/s]"
            ]
          },
          "metadata": {}
        },
        {
          "output_type": "stream",
          "name": "stderr",
          "text": [
            "average toxicity: 0.34476024\n",
            "mean lmdiff: 0.9481122214124138\n",
            "mean distance_score: 0.7274946147156974\n"
          ]
        },
        {
          "output_type": "execute_result",
          "data": {
            "text/plain": [
              "46.144001054329166"
            ]
          },
          "metadata": {},
          "execution_count": 74
        }
      ]
    },
    {
      "cell_type": "markdown",
      "metadata": {
        "id": "5RQLQX4LJVHn"
      },
      "source": [
        "#Сравнение решений:"
      ],
      "id": "5RQLQX4LJVHn"
    },
    {
      "cell_type": "code",
      "metadata": {
        "colab": {
          "base_uri": "https://localhost:8080/",
          "height": 133,
          "referenced_widgets": [
            "4bbc1102089b4ca4ba9f98053920f71c",
            "02f20c2991a7487698a75827d5af5793",
            "79c81e608fae4f228a6f0f5a8741e781",
            "f8e1fc8aabb448bca71ff17630373f4e",
            "a863365913e347c889dde0453477e3cd",
            "e4fa5d4a844a4714bafbd0ad93b34d06",
            "d5a8ae5b83214a6abfd82c40a5a3cf1f",
            "c774b0e4c4f84dfbb865c9b44a333b08",
            "636d35815afc4bd6969a1cfedac2f3d3",
            "a2924ad0ec5b497bbe3576134ee5ba28",
            "cec2a43d64cb43d5be1216554ccc14de"
          ]
        },
        "id": "atV-N0w0JUcb",
        "outputId": "23d4af5c-a93c-4b20-bacb-5c0ab0dbc7e1"
      },
      "source": [
        "valya = []\n",
        "kirill = []\n",
        "count_valya = 0\n",
        "count_kirill = 0 \n",
        "\n",
        "with open(DRIVE_PATH + 'submits/bruteforce_hard_2_part.txt', 'rt') as f:\n",
        "    for line in f:\n",
        "        valya.append(line) \n",
        "\n",
        "with open(DRIVE_PATH + 'submits/full_thanks.txt', 'rt') as f:\n",
        "    for line in f:\n",
        "        kirill.append(line) \n",
        "\n",
        "super_result = []\n",
        "for i in tqdm(range(2500)):\n",
        "    kirill_score =  new_checker([texts[i]], [kirill[i]])\n",
        "    valya_score = new_checker([texts[i]], [valya[i]])\n",
        "    if valya_score > kirill_score:\n",
        "        count_valya += 1\n",
        "        super_result.append(valya[i])\n",
        "        #print(valya_score,kirill_score, \"Валя\")\n",
        "    else:\n",
        "        count_kirill += 1\n",
        "        super_result.append(kirill[i])\n",
        "        #print(valya_score, kirill_score, \"Кирилл\")\n",
        "\n",
        "    \n",
        "\n",
        "print(count_valya, count_kirill)\n",
        "new_checker(texts, super_result, show_res = True)"
      ],
      "id": "atV-N0w0JUcb",
      "execution_count": null,
      "outputs": [
        {
          "output_type": "display_data",
          "data": {
            "application/vnd.jupyter.widget-view+json": {
              "model_id": "4bbc1102089b4ca4ba9f98053920f71c",
              "version_minor": 0,
              "version_major": 2
            },
            "text/plain": [
              "  0%|          | 0/2500 [00:00<?, ?it/s]"
            ]
          },
          "metadata": {}
        },
        {
          "output_type": "stream",
          "name": "stdout",
          "text": [
            "686 1814\n"
          ]
        },
        {
          "output_type": "stream",
          "name": "stderr",
          "text": [
            "average toxicity: 0.31801412\n",
            "mean lmdiff: 0.9771276972705748\n",
            "mean distance_score: 0.755816421040236\n"
          ]
        },
        {
          "output_type": "execute_result",
          "data": {
            "text/plain": [
              "51.008772758835654"
            ]
          },
          "metadata": {},
          "execution_count": 39
        }
      ]
    },
    {
      "cell_type": "markdown",
      "metadata": {
        "id": "DcLHuFHvJ1hB"
      },
      "source": [
        "#Merges solutions into ultimate one"
      ],
      "id": "DcLHuFHvJ1hB"
    },
    {
      "cell_type": "code",
      "metadata": {
        "colab": {
          "base_uri": "https://localhost:8080/",
          "height": 220,
          "referenced_widgets": [
            "49f5a32bf2a4441e95bb36d8a06b44e6",
            "208bcdcfb2854063a411188d6cf1899a",
            "42961d673f504c0f98f112434d73b6f7",
            "092637e2e8cd479fbf68089660d0fb5e",
            "b79629b029fc43409c6c0c456625b14c",
            "025b54ce4d1045fb81c06e232ee8c542",
            "512956b532ad48c1ba38d70ee1c84d8c",
            "2509adfabb3546fba2657f2bd89897a5",
            "64f0f14d19a7482db338d7d844357e43",
            "426cc3f8b71d4423a47eb263b5417245",
            "ebd4be8340814d11aa334609a7798cd4"
          ]
        },
        "id": "pj3uPXRzL-qH",
        "outputId": "41855370-731f-466b-ee43-4a6ed97f35da"
      },
      "source": [
        "ultimate_solution = []\n",
        "\n",
        "names = os.listdir(path=\"/content/drive/MyDrive/YandexCup/submits_pro\")\n",
        "if '.ipynb_checkpoints' in names:\n",
        "    names.remove('.ipynb_checkpoints')\n",
        "\n",
        "\n",
        "solutions = {name : [] for name in names}\n",
        "count = {name : 0 for name in names}\n",
        "#reading submits\n",
        "for name in names:\n",
        "    sol = []\n",
        "    with open(DRIVE_PATH + f'submits_pro/{name}', 'rt') as f:\n",
        "        for line in f:\n",
        "            if line.strip():\n",
        "                sol.append(normalize(line))\n",
        "\n",
        "    solutions[name] = sol[:]\n",
        "    print(name, len(sol))\n",
        "\n",
        "for i in tqdm(range(len(texts))):\n",
        "    scores = {name : 0 for name in names}\n",
        "    for name in names:\n",
        "        scores[name] = new_checker([texts[i]], [solutions[name][i]])\n",
        "\n",
        "    best_sol_name = max(scores, key=scores.get)\n",
        "    count[best_sol_name] += 1\n",
        "    ultimate_solution.append(solutions[best_sol_name][i])\n",
        "\n",
        "\n",
        "print(count)\n",
        "print(new_checker(texts, ultimate_solution, show_res = True))\n",
        "#save_comments(ultimate_solution, \"mega\")"
      ],
      "id": "pj3uPXRzL-qH",
      "execution_count": null,
      "outputs": [
        {
          "output_type": "stream",
          "name": "stderr",
          "text": [
            "Token indices sequence length is longer than the specified maximum sequence length for this model (534 > 512). Running this sequence through the model will result in indexing errors\n"
          ]
        },
        {
          "output_type": "stream",
          "name": "stdout",
          "text": [
            "super_2.txt 2500\n",
            "cool.txt 2500\n"
          ]
        },
        {
          "output_type": "display_data",
          "data": {
            "application/vnd.jupyter.widget-view+json": {
              "model_id": "49f5a32bf2a4441e95bb36d8a06b44e6",
              "version_minor": 0,
              "version_major": 2
            },
            "text/plain": [
              "  0%|          | 0/2500 [00:00<?, ?it/s]"
            ]
          },
          "metadata": {}
        },
        {
          "output_type": "stream",
          "name": "stdout",
          "text": [
            "{'super_2.txt': 2178, 'cool.txt': 322}\n",
            "53.2548640218932\n"
          ]
        },
        {
          "output_type": "stream",
          "name": "stderr",
          "text": [
            "average toxicity: 0.3053273\n",
            "mean lmdiff: 0.9732874209663734\n",
            "mean distance_score: 0.7775705304398256\n",
            "score 53.2548640218932\n"
          ]
        }
      ]
    },
    {
      "cell_type": "code",
      "metadata": {
        "id": "npf3uHsJQrjS"
      },
      "source": [
        "save_comments(ultimate_solution, \"lalala\")"
      ],
      "id": "npf3uHsJQrjS",
      "execution_count": null,
      "outputs": []
    },
    {
      "cell_type": "markdown",
      "metadata": {
        "id": "Fy4SiMxOKslu"
      },
      "source": [
        "# Сортируем по скору. Анализируем"
      ],
      "id": "Fy4SiMxOKslu"
    },
    {
      "cell_type": "code",
      "metadata": {
        "id": "d3ReNVfgxAzv"
      },
      "source": [
        "solution = []\n",
        "\n",
        "with open(DRIVE_PATH + 'submits_pro/cool.txt', 'rt') as f:\n",
        "    for line in f:\n",
        "        solution.append(normalize(line))\n",
        "\n",
        "\n",
        "result = new_checker(texts, solution, return_result = True)"
      ],
      "id": "d3ReNVfgxAzv",
      "execution_count": null,
      "outputs": []
    },
    {
      "cell_type": "code",
      "metadata": {
        "colab": {
          "base_uri": "https://localhost:8080/"
        },
        "id": "l4ynZ45mNCJm",
        "outputId": "b634c2e2-9e12-4afd-f07d-8feb2be4a0bb"
      },
      "source": [
        "print(result)\n",
        "print(np.mean(result[\"scores\"]))"
      ],
      "id": "l4ynZ45mNCJm",
      "execution_count": null,
      "outputs": [
        {
          "output_type": "stream",
          "name": "stdout",
          "text": [
            "{'scores': [0.363118312358863, 0.4103537799650043, 0.5835331934211689, 0.389562726020813, 0.2030926493166641, 0.26071022383085407, 0.44466835556224255, 0.6107004874672373, 0.3759409517069033, 0.5176647229739805, 0.7115012779509674, 0.5133160948753357, 0.989504829980433, 0.34543814565741776, 0.5598297899992206, 0.3156755964736664, 0.2910840427172206, 0.34251797971646564, 0.4433456807239648, 0.3374713786534226, 0.2796941201102418, 0.4467968803573997, 0.050262894820802415, 0.9091440237460445, 0.8445682376623154, 0.7501256825133878, 0.4428281409016097, 0.5797071649522693, 0.37061311189881446, 0.8035510629415512, 0.6498369549598112, 0.31670269266969714, 0.3918898204006275, 0.21951766852611979, 0.3913344426137179, 0.7788709301022811, 0.36910870906870874, 0.47994950532146297, 0.3746118621947193, 0.45999213658619775, 0.7666857043922712, 0.5425011836513602, 0.592260867357254, 0.30798521350226965, 0.4287836474939742, 0.863673527343035, 0.7788893936422517, 0.7200039818790822, 0.5516834055114586, 0.0679271498252554, 0.7608428940663864, 0.7857163017125343, 0.8237278717022405, 0.4346053050349098, 0.6195596539234498, 0.36009305068999253, 0.481112737742237, 0.864765713557787, 0.2066099508146019, 0.6298625962203622, 0.8006830629647688, 0.6312528153204653, 0.4196498990058899, 0.3573317352915692, 0.23343166457145037, 0.9567943774163723, 0.5148557089997668, 0.7355916622792256, 0.7441660087684575, 0.5320344479523956, 0.9127727951394895, 0.6676809829468864, 0.8027189671993256, 0.8131729851060413, 0.8914118930697441, 0.6803253981020375, 0.7281607834337829, 0.3819817304611206, 0.47681472404036523, 0.271629924806291, 0.6934223750919455, 0.6853100861554565, 0.8229008145974475, 0.24542739312845485, 0.5024121062669517, 0.7721113150161312, 0.8181631592506813, 0.3358366379547795, 0.6265096918190942, 0.7680189399049914, 0.784227043390274, 0.5617537651264504, 0.4244790190274718, 0.5273182403922789, 0.2233116106953834, 0.7131233039056554, 0.3624944338282586, 0.3568880642267859, 0.35131293235248484, 0.3576414778256426, 0.3858095600509919, 0.4211149829175768, 0.6824074237409575, 0.25673949822032777, 0.49063628911972046, 0.3677588481886925, 0.28949084355074645, 0.9430808519509403, 0.3667155023871854, 0.5487642599806024, 0.21518805228541493, 0.6640730836967207, 0.5523257553577423, 0.6952391880836595, 0.2259868442748558, 0.9249013364315033, 0.9362361069872727, 0.5225228119259158, 0.49983725800833195, 0.6277840496162751, 0.6112104951305575, 0.5415312400694376, 0.5525649837121838, 0.7392867381475423, 0.9901948403567076, 0.869216872337852, 0.1930974962217019, 0.39407357628525785, 0.5651265516222435, 0.33221750438550995, 0.4392236412869763, 0.34462148255013336, 0.7339375164395017, 0.8821357190608978, 0.79162648781727, 0.23063398512273905, 0.8004408776760101, 0.5159335572969137, 0.4544159088005534, 0.4255678630197928, 0.39121525250197475, 0.7925463336278563, 0.5168887788610848, 0.3510432617503083, 0.964063573628664, 0.6269080472188457, 0.5303641403722604, 0.5219601093713222, 0.7880571363425918, 0.14002398266221547, 0.7538719922304153, 0.40883819414120687, 0.7102443505340169, 0.9423942938446999, 0.42249058146002777, 0.26802465642483325, 0.4967836173877016, 0.7074761721126863, 0.3528686761856079, 0.5696746710036551, 0.43251822328293, 0.678010303754907, 0.5157352656348139, 0.4007684856593728, 0.8858137855156663, 0.9117834195494652, 0.8414354723949334, 0.9617113135755062, 0.5377766282071452, 0.31239033511635106, 0.33420173164440337, 0.4577907684615889, 0.5309072629643108, 0.4977180049692895, 0.17086380130759504, 0.2950257087256802, 0.6196198056472013, 0.5204836640205196, 0.33159716863514765, 0.48182688797460616, 0.8743154526756491, 0.5233045706920307, 0.24304504420226117, 0.9624816812574863, 0.20451925171456387, 0.518028927420403, 0.6161745180915962, 0.30290627492185074, 0.594710715621227, 0.8412476612397053, 0.6598354407966844, 0.1964638292573671, 0.6493254174752198, 0.3298322945155179, 0.5102097124414452, 0.633322770377131, 0.5391704742064863, 0.5257943848055133, 0.45679414969401344, 0.7397655476734417, 0.6010622385798625, 0.5837988548590946, 0.4230143408958192, 0.6140442733347055, 0.4728969924611844, 0.5053947417046277, 0.8729306692657014, 0.2766491954578317, 0.508237225607155, 0.9772092401981354, 0.47964505252499184, 0.4684095324329116, 0.33608784926275737, 0.7299630089451731, 0.7148080450134257, 0.7891616231284306, 0.42554302805398203, 0.39720560413587125, 0.28097847364036305, 0.33276272603496104, 0.6400407387101598, 0.6260865100816627, 0.3849982129245533, 0.2221419392555065, 0.9497809521853924, 0.19418743429834937, 0.1222044012109488, 0.48477134715425896, 0.6114230813395264, 0.6167075897294927, 0.5706073114111376, 0.38654084488085505, 0.26484825941564427, 0.1585469440142852, 0.3615400325981886, 0.3830222244853464, 0.5542902351587017, 0.1268137761012896, 0.4621251720421512, 0.5284161896975567, 0.8011484213762015, 0.7552479398108143, 0.33155185772309415, 0.44454765970815363, 0.6281488380036194, 0.6003712615807133, 0.4964465696368268, 0.45770179965739854, 0.6183819097958774, 0.2791984330528322, 0.718844085931778, 0.38624914996477033, 0.47205450334262095, 0.4561294118584292, 0.34616073682796294, 0.877692216691965, 0.801718477616443, 0.5737426897335683, 0.491018828904386, 0.5985082995275387, 0.5040507723955125, 0.38039270453305807, 0.63230291039644, 0.43009665831058635, 0.2669383798688873, 0.5808611200602467, 0.6010699121214435, 0.45189645725603583, 0.34318228310663207, 0.5027500217148565, 0.6512512767236737, 0.3860467342123769, 0.4717118897332503, 0.5957631880338943, 0.1807679291176305, 0.7079111986216108, 0.7800959560795074, 0.4933685227120413, 0.7261632052706142, 0.27039118735873674, 0.9153074473142624, 0.6065024155385765, 0.5154623725216119, 0.8786467142886182, 0.29366090210668866, 0.35448288943396056, 0.5897798112924899, 0.6049775593533021, 0.45003937310807307, 0.33542734384536743, 0.9772092401981354, 0.4571332511518685, 0.7036294864225161, 0.24554003059641477, 0.9288489581039562, 0.7441694632747207, 0.3561042029748643, 0.38643347831414715, 0.08879631784626708, 0.8282329440116882, 0.5248717431498316, 0.3764704009720102, 0.3358908042131655, 0.38736609274879047, 0.2817235836245343, 0.09948845631825107, 0.8328630464981734, 0.5895340000307384, 0.8834650632409816, 0.6354125060337756, 0.31983096295973906, 0.3893536834123324, 0.45271835535670857, 0.598922335944635, 0.19250911979969995, 0.17366282142396863, 0.7346189846276575, 0.6059345117921248, 0.6658464528028434, 0.4029929876317116, 0.7856606543064117, 0.8856422470904425, 0.4193957009109414, 0.5765483482563256, 0.4133268811801516, 0.32354122603636787, 0.7935317754745483, 0.3121490964067337, 0.286738449095505, 0.41594512372681397, 0.6858215746933282, 0.6276097012061758, 0.3338651376828232, 0.7333723306655884, 0.6632580838403236, 0.6701050762489876, 0.34166613435162413, 0.9902622774243355, 0.28675236454094455, 0.6615568033428213, 0.41456223805198306, 0.4965114653487312, 0.4964378489177422, 0.8821358010172844, 0.4104033949828025, 0.38260936096198866, 0.6745714803052489, 0.3838415764309672, 0.27130056593503066, 0.26262171242109705, 0.5080676822955699, 0.7929191207171122, 0.4235798889088356, 0.6287998838898775, 0.5023790532301922, 0.6075160409564172, 0.7170248116286284, 0.8964396640658379, 0.4242258836317951, 0.8379967344245295, 0.07383140181024729, 0.9515315801501142, 0.7020115599387832, 0.08407201891516469, 0.9665817046734262, 0.5660114194067031, 0.7521496062244977, 0.6399499475955963, 0.8614634161247101, 0.5450526791597043, 0.6148628083531493, 0.6526052347718193, 0.45637523209027586, 0.6783682131232067, 0.7369104006856649, 0.27465846454192167, 0.234738448535118, 0.784703115662821, 0.3967825513448461, 0.4962953484662697, 0.5214071869850159, 0.4869651056722503, 0.5665427452591807, 0.3157737082262143, 0.26780006695497116, 0.7079387518138978, 0.32382004144116155, 0.5447627353050514, 0.8572063781254985, 0.9001087012806794, 0.7625300069535537, 0.8821357190608978, 0.5121027011413106, 0.4697658899966362, 0.3238449768941968, 0.3858790968916867, 0.23060480380156415, 0.8175801528801114, 0.7878631335187756, 0.9904092308133841, 0.25250538647533827, 0.544723962676289, 0.6545033051918289, 0.680547480534795, 0.37524771610166696, 0.5254987876576734, 0.3897793513881642, 0.8912314505882666, 0.45817135793945635, 0.3475112767053652, 0.3722078736883172, 0.5385848619127732, 0.5935386997943052, 0.45936922994493706, 0.5831871628761292, 0.4610799490896604, 0.3711100104002054, 0.10620592085026716, 0.4943307512402013, 0.5687461713182189, 0.4913170337677002, 0.6160088965809846, 0.4360891964096527, 0.9426659531891346, 0.5087047092128338, 0.5669237255510096, 0.6989188125688185, 0.6061001348454553, 0.3972170958679273, 0.6907100260684211, 0.22048220474282845, 0.5835571672259313, 0.3172466378485451, 0.22140065293075772, 0.8821358010172844, 0.5395771181005993, 0.45748536167582554, 0.37246760080107105, 0.8505720049142838, 0.17447144414546295, 0.39740819655168896, 0.5368079087193406, 0.8744856195603081, 0.30823878890881634, 0.43451389425249326, 0.45648099116044677, 0.8691088670512743, 0.8815926786938023, 0.16867162732085358, 0.5821208692096871, 0.3949493254273774, 0.45948339195387367, 0.7404149172211287, 0.6239741142595888, 0.22003743986438168, 0.39749472623905957, 0.7900211803812505, 0.13510747782578642, 0.8148217751779979, 0.33693206307204293, 0.8276319935399171, 0.2144106315443773, 0.37164825201034546, 0.352822041993309, 0.39042757883439044, 0.2643481635551454, 0.564837134369834, 0.9903895668685436, 0.7174771339814504, 0.803778141887098, 0.5298577691006068, 0.41364278699604934, 0.9438340677648485, 0.793219259811528, 0.4415722619610996, 0.4846396158604624, 0.37938995961513644, 0.5745814611129895, 0.7740524741208328, 0.2908439431010333, 0.5195277535253453, 0.28996978412753427, 0.5860041474520201, 0.7281754502345332, 0.3743767488814972, 0.7417571346402921, 0.36148096539938396, 0.47651108537681586, 0.7726841230455486, 0.4970671019480682, 0.33087656219006045, 0.4729098132090071, 0.32641784917540334, 0.29761089899851945, 0.3622994620867816, 0.9896064009517431, 0.5642632144139239, 0.6130009633611131, 0.6596275849278652, 0.5791169333990872, 0.6413938105106354, 0.8677549064159393, 0.6073055428069575, 0.7994235133503585, 0.3511691346558604, 0.8163313428974707, 0.3654060223589499, 0.6988234159533051, 0.8306660882691851, 0.6194636890334307, 0.38093083141135303, 0.5515490155441051, 0.9680896177887917, 0.7124353197033922, 0.6619853592221536, 0.714070029218396, 0.9275418221950531, 0.4942491634402981, 0.313621993267878, 0.3962870485633788, 0.24342948817902202, 0.3929217983467799, 0.6610333553218904, 0.39750684791485336, 0.16456110802462975, 0.5351887586990552, 0.40668040344874556, 0.2108842203319054, 0.8116947440267667, 0.6639674975148783, 0.25972518035599046, 0.6690556975296512, 0.35041798490926945, 0.5050374165205234, 0.23777542112731345, 0.34428687654615836, 0.4233002000073426, 0.2500850488687372, 0.3535136700998107, 0.3400416358046918, 0.22800644990161162, 0.2833277466602886, 0.779037172518669, 0.34069183730765124, 0.00937587022781372, 0.706866745899638, 0.633222501753773, 0.5169376719042643, 0.36130537429309, 0.4594799876213074, 0.6255032413964409, 0.5552536852745692, 0.8483932465314865, 0.30677651764808617, 0.15681276988850315, 0.3580500160966188, 0.7160047946947732, 0.3580382112122963, 0.7501880888952597, 0.8388094447391203, 0.6516940821391762, 0.18501499199296, 0.2184644272930001, 0.5557267069816589, 0.19259241093167412, 0.3647581046345171, 0.36721470614298607, 0.3971998151384729, 0.3663795034178615, 0.4028213248728766, 0.15432947428296281, 0.35090944180249434, 0.6072631838014417, 0.24650223275500593, 0.7902521588889148, 0.7404891864297106, 0.8336862913958738, 0.4539750391799641, 0.5252691128300123, 0.9374807845875655, 0.6260273594417776, 0.7411375261290049, 0.6389089822769165, 0.8981858646563933, 0.31787456819477145, 0.5683122011304326, 0.15459106618370363, 0.5507059550722252, 0.5978892139484205, 0.27145793998631595, 0.46892686932990446, 0.99031294696033, 0.3954058041482337, 0.4016886321980505, 0.610460199840415, 0.3595852591041234, 0.3886890125393982, 0.8791503892082907, 0.4317275866250261, 0.21143678486694906, 0.41451583123584307, 0.7536969222555477, 0.24066874155808535, 0.7121641174949039, 0.23941627662888035, 0.8998098762099881, 0.46185637395774803, 0.5733643619832135, 0.594866829004029, 0.45981942815897325, 0.3066221345862876, 0.6739383578470375, 0.32200640114227, 0.23433049759152394, 0.3262052021530218, 0.6311575580302137, 0.16400824842284245, 0.870901571992901, 0.6544012304469032, 0.49120506392364716, 0.229502967932463, 0.26111014998645204, 0.8058496266252674, 0.2565397874288177, 0.4536885530405988, 0.8249970229852222, 0.6308800559754266, 0.7729707921024763, 0.53103430489728, 0.684203077957021, 0.2994417077772058, 0.29525275829158104, 0.3700439653714508, 0.4494096636772156, 0.6505909705801255, 0.8872537157144361, 0.5296363490515371, 0.4344974266290526, 0.34498527131022666, 0.5364404442374278, 0.49056026949994835, 0.2582676799606938, 0.8554468983694901, 0.7532513545300613, 0.27888426484056555, 0.9083075746893883, 0.8172127372461818, 0.40123183597754086, 0.6372503964332519, 0.8139955017904967, 0.4752758511743044, 0.5238088885786787, 0.6925707148057015, 0.39713209295283247, 0.3805329222518902, 0.7369017727238494, 0.35509803850293176, 0.9655601251814625, 0.7777939105768918, 0.9199316232111528, 0.43494745706983856, 0.5682274102471961, 0.5407109857195709, 0.566075695738911, 0.2735296317317492, 0.6449700970711045, 0.43981031356302097, 0.4103218482609056, 0.7921455466193253, 0.5140340615518528, 0.6103527517615144, 0.39222792456247246, 0.8950212895870209, 0.4079721143809275, 0.6213071047652375, 0.383982735055968, 0.5150235935305735, 0.40583911442477416, 0.934856987550096, 0.3305724650831561, 0.3915114069096765, 0.2036556488315141, 0.5657297327770318, 0.9278047606348991, 0.5327281915881111, 0.6624407988725327, 0.2927120889848552, 0.594886284243279, 0.6471190195313448, 0.8840003623002711, 0.5764680710463916, 0.6971008846614314, 0.7462296233897578, 0.40060281212681, 0.7969485889578005, 0.7086453437805176, 0.3172931326219544, 0.7671601345741987, 0.9023476467577022, 0.43707263033181626, 0.3119940691762743, 0.47267614055434476, 0.29593849017192103, 0.41467764288378156, 0.876124608603914, 0.427343435645945, 0.9681531004607677, 0.7390402067268793, 0.7796793762374331, 0.9395062728568813, 0.5650301820248929, 0.7839457392692566, 0.7523594946757907, 0.24399991623897765, 0.9159581205957144, 0.9427524954080582, 0.3282637313959185, 0.7732132467173259, 0.33988352747992423, 0.3234725160783231, 0.7237066135884914, 0.6331312265888985, 0.806176970274864, 0.26361594768465396, 0.5644304506039532, 0.7474944075052005, 0.40545481897768615, 0.8476099910275681, 0.612132949593075, 0.645096707252736, 0.3029876947402954, 0.2331072800685565, 0.41628243811896787, 0.08526129342671837, 0.4561162313804708, 0.4795438010722102, 0.5700727491993185, 0.8524418622255325, 0.3575196431128247, 0.5684313465912444, 0.48875319957733154, 0.4035830841759416, 0.696553578759457, 0.7262510111718307, 0.2976061722375428, 0.6839261331627045, 0.8083327654723296, 0.3892115496358078, 0.7894740849733353, 0.5812796353010907, 0.47510786604750194, 0.4708584011590589, 0.31828105009598195, 0.6823380460688574, 0.5972686762465744, 0.1740324139781915, 0.5439858654191599, 0.26424486509956524, 0.6115875734993835, 0.2941995444208982, 0.7916192984046747, 0.27285828568804693, 0.957656729966402, 0.4990896084819849, 0.6351305901927543, 0.15381984379477187, 0.6806549299368544, 0.3606633119744316, 0.42954667503870453, 0.4995972306408046, 0.9228157404477353, 0.30330588523315355, 0.27172114057510666, 0.6088215443182936, 0.38595659094359563, 0.6607252537599317, 0.692014979156897, 0.5131433073474491, 0.5372069952306938, 0.403766577462945, 0.4383775725655179, 0.47374264627292123, 0.8171195589880504, 0.42401966501138866, 0.48959222892563636, 0.4283456016923609, 0.7590738869801851, 0.5534504995261926, 0.561210814685077, 0.7096070767664084, 0.5833005854430068, 0.17776336718953953, 0.41914198597609664, 0.40012444779670553, 0.8628934770822525, 0.7165482159090852, 0.2741843450456659, 0.20544366271228012, 0.4070699847958474, 0.9466978907585144, 0.44392940192328095, 0.3343919617140761, 0.43671530413125886, 0.34348791480664964, 0.7286497384010441, 0.4518063301815862, 0.5940915907175208, 0.7933057125905525, 0.48188804312854333, 0.263315291148507, 0.24376009280055894, 0.5913859387456804, 0.43465523381480564, 0.5460857136889996, 0.38899499886588873, 0.9438279010355473, 0.41201691965015025, 0.6196465357711127, 0.18947018416917716, 0.5755853197706353, 0.5292646442342499, 0.1080542042641408, 0.718120514269708, 0.644663072203042, 0.8072624817099788, 0.7370808715591446, 0.337386321169952, 0.25012097487292145, 0.3715171795556911, 0.5319711094071191, 0.3054889301587589, 0.3980939330157069, 0.4173585427556852, 0.9854118777438998, 0.80386565347012, 0.4285952524052344, 0.9483142085373402, 0.41587927189250257, 0.5399726279726632, 0.2939334034960873, 0.2689610300139232, 0.32136374901584575, 0.862790510058403, 0.3623153502296904, 0.857407414548492, 0.41672415544406755, 0.7523375801324913, 0.3342740436736347, 0.23658999516818202, 0.8362352312168901, 0.12443508376543606, 0.23368079103440262, 0.984351996332407, 0.5299501836461059, 0.3701291667215754, 0.835696083715953, 0.7746961946356643, 0.45248754500212013, 0.10389097226562669, 0.8522386964077592, 0.6018984904372179, 0.5356353191431155, 0.8778674579579356, 0.8240426951532707, 0.6467316759596248, 0.4653051712984684, 0.919951907332153, 0.4938341433906064, 0.7723462445347282, 0.9904212709516287, 0.5168051977438385, 0.82903653383255, 0.38070824019736443, 0.16008199424686972, 0.4831714739540626, 0.5677287232930741, 0.3474729889285101, 0.49324903658550784, 0.7178029958808886, 0.28902691967211863, 0.20671750269470682, 0.7341143815493363, 0.3698565778910641, 0.8394063375106099, 0.7412199446991548, 0.807532157061054, 0.7991543989035927, 0.8905752981188324, 0.616389531907818, 0.6094321910364696, 0.31289589131821777, 0.3100292525829192, 0.5690926688439948, 0.7336204450898428, 0.2892554913029637, 0.5682567036242456, 0.16036081976366215, 0.8488102224803341, 0.6995227959764928, 0.7467365562915802, 0.6294553264743822, 0.07799410452739958, 0.5078188982298635, 0.5557931553540375, 0.9695063419640064, 0.772144414822208, 0.565425053264488, 0.19606593979743608, 0.3990460958549674, 0.673206056562103, 0.3946684717091239, 0.414318673637531, 0.8567947447299957, 0.4007118397949655, 0.7552705162567253, 0.5571067846350117, 0.5603720497565432, 0.10614134932849997, 0.25247737574408363, 0.9378474348633598, 0.5749209434684296, 0.6792108857189912, 0.5058595557775402, 0.7214155469016907, 0.3452754414587115, 0.6985568711802703, 0.800345325058486, 0.8265911489725113, 0.5591716257310833, 0.44976525529024414, 0.5002126500908994, 0.40165226739217474, 0.40658319084764233, 0.49082237482070923, 0.3227073309696343, 0.5188238430059117, 0.9338687146552991, 0.12235587403190111, 0.7175656259059906, 0.3560564078594498, 0.41829614164156753, 0.7552923169195227, 0.4957848515115639, 0.3758591095334514, 0.5027482963636144, 0.6854005320336553, 0.7179719694216679, 0.19841934102172507, 0.9289237127259146, 0.27835614321900587, 0.40330454504831326, 0.7822845522604985, 0.6407330139750708, 0.7318833460731737, 0.5897022913415984, 0.8203254373182287, 0.5180918068179621, 0.6554418359471761, 0.4216830570479406, 0.884623110055046, 0.6640238664900556, 0.7519151419401169, 0.25448361639263245, 0.35699044486587966, 0.26828809292735534, 0.9484448812647374, 0.8462207339778188, 0.6858272856848141, 0.7326603454014834, 0.8581391461817423, 0.3929490980858855, 0.3814046836196742, 0.31841803652737827, 0.45264090757952785, 0.6092749374115951, 0.4770953622243384, 0.4664739106673373, 0.751159015173738, 0.6393566135115779, 0.28402474678739414, 0.7762649655342102, 0.05137115716934204, 0.6182478368615387, 0.63895821738798, 0.5531914858524717, 0.5618973284450142, 0.44857441864178776, 0.42337653201884284, 0.4161575141037815, 0.40729773429311533, 0.4165747886999344, 0.237409313506259, 0.7685975781702824, 0.682162469707656, 0.2226606088435198, 0.20688147469407908, 0.5483266472265862, 0.6484973995734957, 0.1762441814218853, 0.8098324952610877, 0.6304668280943, 0.7449135225991307, 0.28828266681674863, 0.4288474746432512, 0.371354265535721, 0.46410954902356694, 0.30461740763242384, 0.743429005304429, 0.4148830818608946, 0.9903414398431778, 0.7470811009407043, 0.46000013008031987, 0.31618016958236694, 0.5221069286841912, 0.31658888670407187, 0.28576891874750066, 0.2994082522177794, 0.21441586579569977, 0.8691855434136639, 0.23048867583563135, 0.4335285708923851, 0.6154245739881447, 0.9011146513451777, 0.18634444736305725, 0.5452506610321104, 0.8307797380196257, 0.3803687859941651, 0.5780601959552056, 0.7746441785014075, 0.6469826301906324, 0.6926644155104327, 0.32983895750746134, 0.822177316474484, 0.4975699782371521, 0.4692255732196506, 0.5318922216820821, 0.4652352564437269, 0.48093698586773476, 0.26136707502571244, 0.5258778396140039, 0.06662249565124512, 0.4270880240537713, 0.6307532362904158, 0.3576827977944522, 0.2576958836894978, 0.43235325966964977, 0.5110916268161955, 0.45908901419506654, 0.8384329527616501, 0.6329509858159781, 0.7579120878818691, 0.6178745767552143, 0.5710383735052719, 0.7217341144716366, 0.6770103454368445, 0.10974177198908436, 0.8108285098132894, 0.40286293931055983, 0.7089672195803584, 0.6044098089586959, 0.7145528530913097, 0.2587840559321406, 0.20011339657491473, 0.6446669834267362, 0.2576758771358839, 0.40214704348936187, 0.7283885217808866, 0.7423166334629059, 0.6233787286199569, 0.43943496893086975, 0.3780652109618334, 0.3091005972467609, 0.7434397150607032, 0.6429304532066167, 0.18484262487073636, 0.5466967939712832, 0.33578831984632224, 0.30876441575987595, 0.7619894295930862, 0.29151523166699445, 0.3233087870646879, 0.7204468069227135, 0.4562577996102375, 0.7248791754245758, 0.9882886661216617, 0.7283238997418896, 0.2788966806716653, 0.9371947726501457, 0.29836638086537326, 0.9150391214687549, 0.3415670030736472, 0.4567066912797636, 0.5723315639842685, 0.5933535397052765, 0.5815478982849016, 0.3675912999346643, 0.6907584517867967, 0.3797006480883855, 0.5856794793219713, 0.678868999735222, 0.10713287304311055, 0.2919413106805728, 0.5105778604087521, 0.466547840540319, 0.3695809053707746, 0.4510657364488988, 0.5348994053602995, 0.4172617548793907, 0.6612627935180242, 0.9634096696972847, 0.5359238506394691, 0.8472472180293803, 0.4526185405822897, 0.5860857346291005, 0.6047104001045227, 0.7124269005707871, 0.1959795507135108, 0.34204703047957036, 0.5921614528467088, 0.7596235204304904, 0.32921513108452016, 0.7044957091727639, 0.8923772368788835, 0.6378743278849808, 0.3006233542276252, 0.21709322382256638, 0.5403022170066833, 0.38087098115206514, 0.2002379122201871, 0.5819684983334192, 0.6647324706783727, 0.6201540791193333, 0.1400167004025091, 0.6466399190277177, 0.09419306092899564, 0.7680912187456174, 0.9625926382809107, 0.7286893395856954, 0.8873923601506638, 0.348877237796048, 0.8047149330377579, 0.3695504611069841, 0.5237279194428262, 0.2603833605949578, 0.45508708772567413, 0.5189069095608935, 0.13345416950019315, 0.7222569615617457, 0.2983202692926991, 0.6184669609671881, 0.988877110183239, 0.7598059867222872, 0.588271622781854, 0.23469171602565073, 0.8149068556426918, 0.6709712404384549, 0.6002101935538866, 0.29304017864752063, 0.9671213552355766, 0.5274152098948649, 0.49119545071211906, 0.301265310794394, 0.3238093339134338, 0.2216797954860061, 0.22385762463642236, 0.7882890997863445, 0.27983736694595174, 0.6470941783426036, 0.3920635146795049, 0.2075022815581372, 0.4602441035086772, 0.41632203200798107, 0.2743703716047548, 0.4627089658585858, 0.6248044979361315, 0.6270924364187725, 0.954706221818924, 0.2949352106589597, 0.9226810250060667, 0.13917749269684557, 0.7420174844105474, 0.5501708742159523, 0.5490020084108742, 0.31160812703642515, 0.22385241137454365, 0.4998189796554731, 0.586108908118311, 0.46114423630701895, 0.6020343842831437, 0.23044019115303127, 0.7316502244438958, 0.8816174194216728, 0.3223268546420871, 0.3376449006619324, 0.7329546752995473, 0.4129163519376698, 0.9577597826719284, 0.6187587507627514, 0.8948480291437362, 0.5311382397929039, 0.6039018409408433, 0.3358960019163696, 0.3727725060390432, 0.746719566157055, 0.17785942330952131, 0.2471908277717997, 0.06192209713622789, 0.3966655284595798, 0.8226372775244498, 0.8570874177170612, 0.6738605154666966, 0.8233642757020633, 0.45871007775389055, 0.27972321591981825, 0.17446208189222848, 0.6593726773689947, 0.22135087695110106, 0.5035733011565073, 0.23160109021784037, 0.4598264239667346, 0.2713948283708446, 0.4368362169167202, 0.6167539313872792, 0.6965807714034287, 0.4078663482014875, 0.24253417439205188, 0.6884316462821415, 0.47532959212009807, 0.48051810009778184, 0.544608443391545, 0.22565295983032016, 0.44023060886763526, 0.7475215494632721, 0.5202151341959856, 0.5949196235628035, 0.34726072763186844, 0.4418770214892334, 0.12161919325388024, 0.30334989357492165, 0.5794479600056057, 0.6250499861623524, 0.3486861553276217, 0.3891069781144207, 0.5587177867196994, 0.6276451773818791, 0.25010802166797835, 0.6006222911759593, 0.7858592354422043, 0.6062110586313759, 0.4600004504090047, 0.6763055931978985, 0.3787507244533249, 0.42285910620335826, 0.29523807758007165, 0.7360108630574002, 0.8522007254638515, 0.9766873270273209, 0.5895170005794419, 0.8707878440618515, 0.32211777805757097, 0.9690692853182554, 0.588184265332211, 0.5230627090074585, 0.6866453529380704, 0.7292213093452758, 0.6261884429238773, 0.7244550193122798, 0.5458775091028467, 0.17325378640018957, 0.2780519723892212, 0.3697412871540196, 0.37301025566117035, 0.5208474876885951, 0.8069219752557945, 0.29505958911631236, 0.41044548132748543, 0.9567936584353447, 0.5475180298577689, 0.3953598655972956, 0.47876044206569, 0.7037587461014754, 0.43491383585790266, 0.37066464177654096, 0.39674643673297827, 0.762240073858098, 0.7097172055853572, 0.86778073136891, 0.33678563297934094, 0.8231360047933578, 0.4647985351161764, 0.6325736130189461, 0.8839870340609391, 0.7766554342867139, 0.2822168597643679, 0.42219734056768254, 0.6660012408590079, 0.5702410455315724, 0.562366310865415, 0.442823431629669, 0.5208952218249803, 0.4560096012773046, 0.8944630695015906, 0.38383512655413554, 0.3468140932035286, 0.7783702095562529, 0.6797936196344827, 0.8684573552722373, 0.7467821647906289, 0.5863799269383194, 0.21450345120788594, 0.4153684469466783, 0.40879138873935905, 0.7460971991823653, 0.20974983355660162, 0.5575859878155167, 0.28554564561244866, 0.6248383806228486, 0.5112548593391978, 0.21284944441795325, 0.6362243689427873, 0.3703966375123492, 0.6685952418593053, 0.6515270798063701, 0.33265128863991855, 0.8383683899567168, 0.9716196861118078, 0.30442813948220165, 0.43570828437805176, 0.20789746531998837, 0.9522762899155433, 0.500981392938052, 0.3766624844481777, 0.5667832408201116, 0.3396793041563675, 0.3917421928370993, 0.7151672160303607, 0.34664524173149325, 0.29373902198047275, 0.2854630320578525, 0.38627144075854386, 0.2957262485283549, 0.4286157410487178, 0.7819863825135323, 0.8048415547992959, 0.27964618659480417, 0.63374432822491, 0.626065500312484, 0.508001558075643, 0.3621509377797003, 0.7871620179509701, 0.5276523232292788, 0.43933759551495927, 0.1338951532510836, 0.524886594910838, 0.7479830536646308, 0.6890017626184743, 0.3102572045695133, 0.6715072317206197, 0.38568355910223623, 0.5361243395725243, 0.7471662734997763, 0.8879923969080825, 0.28830585213270016, 0.6836296389642007, 0.448777149308179, 0.6132464716647734, 0.5280303061008453, 0.7439498283562312, 0.7622296407762044, 0.6848722799032408, 0.018618391613238614, 0.16661316210463586, 0.39167634826929565, 0.2851418434580784, 0.34211485863134394, 0.3202562759032272, 0.4120802312258737, 0.23234087666455078, 0.11813183134234381, 0.7791121933754384, 0.12727161022716735, 0.8054971694946289, 0.392715365804057, 0.43078709085270717, 0.5179903029446236, 0.7454047501087189, 0.474277259076864, 0.9254874749029984, 0.6218158006668091, 0.2883596776425363, 0.1890419607015689, 0.45888129312862325, 0.542159995250987, 0.6777364036399668, 0.8608584299346813, 0.7426644340619546, 0.35678571254041364, 0.6312278478925399, 0.45412025806701795, 0.3960914176710202, 0.3074610603876701, 0.7120750008948318, 0.22548206332126883, 0.4475054532300454, 0.7273731330037423, 0.31302128733266726, 0.7445833546642779, 0.22811265194883074, 0.6572239046622558, 0.13845571587889863, 0.40740948726609677, 0.736352133649793, 0.6672969159206367, 0.5086360795667181, 0.6450185319086007, 0.3010552197544801, 0.6162575427443407, 0.39379045466627344, 0.7903669854491808, 0.8414868072814837, 0.3628934990529037, 0.6436586585174736, 0.6284972217738116, 0.7375407347087592, 0.7659621927933844, 0.600426167988017, 0.779377144809647, 0.5648102413424212, 0.4174957452525034, 0.8953401908010858, 0.4341144304894103, 0.9108633422598222, 0.2712402476017673, 0.5775263441827438, 0.40645948790588005, 0.5875605401007142, 0.38148244545521653, 0.874919692083956, 0.6121953709334265, 0.6561883654874505, 0.6300300053356371, 0.8175652029920487, 0.36109697818756104, 0.6570754004318188, 0.678067510396363, 0.7486542121203305, 0.49663406901005985, 0.486841650342513, 0.5113643224492419, 0.2208617165742714, 0.2389396315867585, 0.9185654042851815, 0.36318260378539013, 0.3278029890236928, 0.3970386326905808, 0.7609089003143253, 0.40246979769661473, 0.4527276868446176, 0.7799426881612206, 0.7161179592511444, 0.8162931517709235, 0.3080658403674945, 0.1385625296283431, 0.7484193900193393, 0.2065086942715893, 0.17327131238909463, 0.4098374601329203, 0.9016170968370533, 0.5301815503460525, 0.4908038554487645, 0.4360169510510815, 0.44271638926013146, 0.489392997999655, 0.46521446796468885, 0.5557493540359646, 0.18398132521540297, 0.718892514705658, 0.6381646143290058, 0.44131642718596986, 0.37802818541385363, 0.6505754693754794, 0.9880064334720373, 0.9412547708394292, 0.48294076450708545, 0.7020906376798133, 0.4519472122192383, 0.5398958766711394, 0.43560461937895295, 0.2691732713711141, 0.6157697551074979, 0.8008343666215185, 0.3363105010204208, 0.49173496736203315, 0.21088321189494297, 0.8373216688632965, 0.983505530282855, 0.6635944653385839, 0.6178721087938558, 0.5188051595992496, 0.3327035459624248, 0.9705464821308851, 0.4611413429264618, 0.5351040562287269, 0.5075251884036079, 0.265173312209944, 0.24948829797936134, 0.5284905960738471, 0.931494764983654, 0.22068111250512187, 0.5831114375279344, 0.8459926787908821, 0.6418039874970046, 0.5556683487838089, 0.6157178580760956, 0.6672195388896491, 0.8625565022230148, 0.8498859577070205, 0.5536395253958518, 0.31744630472670193, 0.9408426448389512, 0.13985660027086344, 0.218667524152878, 0.5588385039418561, 0.624977150161224, 0.4387043734746619, 0.990043431520462, 0.407980295505506, 0.2535621539997067, 0.9840402435511351, 0.531803067850652, 0.650979220867157, 0.29686248302459717, 0.5473015167383641, 0.9700615964829922, 0.5593121779683851, 0.6975438296794891, 0.960117444396019, 0.9738625977188349, 0.32022615999865434, 0.5396770237456081, 0.3779232851143579, 0.3792273452129697, 0.38936357884467093, 0.23707443006277004, 0.5306515429618398, 0.33532400901849946, 0.4444448082231582, 0.5797810506395231, 0.15727866181364228, 0.6693510752908159, 0.11716481156821591, 0.6740075746912231, 0.47334979277617345, 0.3637120977856299, 0.4332166917389574, 0.8393287928287273, 0.6916279459584719, 0.20101816943596307, 0.5091749391312596, 0.2849523984910431, 0.7962593956050867, 0.25005908613102196, 0.8307386959033608, 0.4186394907374956, 0.8267071462593099, 0.9753485675901175, 0.38563743283932317, 0.5444962913595173, 0.6434102102723622, 0.29101010546502193, 0.2730772980896568, 0.16706014401406089, 0.4452674251000185, 0.6158615013296337, 0.8199399473516248, 0.6983807393041442, 0.09462336084937528, 0.14310070553292292, 0.3857644711250782, 0.7078594637648202, 0.21117996242109066, 0.4348489046096802, 0.560734327407176, 0.3706621572495424, 0.1409597317269088, 0.4007295771647951, 0.30999031623901685, 0.9606723450124264, 0.9411680363118649, 0.8305093903561467, 0.4345071552636575, 0.6507579791644975, 0.7976080067363533, 0.5414971790234907, 0.34096522833535403, 0.561826535974544, 0.6012691390482886, 0.3344651322887096, 0.23756958501221662, 0.466089381750736, 0.5522460076566469, 0.949264120310545, 0.8379876464605331, 0.5758945512928916, 0.13091977939961347, 0.645626382632215, 0.6412814332308995, 0.9901185352355242, 0.3484314430927067, 0.7342751338083651, 0.6507282197115154, 0.3350899034523781, 0.8658203462077134, 0.3732896572914529, 0.7242461740970612, 0.17858787282595348, 0.6124044985385452, 0.28552355866694545, 0.48707605354724787, 0.19984137721593512, 0.14494165323169622, 0.3378906645551923, 0.20289507954346175, 0.5015496519149769, 0.6846970817342961, 0.7872573825607622, 0.22263179210248596, 0.9290884807705879, 0.5926733322113222, 0.7870496852037048, 0.7344602994667049, 0.9326943223793179, 0.8837537868725317, 0.4335363688496409, 0.5501985224499109, 0.24166514254913007, 0.7277438688071024, 0.5378798321517066, 0.2931649741846979, 0.40059641360927384, 0.18938576420732883, 0.19722351227765675, 0.8073784747507327, 0.6462103625174742, 0.3698667154372263, 0.6347051753012903, 0.6409006853270315, 0.4133547382409313, 0.2754762876164388, 0.4136486934490694, 0.948555625975132, 0.43550217682118164, 0.3805397642277108, 0.7115185533377271, 0.5904572973518628, 0.4271125550947513, 0.8670559621157163, 0.7547920653964106, 0.4656788430580223, 0.5747451814401254, 0.33859641333589063, 0.7014706711532425, 0.7673316460576088, 0.30770918308567635, 0.4675826730629159, 0.8907420606364056, 0.21526133827862454, 0.4456037560632458, 0.5653962448360207, 0.5964907995690755, 0.7325775923398142, 0.6936710831499835, 0.643330576765328, 0.7086041650259365, 0.7945193113913579, 0.3114033007785469, 0.3115081539034598, 0.3196136548810436, 0.23071440960775594, 0.6724249500005105, 0.27490254987939683, 0.8615853552340706, 0.25975870144757246, 0.5335589203934532, 0.8810638923505176, 0.4003191590309143, 0.6439310413290906, 0.09101819911423767, 0.3725445125081179, 0.37117919978925396, 0.5397776273030337, 0.4627147036187426, 0.2660690277080527, 0.8825278602219979, 0.2572646936583119, 0.827856808377466, 0.5852532059968779, 0.6829154176383434, 0.19913626666476197, 0.5617036448894143, 0.7423974661623174, 0.6663855841674606, 0.8219183799323534, 0.524995827766988, 0.7893076290375525, 0.2571985958305529, 0.4403236995609167, 0.2627590472462126, 0.439110354576062, 0.5863656109059822, 0.441895060244649, 0.7916713488125222, 0.8978368789904699, 0.15249893002188233, 0.443909117911697, 0.44850758779192695, 0.7047973701371796, 0.14522346451206278, 0.5067801242270719, 0.5369061649263626, 0.5339207669172875, 0.32424227812791134, 0.22516887751843198, 0.5116966084297814, 0.4916571931841382, 0.31089701732077796, 0.24970732497645695, 0.6544195310171277, 0.6767927181508858, 0.4666838943889871, 0.5755920717126142, 0.316277911726454, 0.7584649433987871, 0.801111981563093, 0.6801243412430553, 0.31964735571713193, 0.07647717193519213, 0.8577855378389359, 0.6445364012412724, 0.3376083569490703, 0.5461181080332074, 0.5443292455226125, 0.8616198191823108, 0.43097827552942763, 0.44822362453701386, 0.3948020863947566, 0.43877975632650507, 0.793516954661602, 0.7501758338720175, 0.5446890890598297, 0.6475069790198816, 0.5198602790841466, 0.4292267460905037, 0.4373928650629375, 0.5694000645617667, 0.6000737581119648, 0.4378863585352233, 0.3058197120014961, 0.4650270965339679, 0.9739640224725008, 0.5208815265383349, 0.4930690931239216, 0.7648144789927205, 0.4051121899901294, 0.5768190232478537, 0.43826145805405314, 0.5808778372449401, 0.7440805378993018, 0.6602504749049126, 0.5681987175628354, 0.5252812440507988, 0.7201421116975751, 0.24536382668746873, 0.5473993425979236, 0.4590483158489129, 0.7689965215017003, 0.18194525024325697, 0.25796339680860914, 0.46723603554580523, 0.6181275064658134, 0.2662296890902014, 0.8958363799585568, 0.48679792289665663, 0.702164615895733, 0.7023724615573883, 0.8131007228397297, 0.3970587334918436, 0.38686016932115463, 0.6544244198272675, 0.3808443060574797, 0.6193040901219755, 0.7732201814651489, 0.7003306496266907, 0.42127081623957924, 0.5342246735903061, 0.6912880219689262, 0.7052752239562654, 0.759439604521949, 0.3432193991519972, 0.3040943719353309, 0.45292569836470303, 0.2611269148035289, 0.4269273108088665, 0.6264771189472391, 0.4622004770488573, 0.5999469294457598, 0.8605827242136002, 0.7599758047390144, 0.4554723349531529, 0.7557663107115127, 0.7712866421055505, 0.7988910486956471, 0.4227839708328247, 0.3946657468329649, 0.9331544507030433, 0.559323406615291, 0.8559343961067247, 0.8085864368695087, 0.9314093997245039, 0.8624866753816605, 0.7799174876814755, 0.9399681624272225, 0.4090004971533689, 0.26652393430615856, 0.32377129446945174, 0.9589354729886024, 0.404700934708672, 0.40909501949633537, 0.44748354416741115, 0.30686312345123, 0.6935972873384904, 0.3753323661473551, 0.08687271028092941, 0.7261603771031205, 0.3611893246980002, 0.788353769179207, 0.606461658425467, 0.32027307309416553, 0.5278666822703126, 0.3384616293435337, 0.4734665882888077, 0.8689568741736288, 0.1421973832721179, 0.28612792573698964, 0.6450362449842437, 0.24251577381409872, 0.6967139065969542, 0.974177485331893, 0.7099629641919812, 0.14035574911238843, 0.847223773598671, 0.6038512354584675, 0.9203457630784532, 0.5607583802123961, 0.41244518756866455, 0.9428266623324422, 0.7137463161767622, 0.4403695939408989, 0.4795220114886047, 0.710756779855336, 0.29908445431622155, 0.5633919378317602, 0.4889888060051748, 0.8419970041152911, 0.23500617182070482, 0.2688445567697452, 0.27334999264083004, 0.9217667260633646, 0.44908438432645076, 0.795969354010007, 0.4314276693584242, 0.3567078195158059, 0.9900043625384569, 0.2857862681747556, 0.16825392326852678, 0.6294544235138494, 0.4536963075114383, 0.42386193651942, 0.7124882465106647, 0.5124746516873421, 0.5538196022218709, 0.5261671808735724, 0.635278230137831, 0.4665463702462589, 0.19155066705009233, 0.42739660999831536, 0.7000249579196846, 0.1301884852418943, 0.5486334457465595, 0.4516473328797969, 0.41630857050793474, 0.27391431293385765, 0.8219398341522683, 0.7128509283065796, 0.6512164744688823, 0.3708344101905823, 0.5264678339665257, 0.569662817025284, 0.5140829738263177, 0.38831449132423945, 0.6842902819823434, 0.3097298264839835, 0.7890518393426951, 0.3256138573094895, 0.7185735580511576, 0.5381009198563913, 0.37314656815302205, 0.4205828867743682, 0.5921743214130402, 0.5750749020318016, 0.918014893864142, 0.475956726559594, 0.8106940439397573, 0.5842468614761462, 0.4201711409061567, 0.2721451241436333, 0.26367270692451067, 0.9466623185207123, 0.30375915027473843, 0.4564860902993641, 0.7849136673864244, 0.5840666777570981, 0.33765841945289327, 0.42378381883667054, 0.40152089821997816, 0.5631327502329475, 0.6051014751196198, 0.5524697920924624, 0.2033296375902066, 0.4923452113779229, 0.7696272588488652, 0.696011895416876, 0.5524220926337736, 0.7460570002840597, 0.6328745484352112, 0.5202880415422751, 0.5973778442525042, 0.9334292503755609, 0.7425620420871346, 0.2169684835999752, 0.8933720212257221, 0.39834529161453247, 0.3587120942510395, 0.5439185038668338, 0.791696086525917, 0.3468329918751019, 0.36380101476357435, 0.44389673148027914, 0.5952557740236082, 0.35562194837835975, 0.0938750167534502, 0.619436479475573, 0.7012250485780797, 0.2191466995844674, 0.36391684012897135, 0.3215523330684355, 0.4662740448202352, 0.2740791018681669, 0.9301985111236214, 0.21407260087971255, 0.3714250367599233, 0.5439774894144884, 0.7988277299531904, 0.38804510738085396, 0.48103326078811093, 0.7600697992144855, 0.5645315336091071, 0.382227371647354, 0.696468335986808, 0.5319646451576296, 0.6600800987777977, 0.8486428472944268, 0.4617956456538532, 0.5236692629137059, 0.9286375269335883, 0.6061571742052932, 0.23199999795973844, 0.704479425187365, 0.6842641929441463, 0.5711857955852738, 0.2930357265120141, 0.31888686398568633, 0.5612940276827898, 0.481045292866574, 0.36179797241426426, 0.6164982279592774, 0.24226522395249925, 0.33245119053965144, 0.39463875021028944, 0.8326205015182495, 0.9469699245746745, 0.49897945114633013, 0.6474516470061629, 0.5339732250190615, 0.6060387244761716, 0.46262006592336447, 0.12766873836517334, 0.4661954745101915, 0.9770802594721317, 0.3647612929344177, 0.3939693568281969, 0.6364707861090071, 0.4205624245535496, 0.5146420455040568, 0.25192291268677486, 0.45256544783592056, 0.5463772413299143, 0.773964319121704, 0.9372446444900469, 0.7608390911929324, 0.49027224220158605, 0.5472988506466803, 0.42344098608760433, 0.4191805607986946, 0.17135328535337005, 0.44203416376440074, 0.5965336551288571, 0.20659122571212182, 0.5337394083553954, 0.4553744360016874, 0.7448637187480927, 0.794299956587122, 0.957829337567091, 0.38713758459915637, 0.6809427971738569, 0.18967315980643967, 0.405429678020747, 0.7139692381917863, 0.4068829469410046, 0.7639425030508363, 0.7379121041824379, 0.6436819089348906, 0.7144081294536591, 0.9137815693191195, 0.38636472369378083, 0.10441432735564612, 0.9068514103186606, 0.17508503783520982, 0.41987898592947054, 0.9774109367281199, 0.40678249727574495, 0.7730766211161041, 0.5308444018543567, 0.4189555443065874, 0.5323148247034293, 0.6329134418683082, 0.3937941065655264, 0.963935125619173, 0.6008547097210105, 0.3395664216515093, 0.46800831072310595, 0.4753775574320891, 0.4041196641847842, 0.6574235260486603, 0.2911104661069996, 0.4658112384547193, 0.180482455630749, 0.8157136534216854, 0.5931196640152631, 0.38227998459730334, 0.5628049289602907, 0.36521865747542387, 0.16308156682974756, 0.4905981608430344, 0.4807528142691494, 0.2359636145969268, 0.6842984600094356, 0.38400083279702624, 0.34047571678159083, 0.4863400479986576, 0.6103111148106708, 0.9297799813981946, 0.0867632195260643, 0.8193049430847168, 0.9870864814147353, 0.2951604722140592, 0.21186342349522483, 0.577438803440428, 0.5052852527067643, 0.2438076537828722, 0.5997307114043164, 0.42672469667922125, 0.5989678856114518, 0.27686282491103203, 0.8750936283234295, 0.09234915610342895, 0.44423003243124615, 0.8126464318589057, 0.389781637953825, 0.5391518901737091, 0.27631221129546235, 0.6863904817114883, 0.6587656088769533, 0.5060969158415373, 0.877806243531918, 0.8075207555724687, 0.732911729937567, 0.7916969538636534, 0.6656975770373561, 0.41351788860649225, 0.2802375555038452, 0.6958545909481253, 0.6128265420457806, 0.9066016599535942, 0.08707488170793716, 0.3544694653920468, 0.6986270485817603, 0.5365469777760635, 0.9032440933286056, 0.4232736890834631, 0.4921781450285214, 0.2587388723214543, 0.933510884642601, 0.21510633050955374, 0.41513599065156176, 0.544490479756844, 0.5753848031227013, 0.7445241144297651, 0.33178233363670495, 0.26676523332073365, 0.16035351331780168, 0.49302995995202803, 0.46016334500048, 0.7573723365820662, 0.24037375397648789, 0.4119412939771493, 0.8012339303862546, 0.7725224867463888, 0.9303819740026492, 0.514346118685183, 0.21245721685334332, 0.3783657422576805, 0.5101391033189977, 0.6877475760855654, 0.5806401339963149, 0.3174441995657775, 0.48137594141282963, 0.38133511197264075, 0.803117036819458, 0.647883989382176, 0.40271911681686234, 0.4862224172477518, 0.3497543284032213, 0.04586418549741978, 0.6761934153370297, 0.4779556313439277, 0.6235653720125872, 0.5501874497901243, 0.9636392740118788, 0.5254866281310572, 0.9613680951297283, 0.7750639335689753, 0.7296985432415197, 0.258060791885944, 0.3887461527439857, 0.5951944849668602, 0.8788265747440157, 0.42442601951188136, 0.7790075242519379, 0.300831177183621, 0.31449528311745195, 0.5786222172993252, 0.8102229606282286, 0.4292505455492013, 0.2188127170337862, 0.6185051960612017, 0.6133634927486558, 0.18548051568769602, 0.16877254827490645, 0.3105042164249152, 0.36915345675999456, 0.5192727872438251, 0.4886432985175708, 0.54535269223567, 0.2911645202592975, 0.18315586205473156, 0.9897282868623734, 0.5982703579132694, 0.7291625274543703, 0.36099403095555505, 0.6447797148148106, 0.7655453129497519, 0.5175651907920837, 0.8385660499334335, 0.7202684283256531, 0.8235249380540149, 0.329392703645485, 0.4453406382967387, 0.6367110554207952, 0.49416454862758635, 0.7614643658137842, 0.8786228082352089, 0.17202878684429634, 0.6210575029188142, 0.535620173591841, 0.3926100594202451, 0.39622415406380707, 0.36776346794053816, 0.45587739329275934, 0.6534465601131366, 0.5181924104690552, 0.6718075444889099, 0.4712649027021562, 0.8194778107003972, 0.7701700901336588, 0.8055196812636116, 0.9021638245695192, 0.7747354819555435, 0.09881234169006348, 0.5850508627079175, 0.3666700208829981, 0.43129408819412407, 0.8415255965180766, 0.3394325408604991, 0.6848748384548811, 0.3029877543449402, 0.6920151401579321, 0.18409642966560247, 0.5283962991231095, 0.7396475211747578, 0.48569196462631226, 0.8988087130063053, 0.42194713427975383, 0.43208279720507853, 0.27941973031642225, 0.5489825981781034, 0.3187660318518699, 0.30921648874442703, 0.9018754437565804, 0.8119882174035715, 0.43916485457887144, 0.20975611102587838, 0.30194366122019756, 0.5273509237294197, 0.2565934292536473, 0.5236264589735833, 0.3639415582539122, 0.2957768716747807, 0.2087273476462186, 0.2725304064696811, 0.5021295489876624, 0.6732499781794263, 0.6490972981314556, 0.217342645527838, 0.37002152186737974, 0.45692493590520594, 0.34974819533902185, 0.7105661928653717, 0.34397796513928564, 0.309048257759453, 0.24668868492720694, 0.27947817470357944, 0.37742527711071266, 0.9270285103538062, 0.24615960726672684, 0.5736133449458078, 0.5713469620997599, 0.7034524512104351, 0.42667697840338875, 0.0813549058748956, 0.38060945198323715, 0.2965382309579468, 0.3295738959524254, 0.5047533017619251, 0.7622172695067941, 0.7636981904506683, 0.43084192753004674, 0.5349048740615697, 0.7955031641207395, 0.5480293757656004, 0.42249305026942185, 0.6881155516814949, 0.47556756774200587, 0.7960109285641596, 0.28254817335337584, 0.3046903340996372, 0.7572798174856336, 0.3804884654285221, 0.6947781253861114, 0.5943588614463806, 0.6010269564700722, 0.5161897773527057, 0.9037889280023675, 0.2985263072795322, 0.8141099591085559, 0.8475715696074402, 0.19152160340994692, 0.7413875047607105, 0.6690875732608909, 0.5421821599610789, 0.43408933436442676, 0.2666495145408579, 0.6033124735714036, 0.30466779626639223, 0.2022487102884214, 0.4159951950835401, 0.33590922765229136, 0.5213790257988047, 0.26695866162688103, 0.30903779126859926, 0.35613719397315036, 0.6470607157045888, 0.2333782222274076, 0.3975178540460817, 0.39690101604385797, 0.5878401696681976, 0.6433913964002443, 0.2904982179830208, 0.7777806262136026, 0.8939086049795151, 0.9172443017127764, 0.8415854871273041, 0.13334907241049437, 0.32094682972823785, 0.7065639484693759, 0.908820872568662, 0.6761890751084644, 0.4192240477101869, 0.5094484572487757, 0.3484026951685746, 0.9680005945265293, 0.8838516125199806, 0.5814091928363196, 0.8194833723033034, 0.9427125442021769, 0.5074158206170841, 0.3531038199381053, 0.30467515058287137, 0.5631775965074345, 0.9311177060008049, 0.046779513359069824, 0.5563585221233687, 0.4623928450569338, 0.7536949539391838, 0.7055589457216542, 0.49232345928754806, 0.7000762820243835, 0.6086370346004757, 0.520827937511196, 0.6866166170501337, 0.45896027635154724, 0.38869826897214393, 0.3310820935523651, 0.35848771570708327, 0.37378160135476984, 0.9375331588089466, 0.4936427002428409, 0.9406498074531555, 0.33544186689871913, 0.4000320580963489, 0.5421551520700495, 0.6024139511432491, 0.7450199169143602, 0.563722070372154, 0.4787582165491003, 0.41682781153001697, 0.394437164795501, 0.4826727107997947, 0.563864109941484, 0.5076397525257305, 0.924025883824798, 0.7315625862297901, 0.453612577921345, 0.46015945146105364, 0.4143485449593644, 0.42836980615843945, 0.6138493170231556, 0.4017337597151477, 0.9242564633954635, 0.6042689567609651, 0.6695473210116676, 0.32147047315354443, 0.3792354126896453, 0.47949866976719924, 0.5706210225911863, 0.8333344941208491, 0.36983486727675663, 0.5066128210351788, 0.8461288740511969, 0.3948242191922254, 0.16858384722862707, 0.5388885203214182, 0.6381582070994284, 0.3951681526439537, 0.27872312721782455, 0.6685368089703255, 0.29419623012236734, 0.49929652085447235, 0.6469073173687067, 0.4186407887501435, 0.3358681554852037, 0.5776491361949353, 0.9313548356294632, 0.5509653007112415, 0.4260676900149312, 0.6406065116144709, 0.42016605448800753, 0.39393153142484527, 0.6970651673017817, 0.6860642468479361, 0.8366195482851649, 0.12957586089698153, 0.8687464555846002, 0.49582040446506775, 0.3714834120693551, 0.644635550574105, 0.32036318285666576, 0.5066754438246679, 0.33057647353803693, 0.821427982259557, 0.9090586677193642, 0.45895084130020525, 0.4473522984524511, 0.8758639614922548, 0.6254894944529984, 0.9531404040753841, 0.3481723862683822, 0.48006275233638696, 0.5421553475638908, 0.3439332259762528, 0.5672271951027624, 0.4470616754701784, 0.7843423671898433, 0.40279102616714196, 0.22736303498022986, 0.3479919458971955, 0.37774911186814464, 0.4794632041818475, 0.4660743688021915, 0.4706699763780789, 0.20048677877861817, 0.5310713648796082, 0.8573022484779358, 0.3196433208520734, 0.37259864086836625, 0.2967023413789159, 0.8816463083512863, 0.7729735390018719, 0.3139782786860691, 0.5988684586061651, 0.37500414677568156, 0.554343051236255, 0.32642758403252314, 0.4313827189690415, 0.5990692564845344, 0.5650351213214154, 0.34268546906472336, 0.2958358046823003, 0.9435656514006864, 0.39885644500665857, 0.6397707033190064, 0.6809690963589592, 0.5210304138345275, 0.7177956700325012, 0.37834662857962625, 0.8940606163785988, 0.9212125112289139, 0.438179114072583, 0.7714515033958946, 0.4357648008693841, 0.5243145506359511, 0.3603668436629643, 0.4915747738643758, 0.5600268509927357, 0.6444870099874362, 0.6353543050547502, 0.34104749488677644, 0.7751606910972599, 0.7017468619644526, 0.46301532201119383, 0.577936027338136, 0.5119457579693145, 0.3009233204159872, 0.22444948077411317, 0.193541570902006, 0.932130087696043, 0.40300343728079785, 0.5930739628569214, 0.8277369225308668, 0.4575792565297105, 0.44355200413613877, 0.4986562694484201, 0.36542190598735963, 0.5024248854613456, 0.7827431335899315, 0.6518017729785548, 0.4538710870910244, 0.48370382758904273, 0.5732568439786541, 0.45798723189711743, 0.25824886560440063, 0.7090371957823564, 0.13727879460897535, 0.27395791596056407, 0.5620101690292358, 0.31787790546099765, 0.290762667526583, 0.3183566616939892, 0.3748249791186668, 0.9759853817522526], 'toxicities': [0.12534648, 0.40861523, 0.2766786, 0.6104373, 0.613914, 0.3516663, 0.5264764, 0.19648325, 0.51969826, 0.34318638, 0.22045301, 0.4866839, 0.01049517, 0.34331042, 0.09492657, 0.51692677, 0.578186, 0.21078312, 0.07671561, 0.3584555, 0.6388052, 0.50937885, 0.85198367, 0.061559994, 0.15543176, 0.0562148, 0.10051832, 0.31145, 0.46807235, 0.19644894, 0.1231895, 0.42191064, 0.069033116, 0.5420771, 0.1902922, 0.15674213, 0.55711865, 0.14567362, 0.5692417, 0.042930562, 0.12034904, 0.012259013, 0.40773913, 0.63316566, 0.38458228, 0.047811113, 0.06331163, 0.22747658, 0.36501002, 0.8585391, 0.09982131, 0.014510636, 0.076308474, 0.273039, 0.32476902, 0.53808, 0.26004663, 0.085617684, 0.12324478, 0.029096253, 0.03790018, 0.30253822, 0.5803501, 0.40490538, 0.33089894, 0.043205623, 0.02955765, 0.19675641, 0.23366651, 0.36218464, 0.071097285, 0.08000127, 0.19728103, 0.05489881, 0.10858811, 0.05132145, 0.08866505, 0.61801827, 0.035770953, 0.63996357, 0.25593823, 0.07184246, 0.10012955, 0.6953048, 0.29856524, 0.17368644, 0.08279948, 0.018574918, 0.017574802, 0.18409134, 0.21577296, 0.40630543, 0.45240945, 0.32097608, 0.2589257, 0.20466271, 0.5956927, 0.570441, 0.60048145, 0.33855852, 0.39416006, 0.20325018, 0.17225501, 0.6462955, 0.5093637, 0.5982674, 0.5314736, 0.039161146, 0.49712026, 0.34506452, 0.6857183, 0.047011018, 0.44767424, 0.2015959, 0.69384867, 0.07509866, 0.041382313, 0.30348715, 0.27409983, 0.2018403, 0.18309574, 0.44702303, 0.4186313, 0.23881517, 0.00980516, 0.040944494, 0.5454082, 0.36142957, 0.084974036, 0.5231802, 0.4217331, 0.4596016, 0.1342011, 0.11786428, 0.11642564, 0.62320554, 0.19955912, 0.28631267, 0.49317622, 0.54497755, 0.54622704, 0.124352604, 0.38362417, 0.45630145, 0.035936426, 0.07867438, 0.41704044, 0.026612587, 0.16446032, 0.65108997, 0.24612801, 0.37672222, 0.16341017, 0.057605706, 0.33749565, 0.5672169, 0.10017265, 0.14073686, 0.6471313, 0.17645246, 0.32980034, 0.27105752, 0.36918113, 0.3774617, 0.06797203, 0.08821658, 0.11686795, 0.038288686, 0.35638508, 0.4724863, 0.61815715, 0.22695781, 0.10490337, 0.34975213, 0.5006798, 0.13783787, 0.3456017, 0.25365064, 0.49237582, 0.38825622, 0.07874502, 0.047303446, 0.6589751, 0.03751832, 0.63745517, 0.43040726, 0.22914796, 0.5794574, 0.3670297, 0.10122325, 0.2081108, 0.63175964, 0.30591267, 0.5312664, 0.25483978, 0.27404013, 0.30475023, 0.15077756, 0.4869453, 0.22092482, 0.17308503, 0.28399488, 0.44092023, 0.27136576, 0.29886377, 0.38370568, 0.061096817, 0.41973126, 0.23187459, 0.02279076, 0.09900165, 0.15004022, 0.4991966, 0.083483614, 0.24540152, 0.16797678, 0.46569523, 0.23280042, 0.5911488, 0.50415134, 0.24614768, 0.33961326, 0.20849171, 0.05733434, 0.050219048, 0.5958194, 0.4654244, 0.44320673, 0.3234894, 0.22597128, 0.094020866, 0.040818926, 0.6952797, 0.7193042, 0.09417333, 0.38943797, 0.34835657, 0.5499086, 0.4704715, 0.2245709, 0.088539794, 0.16619949, 0.49452883, 0.4402665, 0.24385242, 0.30164218, 0.07747296, 0.25375733, 0.3342782, 0.4593741, 0.2811559, 0.35140264, 0.36867365, 0.26057222, 0.3927041, 0.07094519, 0.12412641, 0.09676168, 0.4514686, 0.23002788, 0.39936033, 0.25424448, 0.21748656, 0.3317201, 0.30585745, 0.26260707, 0.21914405, 0.49609837, 0.44677702, 0.321464, 0.036193702, 0.532743, 0.24252802, 0.21790129, 0.017427243, 0.14563078, 0.10895359, 0.21617103, 0.09210397, 0.69502455, 0.08469255, 0.35687453, 0.08984401, 0.05636673, 0.33281168, 0.09610027, 0.18334506, 0.22884156, 0.40230712, 0.66457266, 0.02279076, 0.29147315, 0.16971385, 0.65760714, 0.03969242, 0.12413467, 0.122489944, 0.3269025, 0.78905696, 0.17176706, 0.14913458, 0.5351575, 0.5082582, 0.16284916, 0.41329983, 0.7438129, 0.12115044, 0.3219697, 0.028753592, 0.28599823, 0.6166764, 0.3684447, 0.4016705, 0.17252524, 0.78304404, 0.78452355, 0.100264154, 0.30189773, 0.08000158, 0.3415444, 0.21433935, 0.0909409, 0.3137291, 0.16971779, 0.36325568, 0.5894175, 0.20646822, 0.6082235, 0.4106886, 0.51001024, 0.1772567, 0.08337734, 0.53197104, 0.26662767, 0.23252141, 0.10528606, 0.3865432, 0.009737723, 0.1620153, 0.06099518, 0.57092667, 0.43257803, 0.3733725, 0.1178642, 0.42358273, 0.5059013, 0.11291633, 0.053304784, 0.19452895, 0.3999939, 0.27120873, 0.13804398, 0.44748378, 0.17362894, 0.38824695, 0.36493996, 0.18415007, 0.103560336, 0.18658692, 0.09210971, 0.8505951, 0.017809227, 0.1734664, 0.69043654, 0.015923651, 0.25447005, 0.062140502, 0.36005005, 0.04966955, 0.16100255, 0.14138465, 0.28532827, 0.18866001, 0.061785623, 0.14988638, 0.35572153, 0.5281351, 0.05278154, 0.08551089, 0.3604197, 0.4785928, 0.21424828, 0.1557965, 0.054963596, 0.40171778, 0.074754864, 0.56589186, 0.090085335, 0.035836432, 0.060203243, 0.18798955, 0.11786428, 0.3999405, 0.35981548, 0.42427117, 0.48813152, 0.61755246, 0.055806093, 0.17789702, 0.009590769, 0.671924, 0.40345296, 0.040422183, 0.10299068, 0.46959734, 0.13920635, 0.5605155, 0.04191505, 0.41615057, 0.5760424, 0.46217546, 0.1784719, 0.114833005, 0.2050875, 0.41681284, 0.469816, 0.37223664, 0.74420184, 0.20898208, 0.22834244, 0.50868297, 0.17975378, 0.536774, 0.057334047, 0.44058692, 0.2549464, 0.23564011, 0.1960084, 0.40322807, 0.16693763, 0.6648305, 0.28807062, 0.3127887, 0.11994954, 0.1178642, 0.3907016, 0.13030487, 0.22432193, 0.149428, 0.45440364, 0.42961434, 0.33529282, 0.107565224, 0.59698653, 0.266264, 0.3754057, 0.10477963, 0.06434193, 0.581349, 0.23720002, 0.5364436, 0.078176305, 0.06049174, 0.16250317, 0.639018, 0.47266212, 0.09280809, 0.7381704, 0.04939426, 0.47165933, 0.12004005, 0.4906497, 0.62835175, 0.51460755, 0.5582002, 0.6757879, 0.20414433, 0.009610433, 0.098110884, 0.07836213, 0.24217461, 0.51863104, 0.037302293, 0.075977005, 0.28115964, 0.29905754, 0.27441692, 0.23155396, 0.18333131, 0.41508803, 0.39539233, 0.4285281, 0.39302143, 0.1362662, 0.47393584, 0.14083122, 0.5138242, 0.4697892, 0.14098187, 0.44212192, 0.03306989, 0.4966217, 0.5523889, 0.2910419, 0.53370315, 0.010393599, 0.04231149, 0.28185785, 0.22644508, 0.24469338, 0.3586062, 0.1322451, 0.2767015, 0.07585878, 0.5100685, 0.08055668, 0.38556072, 0.20524247, 0.09783973, 0.31363648, 0.53379184, 0.3304766, 0.031910382, 0.14811411, 0.27896717, 0.016241003, 0.07245818, 0.19812831, 0.24628891, 0.031114893, 0.6873774, 0.3437139, 0.08195159, 0.50844675, 0.70744467, 0.3752181, 0.053887002, 0.7164749, 0.0125380475, 0.13924444, 0.6378267, 0.12580974, 0.5999388, 0.22964334, 0.6793426, 0.32123947, 0.38559422, 0.6591907, 0.23429318, 0.48131895, 0.7088103, 0.57297045, 0.120180644, 0.6452698, 0.9906241, 0.039599065, 0.31605783, 0.43022126, 0.4972094, 0.54052, 0.30341613, 0.2277398, 0.15160675, 0.5819331, 0.5979635, 0.4861037, 0.19409628, 0.54408056, 0.18691246, 0.13563062, 0.28569052, 0.6137815, 0.72450453, 0.4442733, 0.72777575, 0.20408809, 0.28034446, 0.4200082, 0.08121399, 0.16516647, 0.3302355, 0.13754785, 0.12521689, 0.71930325, 0.16175981, 0.08167279, 0.12783627, 0.49899158, 0.18811573, 0.054023754, 0.16927487, 0.16181974, 0.36109102, 0.042906594, 0.51794904, 0.15636654, 0.7413079, 0.4103854, 0.17910743, 0.47654897, 0.080216065, 0.009687053, 0.14541498, 0.35211644, 0.20904183, 0.48006493, 0.26108906, 0.10640707, 0.2862396, 0.5136897, 0.30003345, 0.21946327, 0.4751069, 0.17652449, 0.29019886, 0.050055623, 0.5166036, 0.38731265, 0.06476576, 0.2986164, 0.38730228, 0.11627881, 0.5327598, 0.57914704, 0.38336164, 0.23653753, 0.81644624, 0.061815966, 0.041013654, 0.17381287, 0.70881987, 0.40205765, 0.07177165, 0.64216316, 0.3373888, 0.061875504, 0.33596584, 0.14741847, 0.06329023, 0.23336893, 0.13372536, 0.6652916, 0.56088454, 0.55059034, 0.08363815, 0.03752596, 0.24231473, 0.5203434, 0.36743513, 0.42370307, 0.41622907, 0.66832155, 0.03592516, 0.20736998, 0.6111103, 0.091692425, 0.042075332, 0.16441931, 0.20240223, 0.12133359, 0.23165263, 0.09760733, 0.083592646, 0.46409875, 0.29628992, 0.13629824, 0.546414, 0.011455286, 0.13045146, 0.060470056, 0.4753903, 0.3554829, 0.17522882, 0.33172843, 0.43245167, 0.26635954, 0.44986305, 0.102110654, 0.14412667, 0.33171105, 0.0930923, 0.40950036, 0.10497871, 0.38969812, 0.1372196, 0.46868736, 0.3292445, 0.035895407, 0.052372996, 0.4641116, 0.41481653, 0.73845667, 0.1880285, 0.07219524, 0.097921856, 0.081574365, 0.2892503, 0.27859253, 0.1206503, 0.051450405, 0.26966044, 0.114347935, 0.13024797, 0.5179324, 0.12708384, 0.29135466, 0.5718357, 0.07161941, 0.056462314, 0.44430342, 0.4320744, 0.25570613, 0.5143515, 0.5257077, 0.024630465, 0.4045162, 0.0318469, 0.14524914, 0.079007685, 0.042757276, 0.11248279, 0.21605426, 0.23004617, 0.46454883, 0.054113146, 0.057247505, 0.4662419, 0.107208446, 0.53469175, 0.47823146, 0.20060539, 0.07917071, 0.028492479, 0.43497086, 0.010337368, 0.12247611, 0.45200592, 0.059586525, 0.3777175, 0.10006024, 0.6970123, 0.42676798, 0.24976528, 0.714374, 0.48039046, 0.13251384, 0.38254195, 0.14755814, 0.35952997, 0.2884504, 0.5112468, 0.5257107, 0.15090635, 0.20838016, 0.6576713, 0.08531624, 0.1419836, 0.5764912, 0.21052592, 0.3206921, 0.24622741, 0.16730955, 0.62056804, 0.12371217, 0.35828078, 0.64542145, 0.2936086, 0.59041435, 0.36004388, 0.5475779, 0.024070786, 0.6333346, 0.04234327, 0.2896319, 0.11434327, 0.78655964, 0.13846524, 0.46543097, 0.38348714, 0.1789129, 0.026699714, 0.6134547, 0.62109894, 0.04672867, 0.4685451, 0.211185, 0.123511784, 0.18672284, 0.3100957, 0.5302572, 0.4828005, 0.3607183, 0.0898508, 0.34311712, 0.22665773, 0.53834003, 0.091639265, 0.0654233, 0.03234099, 0.14073913, 0.36251262, 0.7288494, 0.44723436, 0.563751, 0.13710652, 0.10835496, 0.5798231, 0.7093642, 0.4246174, 0.05330211, 0.4730547, 0.5727812, 0.38271454, 0.36825696, 0.107249275, 0.22258185, 0.22647047, 0.1724996, 0.33222398, 0.625597, 0.4653516, 0.055538755, 0.29131994, 0.4428045, 0.18990299, 0.0561721, 0.3414628, 0.17039165, 0.56641865, 0.19965895, 0.27873215, 0.7336431, 0.21146527, 0.15712133, 0.10401042, 0.17003831, 0.5844615, 0.4815019, 0.19218396, 0.040608082, 0.632673, 0.4521155, 0.29852372, 0.014588122, 0.13834445, 0.48274317, 0.05168579, 0.46618912, 0.26254788, 0.059483416, 0.50259256, 0.25834972, 0.13720949, 0.46011508, 0.06778375, 0.42771965, 0.116993636, 0.07587038, 0.56727403, 0.12827986, 0.7576906, 0.4638179, 0.015648004, 0.20560296, 0.41152707, 0.0772783, 0.1315232, 0.4121689, 0.74612004, 0.089367285, 0.24529904, 0.38553932, 0.06658583, 0.099052824, 0.31846386, 0.43634745, 0.04322528, 0.43106118, 0.12256913, 0.009578729, 0.27832073, 0.17096347, 0.45358318, 0.7433479, 0.3032358, 0.287447, 0.5088562, 0.22242518, 0.23422593, 0.35422176, 0.36798483, 0.18810076, 0.39712146, 0.08854445, 0.1077608, 0.13936307, 0.14803095, 0.07964251, 0.15548836, 0.15017836, 0.6608611, 0.09399258, 0.16180176, 0.18524177, 0.37507012, 0.37191716, 0.5419587, 0.086854406, 0.21670744, 0.25326344, 0.2511265, 0.8923021, 0.4103043, 0.33480513, 0.030493658, 0.10390628, 0.36680236, 0.5720362, 0.29057926, 0.19377951, 0.2029196, 0.2645842, 0.14320526, 0.33542168, 0.054916915, 0.31756142, 0.37956768, 0.54655105, 0.45814055, 0.030390818, 0.29288417, 0.17450319, 0.21446289, 0.24775927, 0.45857614, 0.22672239, 0.054558948, 0.17340885, 0.2008284, 0.14300871, 0.30088228, 0.37146333, 0.5737388, 0.5091776, 0.5148413, 0.32332984, 0.03939412, 0.715673, 0.28243437, 0.6338725, 0.5396849, 0.14204535, 0.3902862, 0.5051567, 0.044258505, 0.19074592, 0.19726706, 0.4602747, 0.029267209, 0.49942103, 0.38101643, 0.060821842, 0.2815348, 0.14524466, 0.121286534, 0.09380297, 0.22850542, 0.20724663, 0.3557248, 0.08977119, 0.11954922, 0.24808486, 0.2166482, 0.34232977, 0.63173115, 0.015237342, 0.10095576, 0.05283664, 0.14370134, 0.022032667, 0.35064086, 0.4802318, 0.48381504, 0.3861289, 0.06393632, 0.37717566, 0.35668817, 0.107990235, 0.21652547, 0.67497617, 0.22373503, 0.94862884, 0.029163385, 0.20152132, 0.369743, 0.38273507, 0.37595984, 0.4686226, 0.49029842, 0.5783713, 0.3576835, 0.45080897, 0.16107272, 0.26657116, 0.53081757, 0.3954243, 0.28645638, 0.124791674, 0.69145364, 0.12629186, 0.16365872, 0.22928743, 0.46422392, 0.23405464, 0.11562526, 0.29846564, 0.55127615, 0.21596333, 0.20102897, 0.00965856, 0.2529189, 0.2845893, 0.68381983, 0.21450402, 0.45208153, 0.092151605, 0.58751166, 0.6981189, 0.054452337, 0.6636921, 0.5131202, 0.18883203, 0.021946432, 0.45544025, 0.40500915, 0.050215226, 0.5377695, 0.2567541, 0.14920248, 0.22755975, 0.10705284, 0.5927241, 0.028655112, 0.50243, 0.43287307, 0.026597936, 0.4477646, 0.37997144, 0.5762999, 0.4145366, 0.9333775, 0.28159708, 0.2238558, 0.39842278, 0.6389868, 0.5122535, 0.26455387, 0.38541326, 0.16156705, 0.27484173, 0.04846621, 0.016612977, 0.28042254, 0.19277272, 0.24913746, 0.8146018, 0.15330684, 0.52728486, 0.20953621, 0.11801459, 0.23502351, 0.28313172, 0.41520286, 0.17485677, 0.5958719, 0.44597062, 0.06541703, 0.25768337, 0.33401257, 0.46139282, 0.5703743, 0.65107846, 0.18669544, 0.16971453, 0.6830508, 0.43767855, 0.6126775, 0.5560475, 0.23801057, 0.20752585, 0.454049, 0.23893796, 0.17405835, 0.27512082, 0.011711334, 0.19934373, 0.33581164, 0.04778894, 0.65628475, 0.066833675, 0.57707816, 0.3642696, 0.28225806, 0.40664646, 0.19315547, 0.40410066, 0.1257648, 0.11072688, 0.4002359, 0.2022132, 0.6808542, 0.66754335, 0.43808398, 0.34980458, 0.2189904, 0.18998112, 0.45314917, 0.5676953, 0.18037544, 0.03659033, 0.19735892, 0.117594995, 0.47939107, 0.1729618, 0.3952896, 0.16300398, 0.6128297, 0.44331813, 0.17925669, 0.17581041, 0.56644166, 0.23574506, 0.051506937, 0.027021132, 0.43228003, 0.07875871, 0.45969778, 0.1860777, 0.65442705, 0.31987646, 0.27718702, 0.12408494, 0.7552604, 0.29748043, 0.82569796, 0.011571958, 0.011765496, 0.23788412, 0.044452768, 0.60953987, 0.19528507, 0.2974721, 0.4160824, 0.5370927, 0.38886964, 0.28321993, 0.79525656, 0.1921013, 0.12821008, 0.23603056, 0.01112289, 0.14339368, 0.32540694, 0.639251, 0.13871412, 0.26347762, 0.2029105, 0.6014541, 0.032878645, 0.3151113, 0.25075713, 0.60460174, 0.5819753, 0.5103934, 0.7387593, 0.16441008, 0.31812015, 0.32136685, 0.47422975, 0.7572035, 0.22281502, 0.010992364, 0.38588655, 0.4986778, 0.17330584, 0.058936138, 0.04529378, 0.4756667, 0.052354567, 0.7124443, 0.21660185, 0.37947294, 0.39038506, 0.28367653, 0.6637813, 0.35271427, 0.19144611, 0.17945676, 0.33555907, 0.52009946, 0.17053272, 0.11838258, 0.5295278, 0.6117603, 0.14988823, 0.34194496, 0.042240217, 0.2959874, 0.06565449, 0.1031006, 0.10012783, 0.5593906, 0.47118112, 0.06674782, 0.57748014, 0.6000577, 0.7937773, 0.52553606, 0.050945573, 0.10559123, 0.086136825, 0.08320615, 0.3802534, 0.33549422, 0.13988025, 0.17116377, 0.14782736, 0.18366131, 0.40208966, 0.39879, 0.47689027, 0.4842793, 0.32564974, 0.25762963, 0.4732846, 0.64441705, 0.25125644, 0.42249233, 0.5049073, 0.36434582, 0.042435225, 0.060904495, 0.25247845, 0.27985546, 0.17830873, 0.5716228, 0.4954873, 0.73751134, 0.5756214, 0.3254338, 0.08748794, 0.52947307, 0.5116341, 0.39024484, 0.11076251, 0.6350341, 0.09278106, 0.16566274, 0.035788406, 0.040073354, 0.14717412, 0.47319132, 0.4023664, 0.55347776, 0.059195563, 0.09939832, 0.023312673, 0.24476124, 0.12921216, 0.24881276, 0.030930715, 0.15928565, 0.403563, 0.061040286, 0.19182354, 0.016552346, 0.17207712, 0.20446433, 0.71831954, 0.721948, 0.4740001, 0.06864948, 0.12047794, 0.104327574, 0.6093496, 0.45683432, 0.04320634, 0.026627123, 0.43178108, 0.38865522, 0.12028741, 0.47621036, 0.48934326, 0.28561053, 0.11692611, 0.2208132, 0.056455757, 0.49613833, 0.11600052, 0.48728234, 0.30290338, 0.029874252, 0.16327068, 0.6465275, 0.40897247, 0.07572426, 0.2035319, 0.3817175, 0.358907, 0.22381572, 0.40447786, 0.09350451, 0.49084285, 0.48242298, 0.12024364, 0.13467675, 0.026895994, 0.028952887, 0.058963522, 0.01035107, 0.51853806, 0.5442838, 0.08072029, 0.3463309, 0.18416305, 0.5708871, 0.23580639, 0.4166427, 0.63837373, 0.112440065, 0.43501708, 0.14775951, 0.15125857, 0.40861538, 0.06971061, 0.028380314, 0.5732415, 0.5642917, 0.66297907, 0.031252705, 0.25348926, 0.5107948, 0.29516283, 0.58787477, 0.5432825, 0.20385748, 0.24330106, 0.659994, 0.27645248, 0.51322424, 0.60771924, 0.185187, 0.18730834, 0.025201358, 0.6067368, 0.16357374, 0.25591835, 0.09687917, 0.40146407, 0.09045851, 0.3000694, 0.3561036, 0.7211582, 0.46943566, 0.14420533, 0.3042003, 0.5267505, 0.25349453, 0.49222216, 0.13089308, 0.07932441, 0.020386988, 0.2206852, 0.22845818, 0.36225516, 0.22932886, 0.4719697, 0.036240917, 0.14328595, 0.18318823, 0.5900236, 0.5949676, 0.1839387, 0.16672178, 0.41962215, 0.43065113, 0.43819302, 0.30193463, 0.80428666, 0.20132266, 0.6519733, 0.19450283, 0.47084734, 0.45012924, 0.14194289, 0.25459525, 0.093941905, 0.05200582, 0.3781842, 0.6243237, 0.59564745, 0.22542524, 0.4153694, 0.2606215, 0.060110312, 0.17360362, 0.50884247, 0.14570573, 0.50688446, 0.5636757, 0.6090923, 0.065875284, 0.53042495, 0.5394831, 0.08335165, 0.45612034, 0.17236955, 0.6515252, 0.12819274, 0.59021133, 0.5695333, 0.1524482, 0.17342843, 0.4551432, 0.2841362, 0.5573317, 0.3144955, 0.5067383, 0.13173074, 0.09700539, 0.42295578, 0.18362348, 0.24572593, 0.2514836, 0.13664861, 0.33107507, 0.14357382, 0.25353068, 0.43384165, 0.018756125, 0.1747338, 0.029950146, 0.47912475, 0.11452211, 0.43401203, 0.28020582, 0.5854073, 0.07305702, 0.0977387, 0.2527218, 0.34512222, 0.1526369, 0.638903, 0.15759806, 0.055943273, 0.11604123, 0.3168701, 0.095519386, 0.387703, 0.6990155, 0.6758857, 0.04421364, 0.41512474, 0.39112863, 0.46899998, 0.0646209, 0.4387767, 0.12699255, 0.12720479, 0.049423408, 0.12649058, 0.6416323, 0.63083214, 0.08730936, 0.49840128, 0.6372089, 0.25085056, 0.020097146, 0.39551544, 0.4987023, 0.45101434, 0.08894173, 0.34491712, 0.32655773, 0.29663453, 0.6672934, 0.2811075, 0.26790112, 0.5129926, 0.28135565, 0.06234535, 0.0119935665, 0.04007624, 0.08216415, 0.23691612, 0.5480528, 0.17647214, 0.25048435, 0.64561564, 0.18457918, 0.043799754, 0.5855668, 0.22860956, 0.71261394, 0.16267833, 0.01649447, 0.26734325, 0.29624152, 0.27619147, 0.5959836, 0.029453518, 0.16929816, 0.27350655, 0.27503344, 0.26552424, 0.40731978, 0.44409314, 0.068505235, 0.72436595, 0.18806188, 0.05152905, 0.3185842, 0.35905412, 0.38428214, 0.07918647, 0.1374435, 0.10777249, 0.3218188, 0.07231752, 0.03983657, 0.40651453, 0.6203885, 0.30850044, 0.13898236, 0.33944574, 0.0099565685, 0.15036538, 0.4199072, 0.015959756, 0.4123038, 0.34902078, 0.7031375, 0.05198007, 0.029938404, 0.37942034, 0.30245617, 0.039882556, 0.026137402, 0.06419387, 0.18102404, 0.47830337, 0.4775466, 0.3927524, 0.684022, 0.3983815, 0.5551928, 0.32802406, 0.32414284, 0.6873297, 0.29043964, 0.74387854, 0.08525318, 0.44446987, 0.3323377, 0.24424616, 0.027231855, 0.09017619, 0.6403938, 0.45469382, 0.58519953, 0.08435307, 0.55899924, 0.093298465, 0.3723492, 0.08127104, 0.024651432, 0.44982997, 0.18994476, 0.13747591, 0.5831851, 0.6288539, 0.7113532, 0.31051385, 0.0695229, 0.08860404, 0.24634126, 0.853022, 0.3563897, 0.49182603, 0.0167063, 0.1038518, 0.5651511, 0.32764482, 0.46243313, 0.56356096, 0.4147353, 0.6405885, 0.039327655, 0.058831964, 0.026261216, 0.5208868, 0.0733733, 0.16603729, 0.3032427, 0.5180547, 0.37329578, 0.26627094, 0.3689331, 0.74383706, 0.47965598, 0.06745725, 0.05073588, 0.16201235, 0.1319229, 0.32077512, 0.2039291, 0.13463674, 0.009881465, 0.4717082, 0.13674815, 0.22974782, 0.5739355, 0.09973267, 0.4642308, 0.27575383, 0.75096846, 0.12320074, 0.5454026, 0.39368147, 0.4745151, 0.7559419, 0.60017836, 0.42354012, 0.23062848, 0.14995672, 0.11849428, 0.055255637, 0.07091152, 0.19765171, 0.1597545, 0.21338885, 0.048863158, 0.06621288, 0.07415262, 0.33266142, 0.4229356, 0.22221272, 0.0612501, 0.1934879, 0.4540778, 0.6378663, 0.34607247, 0.052018628, 0.24108635, 0.50533974, 0.23239423, 0.06713873, 0.5009274, 0.5396458, 0.25626084, 0.051444374, 0.093865074, 0.5969682, 0.11775409, 0.12926638, 0.3827529, 0.073177606, 0.16580677, 0.18034978, 0.16370946, 0.13132124, 0.23477417, 0.060467217, 0.45295724, 0.29560396, 0.023651635, 0.63089186, 0.34919664, 0.40975428, 0.22969647, 0.06481257, 0.091763936, 0.11380066, 0.1354849, 0.13172595, 0.6259477, 0.08967075, 0.6732456, 0.34104592, 0.102109686, 0.46513093, 0.028075516, 0.6460077, 0.39975226, 0.054003324, 0.59968084, 0.1453177, 0.7346769, 0.5055351, 0.5321017, 0.19567911, 0.3699578, 0.63562715, 0.024928208, 0.3280243, 0.07931281, 0.38331565, 0.05250215, 0.77816385, 0.36251527, 0.096539885, 0.2885354, 0.04168384, 0.23324469, 0.03578499, 0.5110568, 0.13473296, 0.67831904, 0.40796295, 0.2850136, 0.2537999, 0.049019504, 0.0736597, 0.6630987, 0.25039887, 0.2891449, 0.12205728, 0.48927733, 0.43398514, 0.36394173, 0.3671832, 0.32475302, 0.6979608, 0.118175484, 0.34973365, 0.40732062, 0.508291, 0.15073147, 0.2651535, 0.457033, 0.3337795, 0.5287153, 0.10692077, 0.11173385, 0.1357392, 0.016009126, 0.8029764, 0.14221446, 0.16441698, 0.43907326, 0.27557454, 0.20059216, 0.078064956, 0.4952861, 0.49677423, 0.39868322, 0.4589677, 0.14715062, 0.19580323, 0.4553109, 0.24620244, 0.40084156, 0.47051036, 0.35250753, 0.110695235, 0.17026392, 0.26056913, 0.37616023, 0.52468354, 0.026035978, 0.26154196, 0.488804, 0.1499742, 0.037622277, 0.33856058, 0.41831508, 0.18641202, 0.17895752, 0.15687339, 0.12724964, 0.426946, 0.15953098, 0.4194605, 0.27576622, 0.5001082, 0.13282272, 0.67544335, 0.38163817, 0.29238787, 0.3077811, 0.5377613, 0.08256532, 0.5028067, 0.12130428, 0.29762754, 0.048418444, 0.5034392, 0.42354092, 0.26960602, 0.51479644, 0.29584435, 0.22677982, 0.09105335, 0.49917728, 0.21554202, 0.01884599, 0.17194907, 0.1527503, 0.3331659, 0.34281144, 0.20111881, 0.54939073, 0.18141453, 0.19470328, 0.3914826, 0.12941208, 0.13941728, 0.17227365, 0.39533752, 0.23042803, 0.049415868, 0.04472907, 0.577216, 0.56112593, 0.046185687, 0.14299805, 0.07388942, 0.1491781, 0.037753932, 0.13751332, 0.108671844, 0.03739401, 0.3905497, 0.3087292, 0.6269535, 0.018661465, 0.21615562, 0.5238073, 0.41043097, 0.38529077, 0.14366476, 0.4274884, 0.8461955, 0.04790895, 0.49059358, 0.091764055, 0.1317063, 0.329038, 0.06480886, 0.15355578, 0.45384544, 0.05343716, 0.85483426, 0.65528065, 0.21923271, 0.08367173, 0.11679046, 0.025822515, 0.2188978, 0.7357789, 0.15277623, 0.34719872, 0.021115234, 0.40905717, 0.5875548, 0.04162144, 0.06280349, 0.4802662, 0.114694506, 0.2550375, 0.14390662, 0.2962615, 0.42656282, 0.10951338, 0.6643817, 0.69886595, 0.6076706, 0.035527572, 0.471369, 0.14819556, 0.45619133, 0.42174378, 0.009995637, 0.6925538, 0.7397669, 0.10378566, 0.46139285, 0.40113243, 0.16260187, 0.13461661, 0.31681392, 0.19073881, 0.22649387, 0.27646968, 0.6390232, 0.45395857, 0.16675161, 0.7288775, 0.29149908, 0.3612546, 0.25333282, 0.5687619, 0.029806376, 0.28714907, 0.15454876, 0.6291656, 0.28254357, 0.38859996, 0.42906657, 0.26180103, 0.16731454, 0.22276646, 0.066125646, 0.29529247, 0.21325924, 0.29644832, 0.52375555, 0.5618954, 0.40782568, 0.17461248, 0.050388053, 0.12517849, 0.15117523, 0.25949717, 0.443628, 0.38175896, 0.62525445, 0.041082557, 0.6063246, 0.22386475, 0.09151209, 0.16171014, 0.57526284, 0.51356995, 0.4630054, 0.35642558, 0.3087657, 0.38698933, 0.6625528, 0.16860792, 0.11858533, 0.23582092, 0.30665827, 0.10494079, 0.36712545, 0.3385824, 0.2680883, 0.052252427, 0.18281493, 0.6585032, 0.067083694, 0.6016547, 0.5754622, 0.34591302, 0.20830391, 0.50853944, 0.13576041, 0.2996934, 0.30268294, 0.5089445, 0.8515539, 0.36049348, 0.23391953, 0.070044726, 0.29189423, 0.61976284, 0.42847592, 0.61598027, 0.053151444, 0.6138703, 0.47267544, 0.08428319, 0.10049362, 0.4852583, 0.35334045, 0.0811714, 0.18909277, 0.49339113, 0.20842376, 0.43751502, 0.26538566, 0.10961294, 0.52337503, 0.44898614, 0.038430758, 0.14381346, 0.6195723, 0.14100698, 0.12766641, 0.2786015, 0.63906896, 0.51720566, 0.058393344, 0.17809698, 0.29209885, 0.3096087, 0.5512211, 0.5983513, 0.27984446, 0.1673795, 0.0397936, 0.22739312, 0.11027937, 0.37653682, 0.2257256, 0.37156114, 0.87233126, 0.13882114, 0.02291974, 0.6352387, 0.5149451, 0.22887583, 0.2469587, 0.119179316, 0.48990777, 0.057515092, 0.27237847, 0.14734823, 0.04370751, 0.1906999, 0.38466218, 0.09011761, 0.51364994, 0.17116268, 0.6742516, 0.16363798, 0.23526669, 0.6421126, 0.28617617, 0.47740805, 0.25513628, 0.13335377, 0.042170662, 0.46015668, 0.14448239, 0.74151844, 0.3914439, 0.25330052, 0.1170271, 0.18285975, 0.11000741, 0.13913892, 0.28559187, 0.016045485, 0.3483427, 0.7759253, 0.042985614, 0.5840709, 0.39247382, 0.022589063, 0.49663317, 0.11981571, 0.10105832, 0.2551844, 0.35806766, 0.329433, 0.41921565, 0.036064874, 0.3646894, 0.04596859, 0.3384827, 0.15064445, 0.3360925, 0.34257647, 0.6360259, 0.4523682, 0.4256045, 0.14279944, 0.26301935, 0.29813957, 0.39383313, 0.50310165, 0.69251996, 0.10369188, 0.38259658, 0.41936797, 0.039728533, 0.3543548, 0.34512454, 0.291965, 0.27386755, 0.031546794, 0.8208583, 0.18069506, 0.012913519, 0.58154875, 0.63566613, 0.3132455, 0.4344342, 0.6361412, 0.32364035, 0.45298803, 0.19617963, 0.629147, 0.053123925, 0.567931, 0.4769648, 0.07459184, 0.40313336, 0.4564248, 0.5449121, 0.17570418, 0.29089677, 0.4427945, 0.10101436, 0.14624488, 0.028718553, 0.08879806, 0.095922396, 0.5770494, 0.71976244, 0.15298864, 0.065227665, 0.09339834, 0.5008838, 0.49728057, 0.11580618, 0.39827135, 0.069827996, 0.5557345, 0.19022703, 0.53922915, 0.066489115, 0.64036614, 0.29898623, 0.30850306, 0.3197195, 0.20794201, 0.5985503, 0.5525415, 0.7733446, 0.40895465, 0.25937387, 0.13601232, 0.610332, 0.4324773, 0.071663305, 0.18882756, 0.03586602, 0.35499117, 0.7030923, 0.44197485, 0.37763935, 0.25461647, 0.19032739, 0.61794543, 0.20116645, 0.3700455, 0.19688296, 0.26445353, 0.44433916, 0.11445742, 0.31499612, 0.8576353, 0.06874253, 0.4138072, 0.16323742, 0.20783319, 0.025324974, 0.17592303, 0.038631905, 0.12931022, 0.17166899, 0.53999275, 0.5916124, 0.27681276, 0.079287715, 0.44445837, 0.22099248, 0.2853505, 0.45833382, 0.06807476, 0.1180613, 0.24861652, 0.6760646, 0.09667445, 0.15527226, 0.6706783, 0.75776684, 0.19077025, 0.5615166, 0.093856454, 0.31937832, 0.3773183, 0.37317657, 0.62601095, 0.010271713, 0.07747464, 0.036774326, 0.39409313, 0.24792333, 0.17392714, 0.4824348, 0.16143395, 0.27973157, 0.050804377, 0.4010068, 0.45258984, 0.16629206, 0.46927118, 0.18067108, 0.049144145, 0.61252964, 0.2846576, 0.42864627, 0.47978216, 0.2233692, 0.5290288, 0.39137393, 0.2430386, 0.4818076, 0.22635455, 0.4976745, 0.11293988, 0.121110335, 0.10157667, 0.045041613, 0.12689961, 0.90118766, 0.28692985, 0.45978695, 0.4530652, 0.14302756, 0.62139964, 0.14249687, 0.69701225, 0.043705948, 0.77327436, 0.042428136, 0.16358691, 0.51430804, 0.043289162, 0.18816964, 0.08466128, 0.5432825, 0.41840357, 0.5412618, 0.3560448, 0.098124556, 0.15333639, 0.17981444, 0.63881993, 0.6123612, 0.29472014, 0.7234114, 0.09116387, 0.569423, 0.5032678, 0.69596803, 0.60608095, 0.32241222, 0.209251, 0.17071402, 0.6448364, 0.5165914, 0.13137026, 0.2592094, 0.2894338, 0.5720071, 0.51971316, 0.65388197, 0.6598716, 0.32901657, 0.047830153, 0.21071827, 0.07370086, 0.3807065, 0.24645041, 0.37678674, 0.6653578, 0.46201867, 0.5476767, 0.49728587, 0.3930706, 0.18262875, 0.23630181, 0.32997295, 0.13173054, 0.10382543, 0.36915043, 0.09596924, 0.186768, 0.35021907, 0.026260441, 0.56264365, 0.6083449, 0.03708225, 0.25310266, 0.11275538, 0.40564114, 0.30474153, 0.16320884, 0.054899823, 0.14562239, 0.15610693, 0.0902577, 0.57732713, 0.083756216, 0.04153659, 0.380837, 0.49316067, 0.61218375, 0.3091712, 0.49888724, 0.6653756, 0.13091561, 0.34538826, 0.32897264, 0.23160063, 0.6647848, 0.44570684, 0.12177069, 0.7222821, 0.20127043, 0.46441057, 0.41215983, 0.051247533, 0.4978688, 0.115411244, 0.106091395, 0.072864346, 0.15841451, 0.6741328, 0.47008297, 0.11158704, 0.030142736, 0.26806667, 0.47601685, 0.35320514, 0.45468283, 0.031999405, 0.08988009, 0.1463859, 0.1437125, 0.044655353, 0.31295267, 0.3285281, 0.6604228, 0.35917547, 0.068882294, 0.9532205, 0.38621145, 0.4829534, 0.085021295, 0.041052494, 0.3204258, 0.29992372, 0.33893815, 0.37011638, 0.21842378, 0.43838692, 0.24492747, 0.41054556, 0.42624334, 0.33244535, 0.06246684, 0.31252742, 0.059350193, 0.47651583, 0.31320125, 0.40458444, 0.14613844, 0.03346624, 0.19944328, 0.27994612, 0.124278374, 0.06298169, 0.46693403, 0.32904434, 0.4632721, 0.060317032, 0.17722167, 0.07356139, 0.32793808, 0.4469149, 0.045770224, 0.13576901, 0.52814716, 0.036061347, 0.26596722, 0.07943612, 0.52072376, 0.34561324, 0.44928488, 0.21423629, 0.11741189, 0.18129927, 0.30960146, 0.036053885, 0.3130419, 0.58826405, 0.04546295, 0.18689999, 0.49986872, 0.50864655, 0.1394792, 0.48838237, 0.22718887, 0.19811113, 0.2757861, 0.44130293, 0.12083165, 0.068645164, 0.37482995, 0.060174983, 0.08412522, 0.5236468, 0.2996719, 0.09443565, 0.17692064, 0.066229865, 0.50896263, 0.03696472, 0.44969055, 0.5174022, 0.045998044, 0.49152678, 0.30656424, 0.6072025, 0.037035007, 0.09094133, 0.30981287, 0.3989697, 0.07166032, 0.1030791, 0.046859596, 0.4370978, 0.3550904, 0.20523956, 0.641606, 0.3433798, 0.45933858, 0.16519706, 0.5622823, 0.5677752, 0.44273493, 0.47632405, 0.2697759, 0.27570784, 0.22146398, 0.6782907, 0.46892864, 0.14269775, 0.62159866, 0.5668525, 0.43260524, 0.043261845, 0.06241061, 0.24939615, 0.21629134, 0.32379737, 0.19932473, 0.60524493, 0.3006889, 0.34656808, 0.27785385, 0.47009563, 0.67081934, 0.031248806, 0.43253717, 0.15725538, 0.109007224, 0.07371658, 0.28220433, 0.5685827, 0.088975914, 0.051378313, 0.3889819, 0.18251562, 0.49875095, 0.14054096, 0.48574647, 0.41406554, 0.04180747, 0.21123871, 0.25624877, 0.2768447, 0.04816021, 0.20021176, 0.03762754, 0.38904127, 0.2222527, 0.5574689, 0.6694294, 0.6271711, 0.0498139, 0.49728397, 0.40054217, 0.13009807, 0.3248263, 0.16727921, 0.4657808, 0.5006577, 0.22801298, 0.20358756, 0.11724884, 0.4718676, 0.18320008, 0.31821644, 0.27534983, 0.74175113, 0.23813422, 0.63963383, 0.51295996, 0.43798983, 0.6130795, 0.47373426, 0.4304506, 0.38687453, 0.024014618], 'lmdiffs': [0.8645798602503751, 1.0, 1.0, 1.0, 1.0, 0.7475513880952193, 1.0, 1.0, 1.0, 0.8996779294174777, 0.9972600947930689, 1.0, 1.0, 1.0, 1.0, 0.8869176564768131, 0.9286071670373656, 0.9501180251325081, 1.0, 1.0, 1.0, 0.9918094059384811, 0.7878905868373787, 1.0, 1.0, 1.0, 1.0, 1.0, 1.0, 1.0, 0.9847706887199664, 0.9739520984680281, 1.0, 1.0, 0.7682522577042303, 1.0, 0.9068973565099309, 1.0, 1.0, 0.854452204610258, 0.948426560669057, 1.0, 1.0, 1.0, 1.0, 0.9870926319091216, 1.0, 1.0, 1.0, 1.0, 1.0, 1.0, 0.9633264803579055, 0.9510909427403015, 0.9879503226997974, 1.0, 0.9544664049520069, 1.0, 1.0, 0.9997971179205107, 1.0, 1.0, 1.0, 0.9394893162039616, 1.0, 1.0, 0.9862679117325166, 1.0, 1.0, 1.0, 1.0, 0.9777816665284427, 1.0, 0.935345992919997, 1.0, 1.0, 0.9552056735002212, 1.0, 1.0, 0.9669514368580994, 1.0, 1.0, 1.0, 1.0, 1.0, 0.9887629010797123, 1.0, 1.0, 1.0, 0.9759921729921323, 1.0, 1.0, 0.968975655985912, 0.982378960667128, 0.39059260288660425, 1.0, 1.0, 0.9795926823108201, 0.9949114381535439, 0.8818441651933981, 0.7266642101733269, 1.0, 1.0, 1.0, 1.0, 1.0, 1.0, 1.0, 1.0, 0.9293608139022803, 1.0, 1.0, 1.0, 0.9514793189228331, 1.0, 1.0, 1.0, 1.0, 0.9107639306691854, 1.0, 1.0, 1.0, 0.9729544276840548, 1.0, 1.0, 1.0, 0.8923256488828026, 1.0, 0.7849866834724537, 1.0, 1.0, 1.0, 1.0, 1.0, 1.0, 0.9120806961874799, 1.0, 1.0, 1.0, 1.0, 1.0, 0.9897847803167816, 1.0, 1.0, 1.0, 1.0, 1.0, 0.7810004964975725, 0.9700943268993608, 0.9882447183688208, 1.0, 1.0, 1.0, 1.0, 1.0, 0.7740011530547384, 0.9289361799521101, 1.0, 1.0, 0.8900583678511158, 1.0, 1.0, 1.0, 1.0, 1.0, 1.0, 1.0, 1.0, 1.0, 1.0, 1.0, 1.0, 0.7409550632925698, 1.0, 1.0, 1.0, 1.0, 0.9973066969467087, 0.8965807631625192, 1.0, 1.0, 1.0, 0.9940986966376154, 1.0, 0.9244052998993976, 0.9930842267017865, 1.0, 0.9914498512592231, 1.0, 0.9804355889697124, 1.0, 1.0, 1.0, 0.9896526412805854, 1.0, 1.0, 1.0, 0.9603234329236757, 1.0, 1.0, 1.0, 1.0, 1.0, 0.9999943784701637, 0.8236401965535002, 1.0, 1.0, 0.9786480292482951, 0.9439935450930974, 1.0, 0.7954671571472554, 1.0, 1.0, 1.0, 1.0, 0.9982658531577626, 1.0, 0.9842305643998891, 0.9393467297094471, 1.0, 1.0, 1.0, 1.0, 1.0, 1.0, 0.8541349427401694, 0.6680466424145787, 1.0, 1.0, 0.9709178032304728, 0.8613562321264349, 1.0, 0.9691758590923861, 0.9905431821158918, 0.7529366247678865, 1.0, 1.0, 0.7925120784396358, 0.9791157697274638, 0.9236157561098681, 1.0, 0.9592175459625143, 1.0, 1.0, 1.0, 1.0, 0.9520217064771861, 0.9942834793316597, 1.0, 0.6079454234778974, 1.0, 1.0, 1.0, 1.0, 1.0, 0.9962630504457564, 1.0, 1.0, 1.0, 1.0, 1.0, 0.98677465685916, 0.9381224335672657, 1.0, 1.0, 0.9645440181680422, 1.0, 1.0, 0.8296337547243683, 1.0, 0.9422393217646299, 1.0, 1.0, 1.0, 0.9855990049183514, 1.0, 1.0, 1.0, 1.0, 1.0, 1.0, 1.0, 0.8245639912809263, 0.9770489121872045, 0.8803136807372304, 0.9511170077780127, 1.0, 1.0, 0.9427178142029449, 1.0, 1.0, 1.0, 0.9656920103936706, 1.0, 1.0, 1.0, 0.5863150041052507, 1.0, 1.0, 1.0, 1.0, 1.0, 1.0, 1.0, 1.0, 1.0, 1.0, 0.9988433337466274, 1.0, 1.0, 0.9935344313506553, 1.0, 1.0, 1.0, 1.0, 0.994209073095827, 0.8986253045375189, 1.0, 1.0, 1.0, 1.0, 1.0, 0.8750055410165679, 0.7464325507798993, 0.8913567850588139, 1.0, 1.0, 1.0, 0.954602104995892, 1.0, 1.0, 1.0, 0.9178243005494731, 1.0, 0.9812447446151632, 0.9751680760534858, 0.8909716628125103, 1.0, 1.0, 1.0, 1.0, 0.995093574933774, 0.950816968900294, 1.0, 1.0, 1.0, 0.9593537108277486, 0.963190259242088, 0.9843053478023187, 0.8320794473561506, 0.7776856079958502, 1.0, 0.845515219543721, 1.0, 1.0, 1.0, 1.0, 1.0, 0.9574397413644555, 1.0, 1.0, 1.0, 1.0, 0.977682302555518, 1.0, 0.9293278351832311, 1.0, 1.0, 1.0, 1.0, 1.0, 0.9916567883190913, 1.0, 0.8912320717696006, 1.0, 0.9881711112282848, 1.0, 1.0, 0.9504739446893716, 0.9550234555931771, 1.0, 1.0, 1.0, 0.9759563393946744, 1.0, 0.9306008132670778, 1.0, 0.7303586010186767, 1.0, 0.9874547696768541, 1.0, 1.0, 1.0, 1.0, 1.0, 1.0, 1.0, 1.0, 1.0, 1.0, 1.0, 0.966512598716963, 1.0, 1.0, 1.0, 0.9896470779187347, 1.0, 1.0, 0.8969846977224869, 1.0, 0.9898752014018022, 1.0, 1.0, 0.9758402750041303, 1.0, 1.0, 0.8081484604122244, 1.0, 0.8633783852843725, 1.0, 1.0, 0.9027267990380807, 1.0, 1.0, 1.0, 1.0, 1.0, 1.0, 0.972121368288706, 1.0, 0.9526842262887928, 1.0, 0.8964957143332927, 1.0, 1.0, 1.0, 1.0, 1.0, 1.0, 0.9345057333974651, 1.0, 0.9477778241318632, 1.0, 1.0, 1.0, 1.0, 1.0, 1.0, 0.8150677226646245, 1.0, 1.0, 0.8420939848952294, 1.0, 0.8783290088343768, 0.9143902609462747, 1.0, 1.0, 1.0, 0.9821629170773577, 1.0, 1.0, 1.0, 1.0, 1.0, 0.948622518062347, 1.0, 0.9877726168335401, 1.0, 1.0, 1.0, 1.0, 1.0, 1.0, 1.0, 0.9780808499783858, 1.0, 0.81753007520551, 1.0, 1.0, 0.8425633605001517, 1.0, 1.0, 1.0, 1.0, 0.8334063768369698, 1.0, 1.0, 1.0, 1.0, 0.93101811214305, 1.0, 1.0, 0.9752923701009677, 0.9226249121905653, 1.0, 1.0, 1.0, 0.9611796456623277, 1.0, 0.922560730519675, 1.0, 1.0, 0.9235132168767566, 1.0, 1.0, 1.0, 1.0, 1.0, 0.972331445181377, 1.0, 1.0, 1.0, 1.0, 0.9950351896479922, 1.0, 1.0, 1.0, 1.0, 0.9345773132590218, 0.7833882454563815, 1.0, 0.9132321815660808, 1.0, 1.0, 1.0, 0.9703043066583943, 1.0, 1.0, 0.9809443348783644, 1.0, 1.0, 1.0, 1.0, 1.0, 0.904281317422478, 0.6669622557413223, 0.9730327131625894, 1.0, 0.9614721445963961, 1.0, 0.9491020845285331, 1.0, 1.0, 1.0, 1.0, 1.0, 1.0, 0.9545095401311482, 0.9019107725233738, 1.0, 1.0, 0.8338355337392053, 1.0, 1.0, 1.0, 1.0, 0.994676212923835, 1.0, 1.0, 1.0, 1.0, 1.0, 1.0, 1.0, 1.0, 0.5804633387788247, 1.0, 1.0, 0.9472989267937816, 1.0, 0.8785629572036803, 0.8601519838123405, 1.0, 1.0, 0.9997098298139941, 1.0, 1.0, 1.0, 0.928580413858964, 1.0, 1.0, 1.0, 1.0, 1.0, 0.984992497026693, 1.0, 0.9382701087352985, 0.9875900851099801, 1.0, 0.961713033277153, 0.8145697320250496, 1.0, 0.9945542532397034, 1.0, 0.966140489680909, 0.9922165010974028, 1.0, 1.0, 0.9942461008551925, 0.6652056550919023, 1.0, 1.0, 1.0, 0.9456563374777832, 0.8352304815916005, 1.0, 1.0, 1.0, 0.8847393389769153, 1.0, 0.8819284437831615, 1.0, 1.0, 0.9988914137127549, 1.0, 0.9670920974201263, 0.9677028830026821, 0.9516815913307185, 0.8783709791532704, 0.9269171963095116, 1.0, 1.0, 1.0, 1.0, 1.0, 1.0, 1.0, 0.9944253207256416, 1.0, 1.0, 0.8220836301912531, 0.934174665789723, 0.9427711422440853, 1.0, 0.852882654873458, 1.0, 0.9817947861480849, 0.9633962059472289, 1.0, 1.0, 0.996239248442721, 1.0, 1.0, 0.9780485478457601, 1.0, 1.0, 0.9533850578539445, 1.0, 0.9089028308184175, 1.0, 1.0, 0.8976505468712873, 0.9362333876930549, 1.0, 0.7022121721722384, 1.0, 1.0, 1.0, 1.0, 0.9900491113213887, 1.0, 1.0, 1.0, 1.0, 0.8713097561510043, 1.0, 0.905931132077122, 0.8312583540633554, 1.0, 1.0, 0.7821271449277974, 0.9210666903276181, 1.0, 0.99125758482401, 1.0, 0.968529093367618, 1.0, 1.0, 1.0, 1.0, 1.0, 1.0, 1.0, 1.0, 0.997235393030812, 0.920252757317656, 0.8517755405674955, 1.0, 1.0, 1.0, 0.9543189049163259, 1.0, 0.9111351991440882, 1.0, 1.0, 1.0, 1.0, 1.0, 1.0, 1.0, 1.0, 0.9351941778876861, 1.0, 1.0, 1.0, 1.0, 1.0, 0.962977420591197, 0.9968701937013779, 0.9948401307233485, 1.0, 1.0, 1.0, 0.8080212652063069, 0.9889074294116913, 1.0, 0.9380947470609389, 1.0, 1.0, 0.8881138194471137, 1.0, 0.9135827895203933, 1.0, 0.9768905000111378, 0.7341242293569112, 0.9203543686503433, 0.9325299325024857, 0.995777147271972, 1.0, 1.0, 1.0, 1.0, 0.8268093810162012, 0.8717889840379873, 0.9524178245397384, 1.0, 1.0, 1.0, 0.8317935798490423, 0.8793248011597397, 1.0, 0.934469945522593, 0.8922241539847444, 0.9869989972070052, 1.0, 1.0, 1.0, 1.0, 1.0, 1.0, 1.0, 1.0, 1.0, 1.0, 1.0, 1.0, 1.0, 1.0, 1.0, 0.8397622378926649, 0.9149721015384015, 0.9899433704495623, 1.0, 0.9396299435253272, 1.0, 1.0, 1.0, 0.7802351190553649, 1.0, 0.82919080973022, 1.0, 0.9567019790737297, 1.0, 1.0, 1.0, 1.0, 0.9271594444326728, 0.9215120903692928, 1.0, 1.0, 0.991068141337451, 1.0, 1.0, 0.9296952384887727, 1.0, 0.9872452408275715, 1.0, 1.0, 1.0, 0.9282046457938473, 1.0, 1.0, 1.0, 1.0, 1.0, 0.8588023096194081, 1.0, 0.9738487611328073, 1.0, 1.0, 1.0, 1.0, 1.0, 1.0, 1.0, 1.0, 0.9121370982671723, 1.0, 0.9407788576304015, 1.0, 1.0, 1.0, 0.8324826933233512, 0.9998819545095362, 1.0, 1.0, 0.8888742639683266, 0.9689051861635096, 1.0, 0.9605220171052016, 1.0, 1.0, 1.0, 1.0, 1.0, 1.0, 1.0, 0.5915424193864549, 1.0, 0.9684413026798765, 1.0, 1.0, 1.0, 1.0, 1.0, 1.0, 1.0, 0.8967667962221689, 1.0, 0.8190368681366126, 1.0, 0.7859292520231641, 1.0, 1.0, 1.0, 1.0, 1.0, 0.8592905083686795, 1.0, 1.0, 1.0, 1.0, 1.0, 1.0, 1.0, 1.0, 1.0, 1.0, 1.0, 1.0, 1.0, 0.9950400840912929, 1.0, 1.0, 1.0, 1.0, 1.0, 0.9739630487619255, 1.0, 1.0, 0.986576017799149, 1.0, 1.0, 1.0, 0.9830391197165452, 1.0, 1.0, 0.9944875137268581, 1.0, 0.7139250965183802, 0.7769981739806949, 1.0, 0.9941790327194108, 1.0, 1.0, 1.0, 0.9780629805816847, 1.0, 1.0, 1.0, 1.0, 1.0, 1.0, 0.9886225620518286, 1.0, 0.9473543446528921, 1.0, 1.0, 0.9742258927534012, 1.0, 1.0, 0.8234811958427908, 1.0, 1.0, 1.0, 1.0, 1.0, 1.0, 1.0, 1.0, 0.9278440254322906, 0.9814847248329371, 1.0, 1.0, 0.9193327843991427, 1.0, 1.0, 1.0, 1.0, 1.0, 1.0, 0.9885334710021519, 0.9395787738715013, 0.9660182953447033, 1.0, 1.0, 1.0, 1.0, 1.0, 0.9976985214542242, 0.8805413514552125, 1.0, 1.0, 1.0, 1.0, 0.9225605684504002, 1.0, 0.8684396107663709, 1.0, 1.0, 1.0, 1.0, 1.0, 1.0, 1.0, 0.9890014189042401, 1.0, 1.0, 0.9705006924874846, 1.0, 0.9423379805995082, 1.0, 0.9962644505812914, 0.9811358074484443, 1.0, 1.0, 0.774585166212228, 0.9247697823701245, 1.0, 1.0, 0.9397256877815091, 1.0, 1.0, 0.7733377614126209, 1.0, 1.0, 1.0, 0.8431516328875963, 1.0, 1.0, 0.9539409327522025, 1.0, 1.0, 1.0, 1.0, 0.9873798337226598, 0.9936985101226558, 1.0, 0.9426184532292666, 1.0, 1.0, 1.0, 1.0, 0.9806341976022878, 1.0, 0.9440048219038918, 0.866503019758163, 1.0, 0.8806923395023076, 0.9755960191356489, 0.9892639766184227, 0.957609298549324, 0.9694898662964587, 1.0, 0.8827490315054252, 1.0, 0.8777370090350352, 0.9395061507601252, 1.0, 1.0, 1.0, 1.0, 1.0, 0.9076381673642416, 1.0, 1.0, 0.9386502814256044, 1.0, 1.0, 1.0, 1.0, 1.0, 1.0, 0.8889498444959458, 0.881349191102415, 0.9363649739072116, 1.0, 0.9074350536058725, 1.0, 1.0, 0.9349149288854892, 1.0, 1.0, 1.0, 1.0, 1.0, 1.0, 0.9830225412585166, 0.9886757079045291, 0.9355512452695566, 0.8725852682794567, 0.9967623234757592, 1.0, 1.0, 1.0, 0.7902854133827771, 1.0, 0.9323733331480278, 1.0, 0.9496679744880695, 1.0, 0.8532594074430163, 1.0, 0.9785393803672627, 1.0, 1.0, 0.9007520415602853, 1.0, 1.0, 0.9898748536125745, 0.9005136083294477, 0.9843082009232554, 0.8439606036078334, 0.9946514004296622, 1.0, 0.9511310430941909, 1.0, 1.0, 0.9538467563437648, 0.8681485719105108, 1.0, 0.9312189793794435, 1.0, 1.0, 0.8988753966584654, 1.0, 0.9811309813980605, 1.0, 1.0, 0.8650064546028805, 1.0, 1.0, 0.9715658227348735, 0.8647243136184708, 0.9754671452460557, 1.0, 1.0, 0.9207599556712703, 1.0, 1.0, 1.0, 0.9957668263693964, 0.8764454980019009, 1.0, 1.0, 1.0, 1.0, 1.0, 1.0, 1.0, 0.8734005381945033, 1.0, 0.9011597551116447, 1.0, 0.9573765015314628, 1.0, 1.0, 1.0, 0.9997077223483034, 1.0, 0.9548657628179248, 1.0, 1.0, 0.9982469135223823, 0.9854762538705284, 0.6761965881819513, 1.0, 0.9768033242029314, 1.0, 1.0, 0.9210615125237371, 1.0, 1.0, 0.9421012829493718, 1.0, 1.0, 1.0, 0.9766701730255971, 0.9717716824205297, 1.0, 0.9916198569910233, 1.0, 1.0, 1.0, 1.0, 1.0, 1.0, 1.0, 1.0, 1.0, 0.9827145091160021, 0.8809950123405239, 0.9840965736712275, 1.0, 0.9538765834528182, 1.0, 1.0, 1.0, 1.0, 0.9815499020070466, 1.0, 1.0, 1.0, 1.0, 1.0, 1.0, 0.8581530656720455, 0.9889211537529065, 1.0, 0.9010695230951952, 1.0, 1.0, 0.9646346753061974, 1.0, 0.9991602830336266, 1.0, 0.8367093371740231, 0.9833555455405, 1.0, 1.0, 1.0, 0.9832560469692235, 1.0, 1.0, 1.0, 1.0, 1.0, 1.0, 0.9687380536013815, 0.9993438998747346, 1.0, 1.0, 1.0, 1.0, 0.9479611575454335, 0.9777255851883145, 1.0, 1.0, 0.9969801773121499, 1.0, 0.9840951906362493, 1.0, 1.0, 0.8087472280948731, 1.0, 0.9758983911935903, 1.0, 0.9571612483056731, 1.0, 1.0, 1.0, 1.0, 0.7920747598077984, 1.0, 0.9937795121860495, 0.724803591920524, 1.0, 0.9962854528504467, 1.0, 1.0, 1.0, 1.0, 0.982822240322645, 1.0, 1.0, 1.0, 1.0, 1.0, 1.0, 1.0, 1.0, 0.955717949034296, 1.0, 1.0, 1.0, 1.0, 0.9460883652182149, 1.0, 0.9878795141876316, 1.0, 0.9044246187677099, 1.0, 0.9566856767141241, 0.9797152168295025, 1.0, 0.8361565529144399, 1.0, 0.9927018875426188, 1.0, 1.0, 1.0, 1.0, 1.0, 1.0, 1.0, 1.0, 1.0, 0.9140009671304603, 0.9648483887400737, 0.9903496996810696, 1.0, 1.0, 1.0, 0.9979530444919983, 1.0, 0.9556034520986523, 1.0, 0.9724773301485776, 1.0, 0.6765162673765807, 0.958994129166776, 1.0, 1.0, 0.8303038669344783, 1.0, 1.0, 1.0, 0.9640923845481297, 1.0, 0.995639135915909, 1.0, 0.7604002510656857, 0.9496564631975786, 0.9965732285244847, 0.9283996869687587, 1.0, 0.9559325418169758, 1.0, 1.0, 1.0, 0.950018217973861, 1.0, 1.0, 0.993676165887778, 0.9944068033362935, 0.999348113276622, 1.0, 1.0, 1.0, 1.0, 1.0, 0.9441564085826003, 1.0, 1.0, 0.9352198072680309, 1.0, 0.984915671646575, 1.0, 1.0, 0.9872386504096095, 1.0, 1.0, 0.9627856015732783, 1.0, 0.8448331275571916, 0.9695740048090021, 1.0, 1.0, 1.0, 1.0, 0.9610641567377397, 1.0, 1.0, 0.8461199709243411, 1.0, 1.0, 0.9882211079340306, 0.9876449104862212, 0.993810588005816, 0.92889611784647, 1.0, 0.9164000696498845, 1.0, 0.7516594435996009, 0.873421251916155, 0.8180714077541589, 1.0, 0.946339364231708, 0.8398923639691107, 1.0, 1.0, 0.9737360264481114, 0.8575719528480944, 1.0, 1.0, 1.0, 1.0, 1.0, 1.0, 0.9893063816207587, 1.0, 1.0, 0.997551306362455, 1.0, 0.9984047547974837, 0.9709427059428326, 0.9823416845792784, 1.0, 1.0, 1.0, 1.0, 1.0, 1.0, 0.9583006219681593, 1.0, 1.0, 0.9400661541225408, 1.0, 1.0, 1.0, 1.0, 0.9296712303719183, 1.0, 1.0, 0.9637818186354338, 1.0, 1.0, 1.0, 1.0, 1.0, 0.9948429269968767, 0.9789712966077854, 0.9327399741778417, 0.9260111391923046, 1.0, 1.0, 1.0, 1.0, 0.9423849961615073, 1.0, 1.0, 1.0, 1.0, 1.0, 0.8398000048358505, 1.0, 1.0, 1.0, 1.0, 0.9958102098665363, 0.8517213747017947, 1.0, 0.98447352314277, 0.9795231611126394, 0.8181237929309236, 1.0, 0.9492441507357243, 0.996896112313022, 1.0, 1.0, 0.9961790459145, 1.0, 1.0, 0.9961874460488704, 1.0, 1.0, 0.9638241472483479, 0.9988707074582166, 1.0, 1.0, 1.0, 0.9844167985829448, 1.0, 0.9975393899007183, 0.9535976191233417, 0.8855164946557926, 0.9472744640855855, 0.8655795280454279, 1.0, 0.7165692686074723, 0.9963162569794277, 0.9577290832277954, 0.9293472630988535, 1.0, 1.0, 0.9879530996076132, 1.0, 0.9631667397823094, 1.0, 1.0, 1.0, 1.0, 1.0, 1.0, 1.0, 0.9560888991322539, 0.9326550998492481, 1.0, 1.0, 1.0, 1.0, 1.0, 0.9869275633708358, 1.0, 1.0, 0.9281456196704234, 1.0, 1.0, 1.0, 1.0, 1.0, 1.0, 1.0, 1.0, 1.0, 1.0, 0.9197363054899368, 0.9089178399186502, 0.8860629955840745, 1.0, 0.9748490615173684, 1.0, 1.0, 1.0, 1.0, 1.0, 1.0, 0.7904400874179786, 0.9606833442501055, 0.9489677081336733, 1.0, 1.0, 1.0, 1.0, 0.8751537349323604, 0.9954715889041743, 0.9765905655288635, 1.0, 0.9715651400224118, 1.0, 0.9840893127592762, 0.9717651952972842, 0.9551677505187651, 1.0, 1.0, 1.0, 1.0, 1.0, 1.0, 1.0, 0.8509822502988922, 1.0, 1.0, 0.8250885290895322, 1.0, 1.0, 1.0, 0.8865026817343115, 1.0, 0.9549845332537795, 1.0, 0.9309343757360273, 1.0, 1.0, 1.0, 1.0, 1.0, 1.0, 0.9874804434876, 1.0, 1.0, 1.0, 0.9125621488064039, 0.9699368719012129, 0.9039688975521905, 1.0, 1.0, 1.0, 0.9216681607925307, 0.9793545410819222, 0.9667698654957142, 1.0, 1.0, 1.0, 0.888099309902198, 1.0, 0.9863618236327705, 0.983379039727982, 1.0, 1.0, 1.0, 0.9494823093937875, 1.0, 1.0, 0.7781132050994618, 1.0, 1.0, 1.0, 1.0, 0.9533850578539445, 1.0, 1.0, 1.0, 1.0, 1.0, 1.0, 1.0, 1.0, 1.0, 1.0, 1.0, 1.0, 0.9960358170247132, 1.0, 0.9644206703637542, 1.0, 1.0, 0.9214385974778463, 0.9273694983218204, 1.0, 0.9124775075707909, 0.9256721856381704, 0.974505242217239, 0.9782045701406173, 1.0, 0.9616503558701345, 1.0, 0.9595600171954131, 1.0, 1.0, 1.0, 0.7653678921837322, 0.9739716037646969, 0.9316503033023525, 0.9540093086393143, 1.0, 1.0, 1.0, 0.8681099876050052, 1.0, 0.9742277753554854, 1.0, 1.0, 0.8892236434660278, 0.9335278059035799, 1.0, 0.9465165996595322, 1.0, 0.9087144397916472, 1.0, 1.0, 1.0, 1.0, 1.0, 1.0, 1.0, 1.0, 1.0, 1.0, 1.0, 0.9245930456525259, 0.8587798304867289, 1.0, 1.0, 1.0, 1.0, 0.9931316805160905, 0.980163148913108, 0.9810351547418238, 1.0, 1.0, 1.0, 1.0, 0.8679015400123209, 0.6166500305108442, 1.0, 1.0, 1.0, 0.9092519363803527, 1.0, 1.0, 0.9701897666106157, 1.0, 1.0, 1.0, 1.0, 0.7826458601486909, 1.0, 0.8510034788339523, 1.0, 0.9314421433013227, 1.0, 0.995698955980004, 0.9127032349801283, 1.0, 1.0, 1.0, 1.0, 0.812689449297985, 0.9560521167546204, 1.0, 1.0, 1.0, 0.916300263129558, 0.9435356214115882, 0.7629140023972213, 1.0, 0.8474263409009761, 0.7595344649143451, 1.0, 0.9275373149870323, 0.8764645902510144, 1.0, 0.9350351599969984, 1.0, 1.0, 0.8662308905534625, 0.9203543686503433, 1.0, 1.0, 1.0, 0.7457433966661677, 0.9930004902077704, 1.0, 0.928533108295829, 1.0, 0.990455135961874, 0.9775919648209673, 0.7281217085423183, 1.0, 0.9259625005150344, 1.0, 1.0, 1.0, 0.9180581243046456, 0.9979428763488679, 0.9266503488122654, 1.0, 0.9843336200021043, 1.0, 0.9644460841430228, 0.9128350419957957, 1.0, 0.9892094089211453, 1.0, 0.9826855065780598, 1.0, 1.0, 1.0, 1.0, 0.8699891872538007, 1.0, 1.0, 1.0, 0.966516843487755, 1.0, 0.9198746224741919, 0.8808727546556184, 1.0, 0.9667092360685489, 1.0, 0.9514044388876641, 0.9765850755958615, 1.0, 0.6909147088816887, 0.9690328526530975, 1.0, 0.9838768683635569, 0.9797647857076593, 1.0, 0.8695410409693117, 0.9794054681537878, 1.0, 1.0, 1.0, 1.0, 0.990745056593553, 0.9927855988564457, 0.9903392610560203, 0.9954541012797565, 1.0, 1.0, 1.0, 0.8410138765452132, 1.0, 0.9893738162695003, 0.979028395340516, 1.0, 1.0, 0.9906921475801308, 1.0, 1.0, 0.9577183154528282, 0.9798656523487669, 1.0, 0.9879794806211541, 1.0, 0.977663066444869, 1.0, 0.9941147633346238, 1.0, 1.0, 1.0, 1.0, 1.0, 0.9820951112758722, 0.7019420658862469, 1.0, 0.9898946777935739, 0.898044235491591, 1.0, 1.0, 1.0, 0.9366673632947617, 1.0, 0.9585774257763742, 1.0, 1.0, 1.0, 1.0, 1.0, 1.0, 1.0, 1.0, 1.0, 0.9521541735706577, 1.0, 1.0, 1.0, 1.0, 1.0, 1.0, 0.9574397413644555, 1.0, 0.9736640130943852, 1.0, 1.0, 1.0, 1.0, 1.0, 1.0, 0.9201956109247217, 0.7453305762626435, 1.0, 1.0, 1.0, 0.8790668675998183, 0.991027401789185, 0.8322630623363735, 1.0, 1.0, 1.0, 0.9913021650244515, 1.0, 1.0, 1.0, 0.9784383064805711, 1.0, 1.0, 1.0, 1.0, 1.0, 0.9605375411334202, 1.0, 1.0, 0.9857448024697952, 1.0, 0.9999160316875806, 0.9848658421715472, 0.9204116057483888, 0.9573724650882005, 0.9810034443844367, 0.806766853903055, 0.9074516326169131, 1.0, 0.925987795561801, 1.0, 1.0, 1.0, 1.0, 0.9910371512722332, 1.0, 1.0, 0.9715801598073877, 1.0, 1.0, 1.0, 1.0, 1.0, 1.0, 1.0, 1.0, 1.0, 0.9892278295269883, 1.0, 0.9948331400739142, 1.0, 1.0, 1.0, 0.8950548916492302, 1.0, 1.0, 1.0, 0.8453481347989245, 0.9761007105272443, 1.0, 0.9476446340839497, 0.9861026346458397, 0.8512234196773004, 1.0, 0.9401358476952287, 1.0, 1.0, 0.9009482781580888, 1.0, 1.0, 1.0, 1.0, 1.0, 1.0, 1.0, 1.0, 1.0, 1.0, 1.0, 1.0, 0.9239726229641703, 1.0, 1.0, 1.0, 1.0, 1.0, 1.0, 0.9889213274799654, 1.0, 0.9888726850955261, 1.0, 1.0, 1.0, 1.0, 1.0, 1.0, 1.0, 1.0, 0.9691329549447809, 0.9096872284397687, 0.9455094929918165, 1.0, 0.9606158400560877, 1.0, 1.0, 1.0, 1.0, 0.7716993245405145, 0.9901993940952737, 1.0, 1.0, 1.0, 1.0, 0.9667815842268459, 1.0, 1.0, 0.9989684517677201, 1.0, 0.9187296100441377, 1.0, 1.0, 1.0, 1.0, 1.0, 1.0, 0.983466111317426, 1.0, 0.9463543265404012, 1.0, 1.0, 1.0, 1.0, 1.0, 1.0, 1.0, 1.0, 1.0, 0.8560478017078399, 1.0, 0.7609988003942192, 0.9977609191668179, 1.0, 1.0, 1.0, 0.993907313349186, 1.0, 0.9948331400739142, 1.0, 1.0, 1.0, 0.9773319898684063, 1.0, 0.8412414325983627, 1.0, 1.0, 1.0, 1.0, 1.0, 1.0, 0.9101478310650203, 0.9809720797131817, 1.0, 1.0, 1.0, 1.0, 1.0, 1.0, 1.0, 1.0, 0.9847426634560753, 1.0, 0.8603989260297531, 1.0, 0.983708708542583, 0.893858801620055, 0.9935476962871828, 1.0, 1.0, 1.0, 1.0, 1.0, 1.0, 1.0, 0.8202616870516015, 0.9096018152029821, 0.7352894261244014, 1.0, 1.0, 0.9019842924419681, 0.9693117347575982, 0.9239533074048858, 0.9231453375242662, 1.0, 1.0, 0.9436728757200687, 1.0, 1.0, 1.0, 0.9899447617034988, 0.9872320600356422, 0.8503901577363842, 1.0, 0.9948275475897351, 0.8953470861388466, 1.0, 1.0, 0.716181405018416, 0.748928282062468, 0.914622888500171, 1.0, 1.0, 1.0, 1.0, 1.0, 1.0, 1.0, 1.0, 1.0, 1.0, 0.8874891875741818, 1.0, 1.0, 1.0, 1.0, 0.9925951658544513, 1.0, 1.0, 0.8769646395769509, 0.906113533945061, 1.0, 0.9697174318164761, 0.9658353721603492, 0.9960404539233577, 1.0, 1.0, 1.0, 1.0, 1.0, 1.0, 0.990248101740176, 0.9898598987913815, 0.9926795657177263, 1.0, 1.0, 1.0, 1.0, 1.0, 1.0, 1.0, 1.0, 1.0, 1.0, 1.0, 1.0, 1.0, 1.0, 1.0, 0.9935037132302231, 0.6746073302607917, 0.942382678437992, 0.9881558349616173, 1.0, 1.0, 1.0, 1.0, 0.9563936258412247, 0.9921391122745576, 1.0, 1.0, 1.0, 1.0, 1.0, 1.0, 0.9590123240631411, 1.0, 1.0, 1.0, 1.0, 1.0, 1.0, 0.8549924511029677, 0.9834592005921724, 0.9108000906878155, 1.0, 1.0, 1.0, 1.0, 0.6143139115803214, 1.0, 0.9599376862284495, 0.9429583111032359, 0.8311267185330476, 1.0, 1.0, 0.989373121043487, 1.0, 1.0, 1.0, 1.0, 0.8825161389268791, 1.0, 0.9906893629734842, 1.0, 0.9877219487523936, 0.9670852168080213, 1.0, 1.0, 1.0, 1.0, 1.0, 1.0, 1.0, 1.0, 1.0, 0.9009390983964797, 1.0, 1.0, 1.0, 1.0, 1.0, 1.0, 1.0, 0.9145960561984708, 1.0, 1.0, 1.0, 1.0, 1.0, 0.8652198307052339, 0.7998621325823959, 1.0, 1.0, 1.0, 0.9748915336708408, 1.0, 0.9479430057894372, 1.0, 1.0, 1.0, 0.9947842069032891, 1.0, 1.0, 0.9959830628864343, 0.7598227282441543, 1.0, 1.0, 0.9742820300877256, 0.9473030871811589, 1.0, 1.0, 1.0, 1.0, 1.0, 1.0, 0.7665487767241952, 0.9673782383111169, 1.0, 1.0, 1.0, 1.0, 0.9563484314590394, 0.923349048015411, 1.0, 1.0, 1.0, 0.9238551126969431, 0.9587131629332508, 1.0, 1.0, 1.0, 1.0, 1.0, 1.0, 0.8458649419447847, 1.0, 1.0, 0.9586575858431831, 1.0, 0.9973529508614438, 0.9226983376076429, 1.0, 0.8639009035322195, 1.0, 1.0, 1.0, 1.0, 0.9501989801106389, 0.9646846674661326, 0.8723129145783669, 1.0, 1.0, 0.8297217890730724, 1.0, 1.0, 0.9436098821335553, 1.0, 0.9875838393741538, 1.0, 1.0, 1.0, 1.0, 1.0, 0.9319717989503422, 1.0, 0.9067375749817318, 1.0, 1.0, 1.0, 1.0, 0.9752656425456845, 0.8630095964745577, 1.0, 1.0, 1.0, 1.0, 1.0, 1.0, 1.0, 0.9813385230020403, 0.93684443308333, 1.0, 0.993922678530086, 0.9861435182229346, 1.0, 1.0, 1.0, 0.9852202398899486, 1.0, 1.0, 1.0, 1.0, 1.0, 1.0, 1.0, 0.996870894195535, 0.9751409236387817, 1.0, 1.0, 1.0, 1.0, 1.0, 1.0, 1.0, 0.934767781792201, 1.0, 0.9694537605099279, 1.0, 1.0, 1.0, 1.0, 1.0, 1.0, 1.0, 1.0, 0.94004204333115, 0.9838255359561734, 0.8421380702113708, 1.0, 1.0, 0.7170069683735631, 1.0, 1.0, 0.9143574922064897, 0.9969549570681013, 1.0, 1.0, 1.0, 0.9562630887850769, 0.8462148089981917, 1.0, 0.8975318117188731, 1.0, 0.9652434001540166, 1.0, 0.9793889509754566, 0.9249576021492628, 1.0, 1.0, 0.8479883632581618, 0.9710457349098435, 1.0, 1.0, 0.834832650856208, 0.868964276154126, 1.0, 1.0, 1.0, 1.0, 1.0, 1.0, 1.0, 0.9498593492785466, 1.0, 1.0, 0.7981639942755671, 1.0, 0.8410784430134557, 0.9092758963894243, 0.9433891062370725, 1.0, 1.0, 0.7908463550053215, 0.9862807331254058, 1.0, 1.0, 1.0, 1.0, 0.9189346061657362, 1.0, 1.0, 0.9547402982346568, 1.0, 0.878002110193644, 1.0, 1.0, 0.9192387949090453, 1.0, 0.9703765829318568, 0.9518625027445023, 0.6535818567423731, 0.9027677148944863, 1.0, 0.814603646993525, 0.9562315072066013, 0.8566342021902827, 1.0, 0.8689502321159013, 0.884784879697489, 1.0, 1.0, 0.9466626027358802, 1.0, 1.0, 1.0, 1.0, 1.0, 1.0, 1.0, 1.0, 1.0, 1.0, 0.8845258106877641, 1.0, 0.7015824555293237, 1.0, 1.0, 0.9947667313542318, 1.0, 1.0, 1.0, 0.7680252861469251, 1.0, 1.0, 1.0, 1.0, 1.0, 1.0, 1.0, 0.9587528267358221, 1.0, 1.0, 1.0, 0.9580612612468312, 1.0, 0.8992354999415013, 0.9954610962926584, 0.9602520741266638, 0.7507796049522583, 1.0, 1.0, 0.9488093484728489, 1.0, 1.0, 1.0, 0.968681555020266, 0.7692510810292787, 0.9828526281828409, 1.0, 1.0, 0.9912509676213923, 1.0, 1.0, 0.9115476124950123, 1.0, 1.0, 1.0, 1.0, 1.0, 0.9679670983821951, 1.0, 0.9086633574305252, 1.0, 1.0, 1.0, 1.0, 1.0, 1.0, 1.0, 1.0, 1.0, 0.9774432520578947, 1.0, 1.0, 0.9253320557032819, 0.9273734082675309, 0.8047470075218297, 1.0, 1.0, 0.9921802461225573, 1.0, 1.0, 0.8804584428018233, 1.0, 1.0, 0.9451667231406208, 0.7917860836706786, 1.0, 0.9872036178736996, 1.0, 1.0, 0.9785510698576249, 1.0, 1.0, 1.0, 1.0, 1.0, 1.0, 1.0, 1.0, 0.8569404995248402, 0.8057813879060589, 0.9619485746575104, 0.9274209805940976, 0.9739248943644936, 1.0, 0.9293053058400845, 0.9944088996272131, 1.0, 1.0, 1.0, 1.0, 1.0, 1.0, 1.0, 1.0, 1.0, 1.0, 1.0, 1.0, 1.0, 0.7518200292899474, 1.0, 1.0, 0.9248120222484976, 1.0, 1.0, 1.0, 0.9135482843695513, 0.8934732261824271, 1.0, 1.0, 0.9663642132476744, 0.88432165498595, 0.9614305948677396, 0.8991034453235851, 1.0, 0.97464220748379, 1.0, 1.0, 0.8631023854022181, 0.9636352066926129, 1.0, 0.9934066781343973, 0.7913420757191684, 0.9671668529042123, 1.0, 1.0, 1.0, 0.986094319549452, 0.9965529204595724, 1.0, 1.0, 1.0, 1.0, 0.9889501665947784, 0.9162201038289337, 1.0, 0.806736808254493, 1.0, 0.9613323014391695, 0.9600091903104584, 1.0, 1.0, 1.0, 0.9803046980767068, 1.0, 1.0, 1.0, 1.0, 1.0, 1.0, 1.0, 1.0, 1.0, 0.9679601265223038, 1.0, 0.9116609948273297, 0.9468784890897471, 1.0, 0.837142474395466, 1.0, 1.0, 0.9648236423345974, 1.0, 1.0, 0.9790765534869599, 0.7743762528659038, 1.0, 1.0, 1.0, 0.8857380420923858, 0.6331184728404503, 1.0, 1.0], 'distance_scores': [0.480183230614781, 0.6938862849233202, 0.8067412175836599, 1.0, 0.5260295791796284, 0.5379208954218311, 0.9390626777517651, 0.7600345491692935, 0.78271828338652, 0.8760307538880737, 0.9152188235282245, 1.0, 1.0, 0.5260295791796284, 0.6185462676357297, 0.7367917148018369, 0.7431309542209242, 0.45678249574684904, 0.480183230614781, 0.5260295791796284, 0.7743581256180185, 0.9181965227650254, 0.4309947136024927, 0.968782253222491, 1.0, 0.794805514131821, 0.49231479913565146, 0.8419245789068247, 0.6967359475271723, 1.0, 0.7525988501408934, 0.5624956714896645, 0.4209492595051924, 0.47937694334159475, 0.6290945201223436, 0.9236450128552127, 0.9189857313335026, 0.5617870585254874, 0.8696567527963885, 0.5624956714896645, 0.918974112850895, 0.5492342535159691, 1.0, 0.8395757371580012, 0.6967359475271723, 0.9189007153232058, 0.831535244542956, 0.9320157357545368, 0.8688064782055068, 0.480183230614781, 0.845213177988238, 0.797285420409932, 0.9257277938438773, 0.6285819020188591, 0.9287432307378869, 0.7795571371403494, 0.6812113206469005, 0.9457375741669569, 0.2356529456231579, 0.6488700986804691, 0.8322245218300907, 0.905071546434268, 1.0, 0.6391366438690329, 0.3488735539709601, 1.0, 0.5379239598941213, 0.9157765704651617, 0.971073322367764, 0.8341512049453375, 0.9826355117313273, 0.7422323687599023, 1.0, 0.9198824686725865, 1.0, 0.7171295256410043, 0.83647384848429, 1.0, 0.4945035885159243, 0.7802369262073663, 0.9319419500676777, 0.738355352371026, 0.9144658729443166, 0.8054849632992352, 0.7162634844985342, 0.94502408396634, 0.892022126944017, 0.34219284182544035, 0.6377174497566938, 0.9644596326158371, 1.0, 0.9461999413626011, 0.7999952623503803, 0.79051236430527, 0.771481543845903, 0.8966300376656882, 0.8965814582536054, 0.8481324432931692, 0.883838193903642, 0.6131470054606849, 0.8763575142615512, 0.5285410486544391, 0.8244174612966624, 0.725858702457654, 1.0, 0.9154318733541845, 0.6178751706489798, 0.9815182303648041, 0.7292310150666707, 0.9015772501475563, 0.6846979982847162, 0.6968318586047625, 1.0, 0.9151918279895861, 0.7381540492643184, 1.0, 0.9766522352588223, 0.750198382301458, 0.7560419657991508, 0.7865393940273321, 0.7482033376254299, 0.9793016227790212, 0.9768754693852001, 0.9712315753236908, 1.0, 0.9063259291857206, 0.47602707884580614, 0.6171184243287678, 0.786774010485061, 0.6967359475271723, 0.7595517740177535, 0.6377174497566938, 0.8476997508128963, 1.0, 0.8959364649361771, 0.6710973645067851, 1.0, 0.7229125910736595, 0.8965954803009523, 0.9352678291673022, 0.8621387459870103, 0.9144387668506053, 0.838593518043287, 0.6456578966804893, 1.0, 0.6804413509896499, 0.9097786097913435, 0.6865944326873586, 0.9722471079067296, 0.4060920292781419, 1.0, 0.655948607561478, 0.8489755990920418, 1.0, 0.6377174497566938, 0.8001341745543628, 0.5943225332309862, 0.8233521742790079, 1.0, 0.7771766560543046, 0.6453572681665587, 0.9301286712599406, 0.817564735588379, 0.6437651895629639, 0.9504154499155231, 1.0, 0.9527855707954208, 1.0, 0.8355564999699685, 0.592193771703581, 0.8752336994396404, 0.592193771703581, 0.8004917761877416, 0.7654281182551629, 0.34219284182544035, 0.34219284182544035, 0.9468542521199363, 0.699255998323397, 0.7285831061698441, 0.7876285878337347, 0.9490482808230342, 0.5492877751006996, 0.7169208423921539, 1.0, 0.6102531733649682, 0.9158059898462934, 0.7993421340813787, 0.7264864610386685, 0.9395554776005641, 0.9546693386088363, 0.8332421204271614, 0.5335206362329926, 0.9355096868351999, 0.7110240551190798, 0.6846979982847162, 0.8723936390393194, 0.7755061569055102, 0.6447286325688709, 0.8903420061182695, 0.9495432160010886, 0.7268730924172346, 0.8153557024129243, 0.7566260959780166, 0.8427379513525434, 0.8188919623851556, 0.8200541879048894, 0.929734487334039, 0.4871623425344408, 0.7009149320490725, 1.0, 0.6692274121596155, 0.551096117447462, 0.6710973645067851, 0.7964538551818927, 0.9472693898770254, 0.9501327670230316, 0.7964425055922185, 0.5260295791796284, 0.731613714143597, 0.6710973645067851, 0.8490266852528779, 0.9480603880396451, 0.4864108426339933, 0.2356529456231579, 1.0, 0.5624956714896645, 0.34219284182544035, 0.8706487148843511, 0.9037893557304786, 0.8206155726510344, 0.7312002587525723, 0.4029904835877493, 0.8967949888990441, 0.5702280201857642, 0.5300939715198323, 0.627327294952409, 0.8506035873319605, 0.3555165387194302, 0.8913253154037596, 0.7378068571439879, 0.8789724621867171, 0.9443006286297851, 0.6559263464162026, 0.7942130527335022, 0.8307225414476969, 0.8596900384698613, 0.5652577951502255, 0.616868106921253, 0.9288893741648293, 0.8494768251481527, 1.0, 0.5955145271773239, 0.7477186801168717, 0.616868106921253, 0.5700034143084098, 0.9482588109948841, 0.9153358299383243, 0.6352063212479364, 0.8951517036168143, 0.777311654904029, 0.8391899447518855, 0.5169133081396828, 0.8613384888007894, 0.6435876152532282, 0.3845584452075856, 0.8166788062886504, 0.7697577373629899, 0.8967949888990441, 0.7477186801168717, 0.7409334556970223, 0.7171295256410043, 0.8261978211721238, 0.6227450031418847, 0.7617493546624924, 0.1866622119458002, 0.8285775979128182, 0.8754829662300105, 0.6294338933900164, 0.7998307996731041, 0.8865998470507682, 1.0, 0.9430545665361078, 0.6868418856130648, 0.953004035027212, 0.49998876407571785, 0.4123263342283192, 0.7221897348192018, 0.7845048779622978, 0.7987129334927542, 1.0, 1.0, 0.6451883246418848, 0.8775615801494571, 0.7171295256410043, 0.9672410985234617, 0.8496391344897696, 0.6921400649728735, 0.5741121952308458, 0.4209492595051924, 1.0, 0.616868106921253, 0.8098880854199602, 0.6830633887298716, 0.46271958808027147, 0.480183230614781, 0.38834298669178074, 0.9476741933956633, 0.8704871644405793, 0.9096199025215428, 0.8899312697402294, 0.8397925430079768, 0.6164997588893458, 0.7566371782825909, 0.7237952942168858, 0.8873188825045853, 0.8106423932895604, 0.9085911044870633, 0.8679738509005898, 0.7237473855265071, 0.6120275707928734, 1.0, 0.9742405606341964, 0.6984214868694639, 0.9302923054813398, 0.7282441363467526, 0.7880054302811436, 1.0, 0.796752982140902, 0.5097047822472924, 0.8488853436792312, 0.8335790489064243, 0.6846979982847162, 0.7772107363246605, 1.0, 0.8807221965060058, 0.7680318482287025, 0.6251065761444241, 1.0, 0.34219284182544035, 0.7045297205773771, 0.9661803832884276, 0.879344821078443, 0.8332177395268986, 1.0, 0.7119901124564282, 0.7743581256180185, 0.7926557798623567, 0.4209492595051924, 0.34219284182544035, 0.5260295791796284, 0.89642580343325, 0.9199067083559321, 0.9067109679063563, 0.7609171172892754, 0.8212121804608649, 0.9566277212253667, 0.8788685090485361, 1.0, 0.5447215526956649, 0.9230154167683837, 0.4941699370035841, 0.9687848902808502, 0.8493442485029655, 0.2777819572044711, 0.9822222692295075, 0.8169418663430883, 0.8019853803869699, 1.0, 0.9064882800499473, 0.6496475965661979, 0.7161097291133193, 0.9208365734400574, 0.5624956714896645, 0.8112834182081906, 0.8668375465842224, 0.4314070301902255, 0.49746963361049745, 0.8284288678335042, 0.4564926718374598, 0.8125144286725602, 1.0, 0.6197442476912671, 0.6710973645067851, 0.34237105371064397, 0.4476149531226383, 0.8221961661465353, 0.7459432639758421, 0.8197295277728076, 0.8890673809823073, 0.9699376241697681, 0.9390642755069791, 1.0, 0.8534198579038266, 0.7337976381675779, 0.5624956714896645, 0.7538637644830806, 0.6029710724333116, 0.8659028052900127, 0.9583509047057492, 1.0, 0.7696551489317124, 0.9447660264919056, 0.6820742343936097, 0.7586849600538357, 0.7074770625018929, 0.616868106921253, 0.8869012940129232, 0.930221742981115, 0.8748670125690433, 0.8196840626149937, 0.699140556862656, 0.6555890874224949, 0.6705386700979141, 0.592193771703581, 1.0, 0.8696602471111179, 0.7315020621188466, 0.4151942313529293, 0.7238192579804423, 0.7370447767642927, 1.0, 0.8319292834463606, 0.9414177469849255, 1.0, 0.9093543421491845, 0.7609167094277771, 0.9143844678653815, 0.7538637644830806, 0.6846979982847162, 0.829121629481551, 0.6904942787744859, 0.8196840626149937, 0.514942236843743, 0.251577225958597, 1.0, 0.8855711930117762, 0.5260295791796284, 0.480183230614781, 1.0, 0.34219284182544035, 0.6967359475271723, 0.8520831755170706, 0.9798874307062637, 0.7648349584943122, 0.592193771703581, 0.7308439901554011, 0.9708323191131916, 0.9422167235542396, 0.4943063878129019, 0.7631369766690683, 0.8519984145614368, 0.5919177804817981, 0.7880877149239898, 0.8482545029151469, 0.6666216952588462, 0.7537761691539885, 0.8708424003827229, 0.5160129728331971, 0.8727275019353354, 0.6377174497566938, 0.940533708473354, 0.4209492595051924, 1.0, 0.7268799526204245, 0.9315829339666125, 0.8153557024129243, 0.7185085546227974, 1.0, 0.7955269906172759, 0.8721192647642004, 0.6991818648977945, 0.8593050700616071, 0.9804054385792044, 0.8584410389774841, 0.6280505140984367, 0.6914114150350223, 0.6395801112609354, 0.7477186801168717, 0.9478170086706751, 0.5901561585347799, 0.859280783250842, 0.507408648186338, 0.9654445491221622, 0.8430554086187769, 0.8539124321243686, 0.8633427441309336, 0.7435190801245496, 0.898720078224308, 0.899496872277991, 0.9570124672283082, 0.34219284182544035, 0.9394719865012472, 0.7477186801168717, 0.45499129999081755, 0.776971709794842, 1.0, 0.5891928411751308, 0.8880679011003404, 0.8527223690168728, 0.8310899109492015, 1.0, 1.0, 0.9091730865229268, 0.8650447522543555, 0.7167718703467001, 0.8878539090111374, 0.5946983452102772, 0.8792913429475292, 0.9469530592886499, 0.9025300333905094, 0.8170831490247108, 0.8237935004336484, 1.0, 0.8404765089372234, 0.9181071005787268, 0.725858702457654, 1.0, 0.6163693909461432, 0.4452320004952378, 0.5221082406440927, 0.7786688579765398, 0.6555890874224949, 0.7200419356581083, 0.8086750527254978, 0.5624956714896645, 0.8828167807219442, 0.4298433742920165, 0.7437938066903429, 0.8379690903860136, 0.771377527167741, 0.7171295256410043, 0.7653433482447601, 0.8759109695116063, 0.6555890874224949, 0.82001570787187, 0.7605059779362776, 0.7080529538139041, 0.7337976381675779, 0.480183230614781, 0.6555890874224949, 0.8250081527281949, 0.6634851068507435, 0.8854512773446386, 0.9604252697392831, 1.0, 0.7360121382081722, 0.9258421698503391, 0.9504990088890095, 0.796752982140902, 1.0, 0.8979582659941747, 0.8622781786956142, 1.0, 0.7337976381675779, 0.3900461140894984, 0.6967359475271723, 0.8932047810833998, 0.7853102461050852, 0.9226412334973322, 0.9704293865328198, 0.9123413547623527, 0.4790422976574213, 0.7929873679369678, 1.0, 0.7074770625018929, 0.789523665593465, 0.510264541732716, 0.6848369642141728, 0.4209492595051924, 0.4825169439851596, 0.2622731734642327, 0.4730258225748009, 0.6941871354868577, 0.8781798614686673, 0.9430250914100444, 0.806345686466111, 0.9558827829526918, 0.9061225719686591, 0.6967359475271723, 0.9910193711571801, 0.7535914519225158, 0.8842221208216781, 1.0, 0.9384516271723293, 0.6694681388562831, 0.6736482482159958, 0.6369031094489732, 0.9457466740272351, 0.7283403870962701, 0.5392386197713679, 0.6258799368299887, 1.0, 0.465220971978836, 0.6200012693223789, 0.7988469053088832, 0.6970217360857824, 0.5260295791796284, 0.9838376719247162, 0.6083639218118059, 0.6535986444069133, 0.592193771703581, 0.9656136566499517, 0.4585100075648786, 0.9145260119894769, 0.40384122073035006, 0.9472237512508755, 0.9554402215309153, 0.9358188358549878, 0.7189257105000886, 0.6555890874224949, 0.5674451501231699, 0.7626142353708221, 0.6891667096585798, 0.5574169228642886, 0.5290056896222659, 0.8548349308165615, 0.9233373029725973, 0.9754148606322346, 0.7768795778653105, 0.6414214343321167, 0.788182095124205, 0.4366811432311208, 0.8681588188219878, 0.7169183184438159, 0.6846979982847162, 0.8794110228143098, 0.9500716919197828, 0.9117063701038141, 0.5669144514468193, 0.892480239306899, 0.4204754944333818, 0.9442767052678244, 0.8938575512585595, 1.0, 0.8324377128148135, 0.9218469051706056, 0.7119806902266793, 0.9402684697184759, 0.5453753224471652, 0.9308403714463043, 0.8435022765848855, 0.7786688579765398, 0.8873241618251914, 0.9716480730543668, 0.7171295256410043, 1.0, 0.894819477768427, 0.480183230614781, 0.879040185561284, 0.9263987948620759, 0.6185689847958498, 0.6466510762910073, 0.8072191067911003, 0.7410546142553811, 0.7700698347761199, 0.8531900780980691, 0.7828681933347441, 0.9767490653628071, 0.8944801479876509, 0.9889815364220716, 0.8290876909895442, 0.8816328001660769, 0.6555890874224949, 0.8470743332009265, 0.5531322115084235, 0.8791364848826257, 0.88246889579688, 0.5497507126159739, 0.9255406349652786, 0.769179356492218, 0.8604793622591815, 0.7211536341690993, 1.0, 0.674371559951776, 0.7201219449041418, 0.7461890560424416, 0.7678261143740994, 0.4209492595051924, 0.9865242161432677, 0.616868106921253, 0.669040439480304, 0.7786688579765398, 0.6967359475271723, 1.0, 0.592193771703581, 0.7837831955393317, 0.4835026046425641, 0.8246189656137384, 0.735906339328971, 0.931949544031768, 0.8270978787869152, 0.7871046791307656, 0.9416601834410749, 0.831009643873713, 0.9129726583582399, 1.0, 0.7410546142553811, 0.8263422779572084, 0.9563451043103808, 0.7865310828837384, 0.5493572889987366, 0.6790745352428365, 0.6093676441860221, 0.8743082311587023, 0.8982488962572373, 0.7176407295680877, 1.0, 0.8978678426453479, 0.849222377378008, 0.9865618432597533, 0.6366413833658192, 1.0, 0.9771488411089388, 0.5639583247545961, 0.979221156407959, 1.0, 0.6555890874224949, 0.8660624565339293, 0.7304481023337916, 0.6980569715589373, 0.9053183581160283, 0.752604307949427, 0.8298206164762884, 0.47758969141979124, 0.7768795778653105, 0.9255372877568844, 0.7934212377268686, 0.9051385639162527, 0.9836897946508266, 0.7168220980115251, 1.0, 0.40665432135607205, 0.6710973645067851, 0.3424071387748934, 0.9216603320778718, 0.5527970600424341, 0.9232574640010103, 1.0, 0.6710973645067851, 0.9084970303047806, 1.0, 0.9105929665433322, 0.9194433179204343, 0.9295085093404688, 0.8693578673117391, 0.7477186801168717, 0.9420947711856936, 0.9190163901525704, 1.0, 0.8556939034711359, 0.6303066395669441, 0.5654663176859633, 0.8388356310502274, 0.7786688579765398, 0.9307320954499202, 0.49081483272347304, 0.7700912977326398, 0.6451516600847894, 0.9556711117564098, 0.7743581256180185, 0.8865233980171701, 0.7517212675100341, 1.0, 0.7477186801168717, 0.7171295256410043, 0.7206689717716595, 0.7900492957580568, 0.864714380769158, 0.6967359475271723, 0.7337976381675779, 0.9481305554569083, 0.8201697877360725, 0.7171295256410043, 0.6386655357605538, 0.7262264352140202, 0.8376174999463177, 0.8515594776839364, 0.6846979982847162, 0.7786688579765398, 0.859548244237333, 0.8552374833178026, 0.7410546142553811, 0.8977863820747699, 0.694316437910438, 0.6330860862270408, 0.9398251138850703, 0.8356524650193425, 0.592193771703581, 0.5799675381773933, 0.8897114185211582, 0.9149994214638827, 0.6555890874224949, 0.7582634618325614, 0.9171927764836573, 1.0, 0.9357508254228177, 0.6525449872605689, 0.725858702457654, 0.7074770625018929, 1.0, 0.8424582359172461, 0.78271828338652, 0.7074770625018929, 0.5437145976567412, 0.8161849863281018, 0.5811625690898742, 0.8420083296558858, 0.9586771314963984, 0.7670572574443157, 0.7032937536140423, 0.45592598423017017, 0.6261622081586525, 0.7367488802087697, 0.9801769219261215, 0.480183230614781, 1.0, 0.7038731519925122, 0.7708850625797449, 0.4369887754466232, 0.7487335420522954, 0.7337976381675779, 0.40567452982641616, 0.9107024539768266, 0.7648349584943122, 0.9009730670749386, 0.8880902369524006, 0.8119255602946847, 0.8154870262290841, 0.4599031952222796, 0.5725569466229767, 0.8316539515451953, 0.7266019340338877, 0.5949717147708165, 1.0, 0.9329315584812103, 0.8285927429611574, 1.0, 0.8687610289508707, 0.7322138124353232, 0.38157422803067875, 0.540725792071583, 0.5513333515774382, 1.0, 0.6710973645067851, 0.919751629618679, 0.7281818384568769, 0.8520182987505772, 0.4209492595051924, 0.5467432365288495, 0.9592932380913436, 0.5135380143372307, 0.43582355438461, 1.0, 0.6671099666289193, 0.6289654905632577, 0.9056859557222336, 0.8920171508647825, 0.7697577373629899, 0.409212962239609, 0.935875334497297, 0.7975324311910891, 0.8760613790844799, 0.9404908211561384, 0.914640410867366, 0.9489323307238376, 0.8255177329538285, 0.9615136029477117, 0.891195662598361, 0.8802360048500575, 1.0, 0.725858702457654, 1.0, 0.6967359475271723, 0.6237314394990535, 0.7054149447066874, 0.796752982140902, 0.7074770625018929, 0.6378590491750046, 0.9373560986996032, 0.6269057298288861, 0.4209492595051924, 0.9041939455719764, 0.6170763781616821, 0.920951480470481, 0.8307412925670554, 0.9382959579822067, 0.9590473633948359, 0.9676406283839251, 0.7298768903648977, 0.7171295256410043, 0.9226186326106077, 0.34219284182544035, 0.6789475789642075, 0.9107772090372935, 0.46286071895711867, 0.9550259827811791, 0.3501012160999265, 0.9295453296602657, 0.9166809399165687, 1.0, 0.8405362518233112, 0.8794291118049937, 0.8611541597901762, 0.8355343392154315, 1.0, 0.8616781913568974, 0.8929677270452728, 0.45813674632562423, 0.5624956714896645, 0.8350148223936041, 0.5336485449239246, 0.5740080915928213, 1.0, 0.602956534365408, 0.8692802108801911, 0.8163471397730752, 0.9031961007996417, 0.2340756308669961, 0.46594624620173747, 0.9672427323879426, 0.8130505921340347, 0.8323344318625264, 0.6853778350605606, 0.992757781615919, 0.6377174497566938, 0.9033713916688955, 0.8465311751552875, 1.0, 0.6996890630175231, 0.5260295791796284, 0.812558438122887, 0.6390275789278791, 0.9538358256141974, 1.0, 0.6651583142367282, 0.8310899109492015, 0.9721663542465185, 0.4955267932836213, 1.0, 0.9724929610982462, 0.9087169508449614, 0.8803406053407324, 0.8131435722226774, 0.7595517740177535, 0.5260295791796284, 0.8563723267804546, 0.8944094973940998, 0.3676302364923612, 0.9860172194061897, 0.5560683929178225, 0.6914285394918548, 0.8329458537040699, 0.8951518741262015, 0.872711934891662, 0.6710973645067851, 0.9052396040212998, 0.8669711942806161, 0.8940512852547442, 0.6545076771697761, 0.971868940167357, 0.8025599974776441, 1.0, 0.32486504579309977, 0.7019063828543529, 0.7285115066717066, 0.9631202739138899, 0.9412448222027585, 0.8587844763812812, 0.8556130981767788, 0.877472198899217, 0.634351332198088, 0.7337976381675779, 0.616868106921253, 0.7373549746440424, 0.6508904814222262, 0.7758099847704527, 0.7297114885173374, 0.8420973006385665, 0.865729744635408, 0.8738582240030328, 1.0, 1.0, 0.6368196534703219, 0.8160224406378729, 0.8777236534803583, 0.9642977511445526, 0.8295677977518603, 0.796752982140902, 0.9270807046614784, 0.990174631236342, 0.6555890874224949, 0.4514253715395985, 0.9449991521312586, 0.9301004219442119, 0.5376063635054824, 0.34219284182544035, 0.8754964954575368, 0.7886733591159887, 0.571208096447683, 0.9268913206082943, 0.7538391869561526, 0.9665257220621267, 0.5380655805232766, 0.616868106921253, 0.41990600781394105, 0.6615635313933903, 0.7232221977236107, 0.9482069364822133, 0.5192717479983815, 1.0, 1.0, 0.6429874812445323, 1.0, 0.7477186801168717, 0.6555890874224949, 0.3361681014117111, 0.725858702457654, 0.78271828338652, 0.9192403278268872, 0.685350202319328, 0.9524097878143588, 0.758689441054668, 0.9213346598707957, 0.34219284182544035, 0.9164017589429378, 0.8747031543044518, 0.8228984955890551, 0.7911832188814153, 0.9209205901104256, 0.8952825950950215, 0.88897437049679, 0.8124967026895428, 0.8464319176985078, 1.0, 0.827373112784888, 0.6914287126352193, 0.8424582359172461, 0.8319297252301977, 0.616868106921253, 0.9458305196730765, 1.0, 0.6967359475271723, 0.8126753134129034, 0.6076148252525424, 0.7138129636477077, 0.8864303074340945, 0.7715119311526418, 0.7469881528002492, 1.0, 0.8817733768640871, 0.8845132398203268, 0.6383292558400224, 0.9402981195079482, 0.8988981838589591, 0.9016435238675012, 0.6223376124760588, 0.9576415044916567, 0.8522319378880928, 0.9402981195079482, 0.7893616939806587, 0.9340847276249252, 0.38765584046333906, 0.34219284182544035, 0.7812788830958532, 0.709341302205459, 0.725858702457654, 0.7943615967954365, 1.0, 0.9360217605684922, 0.9431985556331604, 0.8799874397093651, 0.8858742270559196, 0.9408498548651878, 0.8954861775336964, 0.5978604658394093, 0.9722140064260658, 0.8669476533459124, 0.7553431815908547, 1.0, 0.3678545621015821, 0.592193771703581, 0.9506577776305614, 0.6302836176647448, 1.0, 1.0, 0.9096586430762237, 0.41990600781394105, 0.9842300855173772, 0.8680626781564191, 0.9805745201727382, 0.9247031663292801, 0.7183968259109934, 0.8848661615753355, 1.0, 0.7528576477703269, 0.616868106921253, 0.7901288502735919, 0.4269786623647093, 0.9768018824982323, 0.8509403740295742, 0.3515533966508132, 0.8781334713253653, 0.9086373035512527, 0.7188103167015577, 0.480183230614781, 0.8235153921305889, 0.9781449998908732, 0.9881241504441474, 0.8067874333317311, 1.0, 0.7249249829110769, 0.9601568586408034, 0.8694021807018836, 0.7522080668855685, 1.0, 0.8511711937632749, 0.5061843411740067, 0.6291161311272782, 0.7424522773214673, 0.9216611458047684, 0.7657500311602811, 0.9218072006636091, 0.940836861403212, 0.6555890874224949, 0.5295275349465618, 0.2356529456231579, 1.0, 0.4679451351985736, 0.5794374620899823, 0.8556805727294932, 0.935822714612057, 0.803644843662284, 0.5813502819164388, 0.9204582341735965, 0.5665317432234447, 0.7770835972858972, 0.9740528531051654, 0.9561398179708139, 0.9286745126406563, 0.9102979247884171, 1.0, 0.5260295791796284, 0.8969209529048063, 0.5624956714896645, 0.7446645100679722, 0.7239416019223344, 0.7595517740177535, 0.9040098452250867, 0.34219284182544035, 0.8984258084013751, 1.0, 0.8869955420412525, 0.9040098452250867, 0.6505678794555324, 0.9469465836966732, 0.9109991248235398, 0.8999567982994913, 0.7477186801168717, 1.0, 0.7700743449976667, 0.6555890874224949, 0.7749037254525304, 0.7746176706316341, 0.4527712390664877, 0.8569017264792698, 0.9433923090149409, 0.41039102074580847, 0.9535257378214437, 0.7697577373629899, 0.8551957287516674, 0.592193771703581, 0.4209492595051924, 0.44677473125243866, 0.9229771926738067, 0.7972760803587267, 0.6815464911196014, 1.0, 0.5624956714896645, 0.97660555873334, 0.48400186579538457, 0.9624861461161894, 0.8866186677573885, 0.9005717769383149, 0.5378817298384458, 0.665794025073611, 0.7912470595094894, 0.7248853982481388, 0.5871515384951721, 0.9060766084700758, 0.480183230614781, 0.8820724344245326, 1.0, 0.8649606180597971, 0.8696815821748103, 0.8675830376770499, 0.865724138625698, 1.0, 0.8821798451189814, 0.9577271107268849, 0.592193771703581, 0.6710973645067851, 0.7623441654759763, 0.7172357845258691, 0.8001262506038439, 0.4209492595051924, 0.6180662581489494, 0.30026807540905087, 0.8360288217860941, 0.8667967333961782, 0.9582726003542582, 0.7373757190171245, 0.9397029378581112, 0.7401574788711378, 0.4209492595051924, 0.20283464352371477, 0.7955403631918673, 0.2745503218717995, 0.616868106921253, 0.3921033498352767, 0.7648349584943122, 0.5736359892353646, 0.8470403087059993, 0.955998309432713, 0.9577474413474943, 0.7743581256180185, 0.8157262017179049, 0.9194491672223049, 0.829121629481551, 0.9705618964128101, 0.8567684433813492, 0.2356529456231579, 0.46878151020818654, 1.0, 0.7223760026623889, 0.7240184262895069, 0.8106423932895604, 0.8758491584362652, 0.5069264030617339, 0.7408517685277445, 0.8673637777777325, 0.6849772358510537, 0.7410546142553811, 0.796752982140902, 0.9181780511077821, 0.705824014537645, 0.7171295256410043, 0.6620477861802886, 0.9685535432224337, 0.6287116460812318, 0.708340323815279, 0.8269260237256604, 0.7189530838740428, 0.7075557767118399, 0.7963284238083777, 0.782320782370655, 0.9462570930781686, 1.0, 0.8096427158492339, 1.0, 0.43068974999878473, 1.0, 0.9200738558177283, 0.9234696951747302, 0.7337976381675779, 0.9718923651417082, 0.6367277813587267, 0.9153649830393715, 0.6861760327777451, 0.6150720695426952, 1.0, 0.7399124765571501, 0.40050469393947563, 0.592193771703581, 0.906645406978627, 0.7595517740177535, 0.7561472164254204, 1.0, 0.5624956714896645, 0.6957879331525845, 0.7831267301293026, 0.7999871262878958, 0.8794322159016118, 0.725858702457654, 0.5553643378252745, 0.9229560857668647, 0.9108434658723641, 0.9337888541790117, 0.6684089223066241, 0.9311498725314614, 0.9182571547155784, 0.9074403726440688, 0.9112087129168353, 0.9640816399746297, 0.7984125574944655, 0.8455452399218305, 0.7431774452053841, 0.7159621958915732, 0.909562075036131, 0.6907319864524801, 0.6710973645067851, 0.796752982140902, 0.9867264428536974, 0.7538637644830806, 0.7919354858822025, 0.8847565574334123, 0.7855950052766263, 0.9030984802655289, 0.7786688579765398, 0.6270021314883142, 0.2333382717505372, 0.8627233235761704, 0.978863567666326, 0.8116106463635244, 0.42689646476608223, 0.7825006822282733, 0.8134160659476256, 0.8176440799455149, 0.9260957757653997, 0.7007916512762694, 0.7168241191732245, 0.6555890874224949, 0.8056749865452474, 0.8951308021753938, 0.5624956714896645, 0.9011909638427724, 1.0, 0.7133498680931958, 1.0, 0.616868106921253, 0.9936230499592411, 0.6710973645067851, 0.769947863629102, 0.806107492272107, 0.8242138058180574, 0.8591046408233427, 0.925173481376506, 0.4663366477930666, 0.8639230698857643, 0.3945325287646236, 0.7935305653389435, 0.7538637644830806, 0.5260295791796284, 0.9622178031585471, 0.8615762242209638, 0.7110916348473694, 0.7576810532876311, 0.8950365351427811, 0.5624956714896645, 0.6050613214052122, 0.8654492715300769, 0.7538637644830806, 0.7339271939053881, 0.480183230614781, 0.9892986719014614, 0.9068666957570303, 0.9902300250112493, 0.6555890874224949, 0.8995342425887187, 0.7595517740177535, 0.616868106921253, 0.8157481813936, 0.9259440468131105, 0.3966248708618525, 0.9568529538437566, 0.7036938887999252, 0.7957304180095819, 1.0, 0.7719251016636217, 0.9441077838772388, 0.8384701407215708, 0.04541332276301338, 0.4113576188469367, 0.4799594672851742, 0.34219284182544035, 0.7019161531149221, 0.5624956714896645, 0.73349076862051, 0.33283541419282764, 0.6035962116646202, 0.9796074146221653, 0.42935985713221325, 1.0, 0.7538637644830806, 0.7998109497165976, 0.7378811422852891, 1.0, 0.5514400776357824, 0.9792982358553133, 1.0, 0.767574897243988, 0.4693108869819058, 0.5924299613502322, 0.9273547900402023, 0.9201379107916339, 0.9159143257816663, 0.8986782320506248, 0.753683215800164, 0.7397234380425355, 0.9209205901104256, 0.9077913358022993, 0.7865310828837384, 0.7743581256180185, 0.480183230614781, 0.974142918442653, 0.832126467856801, 0.649941700183998, 0.9497319203786673, 0.7562598059484087, 0.7538637644830806, 0.47151201737053083, 0.9499360046885973, 0.9071448239626702, 0.8686816155432969, 0.9335225181304837, 0.9010352768713736, 0.6883849901673151, 0.8989839545219142, 0.8288698010006831, 0.9102786630643421, 0.9318846398622765, 0.6288833459262713, 0.7884335732683656, 0.8332478160819492, 0.985336759855647, 0.887196339605383, 0.938823507328376, 0.9757457362808185, 0.7566422719153433, 0.7374186781747492, 0.9124542977786098, 0.5260295791796284, 0.9389861130934227, 0.527636870510214, 0.6522199466669322, 0.7181415618113918, 0.8794844573530561, 0.9201379107916339, 0.9438764943279, 0.6785122776086465, 0.878104504630514, 0.9620573834991504, 0.9648345597266147, 1.0, 0.7800022434001171, 0.7182486931233057, 0.8469334045691014, 0.7904417664139459, 0.592193771703581, 0.9425484730236653, 0.7337976381675779, 0.7562277132997584, 0.9610572447008034, 0.6209573753881212, 0.5383780628828834, 0.7477186801168717, 0.813476480301243, 0.7171295256410043, 0.6560699545219764, 0.9301865937472711, 0.7938638305250203, 0.9344983937937166, 0.8596362235433924, 0.3753374630334449, 0.8200143155108394, 0.4704327780692165, 0.47977890140455787, 0.5601839567799706, 0.9201086546308784, 0.902749955900803, 0.9790666172630367, 0.8070637812023095, 0.5000553809693115, 0.7821352326016278, 0.6908008090613433, 0.7901288502735919, 0.5529837444136416, 1.0, 0.8716918356292075, 0.9061801642722308, 0.5260295791796284, 0.8153315902732958, 1.0, 0.9805515926797761, 0.6377174497566938, 0.9200700742298521, 1.0, 0.6555890874224949, 0.6555890874224949, 0.7595517740177535, 0.7907518545608185, 0.8375174239559476, 0.8716995886371005, 0.6374657282323504, 0.7337976381675779, 1.0, 1.0, 0.9057371927068745, 0.8779604480292733, 0.725858702457654, 0.8234902496621599, 1.0, 0.5551225711915305, 0.8071311154424089, 0.7217655673455348, 0.3993915359345524, 0.4209492595051924, 0.9506819076724495, 1.0, 0.8686757796615491, 0.7333118209608546, 0.9226127797101982, 0.9418683731736809, 0.866950494154397, 1.0, 0.8158973655045396, 1.0, 0.9657145838025293, 0.8301573037427793, 0.34219284182544035, 0.9798776083848573, 0.2356529456231579, 0.6066777378368121, 0.8081545316905229, 0.725858702457654, 0.853533714846644, 1.0, 0.480183230614781, 0.4371061998312784, 1.0, 0.9491385623870653, 1.0, 1.0, 0.5773101385988477, 1.0, 0.9012737833262727, 1.0, 1.0, 1.0, 0.34219284182544035, 0.6589656512959093, 0.7244119771027531, 0.725858702457654, 0.6437460373646559, 0.7502877956534976, 0.9145800839343278, 0.7538637644830806, 0.6613998827323997, 0.9309850348691654, 0.5424133633656589, 0.9433321092798538, 0.501336202860188, 0.7959882448042818, 0.8743602235602975, 0.5568922958609688, 0.5732245950432062, 0.8972337153944606, 0.7601778898535492, 0.582553735800896, 0.9337413761119241, 0.6869625819189059, 0.8696140039257073, 0.7408547383648693, 0.9407057406115381, 0.7159277210902606, 0.9432171136214964, 1.0, 0.7009422703673776, 0.6721718023759959, 0.8592943592363965, 0.698175831063126, 0.7552316964298211, 0.5787700887554245, 0.6457960434745591, 0.7443314452633124, 0.963712935731459, 0.9266538031751408, 0.680170418496033, 0.22234060865205946, 0.8353767421843575, 0.71988609752333, 0.2356529456231579, 1.0, 0.8339852926571216, 0.6895182304270125, 0.32297691011216273, 0.6846979982847162, 0.8624942028208471, 1.0, 1.0, 0.852907785976951, 0.9808625532514844, 0.8177731690254667, 0.9564072810504506, 0.7771675866075323, 0.7074770625018929, 0.8964779901392588, 0.8251375572152574, 0.540725792071583, 0.9453442070525713, 0.895733139594177, 0.592193771703581, 1.0, 1.0, 0.7643886173896992, 0.3125740520243447, 0.8110161792894268, 0.7410546142553811, 1.0, 0.7253694189977877, 0.8505920187726674, 0.8448248950229413, 0.8106423932895604, 0.9617369359857506, 0.6967359475271723, 1.0, 0.7171295256410043, 0.8924274162160775, 0.628080033371975, 0.9439839266253397, 0.38029899834539577, 0.6375938945852287, 0.8451034950203454, 0.3534877537975307, 0.7142466877990328, 0.8054849632992352, 0.8930825568293875, 0.2356529456231579, 1.0, 0.9089245535210211, 0.9797480027111047, 0.9337018615884062, 0.9806100245840962, 0.9464189060892623, 0.5110322661018721, 0.8738057257353318, 0.5489264375639755, 0.935659253698825, 0.676134970161252, 0.4785790769328002, 0.7337976381675779, 0.5638284945190992, 0.34410793642570425, 0.8516817926941842, 0.9106544439286046, 0.7477186801168717, 0.8268634797624873, 0.7931220188201084, 0.8999204176397186, 0.5984007146301903, 0.5561744182041307, 1.0, 0.6444779210406625, 0.950848311591956, 0.8064855192119509, 0.7303075455275753, 0.6919636428923451, 0.9445300985476692, 0.9255567277835947, 0.7802862772924393, 0.6872553916500079, 0.4209492595051924, 0.9166845207867235, 0.8167162019652615, 0.5624956714896645, 0.7230549870302363, 0.9142005421618741, 0.6293562058650433, 0.6846979982847162, 0.9731454393584164, 0.7743581256180185, 0.8122262405034091, 0.8366860813174133, 0.7259434165258164, 0.8285960925644318, 0.9150559241615193, 0.8471812736626289, 0.34219284182544035, 0.9781464717696172, 0.3501221332986411, 0.74889431278147, 0.590768628160786, 0.8864735579935845, 0.7337976381675779, 0.8888978402996409, 0.9636256825366333, 1.0, 0.8190417029898645, 0.3894394954354682, 0.7534296810464975, 0.8206090219391436, 0.6710973645067851, 0.7719310154234628, 0.7477186801168717, 0.9050901357843077, 0.5541179012977121, 0.927907366765797, 0.9490320428478208, 0.7325679849383115, 0.9162125069604481, 0.8811248632026142, 0.9450121917925883, 0.9563343709311232, 0.857669332442471, 0.6846979982847162, 0.8186012668547414, 0.5260295791796284, 0.5136413599231346, 0.822766971569931, 0.7489292528891931, 0.8238524970276666, 0.592193771703581, 0.8324790596907455, 0.9692300788700239, 0.5382213719936237, 0.592193771703581, 0.6377174497566938, 0.8199791425189795, 0.28434897039351636, 0.895347743553684, 0.8520454579913957, 0.8437209221687402, 0.480183230614781, 0.7784079268902143, 0.592193771703581, 0.7560858618957764, 0.5309441154888155, 0.507835585820659, 0.7881738359291668, 0.9209987607061481, 0.8645952820786379, 0.8639663349692362, 0.6710973645067851, 0.8492694925885923, 0.901882817763591, 0.78694341680471, 0.33077029168144595, 0.5529837444136416, 1.0, 0.7792357275613273, 0.6702075541411001, 0.7538637644830806, 0.6809155708002067, 0.9345775763441572, 0.911642852721201, 0.8907008505439008, 0.6849343055077897, 0.8110047121561912, 0.9304303597228651, 0.9328262152129831, 1.0, 0.8589932000055843, 0.8676507711428256, 0.8106423932895604, 0.6755180738592304, 0.6402755132407841, 0.7595517740177535, 0.592193771703581, 0.4902215741499432, 0.9783525942675975, 1.0, 0.705363744687409, 0.9645402256988804, 0.939750448940431, 0.4209492595051924, 0.8956542330543941, 0.7534344540941178, 0.71397052636959, 0.9062631444297385, 0.783097659515717, 0.6510438101113704, 0.916634832032821, 0.9311429122383946, 0.5670610629926974, 0.7558323851879871, 0.9182953185363506, 0.8867812166960661, 0.6377174497566938, 0.4209492595051924, 0.7933785287571732, 0.8929653707948614, 0.5759571242896626, 0.976457945123263, 0.9876826261685016, 0.7990987104609126, 1.0, 0.8544729744012297, 0.8172385849667845, 0.6710973645067851, 0.8959882492943005, 0.7849165467514596, 0.87949885349144, 1.0, 0.8021404137308594, 0.8411575532960395, 0.6810112028051669, 0.7147552483302219, 0.8517292856419668, 0.8964339288494043, 0.5226090909982288, 0.5027317320365614, 0.592193771703581, 0.5907190637235098, 0.6464602995859378, 0.8572861306810877, 0.7595517740177535, 0.7442090343540864, 1.0, 0.9181486193375176, 0.7532670730325325, 0.9820605939239164, 0.8187198387637387, 0.8362978738974853, 1.0, 0.9255734313736066, 0.9783397440832746, 0.6526512683347943, 0.9242248324016363, 0.9503592224792495, 0.967953448573426, 1.0, 0.8750060036096988, 0.9764827683742203, 0.6710973645067851, 0.38975498501624695, 0.8679113177364814, 0.9822460420011045, 0.5163026542304935, 0.8590955059030067, 0.7590011003520758, 0.5577316595677877, 0.809959997984392, 0.6555890874224949, 0.5648256130083825, 0.902232499468068, 0.726400049210027, 0.868005471140291, 0.7370402239768732, 0.48406131857389045, 0.6631019482121042, 0.3998628871293123, 0.9221109117159936, 0.9180128735719573, 0.9795519373786361, 0.9212865359638127, 0.8261568482334131, 0.26466036329017656, 0.788843274338966, 1.0, 0.9089245535210211, 0.5312057359594768, 1.0, 0.9250154041506198, 0.9401982696631901, 0.9489215401044165, 1.0, 0.9837726978210022, 0.8242408118744351, 0.8472983771868337, 0.5416458100627812, 0.954083953253959, 0.3493596170642004, 0.8005699977175824, 0.8527329925013004, 0.9561398179708139, 0.7002185513361524, 0.9028196480698786, 0.6967359475271723, 0.9557211790999685, 0.8495233591541326, 0.9344508211834528, 0.793344597226265, 0.616868106921253, 1.0, 0.9295489263376316, 0.6671435561340213, 0.7720764434813532, 0.8908964666955111, 0.7077724041390494, 0.8857190300164324, 0.592193771703581, 0.8106423932895604, 0.6501821522316931, 0.8212969511152242, 0.8355836975880532, 0.5358974659738936, 0.78271828338652, 0.8401155824034702, 0.480183230614781, 0.7743581256180185, 0.7313803653372876, 0.5575557405211098, 0.6351811296629115, 0.8480663647782768, 1.0, 0.8383958152288977, 1.0, 0.7337976381675779, 0.931735004278214, 0.9004254183845476, 0.5260295791796284, 0.8217872394848251, 0.40520248096590616, 0.844922912981112, 0.4882476853776394, 0.9133549321973816, 0.7648349584943122, 0.7835189857945892, 0.9600055750116894, 1.0, 0.6967332147637227, 0.9667263526137352, 0.5440615245531981, 0.955078213195815, 0.9216619249062836, 0.7551982321628916, 0.5784405804767712, 0.7051836049434224, 0.987219833905752, 0.7715980230877963, 0.5881527604302526, 0.8692743274183895, 0.6967359475271723, 0.7991109559396463, 0.8712122529393899, 0.7477186801168717, 0.8750079799244216, 0.8956963882790346, 0.9012400841947455, 0.7162657253624553, 0.592193771703581, 0.8731727390781503, 0.9107968445783766, 0.796752982140902, 0.8335280944690253, 1.0, 0.8642833690674927, 0.83202002969947, 0.9848922610988773, 0.9086828255070197, 0.6353455364082591, 0.9576121839859545, 1.0, 0.8449474061527366, 0.8315690768819731, 1.0, 0.7166530864826908, 0.4209492595051924, 0.7367054314260258, 0.8536371830234315, 0.7361926400561248, 0.7074770625018929, 0.9749067591926935, 0.9153412429262368, 0.2356529456231579, 0.513930056980113, 0.8456625630209054, 0.8158432132404514, 0.7137109858952607, 0.9824153026762374, 0.6758891527747234, 0.7743581256180185, 0.8079070912091499, 0.8880734426863848, 0.7538637644830806, 0.8247084304800135, 0.8534056260808466, 0.7534718106953684, 0.817295129795711, 0.8798499801841174, 0.9457401787119909, 0.9521727838023163, 0.9531167815429644, 0.9688868165076155, 0.950374035318924, 0.9755616170151754, 0.7171295256410043, 0.7171295256410043, 0.82012240589228, 0.7884849671683642, 0.8843226276002059, 0.8118884079363287, 0.6605024844798922, 0.8323344318625264, 0.7814931249063889, 0.5587936283050856, 0.8929692857893999, 0.5398319956685594, 0.8277163360500251, 0.5479909962004511, 1.0, 0.9862149679276577, 0.6458387368837045, 0.7277021826138013, 0.8564631224899406, 0.78271828338652, 0.8294655689877185, 1.0, 0.5413457019523286, 1.0, 1.0, 0.818275187719091, 0.8253804140832072, 0.5584852067460213, 0.6662476307660652, 0.545050000877065, 0.480183230614781, 0.7743581256180185, 0.9398231368798162, 0.9839776729826956, 0.9401198591736419, 0.796752982140902, 0.6015050486280676, 0.8706506307716962, 0.5057452778468297, 0.5260295791796284, 0.5337249623200023, 0.7880453489275593, 0.5815089416718701, 0.7477186801168717, 0.8713766779238018, 1.0, 0.9165215619581695, 1.0, 0.7171295256410043, 0.7959424662824832, 0.7337976381675779, 0.6662157909409216, 0.9561667782141757, 0.4608102301953772, 0.9348976528126823, 0.829121629481551, 0.7477186801168717, 1.0, 0.9347551715636696, 0.8788750543249984, 0.4944699857763282, 0.9589417501880589, 0.4209492595051924, 0.6911290370521518, 1.0, 0.808123369830411, 0.9183585056353617, 0.5952003163236198, 0.5624956714896645, 0.8292382121876555, 0.9438481707649587, 0.6780384253396409, 1.0, 0.9457652979912071, 0.3711400959776248, 0.7074770625018929, 0.5596920608858549, 0.6086987499438851, 1.0, 0.7998109497165976, 0.8505920187726674, 0.36750366665123185, 0.9676068547653218, 0.8836151919634967, 0.5446666736359908, 0.928465340765945, 0.7349967155195105, 0.5303809909360379, 0.8910010917981976, 0.7786688579765398, 0.4233514074737182, 0.7557167453322663, 0.715601092330577, 0.5199091109509435, 0.6868870230200489, 0.8495233591541326, 0.9600670177151974, 0.48432731963783665, 1.0, 1.0, 0.7992647710462507, 0.5815090006391586, 0.848724920337195, 0.8934155096298223, 0.6783904491814472, 0.9168828543329323, 0.7801012024098685, 0.7451514128691322, 0.7465567753389313, 0.9241902412769845, 0.21373705435433382, 0.8493310464527705, 0.8781491941323688, 0.6530464487127607, 0.991862566016181, 0.673921567375429, 0.8326992155631524, 0.929012284964901, 0.9082769596847117, 0.9764407853043091, 0.9458458754756308, 0.7545822403651834, 0.8688490662607568, 0.8050853811877218, 0.977697782563234, 1.0, 0.8215410392657638, 0.6555890874224949, 1.0, 0.2016344697640741, 0.881531875709004, 0.7901288502735919, 0.8916759732254674, 0.9710506117504495, 0.9772876272234569, 0.6077976967624595, 0.5923719184498399, 1.0, 0.5981259070871923, 0.592193771703581, 0.7915368662517023, 0.8458052193634724, 0.9399868732636817, 0.8297938045274095, 0.7846286835519607, 0.7074770625018929, 0.8341660417234308, 0.6377174497566938, 0.9253647114155334, 0.616868106921253, 0.725858702457654, 0.8630854891794065, 0.952352974577377, 0.964992409502974, 0.7974249234973725, 0.93349113673829, 0.7009091352818423, 0.8196840626149937, 0.9226761091655893, 0.7171295256410043, 0.8308870687724002, 0.6301035627117532, 0.6555890874224949, 1.0, 0.8808199292379525, 0.7247570550898286, 0.5943218039568018, 0.5325757385707302, 0.3221598591048289, 0.7261079090080431, 0.8153557024129243, 0.7452118306104931, 0.6945348377666826, 0.9886775063615735, 0.7538637644830806, 1.0, 0.8901723114244283, 0.9189164932845232, 0.5609928793787544, 0.9544313116330303, 0.891966218609063, 0.9545072758408714, 0.8843444610370766, 1.0, 0.4209492595051924, 0.5806071982898819, 0.6208890951928461, 0.9668332655337976, 0.592193771703581, 0.7743581256180185, 0.6846979982847162, 0.7261079090080431, 0.6788056900042639, 0.6967359475271723, 0.3837034139969204, 0.8921980826150829, 0.5730579768252082, 0.7269628061394161, 0.8758129329624621, 0.4645080392826914, 0.48973590055589095, 1.0, 0.6485137244875578, 0.8122571086468704, 0.5957912782987433, 0.9455132856950493, 0.926728564754245, 1.0, 1.0, 1.0, 0.8896068189265351, 0.6372010005704948, 0.8135410531111471, 0.7637099542352758, 0.9311055529900567, 0.9293756733179035, 0.9240336521131498, 0.4439792112486671, 0.8681961264768067, 0.9552851103198623, 0.8055800533703992, 0.510183412829258, 0.7856364248130754, 0.7595517740177535, 0.8632495072503713, 1.0, 0.8683661853359461, 0.9522402668469486, 0.9238131571646738, 0.8762989494557392, 0.8965925697455512, 0.9447153269881381, 0.8873383807906184, 1.0, 0.8204674663076371, 0.6808813164919849, 0.8086685526186405, 0.9819750976592214, 0.8965457449385565, 0.7986849419787496, 1.0, 0.7236426269634333, 0.8119788805553937, 0.5518085053639543, 0.9460198565236985, 1.0, 0.9690796648433428, 0.5197479138203568, 0.4720468925775535, 0.6117999326299329, 0.9439235971454822, 0.6948756969006998, 0.480183230614781, 1.0, 0.9590446650016855, 0.5695976410091828, 0.5902999647431829, 0.9249438463148969, 0.7477186801168717, 0.9277078370336697, 0.8035494811685556, 0.8452415597265996, 0.5954453654351304, 0.7508342510437455, 0.6939568103513242, 0.7410546142553811, 0.8514079428961169, 0.78271828338652, 0.6399398255534543, 0.9045488337017442, 0.5260295791796284, 0.5260295791796284, 1.0, 0.8326399368580513, 0.6434660169570764, 0.7277292025077325, 0.8883480391735691, 0.5624956714896645, 0.9735957439993205, 0.36778570907914365, 0.6377174497566938, 0.9225786352204182, 0.9335184570276267, 0.8200929878303294, 0.27977000727940865, 0.7074770625018929, 0.6555890874224949, 0.6555890874224949, 0.831650779693723, 0.9325227309546616, 1.0, 0.6430216947280922, 0.6485787697223075, 0.8876654042783922, 0.8687164132241281, 0.5855233621049768, 0.8461491281125914, 0.8701793372031804, 0.8990431526760247, 0.684803872862397, 0.7779557673234399, 0.7864428902665453, 0.6441521573588158, 0.7939665628289372, 1.0, 0.8644654956339968, 0.616868106921253, 0.9562890262017174, 0.38023154307828255, 0.9647074870759156, 0.9316611601252403, 0.4746004488152636, 0.8091596555440616, 0.7950818973135044, 0.8756694993573559, 0.856463388727742, 0.7479739101523578, 0.8733169106376335, 0.6265428567167401, 0.6349710484695347, 0.7323629715157958, 0.5684105467352805, 0.7769862379016715, 0.42649177942820765, 0.9641060866397593, 0.7500365135134016, 0.7367787734047704, 0.9670781461097726, 0.5624956714896645, 0.7410546142553811, 1.0, 0.7163530431506043, 0.5785305145862027, 0.8792567407517564, 1.0, 0.9893312785021693, 1.0, 0.409212962239609, 0.6056548679019921, 0.7953102671643179, 0.9370666241440425, 0.923839715345195, 0.9045203761190469, 0.7876507564062349, 0.9106544439286046, 1.0, 0.9711375384624893, 0.6846979982847162, 0.957018965892405, 0.9867774389019001, 0.7385456526729669, 0.6846979982847162, 0.8972191076187712, 0.8788327743022357, 1.0, 1.0, 0.9064335373088569, 0.8942962675666938, 0.8237295027032264, 0.7674176992935975, 0.7244587351823111, 1.0, 0.9206960463404531, 0.8630593843700617, 0.8785024451871388, 0.9087918811869092, 0.5171298910993886, 0.5849250136150053, 0.832212181238687, 0.5599265965498, 1.0, 0.756795223020485, 1.0, 0.6407870301384385, 0.5824589187262976, 0.939988147022872, 0.9171480470106894, 0.7842643086657888, 0.7041625618517862, 0.6648922100298112, 0.480183230614781, 0.4209492595051924, 0.9054652401332349, 0.9219370643168793, 0.9458046573283942, 0.9833379079222716, 0.8891369160072561, 0.48963047778778357, 0.6846979982847162, 0.7739506555332829, 0.4489168301125717, 0.781679866751876, 0.8513962967192102, 0.9588332826670958, 0.8232179451398965, 0.7273230440711664, 0.6707415190025143, 0.5795279436622075, 0.8706836865956461, 0.7261992565879781, 0.9441941080589813, 0.4621586887696076, 0.7337976381675779, 0.8777761128828362, 0.6211205900541139, 0.44151202002058865, 0.7015308470308764, 0.784845897341087, 0.7901288502735919, 0.5717266258196773, 0.7768979121299422, 0.5750314540729666, 0.7337976381675779, 0.8067293898349958, 0.5780623511936319, 0.6360393850073408, 0.8298206164762884, 1.0, 0.8927283864320753, 0.4533478916879816, 0.6994477041468109, 0.901380905272531, 0.5624956714896645, 0.7697577373629899, 0.8335335304172908, 0.8959587770975355, 0.263881873634977, 0.9020920334384038, 0.9009847186428881, 0.7697577373629899, 0.7885229156921382, 0.781910932757569, 0.7595769338333094, 0.9074574660435232, 0.8758576486659458, 1.0, 0.7155515043863765, 0.7484939785669753, 0.9434735775974087, 0.6973742015585551, 1.0, 0.6185308544851956, 0.7443876776232499, 0.6821619737585115, 0.9596511110664594, 0.863858881069625, 0.826879180380976, 0.9395539104491786, 0.9202073576242922, 0.5260295791796284, 0.6244639449332756, 0.9594601298613057, 0.6565973409884893, 0.6434894578920702, 0.6537087793391809, 0.6231924106804837, 1.0, 1.0, 0.9246587060502814, 0.9627730418363167, 0.5229204790139668, 0.9215126452675094, 0.8531219284703095, 0.4730189653842603, 0.7948018240632879, 0.6168073723046198, 0.6923444122355148, 0.8484259127834951, 0.616868106921253, 0.9168043925218737, 0.9065421973095126, 0.6710973645067851, 0.8987034858070799, 0.9804665843996488, 0.8882085211910312, 0.7849228226869518, 0.7642812770635552, 0.5624956714896645, 1.0, 0.8893523736620486, 0.9847743746230632, 0.9711063159236619, 0.7171295256410043, 0.9436895962641543, 0.8693578673117391, 0.616868106921253, 0.7648349584943122, 0.8389586332360924, 0.7244763224845181, 0.8170875267988188, 0.8886172633331076, 0.49125604307318954, 0.814381474115857, 0.8774158331358262, 0.48111863286860573, 0.9649544492469176, 0.6582417654573742, 0.6800048954609677, 0.6789759746362267, 0.5191163305189486, 0.9809973939170816, 0.8016522440163117, 0.9893505981368084, 0.9515290154361313, 0.6777207948523984, 0.5502849973393357, 0.9334300684570043, 0.8027176785570148, 0.6873325208648554, 0.9828363999487887, 0.8820188432544129, 0.8593888189384341, 0.592193771703581, 0.871474710063672, 0.6320114837333423, 1.0, 0.9505476690736361, 0.49193465938708225, 0.5624956714896645, 1.0, 0.8215586815126695, 0.623775406743246, 0.8828716049270726, 0.6113348661329915, 1.0]}\n",
            "0.532548640218932\n"
          ]
        }
      ]
    },
    {
      "cell_type": "code",
      "metadata": {
        "id": "BsGlquxCT_MQ"
      },
      "source": [
        "scores = np.array(compute_score2([line for i in range(len(detoxed_sentences))], detoxed_sentences))\n",
        "#        words = detoxed_sentences[np.argmax(scores)].split()"
      ],
      "id": "BsGlquxCT_MQ",
      "execution_count": null,
      "outputs": []
    },
    {
      "cell_type": "code",
      "metadata": {
        "id": "hdYnW86Gb6sV"
      },
      "source": [
        "import string\n"
      ],
      "id": "hdYnW86Gb6sV",
      "execution_count": null,
      "outputs": []
    },
    {
      "cell_type": "code",
      "metadata": {
        "colab": {
          "base_uri": "https://localhost:8080/",
          "height": 486,
          "referenced_widgets": [
            "d533587a5e4b4e72853ad6c8a9a41bf8",
            "dde30770e13c444c8bf5b6c3fd0032cc",
            "aee5917dc705450dadfcf5e1ba17f2d3",
            "a7ba8dffb9d04ac8b908b81d58a8579e",
            "21a48102bd67403d95939ce80e44bd8e",
            "2f5dc777e4384568a24042783592415f",
            "1543d591e8cd432282e632a642d022d6",
            "8d1d2fdb018a4afd90466ced612e2f9c",
            "9cca727c15054629ae4aaa208b7c073f",
            "a0b821cbd9ce4a49b6f259827812476e",
            "3d319cf0a2a94e01a9e3f98af61e0f80"
          ]
        },
        "id": "carvcgfbTffZ",
        "outputId": "4b520d65-09de-4583-ab94-5ccc0408e8a7"
      },
      "source": [
        "best_score = new_checker([texts[2330]], [texts[2330]], show_res = True)\n",
        "print(best_score)\n",
        "new_word = ''\n",
        "for w in tqdm(embs_voc.keys()):\n",
        "    sc = new_checker([texts[2330]], [w])\n",
        "    if best_score < sc:\n",
        "        best_score = sc\n",
        "        new_word = w\n",
        "        print(new_word)\n",
        "        print(best_score)\n",
        "print(new_word)\n",
        "print(best_score)"
      ],
      "id": "carvcgfbTffZ",
      "execution_count": null,
      "outputs": [
        {
          "output_type": "stream",
          "name": "stdout",
          "text": [
            "4.677951335906982\n"
          ]
        },
        {
          "output_type": "stream",
          "name": "stderr",
          "text": [
            "average toxicity: 0.9532205\n",
            "mean lmdiff: 1.0\n",
            "mean distance_score: 1.0\n",
            "score 4.677951335906982\n"
          ]
        },
        {
          "output_type": "display_data",
          "data": {
            "application/vnd.jupyter.widget-view+json": {
              "model_id": "d533587a5e4b4e72853ad6c8a9a41bf8",
              "version_minor": 0,
              "version_major": 2
            },
            "text/plain": [
              "  0%|          | 0/162690 [00:00<?, ?it/s]"
            ]
          },
          "metadata": {}
        },
        {
          "output_type": "error",
          "ename": "KeyboardInterrupt",
          "evalue": "ignored",
          "traceback": [
            "\u001b[0;31m---------------------------------------------------------------------------\u001b[0m",
            "\u001b[0;31mKeyboardInterrupt\u001b[0m                         Traceback (most recent call last)",
            "\u001b[0;32m<ipython-input-88-9fb329a0830a>\u001b[0m in \u001b[0;36m<module>\u001b[0;34m()\u001b[0m\n\u001b[1;32m      3\u001b[0m \u001b[0mnew_word\u001b[0m \u001b[0;34m=\u001b[0m \u001b[0;34m''\u001b[0m\u001b[0;34m\u001b[0m\u001b[0;34m\u001b[0m\u001b[0m\n\u001b[1;32m      4\u001b[0m \u001b[0;32mfor\u001b[0m \u001b[0mw\u001b[0m \u001b[0;32min\u001b[0m \u001b[0mtqdm\u001b[0m\u001b[0;34m(\u001b[0m\u001b[0membs_voc\u001b[0m\u001b[0;34m.\u001b[0m\u001b[0mkeys\u001b[0m\u001b[0;34m(\u001b[0m\u001b[0;34m)\u001b[0m\u001b[0;34m)\u001b[0m\u001b[0;34m:\u001b[0m\u001b[0;34m\u001b[0m\u001b[0;34m\u001b[0m\u001b[0m\n\u001b[0;32m----> 5\u001b[0;31m     \u001b[0msc\u001b[0m \u001b[0;34m=\u001b[0m \u001b[0mnew_checker\u001b[0m\u001b[0;34m(\u001b[0m\u001b[0;34m[\u001b[0m\u001b[0mtexts\u001b[0m\u001b[0;34m[\u001b[0m\u001b[0;36m2330\u001b[0m\u001b[0;34m]\u001b[0m\u001b[0;34m]\u001b[0m\u001b[0;34m,\u001b[0m \u001b[0;34m[\u001b[0m\u001b[0mw\u001b[0m\u001b[0;34m]\u001b[0m\u001b[0;34m)\u001b[0m\u001b[0;34m\u001b[0m\u001b[0;34m\u001b[0m\u001b[0m\n\u001b[0m\u001b[1;32m      6\u001b[0m     \u001b[0;32mif\u001b[0m \u001b[0mbest_score\u001b[0m \u001b[0;34m<\u001b[0m \u001b[0msc\u001b[0m\u001b[0;34m:\u001b[0m\u001b[0;34m\u001b[0m\u001b[0;34m\u001b[0m\u001b[0m\n\u001b[1;32m      7\u001b[0m         \u001b[0mbest_score\u001b[0m \u001b[0;34m=\u001b[0m \u001b[0msc\u001b[0m\u001b[0;34m\u001b[0m\u001b[0;34m\u001b[0m\u001b[0m\n",
            "\u001b[0;32m<ipython-input-79-374bf957b53f>\u001b[0m in \u001b[0;36mnew_checker\u001b[0;34m(original_texts, fixed_texts, device, show_res, return_result)\u001b[0m\n\u001b[1;32m    261\u001b[0m         \u001b[0;32mif\u001b[0m \u001b[0mreturn_result\u001b[0m\u001b[0;34m:\u001b[0m\u001b[0;34m\u001b[0m\u001b[0;34m\u001b[0m\u001b[0m\n\u001b[1;32m    262\u001b[0m             \u001b[0;32mreturn\u001b[0m \u001b[0mcompute_score\u001b[0m\u001b[0;34m(\u001b[0m\u001b[0moriginal_texts\u001b[0m\u001b[0;34m,\u001b[0m \u001b[0mfixed_texts\u001b[0m\u001b[0;34m,\u001b[0m \u001b[0mshow_res\u001b[0m \u001b[0;34m=\u001b[0m \u001b[0mshow_res\u001b[0m\u001b[0;34m,\u001b[0m \u001b[0mreturn_result\u001b[0m\u001b[0;34m=\u001b[0m\u001b[0mreturn_result\u001b[0m\u001b[0;34m)\u001b[0m\u001b[0;34m\u001b[0m\u001b[0;34m\u001b[0m\u001b[0m\n\u001b[0;32m--> 263\u001b[0;31m         \u001b[0;32mreturn\u001b[0m \u001b[0;34m(\u001b[0m\u001b[0;36m100\u001b[0m \u001b[0;34m*\u001b[0m \u001b[0mcompute_score\u001b[0m\u001b[0;34m(\u001b[0m\u001b[0moriginal_texts\u001b[0m\u001b[0;34m,\u001b[0m \u001b[0mfixed_texts\u001b[0m\u001b[0;34m,\u001b[0m \u001b[0mshow_res\u001b[0m \u001b[0;34m=\u001b[0m \u001b[0mshow_res\u001b[0m\u001b[0;34m)\u001b[0m\u001b[0;34m)\u001b[0m\u001b[0;34m\u001b[0m\u001b[0;34m\u001b[0m\u001b[0m\n\u001b[0m",
            "\u001b[0;32m<ipython-input-79-374bf957b53f>\u001b[0m in \u001b[0;36mcompute_score\u001b[0;34m(original_sentences, fixed_sentences, threshold, batch_size, show_res, return_result)\u001b[0m\n\u001b[1;32m    205\u001b[0m \u001b[0;34m\u001b[0m\u001b[0m\n\u001b[1;32m    206\u001b[0m \u001b[0;32mdef\u001b[0m \u001b[0mcompute_score\u001b[0m\u001b[0;34m(\u001b[0m\u001b[0moriginal_sentences\u001b[0m\u001b[0;34m,\u001b[0m \u001b[0mfixed_sentences\u001b[0m\u001b[0;34m,\u001b[0m \u001b[0mthreshold\u001b[0m\u001b[0;34m=\u001b[0m\u001b[0;36m0.5\u001b[0m\u001b[0;34m,\u001b[0m \u001b[0mbatch_size\u001b[0m\u001b[0;34m=\u001b[0m\u001b[0;36m5\u001b[0m\u001b[0;34m,\u001b[0m \u001b[0mshow_res\u001b[0m \u001b[0;34m=\u001b[0m \u001b[0;32mFalse\u001b[0m\u001b[0;34m,\u001b[0m \u001b[0mreturn_result\u001b[0m \u001b[0;34m=\u001b[0m \u001b[0;32mFalse\u001b[0m\u001b[0;34m)\u001b[0m\u001b[0;34m:\u001b[0m\u001b[0;34m\u001b[0m\u001b[0;34m\u001b[0m\u001b[0m\n\u001b[0;32m--> 207\u001b[0;31m     \u001b[0mfixed_toxicities\u001b[0m \u001b[0;34m=\u001b[0m \u001b[0mpredict_toxicity_1\u001b[0m\u001b[0;34m(\u001b[0m\u001b[0mfixed_sentences\u001b[0m\u001b[0;34m,\u001b[0m \u001b[0mthreshold\u001b[0m\u001b[0;34m=\u001b[0m\u001b[0mthreshold\u001b[0m\u001b[0;34m,\u001b[0m \u001b[0mbatch_size\u001b[0m\u001b[0;34m=\u001b[0m\u001b[0mbatch_size\u001b[0m\u001b[0;34m,\u001b[0m \u001b[0mreturn_scores\u001b[0m\u001b[0;34m=\u001b[0m\u001b[0;32mTrue\u001b[0m\u001b[0;34m)\u001b[0m\u001b[0;34m\u001b[0m\u001b[0;34m\u001b[0m\u001b[0m\n\u001b[0m\u001b[1;32m    208\u001b[0m     \u001b[0mscores\u001b[0m \u001b[0;34m=\u001b[0m \u001b[0;34m[\u001b[0m\u001b[0;34m]\u001b[0m\u001b[0;34m\u001b[0m\u001b[0;34m\u001b[0m\u001b[0m\n\u001b[1;32m    209\u001b[0m     \u001b[0mlmdiffs\u001b[0m \u001b[0;34m=\u001b[0m \u001b[0;34m[\u001b[0m\u001b[0;34m]\u001b[0m\u001b[0;34m\u001b[0m\u001b[0;34m\u001b[0m\u001b[0m\n",
            "\u001b[0;32m<ipython-input-79-374bf957b53f>\u001b[0m in \u001b[0;36mpredict_toxicity_1\u001b[0;34m(sentences, batch_size, threshold, return_scores, verbose, device)\u001b[0m\n\u001b[1;32m     88\u001b[0m         \u001b[0mtokenized\u001b[0m \u001b[0;34m=\u001b[0m \u001b[0mtokenizer\u001b[0m\u001b[0;34m(\u001b[0m\u001b[0mnormlized\u001b[0m\u001b[0;34m,\u001b[0m \u001b[0mreturn_tensors\u001b[0m\u001b[0;34m=\u001b[0m\u001b[0;34m'pt'\u001b[0m\u001b[0;34m,\u001b[0m \u001b[0mpadding\u001b[0m\u001b[0;34m=\u001b[0m\u001b[0;32mTrue\u001b[0m\u001b[0;34m,\u001b[0m \u001b[0mmax_length\u001b[0m\u001b[0;34m=\u001b[0m\u001b[0;36m512\u001b[0m\u001b[0;34m,\u001b[0m \u001b[0mtruncation\u001b[0m\u001b[0;34m=\u001b[0m\u001b[0;32mTrue\u001b[0m\u001b[0;34m)\u001b[0m\u001b[0;34m\u001b[0m\u001b[0;34m\u001b[0m\u001b[0m\n\u001b[1;32m     89\u001b[0m \u001b[0;34m\u001b[0m\u001b[0m\n\u001b[0;32m---> 90\u001b[0;31m         \u001b[0mlogits\u001b[0m \u001b[0;34m=\u001b[0m \u001b[0mmodel\u001b[0m\u001b[0;34m.\u001b[0m\u001b[0mto\u001b[0m\u001b[0;34m(\u001b[0m\u001b[0mdevice\u001b[0m\u001b[0;34m)\u001b[0m\u001b[0;34m(\u001b[0m\u001b[0;34m**\u001b[0m\u001b[0;34m{\u001b[0m\u001b[0mkey\u001b[0m\u001b[0;34m:\u001b[0m \u001b[0mval\u001b[0m\u001b[0;34m.\u001b[0m\u001b[0mto\u001b[0m\u001b[0;34m(\u001b[0m\u001b[0mdevice\u001b[0m\u001b[0;34m)\u001b[0m \u001b[0;32mfor\u001b[0m \u001b[0mkey\u001b[0m\u001b[0;34m,\u001b[0m \u001b[0mval\u001b[0m \u001b[0;32min\u001b[0m \u001b[0mtokenized\u001b[0m\u001b[0;34m.\u001b[0m\u001b[0mitems\u001b[0m\u001b[0;34m(\u001b[0m\u001b[0;34m)\u001b[0m\u001b[0;34m}\u001b[0m\u001b[0;34m)\u001b[0m\u001b[0;34m.\u001b[0m\u001b[0mlogits\u001b[0m\u001b[0;34m\u001b[0m\u001b[0;34m\u001b[0m\u001b[0m\n\u001b[0m\u001b[1;32m     91\u001b[0m         \u001b[0mpreds\u001b[0m \u001b[0;34m=\u001b[0m \u001b[0mlogits_to_toxic_probas\u001b[0m\u001b[0;34m(\u001b[0m\u001b[0mlogits\u001b[0m\u001b[0;34m)\u001b[0m\u001b[0;34m\u001b[0m\u001b[0;34m\u001b[0m\u001b[0m\n\u001b[1;32m     92\u001b[0m         \u001b[0;32mif\u001b[0m \u001b[0;32mnot\u001b[0m \u001b[0mreturn_scores\u001b[0m\u001b[0;34m:\u001b[0m\u001b[0;34m\u001b[0m\u001b[0;34m\u001b[0m\u001b[0m\n",
            "\u001b[0;32m/usr/local/lib/python3.7/dist-packages/torch/nn/modules/module.py\u001b[0m in \u001b[0;36m_call_impl\u001b[0;34m(self, *input, **kwargs)\u001b[0m\n\u001b[1;32m   1049\u001b[0m         if not (self._backward_hooks or self._forward_hooks or self._forward_pre_hooks or _global_backward_hooks\n\u001b[1;32m   1050\u001b[0m                 or _global_forward_hooks or _global_forward_pre_hooks):\n\u001b[0;32m-> 1051\u001b[0;31m             \u001b[0;32mreturn\u001b[0m \u001b[0mforward_call\u001b[0m\u001b[0;34m(\u001b[0m\u001b[0;34m*\u001b[0m\u001b[0minput\u001b[0m\u001b[0;34m,\u001b[0m \u001b[0;34m**\u001b[0m\u001b[0mkwargs\u001b[0m\u001b[0;34m)\u001b[0m\u001b[0;34m\u001b[0m\u001b[0;34m\u001b[0m\u001b[0m\n\u001b[0m\u001b[1;32m   1052\u001b[0m         \u001b[0;31m# Do not call functions when jit is used\u001b[0m\u001b[0;34m\u001b[0m\u001b[0;34m\u001b[0m\u001b[0;34m\u001b[0m\u001b[0m\n\u001b[1;32m   1053\u001b[0m         \u001b[0mfull_backward_hooks\u001b[0m\u001b[0;34m,\u001b[0m \u001b[0mnon_full_backward_hooks\u001b[0m \u001b[0;34m=\u001b[0m \u001b[0;34m[\u001b[0m\u001b[0;34m]\u001b[0m\u001b[0;34m,\u001b[0m \u001b[0;34m[\u001b[0m\u001b[0;34m]\u001b[0m\u001b[0;34m\u001b[0m\u001b[0;34m\u001b[0m\u001b[0m\n",
            "\u001b[0;32m/usr/local/lib/python3.7/dist-packages/transformers/models/roberta/modeling_roberta.py\u001b[0m in \u001b[0;36mforward\u001b[0;34m(self, input_ids, attention_mask, token_type_ids, position_ids, head_mask, inputs_embeds, labels, output_attentions, output_hidden_states, return_dict)\u001b[0m\n\u001b[1;32m   1205\u001b[0m             \u001b[0moutput_attentions\u001b[0m\u001b[0;34m=\u001b[0m\u001b[0moutput_attentions\u001b[0m\u001b[0;34m,\u001b[0m\u001b[0;34m\u001b[0m\u001b[0;34m\u001b[0m\u001b[0m\n\u001b[1;32m   1206\u001b[0m             \u001b[0moutput_hidden_states\u001b[0m\u001b[0;34m=\u001b[0m\u001b[0moutput_hidden_states\u001b[0m\u001b[0;34m,\u001b[0m\u001b[0;34m\u001b[0m\u001b[0;34m\u001b[0m\u001b[0m\n\u001b[0;32m-> 1207\u001b[0;31m             \u001b[0mreturn_dict\u001b[0m\u001b[0;34m=\u001b[0m\u001b[0mreturn_dict\u001b[0m\u001b[0;34m,\u001b[0m\u001b[0;34m\u001b[0m\u001b[0;34m\u001b[0m\u001b[0m\n\u001b[0m\u001b[1;32m   1208\u001b[0m         )\n\u001b[1;32m   1209\u001b[0m         \u001b[0msequence_output\u001b[0m \u001b[0;34m=\u001b[0m \u001b[0moutputs\u001b[0m\u001b[0;34m[\u001b[0m\u001b[0;36m0\u001b[0m\u001b[0;34m]\u001b[0m\u001b[0;34m\u001b[0m\u001b[0;34m\u001b[0m\u001b[0m\n",
            "\u001b[0;32m/usr/local/lib/python3.7/dist-packages/torch/nn/modules/module.py\u001b[0m in \u001b[0;36m_call_impl\u001b[0;34m(self, *input, **kwargs)\u001b[0m\n\u001b[1;32m   1049\u001b[0m         if not (self._backward_hooks or self._forward_hooks or self._forward_pre_hooks or _global_backward_hooks\n\u001b[1;32m   1050\u001b[0m                 or _global_forward_hooks or _global_forward_pre_hooks):\n\u001b[0;32m-> 1051\u001b[0;31m             \u001b[0;32mreturn\u001b[0m \u001b[0mforward_call\u001b[0m\u001b[0;34m(\u001b[0m\u001b[0;34m*\u001b[0m\u001b[0minput\u001b[0m\u001b[0;34m,\u001b[0m \u001b[0;34m**\u001b[0m\u001b[0mkwargs\u001b[0m\u001b[0;34m)\u001b[0m\u001b[0;34m\u001b[0m\u001b[0;34m\u001b[0m\u001b[0m\n\u001b[0m\u001b[1;32m   1052\u001b[0m         \u001b[0;31m# Do not call functions when jit is used\u001b[0m\u001b[0;34m\u001b[0m\u001b[0;34m\u001b[0m\u001b[0;34m\u001b[0m\u001b[0m\n\u001b[1;32m   1053\u001b[0m         \u001b[0mfull_backward_hooks\u001b[0m\u001b[0;34m,\u001b[0m \u001b[0mnon_full_backward_hooks\u001b[0m \u001b[0;34m=\u001b[0m \u001b[0;34m[\u001b[0m\u001b[0;34m]\u001b[0m\u001b[0;34m,\u001b[0m \u001b[0;34m[\u001b[0m\u001b[0;34m]\u001b[0m\u001b[0;34m\u001b[0m\u001b[0;34m\u001b[0m\u001b[0m\n",
            "\u001b[0;32m/usr/local/lib/python3.7/dist-packages/transformers/models/roberta/modeling_roberta.py\u001b[0m in \u001b[0;36mforward\u001b[0;34m(self, input_ids, attention_mask, token_type_ids, position_ids, head_mask, inputs_embeds, encoder_hidden_states, encoder_attention_mask, past_key_values, use_cache, output_attentions, output_hidden_states, return_dict)\u001b[0m\n\u001b[1;32m    856\u001b[0m             \u001b[0moutput_attentions\u001b[0m\u001b[0;34m=\u001b[0m\u001b[0moutput_attentions\u001b[0m\u001b[0;34m,\u001b[0m\u001b[0;34m\u001b[0m\u001b[0;34m\u001b[0m\u001b[0m\n\u001b[1;32m    857\u001b[0m             \u001b[0moutput_hidden_states\u001b[0m\u001b[0;34m=\u001b[0m\u001b[0moutput_hidden_states\u001b[0m\u001b[0;34m,\u001b[0m\u001b[0;34m\u001b[0m\u001b[0;34m\u001b[0m\u001b[0m\n\u001b[0;32m--> 858\u001b[0;31m             \u001b[0mreturn_dict\u001b[0m\u001b[0;34m=\u001b[0m\u001b[0mreturn_dict\u001b[0m\u001b[0;34m,\u001b[0m\u001b[0;34m\u001b[0m\u001b[0;34m\u001b[0m\u001b[0m\n\u001b[0m\u001b[1;32m    859\u001b[0m         )\n\u001b[1;32m    860\u001b[0m         \u001b[0msequence_output\u001b[0m \u001b[0;34m=\u001b[0m \u001b[0mencoder_outputs\u001b[0m\u001b[0;34m[\u001b[0m\u001b[0;36m0\u001b[0m\u001b[0;34m]\u001b[0m\u001b[0;34m\u001b[0m\u001b[0;34m\u001b[0m\u001b[0m\n",
            "\u001b[0;32m/usr/local/lib/python3.7/dist-packages/torch/nn/modules/module.py\u001b[0m in \u001b[0;36m_call_impl\u001b[0;34m(self, *input, **kwargs)\u001b[0m\n\u001b[1;32m   1049\u001b[0m         if not (self._backward_hooks or self._forward_hooks or self._forward_pre_hooks or _global_backward_hooks\n\u001b[1;32m   1050\u001b[0m                 or _global_forward_hooks or _global_forward_pre_hooks):\n\u001b[0;32m-> 1051\u001b[0;31m             \u001b[0;32mreturn\u001b[0m \u001b[0mforward_call\u001b[0m\u001b[0;34m(\u001b[0m\u001b[0;34m*\u001b[0m\u001b[0minput\u001b[0m\u001b[0;34m,\u001b[0m \u001b[0;34m**\u001b[0m\u001b[0mkwargs\u001b[0m\u001b[0;34m)\u001b[0m\u001b[0;34m\u001b[0m\u001b[0;34m\u001b[0m\u001b[0m\n\u001b[0m\u001b[1;32m   1052\u001b[0m         \u001b[0;31m# Do not call functions when jit is used\u001b[0m\u001b[0;34m\u001b[0m\u001b[0;34m\u001b[0m\u001b[0;34m\u001b[0m\u001b[0m\n\u001b[1;32m   1053\u001b[0m         \u001b[0mfull_backward_hooks\u001b[0m\u001b[0;34m,\u001b[0m \u001b[0mnon_full_backward_hooks\u001b[0m \u001b[0;34m=\u001b[0m \u001b[0;34m[\u001b[0m\u001b[0;34m]\u001b[0m\u001b[0;34m,\u001b[0m \u001b[0;34m[\u001b[0m\u001b[0;34m]\u001b[0m\u001b[0;34m\u001b[0m\u001b[0;34m\u001b[0m\u001b[0m\n",
            "\u001b[0;32m/usr/local/lib/python3.7/dist-packages/transformers/models/roberta/modeling_roberta.py\u001b[0m in \u001b[0;36mforward\u001b[0;34m(self, hidden_states, attention_mask, head_mask, encoder_hidden_states, encoder_attention_mask, past_key_values, use_cache, output_attentions, output_hidden_states, return_dict)\u001b[0m\n\u001b[1;32m    527\u001b[0m                     \u001b[0mencoder_attention_mask\u001b[0m\u001b[0;34m,\u001b[0m\u001b[0;34m\u001b[0m\u001b[0;34m\u001b[0m\u001b[0m\n\u001b[1;32m    528\u001b[0m                     \u001b[0mpast_key_value\u001b[0m\u001b[0;34m,\u001b[0m\u001b[0;34m\u001b[0m\u001b[0;34m\u001b[0m\u001b[0m\n\u001b[0;32m--> 529\u001b[0;31m                     \u001b[0moutput_attentions\u001b[0m\u001b[0;34m,\u001b[0m\u001b[0;34m\u001b[0m\u001b[0;34m\u001b[0m\u001b[0m\n\u001b[0m\u001b[1;32m    530\u001b[0m                 )\n\u001b[1;32m    531\u001b[0m \u001b[0;34m\u001b[0m\u001b[0m\n",
            "\u001b[0;32m/usr/local/lib/python3.7/dist-packages/torch/nn/modules/module.py\u001b[0m in \u001b[0;36m_call_impl\u001b[0;34m(self, *input, **kwargs)\u001b[0m\n\u001b[1;32m   1049\u001b[0m         if not (self._backward_hooks or self._forward_hooks or self._forward_pre_hooks or _global_backward_hooks\n\u001b[1;32m   1050\u001b[0m                 or _global_forward_hooks or _global_forward_pre_hooks):\n\u001b[0;32m-> 1051\u001b[0;31m             \u001b[0;32mreturn\u001b[0m \u001b[0mforward_call\u001b[0m\u001b[0;34m(\u001b[0m\u001b[0;34m*\u001b[0m\u001b[0minput\u001b[0m\u001b[0;34m,\u001b[0m \u001b[0;34m**\u001b[0m\u001b[0mkwargs\u001b[0m\u001b[0;34m)\u001b[0m\u001b[0;34m\u001b[0m\u001b[0;34m\u001b[0m\u001b[0m\n\u001b[0m\u001b[1;32m   1052\u001b[0m         \u001b[0;31m# Do not call functions when jit is used\u001b[0m\u001b[0;34m\u001b[0m\u001b[0;34m\u001b[0m\u001b[0;34m\u001b[0m\u001b[0m\n\u001b[1;32m   1053\u001b[0m         \u001b[0mfull_backward_hooks\u001b[0m\u001b[0;34m,\u001b[0m \u001b[0mnon_full_backward_hooks\u001b[0m \u001b[0;34m=\u001b[0m \u001b[0;34m[\u001b[0m\u001b[0;34m]\u001b[0m\u001b[0;34m,\u001b[0m \u001b[0;34m[\u001b[0m\u001b[0;34m]\u001b[0m\u001b[0;34m\u001b[0m\u001b[0;34m\u001b[0m\u001b[0m\n",
            "\u001b[0;32m/usr/local/lib/python3.7/dist-packages/transformers/models/roberta/modeling_roberta.py\u001b[0m in \u001b[0;36mforward\u001b[0;34m(self, hidden_states, attention_mask, head_mask, encoder_hidden_states, encoder_attention_mask, past_key_value, output_attentions)\u001b[0m\n\u001b[1;32m    448\u001b[0m \u001b[0;34m\u001b[0m\u001b[0m\n\u001b[1;32m    449\u001b[0m         layer_output = apply_chunking_to_forward(\n\u001b[0;32m--> 450\u001b[0;31m             \u001b[0mself\u001b[0m\u001b[0;34m.\u001b[0m\u001b[0mfeed_forward_chunk\u001b[0m\u001b[0;34m,\u001b[0m \u001b[0mself\u001b[0m\u001b[0;34m.\u001b[0m\u001b[0mchunk_size_feed_forward\u001b[0m\u001b[0;34m,\u001b[0m \u001b[0mself\u001b[0m\u001b[0;34m.\u001b[0m\u001b[0mseq_len_dim\u001b[0m\u001b[0;34m,\u001b[0m \u001b[0mattention_output\u001b[0m\u001b[0;34m\u001b[0m\u001b[0;34m\u001b[0m\u001b[0m\n\u001b[0m\u001b[1;32m    451\u001b[0m         )\n\u001b[1;32m    452\u001b[0m         \u001b[0moutputs\u001b[0m \u001b[0;34m=\u001b[0m \u001b[0;34m(\u001b[0m\u001b[0mlayer_output\u001b[0m\u001b[0;34m,\u001b[0m\u001b[0;34m)\u001b[0m \u001b[0;34m+\u001b[0m \u001b[0moutputs\u001b[0m\u001b[0;34m\u001b[0m\u001b[0;34m\u001b[0m\u001b[0m\n",
            "\u001b[0;32m/usr/local/lib/python3.7/dist-packages/transformers/modeling_utils.py\u001b[0m in \u001b[0;36mapply_chunking_to_forward\u001b[0;34m(forward_fn, chunk_size, chunk_dim, *input_tensors)\u001b[0m\n\u001b[1;32m   2297\u001b[0m \u001b[0;34m\u001b[0m\u001b[0m\n\u001b[1;32m   2298\u001b[0m     \u001b[0;31m# inspect.signature exist since python 3.5 and is a python method -> no problem with backward compatibility\u001b[0m\u001b[0;34m\u001b[0m\u001b[0;34m\u001b[0m\u001b[0;34m\u001b[0m\u001b[0m\n\u001b[0;32m-> 2299\u001b[0;31m     \u001b[0mnum_args_in_forward_chunk_fn\u001b[0m \u001b[0;34m=\u001b[0m \u001b[0mlen\u001b[0m\u001b[0;34m(\u001b[0m\u001b[0minspect\u001b[0m\u001b[0;34m.\u001b[0m\u001b[0msignature\u001b[0m\u001b[0;34m(\u001b[0m\u001b[0mforward_fn\u001b[0m\u001b[0;34m)\u001b[0m\u001b[0;34m.\u001b[0m\u001b[0mparameters\u001b[0m\u001b[0;34m)\u001b[0m\u001b[0;34m\u001b[0m\u001b[0;34m\u001b[0m\u001b[0m\n\u001b[0m\u001b[1;32m   2300\u001b[0m     \u001b[0;32mif\u001b[0m \u001b[0mnum_args_in_forward_chunk_fn\u001b[0m \u001b[0;34m!=\u001b[0m \u001b[0mlen\u001b[0m\u001b[0;34m(\u001b[0m\u001b[0minput_tensors\u001b[0m\u001b[0;34m)\u001b[0m\u001b[0;34m:\u001b[0m\u001b[0;34m\u001b[0m\u001b[0;34m\u001b[0m\u001b[0m\n\u001b[1;32m   2301\u001b[0m         raise ValueError(\n",
            "\u001b[0;32m/usr/lib/python3.7/inspect.py\u001b[0m in \u001b[0;36msignature\u001b[0;34m(obj, follow_wrapped)\u001b[0m\n\u001b[1;32m   3081\u001b[0m \u001b[0;32mdef\u001b[0m \u001b[0msignature\u001b[0m\u001b[0;34m(\u001b[0m\u001b[0mobj\u001b[0m\u001b[0;34m,\u001b[0m \u001b[0;34m*\u001b[0m\u001b[0;34m,\u001b[0m \u001b[0mfollow_wrapped\u001b[0m\u001b[0;34m=\u001b[0m\u001b[0;32mTrue\u001b[0m\u001b[0;34m)\u001b[0m\u001b[0;34m:\u001b[0m\u001b[0;34m\u001b[0m\u001b[0;34m\u001b[0m\u001b[0m\n\u001b[1;32m   3082\u001b[0m     \u001b[0;34m\"\"\"Get a signature object for the passed callable.\"\"\"\u001b[0m\u001b[0;34m\u001b[0m\u001b[0;34m\u001b[0m\u001b[0m\n\u001b[0;32m-> 3083\u001b[0;31m     \u001b[0;32mreturn\u001b[0m \u001b[0mSignature\u001b[0m\u001b[0;34m.\u001b[0m\u001b[0mfrom_callable\u001b[0m\u001b[0;34m(\u001b[0m\u001b[0mobj\u001b[0m\u001b[0;34m,\u001b[0m \u001b[0mfollow_wrapped\u001b[0m\u001b[0;34m=\u001b[0m\u001b[0mfollow_wrapped\u001b[0m\u001b[0;34m)\u001b[0m\u001b[0;34m\u001b[0m\u001b[0;34m\u001b[0m\u001b[0m\n\u001b[0m\u001b[1;32m   3084\u001b[0m \u001b[0;34m\u001b[0m\u001b[0m\n\u001b[1;32m   3085\u001b[0m \u001b[0;34m\u001b[0m\u001b[0m\n",
            "\u001b[0;32m/usr/lib/python3.7/inspect.py\u001b[0m in \u001b[0;36mfrom_callable\u001b[0;34m(cls, obj, follow_wrapped)\u001b[0m\n\u001b[1;32m   2831\u001b[0m         \u001b[0;34m\"\"\"Constructs Signature for the given callable object.\"\"\"\u001b[0m\u001b[0;34m\u001b[0m\u001b[0;34m\u001b[0m\u001b[0m\n\u001b[1;32m   2832\u001b[0m         return _signature_from_callable(obj, sigcls=cls,\n\u001b[0;32m-> 2833\u001b[0;31m                                         follow_wrapper_chains=follow_wrapped)\n\u001b[0m\u001b[1;32m   2834\u001b[0m \u001b[0;34m\u001b[0m\u001b[0m\n\u001b[1;32m   2835\u001b[0m     \u001b[0;34m@\u001b[0m\u001b[0mproperty\u001b[0m\u001b[0;34m\u001b[0m\u001b[0;34m\u001b[0m\u001b[0m\n",
            "\u001b[0;32m/usr/lib/python3.7/inspect.py\u001b[0m in \u001b[0;36m_signature_from_callable\u001b[0;34m(obj, follow_wrapper_chains, skip_bound_arg, sigcls)\u001b[0m\n\u001b[1;32m   2215\u001b[0m             \u001b[0mfollow_wrapper_chains\u001b[0m\u001b[0;34m=\u001b[0m\u001b[0mfollow_wrapper_chains\u001b[0m\u001b[0;34m,\u001b[0m\u001b[0;34m\u001b[0m\u001b[0;34m\u001b[0m\u001b[0m\n\u001b[1;32m   2216\u001b[0m             \u001b[0mskip_bound_arg\u001b[0m\u001b[0;34m=\u001b[0m\u001b[0mskip_bound_arg\u001b[0m\u001b[0;34m,\u001b[0m\u001b[0;34m\u001b[0m\u001b[0;34m\u001b[0m\u001b[0m\n\u001b[0;32m-> 2217\u001b[0;31m             sigcls=sigcls)\n\u001b[0m\u001b[1;32m   2218\u001b[0m \u001b[0;34m\u001b[0m\u001b[0m\n\u001b[1;32m   2219\u001b[0m         \u001b[0;32mif\u001b[0m \u001b[0mskip_bound_arg\u001b[0m\u001b[0;34m:\u001b[0m\u001b[0;34m\u001b[0m\u001b[0;34m\u001b[0m\u001b[0m\n",
            "\u001b[0;32m/usr/lib/python3.7/inspect.py\u001b[0m in \u001b[0;36m_signature_from_callable\u001b[0;34m(obj, follow_wrapper_chains, skip_bound_arg, sigcls)\u001b[0m\n\u001b[1;32m   2282\u001b[0m         \u001b[0;31m# If it's a pure Python function, or an object that is duck type\u001b[0m\u001b[0;34m\u001b[0m\u001b[0;34m\u001b[0m\u001b[0;34m\u001b[0m\u001b[0m\n\u001b[1;32m   2283\u001b[0m         \u001b[0;31m# of a Python function (Cython functions, for instance), then:\u001b[0m\u001b[0;34m\u001b[0m\u001b[0;34m\u001b[0m\u001b[0;34m\u001b[0m\u001b[0m\n\u001b[0;32m-> 2284\u001b[0;31m         \u001b[0;32mreturn\u001b[0m \u001b[0m_signature_from_function\u001b[0m\u001b[0;34m(\u001b[0m\u001b[0msigcls\u001b[0m\u001b[0;34m,\u001b[0m \u001b[0mobj\u001b[0m\u001b[0;34m)\u001b[0m\u001b[0;34m\u001b[0m\u001b[0;34m\u001b[0m\u001b[0m\n\u001b[0m\u001b[1;32m   2285\u001b[0m \u001b[0;34m\u001b[0m\u001b[0m\n\u001b[1;32m   2286\u001b[0m     \u001b[0;32mif\u001b[0m \u001b[0m_signature_is_builtin\u001b[0m\u001b[0;34m(\u001b[0m\u001b[0mobj\u001b[0m\u001b[0;34m)\u001b[0m\u001b[0;34m:\u001b[0m\u001b[0;34m\u001b[0m\u001b[0;34m\u001b[0m\u001b[0m\n",
            "\u001b[0;32m/usr/lib/python3.7/inspect.py\u001b[0m in \u001b[0;36m_signature_from_function\u001b[0;34m(cls, func)\u001b[0m\n\u001b[1;32m   2152\u001b[0m         \u001b[0mannotation\u001b[0m \u001b[0;34m=\u001b[0m \u001b[0mannotations\u001b[0m\u001b[0;34m.\u001b[0m\u001b[0mget\u001b[0m\u001b[0;34m(\u001b[0m\u001b[0mname\u001b[0m\u001b[0;34m,\u001b[0m \u001b[0m_empty\u001b[0m\u001b[0;34m)\u001b[0m\u001b[0;34m\u001b[0m\u001b[0;34m\u001b[0m\u001b[0m\n\u001b[1;32m   2153\u001b[0m         parameters.append(Parameter(name, annotation=annotation,\n\u001b[0;32m-> 2154\u001b[0;31m                                     kind=_POSITIONAL_OR_KEYWORD))\n\u001b[0m\u001b[1;32m   2155\u001b[0m \u001b[0;34m\u001b[0m\u001b[0m\n\u001b[1;32m   2156\u001b[0m     \u001b[0;31m# ... w/ defaults.\u001b[0m\u001b[0;34m\u001b[0m\u001b[0;34m\u001b[0m\u001b[0;34m\u001b[0m\u001b[0m\n",
            "\u001b[0;32m/usr/lib/python3.7/inspect.py\u001b[0m in \u001b[0;36m__init__\u001b[0;34m(self, name, kind, default, annotation)\u001b[0m\n\u001b[1;32m   2467\u001b[0m     \u001b[0;32mdef\u001b[0m \u001b[0m__init__\u001b[0m\u001b[0;34m(\u001b[0m\u001b[0mself\u001b[0m\u001b[0;34m,\u001b[0m \u001b[0mname\u001b[0m\u001b[0;34m,\u001b[0m \u001b[0mkind\u001b[0m\u001b[0;34m,\u001b[0m \u001b[0;34m*\u001b[0m\u001b[0;34m,\u001b[0m \u001b[0mdefault\u001b[0m\u001b[0;34m=\u001b[0m\u001b[0m_empty\u001b[0m\u001b[0;34m,\u001b[0m \u001b[0mannotation\u001b[0m\u001b[0;34m=\u001b[0m\u001b[0m_empty\u001b[0m\u001b[0;34m)\u001b[0m\u001b[0;34m:\u001b[0m\u001b[0;34m\u001b[0m\u001b[0;34m\u001b[0m\u001b[0m\n\u001b[1;32m   2468\u001b[0m         \u001b[0;32mtry\u001b[0m\u001b[0;34m:\u001b[0m\u001b[0;34m\u001b[0m\u001b[0;34m\u001b[0m\u001b[0m\n\u001b[0;32m-> 2469\u001b[0;31m             \u001b[0mself\u001b[0m\u001b[0;34m.\u001b[0m\u001b[0m_kind\u001b[0m \u001b[0;34m=\u001b[0m \u001b[0m_ParameterKind\u001b[0m\u001b[0;34m(\u001b[0m\u001b[0mkind\u001b[0m\u001b[0;34m)\u001b[0m\u001b[0;34m\u001b[0m\u001b[0;34m\u001b[0m\u001b[0m\n\u001b[0m\u001b[1;32m   2470\u001b[0m         \u001b[0;32mexcept\u001b[0m \u001b[0mValueError\u001b[0m\u001b[0;34m:\u001b[0m\u001b[0;34m\u001b[0m\u001b[0;34m\u001b[0m\u001b[0m\n\u001b[1;32m   2471\u001b[0m             \u001b[0;32mraise\u001b[0m \u001b[0mValueError\u001b[0m\u001b[0;34m(\u001b[0m\u001b[0;34mf'value {kind!r} is not a valid Parameter.kind'\u001b[0m\u001b[0;34m)\u001b[0m\u001b[0;34m\u001b[0m\u001b[0;34m\u001b[0m\u001b[0m\n",
            "\u001b[0;32m/usr/lib/python3.7/enum.py\u001b[0m in \u001b[0;36m__call__\u001b[0;34m(cls, value, names, module, qualname, type, start)\u001b[0m\n\u001b[1;32m    313\u001b[0m         \"\"\"\n\u001b[1;32m    314\u001b[0m         \u001b[0;32mif\u001b[0m \u001b[0mnames\u001b[0m \u001b[0;32mis\u001b[0m \u001b[0;32mNone\u001b[0m\u001b[0;34m:\u001b[0m  \u001b[0;31m# simple value lookup\u001b[0m\u001b[0;34m\u001b[0m\u001b[0;34m\u001b[0m\u001b[0m\n\u001b[0;32m--> 315\u001b[0;31m             \u001b[0;32mreturn\u001b[0m \u001b[0mcls\u001b[0m\u001b[0;34m.\u001b[0m\u001b[0m__new__\u001b[0m\u001b[0;34m(\u001b[0m\u001b[0mcls\u001b[0m\u001b[0;34m,\u001b[0m \u001b[0mvalue\u001b[0m\u001b[0;34m)\u001b[0m\u001b[0;34m\u001b[0m\u001b[0;34m\u001b[0m\u001b[0m\n\u001b[0m\u001b[1;32m    316\u001b[0m         \u001b[0;31m# otherwise, functional API: we're creating a new Enum type\u001b[0m\u001b[0;34m\u001b[0m\u001b[0;34m\u001b[0m\u001b[0;34m\u001b[0m\u001b[0m\n\u001b[1;32m    317\u001b[0m         \u001b[0;32mreturn\u001b[0m \u001b[0mcls\u001b[0m\u001b[0;34m.\u001b[0m\u001b[0m_create_\u001b[0m\u001b[0;34m(\u001b[0m\u001b[0mvalue\u001b[0m\u001b[0;34m,\u001b[0m \u001b[0mnames\u001b[0m\u001b[0;34m,\u001b[0m \u001b[0mmodule\u001b[0m\u001b[0;34m=\u001b[0m\u001b[0mmodule\u001b[0m\u001b[0;34m,\u001b[0m \u001b[0mqualname\u001b[0m\u001b[0;34m=\u001b[0m\u001b[0mqualname\u001b[0m\u001b[0;34m,\u001b[0m \u001b[0mtype\u001b[0m\u001b[0;34m=\u001b[0m\u001b[0mtype\u001b[0m\u001b[0;34m,\u001b[0m \u001b[0mstart\u001b[0m\u001b[0;34m=\u001b[0m\u001b[0mstart\u001b[0m\u001b[0;34m)\u001b[0m\u001b[0;34m\u001b[0m\u001b[0;34m\u001b[0m\u001b[0m\n",
            "\u001b[0;32m/usr/lib/python3.7/enum.py\u001b[0m in \u001b[0;36m__new__\u001b[0;34m(cls, value)\u001b[0m\n\u001b[1;32m    533\u001b[0m         \u001b[0;31m# without calling this method; this method is called by the metaclass'\u001b[0m\u001b[0;34m\u001b[0m\u001b[0;34m\u001b[0m\u001b[0;34m\u001b[0m\u001b[0m\n\u001b[1;32m    534\u001b[0m         \u001b[0;31m# __call__ (i.e. Color(3) ), and by pickle\u001b[0m\u001b[0;34m\u001b[0m\u001b[0;34m\u001b[0m\u001b[0;34m\u001b[0m\u001b[0m\n\u001b[0;32m--> 535\u001b[0;31m         \u001b[0;32mif\u001b[0m \u001b[0mtype\u001b[0m\u001b[0;34m(\u001b[0m\u001b[0mvalue\u001b[0m\u001b[0;34m)\u001b[0m \u001b[0;32mis\u001b[0m \u001b[0mcls\u001b[0m\u001b[0;34m:\u001b[0m\u001b[0;34m\u001b[0m\u001b[0;34m\u001b[0m\u001b[0m\n\u001b[0m\u001b[1;32m    536\u001b[0m             \u001b[0;31m# For lookups like Color(Color.RED)\u001b[0m\u001b[0;34m\u001b[0m\u001b[0;34m\u001b[0m\u001b[0;34m\u001b[0m\u001b[0m\n\u001b[1;32m    537\u001b[0m             \u001b[0;32mreturn\u001b[0m \u001b[0mvalue\u001b[0m\u001b[0;34m\u001b[0m\u001b[0;34m\u001b[0m\u001b[0m\n",
            "\u001b[0;31mKeyboardInterrupt\u001b[0m: "
          ]
        }
      ]
    },
    {
      "cell_type": "code",
      "metadata": {
        "id": "xoMfZZcuSC76"
      },
      "source": [
        "sorted_by_score = [[score, i, solution[i]] for i, score in enumerate(result[\"scores\"])]\n",
        "sorted_by_score.sort()\n",
        "for score, i, text in sorted_by_score:\n",
        "    print(i, score, text)"
      ],
      "id": "xoMfZZcuSC76",
      "execution_count": null,
      "outputs": []
    },
    {
      "cell_type": "markdown",
      "metadata": {
        "id": "1Iis-3crv-zT"
      },
      "source": [
        "##Для Online-решения"
      ],
      "id": "1Iis-3crv-zT"
    },
    {
      "cell_type": "code",
      "metadata": {
        "colab": {
          "base_uri": "https://localhost:8080/"
        },
        "id": "-hUl5okYzX7B",
        "outputId": "7f8974f0-e86d-4f17-b7f7-24d694ae5501"
      },
      "source": [
        "print(len(nontoxic_emb_inds))\n",
        "print(len(toxicity))"
      ],
      "id": "-hUl5okYzX7B",
      "execution_count": null,
      "outputs": [
        {
          "output_type": "stream",
          "name": "stdout",
          "text": [
            "162690\n",
            "162690\n"
          ]
        }
      ]
    },
    {
      "cell_type": "code",
      "metadata": {
        "id": "FrI00hyYnQ5p"
      },
      "source": [
        "import pickle as pkl\n",
        "\n",
        "with open(DRIVE_PATH + 'data.pkl', 'wb') as f:\n",
        "    pkl.dump(toxicity, f)\n",
        "    "
      ],
      "id": "FrI00hyYnQ5p",
      "execution_count": 76,
      "outputs": []
    },
    {
      "cell_type": "code",
      "metadata": {
        "colab": {
          "base_uri": "https://localhost:8080/"
        },
        "id": "Hspmr0IP1xbJ",
        "outputId": "82dc37c5-4500-499f-8940-0eb09ddc4bf1"
      },
      "source": [
        "len(toxicity)"
      ],
      "id": "Hspmr0IP1xbJ",
      "execution_count": 75,
      "outputs": [
        {
          "output_type": "execute_result",
          "data": {
            "text/plain": [
              "368527"
            ]
          },
          "metadata": {},
          "execution_count": 75
        }
      ]
    },
    {
      "cell_type": "markdown",
      "metadata": {
        "id": "7wtXSZn0nQ5p"
      },
      "source": [
        "Сохраним данные для бейзлайна online-задачи"
      ],
      "id": "7wtXSZn0nQ5p"
    }
  ]
}