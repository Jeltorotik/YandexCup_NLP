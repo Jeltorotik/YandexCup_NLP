{
  "nbformat": 4,
  "nbformat_minor": 0,
  "metadata": {
    "colab": {
      "name": "brand_new_solution.ipynb",
      "provenance": [],
      "collapsed_sections": []
    },
    "kernelspec": {
      "name": "python3",
      "display_name": "Python 3"
    },
    "language_info": {
      "name": "python"
    },
    "accelerator": "GPU",
    "widgets": {
      "application/vnd.jupyter.widget-state+json": {
        "34c04139f622484cb4e1ac818db80116": {
          "model_module": "@jupyter-widgets/controls",
          "model_name": "HBoxModel",
          "model_module_version": "1.5.0",
          "state": {
            "_view_name": "HBoxView",
            "_dom_classes": [],
            "_model_name": "HBoxModel",
            "_view_module": "@jupyter-widgets/controls",
            "_model_module_version": "1.5.0",
            "_view_count": null,
            "_view_module_version": "1.5.0",
            "box_style": "",
            "layout": "IPY_MODEL_365f164b445047b7850b5917e7326470",
            "_model_module": "@jupyter-widgets/controls",
            "children": [
              "IPY_MODEL_fa65206cf390479c91a976c83cd706ac",
              "IPY_MODEL_6930e008faea4eeea63d3e14e19c5f2c",
              "IPY_MODEL_5687a2f33afe42788eb533c4fa5d32ec"
            ]
          }
        },
        "365f164b445047b7850b5917e7326470": {
          "model_module": "@jupyter-widgets/base",
          "model_name": "LayoutModel",
          "model_module_version": "1.2.0",
          "state": {
            "_view_name": "LayoutView",
            "grid_template_rows": null,
            "right": null,
            "justify_content": null,
            "_view_module": "@jupyter-widgets/base",
            "overflow": null,
            "_model_module_version": "1.2.0",
            "_view_count": null,
            "flex_flow": null,
            "width": null,
            "min_width": null,
            "border": null,
            "align_items": null,
            "bottom": null,
            "_model_module": "@jupyter-widgets/base",
            "top": null,
            "grid_column": null,
            "overflow_y": null,
            "overflow_x": null,
            "grid_auto_flow": null,
            "grid_area": null,
            "grid_template_columns": null,
            "flex": null,
            "_model_name": "LayoutModel",
            "justify_items": null,
            "grid_row": null,
            "max_height": null,
            "align_content": null,
            "visibility": null,
            "align_self": null,
            "height": null,
            "min_height": null,
            "padding": null,
            "grid_auto_rows": null,
            "grid_gap": null,
            "max_width": null,
            "order": null,
            "_view_module_version": "1.2.0",
            "grid_template_areas": null,
            "object_position": null,
            "object_fit": null,
            "grid_auto_columns": null,
            "margin": null,
            "display": null,
            "left": null
          }
        },
        "fa65206cf390479c91a976c83cd706ac": {
          "model_module": "@jupyter-widgets/controls",
          "model_name": "HTMLModel",
          "model_module_version": "1.5.0",
          "state": {
            "_view_name": "HTMLView",
            "style": "IPY_MODEL_5a744bf155d5485aaf50d9706d4bd867",
            "_dom_classes": [],
            "description": "",
            "_model_name": "HTMLModel",
            "placeholder": "​",
            "_view_module": "@jupyter-widgets/controls",
            "_model_module_version": "1.5.0",
            "value": "100%",
            "_view_count": null,
            "_view_module_version": "1.5.0",
            "description_tooltip": null,
            "_model_module": "@jupyter-widgets/controls",
            "layout": "IPY_MODEL_210ba4cf9cfe488283b32d67aa839138"
          }
        },
        "6930e008faea4eeea63d3e14e19c5f2c": {
          "model_module": "@jupyter-widgets/controls",
          "model_name": "FloatProgressModel",
          "model_module_version": "1.5.0",
          "state": {
            "_view_name": "ProgressView",
            "style": "IPY_MODEL_0077414d18834a8a892bbc9c6a969efb",
            "_dom_classes": [],
            "description": "",
            "_model_name": "FloatProgressModel",
            "bar_style": "success",
            "max": 162690,
            "_view_module": "@jupyter-widgets/controls",
            "_model_module_version": "1.5.0",
            "value": 162690,
            "_view_count": null,
            "_view_module_version": "1.5.0",
            "orientation": "horizontal",
            "min": 0,
            "description_tooltip": null,
            "_model_module": "@jupyter-widgets/controls",
            "layout": "IPY_MODEL_c61fa32aae614e8fa77be82d71200959"
          }
        },
        "5687a2f33afe42788eb533c4fa5d32ec": {
          "model_module": "@jupyter-widgets/controls",
          "model_name": "HTMLModel",
          "model_module_version": "1.5.0",
          "state": {
            "_view_name": "HTMLView",
            "style": "IPY_MODEL_efe9bceef19046138a06fb211db472bd",
            "_dom_classes": [],
            "description": "",
            "_model_name": "HTMLModel",
            "placeholder": "​",
            "_view_module": "@jupyter-widgets/controls",
            "_model_module_version": "1.5.0",
            "value": " 162690/162690 [00:20&lt;00:00, 7670.49it/s]",
            "_view_count": null,
            "_view_module_version": "1.5.0",
            "description_tooltip": null,
            "_model_module": "@jupyter-widgets/controls",
            "layout": "IPY_MODEL_9bd6e15598164596ac1b5a7dd647ea98"
          }
        },
        "5a744bf155d5485aaf50d9706d4bd867": {
          "model_module": "@jupyter-widgets/controls",
          "model_name": "DescriptionStyleModel",
          "model_module_version": "1.5.0",
          "state": {
            "_view_name": "StyleView",
            "_model_name": "DescriptionStyleModel",
            "description_width": "",
            "_view_module": "@jupyter-widgets/base",
            "_model_module_version": "1.5.0",
            "_view_count": null,
            "_view_module_version": "1.2.0",
            "_model_module": "@jupyter-widgets/controls"
          }
        },
        "210ba4cf9cfe488283b32d67aa839138": {
          "model_module": "@jupyter-widgets/base",
          "model_name": "LayoutModel",
          "model_module_version": "1.2.0",
          "state": {
            "_view_name": "LayoutView",
            "grid_template_rows": null,
            "right": null,
            "justify_content": null,
            "_view_module": "@jupyter-widgets/base",
            "overflow": null,
            "_model_module_version": "1.2.0",
            "_view_count": null,
            "flex_flow": null,
            "width": null,
            "min_width": null,
            "border": null,
            "align_items": null,
            "bottom": null,
            "_model_module": "@jupyter-widgets/base",
            "top": null,
            "grid_column": null,
            "overflow_y": null,
            "overflow_x": null,
            "grid_auto_flow": null,
            "grid_area": null,
            "grid_template_columns": null,
            "flex": null,
            "_model_name": "LayoutModel",
            "justify_items": null,
            "grid_row": null,
            "max_height": null,
            "align_content": null,
            "visibility": null,
            "align_self": null,
            "height": null,
            "min_height": null,
            "padding": null,
            "grid_auto_rows": null,
            "grid_gap": null,
            "max_width": null,
            "order": null,
            "_view_module_version": "1.2.0",
            "grid_template_areas": null,
            "object_position": null,
            "object_fit": null,
            "grid_auto_columns": null,
            "margin": null,
            "display": null,
            "left": null
          }
        },
        "0077414d18834a8a892bbc9c6a969efb": {
          "model_module": "@jupyter-widgets/controls",
          "model_name": "ProgressStyleModel",
          "model_module_version": "1.5.0",
          "state": {
            "_view_name": "StyleView",
            "_model_name": "ProgressStyleModel",
            "description_width": "",
            "_view_module": "@jupyter-widgets/base",
            "_model_module_version": "1.5.0",
            "_view_count": null,
            "_view_module_version": "1.2.0",
            "bar_color": null,
            "_model_module": "@jupyter-widgets/controls"
          }
        },
        "c61fa32aae614e8fa77be82d71200959": {
          "model_module": "@jupyter-widgets/base",
          "model_name": "LayoutModel",
          "model_module_version": "1.2.0",
          "state": {
            "_view_name": "LayoutView",
            "grid_template_rows": null,
            "right": null,
            "justify_content": null,
            "_view_module": "@jupyter-widgets/base",
            "overflow": null,
            "_model_module_version": "1.2.0",
            "_view_count": null,
            "flex_flow": null,
            "width": null,
            "min_width": null,
            "border": null,
            "align_items": null,
            "bottom": null,
            "_model_module": "@jupyter-widgets/base",
            "top": null,
            "grid_column": null,
            "overflow_y": null,
            "overflow_x": null,
            "grid_auto_flow": null,
            "grid_area": null,
            "grid_template_columns": null,
            "flex": null,
            "_model_name": "LayoutModel",
            "justify_items": null,
            "grid_row": null,
            "max_height": null,
            "align_content": null,
            "visibility": null,
            "align_self": null,
            "height": null,
            "min_height": null,
            "padding": null,
            "grid_auto_rows": null,
            "grid_gap": null,
            "max_width": null,
            "order": null,
            "_view_module_version": "1.2.0",
            "grid_template_areas": null,
            "object_position": null,
            "object_fit": null,
            "grid_auto_columns": null,
            "margin": null,
            "display": null,
            "left": null
          }
        },
        "efe9bceef19046138a06fb211db472bd": {
          "model_module": "@jupyter-widgets/controls",
          "model_name": "DescriptionStyleModel",
          "model_module_version": "1.5.0",
          "state": {
            "_view_name": "StyleView",
            "_model_name": "DescriptionStyleModel",
            "description_width": "",
            "_view_module": "@jupyter-widgets/base",
            "_model_module_version": "1.5.0",
            "_view_count": null,
            "_view_module_version": "1.2.0",
            "_model_module": "@jupyter-widgets/controls"
          }
        },
        "9bd6e15598164596ac1b5a7dd647ea98": {
          "model_module": "@jupyter-widgets/base",
          "model_name": "LayoutModel",
          "model_module_version": "1.2.0",
          "state": {
            "_view_name": "LayoutView",
            "grid_template_rows": null,
            "right": null,
            "justify_content": null,
            "_view_module": "@jupyter-widgets/base",
            "overflow": null,
            "_model_module_version": "1.2.0",
            "_view_count": null,
            "flex_flow": null,
            "width": null,
            "min_width": null,
            "border": null,
            "align_items": null,
            "bottom": null,
            "_model_module": "@jupyter-widgets/base",
            "top": null,
            "grid_column": null,
            "overflow_y": null,
            "overflow_x": null,
            "grid_auto_flow": null,
            "grid_area": null,
            "grid_template_columns": null,
            "flex": null,
            "_model_name": "LayoutModel",
            "justify_items": null,
            "grid_row": null,
            "max_height": null,
            "align_content": null,
            "visibility": null,
            "align_self": null,
            "height": null,
            "min_height": null,
            "padding": null,
            "grid_auto_rows": null,
            "grid_gap": null,
            "max_width": null,
            "order": null,
            "_view_module_version": "1.2.0",
            "grid_template_areas": null,
            "object_position": null,
            "object_fit": null,
            "grid_auto_columns": null,
            "margin": null,
            "display": null,
            "left": null
          }
        },
        "dac25b15beb64caa89a3bcbbbe0b6483": {
          "model_module": "@jupyter-widgets/controls",
          "model_name": "HBoxModel",
          "model_module_version": "1.5.0",
          "state": {
            "_view_name": "HBoxView",
            "_dom_classes": [],
            "_model_name": "HBoxModel",
            "_view_module": "@jupyter-widgets/controls",
            "_model_module_version": "1.5.0",
            "_view_count": null,
            "_view_module_version": "1.5.0",
            "box_style": "",
            "layout": "IPY_MODEL_5401f1a1e0944397ad75aa7b417f41bf",
            "_model_module": "@jupyter-widgets/controls",
            "children": [
              "IPY_MODEL_6969d95c9c5444a8829473bdc2be0ab9",
              "IPY_MODEL_8465bc63810446399adf0284ee9c9a9c",
              "IPY_MODEL_d06a071b508f45899d4ee0924eeba172"
            ]
          }
        },
        "5401f1a1e0944397ad75aa7b417f41bf": {
          "model_module": "@jupyter-widgets/base",
          "model_name": "LayoutModel",
          "model_module_version": "1.2.0",
          "state": {
            "_view_name": "LayoutView",
            "grid_template_rows": null,
            "right": null,
            "justify_content": null,
            "_view_module": "@jupyter-widgets/base",
            "overflow": null,
            "_model_module_version": "1.2.0",
            "_view_count": null,
            "flex_flow": null,
            "width": null,
            "min_width": null,
            "border": null,
            "align_items": null,
            "bottom": null,
            "_model_module": "@jupyter-widgets/base",
            "top": null,
            "grid_column": null,
            "overflow_y": null,
            "overflow_x": null,
            "grid_auto_flow": null,
            "grid_area": null,
            "grid_template_columns": null,
            "flex": null,
            "_model_name": "LayoutModel",
            "justify_items": null,
            "grid_row": null,
            "max_height": null,
            "align_content": null,
            "visibility": null,
            "align_self": null,
            "height": null,
            "min_height": null,
            "padding": null,
            "grid_auto_rows": null,
            "grid_gap": null,
            "max_width": null,
            "order": null,
            "_view_module_version": "1.2.0",
            "grid_template_areas": null,
            "object_position": null,
            "object_fit": null,
            "grid_auto_columns": null,
            "margin": null,
            "display": null,
            "left": null
          }
        },
        "6969d95c9c5444a8829473bdc2be0ab9": {
          "model_module": "@jupyter-widgets/controls",
          "model_name": "HTMLModel",
          "model_module_version": "1.5.0",
          "state": {
            "_view_name": "HTMLView",
            "style": "IPY_MODEL_0beeeff810fd4c6e8e00876feded81f1",
            "_dom_classes": [],
            "description": "",
            "_model_name": "HTMLModel",
            "placeholder": "​",
            "_view_module": "@jupyter-widgets/controls",
            "_model_module_version": "1.5.0",
            "value": " 54%",
            "_view_count": null,
            "_view_module_version": "1.5.0",
            "description_tooltip": null,
            "_model_module": "@jupyter-widgets/controls",
            "layout": "IPY_MODEL_d7e8ee800b1d408c8dc213961de4cd71"
          }
        },
        "8465bc63810446399adf0284ee9c9a9c": {
          "model_module": "@jupyter-widgets/controls",
          "model_name": "FloatProgressModel",
          "model_module_version": "1.5.0",
          "state": {
            "_view_name": "ProgressView",
            "style": "IPY_MODEL_8e5a2256d2504978ba05fd7f127c1c7a",
            "_dom_classes": [],
            "description": "",
            "_model_name": "FloatProgressModel",
            "bar_style": "danger",
            "max": 152,
            "_view_module": "@jupyter-widgets/controls",
            "_model_module_version": "1.5.0",
            "value": 82,
            "_view_count": null,
            "_view_module_version": "1.5.0",
            "orientation": "horizontal",
            "min": 0,
            "description_tooltip": null,
            "_model_module": "@jupyter-widgets/controls",
            "layout": "IPY_MODEL_e4a07633e8f14ab5851a30b1e6bdec4a"
          }
        },
        "d06a071b508f45899d4ee0924eeba172": {
          "model_module": "@jupyter-widgets/controls",
          "model_name": "HTMLModel",
          "model_module_version": "1.5.0",
          "state": {
            "_view_name": "HTMLView",
            "style": "IPY_MODEL_c61e69c80030497590f92ab7a73621eb",
            "_dom_classes": [],
            "description": "",
            "_model_name": "HTMLModel",
            "placeholder": "​",
            "_view_module": "@jupyter-widgets/controls",
            "_model_module_version": "1.5.0",
            "value": " 82/152 [00:03&lt;00:01, 54.52it/s]",
            "_view_count": null,
            "_view_module_version": "1.5.0",
            "description_tooltip": null,
            "_model_module": "@jupyter-widgets/controls",
            "layout": "IPY_MODEL_b020622118bb411e819771c26d93a801"
          }
        },
        "0beeeff810fd4c6e8e00876feded81f1": {
          "model_module": "@jupyter-widgets/controls",
          "model_name": "DescriptionStyleModel",
          "model_module_version": "1.5.0",
          "state": {
            "_view_name": "StyleView",
            "_model_name": "DescriptionStyleModel",
            "description_width": "",
            "_view_module": "@jupyter-widgets/base",
            "_model_module_version": "1.5.0",
            "_view_count": null,
            "_view_module_version": "1.2.0",
            "_model_module": "@jupyter-widgets/controls"
          }
        },
        "d7e8ee800b1d408c8dc213961de4cd71": {
          "model_module": "@jupyter-widgets/base",
          "model_name": "LayoutModel",
          "model_module_version": "1.2.0",
          "state": {
            "_view_name": "LayoutView",
            "grid_template_rows": null,
            "right": null,
            "justify_content": null,
            "_view_module": "@jupyter-widgets/base",
            "overflow": null,
            "_model_module_version": "1.2.0",
            "_view_count": null,
            "flex_flow": null,
            "width": null,
            "min_width": null,
            "border": null,
            "align_items": null,
            "bottom": null,
            "_model_module": "@jupyter-widgets/base",
            "top": null,
            "grid_column": null,
            "overflow_y": null,
            "overflow_x": null,
            "grid_auto_flow": null,
            "grid_area": null,
            "grid_template_columns": null,
            "flex": null,
            "_model_name": "LayoutModel",
            "justify_items": null,
            "grid_row": null,
            "max_height": null,
            "align_content": null,
            "visibility": null,
            "align_self": null,
            "height": null,
            "min_height": null,
            "padding": null,
            "grid_auto_rows": null,
            "grid_gap": null,
            "max_width": null,
            "order": null,
            "_view_module_version": "1.2.0",
            "grid_template_areas": null,
            "object_position": null,
            "object_fit": null,
            "grid_auto_columns": null,
            "margin": null,
            "display": null,
            "left": null
          }
        },
        "8e5a2256d2504978ba05fd7f127c1c7a": {
          "model_module": "@jupyter-widgets/controls",
          "model_name": "ProgressStyleModel",
          "model_module_version": "1.5.0",
          "state": {
            "_view_name": "StyleView",
            "_model_name": "ProgressStyleModel",
            "description_width": "",
            "_view_module": "@jupyter-widgets/base",
            "_model_module_version": "1.5.0",
            "_view_count": null,
            "_view_module_version": "1.2.0",
            "bar_color": null,
            "_model_module": "@jupyter-widgets/controls"
          }
        },
        "e4a07633e8f14ab5851a30b1e6bdec4a": {
          "model_module": "@jupyter-widgets/base",
          "model_name": "LayoutModel",
          "model_module_version": "1.2.0",
          "state": {
            "_view_name": "LayoutView",
            "grid_template_rows": null,
            "right": null,
            "justify_content": null,
            "_view_module": "@jupyter-widgets/base",
            "overflow": null,
            "_model_module_version": "1.2.0",
            "_view_count": null,
            "flex_flow": null,
            "width": null,
            "min_width": null,
            "border": null,
            "align_items": null,
            "bottom": null,
            "_model_module": "@jupyter-widgets/base",
            "top": null,
            "grid_column": null,
            "overflow_y": null,
            "overflow_x": null,
            "grid_auto_flow": null,
            "grid_area": null,
            "grid_template_columns": null,
            "flex": null,
            "_model_name": "LayoutModel",
            "justify_items": null,
            "grid_row": null,
            "max_height": null,
            "align_content": null,
            "visibility": null,
            "align_self": null,
            "height": null,
            "min_height": null,
            "padding": null,
            "grid_auto_rows": null,
            "grid_gap": null,
            "max_width": null,
            "order": null,
            "_view_module_version": "1.2.0",
            "grid_template_areas": null,
            "object_position": null,
            "object_fit": null,
            "grid_auto_columns": null,
            "margin": null,
            "display": null,
            "left": null
          }
        },
        "c61e69c80030497590f92ab7a73621eb": {
          "model_module": "@jupyter-widgets/controls",
          "model_name": "DescriptionStyleModel",
          "model_module_version": "1.5.0",
          "state": {
            "_view_name": "StyleView",
            "_model_name": "DescriptionStyleModel",
            "description_width": "",
            "_view_module": "@jupyter-widgets/base",
            "_model_module_version": "1.5.0",
            "_view_count": null,
            "_view_module_version": "1.2.0",
            "_model_module": "@jupyter-widgets/controls"
          }
        },
        "b020622118bb411e819771c26d93a801": {
          "model_module": "@jupyter-widgets/base",
          "model_name": "LayoutModel",
          "model_module_version": "1.2.0",
          "state": {
            "_view_name": "LayoutView",
            "grid_template_rows": null,
            "right": null,
            "justify_content": null,
            "_view_module": "@jupyter-widgets/base",
            "overflow": null,
            "_model_module_version": "1.2.0",
            "_view_count": null,
            "flex_flow": null,
            "width": null,
            "min_width": null,
            "border": null,
            "align_items": null,
            "bottom": null,
            "_model_module": "@jupyter-widgets/base",
            "top": null,
            "grid_column": null,
            "overflow_y": null,
            "overflow_x": null,
            "grid_auto_flow": null,
            "grid_area": null,
            "grid_template_columns": null,
            "flex": null,
            "_model_name": "LayoutModel",
            "justify_items": null,
            "grid_row": null,
            "max_height": null,
            "align_content": null,
            "visibility": null,
            "align_self": null,
            "height": null,
            "min_height": null,
            "padding": null,
            "grid_auto_rows": null,
            "grid_gap": null,
            "max_width": null,
            "order": null,
            "_view_module_version": "1.2.0",
            "grid_template_areas": null,
            "object_position": null,
            "object_fit": null,
            "grid_auto_columns": null,
            "margin": null,
            "display": null,
            "left": null
          }
        },
        "8d04c82275194d8e9923ed70fb00f844": {
          "model_module": "@jupyter-widgets/controls",
          "model_name": "HBoxModel",
          "model_module_version": "1.5.0",
          "state": {
            "_view_name": "HBoxView",
            "_dom_classes": [],
            "_model_name": "HBoxModel",
            "_view_module": "@jupyter-widgets/controls",
            "_model_module_version": "1.5.0",
            "_view_count": null,
            "_view_module_version": "1.5.0",
            "box_style": "",
            "layout": "IPY_MODEL_4ba4a8507173478f8d65d0aff4b9d814",
            "_model_module": "@jupyter-widgets/controls",
            "children": [
              "IPY_MODEL_8e8d5f2bb2814148b23364abcaa99346",
              "IPY_MODEL_5810b0c2cb574c41925baa11982df8d0",
              "IPY_MODEL_788139b23a6e4ca18984698c17929c15"
            ]
          }
        },
        "4ba4a8507173478f8d65d0aff4b9d814": {
          "model_module": "@jupyter-widgets/base",
          "model_name": "LayoutModel",
          "model_module_version": "1.2.0",
          "state": {
            "_view_name": "LayoutView",
            "grid_template_rows": null,
            "right": null,
            "justify_content": null,
            "_view_module": "@jupyter-widgets/base",
            "overflow": null,
            "_model_module_version": "1.2.0",
            "_view_count": null,
            "flex_flow": null,
            "width": null,
            "min_width": null,
            "border": null,
            "align_items": null,
            "bottom": null,
            "_model_module": "@jupyter-widgets/base",
            "top": null,
            "grid_column": null,
            "overflow_y": null,
            "overflow_x": null,
            "grid_auto_flow": null,
            "grid_area": null,
            "grid_template_columns": null,
            "flex": null,
            "_model_name": "LayoutModel",
            "justify_items": null,
            "grid_row": null,
            "max_height": null,
            "align_content": null,
            "visibility": null,
            "align_self": null,
            "height": null,
            "min_height": null,
            "padding": null,
            "grid_auto_rows": null,
            "grid_gap": null,
            "max_width": null,
            "order": null,
            "_view_module_version": "1.2.0",
            "grid_template_areas": null,
            "object_position": null,
            "object_fit": null,
            "grid_auto_columns": null,
            "margin": null,
            "display": null,
            "left": null
          }
        },
        "8e8d5f2bb2814148b23364abcaa99346": {
          "model_module": "@jupyter-widgets/controls",
          "model_name": "HTMLModel",
          "model_module_version": "1.5.0",
          "state": {
            "_view_name": "HTMLView",
            "style": "IPY_MODEL_5dcd76cbe2074b228f4d594f7ecf8ab6",
            "_dom_classes": [],
            "description": "",
            "_model_name": "HTMLModel",
            "placeholder": "​",
            "_view_module": "@jupyter-widgets/controls",
            "_model_module_version": "1.5.0",
            "value": "100%",
            "_view_count": null,
            "_view_module_version": "1.5.0",
            "description_tooltip": null,
            "_model_module": "@jupyter-widgets/controls",
            "layout": "IPY_MODEL_31a61ffa24c846b89897c04ba46791f6"
          }
        },
        "5810b0c2cb574c41925baa11982df8d0": {
          "model_module": "@jupyter-widgets/controls",
          "model_name": "FloatProgressModel",
          "model_module_version": "1.5.0",
          "state": {
            "_view_name": "ProgressView",
            "style": "IPY_MODEL_e79cc82f145f473c8d5da0dfed644cad",
            "_dom_classes": [],
            "description": "",
            "_model_name": "FloatProgressModel",
            "bar_style": "success",
            "max": 2500,
            "_view_module": "@jupyter-widgets/controls",
            "_model_module_version": "1.5.0",
            "value": 2500,
            "_view_count": null,
            "_view_module_version": "1.5.0",
            "orientation": "horizontal",
            "min": 0,
            "description_tooltip": null,
            "_model_module": "@jupyter-widgets/controls",
            "layout": "IPY_MODEL_c707af31f5204deb87c3897325944dda"
          }
        },
        "788139b23a6e4ca18984698c17929c15": {
          "model_module": "@jupyter-widgets/controls",
          "model_name": "HTMLModel",
          "model_module_version": "1.5.0",
          "state": {
            "_view_name": "HTMLView",
            "style": "IPY_MODEL_6a8331d43fab486c960a32c0a25986d9",
            "_dom_classes": [],
            "description": "",
            "_model_name": "HTMLModel",
            "placeholder": "​",
            "_view_module": "@jupyter-widgets/controls",
            "_model_module_version": "1.5.0",
            "value": " 2500/2500 [00:14&lt;00:00, 211.72it/s]",
            "_view_count": null,
            "_view_module_version": "1.5.0",
            "description_tooltip": null,
            "_model_module": "@jupyter-widgets/controls",
            "layout": "IPY_MODEL_7c39b077cbc44fbe9fd43a77f3e5f58d"
          }
        },
        "5dcd76cbe2074b228f4d594f7ecf8ab6": {
          "model_module": "@jupyter-widgets/controls",
          "model_name": "DescriptionStyleModel",
          "model_module_version": "1.5.0",
          "state": {
            "_view_name": "StyleView",
            "_model_name": "DescriptionStyleModel",
            "description_width": "",
            "_view_module": "@jupyter-widgets/base",
            "_model_module_version": "1.5.0",
            "_view_count": null,
            "_view_module_version": "1.2.0",
            "_model_module": "@jupyter-widgets/controls"
          }
        },
        "31a61ffa24c846b89897c04ba46791f6": {
          "model_module": "@jupyter-widgets/base",
          "model_name": "LayoutModel",
          "model_module_version": "1.2.0",
          "state": {
            "_view_name": "LayoutView",
            "grid_template_rows": null,
            "right": null,
            "justify_content": null,
            "_view_module": "@jupyter-widgets/base",
            "overflow": null,
            "_model_module_version": "1.2.0",
            "_view_count": null,
            "flex_flow": null,
            "width": null,
            "min_width": null,
            "border": null,
            "align_items": null,
            "bottom": null,
            "_model_module": "@jupyter-widgets/base",
            "top": null,
            "grid_column": null,
            "overflow_y": null,
            "overflow_x": null,
            "grid_auto_flow": null,
            "grid_area": null,
            "grid_template_columns": null,
            "flex": null,
            "_model_name": "LayoutModel",
            "justify_items": null,
            "grid_row": null,
            "max_height": null,
            "align_content": null,
            "visibility": null,
            "align_self": null,
            "height": null,
            "min_height": null,
            "padding": null,
            "grid_auto_rows": null,
            "grid_gap": null,
            "max_width": null,
            "order": null,
            "_view_module_version": "1.2.0",
            "grid_template_areas": null,
            "object_position": null,
            "object_fit": null,
            "grid_auto_columns": null,
            "margin": null,
            "display": null,
            "left": null
          }
        },
        "e79cc82f145f473c8d5da0dfed644cad": {
          "model_module": "@jupyter-widgets/controls",
          "model_name": "ProgressStyleModel",
          "model_module_version": "1.5.0",
          "state": {
            "_view_name": "StyleView",
            "_model_name": "ProgressStyleModel",
            "description_width": "",
            "_view_module": "@jupyter-widgets/base",
            "_model_module_version": "1.5.0",
            "_view_count": null,
            "_view_module_version": "1.2.0",
            "bar_color": null,
            "_model_module": "@jupyter-widgets/controls"
          }
        },
        "c707af31f5204deb87c3897325944dda": {
          "model_module": "@jupyter-widgets/base",
          "model_name": "LayoutModel",
          "model_module_version": "1.2.0",
          "state": {
            "_view_name": "LayoutView",
            "grid_template_rows": null,
            "right": null,
            "justify_content": null,
            "_view_module": "@jupyter-widgets/base",
            "overflow": null,
            "_model_module_version": "1.2.0",
            "_view_count": null,
            "flex_flow": null,
            "width": null,
            "min_width": null,
            "border": null,
            "align_items": null,
            "bottom": null,
            "_model_module": "@jupyter-widgets/base",
            "top": null,
            "grid_column": null,
            "overflow_y": null,
            "overflow_x": null,
            "grid_auto_flow": null,
            "grid_area": null,
            "grid_template_columns": null,
            "flex": null,
            "_model_name": "LayoutModel",
            "justify_items": null,
            "grid_row": null,
            "max_height": null,
            "align_content": null,
            "visibility": null,
            "align_self": null,
            "height": null,
            "min_height": null,
            "padding": null,
            "grid_auto_rows": null,
            "grid_gap": null,
            "max_width": null,
            "order": null,
            "_view_module_version": "1.2.0",
            "grid_template_areas": null,
            "object_position": null,
            "object_fit": null,
            "grid_auto_columns": null,
            "margin": null,
            "display": null,
            "left": null
          }
        },
        "6a8331d43fab486c960a32c0a25986d9": {
          "model_module": "@jupyter-widgets/controls",
          "model_name": "DescriptionStyleModel",
          "model_module_version": "1.5.0",
          "state": {
            "_view_name": "StyleView",
            "_model_name": "DescriptionStyleModel",
            "description_width": "",
            "_view_module": "@jupyter-widgets/base",
            "_model_module_version": "1.5.0",
            "_view_count": null,
            "_view_module_version": "1.2.0",
            "_model_module": "@jupyter-widgets/controls"
          }
        },
        "7c39b077cbc44fbe9fd43a77f3e5f58d": {
          "model_module": "@jupyter-widgets/base",
          "model_name": "LayoutModel",
          "model_module_version": "1.2.0",
          "state": {
            "_view_name": "LayoutView",
            "grid_template_rows": null,
            "right": null,
            "justify_content": null,
            "_view_module": "@jupyter-widgets/base",
            "overflow": null,
            "_model_module_version": "1.2.0",
            "_view_count": null,
            "flex_flow": null,
            "width": null,
            "min_width": null,
            "border": null,
            "align_items": null,
            "bottom": null,
            "_model_module": "@jupyter-widgets/base",
            "top": null,
            "grid_column": null,
            "overflow_y": null,
            "overflow_x": null,
            "grid_auto_flow": null,
            "grid_area": null,
            "grid_template_columns": null,
            "flex": null,
            "_model_name": "LayoutModel",
            "justify_items": null,
            "grid_row": null,
            "max_height": null,
            "align_content": null,
            "visibility": null,
            "align_self": null,
            "height": null,
            "min_height": null,
            "padding": null,
            "grid_auto_rows": null,
            "grid_gap": null,
            "max_width": null,
            "order": null,
            "_view_module_version": "1.2.0",
            "grid_template_areas": null,
            "object_position": null,
            "object_fit": null,
            "grid_auto_columns": null,
            "margin": null,
            "display": null,
            "left": null
          }
        },
        "049687654652483c9a6b148bc0e48c3f": {
          "model_module": "@jupyter-widgets/controls",
          "model_name": "HBoxModel",
          "model_module_version": "1.5.0",
          "state": {
            "_view_name": "HBoxView",
            "_dom_classes": [],
            "_model_name": "HBoxModel",
            "_view_module": "@jupyter-widgets/controls",
            "_model_module_version": "1.5.0",
            "_view_count": null,
            "_view_module_version": "1.5.0",
            "box_style": "",
            "layout": "IPY_MODEL_c26a0d1652e44bfd906678e3052a2267",
            "_model_module": "@jupyter-widgets/controls",
            "children": [
              "IPY_MODEL_d4cf80c51bf240a29f0fbf50b2c63d70",
              "IPY_MODEL_fd26a940047a49cb90c0643cbb0eda99",
              "IPY_MODEL_1d4516338bf94440a3af71cb566ba8a9"
            ]
          }
        },
        "c26a0d1652e44bfd906678e3052a2267": {
          "model_module": "@jupyter-widgets/base",
          "model_name": "LayoutModel",
          "model_module_version": "1.2.0",
          "state": {
            "_view_name": "LayoutView",
            "grid_template_rows": null,
            "right": null,
            "justify_content": null,
            "_view_module": "@jupyter-widgets/base",
            "overflow": null,
            "_model_module_version": "1.2.0",
            "_view_count": null,
            "flex_flow": null,
            "width": null,
            "min_width": null,
            "border": null,
            "align_items": null,
            "bottom": null,
            "_model_module": "@jupyter-widgets/base",
            "top": null,
            "grid_column": null,
            "overflow_y": null,
            "overflow_x": null,
            "grid_auto_flow": null,
            "grid_area": null,
            "grid_template_columns": null,
            "flex": null,
            "_model_name": "LayoutModel",
            "justify_items": null,
            "grid_row": null,
            "max_height": null,
            "align_content": null,
            "visibility": null,
            "align_self": null,
            "height": null,
            "min_height": null,
            "padding": null,
            "grid_auto_rows": null,
            "grid_gap": null,
            "max_width": null,
            "order": null,
            "_view_module_version": "1.2.0",
            "grid_template_areas": null,
            "object_position": null,
            "object_fit": null,
            "grid_auto_columns": null,
            "margin": null,
            "display": null,
            "left": null
          }
        },
        "d4cf80c51bf240a29f0fbf50b2c63d70": {
          "model_module": "@jupyter-widgets/controls",
          "model_name": "HTMLModel",
          "model_module_version": "1.5.0",
          "state": {
            "_view_name": "HTMLView",
            "style": "IPY_MODEL_9abe71767d884b3cb43f499d6256bf9f",
            "_dom_classes": [],
            "description": "",
            "_model_name": "HTMLModel",
            "placeholder": "​",
            "_view_module": "@jupyter-widgets/controls",
            "_model_module_version": "1.5.0",
            "value": "  7%",
            "_view_count": null,
            "_view_module_version": "1.5.0",
            "description_tooltip": null,
            "_model_module": "@jupyter-widgets/controls",
            "layout": "IPY_MODEL_747a11577d0c440c878e95082512adb3"
          }
        },
        "fd26a940047a49cb90c0643cbb0eda99": {
          "model_module": "@jupyter-widgets/controls",
          "model_name": "FloatProgressModel",
          "model_module_version": "1.5.0",
          "state": {
            "_view_name": "ProgressView",
            "style": "IPY_MODEL_dd8f4173c7b1484ea468e55764735290",
            "_dom_classes": [],
            "description": "",
            "_model_name": "FloatProgressModel",
            "bar_style": "",
            "max": 2500,
            "_view_module": "@jupyter-widgets/controls",
            "_model_module_version": "1.5.0",
            "value": 179,
            "_view_count": null,
            "_view_module_version": "1.5.0",
            "orientation": "horizontal",
            "min": 0,
            "description_tooltip": null,
            "_model_module": "@jupyter-widgets/controls",
            "layout": "IPY_MODEL_a641d9637ffc4d9583fb4e6ee985a871"
          }
        },
        "1d4516338bf94440a3af71cb566ba8a9": {
          "model_module": "@jupyter-widgets/controls",
          "model_name": "HTMLModel",
          "model_module_version": "1.5.0",
          "state": {
            "_view_name": "HTMLView",
            "style": "IPY_MODEL_00ded8b47ccf49e2838a04c6807b3629",
            "_dom_classes": [],
            "description": "",
            "_model_name": "HTMLModel",
            "placeholder": "​",
            "_view_module": "@jupyter-widgets/controls",
            "_model_module_version": "1.5.0",
            "value": " 179/2500 [10:28&lt;2:08:02,  3.31s/it]",
            "_view_count": null,
            "_view_module_version": "1.5.0",
            "description_tooltip": null,
            "_model_module": "@jupyter-widgets/controls",
            "layout": "IPY_MODEL_b79ab853daa94c2b93da24816cf91ddc"
          }
        },
        "9abe71767d884b3cb43f499d6256bf9f": {
          "model_module": "@jupyter-widgets/controls",
          "model_name": "DescriptionStyleModel",
          "model_module_version": "1.5.0",
          "state": {
            "_view_name": "StyleView",
            "_model_name": "DescriptionStyleModel",
            "description_width": "",
            "_view_module": "@jupyter-widgets/base",
            "_model_module_version": "1.5.0",
            "_view_count": null,
            "_view_module_version": "1.2.0",
            "_model_module": "@jupyter-widgets/controls"
          }
        },
        "747a11577d0c440c878e95082512adb3": {
          "model_module": "@jupyter-widgets/base",
          "model_name": "LayoutModel",
          "model_module_version": "1.2.0",
          "state": {
            "_view_name": "LayoutView",
            "grid_template_rows": null,
            "right": null,
            "justify_content": null,
            "_view_module": "@jupyter-widgets/base",
            "overflow": null,
            "_model_module_version": "1.2.0",
            "_view_count": null,
            "flex_flow": null,
            "width": null,
            "min_width": null,
            "border": null,
            "align_items": null,
            "bottom": null,
            "_model_module": "@jupyter-widgets/base",
            "top": null,
            "grid_column": null,
            "overflow_y": null,
            "overflow_x": null,
            "grid_auto_flow": null,
            "grid_area": null,
            "grid_template_columns": null,
            "flex": null,
            "_model_name": "LayoutModel",
            "justify_items": null,
            "grid_row": null,
            "max_height": null,
            "align_content": null,
            "visibility": null,
            "align_self": null,
            "height": null,
            "min_height": null,
            "padding": null,
            "grid_auto_rows": null,
            "grid_gap": null,
            "max_width": null,
            "order": null,
            "_view_module_version": "1.2.0",
            "grid_template_areas": null,
            "object_position": null,
            "object_fit": null,
            "grid_auto_columns": null,
            "margin": null,
            "display": null,
            "left": null
          }
        },
        "dd8f4173c7b1484ea468e55764735290": {
          "model_module": "@jupyter-widgets/controls",
          "model_name": "ProgressStyleModel",
          "model_module_version": "1.5.0",
          "state": {
            "_view_name": "StyleView",
            "_model_name": "ProgressStyleModel",
            "description_width": "",
            "_view_module": "@jupyter-widgets/base",
            "_model_module_version": "1.5.0",
            "_view_count": null,
            "_view_module_version": "1.2.0",
            "bar_color": null,
            "_model_module": "@jupyter-widgets/controls"
          }
        },
        "a641d9637ffc4d9583fb4e6ee985a871": {
          "model_module": "@jupyter-widgets/base",
          "model_name": "LayoutModel",
          "model_module_version": "1.2.0",
          "state": {
            "_view_name": "LayoutView",
            "grid_template_rows": null,
            "right": null,
            "justify_content": null,
            "_view_module": "@jupyter-widgets/base",
            "overflow": null,
            "_model_module_version": "1.2.0",
            "_view_count": null,
            "flex_flow": null,
            "width": null,
            "min_width": null,
            "border": null,
            "align_items": null,
            "bottom": null,
            "_model_module": "@jupyter-widgets/base",
            "top": null,
            "grid_column": null,
            "overflow_y": null,
            "overflow_x": null,
            "grid_auto_flow": null,
            "grid_area": null,
            "grid_template_columns": null,
            "flex": null,
            "_model_name": "LayoutModel",
            "justify_items": null,
            "grid_row": null,
            "max_height": null,
            "align_content": null,
            "visibility": null,
            "align_self": null,
            "height": null,
            "min_height": null,
            "padding": null,
            "grid_auto_rows": null,
            "grid_gap": null,
            "max_width": null,
            "order": null,
            "_view_module_version": "1.2.0",
            "grid_template_areas": null,
            "object_position": null,
            "object_fit": null,
            "grid_auto_columns": null,
            "margin": null,
            "display": null,
            "left": null
          }
        },
        "00ded8b47ccf49e2838a04c6807b3629": {
          "model_module": "@jupyter-widgets/controls",
          "model_name": "DescriptionStyleModel",
          "model_module_version": "1.5.0",
          "state": {
            "_view_name": "StyleView",
            "_model_name": "DescriptionStyleModel",
            "description_width": "",
            "_view_module": "@jupyter-widgets/base",
            "_model_module_version": "1.5.0",
            "_view_count": null,
            "_view_module_version": "1.2.0",
            "_model_module": "@jupyter-widgets/controls"
          }
        },
        "b79ab853daa94c2b93da24816cf91ddc": {
          "model_module": "@jupyter-widgets/base",
          "model_name": "LayoutModel",
          "model_module_version": "1.2.0",
          "state": {
            "_view_name": "LayoutView",
            "grid_template_rows": null,
            "right": null,
            "justify_content": null,
            "_view_module": "@jupyter-widgets/base",
            "overflow": null,
            "_model_module_version": "1.2.0",
            "_view_count": null,
            "flex_flow": null,
            "width": null,
            "min_width": null,
            "border": null,
            "align_items": null,
            "bottom": null,
            "_model_module": "@jupyter-widgets/base",
            "top": null,
            "grid_column": null,
            "overflow_y": null,
            "overflow_x": null,
            "grid_auto_flow": null,
            "grid_area": null,
            "grid_template_columns": null,
            "flex": null,
            "_model_name": "LayoutModel",
            "justify_items": null,
            "grid_row": null,
            "max_height": null,
            "align_content": null,
            "visibility": null,
            "align_self": null,
            "height": null,
            "min_height": null,
            "padding": null,
            "grid_auto_rows": null,
            "grid_gap": null,
            "max_width": null,
            "order": null,
            "_view_module_version": "1.2.0",
            "grid_template_areas": null,
            "object_position": null,
            "object_fit": null,
            "grid_auto_columns": null,
            "margin": null,
            "display": null,
            "left": null
          }
        }
      }
    }
  },
  "cells": [
    {
      "cell_type": "code",
      "metadata": {
        "colab": {
          "base_uri": "https://localhost:8080/"
        },
        "id": "ETJjHliMhHbF",
        "outputId": "31b794ac-7194-474e-f0cb-d96aafec530c"
      },
      "source": [
        "from pymystem3 import Mystem\n",
        "\n",
        "!wget http://download.cdn.yandex.net/mystem/mystem-3.0-linux3.1-64bit.tar.gz\n",
        "!tar -xvf mystem-3.0-linux3.1-64bit.tar.gz\n",
        "!cp mystem /root/.local/bin/mystem\n",
        "\n",
        "import gensim\n",
        "from pymystem3 import Mystem\n",
        "\n",
        "stemmer = Mystem()\n",
        "lemmas = stemmer.lemmatize(\"Красивая мама красиво мыла раму\")\n",
        "print(lemmas)"
      ],
      "execution_count": 426,
      "outputs": [
        {
          "output_type": "stream",
          "name": "stdout",
          "text": [
            "--2021-10-18 23:29:48--  http://download.cdn.yandex.net/mystem/mystem-3.0-linux3.1-64bit.tar.gz\n",
            "Resolving download.cdn.yandex.net (download.cdn.yandex.net)... 5.45.205.241, 5.45.205.242, 5.45.205.243, ...\n",
            "Connecting to download.cdn.yandex.net (download.cdn.yandex.net)|5.45.205.241|:80... connected.\n",
            "HTTP request sent, awaiting response... 302 Found\n",
            "Location: http://cache-man01i.cdn.yandex.net/download.cdn.yandex.net/mystem/mystem-3.0-linux3.1-64bit.tar.gz [following]\n",
            "--2021-10-18 23:29:49--  http://cache-man01i.cdn.yandex.net/download.cdn.yandex.net/mystem/mystem-3.0-linux3.1-64bit.tar.gz\n",
            "Resolving cache-man01i.cdn.yandex.net (cache-man01i.cdn.yandex.net)... 5.45.205.221, 2a02:6b8::3:221\n",
            "Connecting to cache-man01i.cdn.yandex.net (cache-man01i.cdn.yandex.net)|5.45.205.221|:80... connected.\n",
            "HTTP request sent, awaiting response... 200 OK\n",
            "Length: 16457938 (16M) [application/octet-stream]\n",
            "Saving to: ‘mystem-3.0-linux3.1-64bit.tar.gz.19’\n",
            "\n",
            "mystem-3.0-linux3.1 100%[===================>]  15.70M  6.88MB/s    in 2.3s    \n",
            "\n",
            "2021-10-18 23:29:52 (6.88 MB/s) - ‘mystem-3.0-linux3.1-64bit.tar.gz.19’ saved [16457938/16457938]\n",
            "\n",
            "mystem\n",
            "['красивый', ' ', 'мама', ' ', 'красиво', ' ', 'мыть', ' ', 'рама', '\\n']\n"
          ]
        }
      ]
    },
    {
      "cell_type": "code",
      "metadata": {
        "colab": {
          "base_uri": "https://localhost:8080/"
        },
        "id": "DNaCpJbjg1Aq",
        "outputId": "5ef54463-b97e-450a-b784-366c1050c130"
      },
      "source": [
        "from google.colab import drive\n",
        "drive.mount('/content/drive')\n",
        "\n",
        "DRIVE_PATH = \"/content/drive/MyDrive/YandexCup/\"\n"
      ],
      "execution_count": null,
      "outputs": [
        {
          "output_type": "stream",
          "name": "stdout",
          "text": [
            "Mounted at /content/drive\n"
          ]
        }
      ]
    },
    {
      "cell_type": "code",
      "metadata": {
        "colab": {
          "base_uri": "https://localhost:8080/"
        },
        "id": "Fs2nJfzChF2b",
        "outputId": "5280551b-fb20-4c15-c729-10989e2b381b"
      },
      "source": [
        "!pip install -q transformers\n",
        "!pip install -q natasha\n",
        "!pip install -q pymorphy2\n",
        "!pip install -q -U pymorphy2-dicts-ru\n",
        "!pip install -q hnswlib\n",
        "!pip install -q pymystem3\n",
        "!pip install -q pymorphy2\n",
        "!pip install -q -U pymorphy2-dicts-ru\n",
        "!pip install https://github.com/kpu/kenlm/archive/master.zip\n",
        "!pip install -q kenlm\n"
      ],
      "execution_count": null,
      "outputs": [
        {
          "output_type": "stream",
          "name": "stdout",
          "text": [
            "Collecting https://github.com/kpu/kenlm/archive/master.zip\n",
            "  Downloading https://github.com/kpu/kenlm/archive/master.zip\n",
            "\u001b[K     / 540 kB 2.2 MB/s\n",
            "\u001b[?25hBuilding wheels for collected packages: kenlm\n",
            "  Building wheel for kenlm (setup.py) ... \u001b[?25l\u001b[?25hdone\n",
            "  Created wheel for kenlm: filename=kenlm-0.0.0-cp37-cp37m-linux_x86_64.whl size=2334453 sha256=b69cae99c61d29b32875d699bf5c2b26a210f3824e72f8167aa2c2597fb8fa3f\n",
            "  Stored in directory: /tmp/pip-ephem-wheel-cache-5p5vpi35/wheels/3d/aa/02/7b4a2eab5d7a2a9391bd9680dbad6270808a147bc3b7047e4e\n",
            "Successfully built kenlm\n",
            "Installing collected packages: kenlm\n",
            "Successfully installed kenlm-0.0.0\n"
          ]
        }
      ]
    },
    {
      "cell_type": "markdown",
      "metadata": {
        "id": "Nc151s8Kg3iF"
      },
      "source": [
        "#SETUP:"
      ]
    },
    {
      "cell_type": "code",
      "metadata": {
        "id": "iAG_pCzkePx0"
      },
      "source": [
        "import numpy as np\n",
        "\n",
        "import os\n",
        "from transformers import AutoTokenizer, AutoModelForSequenceClassification\n",
        "import torch\n",
        "from torch import softmax, sigmoid\n",
        "from tqdm.auto import tqdm\n",
        "import argparse\n",
        "from pymystem3 import Mystem\n",
        "import sys\n",
        "from collections import Counter\n",
        "from functools import partial\n",
        "import kenlm\n",
        "\n",
        "from transformers import AutoTokenizer, AutoModelForSequenceClassification\n",
        "\n",
        "tokenizer = AutoTokenizer.from_pretrained(\"/content/drive/MyDrive/YandexCup/trained_roberta\")\n",
        "\n",
        "model = AutoModelForSequenceClassification.from_pretrained(\"/content/drive/MyDrive/YandexCup/trained_roberta\").cuda()\n",
        "\n",
        "lm = kenlm.Model('/content/drive/MyDrive/YandexCup/lm.binary')\n",
        "\n",
        "\n",
        "\n",
        "TOXIC_CLASS=-1\n",
        "TOKENIZATION_TYPE='sentencepiece'\n",
        "\n",
        "\n",
        "ALLOWED_ALPHABET=list(map(chr, range(ord('а'), ord('я') + 1)))\n",
        "ALLOWED_ALPHABET.extend(map(chr, range(ord('a'), ord('z') + 1)))\n",
        "ALLOWED_ALPHABET.extend(list(map(str.upper, ALLOWED_ALPHABET)))\n",
        "ALLOWED_ALPHABET = set(ALLOWED_ALPHABET)\n",
        "\n",
        "\n",
        "\n",
        "def logits_to_toxic_probas(logits):\n",
        "    if logits.shape[-1] > 1:\n",
        "        activation = lambda x: softmax(x, -1)\n",
        "    else:\n",
        "        activation = sigmoid\n",
        "    return activation(logits)[:, TOXIC_CLASS].cpu().detach().numpy()\n",
        "\n",
        "\n",
        "def is_word_start(token):\n",
        "    if TOKENIZATION_TYPE == 'sentencepiece':\n",
        "        return token.startswith('▁')\n",
        "    if TOKENIZATION_TYPE == 'bert':\n",
        "        return not token.startswith('##')\n",
        "    raise ValueError(\"Unknown tokenization type\")\n",
        "\n",
        "\n",
        "def normalize(sentence, max_tokens_per_word=20):\n",
        "    def validate_char(c):\n",
        "        return c in ALLOWED_ALPHABET\n",
        "    \n",
        "    sentence = ''.join(map(lambda c: c if validate_char(c) else ' ', sentence.lower()))\n",
        "    ids = tokenizer(sentence)['input_ids']\n",
        "    tokens = tokenizer.convert_ids_to_tokens(ids)[1:-1]\n",
        "    \n",
        "    result = []\n",
        "    num_continuation_tokens = 0\n",
        "    for token in tokens:\n",
        "        if not is_word_start(token):\n",
        "            num_continuation_tokens += 1\n",
        "            if num_continuation_tokens < max_tokens_per_word:\n",
        "                result.append(token.lstrip('#▁'))\n",
        "        else:\n",
        "            num_continuation_tokens = 0\n",
        "            result.extend([' ', token.lstrip('▁#')])\n",
        "    \n",
        "    return ''.join(result).strip()\n",
        "\n",
        "\n",
        "def iterate_batches(data, batch_size=40):\n",
        "    batch = []\n",
        "    for x in data:\n",
        "        batch.append(x)\n",
        "        if len(batch) >= batch_size:\n",
        "            yield batch\n",
        "            batch = []\n",
        "    if len(batch) > 0:\n",
        "        yield batch\n",
        "\n",
        "\n",
        "def predict_toxicity(sentences, batch_size=5, threshold=0.5, return_scores=False, verbose=True, device='cuda'):\n",
        "    results = []\n",
        "    for batch in iterate_batches(sentences, batch_size):\n",
        "        normlized = [normalize(sent, max_tokens_per_word=5) for sent in batch]\n",
        "        tokenized = tokenizer(normlized, return_tensors='pt', padding=True, max_length=512, truncation=True)\n",
        "    \n",
        "        logits = model.to(device)(**{key: val.to(device) for key, val in tokenized.items()}).logits\n",
        "        preds = logits_to_toxic_probas(logits)\n",
        "        if not return_scores:\n",
        "            preds = preds >= threshold\n",
        "        results.extend(preds)\n",
        "    return results"
      ],
      "execution_count": null,
      "outputs": []
    },
    {
      "cell_type": "markdown",
      "metadata": {
        "id": "l7Y2xK1cg84W"
      },
      "source": [
        "#EMBEDDINGS:"
      ]
    },
    {
      "cell_type": "code",
      "metadata": {
        "id": "gauiABMkgDML"
      },
      "source": [
        "def get_w2v_indicies(a):\n",
        "    res = []\n",
        "    if isinstance(a, str):\n",
        "        a = a.split()\n",
        "    for w in a:\n",
        "        if w in embs_voc:\n",
        "            res.append((w, embs_voc[w]))\n",
        "        else:\n",
        "            \n",
        "            for lemma in stemmer.lemmatize(w):\n",
        "                if lemma.isalpha():\n",
        "                    res.append((w, embs_voc.get(lemma, None)))\n",
        "    return res\n",
        "\n",
        "\n",
        "def calc_embs(words):\n",
        "    words = ' '.join(map(normalize, words))\n",
        "    inds = get_w2v_indicies(words)\n",
        "    return [(w, i if i is None else embs_vectors[i]) for w, i in inds]\n",
        "\n",
        "\n",
        "def calc_single_embedding_dist(word1, word2):\n",
        "    if (word1 in COMMENTS_VOCAB) and (word2 in COMMENTS_VOCAB[word1]):\n",
        "        \n",
        "        return COMMENTS_VOCAB[word1][word2]\n",
        "    if (word2 in COMMENTS_VOCAB) and (word1 in COMMENTS_VOCAB[word2]):\n",
        "        \n",
        "        return COMMENTS_VOCAB[word2][word1]\n",
        "\n",
        "    a = calc_embs([word1])[0]\n",
        "    b = calc_embs([word2])[0]\n",
        "\n",
        "\n",
        "\n",
        "    a_s, a_v = a  #слово, вектор\n",
        "    b_s, b_v = b  #слово, вектор\n",
        "    if a_s == b_s: #если слова равны\n",
        "        COMMENTS_VOCAB[word1][word2] = 0.0\n",
        "        COMMENTS_VOCAB[word2][word1] = 0.0\n",
        "        return 0.0\n",
        "    if a_v is None or b_v is None: #если одно из векторов нет - дать пизды \n",
        "        COMMENTS_VOCAB[word1][word2] = 1.0\n",
        "        COMMENTS_VOCAB[word2][word1] = 1.0\n",
        "        return 1.0\n",
        "    a = a_v\n",
        "    b = b_v\n",
        "    # inexact match is punished by 0.1\n",
        "    result = 0.1 + 0.9 * (1 - a.dot(b) / np.linalg.norm(a) / np.linalg.norm(b)) / 2\n",
        "\n",
        "    COMMENTS_VOCAB[word1][word2] = result\n",
        "    COMMENTS_VOCAB[word2][word1] = result\n",
        "\n",
        "    return result\n",
        "\n",
        "\n",
        "def greedy_match_embs(a, b, max_dist=99999, cache=None, a_ind=0, b_ind=0):\n",
        "    a_len = len(a) - a_ind #сколько слов мы еще не рассмотрели в а\n",
        "    b_len = len(b) - b_ind #сколько слов мы еще не рассмотрели в b\n",
        "    minlen = min(a_len, b_len) #минимальная длина строки\n",
        "    maxlen = max(a_len, b_len) #минимальная длина строки\n",
        "    if minlen == 0: \n",
        "        return np.minimum(maxlen, max_dist) \n",
        "    if maxlen - minlen >= max_dist: \n",
        "        return max_dist \n",
        "    \n",
        "    if cache is None:\n",
        "        cache = {}\n",
        "    \n",
        "    cache_key = (a_len, b_len)\n",
        "    if cache_key in cache:\n",
        "        return cache[cache_key]\n",
        "        \n",
        "    min_dist = max_dist\n",
        "    first_dist = calc_single_embedding_dist(a[a_ind], b[b_ind])\n",
        "    if max_dist >= first_dist:\n",
        "        min_dist = np.minimum(min_dist, first_dist + greedy_match_embs(\n",
        "            a, b, max_dist, cache, a_ind + 1, b_ind + 1\n",
        "        ))\n",
        "    \n",
        "    if first_dist > 0 and max_dist >= 1:\n",
        "        min_dist = np.minimum(min_dist, 1 + greedy_match_embs(\n",
        "            a, b, max_dist, cache, a_ind + 1, b_ind\n",
        "        ))\n",
        "        min_dist = np.minimum(min_dist, 1 + greedy_match_embs(\n",
        "            a, b, max_dist, cache, a_ind, b_ind + 1\n",
        "        ))\n",
        "    \n",
        "    cache[cache_key] = min_dist\n",
        "    \n",
        "    return min_dist\n",
        "\n",
        "\n",
        "\n",
        "\n",
        "\n",
        "def distance_score(original, fixed):\n",
        "    original = original.split()\n",
        "    fixed = fixed.split()\n",
        "\n",
        "    \n",
        "    clip_distance = 5  # this clips long computations\n",
        "    \n",
        "    numerator = greedy_match_embs(original, fixed, max_dist=clip_distance)\n",
        "\n",
        "    denominator = 0.6 * np.log(1 + len(original))\n",
        "\n",
        "    return np.exp(-(numerator / denominator) ** 2)"
      ],
      "execution_count": null,
      "outputs": []
    },
    {
      "cell_type": "code",
      "metadata": {
        "id": "SG0y1_b1ToI8"
      },
      "source": [
        "def compute_lmdiff(original, fixed):\n",
        "    original_lm_logproba = lm.score(original, bos=True, eos=True)\n",
        "    fixed_lm_logproba = lm.score(fixed, bos=True, eos=True)\n",
        "    \n",
        "    probability_fraction = 10**((fixed_lm_logproba - original_lm_logproba) / 25)\n",
        "    \n",
        "    return np.clip(probability_fraction, 0.0, 1.0)\n",
        "    \n",
        "\n",
        "def compute_score(original_sentences, fixed_sentences, threshold=0.5, batch_size=5, show_res = False, return_result = False):\n",
        "    fixed_toxicities = predict_toxicity(fixed_sentences, threshold=threshold, batch_size=batch_size, return_scores=True)\n",
        "    scores = []\n",
        "    lmdiffs = []\n",
        "    emb_dists = []\n",
        "    for original_sentence, fixed_sentence, fixed_toxicity in tqdm(zip(\n",
        "        original_sentences, fixed_sentences, fixed_toxicities\n",
        "    ), miniters=250, disable= True):\n",
        "        original_sentence = normalize(original_sentence)\n",
        "        fixed_sentence = normalize(fixed_sentence)\n",
        "        \n",
        "        distance = distance_score(original_sentence, fixed_sentence)\n",
        "        lmdiff = compute_lmdiff(original_sentence, fixed_sentence)\n",
        "        \n",
        "        score = (1 - fixed_toxicity) * distance * lmdiff\n",
        "        \n",
        "        lmdiffs.append(lmdiff)\n",
        "        emb_dists.append(distance)\n",
        "        scores.append(score)\n",
        "        \n",
        "    if show_res:\n",
        "        print('average toxicity:', np.mean(fixed_toxicities), file=sys.stderr)\n",
        "        print('mean lmdiff:', np.mean(lmdiffs), file=sys.stderr)\n",
        "        print('mean distance_score:', np.mean(emb_dists), file=sys.stderr)\n",
        "        print('score', np.mean(scores) * 100, file=sys.stderr)\n",
        "        \n",
        "    if return_result:\n",
        "        return {\"scores\" : scores, \n",
        "                \"toxicities\" : fixed_toxicities, \n",
        "                \"lmdiffs\" : lmdiffs,\n",
        "                \"distance_scores\" : emb_dists}\n",
        "    else:\n",
        "        return scores\n",
        "\n",
        "def new_checker(original_texts, fixed_texts, device='cuda', show_res = False, return_result = False):\n",
        "    original_texts = list(map(str.strip, original_texts))\n",
        "    fixed_texts = list(map(str.strip, fixed_texts))\n",
        "    \n",
        "    assert len(original_texts) == len(fixed_texts)\n",
        "    \n",
        "    with torch.inference_mode(True):\n",
        "        if return_result:\n",
        "            return compute_score(original_texts, fixed_texts, show_res = show_res, return_result=return_result)\n",
        "        return compute_score(original_texts, fixed_texts, show_res = show_res)\n"
      ],
      "execution_count": null,
      "outputs": []
    },
    {
      "cell_type": "code",
      "metadata": {
        "colab": {
          "base_uri": "https://localhost:8080/",
          "height": 66,
          "referenced_widgets": [
            "34c04139f622484cb4e1ac818db80116",
            "365f164b445047b7850b5917e7326470",
            "fa65206cf390479c91a976c83cd706ac",
            "6930e008faea4eeea63d3e14e19c5f2c",
            "5687a2f33afe42788eb533c4fa5d32ec",
            "5a744bf155d5485aaf50d9706d4bd867",
            "210ba4cf9cfe488283b32d67aa839138",
            "0077414d18834a8a892bbc9c6a969efb",
            "c61fa32aae614e8fa77be82d71200959",
            "efe9bceef19046138a06fb211db472bd",
            "9bd6e15598164596ac1b5a7dd647ea98"
          ]
        },
        "id": "bRI_KUmIlEKJ",
        "outputId": "e248221a-c592-4cec-a726-765a8f4f17df"
      },
      "source": [
        "embs_file = np.load(DRIVE_PATH + 'embeddings_with_lemmas.npz', allow_pickle=True)\n",
        "embs_vectors = embs_file['vectors']\n",
        "embs_voc = embs_file['voc'].item()\n",
        "\n",
        "\n",
        "embs_voc_normalized = set([normalize(word) for word in tqdm(embs_voc.keys())])\n",
        "print(len(embs_voc_normalized))"
      ],
      "execution_count": null,
      "outputs": [
        {
          "output_type": "display_data",
          "data": {
            "application/vnd.jupyter.widget-view+json": {
              "model_id": "34c04139f622484cb4e1ac818db80116",
              "version_minor": 0,
              "version_major": 2
            },
            "text/plain": [
              "  0%|          | 0/162690 [00:00<?, ?it/s]"
            ]
          },
          "metadata": {}
        },
        {
          "output_type": "stream",
          "name": "stdout",
          "text": [
            "148576\n"
          ]
        }
      ]
    },
    {
      "cell_type": "code",
      "metadata": {
        "colab": {
          "base_uri": "https://localhost:8080/"
        },
        "id": "NbHHSUlI7nXE",
        "outputId": "1113ed24-db59-4001-f90d-a58415f9df6e"
      },
      "source": [
        "texts = []\n",
        "with open(DRIVE_PATH + 'public_testset.txt', 'rt') as f:\n",
        "    for line in f:\n",
        "        texts.append(normalize(line))\n",
        "\n",
        "comments_voc = set()\n",
        "for text in texts:\n",
        "    comments_voc.update(text.split())\n",
        "print(len(comments_voc))"
      ],
      "execution_count": null,
      "outputs": [
        {
          "output_type": "stream",
          "name": "stdout",
          "text": [
            "22005\n"
          ]
        }
      ]
    },
    {
      "cell_type": "markdown",
      "metadata": {
        "id": "8FirZEJa5OlB"
      },
      "source": [
        "#Обучение супер словаря и toxicity "
      ]
    },
    {
      "cell_type": "code",
      "metadata": {
        "colab": {
          "base_uri": "https://localhost:8080/"
        },
        "id": "dNBB0R_45Nzy",
        "outputId": "f2f22e67-f9f4-4b50-e63e-f11c6f362b52"
      },
      "source": [
        "EMBEDDING_VOCAB = embs_voc_normalized | comments_voc\n",
        "print(len(EMBEDDING_VOCAB))"
      ],
      "execution_count": null,
      "outputs": [
        {
          "output_type": "stream",
          "name": "stdout",
          "text": [
            "163532\n"
          ]
        }
      ]
    },
    {
      "cell_type": "code",
      "metadata": {
        "id": "07Cq_UdP5XvP"
      },
      "source": [
        "def improve_toxicity(data):\n",
        "\n",
        "    words = set()\n",
        "    for text in data:\n",
        "        words.update(text.split())\n",
        "    words = sorted(words)\n",
        "\n",
        "    with torch.inference_mode():\n",
        "        word_toxicities = predict_toxicity(words, batch_size=100, return_scores=True)\n",
        "\n",
        "    before = len(toxicity)\n",
        "    for word, tox in zip(words, word_toxicities):\n",
        "        toxicity[word] = tox\n",
        "    print(\"New words :\", len(toxicity) - before)\n",
        "    print(\"Cur len :\", len(toxicity))"
      ],
      "execution_count": null,
      "outputs": []
    },
    {
      "cell_type": "code",
      "metadata": {
        "id": "3ZKgz6X55a3-"
      },
      "source": [
        "#Уменьшаем EMBEDDING_VOCAB в зависимости от токсичности\n",
        "toxicity = dict()\n",
        "improve_toxicity(EMBEDDING_VOCAB)"
      ],
      "execution_count": null,
      "outputs": []
    },
    {
      "cell_type": "code",
      "metadata": {
        "id": "RpqyOXiaowUr"
      },
      "source": [
        "NONTOXIC_EMBEDDING_VOCAB = set()"
      ],
      "execution_count": 383,
      "outputs": []
    },
    {
      "cell_type": "code",
      "metadata": {
        "id": "FvMB_p_fpGcx"
      },
      "source": [
        "#ТОП НЕТОКСИЧНЫХ ИЗ ЭМБЕДДИНГОВ\n",
        "NONTOXIC_EMBEDDING_VOCAB .update({word for word, tox in toxicity.items() if tox < 0.0098})\n",
        "print(len(NONTOXIC_EMBEDDING_VOCAB))"
      ],
      "execution_count": null,
      "outputs": []
    },
    {
      "cell_type": "code",
      "metadata": {
        "colab": {
          "base_uri": "https://localhost:8080/"
        },
        "id": "zg8ieqCcpHdH",
        "outputId": "eca1ea6b-5760-494a-ded8-2d4f7100d745"
      },
      "source": [
        "#РУЧКАМИ ПОДОБРВАЛИ\n",
        "SPECIAL_WORDS = [\"спасибо\", \"любовь\", \"он\", 'cardboard', 'замечательную', 'software', 'workbook', \"спасибочки\", \"textbook\"]\n",
        "for word in SPECIAL_WORDS:\n",
        "    NONTOXIC_EMBEDDING_VOCAB.add(word)\n",
        "print(len(NONTOXIC_EMBEDDING_VOCAB))"
      ],
      "execution_count": 414,
      "outputs": [
        {
          "output_type": "stream",
          "name": "stdout",
          "text": [
            "153\n"
          ]
        }
      ]
    },
    {
      "cell_type": "code",
      "metadata": {
        "colab": {
          "base_uri": "https://localhost:8080/"
        },
        "id": "R077ohAA2Yb4",
        "outputId": "93f1a3f1-b45b-49b9-c8f9-2dfe9c5e0e12"
      },
      "source": [
        "#ТОП РУССКИХ\n",
        "top_russian = set()\n",
        "with open(DRIVE_PATH + 'dicitionary/top_russian.txt', 'rt') as f:\n",
        "    for line in f:\n",
        "        w = normalize(line)\n",
        "        if w and w in embs_voc_normalized:\n",
        "            top_russian.add(normalize(line))\n",
        "\n",
        "word_toxicities = predict_toxicity(top_russian, batch_size=100, return_scores=True)\n",
        "top_russian = set(word for word, tox in zip(top_russian, word_toxicities) if tox < 0.05)\n",
        "\n",
        "NONTOXIC_EMBEDDING_VOCAB.update(top_russian)\n",
        "print(len(NONTOXIC_EMBEDDING_VOCAB))"
      ],
      "execution_count": 381,
      "outputs": [
        {
          "output_type": "stream",
          "name": "stdout",
          "text": [
            "245\n",
            "248\n",
            "628\n"
          ]
        }
      ]
    },
    {
      "cell_type": "code",
      "metadata": {
        "colab": {
          "base_uri": "https://localhost:8080/"
        },
        "id": "bHvyI_vtn5Ra",
        "outputId": "8505a735-3f6b-4678-b5ff-9f2a05fbdf95"
      },
      "source": [
        "#СТОП-СЛОВА\n",
        "import nltk\n",
        "nltk.download(\"stopwords\")\n",
        "\n",
        "from nltk.corpus import stopwords\n",
        "\n",
        "\n",
        "russian_stopwords = []\n",
        "for word in stopwords.words(\"russian\"):\n",
        "    w = normalize(word)\n",
        "    if w and w in embs_voc_normalized:\n",
        "        russian_stopwords.append(w)\n",
        "\n",
        "\n",
        "print(len(russian_stopwords))\n",
        "NONTOXIC_EMBEDDING_VOCAB.update(set(russian_stopwords))\n",
        "print(len(NONTOXIC_EMBEDDING_VOCAB))"
      ],
      "execution_count": 401,
      "outputs": [
        {
          "output_type": "stream",
          "name": "stdout",
          "text": [
            "[nltk_data] Downloading package stopwords to /root/nltk_data...\n",
            "[nltk_data]   Package stopwords is already up-to-date!\n",
            "145\n",
            "152\n"
          ]
        }
      ]
    },
    {
      "cell_type": "code",
      "metadata": {
        "id": "qFjfMdkd46dq"
      },
      "source": [
        "COMMENTS_VOCAB = dict()"
      ],
      "execution_count": 391,
      "outputs": []
    },
    {
      "cell_type": "code",
      "metadata": {
        "colab": {
          "base_uri": "https://localhost:8080/"
        },
        "id": "FfjgwySC6y6x",
        "outputId": "561d11d6-2bb0-4b3b-b029-ff78fa5806ee"
      },
      "source": [
        "#Обучаем COMMENTS_VOCAB\n",
        "for word in NONTOXIC_EMBEDDING_VOCAB | comments_voc:\n",
        "    if word not in COMMENTS_VOCAB:\n",
        "        COMMENTS_VOCAB[word] = {} \n",
        "print(len(COMMENTS_VOCAB))\n"
      ],
      "execution_count": 415,
      "outputs": [
        {
          "output_type": "stream",
          "name": "stdout",
          "text": [
            "22010\n"
          ]
        }
      ]
    },
    {
      "cell_type": "code",
      "metadata": {
        "colab": {
          "base_uri": "https://localhost:8080/",
          "height": 503,
          "referenced_widgets": [
            "dac25b15beb64caa89a3bcbbbe0b6483",
            "5401f1a1e0944397ad75aa7b417f41bf",
            "6969d95c9c5444a8829473bdc2be0ab9",
            "8465bc63810446399adf0284ee9c9a9c",
            "d06a071b508f45899d4ee0924eeba172",
            "0beeeff810fd4c6e8e00876feded81f1",
            "d7e8ee800b1d408c8dc213961de4cd71",
            "8e5a2256d2504978ba05fd7f127c1c7a",
            "e4a07633e8f14ab5851a30b1e6bdec4a",
            "c61e69c80030497590f92ab7a73621eb",
            "b020622118bb411e819771c26d93a801"
          ]
        },
        "id": "O6gVP5O2Ay7j",
        "outputId": "df4c7d7f-0379-4898-da91-7aee01530e7e"
      },
      "source": [
        "for key in tqdm(NONTOXIC_EMBEDDING_VOCAB):\n",
        "    for word in comments_voc:\n",
        "        if word and key:\n",
        "            COMMENTS_VOCAB[key][word] = calc_single_embedding_dist(key, word)"
      ],
      "execution_count": 399,
      "outputs": [
        {
          "output_type": "display_data",
          "data": {
            "application/vnd.jupyter.widget-view+json": {
              "model_id": "dac25b15beb64caa89a3bcbbbe0b6483",
              "version_minor": 0,
              "version_major": 2
            },
            "text/plain": [
              "  0%|          | 0/152 [00:00<?, ?it/s]"
            ]
          },
          "metadata": {}
        },
        {
          "output_type": "error",
          "ename": "KeyboardInterrupt",
          "evalue": "ignored",
          "traceback": [
            "\u001b[0;31m---------------------------------------------------------------------------\u001b[0m",
            "\u001b[0;31mKeyboardInterrupt\u001b[0m                         Traceback (most recent call last)",
            "\u001b[0;32m<ipython-input-399-e5bd376aa03e>\u001b[0m in \u001b[0;36m<module>\u001b[0;34m()\u001b[0m\n\u001b[1;32m      2\u001b[0m     \u001b[0;32mfor\u001b[0m \u001b[0mword\u001b[0m \u001b[0;32min\u001b[0m \u001b[0mcomments_voc\u001b[0m\u001b[0;34m:\u001b[0m\u001b[0;34m\u001b[0m\u001b[0;34m\u001b[0m\u001b[0m\n\u001b[1;32m      3\u001b[0m         \u001b[0;32mif\u001b[0m \u001b[0mword\u001b[0m \u001b[0;32mand\u001b[0m \u001b[0mkey\u001b[0m\u001b[0;34m:\u001b[0m\u001b[0;34m\u001b[0m\u001b[0;34m\u001b[0m\u001b[0m\n\u001b[0;32m----> 4\u001b[0;31m             \u001b[0mCOMMENTS_VOCAB\u001b[0m\u001b[0;34m[\u001b[0m\u001b[0mkey\u001b[0m\u001b[0;34m]\u001b[0m\u001b[0;34m[\u001b[0m\u001b[0mword\u001b[0m\u001b[0;34m]\u001b[0m \u001b[0;34m=\u001b[0m \u001b[0mcalc_single_embedding_dist\u001b[0m\u001b[0;34m(\u001b[0m\u001b[0mkey\u001b[0m\u001b[0;34m,\u001b[0m \u001b[0mword\u001b[0m\u001b[0;34m)\u001b[0m\u001b[0;34m\u001b[0m\u001b[0;34m\u001b[0m\u001b[0m\n\u001b[0m",
            "\u001b[0;32m<ipython-input-213-80c0564a4735>\u001b[0m in \u001b[0;36mcalc_single_embedding_dist\u001b[0;34m(word1, word2)\u001b[0m\n\u001b[1;32m     28\u001b[0m         \u001b[0;32mreturn\u001b[0m \u001b[0mCOMMENTS_VOCAB\u001b[0m\u001b[0;34m[\u001b[0m\u001b[0mword2\u001b[0m\u001b[0;34m]\u001b[0m\u001b[0;34m[\u001b[0m\u001b[0mword1\u001b[0m\u001b[0;34m]\u001b[0m\u001b[0;34m\u001b[0m\u001b[0;34m\u001b[0m\u001b[0m\n\u001b[1;32m     29\u001b[0m \u001b[0;34m\u001b[0m\u001b[0m\n\u001b[0;32m---> 30\u001b[0;31m     \u001b[0ma\u001b[0m \u001b[0;34m=\u001b[0m \u001b[0mcalc_embs\u001b[0m\u001b[0;34m(\u001b[0m\u001b[0;34m[\u001b[0m\u001b[0mword1\u001b[0m\u001b[0;34m]\u001b[0m\u001b[0;34m)\u001b[0m\u001b[0;34m[\u001b[0m\u001b[0;36m0\u001b[0m\u001b[0;34m]\u001b[0m\u001b[0;34m\u001b[0m\u001b[0;34m\u001b[0m\u001b[0m\n\u001b[0m\u001b[1;32m     31\u001b[0m     \u001b[0mb\u001b[0m \u001b[0;34m=\u001b[0m \u001b[0mcalc_embs\u001b[0m\u001b[0;34m(\u001b[0m\u001b[0;34m[\u001b[0m\u001b[0mword2\u001b[0m\u001b[0;34m]\u001b[0m\u001b[0;34m)\u001b[0m\u001b[0;34m[\u001b[0m\u001b[0;36m0\u001b[0m\u001b[0;34m]\u001b[0m\u001b[0;34m\u001b[0m\u001b[0;34m\u001b[0m\u001b[0m\n\u001b[1;32m     32\u001b[0m \u001b[0;34m\u001b[0m\u001b[0m\n",
            "\u001b[0;32m<ipython-input-213-80c0564a4735>\u001b[0m in \u001b[0;36mcalc_embs\u001b[0;34m(words)\u001b[0m\n\u001b[1;32m     15\u001b[0m \u001b[0;34m\u001b[0m\u001b[0m\n\u001b[1;32m     16\u001b[0m \u001b[0;32mdef\u001b[0m \u001b[0mcalc_embs\u001b[0m\u001b[0;34m(\u001b[0m\u001b[0mwords\u001b[0m\u001b[0;34m)\u001b[0m\u001b[0;34m:\u001b[0m\u001b[0;34m\u001b[0m\u001b[0;34m\u001b[0m\u001b[0m\n\u001b[0;32m---> 17\u001b[0;31m     \u001b[0mwords\u001b[0m \u001b[0;34m=\u001b[0m \u001b[0;34m' '\u001b[0m\u001b[0;34m.\u001b[0m\u001b[0mjoin\u001b[0m\u001b[0;34m(\u001b[0m\u001b[0mmap\u001b[0m\u001b[0;34m(\u001b[0m\u001b[0mnormalize\u001b[0m\u001b[0;34m,\u001b[0m \u001b[0mwords\u001b[0m\u001b[0;34m)\u001b[0m\u001b[0;34m)\u001b[0m\u001b[0;34m\u001b[0m\u001b[0;34m\u001b[0m\u001b[0m\n\u001b[0m\u001b[1;32m     18\u001b[0m     \u001b[0minds\u001b[0m \u001b[0;34m=\u001b[0m \u001b[0mget_w2v_indicies\u001b[0m\u001b[0;34m(\u001b[0m\u001b[0mwords\u001b[0m\u001b[0;34m)\u001b[0m\u001b[0;34m\u001b[0m\u001b[0;34m\u001b[0m\u001b[0m\n\u001b[1;32m     19\u001b[0m     \u001b[0;32mreturn\u001b[0m \u001b[0;34m[\u001b[0m\u001b[0;34m(\u001b[0m\u001b[0mw\u001b[0m\u001b[0;34m,\u001b[0m \u001b[0mi\u001b[0m \u001b[0;32mif\u001b[0m \u001b[0mi\u001b[0m \u001b[0;32mis\u001b[0m \u001b[0;32mNone\u001b[0m \u001b[0;32melse\u001b[0m \u001b[0membs_vectors\u001b[0m\u001b[0;34m[\u001b[0m\u001b[0mi\u001b[0m\u001b[0;34m]\u001b[0m\u001b[0;34m)\u001b[0m \u001b[0;32mfor\u001b[0m \u001b[0mw\u001b[0m\u001b[0;34m,\u001b[0m \u001b[0mi\u001b[0m \u001b[0;32min\u001b[0m \u001b[0minds\u001b[0m\u001b[0;34m]\u001b[0m\u001b[0;34m\u001b[0m\u001b[0;34m\u001b[0m\u001b[0m\n",
            "\u001b[0;32m<ipython-input-7-4e714351aaf1>\u001b[0m in \u001b[0;36mnormalize\u001b[0;34m(sentence, max_tokens_per_word)\u001b[0m\n\u001b[1;32m     55\u001b[0m \u001b[0;34m\u001b[0m\u001b[0m\n\u001b[1;32m     56\u001b[0m     \u001b[0msentence\u001b[0m \u001b[0;34m=\u001b[0m \u001b[0;34m''\u001b[0m\u001b[0;34m.\u001b[0m\u001b[0mjoin\u001b[0m\u001b[0;34m(\u001b[0m\u001b[0mmap\u001b[0m\u001b[0;34m(\u001b[0m\u001b[0;32mlambda\u001b[0m \u001b[0mc\u001b[0m\u001b[0;34m:\u001b[0m \u001b[0mc\u001b[0m \u001b[0;32mif\u001b[0m \u001b[0mvalidate_char\u001b[0m\u001b[0;34m(\u001b[0m\u001b[0mc\u001b[0m\u001b[0;34m)\u001b[0m \u001b[0;32melse\u001b[0m \u001b[0;34m' '\u001b[0m\u001b[0;34m,\u001b[0m \u001b[0msentence\u001b[0m\u001b[0;34m.\u001b[0m\u001b[0mlower\u001b[0m\u001b[0;34m(\u001b[0m\u001b[0;34m)\u001b[0m\u001b[0;34m)\u001b[0m\u001b[0;34m)\u001b[0m\u001b[0;34m\u001b[0m\u001b[0;34m\u001b[0m\u001b[0m\n\u001b[0;32m---> 57\u001b[0;31m     \u001b[0mids\u001b[0m \u001b[0;34m=\u001b[0m \u001b[0mtokenizer\u001b[0m\u001b[0;34m(\u001b[0m\u001b[0msentence\u001b[0m\u001b[0;34m)\u001b[0m\u001b[0;34m[\u001b[0m\u001b[0;34m'input_ids'\u001b[0m\u001b[0;34m]\u001b[0m\u001b[0;34m\u001b[0m\u001b[0;34m\u001b[0m\u001b[0m\n\u001b[0m\u001b[1;32m     58\u001b[0m     \u001b[0mtokens\u001b[0m \u001b[0;34m=\u001b[0m \u001b[0mtokenizer\u001b[0m\u001b[0;34m.\u001b[0m\u001b[0mconvert_ids_to_tokens\u001b[0m\u001b[0;34m(\u001b[0m\u001b[0mids\u001b[0m\u001b[0;34m)\u001b[0m\u001b[0;34m[\u001b[0m\u001b[0;36m1\u001b[0m\u001b[0;34m:\u001b[0m\u001b[0;34m-\u001b[0m\u001b[0;36m1\u001b[0m\u001b[0;34m]\u001b[0m\u001b[0;34m\u001b[0m\u001b[0;34m\u001b[0m\u001b[0m\n\u001b[1;32m     59\u001b[0m \u001b[0;34m\u001b[0m\u001b[0m\n",
            "\u001b[0;32m/usr/local/lib/python3.7/dist-packages/transformers/tokenization_utils_base.py\u001b[0m in \u001b[0;36m__call__\u001b[0;34m(self, text, text_pair, add_special_tokens, padding, truncation, max_length, stride, is_split_into_words, pad_to_multiple_of, return_tensors, return_token_type_ids, return_attention_mask, return_overflowing_tokens, return_special_tokens_mask, return_offsets_mapping, return_length, verbose, **kwargs)\u001b[0m\n\u001b[1;32m   2439\u001b[0m                 \u001b[0mreturn_length\u001b[0m\u001b[0;34m=\u001b[0m\u001b[0mreturn_length\u001b[0m\u001b[0;34m,\u001b[0m\u001b[0;34m\u001b[0m\u001b[0;34m\u001b[0m\u001b[0m\n\u001b[1;32m   2440\u001b[0m                 \u001b[0mverbose\u001b[0m\u001b[0;34m=\u001b[0m\u001b[0mverbose\u001b[0m\u001b[0;34m,\u001b[0m\u001b[0;34m\u001b[0m\u001b[0;34m\u001b[0m\u001b[0m\n\u001b[0;32m-> 2441\u001b[0;31m                 \u001b[0;34m**\u001b[0m\u001b[0mkwargs\u001b[0m\u001b[0;34m,\u001b[0m\u001b[0;34m\u001b[0m\u001b[0;34m\u001b[0m\u001b[0m\n\u001b[0m\u001b[1;32m   2442\u001b[0m             )\n\u001b[1;32m   2443\u001b[0m \u001b[0;34m\u001b[0m\u001b[0m\n",
            "\u001b[0;32m/usr/local/lib/python3.7/dist-packages/transformers/tokenization_utils_base.py\u001b[0m in \u001b[0;36mencode_plus\u001b[0;34m(self, text, text_pair, add_special_tokens, padding, truncation, max_length, stride, is_split_into_words, pad_to_multiple_of, return_tensors, return_token_type_ids, return_attention_mask, return_overflowing_tokens, return_special_tokens_mask, return_offsets_mapping, return_length, verbose, **kwargs)\u001b[0m\n\u001b[1;32m   2509\u001b[0m             \u001b[0mreturn_length\u001b[0m\u001b[0;34m=\u001b[0m\u001b[0mreturn_length\u001b[0m\u001b[0;34m,\u001b[0m\u001b[0;34m\u001b[0m\u001b[0;34m\u001b[0m\u001b[0m\n\u001b[1;32m   2510\u001b[0m             \u001b[0mverbose\u001b[0m\u001b[0;34m=\u001b[0m\u001b[0mverbose\u001b[0m\u001b[0;34m,\u001b[0m\u001b[0;34m\u001b[0m\u001b[0;34m\u001b[0m\u001b[0m\n\u001b[0;32m-> 2511\u001b[0;31m             \u001b[0;34m**\u001b[0m\u001b[0mkwargs\u001b[0m\u001b[0;34m,\u001b[0m\u001b[0;34m\u001b[0m\u001b[0;34m\u001b[0m\u001b[0m\n\u001b[0m\u001b[1;32m   2512\u001b[0m         )\n\u001b[1;32m   2513\u001b[0m \u001b[0;34m\u001b[0m\u001b[0m\n",
            "\u001b[0;32m/usr/local/lib/python3.7/dist-packages/transformers/tokenization_utils_fast.py\u001b[0m in \u001b[0;36m_encode_plus\u001b[0;34m(self, text, text_pair, add_special_tokens, padding_strategy, truncation_strategy, max_length, stride, is_split_into_words, pad_to_multiple_of, return_tensors, return_token_type_ids, return_attention_mask, return_overflowing_tokens, return_special_tokens_mask, return_offsets_mapping, return_length, verbose, **kwargs)\u001b[0m\n\u001b[1;32m    508\u001b[0m             )\n\u001b[1;32m    509\u001b[0m \u001b[0;34m\u001b[0m\u001b[0m\n\u001b[0;32m--> 510\u001b[0;31m         \u001b[0mself\u001b[0m\u001b[0;34m.\u001b[0m\u001b[0m_eventual_warn_about_too_long_sequence\u001b[0m\u001b[0;34m(\u001b[0m\u001b[0mbatched_output\u001b[0m\u001b[0;34m[\u001b[0m\u001b[0;34m\"input_ids\"\u001b[0m\u001b[0;34m]\u001b[0m\u001b[0;34m,\u001b[0m \u001b[0mmax_length\u001b[0m\u001b[0;34m,\u001b[0m \u001b[0mverbose\u001b[0m\u001b[0;34m)\u001b[0m\u001b[0;34m\u001b[0m\u001b[0;34m\u001b[0m\u001b[0m\n\u001b[0m\u001b[1;32m    511\u001b[0m \u001b[0;34m\u001b[0m\u001b[0m\n\u001b[1;32m    512\u001b[0m         \u001b[0;32mreturn\u001b[0m \u001b[0mbatched_output\u001b[0m\u001b[0;34m\u001b[0m\u001b[0;34m\u001b[0m\u001b[0m\n",
            "\u001b[0;31mKeyboardInterrupt\u001b[0m: "
          ]
        }
      ]
    },
    {
      "cell_type": "code",
      "metadata": {
        "colab": {
          "base_uri": "https://localhost:8080/",
          "height": 66,
          "referenced_widgets": [
            "8d04c82275194d8e9923ed70fb00f844",
            "4ba4a8507173478f8d65d0aff4b9d814",
            "8e8d5f2bb2814148b23364abcaa99346",
            "5810b0c2cb574c41925baa11982df8d0",
            "788139b23a6e4ca18984698c17929c15",
            "5dcd76cbe2074b228f4d594f7ecf8ab6",
            "31a61ffa24c846b89897c04ba46791f6",
            "e79cc82f145f473c8d5da0dfed644cad",
            "c707af31f5204deb87c3897325944dda",
            "6a8331d43fab486c960a32c0a25986d9",
            "7c39b077cbc44fbe9fd43a77f3e5f58d"
          ]
        },
        "id": "cum8uyQm0xLv",
        "outputId": "70415382-0eed-4c05-b129-7f0e71a0a970"
      },
      "source": [
        "#Дообучаем COMMENTS_VOCAB\n",
        "dsts = []\n",
        "for text in tqdm(texts):\n",
        "    dsts.append(distance_score(text, text))\n",
        "\n",
        "print(sum(dsts)/len(dsts))"
      ],
      "execution_count": 417,
      "outputs": [
        {
          "output_type": "display_data",
          "data": {
            "application/vnd.jupyter.widget-view+json": {
              "model_id": "8d04c82275194d8e9923ed70fb00f844",
              "version_minor": 0,
              "version_major": 2
            },
            "text/plain": [
              "  0%|          | 0/2500 [00:00<?, ?it/s]"
            ]
          },
          "metadata": {}
        },
        {
          "output_type": "stream",
          "name": "stdout",
          "text": [
            "1.0\n"
          ]
        }
      ]
    },
    {
      "cell_type": "code",
      "metadata": {
        "id": "jCJw-7M95Ack"
      },
      "source": [
        "#СОХРАНИТЬ\n",
        "import pickle as pkl\n",
        "\n",
        "with open(DRIVE_PATH + 'EMBS.pkl', 'wb') as f:\n",
        "    pkl.dump(COMMENTS_VOCAB, f)"
      ],
      "execution_count": 402,
      "outputs": []
    },
    {
      "cell_type": "code",
      "metadata": {
        "colab": {
          "base_uri": "https://localhost:8080/"
        },
        "id": "ebfedbdIaLhA",
        "outputId": "b5023bd3-b273-4e7f-8c69-c8cddb5299f3"
      },
      "source": [
        "def get_top_n(word, n):\n",
        "    candidates = []\n",
        "    for candidate in NONTOXIC_EMBEDDING_VOCAB:\n",
        "        if word in COMMENTS_VOCAB[candidate]:\n",
        "            dist = COMMENTS_VOCAB[candidate][word]\n",
        "            #tox = toxicity[candidate]\n",
        "            score = (1 - dist) #+ (1 - tox)*1.1\n",
        "            \n",
        "            candidates.append([score, candidate])\n",
        "    candidates.sort(reverse = True)\n",
        "    #print(candidates[:n])\n",
        "    return [word for score, word in candidates[:n]]\n",
        "\n",
        "get_top_n(\"любовь\", 30)"
      ],
      "execution_count": 418,
      "outputs": [
        {
          "output_type": "execute_result",
          "data": {
            "text/plain": [
              "['любовь',\n",
              " 'ты',\n",
              " 'ведь',\n",
              " 'никогда',\n",
              " 'себе',\n",
              " 'всегда',\n",
              " 'замечательную',\n",
              " 'тебя',\n",
              " 'потому',\n",
              " 'конечно',\n",
              " 'мой',\n",
              " 'она',\n",
              " 'я',\n",
              " 'мы',\n",
              " 'разве',\n",
              " 'сам',\n",
              " 'ней',\n",
              " 'кто',\n",
              " 'спасибочки',\n",
              " 'вам',\n",
              " 'всех',\n",
              " 'все',\n",
              " 'тут',\n",
              " 'тоже',\n",
              " 'да',\n",
              " 'тогда',\n",
              " 'он',\n",
              " 'но',\n",
              " 'уж',\n",
              " 'спасибо']"
            ]
          },
          "metadata": {},
          "execution_count": 418
        }
      ]
    },
    {
      "cell_type": "markdown",
      "metadata": {
        "id": "5D-04EMJ6mYK"
      },
      "source": [
        "#ИЛИ Загрузка этого словаря"
      ]
    },
    {
      "cell_type": "code",
      "metadata": {
        "id": "UnWdeclv6qZR"
      },
      "source": [
        "import pickle as pkl\n",
        "\n",
        "with open(DRIVE_PATH + 'EMBS.pkl', 'rb') as f:\n",
        "    COMMENTS_VOCAB = pkl.load(f)"
      ],
      "execution_count": null,
      "outputs": []
    },
    {
      "cell_type": "code",
      "metadata": {
        "colab": {
          "base_uri": "https://localhost:8080/"
        },
        "id": "QluVMTqMGweK",
        "outputId": "7981667c-90ff-452a-9845-e44ad984de5f"
      },
      "source": [
        "def sort_by_toxicity(words):\n",
        "    toxicities = [toxicity.get(w) if w in toxicity else predict_toxicity([w], return_scores = True, off_tqdm=True) for w in words]\n",
        "  \n",
        "    result = [[toxicities[i], i, words[i]] for i in range(len(words))]\n",
        "    result.sort(reverse = True)\n",
        "    return result\n",
        "\n",
        "\n",
        "\n",
        "line = np.random.choice(texts)\n",
        "pred = predict_toxicity([line])\n",
        "line_words = normalize(line).split()\n",
        "print(sort_by_toxicity(line_words))"
      ],
      "execution_count": null,
      "outputs": [
        {
          "output_type": "stream",
          "name": "stdout",
          "text": [
            "[[0.85235643, 16, 'идиотом'], [0.5289828, 7, 'банды'], [0.4337692, 6, 'путинской'], [0.29428363, 2, 'выборах'], [0.18188836, 15, 'полным'], [0.15841357, 8, 'но'], [0.15284795, 5, 'кроме'], [0.14809723, 3, 'победят'], [0.13659135, 1, 'честных'], [0.1308763, 4, 'все'], [0.12726091, 9, 'их'], [0.12318689, 17, 'чтобы'], [0.12005733, 20, 'понимать'], [0.11746098, 19, 'не'], [0.11746098, 10, 'не'], [0.112177566, 0, 'в'], [0.09537505, 11, 'будет'], [0.09521881, 13, 'надо'], [0.060944885, 12, 'и'], [0.049414158, 14, 'быть'], [0.029611167, 18, 'этого']]\n"
          ]
        }
      ]
    },
    {
      "cell_type": "code",
      "metadata": {
        "colab": {
          "base_uri": "https://localhost:8080/"
        },
        "id": "xGfgNmtjHRZ-",
        "outputId": "fb54fcbc-bb75-40b3-e5b5-cc2e881ad002"
      },
      "source": [
        "def sort_by_distance(words, word):\n",
        "    result = [[calc_single_embedding_dist(word, words[i]), i, words[i]] for i in range(len(words))]\n",
        "    result.sort()\n",
        "    return result\n",
        "\n",
        "print(texts[0])\n",
        "sort_by_distance(texts[0].split(), \"смерть\")"
      ],
      "execution_count": 408,
      "outputs": [
        {
          "output_type": "stream",
          "name": "stdout",
          "text": [
            "он скоро сдохнет и все вернется\n"
          ]
        },
        {
          "output_type": "execute_result",
          "data": {
            "text/plain": [
              "[[0.35740493386983874, 0, 'он'],\n",
              " [0.3788325250148773, 2, 'сдохнет'],\n",
              " [0.4097006469964981, 5, 'вернется'],\n",
              " [0.4247136682271958, 3, 'и'],\n",
              " [0.43659923374652865, 1, 'скоро'],\n",
              " [0.4378321446478367, 4, 'все']]"
            ]
          },
          "metadata": {},
          "execution_count": 408
        }
      ]
    },
    {
      "cell_type": "code",
      "metadata": {
        "id": "plElYiZqvaJI"
      },
      "source": [
        "def random_letter(word):\n",
        "    result_word = list(word)\n",
        "    rand_letter = np.random.choice(list('абвгдежзийклмнопрстуфхцчшщъыьэюя'))\n",
        "    rand_idx = np.random.randint(0, len(result_word))\n",
        "    result_word[rand_idx] = rand_letter\n",
        "    result_word = ''.join(result_word)\n",
        "    return result_word"
      ],
      "execution_count": null,
      "outputs": []
    },
    {
      "cell_type": "code",
      "metadata": {
        "id": "njv1LePrHbN9"
      },
      "source": [
        "\n",
        "def detox_dumb(i, line):\n",
        "    words = normalize(line).split()\n",
        "    sorted_words = sort_by_toxicity(words)#sort_by_distance(words, \"спасибо\")\n",
        "    \n",
        "    score = new_checker([texts[i]], [' '.join(words)])\n",
        "    for toxic_toxicity, toxic_idx, toxic_word in sorted_words:\n",
        "        \n",
        "\n",
        "        cur_word = toxic_word\n",
        "        \n",
        "     \n",
        "        candidates = [\"спасибо\", \"любовь\", \"textbook\"]\n",
        "        candidates += get_top_n(toxic_word, 5)\n",
        "        candidates = set(candidates)\n",
        "\n",
        "        \n",
        "        for candidate in candidates:\n",
        "            words[toxic_idx] = candidate\n",
        "            new_score = new_checker([texts[i]], [' '.join(words)])\n",
        "\n",
        "            if new_score >= score:\n",
        "                #print(score, \"->\", new_score, candidate)\n",
        "                score = new_score\n",
        "                cur_word = candidate\n",
        "                \n",
        "            else:\n",
        "                words[toxic_idx] = cur_word\n",
        "\n",
        "\n",
        "    cur_scores.append(score[0])\n",
        "    return ' '.join(words)\n"
      ],
      "execution_count": 420,
      "outputs": []
    },
    {
      "cell_type": "code",
      "metadata": {
        "id": "hUB-1Y-Wwo57"
      },
      "source": [
        "Original = []\n",
        "Detoxed = []\n",
        "for i in tqdm(range(0, len(texts), 50)):\n",
        "    line = texts[i]\n",
        "    detoxed = detox_dumb(i, line)\n",
        "\n",
        "    Original.append(line)\n",
        "    Detoxed.append(detoxed)\n",
        "\n",
        "\n",
        "new_checker(Original, Detoxed, show_res = True)"
      ],
      "execution_count": null,
      "outputs": []
    },
    {
      "cell_type": "code",
      "metadata": {
        "id": "65phWMdzSf8z",
        "colab": {
          "base_uri": "https://localhost:8080/",
          "height": 1000,
          "referenced_widgets": [
            "049687654652483c9a6b148bc0e48c3f",
            "c26a0d1652e44bfd906678e3052a2267",
            "d4cf80c51bf240a29f0fbf50b2c63d70",
            "fd26a940047a49cb90c0643cbb0eda99",
            "1d4516338bf94440a3af71cb566ba8a9",
            "9abe71767d884b3cb43f499d6256bf9f",
            "747a11577d0c440c878e95082512adb3",
            "dd8f4173c7b1484ea468e55764735290",
            "a641d9637ffc4d9583fb4e6ee985a871",
            "00ded8b47ccf49e2838a04c6807b3629",
            "b79ab853daa94c2b93da24816cf91ddc"
          ]
        },
        "outputId": "5838bc56-c8da-420d-a5b3-3ad4c0359f6c"
      },
      "source": [
        "cur_scores = []\n",
        "fixed_texts = []\n",
        "for i in tqdm(range(len(texts))):\n",
        "    fixed_texts.append(detox_dumb(i, texts[i]))\n",
        "    print(sum(cur_scores)/len(cur_scores), f\"{i+1}/2500\")\n",
        "\n",
        "\n",
        "    #save_comments(fixed_texts, \"brand_new_brute\")\n",
        "    \n",
        "\n",
        "new_checker(texts, fixed_texts, show_res = True)"
      ],
      "execution_count": null,
      "outputs": [
        {
          "output_type": "display_data",
          "data": {
            "application/vnd.jupyter.widget-view+json": {
              "model_id": "049687654652483c9a6b148bc0e48c3f",
              "version_minor": 0,
              "version_major": 2
            },
            "text/plain": [
              "  0%|          | 0/2500 [00:00<?, ?it/s]"
            ]
          },
          "metadata": {}
        },
        {
          "output_type": "stream",
          "name": "stdout",
          "text": [
            "0.6617002717047347 1/2500\n",
            "0.4910524486390387 2/2500\n",
            "0.5220229883607312 3/2500\n",
            "0.536451966308975 4/2500\n",
            "0.5130364694542039 5/2500\n",
            "0.49630854306938027 6/2500\n",
            "0.48921750260979174 7/2500\n",
            "0.5045397107557006 8/2500\n",
            "0.5035525196765023 9/2500\n",
            "0.5077108442177047 10/2500\n",
            "0.5330090305491023 11/2500\n",
            "0.5481090008158932 12/2500\n",
            "0.5820625265660836 13/2500\n",
            "0.5790872884409836 14/2500\n",
            "0.5907839103200565 15/2500\n",
            "0.5857798166427634 16/2500\n",
            "0.5733982971819436 17/2500\n",
            "0.5585989591036915 18/2500\n",
            "0.5694960645200376 19/2500\n",
            "0.5683389409516001 20/2500\n",
            "0.555730592112062 21/2500\n",
            "0.5525973068197785 22/2500\n",
            "0.5314416323453148 23/2500\n",
            "0.5469399059785903 24/2500\n",
            "0.5601116897881422 25/2500\n",
            "0.5680397520273357 26/2500\n",
            "0.5670639682935833 27/2500\n",
            "0.5652103792312054 28/2500\n",
            "0.5586882249979603 29/2500\n",
            "0.5668503190993747 30/2500\n",
            "0.5677235351036524 31/2500\n",
            "0.569133391901951 32/2500\n",
            "0.5637623746787689 33/2500\n",
            "0.5552518379993798 34/2500\n",
            "0.5571396952542234 35/2500\n",
            "0.5632988954575926 36/2500\n",
            "0.5585150659395214 37/2500\n",
            "0.5629969925608763 38/2500\n",
            "0.5581262650257531 39/2500\n",
            "0.5624738221786815 40/2500\n",
            "0.5693175155527176 41/2500\n",
            "0.5662040042934807 42/2500\n",
            "0.5685357722936771 43/2500\n",
            "0.5624141589859616 44/2500\n",
            "0.5604786119017084 45/2500\n",
            "0.5663196370881814 46/2500\n",
            "0.5688831211935126 47/2500\n",
            "0.5745355001464715 48/2500\n",
            "0.5740691308682059 49/2500\n",
            "0.56394629181977 50/2500\n",
            "0.567189054495429 51/2500\n",
            "0.5709355438510637 52/2500\n",
            "0.5742591340652972 53/2500\n",
            "0.5717412114717229 54/2500\n",
            "0.5766445782081695 55/2500\n",
            "0.5727904437869966 56/2500\n",
            "0.5694724270811489 57/2500\n",
            "0.5749621610174084 58/2500\n",
            "0.5751178518618878 59/2500\n",
            "0.5748967688276065 60/2500\n",
            "0.5777465748722952 61/2500\n",
            "0.5786095783154394 62/2500\n",
            "0.5804687422158962 63/2500\n",
            "0.5774612744006271 64/2500\n",
            "0.5717085651109346 65/2500\n",
            "0.5775431984613826 66/2500\n",
            "0.5762492498620314 67/2500\n",
            "0.577392180910246 68/2500\n",
            "0.5799922478281329 69/2500\n",
            "0.5786261393082478 70/2500\n",
            "0.5837727846593931 71/2500\n",
            "0.5844389957258521 72/2500\n",
            "0.5874291323213792 73/2500\n",
            "0.5885667638668124 74/2500\n",
            "0.5926046989228515 75/2500\n",
            "0.5964034982310347 76/2500\n",
            "0.5966597854607334 77/2500\n",
            "0.5984918109485894 78/2500\n",
            "0.6002595720663304 79/2500\n",
            "0.5973360368779266 80/2500\n",
            "0.5981978681142145 81/2500\n",
            "0.5988878351995993 82/2500\n",
            "0.6024874563857308 83/2500\n",
            "0.5995404425306224 84/2500\n",
            "0.5991897668014413 85/2500\n",
            "0.6006886363212055 86/2500\n",
            "0.6027975220847409 87/2500\n",
            "0.599750188624033 88/2500\n",
            "0.6029086608065392 89/2500\n",
            "0.6049286515351261 90/2500\n",
            "0.6068989641885304 91/2500\n",
            "0.60732649077317 92/2500\n",
            "0.6062312858254073 93/2500\n",
            "0.6084572362382487 94/2500\n",
            "0.6034330255236009 95/2500\n",
            "0.6045756325401581 96/2500\n",
            "0.6016623714882322 97/2500\n",
            "0.599172108583602 98/2500\n",
            "0.5972287476568384 99/2500\n",
            "0.596501457161661 100/2500\n",
            "0.5949340481067539 101/2500\n",
            "0.5956908379561031 102/2500\n",
            "0.595433983160269 103/2500\n",
            "0.5932429567772096 104/2500\n",
            "0.5957843260992657 105/2500\n",
            "0.5939655677725717 106/2500\n",
            "0.5916066320547646 107/2500\n",
            "0.5947890630389379 108/2500\n",
            "0.5920320878717029 109/2500\n",
            "0.5927013937741035 110/2500\n",
            "0.5932722687250328 111/2500\n",
            "0.5937044710390006 112/2500\n",
            "0.5933382877143877 113/2500\n",
            "0.5948047830821487 114/2500\n",
            "0.5917339388178805 115/2500\n",
            "0.5946060717486163 116/2500\n",
            "0.5973514016362398 117/2500\n",
            "0.5971046628651735 118/2500\n",
            "0.5958971344230691 119/2500\n",
            "0.595788808598157 120/2500\n",
            "0.5959162605529703 121/2500\n",
            "0.5957798422430967 122/2500\n",
            "0.5956642153388327 123/2500\n",
            "0.5955914671602492 124/2500\n",
            "0.5987482941160185 125/2500\n",
            "0.6009588686630063 126/2500\n",
            "0.5981660071188081 127/2500\n",
            "0.5975438629898916 128/2500\n",
            "0.5960973967154191 129/2500\n",
            "0.5971796237442084 130/2500\n",
            "0.5967818809410114 131/2500\n",
            "0.5949842584150227 132/2500\n",
            "0.5960290197277871 133/2500\n",
            "0.5981641443496759 134/2500\n",
            "0.5995781465312001 135/2500\n",
            "0.599506082794742 136/2500\n",
            "0.6012672369993319 137/2500\n",
            "0.6001443687958211 138/2500\n",
            "0.5999771102107854 139/2500\n",
            "0.5985862578878282 140/2500\n",
            "0.5983412472222276 141/2500\n",
            "0.599600231775241 142/2500\n",
            "0.5989360797045294 143/2500\n",
            "0.5986684247186143 144/2500\n",
            "0.6011883912114382 145/2500\n",
            "0.6010210308417511 146/2500\n",
            "0.600507038734927 147/2500\n",
            "0.5997400053696482 148/2500\n",
            "0.6009296830039184 149/2500\n",
            "0.5988184158435285 150/2500\n",
            "0.5998452613123619 151/2500\n",
            "0.5992178961108747 152/2500\n",
            "0.5998121762620907 153/2500\n",
            "0.6020367352978412 154/2500\n",
            "0.6025723042061792 155/2500\n",
            "0.5997988879037808 156/2500\n",
            "0.5987735681320486 157/2500\n",
            "0.5991959685561934 158/2500\n",
            "0.5995888653567039 159/2500\n",
            "0.5990361925330243 160/2500\n",
            "0.5994735656341451 161/2500\n",
            "0.5999594914757032 162/2500\n",
            "0.6006423066133202 163/2500\n",
            "0.5993899243990706 164/2500\n",
            "0.600878908357761 165/2500\n",
            "0.6027518270998797 166/2500\n",
            "0.6041810702229216 167/2500\n",
            "0.6063092264777024 168/2500\n",
            "0.6054922885238553 169/2500\n",
            "0.6053975854601178 170/2500\n",
            "0.603843605279953 171/2500\n",
            "0.6040028608838496 172/2500\n",
            "0.6038544235059945 173/2500\n",
            "0.6025309416797557 174/2500\n",
            "0.6012522444265169 175/2500\n",
            "0.6015872598121723 176/2500\n",
            "0.6014877956940163 177/2500\n",
            "0.6009656044511749 178/2500\n",
            "0.5995783405383683 179/2500\n"
          ]
        }
      ]
    },
    {
      "cell_type": "markdown",
      "metadata": {
        "id": "SJMXTd5ewAu9"
      },
      "source": [
        "#Merges solutions into ultimate one:"
      ]
    },
    {
      "cell_type": "code",
      "metadata": {
        "id": "vvuwCpKCwAfj"
      },
      "source": [
        "ultimate_solution = []\n",
        "\n",
        "names = os.listdir(path=\"/content/drive/MyDrive/YandexCup/submits_pro\")\n",
        "if '.ipynb_checkpoints' in names:\n",
        "    names.remove('.ipynb_checkpoints')\n",
        "\n",
        "\n",
        "solutions = {name : [] for name in names}\n",
        "count = {name : 0 for name in names}\n",
        "#reading submits\n",
        "for name in names:\n",
        "    sol = []\n",
        "    with open(DRIVE_PATH + f'submits_pro/{name}', 'rt') as f:\n",
        "        for line in f:\n",
        "            sol.append(normalize(line))\n",
        "\n",
        "    solutions[name] = sol[:]\n",
        "    print(name, len(sol))\n",
        "\n",
        "for i in tqdm(range(len(texts))):\n",
        "    scores = {name : 0 for name in names}\n",
        "    for name in names:\n",
        "        scores[name] = new_checker([texts[i]], [solutions[name][i]])\n",
        "\n",
        "    best_sol_name = max(scores, key=scores.get)\n",
        "    count[best_sol_name] += 1\n",
        "    ultimate_solution.append(solutions[best_sol_name][i])\n",
        "\n",
        "\n",
        "print(count)\n",
        "print(new_checker(texts, ultimate_solution, show_res = True))"
      ],
      "execution_count": null,
      "outputs": []
    },
    {
      "cell_type": "code",
      "metadata": {
        "id": "N71AlMkawl4_"
      },
      "source": [
        "save_comments(ultimate_solution, \"BEBRA\")"
      ],
      "execution_count": null,
      "outputs": []
    },
    {
      "cell_type": "markdown",
      "metadata": {
        "id": "ciHUkq7-wuNN"
      },
      "source": [
        "#SUPER BRUTE FORCE:"
      ]
    },
    {
      "cell_type": "code",
      "metadata": {
        "id": "JsQXtsU_wwFY"
      },
      "source": [
        "solution = []\n",
        "\n",
        "with open(DRIVE_PATH + 'submits_pro/BEBRA.txt', 'rt') as f:\n",
        "    for line in f:\n",
        "        solution.append(normalize(line))"
      ],
      "execution_count": null,
      "outputs": []
    },
    {
      "cell_type": "code",
      "metadata": {
        "id": "JWJcPvGLwziz"
      },
      "source": [
        "result = new_checker(texts, solution, return_result = True)\n",
        "print(result)\n",
        "print(100*np.mean(result[\"scores\"]))"
      ],
      "execution_count": null,
      "outputs": []
    },
    {
      "cell_type": "code",
      "metadata": {
        "id": "kcJKKS3rxRRo"
      },
      "source": [
        "sorted_by_score = [[score, i, solution[i]] for i, score in enumerate(result[\"scores\"])]\n",
        "#sorted_by_score = [[toxicity, i, solution[i]] for i, toxicity in enumerate(result[\"toxicities\"])]\n",
        "sorted_by_score.sort(reverse=False)\n",
        "\n",
        "skipped = 0\n",
        "for score, i, comment in tqdm(sorted_by_score[100:400]):\n",
        "    print(i, score, comment)\n",
        "    if len(comment.split()) <= 80:\n",
        "        solution[i] = detox_letter(i, comment)\n",
        "    else:\n",
        "        skipped += 1"
      ],
      "execution_count": null,
      "outputs": []
    },
    {
      "cell_type": "code",
      "metadata": {
        "id": "Y6HPlb7wxTPR"
      },
      "source": [
        "save_comments(solution, \"BEBRA_brute\")"
      ],
      "execution_count": null,
      "outputs": []
    }
  ]
}